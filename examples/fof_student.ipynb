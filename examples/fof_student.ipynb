{
 "cells": [
  {
   "cell_type": "code",
   "execution_count": 146,
   "metadata": {},
   "outputs": [
    {
     "name": "stdout",
     "output_type": "stream",
     "text": [
      "The nb_black extension is already loaded. To reload it, use:\n",
      "  %reload_ext nb_black\n"
     ]
    },
    {
     "data": {
      "application/javascript": [
       "\n",
       "            setTimeout(function() {\n",
       "                var nbb_cell_id = 146;\n",
       "                var nbb_unformatted_code = \"%load_ext nb_black\";\n",
       "                var nbb_formatted_code = \"%load_ext nb_black\";\n",
       "                var nbb_cells = Jupyter.notebook.get_cells();\n",
       "                for (var i = 0; i < nbb_cells.length; ++i) {\n",
       "                    if (nbb_cells[i].input_prompt_number == nbb_cell_id) {\n",
       "                        if (nbb_cells[i].get_text() == nbb_unformatted_code) {\n",
       "                             nbb_cells[i].set_text(nbb_formatted_code);\n",
       "                        }\n",
       "                        break;\n",
       "                    }\n",
       "                }\n",
       "            }, 500);\n",
       "            "
      ],
      "text/plain": [
       "<IPython.core.display.Javascript object>"
      ]
     },
     "metadata": {},
     "output_type": "display_data"
    }
   ],
   "source": [
    "%load_ext nb_black"
   ]
  },
  {
   "cell_type": "code",
   "execution_count": 147,
   "metadata": {},
   "outputs": [
    {
     "data": {
      "application/javascript": [
       "\n",
       "            setTimeout(function() {\n",
       "                var nbb_cell_id = 147;\n",
       "                var nbb_unformatted_code = \"import numpy as np\\nimport matplotlib.pyplot as plt\\nimport pandas as pd\";\n",
       "                var nbb_formatted_code = \"import numpy as np\\nimport matplotlib.pyplot as plt\\nimport pandas as pd\";\n",
       "                var nbb_cells = Jupyter.notebook.get_cells();\n",
       "                for (var i = 0; i < nbb_cells.length; ++i) {\n",
       "                    if (nbb_cells[i].input_prompt_number == nbb_cell_id) {\n",
       "                        if (nbb_cells[i].get_text() == nbb_unformatted_code) {\n",
       "                             nbb_cells[i].set_text(nbb_formatted_code);\n",
       "                        }\n",
       "                        break;\n",
       "                    }\n",
       "                }\n",
       "            }, 500);\n",
       "            "
      ],
      "text/plain": [
       "<IPython.core.display.Javascript object>"
      ]
     },
     "metadata": {},
     "output_type": "display_data"
    }
   ],
   "source": [
    "import numpy as np\n",
    "import matplotlib.pyplot as plt\n",
    "import pandas as pd"
   ]
  },
  {
   "cell_type": "code",
   "execution_count": 148,
   "metadata": {},
   "outputs": [
    {
     "data": {
      "application/javascript": [
       "\n",
       "            setTimeout(function() {\n",
       "                var nbb_cell_id = 148;\n",
       "                var nbb_unformatted_code = \"# Make the figures smaller to save some screen real estate.\\n# The figures generated for the book have DPI 400, so scaling\\n# them by a factor of 4 restores them to the size in the notebooks.\\nplt.rcParams[\\\"figure.dpi\\\"] = 75\\nplt.rcParams[\\\"figure.figsize\\\"] = [6, 3.5]\";\n",
       "                var nbb_formatted_code = \"# Make the figures smaller to save some screen real estate.\\n# The figures generated for the book have DPI 400, so scaling\\n# them by a factor of 4 restores them to the size in the notebooks.\\nplt.rcParams[\\\"figure.dpi\\\"] = 75\\nplt.rcParams[\\\"figure.figsize\\\"] = [6, 3.5]\";\n",
       "                var nbb_cells = Jupyter.notebook.get_cells();\n",
       "                for (var i = 0; i < nbb_cells.length; ++i) {\n",
       "                    if (nbb_cells[i].input_prompt_number == nbb_cell_id) {\n",
       "                        if (nbb_cells[i].get_text() == nbb_unformatted_code) {\n",
       "                             nbb_cells[i].set_text(nbb_formatted_code);\n",
       "                        }\n",
       "                        break;\n",
       "                    }\n",
       "                }\n",
       "            }, 500);\n",
       "            "
      ],
      "text/plain": [
       "<IPython.core.display.Javascript object>"
      ]
     },
     "metadata": {},
     "output_type": "display_data"
    }
   ],
   "source": [
    "# Make the figures smaller to save some screen real estate.\n",
    "# The figures generated for the book have DPI 400, so scaling\n",
    "# them by a factor of 4 restores them to the size in the notebooks.\n",
    "plt.rcParams[\"figure.dpi\"] = 75\n",
    "plt.rcParams[\"figure.figsize\"] = [6, 3.5]"
   ]
  },
  {
   "cell_type": "code",
   "execution_count": 149,
   "metadata": {},
   "outputs": [
    {
     "data": {
      "application/javascript": [
       "\n",
       "            setTimeout(function() {\n",
       "                var nbb_cell_id = 149;\n",
       "                var nbb_unformatted_code = \"from utils import decorate\";\n",
       "                var nbb_formatted_code = \"from utils import decorate\";\n",
       "                var nbb_cells = Jupyter.notebook.get_cells();\n",
       "                for (var i = 0; i < nbb_cells.length; ++i) {\n",
       "                    if (nbb_cells[i].input_prompt_number == nbb_cell_id) {\n",
       "                        if (nbb_cells[i].get_text() == nbb_unformatted_code) {\n",
       "                             nbb_cells[i].set_text(nbb_formatted_code);\n",
       "                        }\n",
       "                        break;\n",
       "                    }\n",
       "                }\n",
       "            }, 500);\n",
       "            "
      ],
      "text/plain": [
       "<IPython.core.display.Javascript object>"
      ]
     },
     "metadata": {},
     "output_type": "display_data"
    }
   ],
   "source": [
    "from utils import decorate"
   ]
  },
  {
   "cell_type": "markdown",
   "metadata": {},
   "source": [
    "The following are functions from *Probably Overthinking It*, the book, that I used in the chapter on long tailed distributions."
   ]
  },
  {
   "cell_type": "code",
   "execution_count": 150,
   "metadata": {},
   "outputs": [
    {
     "data": {
      "application/javascript": [
       "\n",
       "            setTimeout(function() {\n",
       "                var nbb_cell_id = 150;\n",
       "                var nbb_unformatted_code = \"from empiricaldist import Pmf, Surv\\n\\ndef make_surv(seq):\\n    \\\"\\\"\\\"Make a non-standard survival function, P(X>=x)\\\"\\\"\\\"\\n    pmf = Pmf.from_seq(seq)\\n    surv = pmf.make_surv() + pmf\\n\\n    # correct for numerical error\\n    surv.iloc[0] = 1\\n    return Surv(surv)\";\n",
       "                var nbb_formatted_code = \"from empiricaldist import Pmf, Surv\\n\\n\\ndef make_surv(seq):\\n    \\\"\\\"\\\"Make a non-standard survival function, P(X>=x)\\\"\\\"\\\"\\n    pmf = Pmf.from_seq(seq)\\n    surv = pmf.make_surv() + pmf\\n\\n    # correct for numerical error\\n    surv.iloc[0] = 1\\n    return Surv(surv)\";\n",
       "                var nbb_cells = Jupyter.notebook.get_cells();\n",
       "                for (var i = 0; i < nbb_cells.length; ++i) {\n",
       "                    if (nbb_cells[i].input_prompt_number == nbb_cell_id) {\n",
       "                        if (nbb_cells[i].get_text() == nbb_unformatted_code) {\n",
       "                             nbb_cells[i].set_text(nbb_formatted_code);\n",
       "                        }\n",
       "                        break;\n",
       "                    }\n",
       "                }\n",
       "            }, 500);\n",
       "            "
      ],
      "text/plain": [
       "<IPython.core.display.Javascript object>"
      ]
     },
     "metadata": {},
     "output_type": "display_data"
    }
   ],
   "source": [
    "from empiricaldist import Pmf, Surv\n",
    "\n",
    "def make_surv(seq):\n",
    "    \"\"\"Make a non-standard survival function, P(X>=x)\"\"\"\n",
    "    pmf = Pmf.from_seq(seq)\n",
    "    surv = pmf.make_surv() + pmf\n",
    "\n",
    "    # correct for numerical error\n",
    "    surv.iloc[0] = 1\n",
    "    return Surv(surv)\n"
   ]
  },
  {
   "cell_type": "code",
   "execution_count": 151,
   "metadata": {},
   "outputs": [
    {
     "data": {
      "application/javascript": [
       "\n",
       "            setTimeout(function() {\n",
       "                var nbb_cell_id = 151;\n",
       "                var nbb_unformatted_code = \"from scipy.optimize import minimize\\n\\n\\ndef minimize_df(df0, surv, bounds=[(1, 1e6)], ps=None):\\n    low, high = surv.qs.min(), surv.qs.max()\\n    qs_model = np.linspace(low, high * 1.2, 2000)\\n\\n    if ps is None:\\n        t = surv.ps[0], surv.ps[-2]\\n        low, high = np.log10(t)\\n        ps = np.logspace(low, high, 30, endpoint=False)\\n\\n    qs = surv.inverse(ps)\\n\\n    def error_func_tail(params):\\n        (df,) = params\\n        # print(df)\\n        mu, sigma = fit_truncated_t(df, surv)\\n        surv_model = truncated_t_sf(qs_model, df, mu, sigma)\\n\\n        errors = np.log10(surv(qs)) - np.log10(surv_model(qs))\\n        return np.sum(errors**2)\\n\\n    params = (df0,)\\n    res = minimize(error_func_tail, x0=params, bounds=bounds, tol=1e-3, method=\\\"Powell\\\")\\n    assert res.success\\n    return res.x\";\n",
       "                var nbb_formatted_code = \"from scipy.optimize import minimize\\n\\n\\ndef minimize_df(df0, surv, bounds=[(1, 1e6)], ps=None):\\n    low, high = surv.qs.min(), surv.qs.max()\\n    qs_model = np.linspace(low, high * 1.2, 2000)\\n\\n    if ps is None:\\n        t = surv.ps[0], surv.ps[-2]\\n        low, high = np.log10(t)\\n        ps = np.logspace(low, high, 30, endpoint=False)\\n\\n    qs = surv.inverse(ps)\\n\\n    def error_func_tail(params):\\n        (df,) = params\\n        # print(df)\\n        mu, sigma = fit_truncated_t(df, surv)\\n        surv_model = truncated_t_sf(qs_model, df, mu, sigma)\\n\\n        errors = np.log10(surv(qs)) - np.log10(surv_model(qs))\\n        return np.sum(errors**2)\\n\\n    params = (df0,)\\n    res = minimize(error_func_tail, x0=params, bounds=bounds, tol=1e-3, method=\\\"Powell\\\")\\n    assert res.success\\n    return res.x\";\n",
       "                var nbb_cells = Jupyter.notebook.get_cells();\n",
       "                for (var i = 0; i < nbb_cells.length; ++i) {\n",
       "                    if (nbb_cells[i].input_prompt_number == nbb_cell_id) {\n",
       "                        if (nbb_cells[i].get_text() == nbb_unformatted_code) {\n",
       "                             nbb_cells[i].set_text(nbb_formatted_code);\n",
       "                        }\n",
       "                        break;\n",
       "                    }\n",
       "                }\n",
       "            }, 500);\n",
       "            "
      ],
      "text/plain": [
       "<IPython.core.display.Javascript object>"
      ]
     },
     "metadata": {},
     "output_type": "display_data"
    }
   ],
   "source": [
    "from scipy.optimize import minimize\n",
    "\n",
    "\n",
    "def minimize_df(df0, surv, bounds=[(1, 1e6)], ps=None):\n",
    "    low, high = surv.qs.min(), surv.qs.max()\n",
    "    qs_model = np.linspace(low, high * 1.2, 2000)\n",
    "\n",
    "    if ps is None:\n",
    "        t = surv.ps[0], surv.ps[-2]\n",
    "        low, high = np.log10(t)\n",
    "        ps = np.logspace(low, high, 30, endpoint=False)\n",
    "\n",
    "    qs = surv.inverse(ps)\n",
    "\n",
    "    def error_func_tail(params):\n",
    "        (df,) = params\n",
    "        # print(df)\n",
    "        mu, sigma = fit_truncated_t(df, surv)\n",
    "        surv_model = truncated_t_sf(qs_model, df, mu, sigma)\n",
    "\n",
    "        errors = np.log10(surv(qs)) - np.log10(surv_model(qs))\n",
    "        return np.sum(errors**2)\n",
    "\n",
    "    params = (df0,)\n",
    "    res = minimize(error_func_tail, x0=params, bounds=bounds, tol=1e-3, method=\"Powell\")\n",
    "    assert res.success\n",
    "    return res.x"
   ]
  },
  {
   "cell_type": "code",
   "execution_count": 152,
   "metadata": {},
   "outputs": [
    {
     "data": {
      "application/javascript": [
       "\n",
       "            setTimeout(function() {\n",
       "                var nbb_cell_id = 152;\n",
       "                var nbb_unformatted_code = \"def truncated_t_sf(qs, df, mu, sigma):\\n    ps = t_dist.sf(qs, df, mu, sigma)\\n    surv_model = Surv(ps / ps[0], qs)\\n    return surv_model\";\n",
       "                var nbb_formatted_code = \"def truncated_t_sf(qs, df, mu, sigma):\\n    ps = t_dist.sf(qs, df, mu, sigma)\\n    surv_model = Surv(ps / ps[0], qs)\\n    return surv_model\";\n",
       "                var nbb_cells = Jupyter.notebook.get_cells();\n",
       "                for (var i = 0; i < nbb_cells.length; ++i) {\n",
       "                    if (nbb_cells[i].input_prompt_number == nbb_cell_id) {\n",
       "                        if (nbb_cells[i].get_text() == nbb_unformatted_code) {\n",
       "                             nbb_cells[i].set_text(nbb_formatted_code);\n",
       "                        }\n",
       "                        break;\n",
       "                    }\n",
       "                }\n",
       "            }, 500);\n",
       "            "
      ],
      "text/plain": [
       "<IPython.core.display.Javascript object>"
      ]
     },
     "metadata": {},
     "output_type": "display_data"
    }
   ],
   "source": [
    "def truncated_t_sf(qs, df, mu, sigma):\n",
    "    ps = t_dist.sf(qs, df, mu, sigma)\n",
    "    surv_model = Surv(ps / ps[0], qs)\n",
    "    return surv_model"
   ]
  },
  {
   "cell_type": "code",
   "execution_count": 153,
   "metadata": {},
   "outputs": [
    {
     "data": {
      "application/javascript": [
       "\n",
       "            setTimeout(function() {\n",
       "                var nbb_cell_id = 153;\n",
       "                var nbb_unformatted_code = \"from scipy.optimize import least_squares\\n\\n\\ndef fit_truncated_t(df, surv):\\n    \\\"\\\"\\\"Given df, find the best values of mu and sigma.\\\"\\\"\\\"\\n    low, high = surv.qs.min(), surv.qs.max()\\n    qs_model = np.linspace(low, high, 1000)\\n    ps = np.linspace(0.01, 0.9, 20)\\n    qs = surv.inverse(ps)\\n\\n    def error_func_t(params, df, surv):\\n        # print(params)\\n        mu, sigma = params\\n        surv_model = truncated_t_sf(qs_model, df, mu, sigma)\\n\\n        error = surv(qs) - surv_model(qs)\\n        return error\\n\\n    pmf = surv.make_pmf()\\n    pmf.normalize()\\n    params = pmf.mean(), pmf.std()\\n    res = least_squares(error_func_t, x0=params, args=(df, surv), xtol=1e-3)\\n    assert res.success\\n    return res.x\";\n",
       "                var nbb_formatted_code = \"from scipy.optimize import least_squares\\n\\n\\ndef fit_truncated_t(df, surv):\\n    \\\"\\\"\\\"Given df, find the best values of mu and sigma.\\\"\\\"\\\"\\n    low, high = surv.qs.min(), surv.qs.max()\\n    qs_model = np.linspace(low, high, 1000)\\n    ps = np.linspace(0.01, 0.9, 20)\\n    qs = surv.inverse(ps)\\n\\n    def error_func_t(params, df, surv):\\n        # print(params)\\n        mu, sigma = params\\n        surv_model = truncated_t_sf(qs_model, df, mu, sigma)\\n\\n        error = surv(qs) - surv_model(qs)\\n        return error\\n\\n    pmf = surv.make_pmf()\\n    pmf.normalize()\\n    params = pmf.mean(), pmf.std()\\n    res = least_squares(error_func_t, x0=params, args=(df, surv), xtol=1e-3)\\n    assert res.success\\n    return res.x\";\n",
       "                var nbb_cells = Jupyter.notebook.get_cells();\n",
       "                for (var i = 0; i < nbb_cells.length; ++i) {\n",
       "                    if (nbb_cells[i].input_prompt_number == nbb_cell_id) {\n",
       "                        if (nbb_cells[i].get_text() == nbb_unformatted_code) {\n",
       "                             nbb_cells[i].set_text(nbb_formatted_code);\n",
       "                        }\n",
       "                        break;\n",
       "                    }\n",
       "                }\n",
       "            }, 500);\n",
       "            "
      ],
      "text/plain": [
       "<IPython.core.display.Javascript object>"
      ]
     },
     "metadata": {},
     "output_type": "display_data"
    }
   ],
   "source": [
    "from scipy.optimize import least_squares\n",
    "\n",
    "\n",
    "def fit_truncated_t(df, surv):\n",
    "    \"\"\"Given df, find the best values of mu and sigma.\"\"\"\n",
    "    low, high = surv.qs.min(), surv.qs.max()\n",
    "    qs_model = np.linspace(low, high, 1000)\n",
    "    ps = np.linspace(0.01, 0.9, 20)\n",
    "    qs = surv.inverse(ps)\n",
    "\n",
    "    def error_func_t(params, df, surv):\n",
    "        # print(params)\n",
    "        mu, sigma = params\n",
    "        surv_model = truncated_t_sf(qs_model, df, mu, sigma)\n",
    "\n",
    "        error = surv(qs) - surv_model(qs)\n",
    "        return error\n",
    "\n",
    "    pmf = surv.make_pmf()\n",
    "    pmf.normalize()\n",
    "    params = pmf.mean(), pmf.std()\n",
    "    res = least_squares(error_func_t, x0=params, args=(df, surv), xtol=1e-3)\n",
    "    assert res.success\n",
    "    return res.x\n"
   ]
  },
  {
   "cell_type": "code",
   "execution_count": 154,
   "metadata": {},
   "outputs": [
    {
     "data": {
      "application/javascript": [
       "\n",
       "            setTimeout(function() {\n",
       "                var nbb_cell_id = 154;\n",
       "                var nbb_unformatted_code = \"from scipy.stats import binom\\n\\n\\ndef empirical_error_bounds(surv, n, qs, con_level=0.95):\\n    \\\"\\\"\\\"Find the bounds on a CDF analytically.\\\"\\\"\\\"\\n    # find the correct probabilities\\n    ps = surv.make_cdf()(qs)\\n\\n    # find the upper and lower percentiles of\\n    # a binomial distribution\\n    p_low = (1 - con_level) / 2\\n    p_high = 1 - p_low\\n\\n    low = binom.ppf(p_low, n, ps) / n\\n    low[ps == 1] = 1\\n    high = binom.ppf(p_high, n, ps) / n\\n    return 1 - low, 1 - high\";\n",
       "                var nbb_formatted_code = \"from scipy.stats import binom\\n\\n\\ndef empirical_error_bounds(surv, n, qs, con_level=0.95):\\n    \\\"\\\"\\\"Find the bounds on a CDF analytically.\\\"\\\"\\\"\\n    # find the correct probabilities\\n    ps = surv.make_cdf()(qs)\\n\\n    # find the upper and lower percentiles of\\n    # a binomial distribution\\n    p_low = (1 - con_level) / 2\\n    p_high = 1 - p_low\\n\\n    low = binom.ppf(p_low, n, ps) / n\\n    low[ps == 1] = 1\\n    high = binom.ppf(p_high, n, ps) / n\\n    return 1 - low, 1 - high\";\n",
       "                var nbb_cells = Jupyter.notebook.get_cells();\n",
       "                for (var i = 0; i < nbb_cells.length; ++i) {\n",
       "                    if (nbb_cells[i].input_prompt_number == nbb_cell_id) {\n",
       "                        if (nbb_cells[i].get_text() == nbb_unformatted_code) {\n",
       "                             nbb_cells[i].set_text(nbb_formatted_code);\n",
       "                        }\n",
       "                        break;\n",
       "                    }\n",
       "                }\n",
       "            }, 500);\n",
       "            "
      ],
      "text/plain": [
       "<IPython.core.display.Javascript object>"
      ]
     },
     "metadata": {},
     "output_type": "display_data"
    }
   ],
   "source": [
    "from scipy.stats import binom\n",
    "\n",
    "\n",
    "def empirical_error_bounds(surv, n, qs, con_level=0.95):\n",
    "    \"\"\"Find the bounds on a CDF analytically.\"\"\"\n",
    "    # find the correct probabilities\n",
    "    ps = surv.make_cdf()(qs)\n",
    "\n",
    "    # find the upper and lower percentiles of\n",
    "    # a binomial distribution\n",
    "    p_low = (1 - con_level) / 2\n",
    "    p_high = 1 - p_low\n",
    "\n",
    "    low = binom.ppf(p_low, n, ps) / n\n",
    "    low[ps == 1] = 1\n",
    "    high = binom.ppf(p_high, n, ps) / n\n",
    "    return 1 - low, 1 - high"
   ]
  },
  {
   "cell_type": "code",
   "execution_count": 155,
   "metadata": {},
   "outputs": [
    {
     "data": {
      "application/javascript": [
       "\n",
       "            setTimeout(function() {\n",
       "                var nbb_cell_id = 155;\n",
       "                var nbb_unformatted_code = \"from utils import underride\\n\\n\\ndef plot_error_bounds(surv, n, **options):\\n    underride(options, linewidth=0, alpha=0.1, capstyle=\\\"round\\\")\\n    qs = np.linspace(surv.qs.min(), surv.qs.max(), 100)\\n    low, high = empirical_error_bounds(surv, n, qs)\\n\\n    # plt.plot(xs, med, alpha=0.5, label=label, **options)\\n    plt.fill_between(qs, low, high, **options)\";\n",
       "                var nbb_formatted_code = \"from utils import underride\\n\\n\\ndef plot_error_bounds(surv, n, **options):\\n    underride(options, linewidth=0, alpha=0.1, capstyle=\\\"round\\\")\\n    qs = np.linspace(surv.qs.min(), surv.qs.max(), 100)\\n    low, high = empirical_error_bounds(surv, n, qs)\\n\\n    # plt.plot(xs, med, alpha=0.5, label=label, **options)\\n    plt.fill_between(qs, low, high, **options)\";\n",
       "                var nbb_cells = Jupyter.notebook.get_cells();\n",
       "                for (var i = 0; i < nbb_cells.length; ++i) {\n",
       "                    if (nbb_cells[i].input_prompt_number == nbb_cell_id) {\n",
       "                        if (nbb_cells[i].get_text() == nbb_unformatted_code) {\n",
       "                             nbb_cells[i].set_text(nbb_formatted_code);\n",
       "                        }\n",
       "                        break;\n",
       "                    }\n",
       "                }\n",
       "            }, 500);\n",
       "            "
      ],
      "text/plain": [
       "<IPython.core.display.Javascript object>"
      ]
     },
     "metadata": {},
     "output_type": "display_data"
    }
   ],
   "source": [
    "from utils import underride\n",
    "\n",
    "\n",
    "def plot_error_bounds(surv, n, **options):\n",
    "    underride(options, linewidth=0, alpha=0.1, capstyle=\"round\")\n",
    "    qs = np.linspace(surv.qs.min(), surv.qs.max(), 100)\n",
    "    low, high = empirical_error_bounds(surv, n, qs)\n",
    "\n",
    "    # plt.plot(xs, med, alpha=0.5, label=label, **options)\n",
    "    plt.fill_between(qs, low, high, **options)"
   ]
  },
  {
   "cell_type": "code",
   "execution_count": 156,
   "metadata": {
    "tags": [
     "remove-cell"
    ]
   },
   "outputs": [
    {
     "data": {
      "application/javascript": [
       "\n",
       "            setTimeout(function() {\n",
       "                var nbb_cell_id = 156;\n",
       "                var nbb_unformatted_code = \"from os.path import basename, exists\\n\\n\\ndef download(url):\\n    filename = basename(url)\\n    if not exists(filename):\\n        from urllib.request import urlretrieve\\n\\n        local, _ = urlretrieve(url, filename)\\n        print(\\\"Downloaded \\\" + local)\";\n",
       "                var nbb_formatted_code = \"from os.path import basename, exists\\n\\n\\ndef download(url):\\n    filename = basename(url)\\n    if not exists(filename):\\n        from urllib.request import urlretrieve\\n\\n        local, _ = urlretrieve(url, filename)\\n        print(\\\"Downloaded \\\" + local)\";\n",
       "                var nbb_cells = Jupyter.notebook.get_cells();\n",
       "                for (var i = 0; i < nbb_cells.length; ++i) {\n",
       "                    if (nbb_cells[i].input_prompt_number == nbb_cell_id) {\n",
       "                        if (nbb_cells[i].get_text() == nbb_unformatted_code) {\n",
       "                             nbb_cells[i].set_text(nbb_formatted_code);\n",
       "                        }\n",
       "                        break;\n",
       "                    }\n",
       "                }\n",
       "            }, 500);\n",
       "            "
      ],
      "text/plain": [
       "<IPython.core.display.Javascript object>"
      ]
     },
     "metadata": {},
     "output_type": "display_data"
    }
   ],
   "source": [
    "from os.path import basename, exists\n",
    "\n",
    "\n",
    "def download(url):\n",
    "    filename = basename(url)\n",
    "    if not exists(filename):\n",
    "        from urllib.request import urlretrieve\n",
    "\n",
    "        local, _ = urlretrieve(url, filename)\n",
    "        print(\"Downloaded \" + local)"
   ]
  },
  {
   "cell_type": "markdown",
   "metadata": {},
   "source": [
    "## Student-t Distribution\n",
    "\n",
    "The following section develops and tests the function I use to estimate the parameters of a Student-t distribution."
   ]
  },
  {
   "cell_type": "code",
   "execution_count": 165,
   "metadata": {},
   "outputs": [
    {
     "data": {
      "application/javascript": [
       "\n",
       "            setTimeout(function() {\n",
       "                var nbb_cell_id = 165;\n",
       "                var nbb_unformatted_code = \"from scipy.stats import t as t_dist\\n\\nmu = 0\\nsigma = 1\\ndf = 15\\n\\nrvs = t_dist(df, mu, sigma).rvs(size=1000000)\";\n",
       "                var nbb_formatted_code = \"from scipy.stats import t as t_dist\\n\\nmu = 0\\nsigma = 1\\ndf = 15\\n\\nrvs = t_dist(df, mu, sigma).rvs(size=1000000)\";\n",
       "                var nbb_cells = Jupyter.notebook.get_cells();\n",
       "                for (var i = 0; i < nbb_cells.length; ++i) {\n",
       "                    if (nbb_cells[i].input_prompt_number == nbb_cell_id) {\n",
       "                        if (nbb_cells[i].get_text() == nbb_unformatted_code) {\n",
       "                             nbb_cells[i].set_text(nbb_formatted_code);\n",
       "                        }\n",
       "                        break;\n",
       "                    }\n",
       "                }\n",
       "            }, 500);\n",
       "            "
      ],
      "text/plain": [
       "<IPython.core.display.Javascript object>"
      ]
     },
     "metadata": {},
     "output_type": "display_data"
    }
   ],
   "source": [
    "from scipy.stats import t as t_dist\n",
    "\n",
    "mu = 0\n",
    "sigma = 1\n",
    "df = 15\n",
    "\n",
    "rvs = t_dist(df, mu, sigma).rvs(size=1000000)"
   ]
  },
  {
   "cell_type": "code",
   "execution_count": 158,
   "metadata": {},
   "outputs": [
    {
     "data": {
      "application/javascript": [
       "\n",
       "            setTimeout(function() {\n",
       "                var nbb_cell_id = 158;\n",
       "                var nbb_unformatted_code = \"mags = pd.Series(rvs)\";\n",
       "                var nbb_formatted_code = \"mags = pd.Series(rvs)\";\n",
       "                var nbb_cells = Jupyter.notebook.get_cells();\n",
       "                for (var i = 0; i < nbb_cells.length; ++i) {\n",
       "                    if (nbb_cells[i].input_prompt_number == nbb_cell_id) {\n",
       "                        if (nbb_cells[i].get_text() == nbb_unformatted_code) {\n",
       "                             nbb_cells[i].set_text(nbb_formatted_code);\n",
       "                        }\n",
       "                        break;\n",
       "                    }\n",
       "                }\n",
       "            }, 500);\n",
       "            "
      ],
      "text/plain": [
       "<IPython.core.display.Javascript object>"
      ]
     },
     "metadata": {},
     "output_type": "display_data"
    }
   ],
   "source": [
    "mags = pd.Series(rvs)"
   ]
  },
  {
   "cell_type": "code",
   "execution_count": 159,
   "metadata": {},
   "outputs": [
    {
     "data": {
      "text/plain": [
       "True"
      ]
     },
     "execution_count": 159,
     "metadata": {},
     "output_type": "execute_result"
    },
    {
     "data": {
      "application/javascript": [
       "\n",
       "            setTimeout(function() {\n",
       "                var nbb_cell_id = 159;\n",
       "                var nbb_unformatted_code = \"surv = make_surv(mags)\\nsurv.ps[0] == 1\";\n",
       "                var nbb_formatted_code = \"surv = make_surv(mags)\\nsurv.ps[0] == 1\";\n",
       "                var nbb_cells = Jupyter.notebook.get_cells();\n",
       "                for (var i = 0; i < nbb_cells.length; ++i) {\n",
       "                    if (nbb_cells[i].input_prompt_number == nbb_cell_id) {\n",
       "                        if (nbb_cells[i].get_text() == nbb_unformatted_code) {\n",
       "                             nbb_cells[i].set_text(nbb_formatted_code);\n",
       "                        }\n",
       "                        break;\n",
       "                    }\n",
       "                }\n",
       "            }, 500);\n",
       "            "
      ],
      "text/plain": [
       "<IPython.core.display.Javascript object>"
      ]
     },
     "metadata": {},
     "output_type": "display_data"
    }
   ],
   "source": [
    "surv = make_surv(mags)\n",
    "surv.ps[0] == 1"
   ]
  },
  {
   "cell_type": "code",
   "execution_count": 160,
   "metadata": {
    "scrolled": true,
    "tags": [
     "remove-cell"
    ]
   },
   "outputs": [
    {
     "data": {
      "image/png": "[encoded data removed]",
      "text/plain": [
       "<Figure size 450x262.5 with 1 Axes>"
      ]
     },
     "metadata": {},
     "output_type": "display_data"
    },
    {
     "data": {
      "application/javascript": [
       "\n",
       "            setTimeout(function() {\n",
       "                var nbb_cell_id = 160;\n",
       "                var nbb_unformatted_code = \"surv.plot()\\ndecorate()\";\n",
       "                var nbb_formatted_code = \"surv.plot()\\ndecorate()\";\n",
       "                var nbb_cells = Jupyter.notebook.get_cells();\n",
       "                for (var i = 0; i < nbb_cells.length; ++i) {\n",
       "                    if (nbb_cells[i].input_prompt_number == nbb_cell_id) {\n",
       "                        if (nbb_cells[i].get_text() == nbb_unformatted_code) {\n",
       "                             nbb_cells[i].set_text(nbb_formatted_code);\n",
       "                        }\n",
       "                        break;\n",
       "                    }\n",
       "                }\n",
       "            }, 500);\n",
       "            "
      ],
      "text/plain": [
       "<IPython.core.display.Javascript object>"
      ]
     },
     "metadata": {},
     "output_type": "display_data"
    }
   ],
   "source": [
    "surv.plot()\n",
    "decorate()"
   ]
  },
  {
   "cell_type": "markdown",
   "metadata": {},
   "source": [
    "## Fit a Student t"
   ]
  },
  {
   "cell_type": "code",
   "execution_count": 161,
   "metadata": {},
   "outputs": [
    {
     "data": {
      "application/javascript": [
       "\n",
       "            setTimeout(function() {\n",
       "                var nbb_cell_id = 161;\n",
       "                var nbb_unformatted_code = \"def make_model(surv, start=5, bounds=(1, 100)):\\n    df = minimize_df(start, surv, [bounds])\\n    print(df)\\n\\n    mu, sigma = fit_truncated_t(df, surv)\\n    print(mu, sigma)\\n\\n    low, high = surv.qs.min(), surv.qs.max()\\n    qs = np.linspace(low, 1.1 * high, 1000)\\n    surv_model = truncated_t_sf(qs, df, mu, sigma)\\n\\n    return surv_model\";\n",
       "                var nbb_formatted_code = \"def make_model(surv, start=5, bounds=(1, 100)):\\n    df = minimize_df(start, surv, [bounds])\\n    print(df)\\n\\n    mu, sigma = fit_truncated_t(df, surv)\\n    print(mu, sigma)\\n\\n    low, high = surv.qs.min(), surv.qs.max()\\n    qs = np.linspace(low, 1.1 * high, 1000)\\n    surv_model = truncated_t_sf(qs, df, mu, sigma)\\n\\n    return surv_model\";\n",
       "                var nbb_cells = Jupyter.notebook.get_cells();\n",
       "                for (var i = 0; i < nbb_cells.length; ++i) {\n",
       "                    if (nbb_cells[i].input_prompt_number == nbb_cell_id) {\n",
       "                        if (nbb_cells[i].get_text() == nbb_unformatted_code) {\n",
       "                             nbb_cells[i].set_text(nbb_formatted_code);\n",
       "                        }\n",
       "                        break;\n",
       "                    }\n",
       "                }\n",
       "            }, 500);\n",
       "            "
      ],
      "text/plain": [
       "<IPython.core.display.Javascript object>"
      ]
     },
     "metadata": {},
     "output_type": "display_data"
    }
   ],
   "source": [
    "def make_model(surv, start=5, bounds=(1, 100)):\n",
    "    df = minimize_df(start, surv, [bounds])\n",
    "    print(df)\n",
    "\n",
    "    mu, sigma = fit_truncated_t(df, surv)\n",
    "    print(mu, sigma)\n",
    "\n",
    "    low, high = surv.qs.min(), surv.qs.max()\n",
    "    qs = np.linspace(low, 1.1 * high, 1000)\n",
    "    surv_model = truncated_t_sf(qs, df, mu, sigma)\n",
    "\n",
    "    return surv_model"
   ]
  },
  {
   "cell_type": "code",
   "execution_count": 162,
   "metadata": {
    "tags": [
     "remove-cell"
    ]
   },
   "outputs": [
    {
     "data": {
      "application/javascript": [
       "\n",
       "            setTimeout(function() {\n",
       "                var nbb_cell_id = 162;\n",
       "                var nbb_unformatted_code = \"def plot_two(surv, surv_model, n, hatch=None, title=\\\"\\\"):\\n    \\\"\\\"\\\"Plots tail distributions on linear-y and log-y scales\\n\\n    surv: Surv\\n    surv_model: Surv\\n    n: sample size passed to plot_error_bounds\\n    hatch: string passed to fill_between\\n    title: string title\\n\\n    Uses global variables model_label, ylabel, xlabel, xticks, yticks, xlabels, ylabels\\n    \\\"\\\"\\\"\\n    fig, axs = plt.subplots(2, 1, figsize=(6, 5), sharex=True)\\n\\n    plt.sca(axs[0])\\n    surv_model.plot(color=\\\"gray\\\", alpha=0.4, label=model_label)\\n    if n < 1000:\\n        plot_error_bounds(Surv(surv_model), n, color=\\\"gray\\\")\\n    surv.plot(color=\\\"C1\\\", ls=\\\"--\\\", label=\\\"Data\\\")\\n    decorate(ylabel=ylabel, title=title)\\n\\n    plt.sca(axs[1])\\n    surv_model.plot(color=\\\"gray\\\", alpha=0.4, label=model_label)\\n    plot_error_bounds(Surv(surv_model), n, color=\\\"gray\\\", hatch=hatch)\\n    surv.plot(color=\\\"C2\\\", ls=\\\"--\\\", label=\\\"Data\\\")\\n    decorate(xlabel=xlabel, ylabel=ylabel, yscale=\\\"log\\\")\\n    # plt.xticks(xticks, xlabels)\\n    # plt.yticks(yticks, ylabels)\\n\\n    plt.tight_layout()\\n    return axs\";\n",
       "                var nbb_formatted_code = \"def plot_two(surv, surv_model, n, hatch=None, title=\\\"\\\"):\\n    \\\"\\\"\\\"Plots tail distributions on linear-y and log-y scales\\n\\n    surv: Surv\\n    surv_model: Surv\\n    n: sample size passed to plot_error_bounds\\n    hatch: string passed to fill_between\\n    title: string title\\n\\n    Uses global variables model_label, ylabel, xlabel, xticks, yticks, xlabels, ylabels\\n    \\\"\\\"\\\"\\n    fig, axs = plt.subplots(2, 1, figsize=(6, 5), sharex=True)\\n\\n    plt.sca(axs[0])\\n    surv_model.plot(color=\\\"gray\\\", alpha=0.4, label=model_label)\\n    if n < 1000:\\n        plot_error_bounds(Surv(surv_model), n, color=\\\"gray\\\")\\n    surv.plot(color=\\\"C1\\\", ls=\\\"--\\\", label=\\\"Data\\\")\\n    decorate(ylabel=ylabel, title=title)\\n\\n    plt.sca(axs[1])\\n    surv_model.plot(color=\\\"gray\\\", alpha=0.4, label=model_label)\\n    plot_error_bounds(Surv(surv_model), n, color=\\\"gray\\\", hatch=hatch)\\n    surv.plot(color=\\\"C2\\\", ls=\\\"--\\\", label=\\\"Data\\\")\\n    decorate(xlabel=xlabel, ylabel=ylabel, yscale=\\\"log\\\")\\n    # plt.xticks(xticks, xlabels)\\n    # plt.yticks(yticks, ylabels)\\n\\n    plt.tight_layout()\\n    return axs\";\n",
       "                var nbb_cells = Jupyter.notebook.get_cells();\n",
       "                for (var i = 0; i < nbb_cells.length; ++i) {\n",
       "                    if (nbb_cells[i].input_prompt_number == nbb_cell_id) {\n",
       "                        if (nbb_cells[i].get_text() == nbb_unformatted_code) {\n",
       "                             nbb_cells[i].set_text(nbb_formatted_code);\n",
       "                        }\n",
       "                        break;\n",
       "                    }\n",
       "                }\n",
       "            }, 500);\n",
       "            "
      ],
      "text/plain": [
       "<IPython.core.display.Javascript object>"
      ]
     },
     "metadata": {},
     "output_type": "display_data"
    }
   ],
   "source": [
    "def plot_two(surv, surv_model, n, hatch=None, title=\"\"):\n",
    "    \"\"\"Plots tail distributions on linear-y and log-y scales\n",
    "\n",
    "    surv: Surv\n",
    "    surv_model: Surv\n",
    "    n: sample size passed to plot_error_bounds\n",
    "    hatch: string passed to fill_between\n",
    "    title: string title\n",
    "\n",
    "    Uses global variables model_label, ylabel, xlabel, xticks, yticks, xlabels, ylabels\n",
    "    \"\"\"\n",
    "    fig, axs = plt.subplots(2, 1, figsize=(6, 5), sharex=True)\n",
    "\n",
    "    plt.sca(axs[0])\n",
    "    surv_model.plot(color=\"gray\", alpha=0.4, label=model_label)\n",
    "    if n < 1000:\n",
    "        plot_error_bounds(Surv(surv_model), n, color=\"gray\")\n",
    "    surv.plot(color=\"C1\", ls=\"--\", label=\"Data\")\n",
    "    decorate(ylabel=ylabel, title=title)\n",
    "\n",
    "    plt.sca(axs[1])\n",
    "    surv_model.plot(color=\"gray\", alpha=0.4, label=model_label)\n",
    "    plot_error_bounds(Surv(surv_model), n, color=\"gray\", hatch=hatch)\n",
    "    surv.plot(color=\"C2\", ls=\"--\", label=\"Data\")\n",
    "    decorate(xlabel=xlabel, ylabel=ylabel, yscale=\"log\")\n",
    "    # plt.xticks(xticks, xlabels)\n",
    "    # plt.yticks(yticks, ylabels)\n",
    "\n",
    "    plt.tight_layout()\n",
    "    return axs"
   ]
  },
  {
   "cell_type": "code",
   "execution_count": 163,
   "metadata": {},
   "outputs": [
    {
     "name": "stdout",
     "output_type": "stream",
     "text": [
      "[82.1744459]\n",
      "-0.006242494611642366 0.9988232415205027\n"
     ]
    },
    {
     "data": {
      "application/javascript": [
       "\n",
       "            setTimeout(function() {\n",
       "                var nbb_cell_id = 163;\n",
       "                var nbb_unformatted_code = \"surv_model = make_model(surv)\";\n",
       "                var nbb_formatted_code = \"surv_model = make_model(surv)\";\n",
       "                var nbb_cells = Jupyter.notebook.get_cells();\n",
       "                for (var i = 0; i < nbb_cells.length; ++i) {\n",
       "                    if (nbb_cells[i].input_prompt_number == nbb_cell_id) {\n",
       "                        if (nbb_cells[i].get_text() == nbb_unformatted_code) {\n",
       "                             nbb_cells[i].set_text(nbb_formatted_code);\n",
       "                        }\n",
       "                        break;\n",
       "                    }\n",
       "                }\n",
       "            }, 500);\n",
       "            "
      ],
      "text/plain": [
       "<IPython.core.display.Javascript object>"
      ]
     },
     "metadata": {},
     "output_type": "display_data"
    }
   ],
   "source": [
    "surv_model = make_model(surv)"
   ]
  },
  {
   "cell_type": "code",
   "execution_count": 164,
   "metadata": {},
   "outputs": [
    {
     "data": {
      "image/png": "[encoded data removed]",
      "text/plain": [
       "<Figure size 450x375 with 2 Axes>"
      ]
     },
     "metadata": {},
     "output_type": "display_data"
    },
    {
     "data": {
      "application/javascript": [
       "\n",
       "            setTimeout(function() {\n",
       "                var nbb_cell_id = 164;\n",
       "                var nbb_unformatted_code = \"model_label = \\\"model\\\"\\nxlabel = \\\"x\\\"\\nylabel = \\\"Fraction \\u2265 x\\\"\\naxs = plot_two(surv, surv_model, len(mags))\";\n",
       "                var nbb_formatted_code = \"model_label = \\\"model\\\"\\nxlabel = \\\"x\\\"\\nylabel = \\\"Fraction \\u2265 x\\\"\\naxs = plot_two(surv, surv_model, len(mags))\";\n",
       "                var nbb_cells = Jupyter.notebook.get_cells();\n",
       "                for (var i = 0; i < nbb_cells.length; ++i) {\n",
       "                    if (nbb_cells[i].input_prompt_number == nbb_cell_id) {\n",
       "                        if (nbb_cells[i].get_text() == nbb_unformatted_code) {\n",
       "                             nbb_cells[i].set_text(nbb_formatted_code);\n",
       "                        }\n",
       "                        break;\n",
       "                    }\n",
       "                }\n",
       "            }, 500);\n",
       "            "
      ],
      "text/plain": [
       "<IPython.core.display.Javascript object>"
      ]
     },
     "metadata": {},
     "output_type": "display_data"
    }
   ],
   "source": [
    "model_label = \"model\"\n",
    "xlabel = \"x\"\n",
    "ylabel = \"Fraction ≥ x\"\n",
    "axs = plot_two(surv, surv_model, len(mags))"
   ]
  },
  {
   "cell_type": "markdown",
   "metadata": {},
   "source": [
    "The student t model is useful for exploring debates about whether a distribution is more like lognormal or more like Pareto.\n",
    "\n",
    "As `df` approaches 100, the t distribution approaches Gaussian, and the tail has negative curvature throughout.\n",
    "When `df` is near 15, it has a straight line tail.\n",
    "With smaller values of `df`, the tail has positive curvature."
   ]
  },
  {
   "cell_type": "markdown",
   "metadata": {},
   "source": [
    "## Real data"
   ]
  },
  {
   "cell_type": "code",
   "execution_count": null,
   "metadata": {},
   "outputs": [],
   "source": [
    "# download utils.py\n",
    "\n",
    "from os.path import basename, exists\n",
    "\n",
    "def download(url):\n",
    "    filename = basename(url)\n",
    "    if not exists(filename):\n",
    "        from urllib.request import urlretrieve\n",
    "        local, _ = urlretrieve(url, filename)\n",
    "        print('Downloaded ' + local)\n",
    "        \n",
    "download(\"https://github.com/AllenDowney/ProbablyOverthinkingIt/raw/book/notebooks/utils.py\")"
   ]
  },
  {
   "cell_type": "code",
   "execution_count": 166,
   "metadata": {},
   "outputs": [
    {
     "name": "stdout",
     "output_type": "stream",
     "text": [
      "Downloaded quake.csv\n"
     ]
    },
    {
     "data": {
      "application/javascript": [
       "\n",
       "            setTimeout(function() {\n",
       "                var nbb_cell_id = 166;\n",
       "                var nbb_unformatted_code = \"DATA_PATH = \\\"https://github.com/AllenDowney/ProbablyOverthinkingIt/raw/book/data/\\\"\\nfilename = \\\"quake.csv\\\"\\ndownload(DATA_PATH + filename)\";\n",
       "                var nbb_formatted_code = \"DATA_PATH = \\\"https://github.com/AllenDowney/ProbablyOverthinkingIt/raw/book/data/\\\"\\nfilename = \\\"quake.csv\\\"\\ndownload(DATA_PATH + filename)\";\n",
       "                var nbb_cells = Jupyter.notebook.get_cells();\n",
       "                for (var i = 0; i < nbb_cells.length; ++i) {\n",
       "                    if (nbb_cells[i].input_prompt_number == nbb_cell_id) {\n",
       "                        if (nbb_cells[i].get_text() == nbb_unformatted_code) {\n",
       "                             nbb_cells[i].set_text(nbb_formatted_code);\n",
       "                        }\n",
       "                        break;\n",
       "                    }\n",
       "                }\n",
       "            }, 500);\n",
       "            "
      ],
      "text/plain": [
       "<IPython.core.display.Javascript object>"
      ]
     },
     "metadata": {},
     "output_type": "display_data"
    }
   ],
   "source": [
    "DATA_PATH = \"https://github.com/AllenDowney/ProbablyOverthinkingIt/raw/book/data/\"\n",
    "filename = \"quake.csv\"\n",
    "download(DATA_PATH + filename)"
   ]
  },
  {
   "cell_type": "code",
   "execution_count": 167,
   "metadata": {},
   "outputs": [
    {
     "data": {
      "text/plain": [
       "(803451, 4)"
      ]
     },
     "execution_count": 167,
     "metadata": {},
     "output_type": "execute_result"
    },
    {
     "data": {
      "application/javascript": [
       "\n",
       "            setTimeout(function() {\n",
       "                var nbb_cell_id = 167;\n",
       "                var nbb_unformatted_code = \"quake_df = pd.read_csv(filename, low_memory=False)\\nquake_df.shape\";\n",
       "                var nbb_formatted_code = \"quake_df = pd.read_csv(filename, low_memory=False)\\nquake_df.shape\";\n",
       "                var nbb_cells = Jupyter.notebook.get_cells();\n",
       "                for (var i = 0; i < nbb_cells.length; ++i) {\n",
       "                    if (nbb_cells[i].input_prompt_number == nbb_cell_id) {\n",
       "                        if (nbb_cells[i].get_text() == nbb_unformatted_code) {\n",
       "                             nbb_cells[i].set_text(nbb_formatted_code);\n",
       "                        }\n",
       "                        break;\n",
       "                    }\n",
       "                }\n",
       "            }, 500);\n",
       "            "
      ],
      "text/plain": [
       "<IPython.core.display.Javascript object>"
      ]
     },
     "metadata": {},
     "output_type": "display_data"
    }
   ],
   "source": [
    "quake_df = pd.read_csv(filename, low_memory=False)\n",
    "quake_df.shape"
   ]
  },
  {
   "cell_type": "code",
   "execution_count": 168,
   "metadata": {},
   "outputs": [
    {
     "data": {
      "text/plain": [
       "count    803451.000000\n",
       "mean          1.388616\n",
       "std           0.658252\n",
       "min           0.000000\n",
       "25%           0.900000\n",
       "50%           1.300000\n",
       "75%           1.800000\n",
       "max           7.300000\n",
       "Name: MAG, dtype: float64"
      ]
     },
     "execution_count": 168,
     "metadata": {},
     "output_type": "execute_result"
    },
    {
     "data": {
      "application/javascript": [
       "\n",
       "            setTimeout(function() {\n",
       "                var nbb_cell_id = 168;\n",
       "                var nbb_unformatted_code = \"mags = quake_df[\\\"MAG\\\"]\\nmags.describe()\";\n",
       "                var nbb_formatted_code = \"mags = quake_df[\\\"MAG\\\"]\\nmags.describe()\";\n",
       "                var nbb_cells = Jupyter.notebook.get_cells();\n",
       "                for (var i = 0; i < nbb_cells.length; ++i) {\n",
       "                    if (nbb_cells[i].input_prompt_number == nbb_cell_id) {\n",
       "                        if (nbb_cells[i].get_text() == nbb_unformatted_code) {\n",
       "                             nbb_cells[i].set_text(nbb_formatted_code);\n",
       "                        }\n",
       "                        break;\n",
       "                    }\n",
       "                }\n",
       "            }, 500);\n",
       "            "
      ],
      "text/plain": [
       "<IPython.core.display.Javascript object>"
      ]
     },
     "metadata": {},
     "output_type": "display_data"
    }
   ],
   "source": [
    "mags = quake_df[\"MAG\"]\n",
    "mags.describe()"
   ]
  },
  {
   "cell_type": "code",
   "execution_count": 169,
   "metadata": {},
   "outputs": [
    {
     "data": {
      "application/javascript": [
       "\n",
       "            setTimeout(function() {\n",
       "                var nbb_cell_id = 169;\n",
       "                var nbb_unformatted_code = \"n = mags.count()\\nsurv = make_surv(mags)\";\n",
       "                var nbb_formatted_code = \"n = mags.count()\\nsurv = make_surv(mags)\";\n",
       "                var nbb_cells = Jupyter.notebook.get_cells();\n",
       "                for (var i = 0; i < nbb_cells.length; ++i) {\n",
       "                    if (nbb_cells[i].input_prompt_number == nbb_cell_id) {\n",
       "                        if (nbb_cells[i].get_text() == nbb_unformatted_code) {\n",
       "                             nbb_cells[i].set_text(nbb_formatted_code);\n",
       "                        }\n",
       "                        break;\n",
       "                    }\n",
       "                }\n",
       "            }, 500);\n",
       "            "
      ],
      "text/plain": [
       "<IPython.core.display.Javascript object>"
      ]
     },
     "metadata": {},
     "output_type": "display_data"
    }
   ],
   "source": [
    "n = mags.count()\n",
    "surv = make_surv(mags)"
   ]
  },
  {
   "cell_type": "code",
   "execution_count": 170,
   "metadata": {},
   "outputs": [
    {
     "data": {
      "text/plain": [
       "(array([9.076386]), 1.363455560430928, 0.6375531964743555)"
      ]
     },
     "execution_count": 170,
     "metadata": {},
     "output_type": "execute_result"
    },
    {
     "data": {
      "application/javascript": [
       "\n",
       "            setTimeout(function() {\n",
       "                var nbb_cell_id = 170;\n",
       "                var nbb_unformatted_code = \"df = minimize_df(10, surv, [(0, 20)])\\nmu, sigma = fit_truncated_t(df, surv)\\ndf, mu, sigma\";\n",
       "                var nbb_formatted_code = \"df = minimize_df(10, surv, [(0, 20)])\\nmu, sigma = fit_truncated_t(df, surv)\\ndf, mu, sigma\";\n",
       "                var nbb_cells = Jupyter.notebook.get_cells();\n",
       "                for (var i = 0; i < nbb_cells.length; ++i) {\n",
       "                    if (nbb_cells[i].input_prompt_number == nbb_cell_id) {\n",
       "                        if (nbb_cells[i].get_text() == nbb_unformatted_code) {\n",
       "                             nbb_cells[i].set_text(nbb_formatted_code);\n",
       "                        }\n",
       "                        break;\n",
       "                    }\n",
       "                }\n",
       "            }, 500);\n",
       "            "
      ],
      "text/plain": [
       "<IPython.core.display.Javascript object>"
      ]
     },
     "metadata": {},
     "output_type": "display_data"
    }
   ],
   "source": [
    "df = minimize_df(10, surv, [(0, 20)])\n",
    "mu, sigma = fit_truncated_t(df, surv)\n",
    "df, mu, sigma"
   ]
  },
  {
   "cell_type": "code",
   "execution_count": 171,
   "metadata": {},
   "outputs": [
    {
     "data": {
      "application/javascript": [
       "\n",
       "            setTimeout(function() {\n",
       "                var nbb_cell_id = 171;\n",
       "                var nbb_unformatted_code = \"low, high = surv.qs.min(), surv.qs.max()\\nqs = np.linspace(low, 1.1 * high, 2000)\\nsurv_model2 = truncated_t_sf(qs, df, mu, sigma)\";\n",
       "                var nbb_formatted_code = \"low, high = surv.qs.min(), surv.qs.max()\\nqs = np.linspace(low, 1.1 * high, 2000)\\nsurv_model2 = truncated_t_sf(qs, df, mu, sigma)\";\n",
       "                var nbb_cells = Jupyter.notebook.get_cells();\n",
       "                for (var i = 0; i < nbb_cells.length; ++i) {\n",
       "                    if (nbb_cells[i].input_prompt_number == nbb_cell_id) {\n",
       "                        if (nbb_cells[i].get_text() == nbb_unformatted_code) {\n",
       "                             nbb_cells[i].set_text(nbb_formatted_code);\n",
       "                        }\n",
       "                        break;\n",
       "                    }\n",
       "                }\n",
       "            }, 500);\n",
       "            "
      ],
      "text/plain": [
       "<IPython.core.display.Javascript object>"
      ]
     },
     "metadata": {},
     "output_type": "display_data"
    }
   ],
   "source": [
    "low, high = surv.qs.min(), surv.qs.max()\n",
    "qs = np.linspace(low, 1.1 * high, 2000)\n",
    "surv_model2 = truncated_t_sf(qs, df, mu, sigma)"
   ]
  },
  {
   "cell_type": "code",
   "execution_count": 172,
   "metadata": {},
   "outputs": [
    {
     "data": {
      "image/png": "[encoded data removed]",
      "text/plain": [
       "<Figure size 450x375 with 2 Axes>"
      ]
     },
     "metadata": {},
     "output_type": "display_data"
    },
    {
     "data": {
      "application/javascript": [
       "\n",
       "            setTimeout(function() {\n",
       "                var nbb_cell_id = 172;\n",
       "                var nbb_unformatted_code = \"model_label = \\\"Log-$t$ model\\\"\\nxticks = np.arange(9)\\nxlabels = xticks\\naxs = plot_two(\\n    surv,\\n    surv_model2,\\n    n,\\n    hatch=\\\"/\\\",\\n    title=\\\"Earthquake magnitudes with log-$t$ model\\\",\\n)\\n#plt.plot(8, y8, \\\"s\\\", color=\\\"C0\\\", alpha=0.6)\\n#plt.plot(8, y522, \\\"o\\\", color=\\\"C1\\\", alpha=0.6)\\n\\nplt.tight_layout()\\nplt.savefig(\\\"longtail7.png\\\", dpi=600)\";\n",
       "                var nbb_formatted_code = \"model_label = \\\"Log-$t$ model\\\"\\nxticks = np.arange(9)\\nxlabels = xticks\\naxs = plot_two(\\n    surv,\\n    surv_model2,\\n    n,\\n    hatch=\\\"/\\\",\\n    title=\\\"Earthquake magnitudes with log-$t$ model\\\",\\n)\\n# plt.plot(8, y8, \\\"s\\\", color=\\\"C0\\\", alpha=0.6)\\n# plt.plot(8, y522, \\\"o\\\", color=\\\"C1\\\", alpha=0.6)\\n\\nplt.tight_layout()\\nplt.savefig(\\\"longtail7.png\\\", dpi=600)\";\n",
       "                var nbb_cells = Jupyter.notebook.get_cells();\n",
       "                for (var i = 0; i < nbb_cells.length; ++i) {\n",
       "                    if (nbb_cells[i].input_prompt_number == nbb_cell_id) {\n",
       "                        if (nbb_cells[i].get_text() == nbb_unformatted_code) {\n",
       "                             nbb_cells[i].set_text(nbb_formatted_code);\n",
       "                        }\n",
       "                        break;\n",
       "                    }\n",
       "                }\n",
       "            }, 500);\n",
       "            "
      ],
      "text/plain": [
       "<IPython.core.display.Javascript object>"
      ]
     },
     "metadata": {},
     "output_type": "display_data"
    }
   ],
   "source": [
    "model_label = \"Log-$t$ model\"\n",
    "xticks = np.arange(9)\n",
    "xlabels = xticks\n",
    "axs = plot_two(\n",
    "    surv,\n",
    "    surv_model2,\n",
    "    n,\n",
    "    hatch=\"/\",\n",
    "    title=\"Earthquake magnitudes with log-$t$ model\",\n",
    ")\n",
    "plt.tight_layout()"
   ]
  },
  {
   "cell_type": "code",
   "execution_count": null,
   "metadata": {},
   "outputs": [],
   "source": []
  },
  {
   "cell_type": "markdown",
   "metadata": {},
   "source": [
    "## Facebook data"
   ]
  },
  {
   "cell_type": "markdown",
   "metadata": {},
   "source": [
    "The following function reads a file with one edge per line, specified by two integer node IDs."
   ]
  },
  {
   "cell_type": "code",
   "execution_count": 90,
   "metadata": {},
   "outputs": [
    {
     "data": {
      "application/javascript": [
       "\n",
       "            setTimeout(function() {\n",
       "                var nbb_cell_id = 90;\n",
       "                var nbb_unformatted_code = \"import networkx as nx\\n\\ndef read_graph(filename):\\n    G = nx.Graph()\\n    array = np.loadtxt(filename, dtype=int)\\n    G.add_edges_from(array)\\n    return G\";\n",
       "                var nbb_formatted_code = \"import networkx as nx\\n\\n\\ndef read_graph(filename):\\n    G = nx.Graph()\\n    array = np.loadtxt(filename, dtype=int)\\n    G.add_edges_from(array)\\n    return G\";\n",
       "                var nbb_cells = Jupyter.notebook.get_cells();\n",
       "                for (var i = 0; i < nbb_cells.length; ++i) {\n",
       "                    if (nbb_cells[i].input_prompt_number == nbb_cell_id) {\n",
       "                        if (nbb_cells[i].get_text() == nbb_unformatted_code) {\n",
       "                             nbb_cells[i].set_text(nbb_formatted_code);\n",
       "                        }\n",
       "                        break;\n",
       "                    }\n",
       "                }\n",
       "            }, 500);\n",
       "            "
      ],
      "text/plain": [
       "<IPython.core.display.Javascript object>"
      ]
     },
     "metadata": {},
     "output_type": "display_data"
    }
   ],
   "source": [
    "import networkx as nx\n",
    "\n",
    "\n",
    "def read_graph(filename):\n",
    "    G = nx.Graph()\n",
    "    array = np.loadtxt(filename, dtype=int)\n",
    "    G.add_edges_from(array)\n",
    "    return G"
   ]
  },
  {
   "cell_type": "markdown",
   "metadata": {},
   "source": [
    "We'll read the Facecook data downloaded from [SNAP](https://snap.stanford.edu/data/egonets-Facebook.html)"
   ]
  },
  {
   "cell_type": "code",
   "execution_count": 91,
   "metadata": {},
   "outputs": [
    {
     "data": {
      "text/plain": [
       "(4039, 88234)"
      ]
     },
     "execution_count": 91,
     "metadata": {},
     "output_type": "execute_result"
    },
    {
     "data": {
      "application/javascript": [
       "\n",
       "            setTimeout(function() {\n",
       "                var nbb_cell_id = 91;\n",
       "                var nbb_unformatted_code = \"# https://snap.stanford.edu/data/facebook_combined.txt.gz\\n\\nfb = read_graph(\\\"../data/facebook_combined.txt.gz\\\")\\nn = len(fb)\\nm = len(fb.edges())\\nn, m\";\n",
       "                var nbb_formatted_code = \"# https://snap.stanford.edu/data/facebook_combined.txt.gz\\n\\nfb = read_graph(\\\"../data/facebook_combined.txt.gz\\\")\\nn = len(fb)\\nm = len(fb.edges())\\nn, m\";\n",
       "                var nbb_cells = Jupyter.notebook.get_cells();\n",
       "                for (var i = 0; i < nbb_cells.length; ++i) {\n",
       "                    if (nbb_cells[i].input_prompt_number == nbb_cell_id) {\n",
       "                        if (nbb_cells[i].get_text() == nbb_unformatted_code) {\n",
       "                             nbb_cells[i].set_text(nbb_formatted_code);\n",
       "                        }\n",
       "                        break;\n",
       "                    }\n",
       "                }\n",
       "            }, 500);\n",
       "            "
      ],
      "text/plain": [
       "<IPython.core.display.Javascript object>"
      ]
     },
     "metadata": {},
     "output_type": "display_data"
    }
   ],
   "source": [
    "# https://snap.stanford.edu/data/facebook_combined.txt.gz\n",
    "\n",
    "fb = read_graph(\"../data/facebook_combined.txt.gz\")\n",
    "n = len(fb)\n",
    "m = len(fb.edges())\n",
    "n, m"
   ]
  },
  {
   "cell_type": "markdown",
   "metadata": {},
   "source": [
    "The average clustering coefficient is about 0.6"
   ]
  },
  {
   "cell_type": "code",
   "execution_count": 92,
   "metadata": {},
   "outputs": [
    {
     "data": {
      "application/javascript": [
       "\n",
       "            setTimeout(function() {\n",
       "                var nbb_cell_id = 92;\n",
       "                var nbb_unformatted_code = \"from networkx.algorithms.approximation import average_clustering\";\n",
       "                var nbb_formatted_code = \"from networkx.algorithms.approximation import average_clustering\";\n",
       "                var nbb_cells = Jupyter.notebook.get_cells();\n",
       "                for (var i = 0; i < nbb_cells.length; ++i) {\n",
       "                    if (nbb_cells[i].input_prompt_number == nbb_cell_id) {\n",
       "                        if (nbb_cells[i].get_text() == nbb_unformatted_code) {\n",
       "                             nbb_cells[i].set_text(nbb_formatted_code);\n",
       "                        }\n",
       "                        break;\n",
       "                    }\n",
       "                }\n",
       "            }, 500);\n",
       "            "
      ],
      "text/plain": [
       "<IPython.core.display.Javascript object>"
      ]
     },
     "metadata": {},
     "output_type": "display_data"
    }
   ],
   "source": [
    "from networkx.algorithms.approximation import average_clustering"
   ]
  },
  {
   "cell_type": "code",
   "execution_count": 93,
   "metadata": {},
   "outputs": [
    {
     "data": {
      "text/plain": [
       "0.583"
      ]
     },
     "execution_count": 93,
     "metadata": {},
     "output_type": "execute_result"
    },
    {
     "data": {
      "application/javascript": [
       "\n",
       "            setTimeout(function() {\n",
       "                var nbb_cell_id = 93;\n",
       "                var nbb_unformatted_code = \"C = average_clustering(fb)\\nC\";\n",
       "                var nbb_formatted_code = \"C = average_clustering(fb)\\nC\";\n",
       "                var nbb_cells = Jupyter.notebook.get_cells();\n",
       "                for (var i = 0; i < nbb_cells.length; ++i) {\n",
       "                    if (nbb_cells[i].input_prompt_number == nbb_cell_id) {\n",
       "                        if (nbb_cells[i].get_text() == nbb_unformatted_code) {\n",
       "                             nbb_cells[i].set_text(nbb_formatted_code);\n",
       "                        }\n",
       "                        break;\n",
       "                    }\n",
       "                }\n",
       "            }, 500);\n",
       "            "
      ],
      "text/plain": [
       "<IPython.core.display.Javascript object>"
      ]
     },
     "metadata": {},
     "output_type": "display_data"
    }
   ],
   "source": [
    "C = average_clustering(fb)\n",
    "C"
   ]
  },
  {
   "cell_type": "markdown",
   "metadata": {},
   "source": [
    "The average path length is short."
   ]
  },
  {
   "cell_type": "code",
   "execution_count": 94,
   "metadata": {},
   "outputs": [
    {
     "data": {
      "application/javascript": [
       "\n",
       "            setTimeout(function() {\n",
       "                var nbb_cell_id = 94;\n",
       "                var nbb_unformatted_code = \"def random_path_lengths(G, nodes=None, trials=1000):\\n    \\\"\\\"\\\"Choose random pairs of nodes and compute the path length between them.\\n\\n    G: Graph\\n    nodes: list of nodes to choose from\\n    trials: number of pairs to choose\\n\\n    returns: list of path lengths\\n    \\\"\\\"\\\"\\n    if nodes is None:\\n        nodes = G.nodes()\\n    else:\\n        nodes = list(nodes)\\n        \\n    pairs = np.random.choice(nodes, (trials, 2))\\n    lengths = [nx.shortest_path_length(G, *pair) \\n               for pair in pairs]\\n    return lengths\\n\\ndef estimate_path_length(G, nodes=None, trials=1000):\\n    return np.mean(random_path_lengths(G, nodes, trials))\";\n",
       "                var nbb_formatted_code = \"def random_path_lengths(G, nodes=None, trials=1000):\\n    \\\"\\\"\\\"Choose random pairs of nodes and compute the path length between them.\\n\\n    G: Graph\\n    nodes: list of nodes to choose from\\n    trials: number of pairs to choose\\n\\n    returns: list of path lengths\\n    \\\"\\\"\\\"\\n    if nodes is None:\\n        nodes = G.nodes()\\n    else:\\n        nodes = list(nodes)\\n\\n    pairs = np.random.choice(nodes, (trials, 2))\\n    lengths = [nx.shortest_path_length(G, *pair) for pair in pairs]\\n    return lengths\\n\\n\\ndef estimate_path_length(G, nodes=None, trials=1000):\\n    return np.mean(random_path_lengths(G, nodes, trials))\";\n",
       "                var nbb_cells = Jupyter.notebook.get_cells();\n",
       "                for (var i = 0; i < nbb_cells.length; ++i) {\n",
       "                    if (nbb_cells[i].input_prompt_number == nbb_cell_id) {\n",
       "                        if (nbb_cells[i].get_text() == nbb_unformatted_code) {\n",
       "                             nbb_cells[i].set_text(nbb_formatted_code);\n",
       "                        }\n",
       "                        break;\n",
       "                    }\n",
       "                }\n",
       "            }, 500);\n",
       "            "
      ],
      "text/plain": [
       "<IPython.core.display.Javascript object>"
      ]
     },
     "metadata": {},
     "output_type": "display_data"
    }
   ],
   "source": [
    "def random_path_lengths(G, nodes=None, trials=1000):\n",
    "    \"\"\"Choose random pairs of nodes and compute the path length between them.\n",
    "\n",
    "    G: Graph\n",
    "    nodes: list of nodes to choose from\n",
    "    trials: number of pairs to choose\n",
    "\n",
    "    returns: list of path lengths\n",
    "    \"\"\"\n",
    "    if nodes is None:\n",
    "        nodes = G.nodes()\n",
    "    else:\n",
    "        nodes = list(nodes)\n",
    "\n",
    "    pairs = np.random.choice(nodes, (trials, 2))\n",
    "    lengths = [nx.shortest_path_length(G, *pair) for pair in pairs]\n",
    "    return lengths\n",
    "\n",
    "\n",
    "def estimate_path_length(G, nodes=None, trials=1000):\n",
    "    return np.mean(random_path_lengths(G, nodes, trials))"
   ]
  },
  {
   "cell_type": "code",
   "execution_count": 95,
   "metadata": {},
   "outputs": [
    {
     "data": {
      "text/plain": [
       "3.649"
      ]
     },
     "execution_count": 95,
     "metadata": {},
     "output_type": "execute_result"
    },
    {
     "data": {
      "application/javascript": [
       "\n",
       "            setTimeout(function() {\n",
       "                var nbb_cell_id = 95;\n",
       "                var nbb_unformatted_code = \"L = estimate_path_length(fb)\\nL\";\n",
       "                var nbb_formatted_code = \"L = estimate_path_length(fb)\\nL\";\n",
       "                var nbb_cells = Jupyter.notebook.get_cells();\n",
       "                for (var i = 0; i < nbb_cells.length; ++i) {\n",
       "                    if (nbb_cells[i].input_prompt_number == nbb_cell_id) {\n",
       "                        if (nbb_cells[i].get_text() == nbb_unformatted_code) {\n",
       "                             nbb_cells[i].set_text(nbb_formatted_code);\n",
       "                        }\n",
       "                        break;\n",
       "                    }\n",
       "                }\n",
       "            }, 500);\n",
       "            "
      ],
      "text/plain": [
       "<IPython.core.display.Javascript object>"
      ]
     },
     "metadata": {},
     "output_type": "display_data"
    }
   ],
   "source": [
    "L = estimate_path_length(fb)\n",
    "L"
   ]
  },
  {
   "cell_type": "markdown",
   "metadata": {},
   "source": [
    "## BA model\n",
    "\n",
    "Here's a simplified version of the NetworkX function that generates BA graphs."
   ]
  },
  {
   "cell_type": "code",
   "execution_count": 96,
   "metadata": {},
   "outputs": [
    {
     "data": {
      "application/javascript": [
       "\n",
       "            setTimeout(function() {\n",
       "                var nbb_cell_id = 96;\n",
       "                var nbb_unformatted_code = \"import random\\n\\n# modified version of the NetworkX implementation from\\n# https://github.com/networkx/networkx/blob/master/networkx/generators/random_graphs.py\\n\\ndef barabasi_albert_graph(n, m, seed=None):\\n    \\\"\\\"\\\"Returns a random graph according to the Barab\\u00e1si\\u2013Albert preferential\\n    attachment model.\\n    A graph of `n` nodes is grown by attaching new nodes each with `m`\\n    edges that are preferentially attached to existing nodes with high degree.\\n    Parameters\\n    ----------\\n    n : int\\n        Number of nodes\\n    m : int\\n        Number of edges to attach from a new node to existing nodes\\n    seed : int, optional\\n        Seed for random number generator (default=None).\\n    Returns\\n    -------\\n    G : Graph\\n    Raises\\n    ------\\n    NetworkXError\\n        If `m` does not satisfy ``1 <= m < n``.\\n    References\\n    ----------\\n    .. [1] A. L. Barab\\u00e1si and R. Albert \\\"Emergence of scaling in\\n       random networks\\\", Science 286, pp 509-512, 1999.\\n    \\\"\\\"\\\"\\n\\n    if m < 1 or  m >=n:\\n        raise nx.NetworkXError(\\\"Barab\\u00e1si\\u2013Albert network must have m >= 1\\\"\\n                               \\\" and m < n, m = %d, n = %d\\\" % (m, n))\\n        \\n    if seed is not None:\\n        random.seed(seed)\\n    \\n    G = nx.empty_graph(m)\\n    targets = list(range(m))\\n    repeated_nodes = []\\n\\n    for source in range(m, n):\\n\\n        G.add_edges_from(zip([source]*m, targets))\\n\\n        repeated_nodes.extend(targets)\\n        repeated_nodes.extend([source] * m)\\n\\n        targets = _random_subset(repeated_nodes, m)\\n\\n    return G\\n\\ndef _random_subset(repeated_nodes, m):\\n    \\\"\\\"\\\"Generates a random subset without repetition.\\n    \\n    repeated_nodes: sequence of nodes\\n    m: number of nodes to sample\\n    \\n    returns: set of nodes\\n    \\\"\\\"\\\"\\n    targets = set()\\n    while len(targets) < m:\\n        x = random.choice(repeated_nodes)\\n        targets.add(x)\\n    return targets\";\n",
       "                var nbb_formatted_code = \"import random\\n\\n# modified version of the NetworkX implementation from\\n# https://github.com/networkx/networkx/blob/master/networkx/generators/random_graphs.py\\n\\n\\ndef barabasi_albert_graph(n, m, seed=None):\\n    \\\"\\\"\\\"Returns a random graph according to the Barab\\u00e1si\\u2013Albert preferential\\n    attachment model.\\n    A graph of `n` nodes is grown by attaching new nodes each with `m`\\n    edges that are preferentially attached to existing nodes with high degree.\\n    Parameters\\n    ----------\\n    n : int\\n        Number of nodes\\n    m : int\\n        Number of edges to attach from a new node to existing nodes\\n    seed : int, optional\\n        Seed for random number generator (default=None).\\n    Returns\\n    -------\\n    G : Graph\\n    Raises\\n    ------\\n    NetworkXError\\n        If `m` does not satisfy ``1 <= m < n``.\\n    References\\n    ----------\\n    .. [1] A. L. Barab\\u00e1si and R. Albert \\\"Emergence of scaling in\\n       random networks\\\", Science 286, pp 509-512, 1999.\\n    \\\"\\\"\\\"\\n\\n    if m < 1 or m >= n:\\n        raise nx.NetworkXError(\\n            \\\"Barab\\u00e1si\\u2013Albert network must have m >= 1\\\"\\n            \\\" and m < n, m = %d, n = %d\\\" % (m, n)\\n        )\\n\\n    if seed is not None:\\n        random.seed(seed)\\n\\n    G = nx.empty_graph(m)\\n    targets = list(range(m))\\n    repeated_nodes = []\\n\\n    for source in range(m, n):\\n\\n        G.add_edges_from(zip([source] * m, targets))\\n\\n        repeated_nodes.extend(targets)\\n        repeated_nodes.extend([source] * m)\\n\\n        targets = _random_subset(repeated_nodes, m)\\n\\n    return G\\n\\n\\ndef _random_subset(repeated_nodes, m):\\n    \\\"\\\"\\\"Generates a random subset without repetition.\\n\\n    repeated_nodes: sequence of nodes\\n    m: number of nodes to sample\\n\\n    returns: set of nodes\\n    \\\"\\\"\\\"\\n    targets = set()\\n    while len(targets) < m:\\n        x = random.choice(repeated_nodes)\\n        targets.add(x)\\n    return targets\";\n",
       "                var nbb_cells = Jupyter.notebook.get_cells();\n",
       "                for (var i = 0; i < nbb_cells.length; ++i) {\n",
       "                    if (nbb_cells[i].input_prompt_number == nbb_cell_id) {\n",
       "                        if (nbb_cells[i].get_text() == nbb_unformatted_code) {\n",
       "                             nbb_cells[i].set_text(nbb_formatted_code);\n",
       "                        }\n",
       "                        break;\n",
       "                    }\n",
       "                }\n",
       "            }, 500);\n",
       "            "
      ],
      "text/plain": [
       "<IPython.core.display.Javascript object>"
      ]
     },
     "metadata": {},
     "output_type": "display_data"
    }
   ],
   "source": [
    "import random\n",
    "\n",
    "# modified version of the NetworkX implementation from\n",
    "# https://github.com/networkx/networkx/blob/master/networkx/generators/random_graphs.py\n",
    "\n",
    "\n",
    "def barabasi_albert_graph(n, m, seed=None):\n",
    "    \"\"\"Returns a random graph according to the Barabási–Albert preferential\n",
    "    attachment model.\n",
    "    A graph of `n` nodes is grown by attaching new nodes each with `m`\n",
    "    edges that are preferentially attached to existing nodes with high degree.\n",
    "    Parameters\n",
    "    ----------\n",
    "    n : int\n",
    "        Number of nodes\n",
    "    m : int\n",
    "        Number of edges to attach from a new node to existing nodes\n",
    "    seed : int, optional\n",
    "        Seed for random number generator (default=None).\n",
    "    Returns\n",
    "    -------\n",
    "    G : Graph\n",
    "    Raises\n",
    "    ------\n",
    "    NetworkXError\n",
    "        If `m` does not satisfy ``1 <= m < n``.\n",
    "    References\n",
    "    ----------\n",
    "    .. [1] A. L. Barabási and R. Albert \"Emergence of scaling in\n",
    "       random networks\", Science 286, pp 509-512, 1999.\n",
    "    \"\"\"\n",
    "\n",
    "    if m < 1 or m >= n:\n",
    "        raise nx.NetworkXError(\n",
    "            \"Barabási–Albert network must have m >= 1\"\n",
    "            \" and m < n, m = %d, n = %d\" % (m, n)\n",
    "        )\n",
    "\n",
    "    if seed is not None:\n",
    "        random.seed(seed)\n",
    "\n",
    "    G = nx.empty_graph(m)\n",
    "    targets = list(range(m))\n",
    "    repeated_nodes = []\n",
    "\n",
    "    for source in range(m, n):\n",
    "\n",
    "        G.add_edges_from(zip([source] * m, targets))\n",
    "\n",
    "        repeated_nodes.extend(targets)\n",
    "        repeated_nodes.extend([source] * m)\n",
    "\n",
    "        targets = _random_subset(repeated_nodes, m)\n",
    "\n",
    "    return G\n",
    "\n",
    "\n",
    "def _random_subset(repeated_nodes, m):\n",
    "    \"\"\"Generates a random subset without repetition.\n",
    "\n",
    "    repeated_nodes: sequence of nodes\n",
    "    m: number of nodes to sample\n",
    "\n",
    "    returns: set of nodes\n",
    "    \"\"\"\n",
    "    targets = set()\n",
    "    while len(targets) < m:\n",
    "        x = random.choice(repeated_nodes)\n",
    "        targets.add(x)\n",
    "    return targets"
   ]
  },
  {
   "cell_type": "markdown",
   "metadata": {},
   "source": [
    "I'll generate a BA graph with the same number of nodes and edges as the Facebook data:"
   ]
  },
  {
   "cell_type": "code",
   "execution_count": 97,
   "metadata": {},
   "outputs": [
    {
     "data": {
      "text/plain": [
       "(4039, 88234, 22)"
      ]
     },
     "execution_count": 97,
     "metadata": {},
     "output_type": "execute_result"
    },
    {
     "data": {
      "application/javascript": [
       "\n",
       "            setTimeout(function() {\n",
       "                var nbb_cell_id = 97;\n",
       "                var nbb_unformatted_code = \"n = len(fb)\\nm = len(fb.edges())\\nk = int(round(m/n))\\nn, m, k\";\n",
       "                var nbb_formatted_code = \"n = len(fb)\\nm = len(fb.edges())\\nk = int(round(m / n))\\nn, m, k\";\n",
       "                var nbb_cells = Jupyter.notebook.get_cells();\n",
       "                for (var i = 0; i < nbb_cells.length; ++i) {\n",
       "                    if (nbb_cells[i].input_prompt_number == nbb_cell_id) {\n",
       "                        if (nbb_cells[i].get_text() == nbb_unformatted_code) {\n",
       "                             nbb_cells[i].set_text(nbb_formatted_code);\n",
       "                        }\n",
       "                        break;\n",
       "                    }\n",
       "                }\n",
       "            }, 500);\n",
       "            "
      ],
      "text/plain": [
       "<IPython.core.display.Javascript object>"
      ]
     },
     "metadata": {},
     "output_type": "display_data"
    }
   ],
   "source": [
    "n = len(fb)\n",
    "m = len(fb.edges())\n",
    "k = int(round(m / n))\n",
    "n, m, k"
   ]
  },
  {
   "cell_type": "markdown",
   "metadata": {},
   "source": [
    "Providing a random seed means we'll get the same graph every time."
   ]
  },
  {
   "cell_type": "code",
   "execution_count": 98,
   "metadata": {},
   "outputs": [
    {
     "data": {
      "application/javascript": [
       "\n",
       "            setTimeout(function() {\n",
       "                var nbb_cell_id = 98;\n",
       "                var nbb_unformatted_code = \"ba = barabasi_albert_graph(n, k, seed=15)\";\n",
       "                var nbb_formatted_code = \"ba = barabasi_albert_graph(n, k, seed=15)\";\n",
       "                var nbb_cells = Jupyter.notebook.get_cells();\n",
       "                for (var i = 0; i < nbb_cells.length; ++i) {\n",
       "                    if (nbb_cells[i].input_prompt_number == nbb_cell_id) {\n",
       "                        if (nbb_cells[i].get_text() == nbb_unformatted_code) {\n",
       "                             nbb_cells[i].set_text(nbb_formatted_code);\n",
       "                        }\n",
       "                        break;\n",
       "                    }\n",
       "                }\n",
       "            }, 500);\n",
       "            "
      ],
      "text/plain": [
       "<IPython.core.display.Javascript object>"
      ]
     },
     "metadata": {},
     "output_type": "display_data"
    }
   ],
   "source": [
    "ba = barabasi_albert_graph(n, k, seed=15)"
   ]
  },
  {
   "cell_type": "markdown",
   "metadata": {},
   "source": [
    "The number of edges is pretty close to what we asked for."
   ]
  },
  {
   "cell_type": "code",
   "execution_count": 99,
   "metadata": {},
   "outputs": [
    {
     "data": {
      "text/plain": [
       "(4039, 88374, 21.88016835850458)"
      ]
     },
     "execution_count": 99,
     "metadata": {},
     "output_type": "execute_result"
    },
    {
     "data": {
      "application/javascript": [
       "\n",
       "            setTimeout(function() {\n",
       "                var nbb_cell_id = 99;\n",
       "                var nbb_unformatted_code = \"len(ba), len(ba.edges()), len(ba.edges())/len(ba)\";\n",
       "                var nbb_formatted_code = \"len(ba), len(ba.edges()), len(ba.edges()) / len(ba)\";\n",
       "                var nbb_cells = Jupyter.notebook.get_cells();\n",
       "                for (var i = 0; i < nbb_cells.length; ++i) {\n",
       "                    if (nbb_cells[i].input_prompt_number == nbb_cell_id) {\n",
       "                        if (nbb_cells[i].get_text() == nbb_unformatted_code) {\n",
       "                             nbb_cells[i].set_text(nbb_formatted_code);\n",
       "                        }\n",
       "                        break;\n",
       "                    }\n",
       "                }\n",
       "            }, 500);\n",
       "            "
      ],
      "text/plain": [
       "<IPython.core.display.Javascript object>"
      ]
     },
     "metadata": {},
     "output_type": "display_data"
    }
   ],
   "source": [
    "len(ba), len(ba.edges()), len(ba.edges()) / len(ba)"
   ]
  },
  {
   "cell_type": "markdown",
   "metadata": {},
   "source": [
    "So the mean degree is about right."
   ]
  },
  {
   "cell_type": "code",
   "execution_count": 101,
   "metadata": {},
   "outputs": [
    {
     "data": {
      "application/javascript": [
       "\n",
       "            setTimeout(function() {\n",
       "                var nbb_cell_id = 101;\n",
       "                var nbb_unformatted_code = \"def degrees(G):\\n    \\\"\\\"\\\"List of degrees for nodes in `G`.\\n    \\n    G: Graph object\\n    \\n    returns: list of int\\n    \\\"\\\"\\\"\\n    return [G.degree(u) for u in G]\";\n",
       "                var nbb_formatted_code = \"def degrees(G):\\n    \\\"\\\"\\\"List of degrees for nodes in `G`.\\n\\n    G: Graph object\\n\\n    returns: list of int\\n    \\\"\\\"\\\"\\n    return [G.degree(u) for u in G]\";\n",
       "                var nbb_cells = Jupyter.notebook.get_cells();\n",
       "                for (var i = 0; i < nbb_cells.length; ++i) {\n",
       "                    if (nbb_cells[i].input_prompt_number == nbb_cell_id) {\n",
       "                        if (nbb_cells[i].get_text() == nbb_unformatted_code) {\n",
       "                             nbb_cells[i].set_text(nbb_formatted_code);\n",
       "                        }\n",
       "                        break;\n",
       "                    }\n",
       "                }\n",
       "            }, 500);\n",
       "            "
      ],
      "text/plain": [
       "<IPython.core.display.Javascript object>"
      ]
     },
     "metadata": {},
     "output_type": "display_data"
    }
   ],
   "source": [
    "def degrees(G):\n",
    "    \"\"\"List of degrees for nodes in `G`.\n",
    "\n",
    "    G: Graph object\n",
    "\n",
    "    returns: list of int\n",
    "    \"\"\"\n",
    "    return [G.degree(u) for u in G]"
   ]
  },
  {
   "cell_type": "code",
   "execution_count": 102,
   "metadata": {},
   "outputs": [
    {
     "data": {
      "text/plain": [
       "(43.69101262688784, 43.76033671700916)"
      ]
     },
     "execution_count": 102,
     "metadata": {},
     "output_type": "execute_result"
    },
    {
     "data": {
      "application/javascript": [
       "\n",
       "            setTimeout(function() {\n",
       "                var nbb_cell_id = 102;\n",
       "                var nbb_unformatted_code = \"np.mean(degrees(fb)), np.mean(degrees(ba))\";\n",
       "                var nbb_formatted_code = \"np.mean(degrees(fb)), np.mean(degrees(ba))\";\n",
       "                var nbb_cells = Jupyter.notebook.get_cells();\n",
       "                for (var i = 0; i < nbb_cells.length; ++i) {\n",
       "                    if (nbb_cells[i].input_prompt_number == nbb_cell_id) {\n",
       "                        if (nbb_cells[i].get_text() == nbb_unformatted_code) {\n",
       "                             nbb_cells[i].set_text(nbb_formatted_code);\n",
       "                        }\n",
       "                        break;\n",
       "                    }\n",
       "                }\n",
       "            }, 500);\n",
       "            "
      ],
      "text/plain": [
       "<IPython.core.display.Javascript object>"
      ]
     },
     "metadata": {},
     "output_type": "display_data"
    }
   ],
   "source": [
    "np.mean(degrees(fb)), np.mean(degrees(ba))"
   ]
  },
  {
   "cell_type": "markdown",
   "metadata": {},
   "source": [
    "The standard deviation of degree is a bit lower than it should be (but much better than the WS model)."
   ]
  },
  {
   "cell_type": "code",
   "execution_count": 103,
   "metadata": {},
   "outputs": [
    {
     "data": {
      "text/plain": [
       "(52.41411556737521, 41.03760075705614)"
      ]
     },
     "execution_count": 103,
     "metadata": {},
     "output_type": "execute_result"
    },
    {
     "data": {
      "application/javascript": [
       "\n",
       "            setTimeout(function() {\n",
       "                var nbb_cell_id = 103;\n",
       "                var nbb_unformatted_code = \"np.std(degrees(fb)), np.std(degrees(ba))\";\n",
       "                var nbb_formatted_code = \"np.std(degrees(fb)), np.std(degrees(ba))\";\n",
       "                var nbb_cells = Jupyter.notebook.get_cells();\n",
       "                for (var i = 0; i < nbb_cells.length; ++i) {\n",
       "                    if (nbb_cells[i].input_prompt_number == nbb_cell_id) {\n",
       "                        if (nbb_cells[i].get_text() == nbb_unformatted_code) {\n",
       "                             nbb_cells[i].set_text(nbb_formatted_code);\n",
       "                        }\n",
       "                        break;\n",
       "                    }\n",
       "                }\n",
       "            }, 500);\n",
       "            "
      ],
      "text/plain": [
       "<IPython.core.display.Javascript object>"
      ]
     },
     "metadata": {},
     "output_type": "display_data"
    }
   ],
   "source": [
    "np.std(degrees(fb)), np.std(degrees(ba))"
   ]
  },
  {
   "cell_type": "markdown",
   "metadata": {},
   "source": [
    "The characteristic path length is even smaller in the model than in the data."
   ]
  },
  {
   "cell_type": "code",
   "execution_count": 106,
   "metadata": {},
   "outputs": [
    {
     "data": {
      "text/plain": [
       "(3.649, 2.505)"
      ]
     },
     "execution_count": 106,
     "metadata": {},
     "output_type": "execute_result"
    },
    {
     "data": {
      "application/javascript": [
       "\n",
       "            setTimeout(function() {\n",
       "                var nbb_cell_id = 106;\n",
       "                var nbb_unformatted_code = \"L, estimate_path_length(ba)\";\n",
       "                var nbb_formatted_code = \"L, estimate_path_length(ba)\";\n",
       "                var nbb_cells = Jupyter.notebook.get_cells();\n",
       "                for (var i = 0; i < nbb_cells.length; ++i) {\n",
       "                    if (nbb_cells[i].input_prompt_number == nbb_cell_id) {\n",
       "                        if (nbb_cells[i].get_text() == nbb_unformatted_code) {\n",
       "                             nbb_cells[i].set_text(nbb_formatted_code);\n",
       "                        }\n",
       "                        break;\n",
       "                    }\n",
       "                }\n",
       "            }, 500);\n",
       "            "
      ],
      "text/plain": [
       "<IPython.core.display.Javascript object>"
      ]
     },
     "metadata": {},
     "output_type": "display_data"
    }
   ],
   "source": [
    "L, estimate_path_length(ba)"
   ]
  },
  {
   "cell_type": "markdown",
   "metadata": {},
   "source": [
    "But the clustering coefficient isn't even close."
   ]
  },
  {
   "cell_type": "code",
   "execution_count": 107,
   "metadata": {},
   "outputs": [
    {
     "data": {
      "text/plain": [
       "(0.583, 0.048)"
      ]
     },
     "execution_count": 107,
     "metadata": {},
     "output_type": "execute_result"
    },
    {
     "data": {
      "application/javascript": [
       "\n",
       "            setTimeout(function() {\n",
       "                var nbb_cell_id = 107;\n",
       "                var nbb_unformatted_code = \"C, average_clustering(ba)\";\n",
       "                var nbb_formatted_code = \"C, average_clustering(ba)\";\n",
       "                var nbb_cells = Jupyter.notebook.get_cells();\n",
       "                for (var i = 0; i < nbb_cells.length; ++i) {\n",
       "                    if (nbb_cells[i].input_prompt_number == nbb_cell_id) {\n",
       "                        if (nbb_cells[i].get_text() == nbb_unformatted_code) {\n",
       "                             nbb_cells[i].set_text(nbb_formatted_code);\n",
       "                        }\n",
       "                        break;\n",
       "                    }\n",
       "                }\n",
       "            }, 500);\n",
       "            "
      ],
      "text/plain": [
       "<IPython.core.display.Javascript object>"
      ]
     },
     "metadata": {},
     "output_type": "display_data"
    }
   ],
   "source": [
    "C, average_clustering(ba)"
   ]
  },
  {
   "cell_type": "markdown",
   "metadata": {},
   "source": [
    "In the BA model, the degree distribution is better than in the WS model, but the clustering coefficient is too low."
   ]
  },
  {
   "cell_type": "markdown",
   "metadata": {},
   "source": [
    "## Cumulative distributions"
   ]
  },
  {
   "cell_type": "code",
   "execution_count": 108,
   "metadata": {},
   "outputs": [
    {
     "data": {
      "application/javascript": [
       "\n",
       "            setTimeout(function() {\n",
       "                var nbb_cell_id = 108;\n",
       "                var nbb_unformatted_code = \"from empiricaldist import Cdf\\n\\ncdf_fb = Cdf.from_seq(degrees(fb), name='Facebook')\\ncdf_ba = Cdf.from_seq(degrees(ba), name='BA model')\";\n",
       "                var nbb_formatted_code = \"from empiricaldist import Cdf\\n\\ncdf_fb = Cdf.from_seq(degrees(fb), name=\\\"Facebook\\\")\\ncdf_ba = Cdf.from_seq(degrees(ba), name=\\\"BA model\\\")\";\n",
       "                var nbb_cells = Jupyter.notebook.get_cells();\n",
       "                for (var i = 0; i < nbb_cells.length; ++i) {\n",
       "                    if (nbb_cells[i].input_prompt_number == nbb_cell_id) {\n",
       "                        if (nbb_cells[i].get_text() == nbb_unformatted_code) {\n",
       "                             nbb_cells[i].set_text(nbb_formatted_code);\n",
       "                        }\n",
       "                        break;\n",
       "                    }\n",
       "                }\n",
       "            }, 500);\n",
       "            "
      ],
      "text/plain": [
       "<IPython.core.display.Javascript object>"
      ]
     },
     "metadata": {},
     "output_type": "display_data"
    }
   ],
   "source": [
    "from empiricaldist import Cdf\n",
    "\n",
    "cdf_fb = Cdf.from_seq(degrees(fb), name=\"Facebook\")\n",
    "cdf_ba = Cdf.from_seq(degrees(ba), name=\"BA model\")"
   ]
  },
  {
   "cell_type": "markdown",
   "metadata": {},
   "source": [
    "If we plot them on a log-x scale, we get a sense of how well the models fit the central part of the distribution."
   ]
  },
  {
   "cell_type": "code",
   "execution_count": 110,
   "metadata": {},
   "outputs": [
    {
     "data": {
      "image/png": "[encoded data removed]",
      "text/plain": [
       "<Figure size 450x262.5 with 1 Axes>"
      ]
     },
     "metadata": {},
     "output_type": "display_data"
    },
    {
     "data": {
      "application/javascript": [
       "\n",
       "            setTimeout(function() {\n",
       "                var nbb_cell_id = 110;\n",
       "                var nbb_unformatted_code = \"cdf_fb.plot(color=\\\"C0\\\", label=\\\"Facebook\\\")\\ncdf_ba.plot(color=\\\"C2\\\", alpha=0.4)\\ndecorate(xlabel=\\\"Degree\\\", xscale=\\\"log\\\")\";\n",
       "                var nbb_formatted_code = \"cdf_fb.plot(color=\\\"C0\\\", label=\\\"Facebook\\\")\\ncdf_ba.plot(color=\\\"C2\\\", alpha=0.4)\\ndecorate(xlabel=\\\"Degree\\\", xscale=\\\"log\\\")\";\n",
       "                var nbb_cells = Jupyter.notebook.get_cells();\n",
       "                for (var i = 0; i < nbb_cells.length; ++i) {\n",
       "                    if (nbb_cells[i].input_prompt_number == nbb_cell_id) {\n",
       "                        if (nbb_cells[i].get_text() == nbb_unformatted_code) {\n",
       "                             nbb_cells[i].set_text(nbb_formatted_code);\n",
       "                        }\n",
       "                        break;\n",
       "                    }\n",
       "                }\n",
       "            }, 500);\n",
       "            "
      ],
      "text/plain": [
       "<IPython.core.display.Javascript object>"
      ]
     },
     "metadata": {},
     "output_type": "display_data"
    }
   ],
   "source": [
    "cdf_fb.plot(color=\"C0\", label=\"Facebook\")\n",
    "cdf_ba.plot(color=\"C2\", alpha=0.4)\n",
    "decorate(xlabel=\"Degree\", xscale=\"log\")"
   ]
  },
  {
   "cell_type": "markdown",
   "metadata": {},
   "source": [
    "The BA model is ok for values above the median, but not very good for smaller values.\n",
    "\n",
    "On a log-log scale, we see that the BA model fits the tail of the distribution reasonably well."
   ]
  },
  {
   "cell_type": "code",
   "execution_count": 112,
   "metadata": {},
   "outputs": [
    {
     "data": {
      "image/png": "[encoded data removed]",
      "text/plain": [
       "<Figure size 450x262.5 with 1 Axes>"
      ]
     },
     "metadata": {},
     "output_type": "display_data"
    },
    {
     "data": {
      "application/javascript": [
       "\n",
       "            setTimeout(function() {\n",
       "                var nbb_cell_id = 112;\n",
       "                var nbb_unformatted_code = \"(1 - cdf_fb).plot(color=\\\"C0\\\", label=\\\"Facebook\\\")\\n(1 - cdf_ba).plot(color=\\\"C2\\\", alpha=0.4)\\ndecorate(xlabel=\\\"Degree\\\", xscale=\\\"log\\\", yscale=\\\"log\\\")\";\n",
       "                var nbb_formatted_code = \"(1 - cdf_fb).plot(color=\\\"C0\\\", label=\\\"Facebook\\\")\\n(1 - cdf_ba).plot(color=\\\"C2\\\", alpha=0.4)\\ndecorate(xlabel=\\\"Degree\\\", xscale=\\\"log\\\", yscale=\\\"log\\\")\";\n",
       "                var nbb_cells = Jupyter.notebook.get_cells();\n",
       "                for (var i = 0; i < nbb_cells.length; ++i) {\n",
       "                    if (nbb_cells[i].input_prompt_number == nbb_cell_id) {\n",
       "                        if (nbb_cells[i].get_text() == nbb_unformatted_code) {\n",
       "                             nbb_cells[i].set_text(nbb_formatted_code);\n",
       "                        }\n",
       "                        break;\n",
       "                    }\n",
       "                }\n",
       "            }, 500);\n",
       "            "
      ],
      "text/plain": [
       "<IPython.core.display.Javascript object>"
      ]
     },
     "metadata": {},
     "output_type": "display_data"
    }
   ],
   "source": [
    "(1 - cdf_fb).plot(color=\"C0\", label=\"Facebook\")\n",
    "(1 - cdf_ba).plot(color=\"C2\", alpha=0.4)\n",
    "decorate(xlabel=\"Degree\", xscale=\"log\", yscale=\"log\")"
   ]
  },
  {
   "cell_type": "markdown",
   "metadata": {},
   "source": [
    "## FOF model"
   ]
  },
  {
   "cell_type": "markdown",
   "metadata": {},
   "source": [
    "The generative model I propose is called FOF for \"friends of friends\".  It is similar to both BA and HK, but it yields a degree distribution that matches observed data better.\n",
    "\n",
    "It starts with a complete graph with `m` nodes, so initially all nodes have degree `m`.  Each time we generate a node we:\n",
    "\n",
    "1.  Select a random target uniformly from existing nodes.\n",
    "2.  Iterate through the friends of the target.  For each one, with probability `p`, we form a triangle that includes the source, friend, and a random friend of friend.\n",
    "3.  Finally, we connect the source and target.\n",
    "\n",
    "Because we choose friends of the target, this process has preferential attachment, but it does not yield a power law tail.  Rather, the degree distribution is approximately lognormal with median degree `m`.\n",
    "\n",
    "Because this process forms triangles, it tends to yield a moderately high clustering coefficient.\n",
    "\n",
    "Here's what my implementation looks like:"
   ]
  },
  {
   "cell_type": "code",
   "execution_count": 113,
   "metadata": {},
   "outputs": [
    {
     "data": {
      "application/javascript": [
       "\n",
       "            setTimeout(function() {\n",
       "                var nbb_cell_id = 113;\n",
       "                var nbb_unformatted_code = \"def fof_graph(n, m, p=0.25, seed=None):\\n    \\\"\\\"\\\"Makes a small world graph with a lognormal degree distribution.\\\"\\\"\\\"\\n    if m < 1 or  m+1 >= n:\\n        raise nx.NetworkXError(\\\\\\n              \\\"FOF network must have m>=1 and m+1<n, m=%d,n=%d\\\"%(m,n))\\n    if seed is not None:\\n        random.seed(seed)\\n\\n    # start with a completely connected core\\n    G = nx.complete_graph(m+1)\\n    G.name=\\\"fof_graph(%s,%s)\\\"%(n,m)\\n\\n    for source in range(len(G), n):\\n        # choose a random node\\n        target = random.choice(list(G.nodes))\\n        \\n        # enumerate neighbors of target and add triangles\\n        friends = list(G.neighbors(target))\\n        for friend in friends:\\n            if flip(p):\\n                triangle(G, source, friend)\\n\\n        # connect source and target\\n        G.add_edge(source, target)\\n            \\n    return G\\n\\ndef flip(p):\\n    return random.random() < p\\n\\ndef triangle(G, source, friend):\\n    \\\"\\\"\\\"Chooses a random neighbor of `friend` and makes a triangle.\\n    \\n    Triangle connects `source`, `friend`, and a random neighbor of `friend`.\\n    \\\"\\\"\\\"\\n    fof = set(G[friend])\\n    if source in G:\\n        fof -= set(G[source])\\n    if fof:\\n        w = random.choice(list(fof))\\n        G.add_edge(source, w)\\n    G.add_edge(source, friend)\";\n",
       "                var nbb_formatted_code = \"def fof_graph(n, m, p=0.25, seed=None):\\n    \\\"\\\"\\\"Makes a small world graph with a lognormal degree distribution.\\\"\\\"\\\"\\n    if m < 1 or m + 1 >= n:\\n        raise nx.NetworkXError(\\n            \\\"FOF network must have m>=1 and m+1<n, m=%d,n=%d\\\" % (m, n)\\n        )\\n    if seed is not None:\\n        random.seed(seed)\\n\\n    # start with a completely connected core\\n    G = nx.complete_graph(m + 1)\\n    G.name = \\\"fof_graph(%s,%s)\\\" % (n, m)\\n\\n    for source in range(len(G), n):\\n        # choose a random node\\n        target = random.choice(list(G.nodes))\\n\\n        # enumerate neighbors of target and add triangles\\n        friends = list(G.neighbors(target))\\n        for friend in friends:\\n            if flip(p):\\n                triangle(G, source, friend)\\n\\n        # connect source and target\\n        G.add_edge(source, target)\\n\\n    return G\\n\\n\\ndef flip(p):\\n    return random.random() < p\\n\\n\\ndef triangle(G, source, friend):\\n    \\\"\\\"\\\"Chooses a random neighbor of `friend` and makes a triangle.\\n\\n    Triangle connects `source`, `friend`, and a random neighbor of `friend`.\\n    \\\"\\\"\\\"\\n    fof = set(G[friend])\\n    if source in G:\\n        fof -= set(G[source])\\n    if fof:\\n        w = random.choice(list(fof))\\n        G.add_edge(source, w)\\n    G.add_edge(source, friend)\";\n",
       "                var nbb_cells = Jupyter.notebook.get_cells();\n",
       "                for (var i = 0; i < nbb_cells.length; ++i) {\n",
       "                    if (nbb_cells[i].input_prompt_number == nbb_cell_id) {\n",
       "                        if (nbb_cells[i].get_text() == nbb_unformatted_code) {\n",
       "                             nbb_cells[i].set_text(nbb_formatted_code);\n",
       "                        }\n",
       "                        break;\n",
       "                    }\n",
       "                }\n",
       "            }, 500);\n",
       "            "
      ],
      "text/plain": [
       "<IPython.core.display.Javascript object>"
      ]
     },
     "metadata": {},
     "output_type": "display_data"
    }
   ],
   "source": [
    "def fof_graph(n, m, p=0.25, seed=None):\n",
    "    \"\"\"Makes a small world graph with a lognormal degree distribution.\"\"\"\n",
    "    if m < 1 or m + 1 >= n:\n",
    "        raise nx.NetworkXError(\n",
    "            \"FOF network must have m>=1 and m+1<n, m=%d,n=%d\" % (m, n)\n",
    "        )\n",
    "    if seed is not None:\n",
    "        random.seed(seed)\n",
    "\n",
    "    # start with a completely connected core\n",
    "    G = nx.complete_graph(m + 1)\n",
    "    G.name = \"fof_graph(%s,%s)\" % (n, m)\n",
    "\n",
    "    for source in range(len(G), n):\n",
    "        # choose a random node\n",
    "        target = random.choice(list(G.nodes))\n",
    "\n",
    "        # enumerate neighbors of target and add triangles\n",
    "        friends = list(G.neighbors(target))\n",
    "        for friend in friends:\n",
    "            if flip(p):\n",
    "                triangle(G, source, friend)\n",
    "\n",
    "        # connect source and target\n",
    "        G.add_edge(source, target)\n",
    "\n",
    "    return G\n",
    "\n",
    "\n",
    "def flip(p):\n",
    "    return random.random() < p\n",
    "\n",
    "\n",
    "def triangle(G, source, friend):\n",
    "    \"\"\"Chooses a random neighbor of `friend` and makes a triangle.\n",
    "\n",
    "    Triangle connects `source`, `friend`, and a random neighbor of `friend`.\n",
    "    \"\"\"\n",
    "    fof = set(G[friend])\n",
    "    if source in G:\n",
    "        fof -= set(G[source])\n",
    "    if fof:\n",
    "        w = random.choice(list(fof))\n",
    "        G.add_edge(source, w)\n",
    "    G.add_edge(source, friend)"
   ]
  },
  {
   "cell_type": "markdown",
   "metadata": {},
   "source": [
    "The parameter `m` is the average degree."
   ]
  },
  {
   "cell_type": "code",
   "execution_count": 114,
   "metadata": {},
   "outputs": [
    {
     "data": {
      "text/plain": [
       "(4039, 44)"
      ]
     },
     "execution_count": 114,
     "metadata": {},
     "output_type": "execute_result"
    },
    {
     "data": {
      "application/javascript": [
       "\n",
       "            setTimeout(function() {\n",
       "                var nbb_cell_id = 114;\n",
       "                var nbb_unformatted_code = \"n = len(fb)\\nm = int(round(np.mean(degrees(fb))))\\nn, m\";\n",
       "                var nbb_formatted_code = \"n = len(fb)\\nm = int(round(np.mean(degrees(fb))))\\nn, m\";\n",
       "                var nbb_cells = Jupyter.notebook.get_cells();\n",
       "                for (var i = 0; i < nbb_cells.length; ++i) {\n",
       "                    if (nbb_cells[i].input_prompt_number == nbb_cell_id) {\n",
       "                        if (nbb_cells[i].get_text() == nbb_unformatted_code) {\n",
       "                             nbb_cells[i].set_text(nbb_formatted_code);\n",
       "                        }\n",
       "                        break;\n",
       "                    }\n",
       "                }\n",
       "            }, 500);\n",
       "            "
      ],
      "text/plain": [
       "<IPython.core.display.Javascript object>"
      ]
     },
     "metadata": {},
     "output_type": "display_data"
    }
   ],
   "source": [
    "n = len(fb)\n",
    "m = int(round(np.mean(degrees(fb))))\n",
    "n, m"
   ]
  },
  {
   "cell_type": "markdown",
   "metadata": {},
   "source": [
    "The parameter `p` is the probability of adding a triangle.  Since each triangle increases the total degree by 4, keeping `p` near `1/4` tends to keep `m` constant."
   ]
  },
  {
   "cell_type": "code",
   "execution_count": 115,
   "metadata": {},
   "outputs": [
    {
     "data": {
      "text/plain": [
       "(4039, 83137)"
      ]
     },
     "execution_count": 115,
     "metadata": {},
     "output_type": "execute_result"
    },
    {
     "data": {
      "application/javascript": [
       "\n",
       "            setTimeout(function() {\n",
       "                var nbb_cell_id = 115;\n",
       "                var nbb_unformatted_code = \"fof = fof_graph(n, m, p=0.24, seed=21)\\nlen(fof), len(fof.edges())\";\n",
       "                var nbb_formatted_code = \"fof = fof_graph(n, m, p=0.24, seed=21)\\nlen(fof), len(fof.edges())\";\n",
       "                var nbb_cells = Jupyter.notebook.get_cells();\n",
       "                for (var i = 0; i < nbb_cells.length; ++i) {\n",
       "                    if (nbb_cells[i].input_prompt_number == nbb_cell_id) {\n",
       "                        if (nbb_cells[i].get_text() == nbb_unformatted_code) {\n",
       "                             nbb_cells[i].set_text(nbb_formatted_code);\n",
       "                        }\n",
       "                        break;\n",
       "                    }\n",
       "                }\n",
       "            }, 500);\n",
       "            "
      ],
      "text/plain": [
       "<IPython.core.display.Javascript object>"
      ]
     },
     "metadata": {},
     "output_type": "display_data"
    }
   ],
   "source": [
    "fof = fof_graph(n, m, p=0.24, seed=21)\n",
    "len(fof), len(fof.edges())"
   ]
  },
  {
   "cell_type": "markdown",
   "metadata": {},
   "source": [
    "The clustering coefficient is similar to what we get from the HK model."
   ]
  },
  {
   "cell_type": "code",
   "execution_count": 116,
   "metadata": {},
   "outputs": [
    {
     "data": {
      "text/plain": [
       "(0.583, 0.257)"
      ]
     },
     "execution_count": 116,
     "metadata": {},
     "output_type": "execute_result"
    },
    {
     "data": {
      "application/javascript": [
       "\n",
       "            setTimeout(function() {\n",
       "                var nbb_cell_id = 116;\n",
       "                var nbb_unformatted_code = \"C, average_clustering(fof)\";\n",
       "                var nbb_formatted_code = \"C, average_clustering(fof)\";\n",
       "                var nbb_cells = Jupyter.notebook.get_cells();\n",
       "                for (var i = 0; i < nbb_cells.length; ++i) {\n",
       "                    if (nbb_cells[i].input_prompt_number == nbb_cell_id) {\n",
       "                        if (nbb_cells[i].get_text() == nbb_unformatted_code) {\n",
       "                             nbb_cells[i].set_text(nbb_formatted_code);\n",
       "                        }\n",
       "                        break;\n",
       "                    }\n",
       "                }\n",
       "            }, 500);\n",
       "            "
      ],
      "text/plain": [
       "<IPython.core.display.Javascript object>"
      ]
     },
     "metadata": {},
     "output_type": "display_data"
    }
   ],
   "source": [
    "C, average_clustering(fof)"
   ]
  },
  {
   "cell_type": "markdown",
   "metadata": {},
   "source": [
    "The average path length is low."
   ]
  },
  {
   "cell_type": "code",
   "execution_count": 117,
   "metadata": {},
   "outputs": [
    {
     "data": {
      "text/plain": [
       "(3.649, 3.101)"
      ]
     },
     "execution_count": 117,
     "metadata": {},
     "output_type": "execute_result"
    },
    {
     "data": {
      "application/javascript": [
       "\n",
       "            setTimeout(function() {\n",
       "                var nbb_cell_id = 117;\n",
       "                var nbb_unformatted_code = \"L, estimate_path_length(fof)\";\n",
       "                var nbb_formatted_code = \"L, estimate_path_length(fof)\";\n",
       "                var nbb_cells = Jupyter.notebook.get_cells();\n",
       "                for (var i = 0; i < nbb_cells.length; ++i) {\n",
       "                    if (nbb_cells[i].input_prompt_number == nbb_cell_id) {\n",
       "                        if (nbb_cells[i].get_text() == nbb_unformatted_code) {\n",
       "                             nbb_cells[i].set_text(nbb_formatted_code);\n",
       "                        }\n",
       "                        break;\n",
       "                    }\n",
       "                }\n",
       "            }, 500);\n",
       "            "
      ],
      "text/plain": [
       "<IPython.core.display.Javascript object>"
      ]
     },
     "metadata": {},
     "output_type": "display_data"
    }
   ],
   "source": [
    "L, estimate_path_length(fof)"
   ]
  },
  {
   "cell_type": "markdown",
   "metadata": {},
   "source": [
    "The degree distribution fits the observed data well"
   ]
  },
  {
   "cell_type": "code",
   "execution_count": 118,
   "metadata": {},
   "outputs": [
    {
     "data": {
      "application/javascript": [
       "\n",
       "            setTimeout(function() {\n",
       "                var nbb_cell_id = 118;\n",
       "                var nbb_unformatted_code = \"cdf_fof = Cdf.from_seq(degrees(fof), name='FOF')\";\n",
       "                var nbb_formatted_code = \"cdf_fof = Cdf.from_seq(degrees(fof), name=\\\"FOF\\\")\";\n",
       "                var nbb_cells = Jupyter.notebook.get_cells();\n",
       "                for (var i = 0; i < nbb_cells.length; ++i) {\n",
       "                    if (nbb_cells[i].input_prompt_number == nbb_cell_id) {\n",
       "                        if (nbb_cells[i].get_text() == nbb_unformatted_code) {\n",
       "                             nbb_cells[i].set_text(nbb_formatted_code);\n",
       "                        }\n",
       "                        break;\n",
       "                    }\n",
       "                }\n",
       "            }, 500);\n",
       "            "
      ],
      "text/plain": [
       "<IPython.core.display.Javascript object>"
      ]
     },
     "metadata": {},
     "output_type": "display_data"
    }
   ],
   "source": [
    "cdf_fof = Cdf.from_seq(degrees(fof), name=\"FOF\")"
   ]
  },
  {
   "cell_type": "code",
   "execution_count": 120,
   "metadata": {},
   "outputs": [
    {
     "data": {
      "image/png": "[encoded data removed]",
      "text/plain": [
       "<Figure size 450x262.5 with 1 Axes>"
      ]
     },
     "metadata": {},
     "output_type": "display_data"
    },
    {
     "data": {
      "application/javascript": [
       "\n",
       "            setTimeout(function() {\n",
       "                var nbb_cell_id = 120;\n",
       "                var nbb_unformatted_code = \"cdf_fb.plot(color=\\\"C0\\\")\\ncdf_fof.plot(color=\\\"C4\\\")\\n\\ndecorate(xlabel=\\\"Degree\\\", ylabel=\\\"CDF\\\", xscale=\\\"log\\\")\";\n",
       "                var nbb_formatted_code = \"cdf_fb.plot(color=\\\"C0\\\")\\ncdf_fof.plot(color=\\\"C4\\\")\\n\\ndecorate(xlabel=\\\"Degree\\\", ylabel=\\\"CDF\\\", xscale=\\\"log\\\")\";\n",
       "                var nbb_cells = Jupyter.notebook.get_cells();\n",
       "                for (var i = 0; i < nbb_cells.length; ++i) {\n",
       "                    if (nbb_cells[i].input_prompt_number == nbb_cell_id) {\n",
       "                        if (nbb_cells[i].get_text() == nbb_unformatted_code) {\n",
       "                             nbb_cells[i].set_text(nbb_formatted_code);\n",
       "                        }\n",
       "                        break;\n",
       "                    }\n",
       "                }\n",
       "            }, 500);\n",
       "            "
      ],
      "text/plain": [
       "<IPython.core.display.Javascript object>"
      ]
     },
     "metadata": {},
     "output_type": "display_data"
    }
   ],
   "source": [
    "cdf_fb.plot(color=\"C0\")\n",
    "cdf_fof.plot(color=\"C4\")\n",
    "\n",
    "decorate(xlabel=\"Degree\", ylabel=\"CDF\", xscale=\"log\")"
   ]
  },
  {
   "cell_type": "markdown",
   "metadata": {},
   "source": [
    "On a log-log scale, the model fits the data well except in the extreme tail."
   ]
  },
  {
   "cell_type": "code",
   "execution_count": 121,
   "metadata": {},
   "outputs": [
    {
     "data": {
      "image/png": "[encoded data removed]",
      "text/plain": [
       "<Figure size 450x262.5 with 1 Axes>"
      ]
     },
     "metadata": {},
     "output_type": "display_data"
    },
    {
     "data": {
      "application/javascript": [
       "\n",
       "            setTimeout(function() {\n",
       "                var nbb_cell_id = 121;\n",
       "                var nbb_unformatted_code = \"(1 - cdf_fb).plot(color='C0')\\n(1 - cdf_fof).plot(color='C4')\\n\\ndecorate(xlabel='Degree',\\n         ylabel='CCDF',\\n         xscale='log', yscale='log')\";\n",
       "                var nbb_formatted_code = \"(1 - cdf_fb).plot(color=\\\"C0\\\")\\n(1 - cdf_fof).plot(color=\\\"C4\\\")\\n\\ndecorate(xlabel=\\\"Degree\\\", ylabel=\\\"CCDF\\\", xscale=\\\"log\\\", yscale=\\\"log\\\")\";\n",
       "                var nbb_cells = Jupyter.notebook.get_cells();\n",
       "                for (var i = 0; i < nbb_cells.length; ++i) {\n",
       "                    if (nbb_cells[i].input_prompt_number == nbb_cell_id) {\n",
       "                        if (nbb_cells[i].get_text() == nbb_unformatted_code) {\n",
       "                             nbb_cells[i].set_text(nbb_formatted_code);\n",
       "                        }\n",
       "                        break;\n",
       "                    }\n",
       "                }\n",
       "            }, 500);\n",
       "            "
      ],
      "text/plain": [
       "<IPython.core.display.Javascript object>"
      ]
     },
     "metadata": {},
     "output_type": "display_data"
    }
   ],
   "source": [
    "(1 - cdf_fb).plot(color=\"C0\")\n",
    "(1 - cdf_fof).plot(color=\"C4\")\n",
    "\n",
    "decorate(xlabel=\"Degree\", ylabel=\"CCDF\", xscale=\"log\", yscale=\"log\")"
   ]
  }
 ],
 "metadata": {
  "kernelspec": {
   "display_name": "Python 3 (ipykernel)",
   "language": "python",
   "name": "python3"
  },
  "language_info": {
   "codemirror_mode": {
    "name": "ipython",
    "version": 3
   },
   "file_extension": ".py",
   "mimetype": "text/x-python",
   "name": "python",
   "nbconvert_exporter": "python",
   "pygments_lexer": "ipython3",
   "version": "3.10.14"
  }
 },
 "nbformat": 4,
 "nbformat_minor": 4
}
