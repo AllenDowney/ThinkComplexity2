{
 "cells": [
  {
   "cell_type": "markdown",
   "metadata": {},
   "source": [
    "# Physical modeling\n",
    "\n",
    "Code examples from [Think Complexity, 2nd edition](https://thinkcomplex.com).\n",
    "\n",
    "Copyright 2016 Allen Downey, [MIT License](http://opensource.org/licenses/MIT)"
   ]
  },
  {
   "cell_type": "markdown",
   "metadata": {},
   "source": [
    "# Team 3 \n",
    "Eleni, Immanuela, May"
   ]
  },
  {
   "cell_type": "markdown",
   "metadata": {},
   "source": [
    "## Introduction\n",
    "Cellular automata have applications in various areas, including physics, biology, and many others. Here are some examples that could be described as a cellular automaton, traffic flows, forest fires, running water, liquid dissolving, and air patterns. People have been wondering whether the universe is a cellular automaton or not. If it is, then we will be able to gain new information and have a further understanding of it. Then, one might wonder if our world, which is currently well described, at our current level of understanding, by physics with particle-like objects, could be a CA at its most fundamental level. Many scholars have tried to develop theories in order to understand our world based on cellular automata. Edward Fredkin exposed what he terms the \"finite nature hypothesis,\" which is the idea that \"ultimately every quantity of physics, including space and time, will turn out to be discrete and finite.\" CA methods allow the simulation of a wide range of real-world effects and situations so far. "
   ]
  },
  {
   "cell_type": "markdown",
   "metadata": {},
   "source": [
    "### Import statements"
   ]
  },
  {
   "cell_type": "code",
   "execution_count": 1,
   "metadata": {},
   "outputs": [],
   "source": [
    "%matplotlib inline\n",
    "\n",
    "import matplotlib.pyplot as plt\n",
    "import numpy as np\n",
    "import seaborn as sns\n",
    "\n",
    "from utils import decorate, savefig"
   ]
  },
  {
   "cell_type": "markdown",
   "metadata": {},
   "source": [
    "## Diffusion\n",
    "\n",
    "Diffusion is the movement of a substance from an area of high concentration to an area of low concentration.\n",
    "In the real world, diffusion happens in liquids and gases because their particles move randomly from place to place.\n",
    "Diffusion is an important process for living things; it is how substances move in and out of cells.\n",
    "Before we get to a Reaction-Diffusion model, we'll start with simple diffusion. The kernel computes the difference between each cell and the sum of its neighbors. At each time step, we compute this difference, multiply by a constant, and add it back in to the array."
   ]
  },
  {
   "cell_type": "code",
   "execution_count": 2,
   "metadata": {},
   "outputs": [],
   "source": [
    "from scipy.signal import correlate2d\n",
    "from Cell2D import Cell2D, draw_array\n",
    "\n",
    "class Diffusion(Cell2D):\n",
    "    \"\"\"Diffusion Cellular Automaton.\"\"\"\n",
    "    \n",
    "    kernel = np.array([[0, 1, 0],\n",
    "                       [1,-4, 1],\n",
    "                       [0, 1, 0]])\n",
    "\n",
    "    def __init__(self, n, r=0.1):\n",
    "        \"\"\"Initializes the attributes.\n",
    "\n",
    "        n: number of rows\n",
    "        r: diffusion rate constant\n",
    "        \"\"\"\n",
    "        self.r = r\n",
    "        self.array = np.zeros((n, n), np.float)\n",
    "        \n",
    "    def add_cells(self, row, col, *strings):\n",
    "        \"\"\"Adds cells at the given location.\n",
    "\n",
    "        row: top row index\n",
    "        col: left col index\n",
    "        strings: list of strings of 0s and 1s\n",
    "        \"\"\"\n",
    "        for i, s in enumerate(strings):\n",
    "            self.array[row+i, col:col+len(s)] = np.array([int(b) for b in s])\n",
    "\n",
    "    def step(self):\n",
    "        \"\"\"Executes one time step.\"\"\"\n",
    "        c = correlate2d(self.array, self.kernel, mode='same')\n",
    "        self.array += self.r * c\n",
    "        \n",
    "    def draw(self):\n",
    "        \"\"\"Draws the cells.\"\"\"\n",
    "        draw_array(self.array, cmap='Reds')"
   ]
  },
  {
   "cell_type": "markdown",
   "metadata": {},
   "source": [
    "Here's a simple example starting with an \"island\" of material in the middle."
   ]
  },
  {
   "cell_type": "code",
   "execution_count": 3,
   "metadata": {},
   "outputs": [],
   "source": [
    "diff = Diffusion(n=9, r=0.1)\n",
    "diff.add_cells(3, 3, '111', '111', '111')\n",
    "diff.draw()"
   ]
  },
  {
   "cell_type": "markdown",
   "metadata": {},
   "source": [
    "And here's how it behaves over time: the \"material\" spreads out until the level is equal on the whole array."
   ]
  },
  {
   "cell_type": "code",
   "execution_count": 4,
   "metadata": {},
   "outputs": [],
   "source": [
    "diff.animate(frames=20, interval=0.1)"
   ]
  },
  {
   "cell_type": "code",
   "execution_count": 5,
   "metadata": {},
   "outputs": [],
   "source": [
    "from utils import three_frame\n",
    "\n",
    "diff = Diffusion(n=9, r=0.1)\n",
    "diff.add_cells(3, 3, '111', '111', '111')\n",
    "three_frame(diff, [0, 5, 10])\n",
    "\n",
    "savefig('figs/chap07-1')"
   ]
  },
  {
   "cell_type": "markdown",
   "metadata": {},
   "source": [
    "## Reaction-Diffusion\n",
    "\n",
    "Now we'll add a second material and let them interact.\n",
    "\n",
    "The following function helps with setting up the initial conditions."
   ]
  },
  {
   "cell_type": "code",
   "execution_count": 6,
   "metadata": {},
   "outputs": [],
   "source": [
    "def add_island(a, height=0.1):\n",
    "    \"\"\"Adds an island in the middle of the array.\n",
    "            \n",
    "    height: height of the island\n",
    "    \"\"\"\n",
    "    n, m = a.shape\n",
    "    radius = min(n, m) // 20\n",
    "    i = n//2\n",
    "    j = m//2\n",
    "    a[i-radius:i+radius, j-radius:j+radius] += height"
   ]
  },
  {
   "cell_type": "markdown",
   "metadata": {},
   "source": [
    "For the RD model, we have two arrays, one for each chemical.\n",
    "\n",
    "Following [Sims](http://www.karlsims.com/rd.html), I'm using a kernel that includes the diagonal elements.  They have lower weights because they are farther from the center cell.\n",
    "\n",
    "The `step` function computes these functions:\n",
    "\n",
    "$\\Delta A = r_a \\nabla^2 A - AB^2 + f (1-A) $\n",
    "\n",
    "$\\Delta B = r_b \\nabla^2 B + AB^2 - (k+f) B $\n",
    "\n",
    "where $\\nabla^2$ is the Laplace operator the kernel is intended to approximate."
   ]
  },
  {
   "cell_type": "code",
   "execution_count": 7,
   "metadata": {},
   "outputs": [],
   "source": [
    "class ReactionDiffusion(Diffusion):\n",
    "    \"\"\"Reaction-Diffusion Cellular Automaton.\"\"\"\n",
    "\n",
    "    kernel = np.array([[.05, .2, .05],\n",
    "                       [ .2, -1, .2],\n",
    "                       [.05, .2, .05]])\n",
    "\n",
    "    def __init__(self, n, params, noise=0.1):\n",
    "        \"\"\"Initializes the attributes.\n",
    "\n",
    "        n: number of rows\n",
    "        params: tuple of (Da, Db, f, k)\n",
    "        \"\"\"        \n",
    "        self.params = params\n",
    "        self.array1 = np.ones((n, n), dtype=float)\n",
    "        self.array2 = noise * np.random.random((n, n))\n",
    "        add_island(self.array2)\n",
    "        \n",
    "    def step(self):\n",
    "        \"\"\"Executes one time step.\"\"\"\n",
    "        A = self.array1\n",
    "        B = self.array2\n",
    "        ra, rb, f, k = self.params\n",
    "\n",
    "        options = dict(mode='same', boundary='wrap')\n",
    "\n",
    "        cA = correlate2d(A, self.kernel, **options)\n",
    "        cB = correlate2d(B, self.kernel, **options)\n",
    "        reaction = A * B**2\n",
    "        self.array1 += ra * cA - reaction + f * (1-A) \n",
    "        self.array2 += rb * cB + reaction - (f+k) * B\n",
    "        \n",
    "    def loop100(self):\n",
    "        self.loop(100)\n",
    "        \n",
    "    def draw(self):\n",
    "        \"\"\"Draws the cells.\"\"\"\n",
    "        options = dict(interpolation='bicubic', \n",
    "                       vmin=None, vmax=None)\n",
    "        draw_array(self.array1, cmap='Reds', **options)\n",
    "        draw_array(self.array2, cmap='Blues', **options)"
   ]
  },
  {
   "cell_type": "markdown",
   "metadata": {},
   "source": [
    "The viewer for the CA shows both arrays with some transparency, so we can see where one, the other, or both, levels are high.\n",
    "\n",
    "Unlike previous CAs, the state of each cell is meant to represent a continuous quantity, so it is appropriate to interpolate.\n",
    "\n",
    "Note that `draw` has to make copies of the arrays because `step` updates the arrays in place."
   ]
  },
  {
   "cell_type": "markdown",
   "metadata": {},
   "source": [
    "Here's an example using `params3`, which yields blue dots that seem to undergo mitosis."
   ]
  },
  {
   "cell_type": "code",
   "execution_count": 8,
   "metadata": {},
   "outputs": [],
   "source": [
    "params1 = 0.5, 0.25, 0.035, 0.057   # pink spots and stripes\n",
    "params2 = 0.5, 0.25, 0.055, 0.062   # coral\n",
    "params3 = 0.5, 0.25, 0.039, 0.065   # blue spots\n",
    "\n",
    "rd = ReactionDiffusion(n=100, params=params1)\n",
    "rd.draw()"
   ]
  },
  {
   "cell_type": "markdown",
   "metadata": {},
   "source": [
    "Here's a random starting condition with lots of A, a sprinkling of B everywhere, and an island of B in the middle."
   ]
  },
  {
   "cell_type": "code",
   "execution_count": 9,
   "metadata": {},
   "outputs": [],
   "source": [
    "rd.animate(frames=50, step=rd.loop100)"
   ]
  },
  {
   "cell_type": "markdown",
   "metadata": {},
   "source": [
    "I'll use the following function to generate figures using different parameters."
   ]
  },
  {
   "cell_type": "code",
   "execution_count": 10,
   "metadata": {},
   "outputs": [],
   "source": [
    "def make_rd(f, k, n=100):\n",
    "    \"\"\"Makes a ReactionDiffusion object with given parameters.\n",
    "    \"\"\"\n",
    "    params = 0.5, 0.25, f, k\n",
    "    rd = ReactionDiffusion(n, params)\n",
    "    return rd"
   ]
  },
  {
   "cell_type": "markdown",
   "metadata": {},
   "source": [
    "The following parameters yield pink stripes and spots on a blue background:"
   ]
  },
  {
   "cell_type": "code",
   "execution_count": 11,
   "metadata": {},
   "outputs": [],
   "source": [
    "from utils import three_frame\n",
    "\n",
    "def plot_rd(f, k, filename):\n",
    "    \"\"\"Makes a ReactionDiffusion object with given parameters.\n",
    "    \"\"\"\n",
    "    params = 0.5, 0.25, f, k\n",
    "    rd = ReactionDiffusion(100, params)\n",
    "\n",
    "    three_frame(rd, [1000, 2000, 4000])\n",
    "    \n",
    "    savefig(filename)\n",
    "    \n",
    "plot_rd(0.035, 0.057, 'figs/chap07-2')"
   ]
  },
  {
   "cell_type": "markdown",
   "metadata": {},
   "source": [
    "The following parameters yield blue stripes on a pink background."
   ]
  },
  {
   "cell_type": "code",
   "execution_count": 12,
   "metadata": {},
   "outputs": [],
   "source": [
    "plot_rd(0.055, 0.062, 'figs/chap07-3')"
   ]
  },
  {
   "cell_type": "markdown",
   "metadata": {},
   "source": [
    "The following parameters yield blue dots on a pink background"
   ]
  },
  {
   "cell_type": "code",
   "execution_count": 13,
   "metadata": {},
   "outputs": [],
   "source": [
    "plot_rd(0.039, 0.065, 'figs/chap07-4')"
   ]
  },
  {
   "cell_type": "markdown",
   "metadata": {},
   "source": [
    "## Percolation\n",
    "\n",
    "In the percolation model, each cell is porous with probability `p`.  We start with a row of wet cells at the time.  During each time step, a cell becomes wet if it is porous and at least one neighbor is wet (using a 4-cell neighborhood).  For each value of `p` we compute the probability that water reaches the bottom row.\n",
    "\n",
    "Porous cells have state `1` and wet cells have state `5`, so if a cell has a wet neighbor, the sum of the neighbors will by `5` or more.\n"
   ]
  },
  {
   "cell_type": "code",
   "execution_count": 14,
   "metadata": {},
   "outputs": [],
   "source": [
    "from scipy.signal import correlate2d\n",
    "from Cell2D import Cell2D\n",
    "\n",
    "\n",
    "class Percolation(Cell2D):\n",
    "    \"\"\"Percolation Cellular Automaton.\"\"\"\n",
    "\n",
    "    kernel = np.array([[0, 1, 0],\n",
    "                       [1, 0, 1],\n",
    "                       [0, 1, 0]])\n",
    "\n",
    "    def __init__(self, n, q=0.5):\n",
    "        \"\"\"Initializes the attributes.\n",
    "\n",
    "        n: number of rows\n",
    "        q: probability of porousness\n",
    "        \"\"\"\n",
    "        self.q = q\n",
    "        self.array = np.random.choice([1, 0], (n, n), p=[q, 1-q])\n",
    "        \n",
    "        # fill the top row with wet cells\n",
    "        self.array[0] = 5\n",
    "\n",
    "    def step(self):\n",
    "        \"\"\"Executes one time step.\"\"\"\n",
    "        a = self.array\n",
    "        c = correlate2d(a, self.kernel, mode='same')\n",
    "        self.array[(a==1) & (c>=5)] = 5\n",
    "        \n",
    "    def num_wet(self):\n",
    "        \"\"\"Total number of wet cells.\"\"\"\n",
    "        return np.sum(self.array == 5)\n",
    "    \n",
    "    def bottom_row_wet(self):\n",
    "        \"\"\"Number of wet cells in the bottom row.\"\"\"\n",
    "        return np.sum(self.array[-1] == 5)\n",
    "    \n",
    "    def draw(self):\n",
    "        \"\"\"Draws the cells.\"\"\"\n",
    "        draw_array(self.array, cmap='Blues', vmax=5)"
   ]
  },
  {
   "cell_type": "markdown",
   "metadata": {},
   "source": [
    "Here an example that shows the first three time steps."
   ]
  },
  {
   "cell_type": "code",
   "execution_count": 15,
   "metadata": {},
   "outputs": [],
   "source": [
    "n = 10\n",
    "q = 0.7\n",
    "np.random.seed(18)\n",
    "perc = Percolation(n, q)\n",
    "\n",
    "three_frame(perc, [1, 1, 1])\n",
    "\n",
    "savefig('figs/chap07-5')"
   ]
  },
  {
   "cell_type": "markdown",
   "metadata": {},
   "source": [
    "`test_perc` runs a percolation model and returns `True` if water reaches the bottom row and `False` otherwise."
   ]
  },
  {
   "cell_type": "code",
   "execution_count": 16,
   "metadata": {},
   "outputs": [],
   "source": [
    "def test_perc(perc):\n",
    "    \"\"\"Run a percolation model.\n",
    "    \n",
    "    Runs until water gets to the bottom row or nothing changes.\n",
    "    \n",
    "    returns: boolean, whether there's a percolating cluster\n",
    "    \"\"\"\n",
    "    num_wet = perc.num_wet()\n",
    "\n",
    "    while True:\n",
    "        perc.step()\n",
    "\n",
    "        if perc.bottom_row_wet():\n",
    "            return True\n",
    "        \n",
    "        new_num_wet = perc.num_wet()\n",
    "        if new_num_wet == num_wet:\n",
    "            return False\n",
    "\n",
    "        num_wet = new_num_wet"
   ]
  },
  {
   "cell_type": "markdown",
   "metadata": {},
   "source": [
    "Run a small example. "
   ]
  },
  {
   "cell_type": "code",
   "execution_count": 17,
   "metadata": {},
   "outputs": [],
   "source": [
    "np.random.seed(18)\n",
    "perc = Percolation(n, q)\n",
    "test_perc(perc)"
   ]
  },
  {
   "cell_type": "markdown",
   "metadata": {},
   "source": [
    "And here's the animation"
   ]
  },
  {
   "cell_type": "code",
   "execution_count": 18,
   "metadata": {},
   "outputs": [],
   "source": [
    "np.random.seed(18)\n",
    "perc = Percolation(n, q)\n",
    "perc.animate(frames=12, interval=0.3)"
   ]
  },
  {
   "cell_type": "markdown",
   "metadata": {},
   "source": [
    "For a given `q` we can estimate the probability of a percolating cluster by running several random configurations."
   ]
  },
  {
   "cell_type": "code",
   "execution_count": 19,
   "metadata": {},
   "outputs": [],
   "source": [
    "def estimate_prob_percolating(n=100, q=0.5, iters=100):\n",
    "    \"\"\"Estimates the probability of percolating.\n",
    "    \n",
    "    n: int number of rows and columns\n",
    "    q: probability that a cell is permeable\n",
    "    iters: number of arrays to test\n",
    "    \n",
    "    returns: float probability\n",
    "    \"\"\"\n",
    "    t = [test_perc(Percolation(n, q)) for i in range(iters)]\n",
    "    return np.mean(t)"
   ]
  },
  {
   "cell_type": "markdown",
   "metadata": {},
   "source": [
    "At `q=0.55` the probability is low."
   ]
  },
  {
   "cell_type": "code",
   "execution_count": 20,
   "metadata": {},
   "outputs": [],
   "source": [
    "fraction = estimate_prob_percolating(q=0.55)\n",
    "print(fraction)"
   ]
  },
  {
   "cell_type": "markdown",
   "metadata": {},
   "source": [
    "At `q=0.6`, the probability is close to 50%, which suggests that the critical value is nearby."
   ]
  },
  {
   "cell_type": "code",
   "execution_count": 21,
   "metadata": {},
   "outputs": [],
   "source": [
    "fraction = estimate_prob_percolating(q=0.6)\n",
    "print(fraction)"
   ]
  },
  {
   "cell_type": "markdown",
   "metadata": {},
   "source": [
    "At `p=0.65` the probability is high."
   ]
  },
  {
   "cell_type": "code",
   "execution_count": 22,
   "metadata": {},
   "outputs": [],
   "source": [
    "fraction = estimate_prob_percolating(q=0.65)\n",
    "print(fraction)"
   ]
  },
  {
   "cell_type": "markdown",
   "metadata": {},
   "source": [
    "We can search for the critical value by random walk: if there's a percolating cluster, we decrease `q`; otherwise we increase it.\n",
    "\n",
    "The path should go to the critical point and wander around it."
   ]
  },
  {
   "cell_type": "code",
   "execution_count": 23,
   "metadata": {},
   "outputs": [],
   "source": [
    "def find_critical(n=100, q=0.6, iters=100):\n",
    "    \"\"\"Estimate q_crit by random walk.\n",
    "    \n",
    "    returns: list of q that should wander around q_crit\n",
    "    \"\"\"\n",
    "    qs = [q]\n",
    "    for i in range(iters):\n",
    "        perc = Percolation(n, q)\n",
    "        if test_perc(perc):\n",
    "            q -= 0.005\n",
    "        else:\n",
    "            q += 0.005\n",
    "        qs.append(q)\n",
    "    return qs"
   ]
  },
  {
   "cell_type": "markdown",
   "metadata": {},
   "source": [
    "Let's see whether the critical value depends on the size of the grid.\n",
    "\n",
    "With `n=50`, the random walk wanders around 0.59."
   ]
  },
  {
   "cell_type": "code",
   "execution_count": 24,
   "metadata": {},
   "outputs": [],
   "source": [
    "%time qs = find_critical(n=50, iters=1000)\n",
    "plt.plot(qs)\n",
    "decorate(xlabel='Time steps', ylabel='Estimated q_crit')\n",
    "np.mean(qs)"
   ]
  },
  {
   "cell_type": "markdown",
   "metadata": {},
   "source": [
    "Larger values of `n` don't seem to change the critical value."
   ]
  },
  {
   "cell_type": "code",
   "execution_count": 25,
   "metadata": {},
   "outputs": [],
   "source": [
    "%time qs = find_critical(n=100, iters=200)\n",
    "plt.plot(qs)\n",
    "decorate(xlabel='Time steps', ylabel='Estimated q_crit')\n",
    "np.mean(qs)"
   ]
  },
  {
   "cell_type": "code",
   "execution_count": 26,
   "metadata": {},
   "outputs": [],
   "source": [
    "%time qs = find_critical(n=200, iters=40)\n",
    "plt.plot(qs)\n",
    "decorate(xlabel='Time steps', ylabel='Estimated q_crit')\n",
    "np.mean(qs)"
   ]
  },
  {
   "cell_type": "code",
   "execution_count": 27,
   "metadata": {},
   "outputs": [],
   "source": [
    "%time qs = find_critical(n=400, iters=10)\n",
    "plt.plot(qs)\n",
    "decorate(xlabel='Time steps', ylabel='Estimated q_crit')\n",
    "np.mean(qs)"
   ]
  },
  {
   "cell_type": "markdown",
   "metadata": {},
   "source": [
    "## Fractals"
   ]
  },
  {
   "cell_type": "markdown",
   "metadata": {},
   "source": [
    "Near the critical point, the cluster of wet cells forms a fractal.  We can see that visually in these examples:"
   ]
  },
  {
   "cell_type": "code",
   "execution_count": 28,
   "metadata": {},
   "outputs": [],
   "source": [
    "np.random.seed(22)\n",
    "perc1 = Percolation(n=100, q=0.6)\n",
    "flag = test_perc(perc1)\n",
    "print(flag)\n",
    "perc1.draw()"
   ]
  },
  {
   "cell_type": "code",
   "execution_count": 29,
   "metadata": {},
   "outputs": [],
   "source": [
    "np.random.seed(22)\n",
    "perc2 = Percolation(n=200, q=0.6)\n",
    "flag = test_perc(perc2)\n",
    "print(flag)\n",
    "perc2.draw()"
   ]
  },
  {
   "cell_type": "code",
   "execution_count": 30,
   "metadata": {},
   "outputs": [],
   "source": [
    "np.random.seed(22)\n",
    "perc3 = Percolation(n=300, q=0.6)\n",
    "flag = test_perc(perc3)\n",
    "print(flag)\n",
    "perc3.draw()"
   ]
  },
  {
   "cell_type": "code",
   "execution_count": 31,
   "metadata": {},
   "outputs": [],
   "source": [
    "plt.figure(figsize=(10, 4))\n",
    "\n",
    "plt.subplot(1, 3, 1)\n",
    "perc1.draw()\n",
    "\n",
    "plt.subplot(1, 3, 2)\n",
    "perc2.draw()\n",
    "\n",
    "plt.subplot(1, 3, 3)\n",
    "perc3.draw()\n",
    "\n",
    "plt.tight_layout()\n",
    "savefig('figs/chap07-6')"
   ]
  },
  {
   "cell_type": "markdown",
   "metadata": {},
   "source": [
    "To measure fractal dimension, let's start with 1D CAs."
   ]
  },
  {
   "cell_type": "code",
   "execution_count": 32,
   "metadata": {},
   "outputs": [],
   "source": [
    "from Cell1D import Cell1D, draw_ca"
   ]
  },
  {
   "cell_type": "markdown",
   "metadata": {},
   "source": [
    "Here's one rule that seems clearly 1D, one that is clearly 2D, and one that we can't obviously classify."
   ]
  },
  {
   "cell_type": "code",
   "execution_count": 33,
   "metadata": {},
   "outputs": [],
   "source": [
    "plt.figure(figsize=(10, 4))\n",
    "\n",
    "plt.subplot(1, 3, 1)\n",
    "draw_ca(20)\n",
    "\n",
    "plt.subplot(1, 3, 2)\n",
    "draw_ca(50)\n",
    "\n",
    "plt.subplot(1, 3, 3)\n",
    "draw_ca(18)\n",
    "\n",
    "plt.tight_layout()\n",
    "savefig('figs/chap07-7')"
   ]
  },
  {
   "cell_type": "markdown",
   "metadata": {},
   "source": [
    "The following function creates a 1D CA and steps through time, counting the number of on cells after each time step."
   ]
  },
  {
   "cell_type": "code",
   "execution_count": 34,
   "metadata": {},
   "outputs": [],
   "source": [
    "def count_cells(rule, n=500):\n",
    "    \"\"\"Create a 1-D CA and count cells.\n",
    "    \n",
    "    rule: int rule number\n",
    "    n: number of steps\n",
    "    \"\"\"\n",
    "    ca = Cell1D(rule, n)\n",
    "    ca.start_single()\n",
    "    \n",
    "    res = []\n",
    "    for i in range(1, n):\n",
    "        cells = np.sum(ca.array)\n",
    "        res.append((i, i**2, cells))\n",
    "        ca.step()\n",
    "        \n",
    "    return res"
   ]
  },
  {
   "cell_type": "markdown",
   "metadata": {},
   "source": [
    "This function plots the results, comparing the rate of cell growth to `size` and `size**2`.\n",
    "\n",
    "And it uses linregress to estimate the slope of the line on a log-log scale."
   ]
  },
  {
   "cell_type": "code",
   "execution_count": 35,
   "metadata": {},
   "outputs": [],
   "source": [
    "from scipy.stats import linregress\n",
    "\n",
    "def test_fractal(rule, ylabel='Number of Cells'):\n",
    "    \"\"\"Compute the fractal dimension of a rule.\n",
    "    \n",
    "    rule: int rule number\n",
    "    ylabel: string\n",
    "    \"\"\"\n",
    "    res = count_cells(rule)\n",
    "    steps, steps2, cells = zip(*res)\n",
    "\n",
    "    options = dict(linestyle='dashed', color='gray', alpha=0.7)\n",
    "    plt.plot(steps, steps2, label='d=2', **options)\n",
    "    plt.plot(steps, cells, label='rule=%d' % rule)\n",
    "    plt.plot(steps, steps, label='d=1', **options)\n",
    "\n",
    "    decorate(xscale='log', yscale='log',\n",
    "             xlabel='Time Steps',\n",
    "             ylabel=ylabel,\n",
    "             xlim=[1, 600], loc='upper left')\n",
    "\n",
    "    for ys in [cells]:\n",
    "        params = linregress(np.log(steps), np.log(ys))\n",
    "        print(params[0])"
   ]
  },
  {
   "cell_type": "markdown",
   "metadata": {},
   "source": [
    "The linear rule has dimension close to 1."
   ]
  },
  {
   "cell_type": "code",
   "execution_count": 36,
   "metadata": {},
   "outputs": [],
   "source": [
    "test_fractal(20)"
   ]
  },
  {
   "cell_type": "markdown",
   "metadata": {},
   "source": [
    "The triangular rule has dimension close to 2."
   ]
  },
  {
   "cell_type": "code",
   "execution_count": 37,
   "metadata": {},
   "outputs": [],
   "source": [
    "test_fractal(50)"
   ]
  },
  {
   "cell_type": "markdown",
   "metadata": {},
   "source": [
    "And the Sierpinski triangle has fractal dimension approximately 1.57"
   ]
  },
  {
   "cell_type": "code",
   "execution_count": 38,
   "metadata": {},
   "outputs": [],
   "source": [
    "test_fractal(18)"
   ]
  },
  {
   "cell_type": "code",
   "execution_count": 39,
   "metadata": {},
   "outputs": [],
   "source": [
    "plt.figure(figsize=(10, 4))\n",
    "\n",
    "plt.subplot(1, 3, 1)\n",
    "test_fractal(20)\n",
    "\n",
    "plt.subplot(1, 3, 2)\n",
    "test_fractal(50, ylabel='')\n",
    "\n",
    "plt.subplot(1, 3, 3)\n",
    "test_fractal(18, ylabel='')\n",
    "\n",
    "savefig('figs/chap07-8')"
   ]
  },
  {
   "cell_type": "markdown",
   "metadata": {},
   "source": [
    "Mathematically, the fractal dimension is supposed to be:"
   ]
  },
  {
   "cell_type": "code",
   "execution_count": 40,
   "metadata": {},
   "outputs": [],
   "source": [
    "np.log(3) / np.log(2)"
   ]
  },
  {
   "cell_type": "markdown",
   "metadata": {},
   "source": [
    "## Fractals in percolation models\n",
    "\n",
    "We can measure the fractal dimension of a percolation model by measuring how the number of wet cells scales as we increase the size of a bounding box."
   ]
  },
  {
   "cell_type": "markdown",
   "metadata": {},
   "source": [
    "The following function takes a percolation model that has run to completion.  It computes bounding boxes with sizes from 10 up to `n-1`, positioned in the center of the array.\n",
    "\n",
    "For each bounding box it counts the number of wet cells."
   ]
  },
  {
   "cell_type": "code",
   "execution_count": 41,
   "metadata": {},
   "outputs": [],
   "source": [
    "from scipy.stats import linregress\n",
    "\n",
    "def plot_perc_scaling(sizes, q):\n",
    "    res = []\n",
    "    for size in sizes:\n",
    "        perc = Percolation(size, q)\n",
    "        if test_perc(perc):\n",
    "            num_filled = perc.num_wet() - size\n",
    "            res.append((size, size**2, num_filled))\n",
    "        \n",
    "    sizes, cells, filled = zip(*res)\n",
    "    \n",
    "    options = dict(linestyle='dashed', color='gray', alpha=0.7)\n",
    "    plt.plot(sizes, cells, label='d=2', **options)\n",
    "    plt.plot(sizes, filled, '.', label='filled')\n",
    "    plt.plot(sizes, sizes, label='d=1', **options)\n",
    "    \n",
    "    decorate(xlabel='Array Size',\n",
    "                     ylabel='Cell Count',\n",
    "                     xscale='log', xlim=[9, 110], \n",
    "                     yscale='log', ylim=[9, 20000],\n",
    "                     loc='upper left')\n",
    "    \n",
    "    for ys in [cells, filled, sizes]:\n",
    "        params = linregress(np.log(sizes), np.log(ys))\n",
    "        print(params[0])"
   ]
  },
  {
   "cell_type": "markdown",
   "metadata": {},
   "source": [
    "If we plot the number of cells versus the size of the box on a log-log scale, the slope is the fractal dimension.\n",
    "\n",
    "When `q` is near the critical point, the fractal dimension of the wet cells is usually between 1.8 and 2.0, but it varies from one run to the next."
   ]
  },
  {
   "cell_type": "code",
   "execution_count": 42,
   "metadata": {},
   "outputs": [],
   "source": [
    "sizes = np.arange(10, 101)\n",
    "plot_perc_scaling(sizes, q=0.59)\n",
    "\n",
    "savefig('figs/chap07-9')"
   ]
  },
  {
   "cell_type": "markdown",
   "metadata": {},
   "source": [
    "**Exercise:** In Chapter 7 we showed that the Rule 18 CA produces a fractal.\n",
    "Can you find other rules that produce fractals?  For each one,\n",
    "estimate its fractal dimension.\n",
    "\n",
    "Note: the `Cell1D` object in `Cell1D.py` does not wrap around from the left edge to the right, which creates some artifacts at the boundaries.  You might want to use `Wrap1D`, which is a child class of `Cell1D` that wraps around.  It is also defined in `Cell1D.py`."
   ]
  },
  {
   "cell_type": "code",
   "execution_count": 43,
   "metadata": {},
   "outputs": [],
   "source": [
    "# Solution goes here"
   ]
  },
  {
   "cell_type": "code",
   "execution_count": 44,
   "metadata": {},
   "outputs": [],
   "source": [
    "# Solution goes here"
   ]
  },
  {
   "cell_type": "code",
   "execution_count": 45,
   "metadata": {},
   "outputs": [],
   "source": [
    "# Solution goes here"
   ]
  },
  {
   "cell_type": "code",
   "execution_count": 46,
   "metadata": {},
   "outputs": [],
   "source": [
    "# Solution goes here"
   ]
  },
  {
   "cell_type": "code",
   "execution_count": 47,
   "metadata": {},
   "outputs": [],
   "source": [
    "# Solution goes here"
   ]
  },
  {
   "cell_type": "code",
   "execution_count": 48,
   "metadata": {},
   "outputs": [],
   "source": [
    "# Solution goes here"
   ]
  },
  {
   "cell_type": "markdown",
   "metadata": {},
   "source": [
    "**Exercise:** In 1990 Bak, Chen and Tang proposed a cellular automaton that is\n",
    "an abstract model of a forest fire.  Each cell is in one of three\n",
    "states: empty, occupied by a tree, or on fire.\n",
    "\n",
    "The rules of the CA are:\n",
    "\n",
    "* An empty cell becomes occupied with probability $p$.\n",
    "\n",
    "* A cell with a tree burns if any of its neighbors\n",
    "  is on fire.\n",
    "\n",
    "* A cell with a tree spontaneously burns, with\n",
    "  probability $f$, even if none of its neighbors is on fire.\n",
    "\n",
    "* A cell with a burning tree becomes an empty cell in the next\n",
    "  time step.\n",
    "\n",
    "Write a\n",
    "program that implements it.  You might want to inherit from `Cell2D`.\n",
    "Typical values for the parameters are\n",
    "$p=0.01$ and $f=0.001$, but you might want to experiment with other\n",
    "values.\n",
    "\n",
    "Starting from a random initial condition, run the CA until it reaches\n",
    "a steady state where the number of trees no longer increases or\n",
    "decreases consistently.  \n",
    "\n",
    "In steady state, is the geometry of the forest fractal?\n",
    "What is its fractal dimension?"
   ]
  },
  {
   "cell_type": "code",
   "execution_count": 49,
   "metadata": {},
   "outputs": [],
   "source": [
    "# Solution goes here"
   ]
  },
  {
   "cell_type": "code",
   "execution_count": 50,
   "metadata": {},
   "outputs": [],
   "source": [
    "# Solution goes here"
   ]
  },
  {
   "cell_type": "code",
   "execution_count": 51,
   "metadata": {},
   "outputs": [],
   "source": [
    "# Solution goes here"
   ]
  },
  {
   "cell_type": "code",
   "execution_count": 52,
   "metadata": {},
   "outputs": [],
   "source": [
    "# Solution goes here"
   ]
  },
  {
   "cell_type": "code",
   "execution_count": 53,
   "metadata": {},
   "outputs": [],
   "source": [
    "# Solution goes here"
   ]
  },
  {
   "cell_type": "code",
   "execution_count": 58,
   "metadata": {},
   "outputs": [],
   "source": [
    "# Solution goes here"
   ]
  },
  {
   "cell_type": "code",
   "execution_count": 55,
   "metadata": {},
   "outputs": [],
   "source": [
    "# Solution goes here"
   ]
  },
  {
   "cell_type": "code",
   "execution_count": 56,
   "metadata": {},
   "outputs": [],
   "source": [
    "# Solution goes here"
   ]
  },
  {
   "cell_type": "code",
   "execution_count": null,
   "metadata": {},
   "outputs": [],
   "source": []
  }
 ],
 "metadata": {
  "kernelspec": {
   "display_name": "Python 3",
   "language": "python",
   "name": "python3"
  },
  "language_info": {
   "codemirror_mode": {
    "name": "ipython",
    "version": 3
   },
   "file_extension": ".py",
   "mimetype": "text/x-python",
   "name": "python",
   "nbconvert_exporter": "python",
   "pygments_lexer": "ipython3",
   "version": "3.8.3"
  }
 },
 "nbformat": 4,
 "nbformat_minor": 2
}
