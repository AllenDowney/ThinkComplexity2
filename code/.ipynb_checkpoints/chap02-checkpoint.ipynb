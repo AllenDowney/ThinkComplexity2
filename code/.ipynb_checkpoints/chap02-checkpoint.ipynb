{
 "cells": [
  {
   "cell_type": "markdown",
   "metadata": {},
   "source": [
    "# Erdos-Renyi Graphs\n",
    "\n",
    "Code examples from [Think Complexity, 2nd edition](http://greenteapress.com/wp/complexity2), Chapter 2\n",
    "\n",
    "Copyright 2016 Allen Downey, [MIT License](http://opensource.org/licenses/MIT)"
   ]
  },
  {
   "cell_type": "code",
   "execution_count": 1,
   "metadata": {
    "collapsed": false
   },
   "outputs": [],
   "source": [
    "from __future__ import print_function, division\n",
    "\n",
    "%matplotlib inline\n",
    "\n",
    "import warnings\n",
    "warnings.filterwarnings('ignore')\n",
    "\n",
    "import matplotlib.pyplot as plt\n",
    "\n",
    "import networkx as nx\n",
    "import numpy as np\n",
    "\n",
    "# colors from our friends at http://colorbrewer2.org\n",
    "COLORS = ['#8dd3c7','#ffffb3','#bebada','#fb8072','#80b1d3','#fdb462',\n",
    "          '#b3de69','#fccde5','#d9d9d9','#bc80bd','#ccebc5','#ffed6f']"
   ]
  },
  {
   "cell_type": "code",
   "execution_count": 2,
   "metadata": {
    "collapsed": true
   },
   "outputs": [],
   "source": [
    "from thinkstats2 import RandomSeed\n",
    "RandomSeed(17)"
   ]
  },
  {
   "cell_type": "markdown",
   "metadata": {},
   "source": [
    "## Directed graph\n",
    "\n",
    "The first example is a directed graph that represents a social network with three nodes."
   ]
  },
  {
   "cell_type": "code",
   "execution_count": 3,
   "metadata": {
    "collapsed": false
   },
   "outputs": [
    {
     "data": {
      "text/plain": [
       "['Bob', 'Alice', 'Chuck']"
      ]
     },
     "execution_count": 3,
     "metadata": {},
     "output_type": "execute_result"
    }
   ],
   "source": [
    "G = nx.DiGraph()\n",
    "G.add_node('Alice')\n",
    "G.add_node('Bob')\n",
    "G.add_node('Chuck')\n",
    "G.nodes()"
   ]
  },
  {
   "cell_type": "markdown",
   "metadata": {},
   "source": [
    "Here's how we add edges between nodes."
   ]
  },
  {
   "cell_type": "code",
   "execution_count": 4,
   "metadata": {
    "collapsed": false
   },
   "outputs": [
    {
     "data": {
      "text/plain": [
       "[('Bob', 'Alice'), ('Bob', 'Chuck'), ('Alice', 'Bob'), ('Alice', 'Chuck')]"
      ]
     },
     "execution_count": 4,
     "metadata": {},
     "output_type": "execute_result"
    }
   ],
   "source": [
    "G.add_edge('Alice', 'Bob')\n",
    "G.add_edge('Alice', 'Chuck')\n",
    "G.add_edge('Bob', 'Alice')\n",
    "G.add_edge('Bob', 'Chuck')\n",
    "G.edges()"
   ]
  },
  {
   "cell_type": "markdown",
   "metadata": {},
   "source": [
    "And here's how to draw the graph."
   ]
  },
  {
   "cell_type": "code",
   "execution_count": 5,
   "metadata": {
    "collapsed": false
   },
   "outputs": [
    {
     "data": {
      "image/png": "[encoded data removed]",
      "text/plain": [
       "<matplotlib.figure.Figure at 0x7f58208>"
      ]
     },
     "metadata": {},
     "output_type": "display_data"
    }
   ],
   "source": [
    "nx.draw_circular(G, \n",
    "                 node_color=COLORS[0], \n",
    "                 node_size=2000, \n",
    "                 with_labels=True)\n",
    "plt.axis('equal')\n",
    "plt.savefig('chap02-1.pdf')"
   ]
  },
  {
   "cell_type": "markdown",
   "metadata": {},
   "source": [
    "**Exercise:**  Add another node and a few more edges and draw the graph again."
   ]
  },
  {
   "cell_type": "code",
   "execution_count": 6,
   "metadata": {
    "collapsed": false
   },
   "outputs": [
    {
     "data": {
      "image/png": "[encoded data removed]",
      "text/plain": [
       "<matplotlib.figure.Figure at 0xa905860>"
      ]
     },
     "metadata": {},
     "output_type": "display_data"
    }
   ],
   "source": [
    "G.add_node('John')\n",
    "G.add_edge('John', 'Bob')\n",
    "G.add_edge('Bob', 'John')\n",
    "nx.draw_circular(G, \n",
    "                 node_color=COLORS[0], \n",
    "                 node_size=2000, \n",
    "                 with_labels=True)\n",
    "plt.axis('equal')\n",
    "plt.savefig('chap02-1.pdf')"
   ]
  },
  {
   "cell_type": "markdown",
   "metadata": {},
   "source": [
    "## Undirected graph\n",
    "\n",
    "The second example is an undirected graph that represents cities and the driving times between them.\n",
    "\n",
    "`pos` is a dictionary that maps from each city to its coordinates."
   ]
  },
  {
   "cell_type": "code",
   "execution_count": 7,
   "metadata": {
    "collapsed": false
   },
   "outputs": [
    {
     "data": {
      "text/plain": [
       "(-74, 43)"
      ]
     },
     "execution_count": 7,
     "metadata": {},
     "output_type": "execute_result"
    }
   ],
   "source": [
    "pos = dict(Albany=(-74, 43),\n",
    "          Boston=(-71, 42),\n",
    "          NYC=(-74, 41),\n",
    "          Philly=(-75, 40))\n",
    "pos['Albany']"
   ]
  },
  {
   "cell_type": "markdown",
   "metadata": {},
   "source": [
    "We can use the keys in `pos` to add nodes to the graph."
   ]
  },
  {
   "cell_type": "code",
   "execution_count": 8,
   "metadata": {
    "collapsed": false
   },
   "outputs": [
    {
     "data": {
      "text/plain": [
       "['NYC', 'Albany', 'Philly', 'Boston']"
      ]
     },
     "execution_count": 8,
     "metadata": {},
     "output_type": "execute_result"
    }
   ],
   "source": [
    "G = nx.Graph()\n",
    "G.add_nodes_from(pos)\n",
    "G.nodes()"
   ]
  },
  {
   "cell_type": "markdown",
   "metadata": {},
   "source": [
    "`drive_times` is a dictionary that maps from pairs of cities to the driving times between them."
   ]
  },
  {
   "cell_type": "code",
   "execution_count": 9,
   "metadata": {
    "collapsed": false
   },
   "outputs": [],
   "source": [
    "drive_times = {('Albany', 'Boston'): 3,\n",
    "               ('Albany', 'NYC'): 4,\n",
    "               ('Boston', 'NYC'): 4,\n",
    "               ('NYC', 'Philly'): 2}"
   ]
  },
  {
   "cell_type": "markdown",
   "metadata": {},
   "source": [
    "We can use the keys from `drive_times` to add edges to the graph."
   ]
  },
  {
   "cell_type": "code",
   "execution_count": 10,
   "metadata": {
    "collapsed": false
   },
   "outputs": [
    {
     "data": {
      "text/plain": [
       "[('NYC', 'Boston'), ('NYC', 'Philly'), ('NYC', 'Albany'), ('Albany', 'Boston')]"
      ]
     },
     "execution_count": 10,
     "metadata": {},
     "output_type": "execute_result"
    }
   ],
   "source": [
    "G.add_edges_from(drive_times)\n",
    "G.edges()"
   ]
  },
  {
   "cell_type": "markdown",
   "metadata": {},
   "source": [
    "Now we can draw the graph using `pos` to indicate the positions of the nodes, and `drive_times` to label the edges."
   ]
  },
  {
   "cell_type": "code",
   "execution_count": 11,
   "metadata": {
    "collapsed": false
   },
   "outputs": [
    {
     "data": {
      "image/png": "[encoded data removed]",
      "text/plain": [
       "<matplotlib.figure.Figure at 0xb9165f8>"
      ]
     },
     "metadata": {},
     "output_type": "display_data"
    }
   ],
   "source": [
    "nx.draw(G, pos, \n",
    "        node_color=COLORS[1], \n",
    "        node_shape='s', \n",
    "        node_size=2500, \n",
    "        with_labels=True)\n",
    "\n",
    "nx.draw_networkx_edge_labels(G, pos, \n",
    "                             edge_labels=drive_times)\n",
    "\n",
    "plt.axis('equal')\n",
    "plt.savefig('chap02-2.pdf')"
   ]
  },
  {
   "cell_type": "markdown",
   "metadata": {},
   "source": [
    "**Exercise:**  Add another city and at least one edge."
   ]
  },
  {
   "cell_type": "code",
   "execution_count": 12,
   "metadata": {
    "collapsed": false
   },
   "outputs": [
    {
     "data": {
      "text/plain": [
       "(-76.0, -68.0, 39.5, 43.5)"
      ]
     },
     "execution_count": 12,
     "metadata": {},
     "output_type": "execute_result"
    },
    {
     "data": {
      "image/png": "[encoded data removed]",
      "text/plain": [
       "<matplotlib.figure.Figure at 0xbc07668>"
      ]
     },
     "metadata": {},
     "output_type": "display_data"
    }
   ],
   "source": [
    "G.add_nodes_from({'Needham':(-69, 42)})\n",
    "pos['Needham'] = (-69, 42)\n",
    "G.add_edges_from({('Needham', 'Boston'): 1})\n",
    "drive_times[('Needham', 'Boston')] = 1\n",
    "nx.draw(G, pos, \n",
    "        node_color=COLORS[1], \n",
    "        node_shape='s', \n",
    "        node_size=2500, \n",
    "        with_labels=True)\n",
    "\n",
    "nx.draw_networkx_edge_labels(G, pos, \n",
    "                             edge_labels=drive_times)\n",
    "\n",
    "plt.axis('equal')"
   ]
  },
  {
   "cell_type": "markdown",
   "metadata": {},
   "source": [
    "## Complete graph\n",
    "\n",
    "To make a complete graph, we use a generator function that iterates through all pairs of nodes."
   ]
  },
  {
   "cell_type": "code",
   "execution_count": 13,
   "metadata": {
    "collapsed": false
   },
   "outputs": [],
   "source": [
    "def all_pairs(nodes):\n",
    "    for i, u in enumerate(nodes):\n",
    "        for j, v in enumerate(nodes):\n",
    "            if i < j:\n",
    "                yield u, v"
   ]
  },
  {
   "cell_type": "markdown",
   "metadata": {},
   "source": [
    "`make_complete_graph` makes a `Graph` with the given number of nodes and edges between all pairs of nodes."
   ]
  },
  {
   "cell_type": "code",
   "execution_count": 14,
   "metadata": {
    "collapsed": false
   },
   "outputs": [],
   "source": [
    "def make_complete_graph(n):\n",
    "    G = nx.Graph()\n",
    "    nodes = range(n)\n",
    "    G.add_nodes_from(nodes)\n",
    "    G.add_edges_from(all_pairs(nodes))\n",
    "    return G"
   ]
  },
  {
   "cell_type": "markdown",
   "metadata": {},
   "source": [
    "Here's a complete graph with 10 nodes:"
   ]
  },
  {
   "cell_type": "code",
   "execution_count": 15,
   "metadata": {
    "collapsed": false
   },
   "outputs": [
    {
     "data": {
      "text/plain": [
       "10"
      ]
     },
     "execution_count": 15,
     "metadata": {},
     "output_type": "execute_result"
    }
   ],
   "source": [
    "complete = make_complete_graph(10)\n",
    "len(complete.nodes())"
   ]
  },
  {
   "cell_type": "markdown",
   "metadata": {},
   "source": [
    "And here's what it looks like."
   ]
  },
  {
   "cell_type": "code",
   "execution_count": 16,
   "metadata": {
    "collapsed": false
   },
   "outputs": [
    {
     "data": {
      "image/png": "[encoded data removed]",
      "text/plain": [
       "<matplotlib.figure.Figure at 0xbe7a3c8>"
      ]
     },
     "metadata": {},
     "output_type": "display_data"
    }
   ],
   "source": [
    "nx.draw_circular(complete, \n",
    "                 node_color=COLORS[2], \n",
    "                 node_size=1000, \n",
    "                 with_labels=True)\n",
    "plt.savefig('chap02-3.pdf')"
   ]
  },
  {
   "cell_type": "markdown",
   "metadata": {},
   "source": [
    "The `neighbors` method returns a list of neighbors for a given node."
   ]
  },
  {
   "cell_type": "code",
   "execution_count": 17,
   "metadata": {
    "collapsed": false
   },
   "outputs": [
    {
     "data": {
      "text/plain": [
       "[1, 2, 3, 4, 5, 6, 7, 8, 9]"
      ]
     },
     "execution_count": 17,
     "metadata": {},
     "output_type": "execute_result"
    }
   ],
   "source": [
    "complete.neighbors(0)"
   ]
  },
  {
   "cell_type": "markdown",
   "metadata": {},
   "source": [
    "**Exercise:** Make and draw complete directed graph with 5 nodes."
   ]
  },
  {
   "cell_type": "code",
   "execution_count": 63,
   "metadata": {
    "collapsed": false
   },
   "outputs": [
    {
     "data": {
      "image/png": "[encoded data removed]",
      "text/plain": [
       "<matplotlib.figure.Figure at 0xbe12eb8>"
      ]
     },
     "metadata": {},
     "output_type": "display_data"
    }
   ],
   "source": [
    "def make_complete_digraph(n):\n",
    "    G = nx.DiGraph()\n",
    "    nodes = range(n)\n",
    "    G.add_nodes_from(nodes)\n",
    "    for a, b in all_pairs(nodes):\n",
    "        G.add_edge(a, b)\n",
    "        G.add_edge(b, a)\n",
    "    return G\n",
    "\n",
    "complete5 = make_complete_digraph(5)\n",
    "nx.draw_circular(complete5, \n",
    "                 node_color=COLORS[2], \n",
    "                 node_size=1000, \n",
    "                 with_labels=True)"
   ]
  },
  {
   "cell_type": "markdown",
   "metadata": {},
   "source": [
    "## Random graphs\n",
    "\n",
    "Next we'll make a random graph where the probability of an edge between each pair of nodes is $p$.\n",
    "\n",
    "The helper function `flip` returns True with probability `p` and False with probability `1-p`"
   ]
  },
  {
   "cell_type": "code",
   "execution_count": 19,
   "metadata": {
    "collapsed": false
   },
   "outputs": [],
   "source": [
    "from numpy.random import random\n",
    "\n",
    "def flip(p):\n",
    "    return random() < p"
   ]
  },
  {
   "cell_type": "markdown",
   "metadata": {},
   "source": [
    "`random_pairs` is a generator function that enumerates all possible pairs of nodes and yields each one with probability `p` "
   ]
  },
  {
   "cell_type": "code",
   "execution_count": 20,
   "metadata": {
    "collapsed": false
   },
   "outputs": [],
   "source": [
    "def random_pairs(nodes, p):\n",
    "    for i, u in enumerate(nodes):\n",
    "        for j, v in enumerate(nodes):\n",
    "            if i<j and flip(p):\n",
    "                yield u, v"
   ]
  },
  {
   "cell_type": "markdown",
   "metadata": {},
   "source": [
    "`make_random_graph` makes an ER graph where the probability of an edge between each pair of nodes is `p`."
   ]
  },
  {
   "cell_type": "code",
   "execution_count": 21,
   "metadata": {
    "collapsed": false
   },
   "outputs": [],
   "source": [
    "def make_random_graph(n, p):\n",
    "    G = nx.Graph()\n",
    "    nodes = range(n)\n",
    "    G.add_nodes_from(nodes)\n",
    "    G.add_edges_from(random_pairs(nodes, p))\n",
    "    return G"
   ]
  },
  {
   "cell_type": "markdown",
   "metadata": {},
   "source": [
    "Here's an example with `n=10` and `p=0.3`"
   ]
  },
  {
   "cell_type": "code",
   "execution_count": 22,
   "metadata": {
    "collapsed": false
   },
   "outputs": [
    {
     "data": {
      "text/plain": [
       "17"
      ]
     },
     "execution_count": 22,
     "metadata": {},
     "output_type": "execute_result"
    }
   ],
   "source": [
    "random_graph = make_random_graph(10, 0.3)\n",
    "len(random_graph.edges())"
   ]
  },
  {
   "cell_type": "markdown",
   "metadata": {},
   "source": [
    "And here's what it looks like:"
   ]
  },
  {
   "cell_type": "code",
   "execution_count": 23,
   "metadata": {
    "collapsed": false
   },
   "outputs": [
    {
     "data": {
      "image/png": "[encoded data removed]",
      "text/plain": [
       "<matplotlib.figure.Figure at 0xa6a77f0>"
      ]
     },
     "metadata": {},
     "output_type": "display_data"
    }
   ],
   "source": [
    "nx.draw_circular(random_graph, \n",
    "                 node_color=COLORS[3], \n",
    "                 node_size=1000, \n",
    "                 with_labels=True)\n",
    "plt.savefig('chap02-4.pdf')"
   ]
  },
  {
   "cell_type": "markdown",
   "metadata": {},
   "source": [
    "## Connectivity\n",
    "\n",
    "To check whether a graph is connected, we'll start by finding all nodes that can be reached, starting with a given node:"
   ]
  },
  {
   "cell_type": "code",
   "execution_count": 24,
   "metadata": {
    "collapsed": false
   },
   "outputs": [],
   "source": [
    "def reachable_nodes(G, start):\n",
    "    seen = set()\n",
    "    stack = [start]\n",
    "    while stack:\n",
    "        node = stack.pop()\n",
    "        if node not in seen:\n",
    "            seen.add(node)\n",
    "            stack.extend(G.neighbors(node))\n",
    "    return seen"
   ]
  },
  {
   "cell_type": "markdown",
   "metadata": {},
   "source": [
    "In the complete graph, starting from node 0, we can reach all nodes:"
   ]
  },
  {
   "cell_type": "code",
   "execution_count": 25,
   "metadata": {
    "collapsed": false
   },
   "outputs": [
    {
     "data": {
      "text/plain": [
       "{0, 1, 2, 3, 4, 5, 6, 7, 8, 9}"
      ]
     },
     "execution_count": 25,
     "metadata": {},
     "output_type": "execute_result"
    }
   ],
   "source": [
    "reachable_nodes(complete, 0)"
   ]
  },
  {
   "cell_type": "markdown",
   "metadata": {},
   "source": [
    "In the random graph we generated, we can also reach all nodes (but that's not always true):"
   ]
  },
  {
   "cell_type": "code",
   "execution_count": 26,
   "metadata": {
    "collapsed": false
   },
   "outputs": [
    {
     "data": {
      "text/plain": [
       "{0, 1, 2, 3, 4, 5, 6, 7, 8, 9}"
      ]
     },
     "execution_count": 26,
     "metadata": {},
     "output_type": "execute_result"
    }
   ],
   "source": [
    "reachable_nodes(random_graph, 0)"
   ]
  },
  {
   "cell_type": "markdown",
   "metadata": {},
   "source": [
    "We can use `reachable_nodes` to check whether a graph is connected:"
   ]
  },
  {
   "cell_type": "code",
   "execution_count": 27,
   "metadata": {
    "collapsed": true
   },
   "outputs": [],
   "source": [
    "def is_connected(G):\n",
    "    start = next(G.nodes_iter())\n",
    "    reachable = reachable_nodes(G, start)\n",
    "    return len(reachable) == len(G)"
   ]
  },
  {
   "cell_type": "markdown",
   "metadata": {},
   "source": [
    "Again, the complete graph is connected:"
   ]
  },
  {
   "cell_type": "code",
   "execution_count": 28,
   "metadata": {
    "collapsed": false
   },
   "outputs": [
    {
     "data": {
      "text/plain": [
       "True"
      ]
     },
     "execution_count": 28,
     "metadata": {},
     "output_type": "execute_result"
    }
   ],
   "source": [
    "is_connected(complete)"
   ]
  },
  {
   "cell_type": "markdown",
   "metadata": {},
   "source": [
    "But if we generate a random graph with a low value of `p`, it's not:"
   ]
  },
  {
   "cell_type": "code",
   "execution_count": 35,
   "metadata": {
    "collapsed": false
   },
   "outputs": [
    {
     "data": {
      "text/plain": [
       "1"
      ]
     },
     "execution_count": 35,
     "metadata": {},
     "output_type": "execute_result"
    }
   ],
   "source": [
    "random_graph = make_random_graph(10, 0.1)\n",
    "len(random_graph.edges())"
   ]
  },
  {
   "cell_type": "markdown",
   "metadata": {},
   "source": []
  },
  {
   "cell_type": "code",
   "execution_count": 38,
   "metadata": {
    "collapsed": false
   },
   "outputs": [
    {
     "data": {
      "text/plain": [
       "False"
      ]
     },
     "execution_count": 38,
     "metadata": {},
     "output_type": "execute_result"
    }
   ],
   "source": [
    "is_connected(random_graph)"
   ]
  },
  {
   "cell_type": "markdown",
   "metadata": {},
   "source": [
    "**Exercise:** What do you think it means for a directed graph to be connected?  Write a function that checks whether a directed graph is connected."
   ]
  },
  {
   "cell_type": "code",
   "execution_count": 41,
   "metadata": {
    "collapsed": false
   },
   "outputs": [],
   "source": [
    "# I think for a directed graph to be connected, you must be able to travel\n",
    "# From any node, to any node, along the directions of the connections.\n",
    "\n",
    "# Checked online. That is apparently \"Strongle connected.\" I think it fits.\n",
    "def is_connected_directed(G):\n",
    "    for node in G.nodes_iter():\n",
    "        if len(reachable_nodes(G.nodes_iter())) != len(G):\n",
    "            return False\n",
    "    return True\n",
    "# Unlike the previous code, this has to check every node, since going from A to B doesn't mean that you can \n",
    "# Go from B to A. I will continue looking for more efficient implimentations.\n",
    "    "
   ]
  },
  {
   "cell_type": "markdown",
   "metadata": {},
   "source": [
    "## Probability of connectivity\n",
    "\n",
    "Now let's estimare the probability that a randomly-generated ER graph is connected.\n",
    "\n",
    "This function takes `n` and `p`, generates `iters` graphs, and returns the fraction of them that are connected."
   ]
  },
  {
   "cell_type": "code",
   "execution_count": 42,
   "metadata": {
    "collapsed": true
   },
   "outputs": [],
   "source": [
    "def prob_connected(n, p, iters=100):\n",
    "    count = 0\n",
    "    for i in range(iters):\n",
    "        random_graph = make_random_graph(n, p)\n",
    "        if is_connected(random_graph):\n",
    "            count += 1\n",
    "    return count/iters"
   ]
  },
  {
   "cell_type": "markdown",
   "metadata": {},
   "source": [
    "With `n=10` and `p=0.3`, the probability of being connected is about 65%."
   ]
  },
  {
   "cell_type": "code",
   "execution_count": 43,
   "metadata": {
    "collapsed": false
   },
   "outputs": [
    {
     "data": {
      "text/plain": [
       "0.6494"
      ]
     },
     "execution_count": 43,
     "metadata": {},
     "output_type": "execute_result"
    }
   ],
   "source": [
    "n = 10\n",
    "prob_connected(n, 0.3, iters=10000)"
   ]
  },
  {
   "cell_type": "markdown",
   "metadata": {},
   "source": [
    "According to Erdos and Renyi, the critical value of `p` for `n=10` is about 0.23. "
   ]
  },
  {
   "cell_type": "code",
   "execution_count": 44,
   "metadata": {
    "collapsed": false
   },
   "outputs": [
    {
     "data": {
      "text/plain": [
       "0.23025850929940458"
      ]
     },
     "execution_count": 44,
     "metadata": {},
     "output_type": "execute_result"
    }
   ],
   "source": [
    "pstar = np.log(n) / n\n",
    "pstar"
   ]
  },
  {
   "cell_type": "markdown",
   "metadata": {},
   "source": [
    "So let's plot the probability of connectivity for a range of values for `p`"
   ]
  },
  {
   "cell_type": "code",
   "execution_count": 45,
   "metadata": {
    "collapsed": false
   },
   "outputs": [
    {
     "data": {
      "text/plain": [
       "array([ 0.05011872,  0.0676083 ,  0.09120108,  0.12302688,  0.16595869,\n",
       "        0.22387211,  0.30199517,  0.40738028,  0.54954087,  0.74131024,  1.        ])"
      ]
     },
     "execution_count": 45,
     "metadata": {},
     "output_type": "execute_result"
    }
   ],
   "source": [
    "ps = np.logspace(-1.3, 0, 11)\n",
    "ps"
   ]
  },
  {
   "cell_type": "markdown",
   "metadata": {},
   "source": [
    "I'll estimate the probabilities with `iters=1000`"
   ]
  },
  {
   "cell_type": "code",
   "execution_count": 46,
   "metadata": {
    "collapsed": false
   },
   "outputs": [
    {
     "name": "stdout",
     "output_type": "stream",
     "text": [
      "0.0501187233627 0.0\n",
      "0.0676082975392 0.0\n",
      "0.0912010839356 0.004\n",
      "0.123026877081 0.016\n",
      "0.165958690744 0.111\n",
      "0.223872113857 0.346\n",
      "0.30199517204 0.664\n",
      "0.407380277804 0.899\n",
      "0.549540873858 0.989\n",
      "0.741310241301 1.0\n",
      "1.0 1.0\n"
     ]
    }
   ],
   "source": [
    "ys = [prob_connected(n, p, 1000) for p in ps]\n",
    "\n",
    "for p, y in zip(ps, ys):\n",
    "    print(p, y)"
   ]
  },
  {
   "cell_type": "markdown",
   "metadata": {},
   "source": [
    "And then plot them, adding a vertical line at the computed critical value"
   ]
  },
  {
   "cell_type": "code",
   "execution_count": 47,
   "metadata": {
    "collapsed": false
   },
   "outputs": [
    {
     "data": {
      "image/png": "[encoded data removed]",
      "text/plain": [
       "<matplotlib.figure.Figure at 0xa599c88>"
      ]
     },
     "metadata": {},
     "output_type": "display_data"
    }
   ],
   "source": [
    "import thinkplot\n",
    "\n",
    "thinkplot.vlines([pstar], 0, 1, color='gray')\n",
    "thinkplot.plot(ps, ys)\n",
    "thinkplot.config(xlabel='p', ylabel='prob connected', xscale='log', xlim=[ps[0], ps[-1]])\n",
    "plt.savefig('chap02-5.pdf')"
   ]
  },
  {
   "cell_type": "markdown",
   "metadata": {},
   "source": [
    "We can run the same analysis for a few more values of `n`."
   ]
  },
  {
   "cell_type": "code",
   "execution_count": 48,
   "metadata": {
    "collapsed": false
   },
   "outputs": [
    {
     "data": {
      "image/png": "[encoded data removed]",
      "text/plain": [
       "<matplotlib.figure.Figure at 0xc58cdd8>"
      ]
     },
     "metadata": {},
     "output_type": "display_data"
    }
   ],
   "source": [
    "ns = [30, 100, 300]\n",
    "ps = np.logspace(-2.5, 0, 11)\n",
    "\n",
    "thinkplot.preplot(len(ns))\n",
    "for n in ns:\n",
    "    pstar = np.log(n) / n\n",
    "    thinkplot.vlines([pstar], 0, 1, color='gray')\n",
    "\n",
    "    ys = [prob_connected(n, p) for p in ps]\n",
    "    thinkplot.plot(ps, ys, label='n=%d' % n)\n",
    "\n",
    "thinkplot.config(xlabel='p', ylabel='prob connected',\n",
    "                 xscale='log', xlim=[ps[0], ps[-1]],\n",
    "                 loc='upper left')\n",
    "plt.savefig('chap02-6.pdf')"
   ]
  },
  {
   "cell_type": "markdown",
   "metadata": {},
   "source": [
    "As `n` increases, the critical value gets smaller and the transition gets more abrupt."
   ]
  },
  {
   "cell_type": "markdown",
   "metadata": {},
   "source": [
    "## Exercises"
   ]
  },
  {
   "cell_type": "markdown",
   "metadata": {},
   "source": [
    "**Exercise:** In Chapter 2 we analyzed the performance of `reachable_nodes` and classified it in $O(n + m)$, where $n$ is the number of nodes and $m$ is the number of edges.  Continuing the\n",
    "analysis, what is the order of growth for `is_connected`?\n",
    "\n",
    "    def is_connected(G):\n",
    "        start = next(G.nodes_iter())\n",
    "        reachable = reachable_nodes(G, start)\n",
    "        return len(reachable) == len(G)"
   ]
  },
  {
   "cell_type": "code",
   "execution_count": 39,
   "metadata": {
    "collapsed": false
   },
   "outputs": [],
   "source": [
    "# It's O(n+m), since it uses reachable_nodes(). Except for that, everything else in the function - \n",
    "# getting length and comparing two numbers -  is O(1)\n",
    "# So reachable nodes determines the actual performance"
   ]
  },
  {
   "cell_type": "markdown",
   "metadata": {},
   "source": [
    "**Exercise:** In my implementation of `reachable_nodes`, you might be bothered by the apparent inefficiency of adding *all* neighbors to the stack without checking whether they are already in `seen`.  Write a version of this function that checks the neighbors before adding them to the stack.  Does this \"optimization\" change the order of growth?  Does it make the function faster?"
   ]
  },
  {
   "cell_type": "code",
   "execution_count": 40,
   "metadata": {
    "collapsed": true
   },
   "outputs": [],
   "source": [
    "def reachable_nodes_precheck(G, start):\n",
    "    # FILL THIS IN\n",
    "    return []"
   ]
  },
  {
   "cell_type": "code",
   "execution_count": 49,
   "metadata": {
    "collapsed": true
   },
   "outputs": [],
   "source": [
    "def reachable_nodes_precheck(G, start):\n",
    "    seen = set()\n",
    "    stack = [start]\n",
    "    while stack:\n",
    "        node = stack.pop()\n",
    "        if node not in seen:\n",
    "            neighbors = G.neighbors(node)\n",
    "            seen.add(node)\n",
    "            stack.extend([neighbor for neighbor in neighbors if neighbor not in seen])\n",
    "    return seen\n",
    "\n",
    "# This doesn't have a greater time complexity, since before we do anything else with a node in stack, we \n",
    "# check to see if it's already in seen anyways. Since extending a list is in O(k), k being the number of neighbors, and even\n",
    "# in a fully connected graph there are fewer than n neighbors per node, we are at most dividing the coefficient by 2, not\n",
    "# changing complexity"
   ]
  },
  {
   "cell_type": "code",
   "execution_count": 56,
   "metadata": {
    "collapsed": false
   },
   "outputs": [
    {
     "name": "stdout",
     "output_type": "stream",
     "text": [
      "10000 loops, best of 3: 21.4 µs per loop\n"
     ]
    }
   ],
   "source": [
    "%timeit len(reachable_nodes(complete, 0))"
   ]
  },
  {
   "cell_type": "code",
   "execution_count": 57,
   "metadata": {
    "collapsed": false
   },
   "outputs": [
    {
     "name": "stdout",
     "output_type": "stream",
     "text": [
      "10000 loops, best of 3: 20.1 µs per loop\n"
     ]
    }
   ],
   "source": [
    "%timeit len(reachable_nodes_precheck(complete, 0))"
   ]
  },
  {
   "cell_type": "markdown",
   "metadata": {
    "collapsed": true
   },
   "source": [
    "**Exercise:** There are actually two kinds of ER graphs.  The one we generated in the chapter, $G(n, p)$, is characterized by two parameters, the number of nodes and the probability of an edge between nodes.\n",
    "\n",
    "An alternative definition, denoted $G(n, m)$, is also characterized by two parameters: the number of nodes, $n$, and the number of edges, $m$.  Under this definition, the number of edges is fixed, but their location is random.\n",
    "\n",
    "Repeat the experiments we did in this chapter using this alternative definition.  Here are a few suggestions for how to proceed:\n",
    "\n",
    "1. Write a function called `m_pairs` that takes a list of nodes and the number of edges, $m$, and returns a random selection of $m$ edges.  A simple way to do that is to generate a list of all possible edges and use `random.sample`.\n",
    "\n",
    "2. Write a function called `make_m_graph` that takes $n$ and $m$ and returns a random graph with $n$ nodes and $m$ edges.\n",
    "\n",
    "3. Make a version of `prob_connected` that uses `make_m_graph` instead of `make_random_graph`.\n",
    "\n",
    "4. Compute the probability of connectivity for a range of values of $m$.\n",
    "\n",
    "How do the results of this experiment compare to the results using the first type of ER graph?"
   ]
  },
  {
   "cell_type": "code",
   "execution_count": 82,
   "metadata": {
    "collapsed": false
   },
   "outputs": [],
   "source": [
    "import random\n",
    "\n",
    "def possible_edges(nodes):\n",
    "    for i in nodes:\n",
    "        for j in nodes:\n",
    "            if i < j:\n",
    "                yield [i, j]\n",
    "\n",
    "def m_pairs(nodes, m):\n",
    "    edges = [(i,j) for i, j in possible_edges(nodes)]\n",
    "    return random.sample(edges, m)\n",
    "    "
   ]
  },
  {
   "cell_type": "code",
   "execution_count": 99,
   "metadata": {
    "collapsed": false
   },
   "outputs": [
    {
     "data": {
      "image/png": "[encoded data removed]",
      "text/plain": [
       "<matplotlib.figure.Figure at 0xd669550>"
      ]
     },
     "metadata": {},
     "output_type": "display_data"
    }
   ],
   "source": [
    "def make_m_graph(n, m):\n",
    "    G = nx.Graph()\n",
    "    G.add_nodes_from(range(n))\n",
    "    G.add_edges_from(m_pairs(range(n),m))\n",
    "    return G\n",
    "\n",
    "mgraph = make_m_graph(10,12)\n",
    "\n",
    "nx.draw_circular(mgraph, \n",
    "                 node_color=COLORS[2], \n",
    "                 node_size=1000, \n",
    "                 with_labels=True)"
   ]
  },
  {
   "cell_type": "code",
   "execution_count": 102,
   "metadata": {
    "collapsed": false
   },
   "outputs": [],
   "source": [
    "def prob_connected_mgraph(n, m, iters=100):\n",
    "    count = 0\n",
    "    for i in range(iters):\n",
    "        random_graph = make_m_graph(n, m)\n",
    "        if is_connected(random_graph):\n",
    "            count += 1\n",
    "    return count/iters"
   ]
  },
  {
   "cell_type": "code",
   "execution_count": 104,
   "metadata": {
    "collapsed": false
   },
   "outputs": [
    {
     "data": {
      "image/png": "[encoded data removed]",
      "text/plain": [
       "<matplotlib.figure.Figure at 0xe9e75c0>"
      ]
     },
     "metadata": {},
     "output_type": "display_data"
    }
   ],
   "source": [
    "# Shamelessly coppied some of the graphing from above, because the graph was cool looking.\n",
    "# n=30 also looked like a good one to use for n, since the problem\n",
    "# only asks for a range of m\n",
    "n = 30\n",
    "ms = np.linspace(1, 150, 30)\n",
    "ys = [prob_connected_mgraph(n, int(m), 1000) for m in ms]\n",
    "\n",
    "thinkplot.plot(ms, ys)\n",
    "thinkplot.config(xlabel='m', ylabel='prob connected', xlim=[ms[0], ms[-1]])\n",
    "plt.savefig('chap02-exc4.pdf')"
   ]
  },
  {
   "cell_type": "code",
   "execution_count": null,
   "metadata": {
    "collapsed": true
   },
   "outputs": [],
   "source": [
    "# This experiment's result was actually really similar (which kind of makes senese - on average, establishing \n",
    "# a probability of any two nodes being connected is almost the same as choosing an exact random number of edges to add)\n",
    "# It goes very quickly from being actually impossible to be connected, to almost certainly connected over the course of 60\n",
    "# edges. A fullly connected graph would have over 400 edges, so this is a quick turnaround."
   ]
  },
  {
   "cell_type": "code",
   "execution_count": null,
   "metadata": {
    "collapsed": true
   },
   "outputs": [],
   "source": []
  }
 ],
 "metadata": {
  "kernelspec": {
   "display_name": "Python [Root]",
   "language": "python",
   "name": "Python [Root]"
  },
  "language_info": {
   "codemirror_mode": {
    "name": "ipython",
    "version": 2
   },
   "file_extension": ".py",
   "mimetype": "text/x-python",
   "name": "python",
   "nbconvert_exporter": "python",
   "pygments_lexer": "ipython2",
   "version": "2.7.12"
  }
 },
 "nbformat": 4,
 "nbformat_minor": 0
}
