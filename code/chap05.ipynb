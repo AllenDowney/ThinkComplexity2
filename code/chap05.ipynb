{
 "cells": [
  {
   "cell_type": "markdown",
   "metadata": {},
   "source": [
    "# Cellular automata\n",
    "\n",
    "Code examples from [Think Complexity, 2nd edition](http://greenteapress.com/wp/complexity2), Chapter 5\n",
    "\n",
    "Copyright 2016 Allen Downey, [MIT License](http://opensource.org/licenses/MIT)"
   ]
  },
  {
   "cell_type": "code",
   "execution_count": 138,
   "metadata": {
    "collapsed": true
   },
   "outputs": [],
   "source": [
    "from __future__ import print_function, division\n",
    "\n",
    "%matplotlib inline\n",
    "%precision 3\n",
    "\n",
    "import warnings\n",
    "warnings.filterwarnings('ignore')\n",
    "\n",
    "import numpy as np\n",
    "import matplotlib.pyplot as plt\n",
    "\n",
    "import thinkplot"
   ]
  },
  {
   "cell_type": "code",
   "execution_count": 139,
   "metadata": {
    "collapsed": true
   },
   "outputs": [],
   "source": [
    "from thinkstats2 import RandomSeed\n",
    "RandomSeed(17)"
   ]
  },
  {
   "cell_type": "markdown",
   "metadata": {},
   "source": [
    "## Zero-dimensional CA"
   ]
  },
  {
   "cell_type": "markdown",
   "metadata": {},
   "source": [
    "Here's a simple implementation of the 0-D CA I mentioned in the book, with one cell."
   ]
  },
  {
   "cell_type": "code",
   "execution_count": 140,
   "metadata": {
    "collapsed": false
   },
   "outputs": [
    {
     "name": "stdout",
     "output_type": "stream",
     "text": [
      "[ 0.  0.  0.  0.  0.  0.  0.  0.  0.  0.]\n"
     ]
    }
   ],
   "source": [
    "n = 10\n",
    "x = np.zeros(n)\n",
    "print(x)"
   ]
  },
  {
   "cell_type": "markdown",
   "metadata": {},
   "source": [
    "To get the state of the cell in the next time step, we increment the current state mod 2."
   ]
  },
  {
   "cell_type": "code",
   "execution_count": 141,
   "metadata": {
    "collapsed": false
   },
   "outputs": [
    {
     "data": {
      "text/plain": [
       "1.000"
      ]
     },
     "execution_count": 141,
     "metadata": {},
     "output_type": "execute_result"
    }
   ],
   "source": [
    "x[1] = (x[0] + 1) % 2\n",
    "x[1]"
   ]
  },
  {
   "cell_type": "markdown",
   "metadata": {},
   "source": [
    "Filling in the rest of the array."
   ]
  },
  {
   "cell_type": "code",
   "execution_count": 142,
   "metadata": {
    "collapsed": false
   },
   "outputs": [
    {
     "name": "stdout",
     "output_type": "stream",
     "text": [
      "[ 0.  1.  0.  1.  0.  1.  0.  1.  0.  1.]\n"
     ]
    }
   ],
   "source": [
    "for i in range(2, 10):\n",
    "    x[i] = (x[i-1] + 1) % 2\n",
    "    \n",
    "print(x)"
   ]
  },
  {
   "cell_type": "markdown",
   "metadata": {},
   "source": [
    "So the behavior of this CA is simple: it blinks."
   ]
  },
  {
   "cell_type": "markdown",
   "metadata": {},
   "source": [
    "## One-dimensional CA"
   ]
  },
  {
   "cell_type": "markdown",
   "metadata": {},
   "source": [
    "Just as we used a 1-D array to show the state of a single cell over time, we'll use a 2-D array to show the state of a 1-D CA over time, with one column per cell and one row per timestep."
   ]
  },
  {
   "cell_type": "code",
   "execution_count": 143,
   "metadata": {
    "collapsed": false
   },
   "outputs": [
    {
     "name": "stdout",
     "output_type": "stream",
     "text": [
      "[[0 0 0 0 0 1 0 0 0 0 0]\n",
      " [0 0 0 0 0 0 0 0 0 0 0]\n",
      " [0 0 0 0 0 0 0 0 0 0 0]\n",
      " [0 0 0 0 0 0 0 0 0 0 0]\n",
      " [0 0 0 0 0 0 0 0 0 0 0]]\n"
     ]
    }
   ],
   "source": [
    "rows = 5\n",
    "cols = 11\n",
    "array = np.zeros((rows, cols), dtype=np.int8)\n",
    "array[0, 5] = 1\n",
    "print(array)"
   ]
  },
  {
   "cell_type": "markdown",
   "metadata": {},
   "source": [
    "To plot the array I use `plt.imshow`"
   ]
  },
  {
   "cell_type": "code",
   "execution_count": 144,
   "metadata": {
    "collapsed": false
   },
   "outputs": [],
   "source": [
    "def plot_ca(array):\n",
    "    cmap = plt.get_cmap('Blues')\n",
    "    plt.imshow(array, interpolation='none', cmap=cmap)"
   ]
  },
  {
   "cell_type": "markdown",
   "metadata": {},
   "source": [
    "Here's what it looks like after we initialize the first row."
   ]
  },
  {
   "cell_type": "code",
   "execution_count": 145,
   "metadata": {
    "collapsed": false
   },
   "outputs": [
    {
     "data": {
      "image/png": "[encoded data removed]",
      "text/plain": [
       "<matplotlib.figure.Figure at 0x7fab3a23f4a8>"
      ]
     },
     "metadata": {},
     "output_type": "display_data"
    }
   ],
   "source": [
    "plot_ca(array)"
   ]
  },
  {
   "cell_type": "markdown",
   "metadata": {},
   "source": [
    "And here's the function that fills in the next row.  The rule for this CA is to take the sum of a cell and its two neighbors mod 2."
   ]
  },
  {
   "cell_type": "code",
   "execution_count": 146,
   "metadata": {
    "collapsed": true
   },
   "outputs": [],
   "source": [
    "def step(array, i):\n",
    "    rows, cols = array.shape\n",
    "    for j in range(1, cols):\n",
    "        array[i, j] = sum(array[i-1, j-1:j+2]) % 2"
   ]
  },
  {
   "cell_type": "markdown",
   "metadata": {},
   "source": [
    "Here's the second row."
   ]
  },
  {
   "cell_type": "code",
   "execution_count": 147,
   "metadata": {
    "collapsed": false
   },
   "outputs": [
    {
     "data": {
      "image/png": "[encoded data removed]",
      "text/plain": [
       "<matplotlib.figure.Figure at 0x7fab3a13af60>"
      ]
     },
     "metadata": {},
     "output_type": "display_data"
    }
   ],
   "source": [
    "step(array, 1)\n",
    "plot_ca(array)"
   ]
  },
  {
   "cell_type": "markdown",
   "metadata": {},
   "source": [
    "And here's what it looks like with the rest of the cells filled in."
   ]
  },
  {
   "cell_type": "code",
   "execution_count": 148,
   "metadata": {
    "collapsed": false
   },
   "outputs": [
    {
     "data": {
      "image/png": "[encoded data removed]",
      "text/plain": [
       "<matplotlib.figure.Figure at 0x7fab3a1acac8>"
      ]
     },
     "metadata": {},
     "output_type": "display_data"
    }
   ],
   "source": [
    "for i in range(1, rows):\n",
    "    step(array, i)\n",
    "\n",
    "plot_ca(array)"
   ]
  },
  {
   "cell_type": "markdown",
   "metadata": {},
   "source": [
    "For a simple set of rules, the behavior is more interesting than you might expect."
   ]
  },
  {
   "cell_type": "markdown",
   "metadata": {},
   "source": [
    "**Exercise:** Modify this code to increase the number of rows and columns and see what this CA does after more time steps."
   ]
  },
  {
   "cell_type": "markdown",
   "metadata": {},
   "source": [
    "## Cross correlation"
   ]
  },
  {
   "cell_type": "markdown",
   "metadata": {},
   "source": [
    "We can step the CA through time more quickly using \"cross correlation\".  To see how it works, the first step is to replace the slice operator with array multiplication.\n",
    "\n",
    "This window selects the first three elements of an array:"
   ]
  },
  {
   "cell_type": "code",
   "execution_count": 149,
   "metadata": {
    "collapsed": false
   },
   "outputs": [
    {
     "name": "stdout",
     "output_type": "stream",
     "text": [
      "[1 1 1 0 0 0 0 0 0 0 0]\n",
      "[0 1 0 0 0 1 0 0 0 1 0]\n",
      "[0 1 0 0 0 0 0 0 0 0 0]\n"
     ]
    }
   ],
   "source": [
    "window = np.zeros(cols, dtype=np.int8)\n",
    "window[:3] = 1\n",
    "print(window)\n",
    "print(array[4])\n",
    "print(window * array[4])"
   ]
  },
  {
   "cell_type": "markdown",
   "metadata": {},
   "source": [
    "Then we can use `sum` and the modulus operator to compute the state of the first cell during the next timestep."
   ]
  },
  {
   "cell_type": "code",
   "execution_count": 150,
   "metadata": {
    "collapsed": false
   },
   "outputs": [
    {
     "data": {
      "text/plain": [
       "1"
      ]
     },
     "execution_count": 150,
     "metadata": {},
     "output_type": "execute_result"
    }
   ],
   "source": [
    "sum(window * array[4]) % 2"
   ]
  },
  {
   "cell_type": "markdown",
   "metadata": {},
   "source": [
    "To compute the state of the next cell, we shift the window to the right."
   ]
  },
  {
   "cell_type": "code",
   "execution_count": 151,
   "metadata": {
    "collapsed": false
   },
   "outputs": [
    {
     "name": "stdout",
     "output_type": "stream",
     "text": [
      "[0 1 1 1 0 0 0 0 0 0 0]\n"
     ]
    }
   ],
   "source": [
    "window = np.roll(window, 1)\n",
    "print(window)"
   ]
  },
  {
   "cell_type": "markdown",
   "metadata": {},
   "source": [
    "And repeat the multiply-sum-modulus operations."
   ]
  },
  {
   "cell_type": "code",
   "execution_count": 152,
   "metadata": {
    "collapsed": false
   },
   "outputs": [
    {
     "data": {
      "text/plain": [
       "1"
      ]
     },
     "execution_count": 152,
     "metadata": {},
     "output_type": "execute_result"
    }
   ],
   "source": [
    "sum(window * array[4]) % 2"
   ]
  },
  {
   "cell_type": "markdown",
   "metadata": {},
   "source": [
    "Now we can rewrite `step` using these operations."
   ]
  },
  {
   "cell_type": "code",
   "execution_count": 153,
   "metadata": {
    "collapsed": true
   },
   "outputs": [],
   "source": [
    "def step2(array, i):\n",
    "    rows, cols = array.shape\n",
    "    window = np.zeros(cols)\n",
    "    window[:3] = 1\n",
    "    for j in range(1, cols):\n",
    "        array[i, j] = sum(window * array[i-1]) % 2\n",
    "        window = np.roll(window, 1)"
   ]
  },
  {
   "cell_type": "markdown",
   "metadata": {},
   "source": [
    "And we can confirm that we get the same result."
   ]
  },
  {
   "cell_type": "code",
   "execution_count": 154,
   "metadata": {
    "collapsed": false
   },
   "outputs": [
    {
     "data": {
      "image/png": "[encoded data removed]",
      "text/plain": [
       "<matplotlib.figure.Figure at 0x7fab39c7e8d0>"
      ]
     },
     "metadata": {},
     "output_type": "display_data"
    }
   ],
   "source": [
    "for i in range(1, rows):\n",
    "    step2(array, i)\n",
    "\n",
    "plot_ca(array)"
   ]
  },
  {
   "cell_type": "markdown",
   "metadata": {},
   "source": [
    "That sequence of operations is called a \"sliding dot product\" or \"cross correlation\", and NumPy provides a function that computes it.  So we can replace the `for` loop with `np.correlate`.  The parameter `mode='same'` means that the result has the same length as `array[i]`. "
   ]
  },
  {
   "cell_type": "code",
   "execution_count": 155,
   "metadata": {
    "collapsed": true
   },
   "outputs": [],
   "source": [
    "def step3(array, i):\n",
    "    window = np.array([1, 1, 1])\n",
    "    array[i] = np.correlate(array[i-1], window, mode='same') % 2"
   ]
  },
  {
   "cell_type": "markdown",
   "metadata": {},
   "source": [
    "And the result is the same."
   ]
  },
  {
   "cell_type": "code",
   "execution_count": 156,
   "metadata": {
    "collapsed": false
   },
   "outputs": [
    {
     "data": {
      "image/png": "[encoded data removed]",
      "text/plain": [
       "<matplotlib.figure.Figure at 0x7fab3a086ac8>"
      ]
     },
     "metadata": {},
     "output_type": "display_data"
    }
   ],
   "source": [
    "for i in range(1, rows):\n",
    "    step3(array, i)\n",
    "\n",
    "plot_ca(array)"
   ]
  },
  {
   "cell_type": "markdown",
   "metadata": {},
   "source": [
    "So that's good enough for a CA that only depends on the total number of \"on\" cells, but for more general CAs, we need a table that maps from the configuration of the neighborhood to the future state of the center cell.\n",
    "\n",
    "The following function makes the table by interpreting the Rule number in binary."
   ]
  },
  {
   "cell_type": "code",
   "execution_count": 157,
   "metadata": {
    "collapsed": true
   },
   "outputs": [],
   "source": [
    "def make_table(rule):\n",
    "    \"\"\"Make the table for a given CA rule.\n",
    "    \n",
    "    rule: int 0-255\n",
    "    \n",
    "    returns: array of 8 0s and 1s\n",
    "    \"\"\"\n",
    "    rule = np.array([rule], dtype=np.uint8)\n",
    "    table = np.unpackbits(rule)[::-1]\n",
    "    return table"
   ]
  },
  {
   "cell_type": "markdown",
   "metadata": {},
   "source": [
    "Here's what it looks like as an array:"
   ]
  },
  {
   "cell_type": "code",
   "execution_count": 158,
   "metadata": {
    "collapsed": false
   },
   "outputs": [
    {
     "name": "stdout",
     "output_type": "stream",
     "text": [
      "[0 1 1 0 1 0 0 1]\n"
     ]
    }
   ],
   "source": [
    "table = make_table(150)\n",
    "print(table)"
   ]
  },
  {
   "cell_type": "markdown",
   "metadata": {},
   "source": [
    "If we correlate the row with the window `[4, 2, 1]`, it treats each neighborhood as a binary number between 000 and 111."
   ]
  },
  {
   "cell_type": "code",
   "execution_count": 159,
   "metadata": {
    "collapsed": false
   },
   "outputs": [
    {
     "name": "stdout",
     "output_type": "stream",
     "text": [
      "[0 0 0 0 0 1 0 0 0 0 0]\n",
      "[0 0 0 0 1 2 4 0 0 0 0]\n"
     ]
    }
   ],
   "source": [
    "window = [4, 2, 1]\n",
    "corr = np.correlate(array[0], window, mode='same')\n",
    "print(array[0])\n",
    "print(corr)"
   ]
  },
  {
   "cell_type": "markdown",
   "metadata": {},
   "source": [
    "Now we can use the result from `np.correlate` as an index into the table; the result is the next row of the array."
   ]
  },
  {
   "cell_type": "code",
   "execution_count": 160,
   "metadata": {
    "collapsed": false
   },
   "outputs": [
    {
     "name": "stdout",
     "output_type": "stream",
     "text": [
      "[0 0 0 0 1 1 1 0 0 0 0]\n"
     ]
    }
   ],
   "source": [
    "array[1] = table[corr]\n",
    "print(array[1])"
   ]
  },
  {
   "cell_type": "markdown",
   "metadata": {},
   "source": [
    "We can wrap up that code in a function:"
   ]
  },
  {
   "cell_type": "code",
   "execution_count": 161,
   "metadata": {
    "collapsed": true
   },
   "outputs": [],
   "source": [
    "def step4(array, i):\n",
    "    window = np.array([4, 2, 1])\n",
    "    corr = np.correlate(array[i-1], window, mode='same')\n",
    "    array[i] = table[corr]"
   ]
  },
  {
   "cell_type": "markdown",
   "metadata": {},
   "source": [
    "And test it again."
   ]
  },
  {
   "cell_type": "code",
   "execution_count": 162,
   "metadata": {
    "collapsed": false
   },
   "outputs": [
    {
     "data": {
      "image/png": "[encoded data removed]",
      "text/plain": [
       "<matplotlib.figure.Figure at 0x7fab39de5668>"
      ]
     },
     "metadata": {},
     "output_type": "display_data"
    }
   ],
   "source": [
    "for i in range(1, rows):\n",
    "    step4(array, i)\n",
    "\n",
    "plot_ca(array)"
   ]
  },
  {
   "cell_type": "markdown",
   "metadata": {},
   "source": [
    "How did I know that Rule 150 is the same as the previous CA?  I wrote out the table and converted it to binary."
   ]
  },
  {
   "cell_type": "markdown",
   "metadata": {
    "collapsed": true
   },
   "source": [
    "## The Cell1D object"
   ]
  },
  {
   "cell_type": "markdown",
   "metadata": {},
   "source": [
    "`Cell1D.py` provides a `Cell1D` class that encapsulates the code from the previous section.\n",
    "\n",
    "Here's an example that runs a Rule 50 CA for 10 steps."
   ]
  },
  {
   "cell_type": "code",
   "execution_count": 163,
   "metadata": {
    "collapsed": false
   },
   "outputs": [],
   "source": [
    "from Cell1D import Cell1D, Cell1DViewer"
   ]
  },
  {
   "cell_type": "code",
   "execution_count": 164,
   "metadata": {
    "collapsed": false
   },
   "outputs": [],
   "source": [
    "rule = 50\n",
    "n = 10\n",
    "ca = Cell1D(rule, n)\n",
    "ca.start_single()\n",
    "ca.loop(n-1)"
   ]
  },
  {
   "cell_type": "markdown",
   "metadata": {},
   "source": [
    "We can display the results:"
   ]
  },
  {
   "cell_type": "code",
   "execution_count": 165,
   "metadata": {
    "collapsed": false
   },
   "outputs": [
    {
     "data": {
      "image/png": "[encoded data removed]",
      "text/plain": [
       "<matplotlib.figure.Figure at 0x7fab39cb8b00>"
      ]
     },
     "metadata": {},
     "output_type": "display_data"
    }
   ],
   "source": [
    "viewer = Cell1DViewer(ca)\n",
    "viewer.draw()\n",
    "\n",
    "plt.savefig('chap05-1.pdf')"
   ]
  },
  {
   "cell_type": "markdown",
   "metadata": {},
   "source": [
    "Here's the Rule 50 table."
   ]
  },
  {
   "cell_type": "code",
   "execution_count": 166,
   "metadata": {
    "collapsed": false
   },
   "outputs": [
    {
     "name": "stdout",
     "output_type": "stream",
     "text": [
      "[0 1 0 0 1 1 0 0]\n"
     ]
    }
   ],
   "source": [
    "print(ca.table)"
   ]
  },
  {
   "cell_type": "markdown",
   "metadata": {},
   "source": [
    "Another example:"
   ]
  },
  {
   "cell_type": "code",
   "execution_count": 167,
   "metadata": {
    "collapsed": true
   },
   "outputs": [],
   "source": [
    "rule = 150\n",
    "n = 5\n",
    "ca = Cell1D(rule, n)\n",
    "ca.start_single()\n",
    "ca.loop(n-1)"
   ]
  },
  {
   "cell_type": "code",
   "execution_count": 168,
   "metadata": {
    "collapsed": false
   },
   "outputs": [
    {
     "data": {
      "image/png": "[encoded data removed]",
      "text/plain": [
       "<matplotlib.figure.Figure at 0x7fab39cb8048>"
      ]
     },
     "metadata": {},
     "output_type": "display_data"
    }
   ],
   "source": [
    "viewer = Cell1DViewer(ca)\n",
    "viewer.draw()\n",
    "\n",
    "plt.savefig('chap05-2.pdf')"
   ]
  },
  {
   "cell_type": "markdown",
   "metadata": {},
   "source": [
    "And one more example showing recursive structure."
   ]
  },
  {
   "cell_type": "code",
   "execution_count": 169,
   "metadata": {
    "collapsed": true
   },
   "outputs": [],
   "source": [
    "rule = 18\n",
    "n = 64\n",
    "ca = Cell1D(rule, n)\n",
    "ca.start_single()\n",
    "ca.loop(n-1)"
   ]
  },
  {
   "cell_type": "code",
   "execution_count": 170,
   "metadata": {
    "collapsed": false
   },
   "outputs": [
    {
     "data": {
      "image/png": "[encoded data removed]",
      "text/plain": [
       "<matplotlib.figure.Figure at 0x7fab39c98e48>"
      ]
     },
     "metadata": {},
     "output_type": "display_data"
    }
   ],
   "source": [
    "viewer = Cell1DViewer(ca)\n",
    "viewer.draw()\n",
    "\n",
    "plt.savefig('chap05-3.pdf')"
   ]
  },
  {
   "cell_type": "markdown",
   "metadata": {},
   "source": [
    "Rule 30 generates a sequence of bits that is indistinguishable from random:"
   ]
  },
  {
   "cell_type": "code",
   "execution_count": 171,
   "metadata": {
    "collapsed": true
   },
   "outputs": [],
   "source": [
    "rule = 30\n",
    "n = 100\n",
    "ca = Cell1D(rule, n)\n",
    "ca.start_single()\n",
    "ca.loop(n-1)"
   ]
  },
  {
   "cell_type": "code",
   "execution_count": 172,
   "metadata": {
    "collapsed": false
   },
   "outputs": [
    {
     "data": {
      "image/png": "[encoded data removed]",
      "text/plain": [
       "<matplotlib.figure.Figure at 0x7fab3a095d30>"
      ]
     },
     "metadata": {},
     "output_type": "display_data"
    }
   ],
   "source": [
    "viewer = Cell1DViewer(ca)\n",
    "viewer.draw()\n",
    "\n",
    "plt.savefig('chap05-4.pdf')"
   ]
  },
  {
   "cell_type": "markdown",
   "metadata": {},
   "source": [
    "And Rule 110 is Turing complete!"
   ]
  },
  {
   "cell_type": "code",
   "execution_count": 173,
   "metadata": {
    "collapsed": true
   },
   "outputs": [],
   "source": [
    "rule = 110\n",
    "n = 100\n",
    "ca = Cell1D(rule, n)\n",
    "ca.start_single()\n",
    "ca.loop(n-1)"
   ]
  },
  {
   "cell_type": "code",
   "execution_count": 174,
   "metadata": {
    "collapsed": false
   },
   "outputs": [
    {
     "data": {
      "image/png": "[encoded data removed]",
      "text/plain": [
       "<matplotlib.figure.Figure at 0x7fab3a0ae940>"
      ]
     },
     "metadata": {},
     "output_type": "display_data"
    }
   ],
   "source": [
    "viewer = Cell1DViewer(ca)\n",
    "viewer.draw()\n",
    "\n",
    "plt.savefig('chap05-5.pdf')"
   ]
  },
  {
   "cell_type": "markdown",
   "metadata": {},
   "source": [
    "Heres a longer run that has some spaceships."
   ]
  },
  {
   "cell_type": "code",
   "execution_count": 175,
   "metadata": {
    "collapsed": true
   },
   "outputs": [],
   "source": [
    "rule = 110\n",
    "n = 600\n",
    "ca = Cell1D(rule, n)\n",
    "ca.start_random()\n",
    "ca.loop(n-1)"
   ]
  },
  {
   "cell_type": "code",
   "execution_count": 176,
   "metadata": {
    "collapsed": false
   },
   "outputs": [
    {
     "data": {
      "image/png": "[encoded data removed]",
      "text/plain": [
       "<matplotlib.figure.Figure at 0x7fab39ca9fd0>"
      ]
     },
     "metadata": {},
     "output_type": "display_data"
    }
   ],
   "source": [
    "viewer = Cell1DViewer(ca)\n",
    "viewer.draw()\n",
    "\n",
    "plt.savefig('chap05-6.pdf')"
   ]
  },
  {
   "cell_type": "markdown",
   "metadata": {},
   "source": [
    "## Exercises"
   ]
  },
  {
   "cell_type": "markdown",
   "metadata": {},
   "source": [
    "**Exercise 5.2:** This exercise asks you to experiment with Rule 110 and see how\n",
    "many spaceships you can find.\n",
    "\n",
    "1. Read the [Wikipedia page about Rule 110](https://en.wikipedia.org/wiki/Rule_110), which describes its background pattern and spaceships.\n",
    "\n",
    "2. Create a Rule 110 CA with an initial condition that yields the\n",
    "  stable background pattern.  Note that the CA class provides\n",
    "`start_string`, which allow you to initialize the state of\n",
    "the array using a string of `1`s and `0`s.\n",
    "\n",
    "3. Modify the initial condition by adding different patterns in the\n",
    "  center of the row and see which ones yield spaceships.  You might\n",
    "  want to enumerate all possible patterns of $n$ bits, for some\n",
    "  reasonable value of $n$.  For each spaceship, can you find the\n",
    "  period and rate of translation?  What is the biggest spaceship you\n",
    "  can find?\n",
    "\n",
    "4. What happens when spaceships collide?"
   ]
  },
  {
   "cell_type": "code",
   "execution_count": 177,
   "metadata": {
    "collapsed": false
   },
   "outputs": [
    {
     "data": {
      "image/png": "[encoded data removed]",
      "text/plain": [
       "<matplotlib.figure.Figure at 0x7fab39c17358>"
      ]
     },
     "metadata": {},
     "output_type": "display_data"
    }
   ],
   "source": [
    "# stable\n",
    "rule = 110\n",
    "n = 50\n",
    "m = 31\n",
    "ca = Cell1D(rule, n, m)\n",
    "ca.start_string(\"0001001101111111100010011011111\")\n",
    "ca.loop(n-1)\n",
    "viewer = Cell1DViewer(ca)\n",
    "viewer.draw()"
   ]
  },
  {
   "cell_type": "code",
   "execution_count": 178,
   "metadata": {
    "collapsed": false
   },
   "outputs": [
    {
     "data": {
      "image/png": "[encoded data removed]",
      "text/plain": [
       "<matplotlib.figure.Figure at 0x7fab39cad470>"
      ]
     },
     "metadata": {},
     "output_type": "display_data"
    }
   ],
   "source": [
    "# right spaceship\n",
    "rule = 110\n",
    "n = 50\n",
    "m = 38\n",
    "ca = Cell1D(rule, n, m)\n",
    "ca.start_string(\"00011101110001001101111100010011011111\")\n",
    "ca.loop(n-1)\n",
    "viewer = Cell1DViewer(ca)\n",
    "viewer.draw()"
   ]
  },
  {
   "cell_type": "code",
   "execution_count": 179,
   "metadata": {
    "collapsed": false
   },
   "outputs": [
    {
     "data": {
      "image/png": "[encoded data removed]",
      "text/plain": [
       "<matplotlib.figure.Figure at 0x7fab39cad6d8>"
      ]
     },
     "metadata": {},
     "output_type": "display_data"
    }
   ],
   "source": [
    "# left spaceship\n",
    "rule = 110\n",
    "n = 50\n",
    "m = 35\n",
    "ca = Cell1D(rule, n, m)\n",
    "ca.start_string(\"00010011011111100111100010011011111\")\n",
    "ca.loop(n-1)\n",
    "viewer = Cell1DViewer(ca)\n",
    "viewer.draw()"
   ]
  },
  {
   "cell_type": "code",
   "execution_count": 180,
   "metadata": {
    "collapsed": false
   },
   "outputs": [
    {
     "data": {
      "image/png": "[encoded data removed]",
      "text/plain": [
       "<matplotlib.figure.Figure at 0x7fab39bbe668>"
      ]
     },
     "metadata": {},
     "output_type": "display_data"
    }
   ],
   "source": [
    "# spaceships colliding\n",
    "rule = 110\n",
    "n = 150\n",
    "m = 101\n",
    "ca = Cell1D(rule, n, m)\n",
    "s = \"00010011011101001101111100010011011111000100110111110001001101111100010011011111000100011111011011111\"\n",
    "ca.start_string(s)\n",
    "ca.loop(n-1)\n",
    "viewer = Cell1DViewer(ca)\n",
    "viewer.draw()"
   ]
  },
  {
   "cell_type": "code",
   "execution_count": 181,
   "metadata": {
    "collapsed": false
   },
   "outputs": [
    {
     "data": {
      "image/png": "[encoded data removed]",
      "text/plain": [
       "<matplotlib.figure.Figure at 0x7fab3a00d198>"
      ]
     },
     "metadata": {},
     "output_type": "display_data"
    }
   ],
   "source": [
    "# bonus: stable spaceships (?)\n",
    "rule = 110\n",
    "n = 20\n",
    "ca = Cell1D(rule, n)\n",
    "ca.start_string(\"1110\"*(2*n//4)+\"1\")\n",
    "ca.loop(n-1)\n",
    "viewer = Cell1DViewer(ca)\n",
    "viewer.draw()"
   ]
  },
  {
   "cell_type": "markdown",
   "metadata": {},
   "source": [
    "**Exercise 5.3:** The goal of this exercise is to implement a Turing machine.\n",
    "\n",
    "1. Read about Turing machines at http://en.wikipedia.org/wiki/Turing_machine.\n",
    "\n",
    "2. Write a class called `Turing` that implements a Turing machine.  For the action table, use the rules for a 3-state busy beaver.\n",
    "\n",
    "3. Write a class named `TuringDrawer` that generates an image that represents the state of the tape and the position and state of the head.  For one example of what that might look like, see http://mathworld.wolfram.com/TuringMachine.html.\n"
   ]
  },
  {
   "cell_type": "code",
   "execution_count": 182,
   "metadata": {
    "collapsed": false
   },
   "outputs": [
    {
     "name": "stdout",
     "output_type": "stream",
     "text": [
      "Machine halted at step 12.\n"
     ]
    }
   ],
   "source": [
    "from copy import deepcopy\n",
    "\n",
    "class Turing(object):\n",
    "    def __init__(self, tape):\n",
    "        self.tape = {i:v for i, v in enumerate(list(tape))}\n",
    "        self.old_tapes = []\n",
    "        self.head = 0\n",
    "        self.state = \"A\"\n",
    "        self.instructions = {\n",
    "            \"A\": {\n",
    "                \"0\": [-1, \"B\"],\n",
    "                \"1\": [1, \"C\"]\n",
    "            },\n",
    "            \"B\": {\n",
    "                \"0\": [1, \"A\"],\n",
    "                \"1\": [-1, \"B\"]\n",
    "            },\n",
    "            \"C\": {\n",
    "                \"0\": [1, \"B\"],\n",
    "                \"1\": [-1, \"HALT\"]\n",
    "            }\n",
    "        }\n",
    "\n",
    "    def step(self, n = 1):\n",
    "        for i in range(n):\n",
    "            self.old_tapes.append(deepcopy(self.tape))\n",
    "            if self.head not in self.tape:\n",
    "                self.tape[self.head] = \"0\"\n",
    "            symbol = self.tape[self.head]\n",
    "            self.tape[self.head] = \"1\"\n",
    "            move, state = self.instructions[self.state][symbol]\n",
    "            self.head += move\n",
    "            self.state = state\n",
    "            if self.state == \"HALT\":\n",
    "                print(\"Machine halted at step {}.\".format(i))\n",
    "                return\n",
    "        print(\"Machine ran for {} steps.\".format(n))\n",
    "\n",
    "T = Turing(\"0\")\n",
    "T.step(20)"
   ]
  },
  {
   "cell_type": "code",
   "execution_count": 183,
   "metadata": {
    "collapsed": false
   },
   "outputs": [
    {
     "name": "stdout",
     "output_type": "stream",
     "text": [
      "000000\n",
      "001000\n",
      "011000\n",
      "011000\n",
      "011100\n",
      "011110\n",
      "011111\n",
      "011111\n",
      "011111\n",
      "011111\n",
      "011111\n",
      "111111\n",
      "111111\n"
     ]
    }
   ],
   "source": [
    "class TuringDrawer(object):\n",
    "    def __init__(self, turing):\n",
    "        self.turing = turing\n",
    "        self.bounds = (min(self.turing.tape.keys()), max(self.turing.tape.keys()))\n",
    "\n",
    "    def make_line(self, tape, lower, upper):\n",
    "        s = deepcopy(tape)\n",
    "        for i in range(lower, upper+1):\n",
    "            if i not in tape:\n",
    "                s[i] = \"0\"\n",
    "        return \"\".join([c for _, c in sorted(s.items())])\n",
    "\n",
    "    def draw(self):\n",
    "        for t in self.turing.old_tapes:\n",
    "            print(self.make_line(t, *self.bounds))\n",
    "\n",
    "TD = TuringDrawer(T)\n",
    "TD.draw()"
   ]
  },
  {
   "cell_type": "markdown",
   "metadata": {},
   "source": [
    "**Exercise 5.4:** This exercise asks you to implement and test several PRNGs.\n",
    "For testing, you will need to install \n",
    "`DieHarder`, which you can download from \n",
    "https://www.phy.duke.edu/~rgb/General/dieharder.php, or it\n",
    "might be available as a package for your operating system.\n",
    "\n",
    "1. Write a program that implements one of the linear congruential\n",
    "generators described at http://en.wikipedia.org/wiki/Linear_congruential_generator}.\n",
    "Test it using `DieHarder`.\n",
    "\n",
    "2. Read the documentation of Python's `random` module.\n",
    "What PRNG does it use?  Test it.\n",
    "\n",
    "3. Implement a Rule 30 CA with a few hundred cells,\n",
    "run it for as many time steps as you can in a reasonable amount\n",
    "of time, and output the center column as a sequence of bits.\n",
    "Test it.\n"
   ]
  },
  {
   "cell_type": "code",
   "execution_count": 184,
   "metadata": {
    "collapsed": false
   },
   "outputs": [],
   "source": [
    "# not listed"
   ]
  }
 ],
 "metadata": {
  "kernelspec": {
   "display_name": "Python 3",
   "language": "python",
   "name": "python3"
  },
  "language_info": {
   "codemirror_mode": {
    "name": "ipython",
    "version": 3
   },
   "file_extension": ".py",
   "mimetype": "text/x-python",
   "name": "python",
   "nbconvert_exporter": "python",
   "pygments_lexer": "ipython3",
   "version": "3.4.3"
  }
 },
 "nbformat": 4,
 "nbformat_minor": 0
}
