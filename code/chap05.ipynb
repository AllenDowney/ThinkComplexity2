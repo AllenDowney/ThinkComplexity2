{
 "cells": [
  {
   "cell_type": "markdown",
   "metadata": {},
   "source": [
    "# Cellular automata\n",
    "\n",
    "Code examples from [Think Complexity, 2nd edition](http://greenteapress.com/wp/complexity2), Chapter 5\n",
    "\n",
    "Copyright 2016 Allen Downey, [MIT License](http://opensource.org/licenses/MIT)"
   ]
  },
  {
   "cell_type": "code",
   "execution_count": 343,
   "metadata": {
    "collapsed": true
   },
   "outputs": [],
   "source": [
    "from __future__ import print_function, division\n",
    "\n",
    "%matplotlib inline\n",
    "%precision 3\n",
    "\n",
    "import warnings\n",
    "warnings.filterwarnings('ignore')\n",
    "\n",
    "import numpy as np\n",
    "import matplotlib.pyplot as plt\n",
    "\n",
    "import thinkplot"
   ]
  },
  {
   "cell_type": "code",
   "execution_count": 344,
   "metadata": {
    "collapsed": true
   },
   "outputs": [],
   "source": [
    "from thinkstats2 import RandomSeed\n",
    "RandomSeed(17)"
   ]
  },
  {
   "cell_type": "markdown",
   "metadata": {},
   "source": [
    "## Zero-dimensional CA"
   ]
  },
  {
   "cell_type": "markdown",
   "metadata": {},
   "source": [
    "Here's a simple implementation of the 0-D CA I mentioned in the book, with one cell."
   ]
  },
  {
   "cell_type": "code",
   "execution_count": 345,
   "metadata": {
    "collapsed": false
   },
   "outputs": [
    {
     "name": "stdout",
     "output_type": "stream",
     "text": [
      "[ 0.  0.  0.  0.  0.  0.  0.  0.  0.  0.]\n"
     ]
    }
   ],
   "source": [
    "n = 10\n",
    "x = np.zeros(n)\n",
    "print(x)"
   ]
  },
  {
   "cell_type": "markdown",
   "metadata": {},
   "source": [
    "To get the state of the cell in the next time step, we increment the current state mod 2."
   ]
  },
  {
   "cell_type": "code",
   "execution_count": 346,
   "metadata": {
    "collapsed": false
   },
   "outputs": [
    {
     "data": {
      "text/plain": [
       "1.000"
      ]
     },
     "execution_count": 346,
     "metadata": {},
     "output_type": "execute_result"
    }
   ],
   "source": [
    "x[1] = (x[0] + 1) % 2\n",
    "x[1]"
   ]
  },
  {
   "cell_type": "markdown",
   "metadata": {},
   "source": [
    "Filling in the rest of the array."
   ]
  },
  {
   "cell_type": "code",
   "execution_count": 347,
   "metadata": {
    "collapsed": false
   },
   "outputs": [
    {
     "name": "stdout",
     "output_type": "stream",
     "text": [
      "[ 0.  1.  0.  1.  0.  1.  0.  1.  0.  1.]\n"
     ]
    }
   ],
   "source": [
    "for i in range(2, 10):\n",
    "    x[i] = (x[i-1] + 1) % 2\n",
    "    \n",
    "print(x)"
   ]
  },
  {
   "cell_type": "markdown",
   "metadata": {},
   "source": [
    "So the behavior of this CA is simple: it blinks."
   ]
  },
  {
   "cell_type": "markdown",
   "metadata": {},
   "source": [
    "## One-dimensional CA"
   ]
  },
  {
   "cell_type": "markdown",
   "metadata": {},
   "source": [
    "Just as we used a 1-D array to show the state of a single cell over time, we'll use a 2-D array to show the state of a 1-D CA over time, with one column per cell and one row per timestep."
   ]
  },
  {
   "cell_type": "code",
   "execution_count": 348,
   "metadata": {
    "collapsed": false
   },
   "outputs": [
    {
     "name": "stdout",
     "output_type": "stream",
     "text": [
      "[[0 0 0 0 0 0 0 0 0 0 0 1 0 0 0 0 0 0 0 0 0 0]\n",
      " [0 0 0 0 0 0 0 0 0 0 0 0 0 0 0 0 0 0 0 0 0 0]\n",
      " [0 0 0 0 0 0 0 0 0 0 0 0 0 0 0 0 0 0 0 0 0 0]\n",
      " [0 0 0 0 0 0 0 0 0 0 0 0 0 0 0 0 0 0 0 0 0 0]\n",
      " [0 0 0 0 0 0 0 0 0 0 0 0 0 0 0 0 0 0 0 0 0 0]\n",
      " [0 0 0 0 0 0 0 0 0 0 0 0 0 0 0 0 0 0 0 0 0 0]\n",
      " [0 0 0 0 0 0 0 0 0 0 0 0 0 0 0 0 0 0 0 0 0 0]\n",
      " [0 0 0 0 0 0 0 0 0 0 0 0 0 0 0 0 0 0 0 0 0 0]\n",
      " [0 0 0 0 0 0 0 0 0 0 0 0 0 0 0 0 0 0 0 0 0 0]\n",
      " [0 0 0 0 0 0 0 0 0 0 0 0 0 0 0 0 0 0 0 0 0 0]]\n"
     ]
    }
   ],
   "source": [
    "rows = 10\n",
    "cols = 22\n",
    "array = np.zeros((rows, cols), dtype=np.int8)\n",
    "array[0, 11] = 1\n",
    "print(array)"
   ]
  },
  {
   "cell_type": "markdown",
   "metadata": {},
   "source": [
    "To plot the array I use `plt.imshow`"
   ]
  },
  {
   "cell_type": "code",
   "execution_count": 349,
   "metadata": {
    "collapsed": false
   },
   "outputs": [],
   "source": [
    "def plot_ca(array):\n",
    "    cmap = plt.get_cmap('Blues')\n",
    "    plt.imshow(array, interpolation='none', cmap=cmap)"
   ]
  },
  {
   "cell_type": "markdown",
   "metadata": {},
   "source": [
    "Here's what it looks like after we initialize the first row."
   ]
  },
  {
   "cell_type": "code",
   "execution_count": 350,
   "metadata": {
    "collapsed": false
   },
   "outputs": [
    {
     "data": {
      "image/png": "[encoded data removed]",
      "text/plain": [
       "<matplotlib.figure.Figure at 0x7f6ac8d23ad0>"
      ]
     },
     "metadata": {},
     "output_type": "display_data"
    }
   ],
   "source": [
    "plot_ca(array)"
   ]
  },
  {
   "cell_type": "markdown",
   "metadata": {},
   "source": [
    "And here's the function that fills in the next row.  The rule for this CA is to take the sum of a cell and its two neighbors mod 2."
   ]
  },
  {
   "cell_type": "code",
   "execution_count": 351,
   "metadata": {
    "collapsed": true
   },
   "outputs": [],
   "source": [
    "def step(array, i):\n",
    "    rows, cols = array.shape\n",
    "    for j in range(1, cols):\n",
    "        array[i, j] = sum(array[i-1, j-1:j+2]) % 2"
   ]
  },
  {
   "cell_type": "markdown",
   "metadata": {},
   "source": [
    "Here's the second row."
   ]
  },
  {
   "cell_type": "code",
   "execution_count": 352,
   "metadata": {
    "collapsed": false
   },
   "outputs": [
    {
     "data": {
      "image/png": "[encoded data removed]",
      "text/plain": [
       "<matplotlib.figure.Figure at 0x7f6ac94137d0>"
      ]
     },
     "metadata": {},
     "output_type": "display_data"
    }
   ],
   "source": [
    "step(array, 1)\n",
    "plot_ca(array)"
   ]
  },
  {
   "cell_type": "markdown",
   "metadata": {},
   "source": [
    "And here's what it looks like with the rest of the cells filled in."
   ]
  },
  {
   "cell_type": "code",
   "execution_count": 353,
   "metadata": {
    "collapsed": false
   },
   "outputs": [
    {
     "data": {
      "image/png": "[encoded data removed]",
      "text/plain": [
       "<matplotlib.figure.Figure at 0x7f6ac94d28d0>"
      ]
     },
     "metadata": {},
     "output_type": "display_data"
    }
   ],
   "source": [
    "for i in range(1, rows):\n",
    "    step(array, i)\n",
    "\n",
    "plot_ca(array)"
   ]
  },
  {
   "cell_type": "markdown",
   "metadata": {},
   "source": [
    "For a simple set of rules, the behavior is more interesting than you might expect."
   ]
  },
  {
   "cell_type": "markdown",
   "metadata": {},
   "source": [
    "**Exercise:** Modify this code to increase the number of rows and columns and see what this CA does after more time steps."
   ]
  },
  {
   "cell_type": "markdown",
   "metadata": {},
   "source": [
    "## Cross correlation"
   ]
  },
  {
   "cell_type": "markdown",
   "metadata": {},
   "source": [
    "We can step the CA through time more quickly using \"cross correlation\".  To see how it works, the first step is to replace the slice operator with array multiplication.\n",
    "\n",
    "This window selects the first three elements of an array:"
   ]
  },
  {
   "cell_type": "code",
   "execution_count": 354,
   "metadata": {
    "collapsed": false,
    "scrolled": true
   },
   "outputs": [
    {
     "name": "stdout",
     "output_type": "stream",
     "text": [
      "[1 1 1 0 0 0 0 0 0 0 0 0 0 0 0 0 0 0 0 0 0 0]\n",
      "[0 0 0 0 0 0 0 1 0 0 0 1 0 0 0 1 0 0 0 0 0 0]\n",
      "[0 0 0 0 0 0 0 0 0 0 0 0 0 0 0 0 0 0 0 0 0 0]\n"
     ]
    }
   ],
   "source": [
    "window = np.zeros(cols, dtype=np.int8)\n",
    "window[:3] = 1\n",
    "print(window)\n",
    "print(array[4])\n",
    "print(window * array[4])"
   ]
  },
  {
   "cell_type": "markdown",
   "metadata": {},
   "source": [
    "Then we can use `sum` and the modulus operator to compute the state of the first cell during the next timestep."
   ]
  },
  {
   "cell_type": "code",
   "execution_count": 355,
   "metadata": {
    "collapsed": false
   },
   "outputs": [
    {
     "data": {
      "text/plain": [
       "0"
      ]
     },
     "execution_count": 355,
     "metadata": {},
     "output_type": "execute_result"
    }
   ],
   "source": [
    "sum(window * array[4]) % 2"
   ]
  },
  {
   "cell_type": "markdown",
   "metadata": {},
   "source": [
    "To compute the state of the next cell, we shift the window to the right."
   ]
  },
  {
   "cell_type": "code",
   "execution_count": 356,
   "metadata": {
    "collapsed": false
   },
   "outputs": [
    {
     "name": "stdout",
     "output_type": "stream",
     "text": [
      "[0 1 1 1 0 0 0 0 0 0 0 0 0 0 0 0 0 0 0 0 0 0]\n"
     ]
    }
   ],
   "source": [
    "window = np.roll(window, 1)\n",
    "print(window)"
   ]
  },
  {
   "cell_type": "markdown",
   "metadata": {},
   "source": [
    "And repeat the multiply-sum-modulus operations."
   ]
  },
  {
   "cell_type": "code",
   "execution_count": 357,
   "metadata": {
    "collapsed": false
   },
   "outputs": [
    {
     "data": {
      "text/plain": [
       "0"
      ]
     },
     "execution_count": 357,
     "metadata": {},
     "output_type": "execute_result"
    }
   ],
   "source": [
    "sum(window * array[4]) % 2"
   ]
  },
  {
   "cell_type": "markdown",
   "metadata": {},
   "source": [
    "Now we can rewrite `step` using these operations."
   ]
  },
  {
   "cell_type": "code",
   "execution_count": 358,
   "metadata": {
    "collapsed": true
   },
   "outputs": [],
   "source": [
    "def step2(array, i):\n",
    "    rows, cols = array.shape\n",
    "    window = np.zeros(cols)\n",
    "    window[:3] = 1\n",
    "    for j in range(1, cols):\n",
    "        array[i, j] = sum(window * array[i-1]) % 2\n",
    "        window = np.roll(window, 1)"
   ]
  },
  {
   "cell_type": "markdown",
   "metadata": {},
   "source": [
    "And we can confirm that we get the same result."
   ]
  },
  {
   "cell_type": "code",
   "execution_count": 359,
   "metadata": {
    "collapsed": false
   },
   "outputs": [
    {
     "data": {
      "image/png": "[encoded data removed]",
      "text/plain": [
       "<matplotlib.figure.Figure at 0x7f6ac8d7f7d0>"
      ]
     },
     "metadata": {},
     "output_type": "display_data"
    }
   ],
   "source": [
    "for i in range(1, rows):\n",
    "    step2(array, i)\n",
    "\n",
    "plot_ca(array)"
   ]
  },
  {
   "cell_type": "markdown",
   "metadata": {},
   "source": [
    "That sequence of operations is called a \"sliding dot product\" or \"cross correlation\", and NumPy provides a function that computes it.  So we can replace the `for` loop with `np.correlate`.  The parameter `mode='same'` means that the result has the same length as `array[i]`. "
   ]
  },
  {
   "cell_type": "code",
   "execution_count": 360,
   "metadata": {
    "collapsed": true
   },
   "outputs": [],
   "source": [
    "def step3(array, i):\n",
    "    window = np.array([1, 1, 1])\n",
    "    array[i] = np.correlate(array[i-1], window, mode='same') % 2"
   ]
  },
  {
   "cell_type": "markdown",
   "metadata": {},
   "source": [
    "And the result is the same."
   ]
  },
  {
   "cell_type": "code",
   "execution_count": 361,
   "metadata": {
    "collapsed": false
   },
   "outputs": [
    {
     "data": {
      "image/png": "[encoded data removed]",
      "text/plain": [
       "<matplotlib.figure.Figure at 0x7f6ac91dc7d0>"
      ]
     },
     "metadata": {},
     "output_type": "display_data"
    }
   ],
   "source": [
    "for i in range(1, rows):\n",
    "    step3(array, i)\n",
    "\n",
    "plot_ca(array)"
   ]
  },
  {
   "cell_type": "markdown",
   "metadata": {},
   "source": [
    "So that's good enough for a CA that only depends on the total number of \"on\" cells, but for more general CAs, we need a table that maps from the configuration of the neighborhood to the future state of the center cell.\n",
    "\n",
    "The following function makes the table by interpreting the Rule number in binary."
   ]
  },
  {
   "cell_type": "code",
   "execution_count": 362,
   "metadata": {
    "collapsed": true
   },
   "outputs": [],
   "source": [
    "def make_table(rule):\n",
    "    \"\"\"Make the table for a given CA rule.\n",
    "    \n",
    "    rule: int 0-255\n",
    "    \n",
    "    returns: array of 8 0s and 1s\n",
    "    \"\"\"\n",
    "    rule = np.array([rule], dtype=np.uint8)\n",
    "    table = np.unpackbits(rule)[::-1]\n",
    "    return table"
   ]
  },
  {
   "cell_type": "markdown",
   "metadata": {},
   "source": [
    "Here's what it looks like as an array:"
   ]
  },
  {
   "cell_type": "code",
   "execution_count": 363,
   "metadata": {
    "collapsed": false
   },
   "outputs": [
    {
     "name": "stdout",
     "output_type": "stream",
     "text": [
      "[0 1 1 0 1 0 0 1]\n"
     ]
    }
   ],
   "source": [
    "table = make_table(150)\n",
    "print(table)"
   ]
  },
  {
   "cell_type": "markdown",
   "metadata": {},
   "source": [
    "If we correlate the row with the window `[4, 2, 1]`, it treats each neighborhood as a binary number between 000 and 111."
   ]
  },
  {
   "cell_type": "code",
   "execution_count": 364,
   "metadata": {
    "collapsed": false
   },
   "outputs": [
    {
     "name": "stdout",
     "output_type": "stream",
     "text": [
      "[0 0 0 0 0 0 0 0 0 0 0 1 0 0 0 0 0 0 0 0 0 0]\n",
      "[0 0 0 0 0 0 0 0 0 0 1 2 4 0 0 0 0 0 0 0 0 0]\n"
     ]
    }
   ],
   "source": [
    "window = [4, 2, 1]\n",
    "corr = np.correlate(array[0], window, mode='same')\n",
    "print(array[0])\n",
    "print(corr)"
   ]
  },
  {
   "cell_type": "markdown",
   "metadata": {},
   "source": [
    "Now we can use the result from `np.correlate` as an index into the table; the result is the next row of the array."
   ]
  },
  {
   "cell_type": "code",
   "execution_count": 365,
   "metadata": {
    "collapsed": false
   },
   "outputs": [
    {
     "name": "stdout",
     "output_type": "stream",
     "text": [
      "[0 0 0 0 0 0 0 0 0 0 1 1 1 0 0 0 0 0 0 0 0 0]\n"
     ]
    }
   ],
   "source": [
    "array[1] = table[corr]\n",
    "print(array[1])"
   ]
  },
  {
   "cell_type": "markdown",
   "metadata": {},
   "source": [
    "We can wrap up that code in a function:"
   ]
  },
  {
   "cell_type": "code",
   "execution_count": 366,
   "metadata": {
    "collapsed": true
   },
   "outputs": [],
   "source": [
    "def step4(array, i):\n",
    "    window = np.array([4, 2, 1])\n",
    "    corr = np.correlate(array[i-1], window, mode='same')\n",
    "    array[i] = table[corr]"
   ]
  },
  {
   "cell_type": "markdown",
   "metadata": {},
   "source": [
    "And test it again."
   ]
  },
  {
   "cell_type": "code",
   "execution_count": 367,
   "metadata": {
    "collapsed": false
   },
   "outputs": [
    {
     "data": {
      "image/png": "[encoded data removed]",
      "text/plain": [
       "<matplotlib.figure.Figure at 0x7f6ac9307750>"
      ]
     },
     "metadata": {},
     "output_type": "display_data"
    }
   ],
   "source": [
    "for i in range(1, rows):\n",
    "    step4(array, i)\n",
    "\n",
    "plot_ca(array)"
   ]
  },
  {
   "cell_type": "markdown",
   "metadata": {},
   "source": [
    "How did I know that Rule 150 is the same as the previous CA?  I wrote out the table and converted it to binary."
   ]
  },
  {
   "cell_type": "markdown",
   "metadata": {
    "collapsed": true
   },
   "source": [
    "## The Cell1D object"
   ]
  },
  {
   "cell_type": "markdown",
   "metadata": {},
   "source": [
    "`Cell1D.py` provides a `Cell1D` class that encapsulates the code from the previous section.\n",
    "\n",
    "Here's an example that runs a Rule 50 CA for 10 steps."
   ]
  },
  {
   "cell_type": "code",
   "execution_count": 368,
   "metadata": {
    "collapsed": false
   },
   "outputs": [],
   "source": [
    "from Cell1D import Cell1D, Cell1DViewer"
   ]
  },
  {
   "cell_type": "code",
   "execution_count": 369,
   "metadata": {
    "collapsed": false
   },
   "outputs": [],
   "source": [
    "rule = 50\n",
    "n = 10\n",
    "ca = Cell1D(rule, n)\n",
    "ca.start_single()\n",
    "ca.loop(n-1)"
   ]
  },
  {
   "cell_type": "markdown",
   "metadata": {},
   "source": [
    "We can display the results:"
   ]
  },
  {
   "cell_type": "code",
   "execution_count": 370,
   "metadata": {
    "collapsed": false
   },
   "outputs": [
    {
     "data": {
      "image/png": "[encoded data removed]",
      "text/plain": [
       "<matplotlib.figure.Figure at 0x7f6ac8a36790>"
      ]
     },
     "metadata": {},
     "output_type": "display_data"
    }
   ],
   "source": [
    "viewer = Cell1DViewer(ca)\n",
    "viewer.draw()\n",
    "\n",
    "plt.savefig('chap05-1.pdf')"
   ]
  },
  {
   "cell_type": "markdown",
   "metadata": {},
   "source": [
    "Here's the Rule 50 table."
   ]
  },
  {
   "cell_type": "code",
   "execution_count": 371,
   "metadata": {
    "collapsed": false
   },
   "outputs": [
    {
     "name": "stdout",
     "output_type": "stream",
     "text": [
      "[0 1 0 0 1 1 0 0]\n"
     ]
    }
   ],
   "source": [
    "print(ca.table)"
   ]
  },
  {
   "cell_type": "markdown",
   "metadata": {},
   "source": [
    "Another example:"
   ]
  },
  {
   "cell_type": "code",
   "execution_count": 372,
   "metadata": {
    "collapsed": true
   },
   "outputs": [],
   "source": [
    "rule = 150\n",
    "n = 5\n",
    "ca = Cell1D(rule, n)\n",
    "ca.start_single()\n",
    "ca.loop(n-1)"
   ]
  },
  {
   "cell_type": "code",
   "execution_count": 373,
   "metadata": {
    "collapsed": false
   },
   "outputs": [
    {
     "data": {
      "image/png": "[encoded data removed]",
      "text/plain": [
       "<matplotlib.figure.Figure at 0x7f6ac8794f50>"
      ]
     },
     "metadata": {},
     "output_type": "display_data"
    }
   ],
   "source": [
    "viewer = Cell1DViewer(ca)\n",
    "viewer.draw()\n",
    "\n",
    "plt.savefig('chap05-2.pdf')"
   ]
  },
  {
   "cell_type": "markdown",
   "metadata": {},
   "source": [
    "And one more example showing recursive structure."
   ]
  },
  {
   "cell_type": "code",
   "execution_count": 374,
   "metadata": {
    "collapsed": true
   },
   "outputs": [],
   "source": [
    "rule = 18\n",
    "n = 64\n",
    "ca = Cell1D(rule, n)\n",
    "ca.start_single()\n",
    "ca.loop(n-1)"
   ]
  },
  {
   "cell_type": "code",
   "execution_count": 375,
   "metadata": {
    "collapsed": false
   },
   "outputs": [
    {
     "data": {
      "image/png": "[encoded data removed]",
      "text/plain": [
       "<matplotlib.figure.Figure at 0x7f6ac884ffd0>"
      ]
     },
     "metadata": {},
     "output_type": "display_data"
    }
   ],
   "source": [
    "viewer = Cell1DViewer(ca)\n",
    "viewer.draw()\n",
    "\n",
    "plt.savefig('chap05-3.pdf')"
   ]
  },
  {
   "cell_type": "markdown",
   "metadata": {},
   "source": [
    "Rule 30 generates a sequence of bits that is indistinguishable from random:"
   ]
  },
  {
   "cell_type": "code",
   "execution_count": 376,
   "metadata": {
    "collapsed": true
   },
   "outputs": [],
   "source": [
    "rule = 30\n",
    "n = 100\n",
    "ca = Cell1D(rule, n)\n",
    "ca.start_single()\n",
    "ca.loop(n-1)"
   ]
  },
  {
   "cell_type": "code",
   "execution_count": 377,
   "metadata": {
    "collapsed": false
   },
   "outputs": [
    {
     "data": {
      "image/png": "[encoded data removed]",
      "text/plain": [
       "<matplotlib.figure.Figure at 0x7f6ac89c4ed0>"
      ]
     },
     "metadata": {},
     "output_type": "display_data"
    }
   ],
   "source": [
    "viewer = Cell1DViewer(ca)\n",
    "viewer.draw()\n",
    "\n",
    "plt.savefig('chap05-4.pdf')"
   ]
  },
  {
   "cell_type": "markdown",
   "metadata": {},
   "source": [
    "And Rule 110 is Turing complete!"
   ]
  },
  {
   "cell_type": "code",
   "execution_count": 378,
   "metadata": {
    "collapsed": true
   },
   "outputs": [],
   "source": [
    "rule = 110\n",
    "n = 100\n",
    "ca = Cell1D(rule, n)\n",
    "ca.start_single()\n",
    "ca.loop(n-1)"
   ]
  },
  {
   "cell_type": "code",
   "execution_count": 379,
   "metadata": {
    "collapsed": false
   },
   "outputs": [
    {
     "data": {
      "image/png": "[encoded data removed]",
      "text/plain": [
       "<matplotlib.figure.Figure at 0x7f6ac89f0bd0>"
      ]
     },
     "metadata": {},
     "output_type": "display_data"
    }
   ],
   "source": [
    "viewer = Cell1DViewer(ca)\n",
    "viewer.draw()\n",
    "\n",
    "plt.savefig('chap05-5.pdf')"
   ]
  },
  {
   "cell_type": "markdown",
   "metadata": {},
   "source": [
    "Heres a longer run that has some spaceships."
   ]
  },
  {
   "cell_type": "code",
   "execution_count": 380,
   "metadata": {
    "collapsed": true
   },
   "outputs": [],
   "source": [
    "rule = 110\n",
    "n = 600\n",
    "ca = Cell1D(rule, n)\n",
    "ca.start_random()\n",
    "ca.loop(n-1)"
   ]
  },
  {
   "cell_type": "code",
   "execution_count": 381,
   "metadata": {
    "collapsed": false
   },
   "outputs": [
    {
     "data": {
      "image/png": "[encoded data removed]",
      "text/plain": [
       "<matplotlib.figure.Figure at 0x7f6ac88f5f10>"
      ]
     },
     "metadata": {},
     "output_type": "display_data"
    }
   ],
   "source": [
    "viewer = Cell1DViewer(ca)\n",
    "viewer.draw()\n",
    "\n",
    "plt.savefig('chap05-6.pdf')"
   ]
  },
  {
   "cell_type": "markdown",
   "metadata": {},
   "source": [
    "## Exercises"
   ]
  },
  {
   "cell_type": "markdown",
   "metadata": {},
   "source": [
    "**Exercise:** This exercise asks you to experiment with Rule 110 and see how\n",
    "many spaceships you can find.\n",
    "\n",
    "1. Read the [Wikipedia page about Rule 110](https://en.wikipedia.org/wiki/Rule_110), which describes its background pattern and spaceships.\n",
    "\n",
    "2. Create a Rule 110 CA with an initial condition that yields the\n",
    "  stable background pattern.  Note that the CA class provides\n",
    "`start_string`, which allow you to initialize the state of\n",
    "the array using a string of `1`s and `0`s.\n",
    "\n",
    "3. Modify the initial condition by adding different patterns in the\n",
    "  center of the row and see which ones yield spaceships.  You might\n",
    "  want to enumerate all possible patterns of $n$ bits, for some\n",
    "  reasonable value of $n$.  For each spaceship, can you find the\n",
    "  period and rate of translation?  What is the biggest spaceship you\n",
    "  can find?\n",
    "\n",
    "4. What happens when spaceships collide?"
   ]
  },
  {
   "cell_type": "markdown",
   "metadata": {},
   "source": [
    "#### Exercise 5.2"
   ]
  },
  {
   "cell_type": "code",
   "execution_count": 382,
   "metadata": {
    "collapsed": false
   },
   "outputs": [],
   "source": [
    "# Could not find start_string provided by CA class\n",
    "# When checking answer saw how it was implemented there and modified my progress to use it"
   ]
  },
  {
   "cell_type": "code",
   "execution_count": 383,
   "metadata": {
    "collapsed": false
   },
   "outputs": [
    {
     "data": {
      "image/png": "[encoded data removed]",
      "text/plain": [
       "<matplotlib.figure.Figure at 0x7f6ac8889690>"
      ]
     },
     "metadata": {},
     "output_type": "display_data"
    }
   ],
   "source": [
    "# Solution goes here\n",
    "\n",
    "from Cell1D import Wrap1D\n",
    "background = '00010011011111'\n",
    "background = background * 5\n",
    "rule = 110\n",
    "n = len(background)\n",
    "ca = Cell1D(rule, n, n)\n",
    "ca.start_string(background)\n",
    "ca.loop(n-1)\n",
    "viewer = Cell1DViewer(ca)\n",
    "viewer.draw()\n"
   ]
  },
  {
   "cell_type": "code",
   "execution_count": 384,
   "metadata": {
    "collapsed": false
   },
   "outputs": [
    {
     "name": "stdout",
     "output_type": "stream",
     "text": [
      "[0 1 1 1 0 1 1 0]\n"
     ]
    }
   ],
   "source": [
    "# Solution goes here\n",
    "print(ca.table)"
   ]
  },
  {
   "cell_type": "code",
   "execution_count": 385,
   "metadata": {
    "collapsed": false
   },
   "outputs": [
    {
     "data": {
      "image/png": "[encoded data removed]",
      "text/plain": [
       "<matplotlib.figure.Figure at 0x7f6ac8d9ced0>"
      ]
     },
     "metadata": {},
     "output_type": "display_data"
    }
   ],
   "source": [
    "spaceship = '0001110111'; # From wikipedia\n",
    "start_string_init = background*2 + spaceship + background*2\n",
    "rule = 110\n",
    "n = len(start_string_init)\n",
    "ca = Cell1D(rule, n, n)\n",
    "ca.start_string(start_string_init)\n",
    "ca.loop(n-1)\n",
    "viewer = Cell1DViewer(ca)\n",
    "viewer.draw()\n"
   ]
  },
  {
   "cell_type": "markdown",
   "metadata": {},
   "source": [
    "The diagonal line seen above is the spaceship."
   ]
  },
  {
   "cell_type": "code",
   "execution_count": 386,
   "metadata": {
    "collapsed": false
   },
   "outputs": [
    {
     "data": {
      "image/png": "[encoded data removed]",
      "text/plain": [
       "<matplotlib.figure.Figure at 0x7f6ac884f890>"
      ]
     },
     "metadata": {},
     "output_type": "display_data"
    }
   ],
   "source": [
    "spaceship = '1111111111'; # Test\n",
    "start_string_init = background*2 + spaceship + background*2\n",
    "rule = 110\n",
    "n = len(start_string_init)\n",
    "ca = Cell1D(rule, n, n)\n",
    "ca.start_string(start_string_init)\n",
    "ca.loop(n-1)\n",
    "viewer = Cell1DViewer(ca)\n",
    "viewer.draw()"
   ]
  },
  {
   "cell_type": "code",
   "execution_count": 387,
   "metadata": {
    "collapsed": false
   },
   "outputs": [
    {
     "data": {
      "image/png": "[encoded data removed]",
      "text/plain": [
       "<matplotlib.figure.Figure at 0x7f6ac954ebd0>"
      ]
     },
     "metadata": {},
     "output_type": "display_data"
    }
   ],
   "source": [
    "spaceship = '0000000000'; # Test\n",
    "start_string_init = background*2 + spaceship + background*2\n",
    "rule = 110\n",
    "n = len(start_string_init)\n",
    "ca = Cell1D(rule, n, n)\n",
    "ca.start_string(start_string_init)\n",
    "ca.loop(n-1)\n",
    "viewer = Cell1DViewer(ca)\n",
    "viewer.draw()"
   ]
  },
  {
   "cell_type": "code",
   "execution_count": 388,
   "metadata": {
    "collapsed": false
   },
   "outputs": [
    {
     "data": {
      "image/png": "[encoded data removed]",
      "text/plain": [
       "<matplotlib.figure.Figure at 0x7f6ac93ee550>"
      ]
     },
     "metadata": {},
     "output_type": "display_data"
    }
   ],
   "source": [
    "spaceship = '0101010101'; # Test\n",
    "start_string_init = background*2 + spaceship + background*2\n",
    "rule = 110\n",
    "n = len(start_string_init)\n",
    "ca = Cell1D(rule, n, n)\n",
    "ca.start_string(start_string_init)\n",
    "ca.loop(n-1)\n",
    "viewer = Cell1DViewer(ca)\n",
    "viewer.draw()"
   ]
  },
  {
   "cell_type": "code",
   "execution_count": 389,
   "metadata": {
    "collapsed": true
   },
   "outputs": [],
   "source": [
    "# A little confused about how to determine what makes a spaceship \"Big\". \n",
    "# '1111111111' and '0000000000' seem big because the diagonal path they leave is wide,\n",
    "# but I am pretty sure that is not how we are supposed to define bigness here."
   ]
  },
  {
   "cell_type": "code",
   "execution_count": 390,
   "metadata": {
    "collapsed": false
   },
   "outputs": [
    {
     "data": {
      "image/png": "[encoded data removed]",
      "text/plain": [
       "<matplotlib.figure.Figure at 0x7f6ac884fd50>"
      ]
     },
     "metadata": {},
     "output_type": "display_data"
    }
   ],
   "source": [
    "spaceship = '1100011101'; # Test\n",
    "start_string_init = background*2 + spaceship + background*2\n",
    "rule = 110\n",
    "n = len(start_string_init)\n",
    "ca = Cell1D(rule, n, n)\n",
    "ca.start_string(start_string_init)\n",
    "ca.loop(n-1)\n",
    "viewer = Cell1DViewer(ca)\n",
    "viewer.draw()"
   ]
  },
  {
   "cell_type": "code",
   "execution_count": null,
   "metadata": {
    "collapsed": true
   },
   "outputs": [],
   "source": []
  },
  {
   "cell_type": "markdown",
   "metadata": {},
   "source": [
    "#### What happens when spaceships collide?"
   ]
  },
  {
   "cell_type": "code",
   "execution_count": 391,
   "metadata": {
    "collapsed": false
   },
   "outputs": [
    {
     "data": {
      "image/png": "[encoded data removed]",
      "text/plain": [
       "<matplotlib.figure.Figure at 0x7f6ac92f8a90>"
      ]
     },
     "metadata": {},
     "output_type": "display_data"
    }
   ],
   "source": [
    "spaceship1 = '0001110111'; # From wikipedia\n",
    "spaceship2 = '1111111111';\n",
    "start_string_init = background + spaceship1 + background + spaceship2 + background\n",
    "rule = 110\n",
    "n = len(start_string_init)\n",
    "ca = Cell1D(rule, n, n)\n",
    "ca.start_string(start_string_init)\n",
    "ca.loop(n-1)\n",
    "viewer = Cell1DViewer(ca)\n",
    "viewer.draw()\n"
   ]
  },
  {
   "cell_type": "code",
   "execution_count": 392,
   "metadata": {
    "collapsed": true
   },
   "outputs": [],
   "source": [
    "# Part of spaceship continues in the same direction, and part changes direction from collision as seen above."
   ]
  },
  {
   "cell_type": "code",
   "execution_count": null,
   "metadata": {
    "collapsed": true
   },
   "outputs": [],
   "source": []
  },
  {
   "cell_type": "markdown",
   "metadata": {},
   "source": [
    "**Exercise:** The goal of this exercise is to implement a Turing machine.\n",
    "\n",
    "1. Read about Turing machines at http://en.wikipedia.org/wiki/Turing_machine.\n",
    "\n",
    "2. Write a class called `Turing` that implements a Turing machine.  For the action table, use the rules for a 3-state busy beaver.\n",
    "\n",
    "3. Write a class named `TuringDrawer` that generates an image that represents the state of the tape and the position and state of the head.  For one example of what that might look like, see http://mathworld.wolfram.com/TuringMachine.html.\n"
   ]
  },
  {
   "cell_type": "markdown",
   "metadata": {},
   "source": [
    "#### Exercise 5.3"
   ]
  },
  {
   "cell_type": "markdown",
   "metadata": {
    "collapsed": true
   },
   "source": [
    "### My Solution\n",
    "I struggled in my initial attempts to complete this exercise independently,\n",
    "and found I was making little progress in learning the material,\n",
    "so I referenced/relied on the following sources in addition to the wikipedia page.\n",
    "- http://www.python-course.eu/turing_machine.php\n",
    "- https://github.com/michaelamie/python-turing\n",
    "- Solutions from ThinkComplexity\n",
    "\n",
    "The code below is from those sources, but is heavily commented to show my understanding of how it works, and that I have learned the material the exercise is intended to teach."
   ]
  },
  {
   "cell_type": "code",
   "execution_count": 393,
   "metadata": {
    "collapsed": false
   },
   "outputs": [],
   "source": [
    "class Tape(object):\n",
    "    \"\"\"Tape object initialize with rows of cells and an initial position.\"\"\"\n",
    "    def __init__(self, cells=[None], position=1):\n",
    "        self.cells = cells\n",
    "        self.position = position\n",
    "\n",
    "    def write(self, symbol):\n",
    "        if len(self.cells) >= self.position:\n",
    "            self.cells[self.position-1] = symbol # Write symbol to tape\n",
    "\n",
    "    def get_symbol(self):\n",
    "        return self.cells[self.position - 1] # Read symbol from tape\n",
    "   \n",
    "    def get_tape_cells(self):\n",
    "        return self.cells\n",
    "    \n",
    "    def set_position(self, pos):\n",
    "        self.position = pos\n",
    "    \n",
    "\n",
    "class Turing():\n",
    "    def __init__(self, action_table, initial_state, n, m):\n",
    "        \"\"\"\n",
    "        action_table: dictionary mapping to next state\n",
    "        n: number of rows\n",
    "        m: number of columns\n",
    "        \"\"\"\n",
    "        self.n = n # Number of rows \n",
    "        self.m = m # Number of columns\n",
    "        # The tape cells are an array of zeros m wide and n tall. Type 8-bit integer.\n",
    "        tape_cells = np.zeros((n,m), dtype=np.int8)\n",
    "        self.tape = Tape(tape_cells) # The tape is a Tape object created with tape cells initialized at position=1.\n",
    "        # Head is an array of zeros as long as the number of rows.Type 64-bit integer.\n",
    "        self.head = np.zeros(n, dtype=np.int64) \n",
    "        self.head[0] = int(m/2) #  First element of the head (corresponding to first row of tape)\n",
    "                                # is set to the integer value of half of the number of columns.\n",
    "        self.state = initial_state # The state is initialized.\n",
    "        # Because in this exercise the action table is following the rules of 3-state Busy Beaver,\n",
    "        # the machine will switch between the states of A, B, C, and HALT.\n",
    "        # When the current state is A, the next state will be B if the tape reads 0 and C if it reads 1\n",
    "        # When the current state is B, the next state will be A if the tape reads 0 and stay B if it reads 1.\n",
    "        # When the current state is C, the next state will be B if the tape reads 0 and HALT if it reads 1.\n",
    "        # When the state is HALT the iterations will stop, raising an exception to break the loop.\n",
    "        self.action_table = action_table # A dictionary of instructions mapping the machine to its next state.\n",
    "                                         # See further explanation below, where busy beaver action_table is created.\n",
    "        self.next = 1 # Initialized to 1 and incremented each step. Every step, the head of this index is recorded, \n",
    "                      # and the head of the previous next index is used to determine its current position.\n",
    "        \n",
    "    \n",
    "    def loop(self, steps=1): \n",
    "        \"\"\"\n",
    "        Executes the given number of time steps.\n",
    "        The input determines the maximum number of times to step through the loop.\n",
    "        \"\"\"\n",
    "        for i in range(steps):\n",
    "            try:\n",
    "                self.step()         # Execute a time step of the machine\n",
    "            except StopIteration:   # Unless StopIteration has been raised, which wouldd mean self.state = 'HALT'.\n",
    "                break               # Once the HALT state is reached, the tape does not move\n",
    "                                    # and the state does not change.\n",
    "\n",
    "    def step(self):\n",
    "        \"\"\"Executes one time step.\"\"\"\n",
    "        if self.state == 'HALT':\n",
    "            raise StopIteration     # HALT state has been reached. Stop iterating and break the loop.\n",
    "        i = self.next # Set current index i equal to the next index of the head.\n",
    "        head = self.head[i-1] # Set head equal to the machine's head at this step's previous index.\n",
    "                              # (To read the symbol).\n",
    "        \n",
    "        symbol_array = self.tape.get_symbol()\n",
    "        symbol = symbol_array[head]\n",
    "        # The value of the new symbol to be written, which direction to move the tape, and what the next state is\n",
    "        # are all found in the action_table using the symbol that was read and the current state.\n",
    "        # New symbol = symbol to be written.\n",
    "        new_symbol, move, self.state = self.action_table[symbol][self.state] \n",
    "        print(symbol, self.state, ': ', new_symbol, move, self.state)\n",
    "        \n",
    "        # Writing new symbol to the tape\n",
    "        symbol_string=self.tape.cells[self.tape.position]\n",
    "        symbol_string[head] = new_symbol\n",
    "        self.tape.write(symbol_string)\n",
    "        if move == 'R':\n",
    "            head += 1    # If moving right, head increases by 1, effectively doing so.\n",
    "            \n",
    "      \n",
    "        else:\n",
    "            head -= 1    # If moving left, head decreases by 1, effectively doing so.\n",
    "            \n",
    "        self.head[i] = head  # The current value of head is set to have been the value of head at this step.\n",
    "        self.next += 1  # Next counter increments.\n",
    "                        # This new value will be set to be the index the next step in the loop.\n",
    "    \n",
    "    def get_array(self, start=0, end=None):\n",
    "        \"\"\"Gets a slice of columns from the CA.\n",
    "\n",
    "        Avoids copying if possible.\n",
    "\n",
    "        start: index of first column\n",
    "        end: index of the last column plus one\n",
    "        \"\"\"\n",
    "        if start==0 and end==None:\n",
    "            return self.tape\n",
    "        else:\n",
    "            return self.tape[:, start:end]\n",
    "        "
   ]
  },
  {
   "cell_type": "code",
   "execution_count": 394,
   "metadata": {
    "collapsed": true
   },
   "outputs": [],
   "source": [
    "# 3-state busy beaver action table\n",
    "# This table can be found on the wikipedia for Turing Machines:\n",
    "# https://en.wikipedia.org/wiki/Turing_machine_examples#3-state_Busy_Beaver\n",
    "# This table functions as a look up table to determine\n",
    "# the value to write(in this case alwasy 1), the direction to move (Either L or R),\n",
    "# and the next state. (A, B, C, or HALT).\n",
    "\n",
    "busy_beaver_action_table = {}\n",
    "busy_beaver_action_table[0]= {}\n",
    "busy_beaver_action_table[1]= {}\n",
    "busy_beaver_action_table[0]['A']= 1, 'R', 'B' \n",
    "busy_beaver_action_table[0]['B'] = 1, 'L', 'A' \n",
    "busy_beaver_action_table[0]['C'] = 1, 'L', 'B'\n",
    "busy_beaver_action_table[1]['A'] = 1, 'L', 'C' \n",
    "busy_beaver_action_table[1]['B'] = 1, 'R', 'B' \n",
    "busy_beaver_action_table[1]['C'] = 1, 'R', 'HALT'"
   ]
  },
  {
   "cell_type": "code",
   "execution_count": 395,
   "metadata": {
    "collapsed": false
   },
   "outputs": [
    {
     "name": "stdout",
     "output_type": "stream",
     "text": [
      "0 B :  1 R B\n",
      "0 A :  1 L A\n",
      "1 C :  1 L C\n",
      "0 B :  1 L B\n",
      "0 A :  1 L A\n",
      "0 B :  1 R B\n",
      "1 B :  1 R B\n",
      "1 B :  1 R B\n",
      "1 B :  1 R B\n",
      "1 B :  1 R B\n",
      "0 A :  1 L A\n",
      "1 C :  1 L C\n",
      "1 HALT :  1 R HALT\n"
     ]
    }
   ],
   "source": [
    "turing = Turing(busy_beaver_action_table, 'A', 20, 20) # Create turing with 20x20 tape and initialize to state 'A'.\n",
    "turing.loop(19) # loop up to 20 times through steps (or until halt which occurs here after 13 steps)."
   ]
  },
  {
   "cell_type": "code",
   "execution_count": 396,
   "metadata": {
    "collapsed": false
   },
   "outputs": [
    {
     "name": "stdout",
     "output_type": "stream",
     "text": [
      "[[0 0 0 0 0 0 0 1 1 1 1 1 1 0 0 0 0 0 0 0]\n",
      " [0 0 0 0 0 0 0 1 1 1 1 1 1 0 0 0 0 0 0 0]\n",
      " [0 0 0 0 0 0 0 0 0 0 0 0 0 0 0 0 0 0 0 0]\n",
      " [0 0 0 0 0 0 0 0 0 0 0 0 0 0 0 0 0 0 0 0]\n",
      " [0 0 0 0 0 0 0 0 0 0 0 0 0 0 0 0 0 0 0 0]\n",
      " [0 0 0 0 0 0 0 0 0 0 0 0 0 0 0 0 0 0 0 0]\n",
      " [0 0 0 0 0 0 0 0 0 0 0 0 0 0 0 0 0 0 0 0]\n",
      " [0 0 0 0 0 0 0 0 0 0 0 0 0 0 0 0 0 0 0 0]\n",
      " [0 0 0 0 0 0 0 0 0 0 0 0 0 0 0 0 0 0 0 0]\n",
      " [0 0 0 0 0 0 0 0 0 0 0 0 0 0 0 0 0 0 0 0]\n",
      " [0 0 0 0 0 0 0 0 0 0 0 0 0 0 0 0 0 0 0 0]\n",
      " [0 0 0 0 0 0 0 0 0 0 0 0 0 0 0 0 0 0 0 0]\n",
      " [0 0 0 0 0 0 0 0 0 0 0 0 0 0 0 0 0 0 0 0]\n",
      " [0 0 0 0 0 0 0 0 0 0 0 0 0 0 0 0 0 0 0 0]\n",
      " [0 0 0 0 0 0 0 0 0 0 0 0 0 0 0 0 0 0 0 0]\n",
      " [0 0 0 0 0 0 0 0 0 0 0 0 0 0 0 0 0 0 0 0]\n",
      " [0 0 0 0 0 0 0 0 0 0 0 0 0 0 0 0 0 0 0 0]\n",
      " [0 0 0 0 0 0 0 0 0 0 0 0 0 0 0 0 0 0 0 0]\n",
      " [0 0 0 0 0 0 0 0 0 0 0 0 0 0 0 0 0 0 0 0]\n",
      " [0 0 0 0 0 0 0 0 0 0 0 0 0 0 0 0 0 0 0 0]]\n"
     ]
    },
    {
     "data": {
      "image/png": "[encoded data removed]",
      "text/plain": [
       "<matplotlib.figure.Figure at 0x7f6ac8a01610>"
      ]
     },
     "metadata": {},
     "output_type": "display_data"
    }
   ],
   "source": [
    "class TuringDrawer:        \n",
    "    def draw_turing_image(self, turing):\n",
    "        \"\"\"Draws the turing image\"\"\"\n",
    "        n = turing.n\n",
    "        m = turing.m\n",
    "        tape = turing.tape.get_tape_cells()\n",
    "        print(tape)\n",
    "        plt.ylim([n + 1, -1])\n",
    "        plt.xlim([-1, m])\n",
    "        \n",
    "        plt.imshow(tape, cmap='Blues',  interpolation='nearest')\n",
    "        \n",
    "        x = turing.head\n",
    "        y = np.arange(len(x))\n",
    "        plt.plot(x, y, '*')\n",
    "\n",
    "turing_image = TuringDrawer()\n",
    "turing_image.draw_turing_image(turing)"
   ]
  },
  {
   "cell_type": "markdown",
   "metadata": {},
   "source": [
    "The final position of my tape looks different than the solution. This appears to be an issue with my tape class, since the head points look correct. I thought it may have been a problem with incrementing the position in the tape object, but changing that only made the points also incorrect, and appeared to make the problem worse.\n",
    "There is a misunderstanding here somewhere. Would love to discuss in person if you think that would be useful, though feedback to the assignment might be sufficient. (I understand that this isn't wokring because I'm not reading and writing enough symbols on the tape past the first two rows, but I can't find the best place to increment which row of cells I am looking at. The options that seemed intuitive to me, such as incrementing the tape position(not head) when the index i of the next step increments, or incrementing the position when moving the tape left/right all made my final result look worse. I'm currently moving the head when the action table says to move left/right. "
   ]
  },
  {
   "cell_type": "markdown",
   "metadata": {
    "collapsed": true
   },
   "source": [
    "Still figuring this out and may submit a revision late if possible."
   ]
  },
  {
   "cell_type": "markdown",
   "metadata": {},
   "source": [
    "**Exercise:** This exercise asks you to implement and test several PRNGs.\n",
    "For testing, you will need to install \n",
    "`DieHarder`, which you can download from \n",
    "https://www.phy.duke.edu/~rgb/General/dieharder.php, or it\n",
    "might be available as a package for your operating system.\n",
    "\n",
    "1. Write a program that implements one of the linear congruential\n",
    "generators described at http://en.wikipedia.org/wiki/Linear_congruential_generator}.\n",
    "Test it using `DieHarder`.\n",
    "\n",
    "2. Read the documentation of Python's `random` module.\n",
    "What PRNG does it use?  Test it.\n",
    "\n",
    "3. Implement a Rule 30 CA with a few hundred cells,\n",
    "run it for as many time steps as you can in a reasonable amount\n",
    "of time, and output the center column as a sequence of bits.\n",
    "Test it.\n"
   ]
  },
  {
   "cell_type": "code",
   "execution_count": 398,
   "metadata": {
    "collapsed": false
   },
   "outputs": [],
   "source": [
    "# Did not complete optional exercies."
   ]
  }
 ],
 "metadata": {
  "kernelspec": {
   "display_name": "Python 2",
   "language": "python",
   "name": "python2"
  },
  "language_info": {
   "codemirror_mode": {
    "name": "ipython",
    "version": 2
   },
   "file_extension": ".py",
   "mimetype": "text/x-python",
   "name": "python",
   "nbconvert_exporter": "python",
   "pygments_lexer": "ipython2",
   "version": "2.7.11"
  }
 },
 "nbformat": 4,
 "nbformat_minor": 0
}
