{
 "cells": [
  {
   "cell_type": "markdown",
   "metadata": {},
   "source": [
    "# The Iterated Prisoner's Dilemma"
   ]
  },
  {
   "cell_type": "code",
   "execution_count": 2,
   "metadata": {
    "collapsed": true
   },
   "outputs": [],
   "source": [
    "import random"
   ]
  },
  {
   "cell_type": "code",
   "execution_count": 3,
   "metadata": {
    "collapsed": true
   },
   "outputs": [],
   "source": [
    "class SampleRule():\n",
    "    ''' Defines a custom written rule with a step function that can play an\n",
    "        iterated prisoners dilemma.\n",
    "\n",
    "        After being initialized by the Match object, Rule.order will be assigned.\n",
    "\n",
    "            order: (0 or 1) represents the order within the history, 0 first, 1 second, etc... \n",
    "                It should be used to reference the proper list in history.\n",
    "\n",
    "        Each round, the Match class provides your step function with history and round\n",
    "\n",
    "                history: a list of two lists, representing the actions both\n",
    "                    rules took in all previous rounds\n",
    "                round: the current round of the match\n",
    "\n",
    "         You will need to write a step function for your rule with the shown inputs.\n",
    "         The function should return a 0 to defect, and a 1 to cooperate.\n",
    "    '''\n",
    "    \n",
    "    def step(self, history, round):\n",
    "        ''' \n",
    "        action = Your code here to determine what action your Rule will take.\n",
    "\n",
    "        return action\n",
    "        '''"
   ]
  },
  {
   "cell_type": "markdown",
   "metadata": {},
   "source": [
    "### There are sample rule files included in this folder\n",
    "You should look through all of them, and use similar commenting and formatting when you write your own rules."
   ]
  },
  {
   "cell_type": "code",
   "execution_count": 4,
   "metadata": {
    "collapsed": true
   },
   "outputs": [],
   "source": [
    "from Cooperate import Cooperate\n",
    "from Defect import Defect\n",
    "from TitForTat import TitForTat\n",
    "from Flipper import Flipper"
   ]
  },
  {
   "cell_type": "markdown",
   "metadata": {},
   "source": [
    "## Matches are played between two rules"
   ]
  },
  {
   "cell_type": "code",
   "execution_count": 5,
   "metadata": {
    "collapsed": false
   },
   "outputs": [],
   "source": [
    "class Match():\n",
    "    ''' Defines a match which takes two rules and facilitates a game of iterated\n",
    "        prisoner's dilemma between them.\n",
    "    '''\n",
    "    def __init__(self, ruleA, ruleB, length):\n",
    "        ''' Init method for Match class.\n",
    "\n",
    "            ruleA, ruleB: instances of rules\n",
    "            length (int): the number of rounds to be played in this match\n",
    "        '''\n",
    "\n",
    "        order = [ruleA, ruleB]\n",
    "        self.rule0 = order[0]\n",
    "        self.rule0.order = 0\n",
    "\n",
    "        self.rule1 = order[1]\n",
    "        self.rule1.order = 1\n",
    "\n",
    "        self.round = 0\n",
    "        self.length = length\n",
    "        self.history = [[],[]]\n",
    "        \n",
    "        self.name = name(self.rule0) + '-' + name(self.rule1)\n",
    "\n",
    "    def run(self):\n",
    "        while True:\n",
    "            self.step_round()\n",
    "            if self.round >= self.length:\n",
    "                break\n",
    "\n",
    "    def halted_run(self):\n",
    "        while True:\n",
    "            self.step_round()\n",
    "            if self.round >= self.length:\n",
    "                break\n",
    "            print(self.history)\n",
    "            print(self.score())\n",
    "            input()\n",
    "\n",
    "    def step_round(self):\n",
    "        ''' Runs one round of iterated prisoners dilemma by running the step\n",
    "            functions of each rule and adding them to the history, then\n",
    "            advancing a round.\n",
    "        '''\n",
    "\n",
    "        action0 = self.rule0.step(self.history, self.round)\n",
    "        action1 = self.rule1.step(self.history, self.round)\n",
    "\n",
    "        if (action0 not in [0, 1]):\n",
    "            raise ValueError(name(self.rule0) + 'did not provide a valid action')\n",
    "        if (action1 not in [0, 1]):\n",
    "            raise ValueError(name(self.rule1) + 'did not provide a valid action')\n",
    "\n",
    "        self.history[0].append(action0)\n",
    "        self.history[1].append(action1)\n",
    "\n",
    "        self.round += 1\n",
    "\n",
    "    def score(self):\n",
    "        ''' Calculate scores for the match based on the history.\n",
    "\n",
    "            Both cooperate: 3 points for both.\n",
    "            One cooperates, one defects: 5 points for the one who defected, 0\n",
    "                for the other.\n",
    "            Both defect: 1 point for both.\n",
    "         '''\n",
    "\n",
    "        outcome = [[[1,1], [5,0]], [[0,5], [3,3]]]\n",
    "        scoring = [0, 0]\n",
    "\n",
    "        for i in range(len(self.history[0])):\n",
    "            round_score = outcome[self.history[0][i]][self.history[1][i]]\n",
    "            scoring[0] += round_score[0]\n",
    "            scoring[1] += round_score[1]\n",
    "\n",
    "        return scoring\n",
    "\n",
    "def name(rule):\n",
    "    n = type(rule).__name__\n",
    "    return n\n",
    "    \n",
    "def print_history(match):\n",
    "    print(match.name)\n",
    "    for i in range(len(match.history[0])):\n",
    "        print('    ' + str(match.history[0][i]) + '        ' + str(match.history[1][i]))"
   ]
  },
  {
   "cell_type": "markdown",
   "metadata": {},
   "source": [
    "### Now we can try playing a match between two of the rules."
   ]
  },
  {
   "cell_type": "code",
   "execution_count": 6,
   "metadata": {
    "collapsed": false
   },
   "outputs": [],
   "source": []
  },
  {
   "cell_type": "code",
   "execution_count": 20,
   "metadata": {
    "collapsed": true
   },
   "outputs": [],
   "source": [
    "import random\n",
    "\n",
    "class Trustworthy():\n",
    "    ''' Will hopefully pose as trustworthy to other prisoners\n",
    "    '''\n",
    "    def step(self, history, round):\n",
    "\t    if round%5 == 4:\n",
    "\t    \treturn 0\n",
    "\t    else: return 1 "
   ]
  },
  {
   "cell_type": "code",
   "execution_count": 21,
   "metadata": {
    "collapsed": false
   },
   "outputs": [
    {
     "ename": "NameError",
     "evalue": "name 'Trustworthy' is not defined",
     "output_type": "error",
     "traceback": [
      "\u001b[1;31m---------------------------------------------------------------------------\u001b[0m",
      "\u001b[1;31mNameError\u001b[0m                                 Traceback (most recent call last)",
      "\u001b[1;32m<ipython-input-21-79c01f47b9c1>\u001b[0m in \u001b[0;36m<module>\u001b[1;34m()\u001b[0m\n\u001b[0;32m      1\u001b[0m \u001b[0ma\u001b[0m \u001b[1;33m=\u001b[0m \u001b[0mFlipper\u001b[0m\u001b[1;33m(\u001b[0m\u001b[1;33m)\u001b[0m\u001b[1;33m\u001b[0m\u001b[0m\n\u001b[1;32m----> 2\u001b[1;33m \u001b[0mb\u001b[0m \u001b[1;33m=\u001b[0m \u001b[0mTrustworthy\u001b[0m\u001b[1;33m(\u001b[0m\u001b[1;33m)\u001b[0m\u001b[1;33m\u001b[0m\u001b[0m\n\u001b[0m\u001b[0;32m      3\u001b[0m \u001b[1;33m\u001b[0m\u001b[0m\n\u001b[0;32m      4\u001b[0m \u001b[0mmatch\u001b[0m \u001b[1;33m=\u001b[0m \u001b[0mMatch\u001b[0m\u001b[1;33m(\u001b[0m\u001b[0ma\u001b[0m\u001b[1;33m,\u001b[0m \u001b[0mb\u001b[0m\u001b[1;33m,\u001b[0m \u001b[1;36m100\u001b[0m\u001b[1;33m)\u001b[0m\u001b[1;33m\u001b[0m\u001b[0m\n\u001b[0;32m      5\u001b[0m \u001b[0mmatch\u001b[0m\u001b[1;33m.\u001b[0m\u001b[0mrun\u001b[0m\u001b[1;33m(\u001b[0m\u001b[1;33m)\u001b[0m\u001b[1;33m\u001b[0m\u001b[0m\n",
      "\u001b[1;31mNameError\u001b[0m: name 'Trustworthy' is not defined"
     ]
    }
   ],
   "source": [
    "a = Flipper()\n",
    "b = Trustworthy()\n",
    "\n",
    "match = Match(a, b, 100)\n",
    "match.run()\n",
    "score = match.score()"
   ]
  },
  {
   "cell_type": "code",
   "execution_count": 22,
   "metadata": {
    "collapsed": false
   },
   "outputs": [
    {
     "name": "stdout",
     "output_type": "stream",
     "text": [
      "('instance-instance', [50, 300])\n",
      "instance-instance\n",
      "    0        0\n",
      "    1        0\n",
      "    0        0\n",
      "    1        0\n",
      "    0        0\n",
      "    1        0\n",
      "    0        0\n",
      "    1        0\n",
      "    0        0\n",
      "    1        0\n",
      "    0        0\n",
      "    1        0\n",
      "    0        0\n",
      "    1        0\n",
      "    0        0\n",
      "    1        0\n",
      "    0        0\n",
      "    1        0\n",
      "    0        0\n",
      "    1        0\n",
      "    0        0\n",
      "    1        0\n",
      "    0        0\n",
      "    1        0\n",
      "    0        0\n",
      "    1        0\n",
      "    0        0\n",
      "    1        0\n",
      "    0        0\n",
      "    1        0\n",
      "    0        0\n",
      "    1        0\n",
      "    0        0\n",
      "    1        0\n",
      "    0        0\n",
      "    1        0\n",
      "    0        0\n",
      "    1        0\n",
      "    0        0\n",
      "    1        0\n",
      "    0        0\n",
      "    1        0\n",
      "    0        0\n",
      "    1        0\n",
      "    0        0\n",
      "    1        0\n",
      "    0        0\n",
      "    1        0\n",
      "    0        0\n",
      "    1        0\n",
      "    0        0\n",
      "    1        0\n",
      "    0        0\n",
      "    1        0\n",
      "    0        0\n",
      "    1        0\n",
      "    0        0\n",
      "    1        0\n",
      "    0        0\n",
      "    1        0\n",
      "    0        0\n",
      "    1        0\n",
      "    0        0\n",
      "    1        0\n",
      "    0        0\n",
      "    1        0\n",
      "    0        0\n",
      "    1        0\n",
      "    0        0\n",
      "    1        0\n",
      "    0        0\n",
      "    1        0\n",
      "    0        0\n",
      "    1        0\n",
      "    0        0\n",
      "    1        0\n",
      "    0        0\n",
      "    1        0\n",
      "    0        0\n",
      "    1        0\n",
      "    0        0\n",
      "    1        0\n",
      "    0        0\n",
      "    1        0\n",
      "    0        0\n",
      "    1        0\n",
      "    0        0\n",
      "    1        0\n",
      "    0        0\n",
      "    1        0\n",
      "    0        0\n",
      "    1        0\n",
      "    0        0\n",
      "    1        0\n",
      "    0        0\n",
      "    1        0\n",
      "    0        0\n",
      "    1        0\n",
      "    0        0\n",
      "    1        0\n"
     ]
    }
   ],
   "source": [
    "print(match.name, score)\n",
    "print_history(match)"
   ]
  },
  {
   "cell_type": "markdown",
   "metadata": {},
   "source": [
    "### Make sure to run your rule against some of the predefined ones before you submit"
   ]
  }
 ],
 "metadata": {
  "anaconda-cloud": {},
  "kernelspec": {
   "display_name": "Python [Root]",
   "language": "python",
   "name": "Python [Root]"
  },
  "language_info": {
   "codemirror_mode": {
    "name": "ipython",
    "version": 2
   },
   "file_extension": ".py",
   "mimetype": "text/x-python",
   "name": "python",
   "nbconvert_exporter": "python",
   "pygments_lexer": "ipython2",
   "version": "2.7.12"
  }
 },
 "nbformat": 4,
 "nbformat_minor": 1
}
