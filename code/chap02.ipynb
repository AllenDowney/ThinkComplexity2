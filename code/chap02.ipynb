{\rtf1\ansi\ansicpg1252\cocoartf1404\cocoasubrtf470
{\fonttbl\f0\fmodern\fcharset0 Courier;}
{\colortbl;\red255\green255\blue255;\red0\green0\blue0;}
\margl1440\margr1440\vieww10800\viewh8400\viewkind0
\deftab720
\pard\pardeftab720\sl280\partightenfactor0

\f0\fs24 \cf2 \expnd0\expndtw0\kerning0
\outl0\strokewidth0 \strokec2 \{\
 "cells": [\
  \{\
   "cell_type": "markdown",\
   "metadata": \{\},\
   "source": [\
    "# Erdos-Renyi Graphs\\n",\
    "\\n",\
    "Code examples from [Think Complexity, 2nd edition](http://greenteapress.com/wp/complexity2), Chapter 2\\n",\
    "\\n",\
    "Copyright 2016 Allen Downey, [MIT License](http://opensource.org/licenses/MIT)"\
   ]\
  \},\
  \{\
   "cell_type": "code",\
   "execution_count": 73,\
   "metadata": \{\
    "collapsed": false\
   \},\
   "outputs": [],\
   "source": [\
    "from __future__ import print_function, division\\n",\
    "\\n",\
    "%matplotlib inline\\n",\
    "\\n",\
    "import warnings\\n",\
    "warnings.filterwarnings('ignore')\\n",\
    "\\n",\
    "import matplotlib.pyplot as plt\\n",\
    "\\n",\
    "import networkx as nx\\n",\
    "import numpy as np\\n",\
    "\\n",\
    "# colors from our friends at http://colorbrewer2.org\\n",\
    "COLORS = ['#8dd3c7','#ffffb3','#bebada','#fb8072','#80b1d3','#fdb462',\\n",\
    "          '#b3de69','#fccde5','#d9d9d9','#bc80bd','#ccebc5','#ffed6f']"\
   ]\
  \},\
  \{\
   "cell_type": "code",\
   "execution_count": 74,\
   "metadata": \{\
    "collapsed": true\
   \},\
   "outputs": [],\
   "source": [\
    "from thinkstats2 import RandomSeed\\n",\
    "RandomSeed(17)"\
   ]\
  \},\
  \{\
   "cell_type": "markdown",\
   "metadata": \{\},\
   "source": [\
    "## Directed graph\\n",\
    "\\n",\
    "The first example is a directed graph that represents a social network with three nodes."\
   ]\
  \},\
  \{\
   "cell_type": "code",\
   "execution_count": 75,\
   "metadata": \{\
    "collapsed": false\
   \},\
   "outputs": [\
    \{\
     "data": \{\
      "text/plain": [\
       "['Alice', 'Chuck', 'Bob']"\
      ]\
     \},\
     "execution_count": 75,\
     "metadata": \{\},\
     "output_type": "execute_result"\
    \}\
   ],\
   "source": [\
    "G = nx.DiGraph()\\n",\
    "G.add_node('Alice')\\n",\
    "G.add_node('Bob')\\n",\
    "G.add_node('Chuck')\\n",\
    "G.nodes()"\
   ]\
  \},\
  \{\
   "cell_type": "markdown",\
   "metadata": \{\},\
   "source": [\
    "Here's how we add edges between nodes."\
   ]\
  \},\
  \{\
   "cell_type": "code",\
   "execution_count": 76,\
   "metadata": \{\
    "collapsed": false\
   \},\
   "outputs": [\
    \{\
     "data": \{\
      "text/plain": [\
       "[('Alice', 'Chuck'), ('Alice', 'Bob'), ('Bob', 'Alice'), ('Bob', 'Chuck')]"\
      ]\
     \},\
     "execution_count": 76,\
     "metadata": \{\},\
     "output_type": "execute_result"\
    \}\
   ],\
   "source": [\
    "G.add_edge('Alice', 'Bob')\\n",\
    "G.add_edge('Alice', 'Chuck')\\n",\
    "G.add_edge('Bob', 'Alice')\\n",\
    "G.add_edge('Bob', 'Chuck')\\n",\
    "G.edges()"\
   ]\
  \},\
  \{\
   "cell_type": "markdown",\
   "metadata": \{\},\
   "source": [\
    "And here's how to draw the graph."\
   ]\
  \},\
  \{\
   "cell_type": "code",\
   "execution_count": 77,\
   "metadata": \{\
    "collapsed": false,\
    "scrolled": true\
   \},\
   "outputs": [\
    \{\
     "data": \{\
      "image/png": "iVBORw0KGgoAAAANSUhEUgAAAeIAAAFBCAYAAACrYazjAAAABHNCSVQICAgIfAhkiAAAAAlwSFlz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\\n",\
      "text/plain": [\
       "<matplotlib.figure.Figure at 0x1184d3748>"\
      ]\
     \},\
     "metadata": \{\},\
     "output_type": "display_data"\
    \}\
   ],\
   "source": [\
    "nx.draw_circular(G, \\n",\
    "                 node_color=COLORS[0], \\n",\
    "                 node_size=2000, \\n",\
    "                 with_labels=True)\\n",\
    "plt.axis('equal')\\n",\
    "plt.savefig('chap02-1.pdf')"\
   ]\
  \},\
  \{\
   "cell_type": "markdown",\
   "metadata": \{\},\
   "source": [\
    "**Exercise:**  Add another node and a few more edges and draw the graph again."\
   ]\
  \},\
  \{\
   "cell_type": "code",\
   "execution_count": 78,\
   "metadata": \{\
    "collapsed": false\
   \},\
   "outputs": [\
    \{\
     "data": \{\
      "image/png": "iVBORw0KGgoAAAANSUhEUgAAAdoAAAFBCAYAAADQRW4vAAAABHNCSVQICAgIfAhkiAAAAAlwSFlz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\\nIgGx0BIREQmIhZaIiEhALLREREQC+n+gX6v8RDLBlAAAAABJRU5ErkJggg==\\n",\
      "text/plain": [\
       "<matplotlib.figure.Figure at 0x117666978>"\
      ]\
     \},\
     "metadata": \{\},\
     "output_type": "display_data"\
    \}\
   ],\
   "source": [\
    "G.add_node('Stormageddon Dark Lord of All')\\n",\
    "G.add_node('Fred')\\n",\
    "G.add_node('George')\\n",\
    "G.add_edge('Fred', 'Alice')\\n",\
    "G.add_edge('Fred', 'Stormageddon Dark Lord of All')\\n",\
    "G.add_edge('George', 'Fred')\\n",\
    "\\n",\
    "nx.draw_circular(G, \\n",\
    "                 node_color=COLORS[0], \\n",\
    "                 node_size=2000, \\n",\
    "                 with_labels=True)\\n",\
    "plt.axis('equal')\\n",\
    "plt.savefig('stormy.pdf')"\
   ]\
  \},\
  \{\
   "cell_type": "markdown",\
   "metadata": \{\},\
   "source": [\
    "## Undirected graph\\n",\
    "\\n",\
    "The second example is an undirected graph that represents cities and the driving times between them.\\n",\
    "\\n",\
    "`pos` is a dictionary that maps from each city to its coordinates."\
   ]\
  \},\
  \{\
   "cell_type": "code",\
   "execution_count": 79,\
   "metadata": \{\
    "collapsed": false\
   \},\
   "outputs": [\
    \{\
     "data": \{\
      "text/plain": [\
       "(-74, 43)"\
      ]\
     \},\
     "execution_count": 79,\
     "metadata": \{\},\
     "output_type": "execute_result"\
    \}\
   ],\
   "source": [\
    "pos = dict(Albany=(-74, 43),\\n",\
    "          Boston=(-71, 42),\\n",\
    "          NYC=(-74, 41),\\n",\
    "          Philly=(-75, 40))\\n",\
    "pos['Albany']"\
   ]\
  \},\
  \{\
   "cell_type": "markdown",\
   "metadata": \{\},\
   "source": [\
    "We can use the keys in `pos` to add nodes to the graph."\
   ]\
  \},\
  \{\
   "cell_type": "code",\
   "execution_count": 80,\
   "metadata": \{\
    "collapsed": false\
   \},\
   "outputs": [\
    \{\
     "data": \{\
      "text/plain": [\
       "['NYC', 'Albany', 'Philly', 'Boston']"\
      ]\
     \},\
     "execution_count": 80,\
     "metadata": \{\},\
     "output_type": "execute_result"\
    \}\
   ],\
   "source": [\
    "G = nx.Graph()\\n",\
    "G.add_nodes_from(pos)\\n",\
    "G.nodes()"\
   ]\
  \},\
  \{\
   "cell_type": "markdown",\
   "metadata": \{\},\
   "source": [\
    "`drive_times` is a dictionary that maps from pairs of cities to the driving times between them."\
   ]\
  \},\
  \{\
   "cell_type": "code",\
   "execution_count": 81,\
   "metadata": \{\
    "collapsed": false\
   \},\
   "outputs": [],\
   "source": [\
    "drive_times = \{('Albany', 'Boston'): 3,\\n",\
    "               ('Albany', 'NYC'): 4,\\n",\
    "               ('Boston', 'NYC'): 4,\\n",\
    "               ('NYC', 'Philly'): 2\}"\
   ]\
  \},\
  \{\
   "cell_type": "markdown",\
   "metadata": \{\},\
   "source": [\
    "We can use the keys from `drive_times` to add edges to the graph."\
   ]\
  \},\
  \{\
   "cell_type": "code",\
   "execution_count": 82,\
   "metadata": \{\
    "collapsed": false\
   \},\
   "outputs": [\
    \{\
     "data": \{\
      "text/plain": [\
       "[('NYC', 'Albany'), ('NYC', 'Philly'), ('NYC', 'Boston'), ('Albany', 'Boston')]"\
      ]\
     \},\
     "execution_count": 82,\
     "metadata": \{\},\
     "output_type": "execute_result"\
    \}\
   ],\
   "source": [\
    "G.add_edges_from(drive_times)\\n",\
    "G.edges()"\
   ]\
  \},\
  \{\
   "cell_type": "markdown",\
   "metadata": \{\},\
   "source": [\
    "Now we can draw the graph using `pos` to indicate the positions of the nodes, and `drive_times` to label the edges."\
   ]\
  \},\
  \{\
   "cell_type": "code",\
   "execution_count": 83,\
   "metadata": \{\
    "collapsed": false\
   \},\
   "outputs": [\
    \{\
     "data": \{\
      "image/png": "iVBORw0KGgoAAAANSUhEUgAAAeMAAAFBCAYAAABEo8fdAAAABHNCSVQICAgIfAhkiAAAAAlwSFlz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\\nAAAASUVORK5CYII=\\n",\
      "text/plain": [\
       "<matplotlib.figure.Figure at 0x1094e36d8>"\
      ]\
     \},\
     "metadata": \{\},\
     "output_type": "display_data"\
    \}\
   ],\
   "source": [\
    "nx.draw(G, pos, \\n",\
    "        node_color=COLORS[1], \\n",\
    "        node_shape='s', \\n",\
    "        node_size=2500, \\n",\
    "        with_labels=True)\\n",\
    "\\n",\
    "nx.draw_networkx_edge_labels(G, pos, \\n",\
    "                             edge_labels=drive_times)\\n",\
    "\\n",\
    "plt.axis('equal')\\n",\
    "plt.savefig('chap02-2.pdf')"\
   ]\
  \},\
  \{\
   "cell_type": "markdown",\
   "metadata": \{\},\
   "source": [\
    "**Exercise:**  Add another city and at least one edge."\
   ]\
  \},\
  \{\
   "cell_type": "code",\
   "execution_count": 84,\
   "metadata": \{\
    "collapsed": false\
   \},\
   "outputs": [\
    \{\
     "data": \{\
      "image/png": "iVBORw0KGgoAAAANSUhEUgAAAdkAAAFBCAYAAAA7ctUsAAAABHNCSVQICAgIfAhkiAAAAAlwSFlz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\\neSm2+gAAAABJRU5ErkJggg==\\n",\
      "text/plain": [\
       "<matplotlib.figure.Figure at 0x109566e48>"\
      ]\
     \},\
     "metadata": \{\},\
     "output_type": "display_data"\
    \}\
   ],\
   "source": [\
    "G.add_node('San Francisco')\\n",\
    "pos['San Francisco'] = (-80, 39)\\n",\
    "\\n",\
    "drive_times[('San Francisco', 'NYC')] = 100\\n",\
    "\\n",\
    "G.add_edges_from(drive_times)\\n",\
    "\\n",\
    "nx.draw(G, pos, \\n",\
    "        node_color=COLORS[1], \\n",\
    "        node_shape='s', \\n",\
    "        node_size=2500, \\n",\
    "        with_labels=True)\\n",\
    "\\n",\
    "nx.draw_networkx_edge_labels(G, pos, \\n",\
    "                             edge_labels=drive_times)\\n",\
    "\\n",\
    "plt.axis('equal')\\n",\
    "plt.savefig('sf.pdf')"\
   ]\
  \},\
  \{\
   "cell_type": "markdown",\
   "metadata": \{\},\
   "source": [\
    "## Complete graph\\n",\
    "\\n",\
    "To make a complete graph, we use a generator function that iterates through all pairs of nodes."\
   ]\
  \},\
  \{\
   "cell_type": "code",\
   "execution_count": 85,\
   "metadata": \{\
    "collapsed": false\
   \},\
   "outputs": [],\
   "source": [\
    "def all_pairs(nodes):\\n",\
    "    for i, u in enumerate(nodes):\\n",\
    "        for j, v in enumerate(nodes):\\n",\
    "            if i < j:\\n",\
    "                yield u, v"\
   ]\
  \},\
  \{\
   "cell_type": "markdown",\
   "metadata": \{\},\
   "source": [\
    "`make_complete_graph` makes a `Graph` with the given number of nodes and edges between all pairs of nodes."\
   ]\
  \},\
  \{\
   "cell_type": "code",\
   "execution_count": 86,\
   "metadata": \{\
    "collapsed": false\
   \},\
   "outputs": [],\
   "source": [\
    "def make_complete_graph(n):\\n",\
    "    G = nx.Graph()\\n",\
    "    nodes = range(n)\\n",\
    "    G.add_nodes_from(nodes)\\n",\
    "    G.add_edges_from(all_pairs(nodes))\\n",\
    "    return G"\
   ]\
  \},\
  \{\
   "cell_type": "markdown",\
   "metadata": \{\},\
   "source": [\
    "Here's a complete graph with 10 nodes:"\
   ]\
  \},\
  \{\
   "cell_type": "code",\
   "execution_count": 87,\
   "metadata": \{\
    "collapsed": false\
   \},\
   "outputs": [\
    \{\
     "data": \{\
      "text/plain": [\
       "10"\
      ]\
     \},\
     "execution_count": 87,\
     "metadata": \{\},\
     "output_type": "execute_result"\
    \}\
   ],\
   "source": [\
    "complete = make_complete_graph(10)\\n",\
    "len(complete.nodes())"\
   ]\
  \},\
  \{\
   "cell_type": "markdown",\
   "metadata": \{\},\
   "source": [\
    "And here's what it looks like."\
   ]\
  \},\
  \{\
   "cell_type": "code",\
   "execution_count": 88,\
   "metadata": \{\
    "collapsed": false\
   \},\
   "outputs": [\
    \{\
     "data": \{\
      "image/png": "iVBORw0KGgoAAAANSUhEUgAAAeIAAAFBCAYAAACrYazjAAAABHNCSVQICAgIfAhkiAAAAAlwSFlz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\\nliANNP0AAAAASUVORK5CYII=\\n",\
      "text/plain": [\
       "<matplotlib.figure.Figure at 0x118400550>"\
      ]\
     \},\
     "metadata": \{\},\
     "output_type": "display_data"\
    \}\
   ],\
   "source": [\
    "nx.draw_circular(complete, \\n",\
    "                 node_color=COLORS[2], \\n",\
    "                 node_size=1000, \\n",\
    "                 with_labels=True)\\n",\
    "plt.savefig('chap02-3.pdf')"\
   ]\
  \},\
  \{\
   "cell_type": "markdown",\
   "metadata": \{\},\
   "source": [\
    "The `neighbors` method returns a list of neighbors for a given node."\
   ]\
  \},\
  \{\
   "cell_type": "code",\
   "execution_count": 89,\
   "metadata": \{\
    "collapsed": false\
   \},\
   "outputs": [\
    \{\
     "data": \{\
      "text/plain": [\
       "[1, 2, 3, 4, 5, 6, 7, 8, 9]"\
      ]\
     \},\
     "execution_count": 89,\
     "metadata": \{\},\
     "output_type": "execute_result"\
    \}\
   ],\
   "source": [\
    "complete.neighbors(0)"\
   ]\
  \},\
  \{\
   "cell_type": "markdown",\
   "metadata": \{\},\
   "source": [\
    "**Exercise:** Make and draw complete directed graph with 5 nodes."\
   ]\
  \},\
  \{\
   "cell_type": "code",\
   "execution_count": 90,\
   "metadata": \{\
    "collapsed": false\
   \},\
   "outputs": [\
    \{\
     "data": \{\
      "image/png": "iVBORw0KGgoAAAANSUhEUgAAAeIAAAFBCAYAAACrYazjAAAABHNCSVQICAgIfAhkiAAAAAlwSFlz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\\nCDEAAAYixAAAGIgQAwBgIEIMAICB/geub12Iaxz6ZQAAAABJRU5ErkJggg==\\n",\
      "text/plain": [\
       "<matplotlib.figure.Figure at 0x11843bba8>"\
      ]\
     \},\
     "metadata": \{\},\
     "output_type": "display_data"\
    \}\
   ],\
   "source": [\
    "def all_pairs_directed(nodes):\\n",\
    "    for i, u in enumerate(nodes):\\n",\
    "        for j, v in enumerate(nodes):\\n",\
    "            if i != j:\\n",\
    "                yield u, v\\n",\
    "            \\n",\
    "def make_complete_directed_graph(n):\\n",\
    "    H = nx.DiGraph()\\n",\
    "    nodes = range(n)\\n",\
    "    H.add_nodes_from(nodes)\\n",\
    "    H.add_edges_from(all_pairs_directed(nodes))\\n",\
    "    return H\\n",\
    "\\n",\
    "complete_directed = make_complete_directed_graph(5)\\n",\
    "\\n",\
    "nx.draw_circular(complete_directed, \\n",\
    "                 node_color=COLORS[2], \\n",\
    "                 node_size=1000, \\n",\
    "                 with_labels=True)"\
   ]\
  \},\
  \{\
   "cell_type": "markdown",\
   "metadata": \{\},\
   "source": [\
    "## Random graphs\\n",\
    "\\n",\
    "Next we'll make a random graph where the probability of an edge between each pair of nodes is $p$.\\n",\
    "\\n",\
    "The helper function `flip` returns True with probability `p` and False with probability `1-p`"\
   ]\
  \},\
  \{\
   "cell_type": "code",\
   "execution_count": 91,\
   "metadata": \{\
    "collapsed": false\
   \},\
   "outputs": [],\
   "source": [\
    "from numpy.random import random\\n",\
    "\\n",\
    "def flip(p):\\n",\
    "    return random() < p"\
   ]\
  \},\
  \{\
   "cell_type": "markdown",\
   "metadata": \{\},\
   "source": [\
    "`random_pairs` is a generator function that enumerates all possible pairs of nodes and yields each one with probability `p` "\
   ]\
  \},\
  \{\
   "cell_type": "code",\
   "execution_count": 92,\
   "metadata": \{\
    "collapsed": false\
   \},\
   "outputs": [],\
   "source": [\
    "def random_pairs(nodes, p):\\n",\
    "    for i, u in enumerate(nodes):\\n",\
    "        for j, v in enumerate(nodes):\\n",\
    "            if i<j and flip(p):\\n",\
    "                yield u, v"\
   ]\
  \},\
  \{\
   "cell_type": "markdown",\
   "metadata": \{\},\
   "source": [\
    "`make_random_graph` makes an ER graph where the probability of an edge between each pair of nodes is `p`."\
   ]\
  \},\
  \{\
   "cell_type": "code",\
   "execution_count": 93,\
   "metadata": \{\
    "collapsed": false\
   \},\
   "outputs": [],\
   "source": [\
    "def make_random_graph(n, p):\\n",\
    "    G = nx.Graph()\\n",\
    "    nodes = range(n)\\n",\
    "    G.add_nodes_from(nodes)\\n",\
    "    G.add_edges_from(random_pairs(nodes, p))\\n",\
    "    return G"\
   ]\
  \},\
  \{\
   "cell_type": "markdown",\
   "metadata": \{\},\
   "source": [\
    "Here's an example with `n=10` and `p=0.3`"\
   ]\
  \},\
  \{\
   "cell_type": "code",\
   "execution_count": 94,\
   "metadata": \{\
    "collapsed": false\
   \},\
   "outputs": [\
    \{\
     "data": \{\
      "text/plain": [\
       "17"\
      ]\
     \},\
     "execution_count": 94,\
     "metadata": \{\},\
     "output_type": "execute_result"\
    \}\
   ],\
   "source": [\
    "random_graph = make_random_graph(10, 0.3)\\n",\
    "len(random_graph.edges())"\
   ]\
  \},\
  \{\
   "cell_type": "markdown",\
   "metadata": \{\},\
   "source": [\
    "And here's what it looks like:"\
   ]\
  \},\
  \{\
   "cell_type": "code",\
   "execution_count": 95,\
   "metadata": \{\
    "collapsed": false\
   \},\
   "outputs": [\
    \{\
     "data": \{\
      "image/png": "iVBORw0KGgoAAAANSUhEUgAAAeIAAAFBCAYAAACrYazjAAAABHNCSVQICAgIfAhkiAAAAAlwSFlz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\\n/R9GIsIIB9gioQAAAABJRU5ErkJggg==\\n",\
      "text/plain": [\
       "<matplotlib.figure.Figure at 0x10958a940>"\
      ]\
     \},\
     "metadata": \{\},\
     "output_type": "display_data"\
    \}\
   ],\
   "source": [\
    "nx.draw_circular(random_graph, \\n",\
    "                 node_color=COLORS[3], \\n",\
    "                 node_size=1000, \\n",\
    "                 with_labels=True)\\n",\
    "plt.savefig('chap02-4.pdf')"\
   ]\
  \},\
  \{\
   "cell_type": "markdown",\
   "metadata": \{\},\
   "source": [\
    "## Connectivity\\n",\
    "\\n",\
    "To check whether a graph is connected, we'll start by finding all nodes that can be reached, starting with a given node:"\
   ]\
  \},\
  \{\
   "cell_type": "code",\
   "execution_count": 96,\
   "metadata": \{\
    "collapsed": false\
   \},\
   "outputs": [],\
   "source": [\
    "def reachable_nodes(G, start):\\n",\
    "    seen = set()\\n",\
    "    stack = [start]\\n",\
    "    while stack:\\n",\
    "        node = stack.pop()\\n",\
    "        if node not in seen:\\n",\
    "            seen.add(node)\\n",\
    "            stack.extend(G.neighbors(node))\\n",\
    "    return seen"\
   ]\
  \},\
  \{\
   "cell_type": "markdown",\
   "metadata": \{\},\
   "source": [\
    "In the complete graph, starting from node 0, we can reach all nodes:"\
   ]\
  \},\
  \{\
   "cell_type": "code",\
   "execution_count": 97,\
   "metadata": \{\
    "collapsed": false\
   \},\
   "outputs": [\
    \{\
     "data": \{\
      "text/plain": [\
       "\{0, 1, 2, 3, 4, 5, 6, 7, 8, 9\}"\
      ]\
     \},\
     "execution_count": 97,\
     "metadata": \{\},\
     "output_type": "execute_result"\
    \}\
   ],\
   "source": [\
    "reachable_nodes(complete, 0)"\
   ]\
  \},\
  \{\
   "cell_type": "markdown",\
   "metadata": \{\},\
   "source": [\
    "In the random graph we generated, we can also reach all nodes (but that's not always true):"\
   ]\
  \},\
  \{\
   "cell_type": "code",\
   "execution_count": 98,\
   "metadata": \{\
    "collapsed": false\
   \},\
   "outputs": [\
    \{\
     "data": \{\
      "text/plain": [\
       "\{0, 1, 2, 3, 4, 5, 6, 7, 8, 9\}"\
      ]\
     \},\
     "execution_count": 98,\
     "metadata": \{\},\
     "output_type": "execute_result"\
    \}\
   ],\
   "source": [\
    "reachable_nodes(random_graph, 0)"\
   ]\
  \},\
  \{\
   "cell_type": "markdown",\
   "metadata": \{\},\
   "source": [\
    "We can use `reachable_nodes` to check whether a graph is connected:"\
   ]\
  \},\
  \{\
   "cell_type": "code",\
   "execution_count": 99,\
   "metadata": \{\
    "collapsed": true\
   \},\
   "outputs": [],\
   "source": [\
    "def is_connected(G):\\n",\
    "    start = next(G.nodes_iter())\\n",\
    "    reachable = reachable_nodes(G, start)\\n",\
    "    return len(reachable) == len(G)"\
   ]\
  \},\
  \{\
   "cell_type": "markdown",\
   "metadata": \{\},\
   "source": [\
    "Again, the complete graph is connected:"\
   ]\
  \},\
  \{\
   "cell_type": "code",\
   "execution_count": 100,\
   "metadata": \{\
    "collapsed": false\
   \},\
   "outputs": [\
    \{\
     "data": \{\
      "text/plain": [\
       "True"\
      ]\
     \},\
     "execution_count": 100,\
     "metadata": \{\},\
     "output_type": "execute_result"\
    \}\
   ],\
   "source": [\
    "is_connected(complete)"\
   ]\
  \},\
  \{\
   "cell_type": "markdown",\
   "metadata": \{\},\
   "source": [\
    "But if we generate a random graph with a low value of `p`, it's not:"\
   ]\
  \},\
  \{\
   "cell_type": "code",\
   "execution_count": 101,\
   "metadata": \{\
    "collapsed": false\
   \},\
   "outputs": [\
    \{\
     "data": \{\
      "text/plain": [\
       "6"\
      ]\
     \},\
     "execution_count": 101,\
     "metadata": \{\},\
     "output_type": "execute_result"\
    \}\
   ],\
   "source": [\
    "random_graph = make_random_graph(10, 0.1)\\n",\
    "len(random_graph.edges())"\
   ]\
  \},\
  \{\
   "cell_type": "markdown",\
   "metadata": \{\},\
   "source": []\
  \},\
  \{\
   "cell_type": "code",\
   "execution_count": 102,\
   "metadata": \{\
    "collapsed": false\
   \},\
   "outputs": [\
    \{\
     "data": \{\
      "text/plain": [\
       "False"\
      ]\
     \},\
     "execution_count": 102,\
     "metadata": \{\},\
     "output_type": "execute_result"\
    \}\
   ],\
   "source": [\
    "is_connected(random_graph)"\
   ]\
  \},\
  \{\
   "cell_type": "markdown",\
   "metadata": \{\},\
   "source": [\
    "**Exercise:** What do you think it means for a directed graph to be connected?  Write a function that checks whether a directed graph is connected."\
   ]\
  \},\
  \{\
   "cell_type": "code",\
   "execution_count": 103,\
   "metadata": \{\
    "collapsed": false\
   \},\
   "outputs": [\
    \{\
     "data": \{\
      "text/plain": [\
       "True"\
      ]\
     \},\
     "execution_count": 103,\
     "metadata": \{\},\
     "output_type": "execute_result"\
    \}\
   ],\
   "source": [\
    "# I think that a directed graph is connected if there is a path between every pair of vertices\\n",\
    "# that follows directed edges\\n",\
    "\\n",\
    "def reachable_directed_nodes(G, start):\\n",\
    "    seen = set()\\n",\
    "    stack = [start]\\n",\
    "    while stack:\\n",\
    "        node = stack.pop()\\n",\
    "        if node not in seen:\\n",\
    "            seen.add(node)\\n",\
    "            stack.extend(G.successors(node)) # Had to check solution for \\"successors\\"\\n",\
    "    return seen\\n",\
    "\\n",\
    "def is_directed_connected(G):\\n",\
    "    start = next(G.nodes_iter())\\n",\
    "    reachable = reachable_directed_nodes(G, start)\\n",\
    "    return len(reachable) == len(G)\\n",\
    "\\n",\
    "is_directed_connected(complete_directed)"\
   ]\
  \},\
  \{\
   "cell_type": "markdown",\
   "metadata": \{\},\
   "source": [\
    "## Probability of connectivity\\n",\
    "\\n",\
    "Now let's estimare the probability that a randomly-generated ER graph is connected.\\n",\
    "\\n",\
    "This function takes `n` and `p`, generates `iters` graphs, and returns the fraction of them that are connected."\
   ]\
  \},\
  \{\
   "cell_type": "code",\
   "execution_count": 104,\
   "metadata": \{\
    "collapsed": true\
   \},\
   "outputs": [],\
   "source": [\
    "def prob_connected(n, p, iters=100):\\n",\
    "    count = 0\\n",\
    "    for i in range(iters):\\n",\
    "        random_graph = make_random_graph(n, p)\\n",\
    "        if is_connected(random_graph):\\n",\
    "            count += 1\\n",\
    "    return count/iters"\
   ]\
  \},\
  \{\
   "cell_type": "markdown",\
   "metadata": \{\},\
   "source": [\
    "With `n=10` and `p=0.3`, the probability of being connected is about 65%."\
   ]\
  \},\
  \{\
   "cell_type": "code",\
   "execution_count": 105,\
   "metadata": \{\
    "collapsed": false\
   \},\
   "outputs": [\
    \{\
     "data": \{\
      "text/plain": [\
       "0.6494"\
      ]\
     \},\
     "execution_count": 105,\
     "metadata": \{\},\
     "output_type": "execute_result"\
    \}\
   ],\
   "source": [\
    "n = 10\\n",\
    "prob_connected(n, 0.3, iters=10000)"\
   ]\
  \},\
  \{\
   "cell_type": "markdown",\
   "metadata": \{\},\
   "source": [\
    "According to Erdos and Renyi, the critical value of `p` for `n=10` is about 0.23. "\
   ]\
  \},\
  \{\
   "cell_type": "code",\
   "execution_count": 106,\
   "metadata": \{\
    "collapsed": false\
   \},\
   "outputs": [\
    \{\
     "data": \{\
      "text/plain": [\
       "0.23025850929940458"\
      ]\
     \},\
     "execution_count": 106,\
     "metadata": \{\},\
     "output_type": "execute_result"\
    \}\
   ],\
   "source": [\
    "pstar = np.log(n) / n\\n",\
    "pstar"\
   ]\
  \},\
  \{\
   "cell_type": "markdown",\
   "metadata": \{\},\
   "source": [\
    "So let's plot the probability of connectivity for a range of values for `p`"\
   ]\
  \},\
  \{\
   "cell_type": "code",\
   "execution_count": 107,\
   "metadata": \{\
    "collapsed": false\
   \},\
   "outputs": [\
    \{\
     "data": \{\
      "text/plain": [\
       "array([ 0.05011872,  0.0676083 ,  0.09120108,  0.12302688,  0.16595869,\\n",\
       "        0.22387211,  0.30199517,  0.40738028,  0.54954087,  0.74131024,  1.        ])"\
      ]\
     \},\
     "execution_count": 107,\
     "metadata": \{\},\
     "output_type": "execute_result"\
    \}\
   ],\
   "source": [\
    "ps = np.logspace(-1.3, 0, 11)\\n",\
    "ps"\
   ]\
  \},\
  \{\
   "cell_type": "markdown",\
   "metadata": \{\},\
   "source": [\
    "I'll estimate the probabilities with `iters=1000`"\
   ]\
  \},\
  \{\
   "cell_type": "code",\
   "execution_count": 108,\
   "metadata": \{\
    "collapsed": false,\
    "scrolled": true\
   \},\
   "outputs": [\
    \{\
     "name": "stdout",\
     "output_type": "stream",\
     "text": [\
      "0.0501187233627 0.0\\n",\
      "0.0676082975392 0.0\\n",\
      "0.0912010839356 0.004\\n",\
      "0.123026877081 0.016\\n",\
      "0.165958690744 0.11\\n",\
      "0.223872113857 0.346\\n",\
      "0.30199517204 0.664\\n",\
      "0.407380277804 0.899\\n",\
      "0.549540873858 0.989\\n",\
      "0.741310241301 1.0\\n",\
      "1.0 1.0\\n"\
     ]\
    \}\
   ],\
   "source": [\
    "ys = [prob_connected(n, p, 1000) for p in ps]\\n",\
    "\\n",\
    "for p, y in zip(ps, ys):\\n",\
    "    print(p, y)"\
   ]\
  \},\
  \{\
   "cell_type": "markdown",\
   "metadata": \{\},\
   "source": [\
    "And then plot them, adding a vertical line at the computed critical value"\
   ]\
  \},\
  \{\
   "cell_type": "code",\
   "execution_count": 109,\
   "metadata": \{\
    "collapsed": false\
   \},\
   "outputs": [\
    \{\
     "data": \{\
      "image/png": "iVBORw0KGgoAAAANSUhEUgAAAYkAAAETCAYAAADDIPqYAAAABHNCSVQICAgIfAhkiAAAAAlwSFlz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\\nJEREJCEVCRERSej/A2+ebH/7XDdKAAAAAElFTkSuQmCC\\n",\
      "text/plain": [\
       "<matplotlib.figure.Figure at 0x118416ef0>"\
      ]\
     \},\
     "metadata": \{\},\
     "output_type": "display_data"\
    \}\
   ],\
   "source": [\
    "import thinkplot\\n",\
    "\\n",\
    "thinkplot.vlines([pstar], 0, 1, color='gray')\\n",\
    "thinkplot.plot(ps, ys)\\n",\
    "thinkplot.config(xlabel='p', ylabel='prob connected', xscale='log', xlim=[ps[0], ps[-1]])\\n",\
    "plt.savefig('chap02-5.pdf')"\
   ]\
  \},\
  \{\
   "cell_type": "markdown",\
   "metadata": \{\},\
   "source": [\
    "We can run the same analysis for a few more values of `n`."\
   ]\
  \},\
  \{\
   "cell_type": "code",\
   "execution_count": 110,\
   "metadata": \{\
    "collapsed": false\
   \},\
   "outputs": [\
    \{\
     "data": \{\
      "image/png": "iVBORw0KGgoAAAANSUhEUgAAAYkAAAETCAYAAADDIPqYAAAABHNCSVQICAgIfAhkiAAAAAlwSFlz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\\n",\
      "text/plain": [\
       "<matplotlib.figure.Figure at 0x117676a58>"\
      ]\
     \},\
     "metadata": \{\},\
     "output_type": "display_data"\
    \}\
   ],\
   "source": [\
    "ns = [30, 100, 300]\\n",\
    "ps = np.logspace(-2.5, 0, 11)\\n",\
    "\\n",\
    "thinkplot.preplot(len(ns))\\n",\
    "for n in ns:\\n",\
    "    pstar = np.log(n) / n\\n",\
    "    thinkplot.vlines([pstar], 0, 1, color='gray')\\n",\
    "\\n",\
    "    ys = [prob_connected(n, p) for p in ps]\\n",\
    "    thinkplot.plot(ps, ys, label='n=%d' % n)\\n",\
    "\\n",\
    "thinkplot.config(xlabel='p', ylabel='prob connected',\\n",\
    "                 xscale='log', xlim=[ps[0], ps[-1]],\\n",\
    "                 loc='upper left')\\n",\
    "plt.savefig('chap02-6.pdf')"\
   ]\
  \},\
  \{\
   "cell_type": "markdown",\
   "metadata": \{\},\
   "source": [\
    "As `n` increases, the critical value gets smaller and the transition gets more abrupt."\
   ]\
  \},\
  \{\
   "cell_type": "markdown",\
   "metadata": \{\},\
   "source": [\
    "## Exercises"\
   ]\
  \},\
  \{\
   "cell_type": "markdown",\
   "metadata": \{\},\
   "source": [\
    "**Exercise:** In Chapter 2 we analyzed the performance of `reachable_nodes` and classified it in $O(n + m)$, where $n$ is the number of nodes and $m$ is the number of edges.  Continuing the\\n",\
    "analysis, what is the order of growth for `is_connected`?\\n",\
    "\\n",\
    "    def is_connected(G):\\n",\
    "        start = next(G.nodes_iter())\\n",\
    "        reachable = reachable_nodes(G, start)\\n",\
    "        return len(reachable) == len(G)"\
   ]\
  \},\
  \{\
   "cell_type": "markdown",\
   "metadata": \{\
    "collapsed": false\
   \},\
   "source": [\
    "**Answer:** It appears to be the same, $O(n + m)$. My reasoning behind this is that len() is in constant time, as is making the graph iterator, so the only part that matters is the order of growth of `reachable_nodes`."\
   ]\
  \},\
  \{\
   "cell_type": "markdown",\
   "metadata": \{\},\
   "source": [\
    "**Exercise:** In my implementation of `reachable_nodes`, you might be bothered by the apparent inefficiency of adding *all* neighbors to the stack without checking whether they are already in `seen`.  Write a version of this function that checks the neighbors before adding them to the stack.  Does this \\"optimization\\" change the order of growth?  Does it make the function faster?"\
   ]\
  \},\
  \{\
   "cell_type": "code",\
   "execution_count": 111,\
   "metadata": \{\
    "collapsed": true\
   \},\
   "outputs": [],\
   "source": [\
    "def reachable_nodes_precheck(G, start):\\n",\
    "    seen = set()\\n",\
    "    stack = [start]\\n",\
    "    while stack:\\n",\
    "        node = stack.pop()\\n",\
    "        if node not in seen:\\n",\
    "            seen.add(node)\\n",\
    "            for i in G.neighbors(node):\\n",\
    "                if i not in seen:\\n",\
    "                    stack.append(i)\\n",\
    "    return seen"\
   ]\
  \},\
  \{\
   "cell_type": "markdown",\
   "metadata": \{\
    "collapsed": true\
   \},\
   "source": [\
    "**Answer:** This implementation is definitely inefficient, and does not make the function faster. It actually slowed it down by a factor of four. I probably could speed it up, almost definitely by getting rid of the for loop and the if statement checkingto see if the node is in seen. Maybe by using a set? Although I'm not as familiar with how sets work."\
   ]\
  \},\
  \{\
   "cell_type": "code",\
   "execution_count": 112,\
   "metadata": \{\
    "collapsed": false\
   \},\
   "outputs": [\
    \{\
     "name": "stdout",\
     "output_type": "stream",\
     "text": [\
      "The slowest run took 4.53 times longer than the fastest. This could mean that an intermediate result is being cached.\\n",\
      "10000 loops, best of 3: 24 \'b5s per loop\\n"\
     ]\
    \}\
   ],\
   "source": [\
    "%timeit len(reachable_nodes(complete, 0))"\
   ]\
  \},\
  \{\
   "cell_type": "code",\
   "execution_count": 113,\
   "metadata": \{\
    "collapsed": false\
   \},\
   "outputs": [\
    \{\
     "name": "stdout",\
     "output_type": "stream",\
     "text": [\
      "10000 loops, best of 3: 23.7 \'b5s per loop\\n"\
     ]\
    \}\
   ],\
   "source": [\
    "%timeit len(reachable_nodes_precheck(complete, 0))"\
   ]\
  \},\
  \{\
   "cell_type": "markdown",\
   "metadata": \{\
    "collapsed": true\
   \},\
   "source": [\
    "**Exercise:** There are actually two kinds of ER graphs.  The one we generated in the chapter, $G(n, p)$, is characterized by two parameters, the number of nodes and the probability of an edge between nodes.\\n",\
    "\\n",\
    "An alternative definition, denoted $G(n, m)$, is also characterized by two parameters: the number of nodes, $n$, and the number of edges, $m$.  Under this definition, the number of edges is fixed, but their location is random.\\n",\
    "\\n",\
    "Repeat the experiments we did in this chapter using this alternative definition.  Here are a few suggestions for how to proceed:\\n",\
    "\\n",\
    "1. Write a function called `m_pairs` that takes a list of nodes and the number of edges, $m$, and returns a random selection of $m$ edges.  A simple way to do that is to generate a list of all possible edges and use `random.sample`.\\n",\
    "\\n",\
    "2. Write a function called `make_m_graph` that takes $n$ and $m$ and returns a random graph with $n$ nodes and $m$ edges.\\n",\
    "\\n",\
    "3. Make a version of `prob_connected` that uses `make_m_graph` instead of `make_random_graph`.\\n",\
    "\\n",\
    "4. Compute the probability of connectivity for a range of values of $m$.\\n",\
    "\\n",\
    "How do the results of this experiment compare to the results using the first type of ER graph?"\
   ]\
  \},\
  \{\
   "cell_type": "code",\
   "execution_count": 114,\
   "metadata": \{\
    "collapsed": false\
   \},\
   "outputs": [\
    \{\
     "name": "stdout",\
     "output_type": "stream",\
     "text": [\
      "[('SF', 'Chicago'), ('Boston', 'Chicago'), ('Boston', 'SF'), ('NYC', 'Philly'), ('Philly', 'Chicago'), ('NYC', 'SF')]\\n"\
     ]\
    \}\
   ],\
   "source": [\
    "import random\\n",\
    "\\n",\
    "def m_pairs(nodelist, k):\\n",\
    "    possible_edges = []\\n",\
    "    for node in range(len(nodelist)):\\n",\
    "        for other_node in nodelist[node+1:]:\\n",\
    "            possible_edges.append((nodelist[node], other_node))\\n",\
    "    return random.sample(possible_edges, k) # Wrote this before I knew about generators; oh well.\\n",\
    "    \\n",\
    "print(m_pairs(['NYC', 'Boston', 'SF', 'Philly', 'Chicago'], 6))"\
   ]\
  \},\
  \{\
   "cell_type": "code",\
   "execution_count": 115,\
   "metadata": \{\
    "collapsed": false\
   \},\
   "outputs": [\
    \{\
     "data": \{\
      "image/png": "iVBORw0KGgoAAAANSUhEUgAAAeIAAAFBCAYAAACrYazjAAAABHNCSVQICAgIfAhkiAAAAAlwSFlz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\\nRK5CYII=\\n",\
      "text/plain": [\
       "<matplotlib.figure.Figure at 0x118427ef0>"\
      ]\
     \},\
     "metadata": \{\},\
     "output_type": "display_data"\
    \}\
   ],\
   "source": [\
    "def make_m_graph(n, m):\\n",\
    "    nodes = range(n)\\n",\
    "    G = nx.Graph()\\n",\
    "    G.add_nodes_from(nodes)\\n",\
    "    G.add_edges_from(m_pairs(nodes, m))\\n",\
    "    return G\\n",\
    "    \\n",\
    "m_graph = make_m_graph(7, 10)\\n",\
    "\\n",\
    "nx.draw_circular(m_graph, \\n",\
    "                 node_color=COLORS[4], \\n",\
    "                 node_size=1000, \\n",\
    "                 with_labels=True)"\
   ]\
  \},\
  \{\
   "cell_type": "code",\
   "execution_count": 116,\
   "metadata": \{\
    "collapsed": false\
   \},\
   "outputs": [\
    \{\
     "name": "stdout",\
     "output_type": "stream",\
     "text": [\
      "0 0.0\\n",\
      "1 0.0\\n",\
      "2 0.0\\n",\
      "3 0.0\\n",\
      "4 0.0\\n",\
      "5 0.0\\n",\
      "6 0.0\\n",\
      "7 0.0\\n",\
      "8 0.0\\n",\
      "9 0.12\\n",\
      "10 0.261\\n",\
      "11 0.46\\n",\
      "12 0.586\\n",\
      "13 0.691\\n",\
      "14 0.775\\n",\
      "15 0.834\\n",\
      "16 0.875\\n",\
      "17 0.924\\n",\
      "18 0.951\\n",\
      "19 0.974\\n",\
      "20 0.98\\n",\
      "21 0.988\\n",\
      "22 0.988\\n",\
      "23 0.987\\n",\
      "24 0.998\\n",\
      "25 0.998\\n",\
      "26 0.998\\n",\
      "27 1.0\\n",\
      "28 1.0\\n",\
      "29 1.0\\n"\
     ]\
    \}\
   ],\
   "source": [\
    "def prob_connected(n, m, iters=100):\\n",\
    "    count = 0\\n",\
    "    for i in range(iters):\\n",\
    "        m_graph = make_m_graph(n,m)\\n",\
    "        if is_connected(m_graph):\\n",\
    "            count += 1\\n",\
    "    return count/iters\\n",\
    "\\n",\
    "n = 10\\n",\
    "ms = range(30)\\n",\
    "ys = [prob_connected(n, m, 1000) for m in ms]\\n",\
    "\\n",\
    "for m, y in zip(ms, ys):\\n",\
    "    print(m, y)\\n"\
   ]\
  \},\
  \{\
   "cell_type": "markdown",\
   "metadata": \{\
    "collapsed": true\
   \},\
   "source": [\
    "# Reflection on Chapter 1\\n",\
    "\\n",\
    "Regarding complexity science in general: I have to say that I wasn't aware of how complex (ha) the topic is. From listening to the panel and reading the chapter, I very much agree with the idea that the field is perhaps cherrypicking all the good parts from other fields, creating an almost \\"postmodern\\" science, if you will. I was struck by the conversation about computer simulations versus mathematical proofs, and it got me to thinking about the reasons some of the more traditional researchers are slow to accept simulations as valid models. I though that $perhaps$ some scientists feel like their research and research methods are being devalued -- if a computer is doing their work and making the decisions, not a human, does that leave them a place in the research community?\\n",\
    "\\n",\
    "Also, a note on Appendix 1: I've tried to learn algorithm analysis on my own a few times for technical interviews, but for some reason this is the first time that it really clicked. Just in time for technical interviews!"\
   ]\
  \},\
  \{\
   "cell_type": "code",\
   "execution_count": null,\
   "metadata": \{\
    "collapsed": true\
   \},\
   "outputs": [],\
   "source": []\
  \}\
 ],\
 "metadata": \{\
  "anaconda-cloud": \{\},\
  "kernelspec": \{\
   "display_name": "Python [Root]",\
   "language": "python",\
   "name": "Python [Root]"\
  \},\
  "language_info": \{\
   "codemirror_mode": \{\
    "name": "ipython",\
    "version": 3\
   \},\
   "file_extension": ".py",\
   "mimetype": "text/x-python",\
   "name": "python",\
   "nbconvert_exporter": "python",\
   "pygments_lexer": "ipython3",\
   "version": "3.5.2"\
  \}\
 \},\
 "nbformat": 4,\
 "nbformat_minor": 0\
\}\
}