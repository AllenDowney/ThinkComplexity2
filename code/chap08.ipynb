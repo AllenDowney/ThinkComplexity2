{
 "cells": [
  {
   "cell_type": "markdown",
   "metadata": {},
   "source": [
    "# Self-organized criticality\n",
    "\n",
    "Code examples from [Think Complexity, 2nd edition](http://greenteapress.com/wp/complexity2), Chapter 8\n",
    "\n",
    "Copyright 2016 Allen Downey, [MIT License](http://opensource.org/licenses/MIT)"
   ]
  },
  {
   "cell_type": "code",
   "execution_count": 8,
   "metadata": {
    "collapsed": true
   },
   "outputs": [],
   "source": [
    "from __future__ import print_function, division\n",
    "\n",
    "%matplotlib inline\n",
    "%precision 3\n",
    "\n",
    "import warnings\n",
    "warnings.filterwarnings('ignore')\n",
    "\n",
    "import numpy as np\n",
    "import matplotlib.pyplot as plt\n",
    "\n",
    "import thinkplot\n",
    "from thinkstats2 import Hist, Cdf\n",
    "\n",
    "from matplotlib import rc\n",
    "rc('animation', html='html5')"
   ]
  },
  {
   "cell_type": "markdown",
   "metadata": {},
   "source": [
    "## Sand pile"
   ]
  },
  {
   "cell_type": "markdown",
   "metadata": {},
   "source": [
    "`Sand.py` contains an implementation of the sand pile model."
   ]
  },
  {
   "cell_type": "code",
   "execution_count": 9,
   "metadata": {
    "collapsed": false
   },
   "outputs": [],
   "source": [
    "from Sand import SandPile, SandPileViewer"
   ]
  },
  {
   "cell_type": "markdown",
   "metadata": {},
   "source": [
    "Here's a small example starting with two cells ready to topple.  `n` is the number of rows, `m` is the number of columns."
   ]
  },
  {
   "cell_type": "code",
   "execution_count": 10,
   "metadata": {
    "collapsed": false
   },
   "outputs": [
    {
     "name": "stdout",
     "output_type": "stream",
     "text": [
      "[[0 0 0 0 0]\n",
      " [0 4 0 4 0]\n",
      " [0 0 0 0 0]]\n"
     ]
    }
   ],
   "source": [
    "pile = SandPile(n=3, m=5, level=0)\n",
    "pile.array[1, 1] = 4\n",
    "pile.array[1, 3] = 4\n",
    "\n",
    "a = pile.array\n",
    "print(a)"
   ]
  },
  {
   "cell_type": "markdown",
   "metadata": {},
   "source": [
    "To execute one step, first we find cells that are above the toppling threshold, `K`."
   ]
  },
  {
   "cell_type": "code",
   "execution_count": 11,
   "metadata": {
    "collapsed": false
   },
   "outputs": [
    {
     "name": "stdout",
     "output_type": "stream",
     "text": [
      "[[0 0 0 0 0]\n",
      " [0 1 0 1 0]\n",
      " [0 0 0 0 0]]\n"
     ]
    }
   ],
   "source": [
    "K = 3\n",
    "toppling = a > K\n",
    "print(toppling.astype(int))"
   ]
  },
  {
   "cell_type": "markdown",
   "metadata": {},
   "source": [
    "Then we use `correlate2d` to make a copy of the update kernel around each toppling cell."
   ]
  },
  {
   "cell_type": "code",
   "execution_count": 12,
   "metadata": {
    "collapsed": false
   },
   "outputs": [
    {
     "name": "stdout",
     "output_type": "stream",
     "text": [
      "[[ 0  1  0  1  0]\n",
      " [ 1 -4  2 -4  1]\n",
      " [ 0  1  0  1  0]]\n"
     ]
    }
   ],
   "source": [
    "kernel = np.array([[0, 1, 0],\n",
    "                   [1,-4, 1],\n",
    "                   [0, 1, 0]], \n",
    "                  dtype=np.int32)\n",
    "\n",
    "from scipy.signal import correlate2d\n",
    "\n",
    "c = correlate2d(toppling, kernel, mode='same', boundary='fill', fillvalue=0)\n",
    "print(c)"
   ]
  },
  {
   "cell_type": "markdown",
   "metadata": {},
   "source": [
    "Finally, we add the result back into the array:"
   ]
  },
  {
   "cell_type": "code",
   "execution_count": 13,
   "metadata": {
    "collapsed": false
   },
   "outputs": [
    {
     "name": "stdout",
     "output_type": "stream",
     "text": [
      "[[0 1 0 1 0]\n",
      " [1 0 2 0 1]\n",
      " [0 1 0 1 0]]\n"
     ]
    }
   ],
   "source": [
    "a += c\n",
    "print(a)"
   ]
  },
  {
   "cell_type": "markdown",
   "metadata": {},
   "source": [
    "Any grains that topple off the edge disappear."
   ]
  },
  {
   "cell_type": "markdown",
   "metadata": {},
   "source": [
    "## Animation"
   ]
  },
  {
   "cell_type": "markdown",
   "metadata": {},
   "source": [
    "Let's look at a bigger pile, with `n=20`.  All cells are initialized to `level`, which is meant to be substantially bigger than `K`."
   ]
  },
  {
   "cell_type": "code",
   "execution_count": 14,
   "metadata": {
    "collapsed": false
   },
   "outputs": [
    {
     "name": "stdout",
     "output_type": "stream",
     "text": [
      "(332, 53336)\n"
     ]
    }
   ],
   "source": [
    "pile = SandPile(n=20, level=10)\n",
    "print(pile.run())"
   ]
  },
  {
   "cell_type": "markdown",
   "metadata": {},
   "source": [
    "The `run` function invokes `step` until no more cells topple and returns the number of time steps and the number of affected cells."
   ]
  },
  {
   "cell_type": "markdown",
   "metadata": {},
   "source": [
    "Now let's look at an animation, starting from this initialized pile."
   ]
  },
  {
   "cell_type": "code",
   "execution_count": 15,
   "metadata": {
    "collapsed": false
   },
   "outputs": [
    {
     "data": {
      "image/png": "[encoded data removed]",
      "text/plain": [
       "<matplotlib.figure.Figure at 0x7f73d8bd1f50>"
      ]
     },
     "metadata": {},
     "output_type": "display_data"
    }
   ],
   "source": [
    "viewer = SandPileViewer(pile, drop_flag=True)\n",
    "anim = viewer.animate(frames=100)"
   ]
  },
  {
   "cell_type": "markdown",
   "metadata": {},
   "source": [
    "Starting with `level>K` produces all kinds of interesting patterns."
   ]
  },
  {
   "cell_type": "markdown",
   "metadata": {},
   "source": [
    "Each step of the animation drops a single grain at a random location and runs until no more cells topple."
   ]
  },
  {
   "cell_type": "markdown",
   "metadata": {},
   "source": [
    "Most avalanches are small, but some are very large."
   ]
  },
  {
   "cell_type": "code",
   "execution_count": 16,
   "metadata": {
    "collapsed": false
   },
   "outputs": [
    {
     "data": {
      "text/html": [
       "<video width=\"432.0\" height=\"288.0\" controls autoplay loop>\n",
       "  <source type=\"video/mp4\" src=\"data:video/mp4;base64,AAAAHGZ0eXBNNFYgAAACAGlzb21pc28yYXZjMQAAAAhmcmVlAAElA21kYXQAAAKtBgX//6ncRem9\n",
       "5tlIt5Ys2CDZI+7veDI2NCAtIGNvcmUgMTQ4IHIyNjQzIDVjNjU3MDQgLSBILjI2NC9NUEVHLTQg\n",
       "QVZDIGNvZGVjIC0gQ29weWxlZnQgMjAwMy0yMDE1IC0gaHR0cDovL3d3dy52aWRlb2xhbi5vcmcv\n",
       "eDI2NC5odG1sIC0gb3B0aW9uczogY2FiYWM9MSByZWY9MyBkZWJsb2NrPTE6MDowIGFuYWx5c2U9\n",
       "MHgzOjB4MTEzIG1lPWhleCBzdWJtZT03IHBzeT0xIHBzeV9yZD0xLjAwOjAuMDAgbWl4ZWRfcmVm\n",
       "PTEgbWVfcmFuZ2U9MTYgY2hyb21hX21lPTEgdHJlbGxpcz0xIDh4OGRjdD0xIGNxbT0wIGRlYWR6\n",
       "b25lPTIxLDExIGZhc3RfcHNraXA9MSBjaHJvbWFfcXBfb2Zmc2V0PS0yIHRocmVhZHM9NiBsb29r\n",
       "YWhlYWRfdGhyZWFkcz0xIHNsaWNlZF90aHJlYWRzPTAgbnI9MCBkZWNpbWF0ZT0xIGludGVybGFj\n",
       "ZWQ9MCBibHVyYXlfY29tcGF0PTAgY29uc3RyYWluZWRfaW50cmE9MCBiZnJhbWVzPTMgYl9weXJh\n",
       "bWlkPTIgYl9hZGFwdD0xIGJfYmlhcz0wIGRpcmVjdD0xIHdlaWdodGI9MSBvcGVuX2dvcD0wIHdl\n",
       "aWdodHA9MiBrZXlpbnQ9MjUwIGtleWludF9taW49NSBzY2VuZWN1dD00MCBpbnRyYV9yZWZyZXNo\n",
       "PTAgcmNfbG9va2FoZWFkPTQwIHJjPWNyZiBtYnRyZWU9MSBjcmY9MjMuMCBxY29tcD0wLjYwIHFw\n",
       "bWluPTAgcXBtYXg9NjkgcXBzdGVwPTQgaXBfcmF0aW89MS40MCBhcT0xOjEuMDAAgAAAH15liIQA\n",
       "E//+97GPgU3IAA2XOop6H+EVsfSQUXqx2aBk6gAAAwAAiYGOFkETf+CdkID9MGNoDGXiRp3vaZ7c\n",
       "0f9L4uV5AsZPK5BdxLBXs4AICzu3shjtOMAuNX4FRJ+mofarojrKAo8B+ppmVI/AnenAbsilf+5g\n",
       "6K5fdbsdjLxGVemrUd0D4L2mQrWX7NkCFhy4PKSfb6/Fmc/MaKNu1/3T7imrFzCUPocJO61juxDV\n",
       "tJhJiZ1aTzTPIz/ik/YDJKTtt16vVAvLn+HTrLTjLWHC6BzLZdgAh3705cSJCPfpes9J2HL0JZA9\n",
       "LlbNtfWFqj4/MuTsT12qYoEuFirGqFiN95HsFdtg6PxoDKvLJuIfZACwg62V2h7GfhHlK/BTM5dG\n",
       "gp4bkfmBEPynAzI/nWQdpu+75BU3PcWP1ujpZsOshKPwHpl3oxNO50nsDHSlj6R8Z1DQ7m5Qe9Pt\n",
       "KkxDNdhUptrlSGQ/i00JElDjKTS9GOk06oK+zJ/eo7N7XL7XgkPt5HAfXvOqehS2UzYcevjQWY6S\n",
       "5jN9agSly5kUeXgVaSQgV2G05DmE0CitsTWqrycFKcF3ni9pNE/mc4PzCnWMpbDaC5TR4dwXaJmS\n",
       "OVrxXT2ikaEKPuHokDCl7RCgsJpIy/AkgXL42wvWANO2p67gWhfKXZuS8/TdHsbUylyBQyeCnIJ+\n",
       "OGDfag48ni4/qfOvoddggKacabdKjdWXYtQfSziOFO+kYGDGpjksuVCjTFzzkSQHo7qbks3YBaqr\n",
       "wx0nPwT34g35iH+zqAGzK64uG8mc11+fSvucyS4s12C9PbnODD3cq/CufFs/DHwgerIIB9bwPklV\n",
       "fKaBN7qdHNXIEqh1tzBEqLLreTbbOvrOyVJlWDTfQkXzf+6eVvwHe1CcaQxHJf02Of2Ua1e1snqq\n",
       "8kiH49/eVCEx01WT7z0C80mMV7cNks4Sd1Ebz/6PPgPiUIe+1SjWQcfdCUs71h2E+1JwT4k1xCwW\n",
       "i0+1WFn6wq+n8Uc2fL7XUWqbrBqZNwk+hoA4y/czgnqpjA6ASfBCA+ybsG0g9VaRZymzIiNaVwTL\n",
       "ZW8A7aYHmEp3Uhuth913oMw0v6nPHDFHwpz0lOzYV+7JpT0cXDAJ/vweGQNl1BHIth2TTEFf2dVL\n",
       "8eqQ6xI/SEGDIU8xjVp8/H5J9SDvJdan6pxRGQM/MVeNubKzD17uHdyp+cO/N3pPozBrNhKVg8uT\n",
       "sgQ3izdQbimvDN/cwG/Dir/uwFLO7Kg20kcrgzzbqcztOKUqNQoLUyTxin48JOU98dOoFGKc6AAH\n",
       "8RWlQDJp2M+oH/PUb6HwI7oyUKmAtvToikVtw2eWCSLsY/8rxzjnq0mSwDv7KT6kPeUdWHyWGl29\n",
       "il0sQBStAQoxsQkoK+swVPHbJBSanjXT+RR31g0/P06bJMGoWryLQCRKtxSdtbPhEBBDRkwaoKA1\n",
       "UCJNcc+w2dam5U1ersMwbAmNJ85beVIrf3fIvkNHxKiOeHrsHN/H1ikPBThUyoSHklVILZV+8fyO\n",
       "WKQ/H3L8NamSgxhVS2/wFdqt+AubhmSssJnwOFr22OTUqIErPida4KR08AA0eogyUoeYtRnIbawi\n",
       "sRcKcylsaNeBQRnP0JmebeaBhjT71zmFZPRd6ZtR+Oo484TwDdtlcEO3uEoHjPi5YszXzxZ5rZQR\n",
       "AEN/mqmbzFV2jg/sXS08Eyaykc60EpGziR3E+Cgt1cDvBkNcmskzJrTynZfhlMp1i4rom9yniDNS\n",
       "hSwNW2JssYvXy20TDXrqFB4+e5it77/06FpGO+0wv0pvHoCHog2cmOKoC3OE5srkFvZ3+ABJ7HNJ\n",
       "tppu6SZyqEgVP8mwKOwU03P2B6XC6cst4wFIZBt7bQRDfmY7W/Ew3RqR7FWGTxAZLPGl/wPKkQAY\n",
       "2nfCQk/LftFp9V8SqlUGoGIrLrhlwProyhKRQYsR4cmSWHOHp4xLYmE27wdU7hk9b/9SJ8x9GZsA\n",
       "uhEPHOG7PNZxtkGdNWgzJY2TquKqwoagkNUHMua4wpt4anE4ZzIakxGfEbf3M94AxzO6eyNqYvH6\n",
       "xLzNBgWe+ic0C24nwjqzAXclItHY7gbuPDPjOuM5Cs0jalioAAAGZ9Yh/SN6j3u61GSvc43IyGWF\n",
       "0MNMeU19UhxHsdWOwndGfyNwD1mOHlxOaVuSno/DYRLz+UfJZKh0MHPVTA/tb1Fsr6B12CXjBsqz\n",
       "dsJ2vXfy7qJOlw8IPObz2EwqDaHJyCfC5DPt/tDe9CsEW2vGRG6x0EBk3Sg/c/3cL2wZj5irRjXh\n",
       "7oquMcIGh2E3VoX4QHdOQQGykvmrXbit2sHJ2L9AzP6ZM4UiaSzKWYIYYgwEH5BG21VatG5Oca2l\n",
       "XO4+K63sRRBuqYmsu+WLTflETxlqtv5HXgAU0y+UaHGXmAjPm2jMmQ8b/SUI2ERXeE074zIpG/DK\n",
       "gFmGhZZLVvZASa0zNMrlqH44F56O5NetzkDf8TbxHaRdHVkWqZ0UQomUxFz/ASFYzdnASq1dFsKc\n",
       "hAo7omle99TRNx4kwmkPBjkuJMQWqvmIXCj1LulZGwqJ6G2fwp0gtOsbei0Gk5vw2OR1mCayqmdy\n",
       "HHWEFxybovpXOZ8u33ASk1cxw9itSnAdC4L6Ktp/PlNBVe0DqBQjms8r6XNHaBcJXRTOyYIMDk2c\n",
       "BArBwGj30zfmxap7fc6Dw1qr3oP165o7N8RaJ+EsJpmp7p+6xARzLEsGgEP3WzB9w9Nl7Ho9JWHn\n",
       "Y+MnQ65T4QQ8oeF5U8mp4qDrBL8qpgDtPttmgZK2iBvmSQdIJtvnTm7YSdajwc2etD22TohyGoCq\n",
       "67icOwqRiPCLwMKJVGMD4n9UNOE2g+mibFj6zOA/C5XVanw1qw/8wTZw7skCcDHBAW/xe+5yuJGl\n",
       "MXVUTK4St43lC34CAcEvBiIOhm6+ZD8eO9WqxwG2klQFlzM76lnzbFe74VxLxgXs34Y7BinfX4Ip\n",
       "480aTV0gSgJC1ioLJNo7Fe95Qc6IwRXlnZ7yUILzWSozw/5y4r/19oDqAnjHxQyAh0JrzGFAr5XW\n",
       "wBJqZVzi8LVK/kEeZNGJsjdokXUDV6HqPPcewtqDu0p9ITfGZbXE/ZMSNwPCym4QviYfXJqLCXFM\n",
       "R2qSCKFUcRdAluM1bDUWlCAtRUxrd4WqEz1/NvJYT+IvJKg9o+YMFzpmRwmBavDtlKJ+QmgkaMdF\n",
       "4Cvmp+O8YbTGdxPBHueHZtyPjP2VHuMahu2opG1rMkkwbGWZIFYiNVw6m+vhbarKAehYUP1b5hVm\n",
       "a28/yOd8dSpjmT0kK0m7U1vsWTh3a/4pzrI+a3XtfqAw2U7uLqyjgof4UGD2cbS324eQPziI2laB\n",
       "wOsDRZt+5Gai8PgbXOH9YbjAZxOV7thGA7KU25N+3wrdGpPuqovQ/5O+/yxK/IcsC0dwLTyooweA\n",
       "R3aWDUdZwIezBZwv/dEpiih+yjXQ2k0m+jtWd9td/KB9gEgXk2fA5kTQimANmHGdnf9Y3i7sd6Qz\n",
       "t4GCdM6zCua+6Pm9rHuMWcaTd48Meku6NlFpWag/Ec4pIqDBSkz8/RYk9mch5huKJYbTLAxjxAsI\n",
       "u+AX7+mbqnIE5etDq20164BLBFgKFXWWZKNo6XUqLtFfQN7Psh8s/f6dUHop792rbX8mmUGXgYIt\n",
       "zh2B+TT+/vgwA00MliMmfPnYFJBdI9GF/Qm/aNxs9k/CVokx+yKM8Il4kawlykuZItr+OWggLkXP\n",
       "uXNH4brU1fxR7fhqOWsabzR/rKPLT5l2wED5GbzsG6AF1nVRpctTZCvlJeRv+tgKwE21CXhwti9T\n",
       "DtEogjhunI90lc7ZH3EoIsF9S0V4hNjFZ9P33ANeVt7pFyArWFLtfMapJtIiiMwU30qW0Sp5bry3\n",
       "BrZ+Zu+mGWnHe8v3lbVSQZ4Tf/VQg1mK2yY9zH/Jt9LQiXx9Io9t2peAAhwDbclB81Z4N5Q0LxNW\n",
       "C9ZzQ+WLFkKZNNDusm4bwmUjOBaYgF46Fdj0UZGjkkIQuzg9gqFghPB8BIkGVL54GeThmXPOxmYA\n",
       "4Zj4U9Et1rf3aBIe9wbFqh/lYxxFnFJSiOfH2myC4YnCTEuQRNcJIZHiwey7VZrfIbIqX51JCkXe\n",
       "MSVgVG5OlgE5XRIahKCdujb9imQtLrX42lBWKVPXQMuxy77CSapsXsuIpSHHD0hUgtDgWA3p0Y28\n",
       "tQunLUYpw3k4VXWoqu7Uog7xcckgz2jQvHl8Oe24lXx1g/lr1FLZwoF8Jeuf/gXzqq9gafDkOrP8\n",
       "AeEOHwiOv2eHXVSbGTaxz5y44GIkyB7eLM1KkjYFBlLULzJ5eWuLz6VulhXsgREw4UOU2ezcHl9/\n",
       "Y9fflWpua80z3taS2WxVfwbPLtvfD9fLdO9hA1jO1yamv+Oi7mgG4YqE1PBfxFfA26A9alHkMe73\n",
       "KlmrL5QDGunw8pKuTndmVLJRnenFr1R4Nu3HhWIFOeycW+YPbkNOoWTVdzTAf5SmEWAQ4N6aEvNt\n",
       "CYLoTi4XjshHzhe5Vo7ox/eDR9lRX/3YR8/IXq15rmVxwafEA/xsoKl/wYJhaoH3WtQFOhnr8n7r\n",
       "Buj0tKAEtihHr324/4jFlxUan4Lu7MSu3tLFgfDDwGbpmWDzGTQSkFxAivsZQiiVEItS7pWa8rLW\n",
       "bM1a1PDCzFsO9bktHHx+HCGZ3UDVlWovRvqrbOphM9V+Q8VJm2+8sFNydvW7zREIeYcH4lbSv6Vu\n",
       "XrJ/rK2zKcAkHLtkwiT2/kkPuAWvcSWvNR9GFond3qSH1WBggRCje3+5TgQSVFTDh+MIyYUmO0Sg\n",
       "Td6ACmEpVEibnu/rK5Wy5acgXJHoUtCc2NPDBTkKbFkRq6UmbERGNXF6I0eJcGACoelpawHCM76/\n",
       "HDZUAg2ctsladi8VTbPnueljU8Vuilw4b0ooCFI92N6uoPuLgn8aj+T+RzQC5fLUUQHPbcEdmR/z\n",
       "rAYq3ovlCXEFRfU7NL9qogWjIWLn8nzJUmuxeTZQlKsKKMfCRNbXUFcWq8sTw/6Xgz8NRE69Q7N/\n",
       "kErjgG1n6TnerKkZamd+7O8C5ATSZVGcnLLjN6oXeqnKtT96W+97QPVqrEVUcWhYuYYeN3yIrTSq\n",
       "OEsnKWj88YYIfwWs8+B3wm8nKUScj0MF7bw5sA2DDp0h+fXpD/3K5SEBgp2EW0eHLi7IL0PPIfLu\n",
       "9PPVnzZWL6M/YnaRuZo31vD3ur265uG3WkS0DMLYDloptrev8APGSegMgXefO+pMquDKXB47hTWS\n",
       "rvL2hIy1cEq6aZH2aV2Tbl67/sfGXb6bsLERG81hB5pP/tpfxaIS+H/HFXFhenWmmiDkfnySZ8+5\n",
       "kHpxxih5c/nyWZPZWnVVoHzmfD08Mhp56dZgX9ZvAIT/1dSXZNDuG5G1drRFvDFHQA1UBEaX4cgk\n",
       "dLuD6wgPE4YjLCsI20NA4V8bM+U95EByFsbTtQmgvPC0zxej6pjFaFRYTB5MVHTbgGaOf2jnWW26\n",
       "oX9lvb9Y8Px2USip0tPEtJTZxA8o/0h2meuwWckK4L0gE9XEmDYHt1QuvLDL7uJB3OPnczeL7ANB\n",
       "I+QUUtji7l+wTFsiszhT44NtjqhAOQ5Hqm5AuvsznhjGrxmkpcVwVdigFcgjSiTgivwKJ//f7uYz\n",
       "0NE03aBg3S39jXFYBnvWrHuFZ49sBpH8Tjcix0n8IQafrLzoE9a0vWZjVtGR+6YMbOPdDKxg6Isk\n",
       "42FwGDGqEAiG7AygueaRpkNnb0RDzoqLeaCQcT2tyEy43bAFq5/a5XbCHcW9WfAJb/xZvUAQFosI\n",
       "NbnYpjQVsY0Oe/GCDOvlywPVJsF3qHaQ8rQJh+8mm6gMXLOsxhfShuW21bdXKK59/F9IJkaha0E6\n",
       "Kk3vZro7CAB35zgqYQ+DcWv8+iI9oAomQSRfInxhzXS8tqfL93fZaZttM/SgcXZqgQTxDlmKg5l6\n",
       "SXhmslxhkOmf5Q+HK9NtJk0OqLykq4A22rSwG4mkTpQu+L3YVf7ooJZF0N7XIAs8ESpi/jcQpU5q\n",
       "ddfgt6epFG9xRn2CunUnWnVkWuLclu6k+pqZT+VuRhIyaciB8os5yn7ORoATZxL3f9/OS7M325ZS\n",
       "imvyny7nYJu7PhxO0pxWI4qCuzr/0uHR9R0hMOPFi5vosnKwkcCwV+n37JmZ3VMg7lgA6V69QeaD\n",
       "kIHl9qsbces/d13dn0gXzQvZYyzCZhNMbDtUIOUdtW5s04n+QRO1Z4LdIUY79eJriQk815X09lVm\n",
       "sfXasPFRUmi2pTDyTIYvY3Evt/WY5otSvuU5dhfD33dlWWVInqsbX3xvMqxQHd3opW0k1gMeBn2o\n",
       "ndPMmP++KSYu2fjTz/zH9ygmu3UYFJiX+i2fYWrYjmVP7PntDkrz7sIYc719cehKcrv+GXR8QQ8j\n",
       "3BzdLE2I7526eIJd16IJmOelmHInsMC+MRHT2bsgYLJirS2pyQ7v6HAiSYMXIX4IxQFpDDU3ipXR\n",
       "+ASAcrLThrvDF+UyPDxomGmjYvEzwbFuLDcDdhWAR0YsLCP20p0/hRZQvV5l9CKwztU2/pa+g5WJ\n",
       "s+Ocwyka1eXP3GdpWsvmPA+WVBgLb3XH+IltNGsupKIHmdT0vlksdGZ6tfDKON1m80SKh/dvqjbp\n",
       "UExscqd3xitT5+LIpMlDQzu8aDSCfreZ46I9f2xL1yNCibtO3I5ucVzavrLZdSrFOyG6E9PbDkpZ\n",
       "5vAjT2E+kJpQxzPcUlHbIThseBgmZ+H6gpZm/ca6Gdoy/AlU5y1gnlDuuTRzd0sjxld/zrb+2gs/\n",
       "ME2So/EJ/VvwN9gP2Lw5s72QHoPgD9Wzn0X/MER2GVSwtqSP+a0zaLAzicYfbQpflyoa/bAz3pqW\n",
       "u/JMbZxiTj7lPN5sqQ7+PntM98hayYk1wszRSgyyQEELogjbHPAk375lWoy8LYSP4mbKGmNwydb4\n",
       "XS+Dicz8qDMsCC0ZsaS4QfQRWQ4KVR5J4ZmQpTDE4iz47o334D1dZp3iBjH7H45cB/9+zmKfptRD\n",
       "K33YW/IjhV2z8L33Y054rFcZZq3rlg7mH7vo9Lw7WLttZfXyTyJDyKA24g4Ftxe/zxBH84N9O/2I\n",
       "FmjHYx1nvHbra8B/YNiWrCYjNjE5Ow7nBckQz+7kGDLw8QzH7yW5C/sM0OjFfTg8m8k4+L8MeB8g\n",
       "DZu28tOaOFuJJH8KznFYyW5Q3oh68TLFoxG5YbLdytBoKXvDYfR+A6bR6+QL1L4+N0tOFlSZrxP4\n",
       "mbETf3l5wbREfZrJZ/P30JluZclJ8jENYQYCqeRGo2ZyxsvVAzGHA2x+Ms50uaodi4uGTd7Tzba7\n",
       "09AlBquqgwUTfwaTaRUSkxKzxJ5x2t6hBp1i0/HrzUckWYR1uWiYAfdX6rLdvoRyzzcgb0OPdiLr\n",
       "oNiCvl7yxPivSRTFe5VXdRPAyyCTFlS9QVRwjJQ1N8XAFNjLCvtkG0yOJ5seTPWOVmx7bJiCIH9P\n",
       "S2vB1kDub2m/Ygz04WTkFnuVVCIEbiyIVquIAtA0iX/1KNo+hK2IBvpi+VWmUgx9aeIUN5Ob17/j\n",
       "LPbM/eSnIPXoUsDmhj8CoBz4YU/h8NRb1kZMDH55X2F+Qmnj8pxRoTlKOa2pINAgm/Q6exkyay7l\n",
       "MHz7otkERO2ugtiRUG8cP2Sm7CzuMSE5nklQO2VcR99O0fo3lwnLmInaP6oEewhvt85gNzvj8LqL\n",
       "LtGk+B9HfSCcNWji/288U4vhe02B/eJ18UpHMkow4Lin28cv4RJ4QW1OqnUDaxSYoeYdi8aoW/uq\n",
       "2YDNbiRvOHn79Whsy64jzRVenP+htBhNnP7vzuvkvGInAzR5nFWpAuNNFKF2ejEwUIfhSoaAzQN+\n",
       "Z/5vFLm4WrNwU1EiZy+yCJChBdi2kZYEe6TTkKA7o3M5zLnUNqEjmtNY+ZYDWT4nZfqM5SUkVFKt\n",
       "rolDF24KSN4mT+k//LUAJQGJAkBo85o8H/7M0j/RqE3sdn5VVLS5SRdWvF50gg+YTIlQJ65IgxaY\n",
       "qPh6Ad8PVXFbEkQWkNV+ko+N8VpC8FYlUc4WSaiLcN5PWXLzvUtCnjy3QbRbZz+0xpoQsRAI1cDG\n",
       "Ty4gUg56h9wKymIkGyu9nh9eM2HBo6GPDE2J7cuT/V+KwIjoOitTQYLY5nxyVXyrG44hCF1MUXFX\n",
       "TuNGA2OlWIS4W4B3UBfToRHD7R7XiKRLt2pHKIuGlayqOaBuBheKEGZxXKvFkdZQyvdGjjOLWMHt\n",
       "+YrFE8TK4M+CgKp0ZUpzeKgt8RJ9q1PA/Y0SRjR4dLyzXD2hPoRh/KfTU4+IprQsXotiFh/6WU4x\n",
       "95nRqwxMLur/jVGdgZ2gymkiym6VHc5LcBTJ3BKlUnuv1ffkVGUju2ppJgXusTbs3wvayRpqHXyq\n",
       "b41SWuOCQrKELVU0vibdJuPLZrkRUApbhIW35UZPKOpuU43IGvttVwplIWjKINOGkx1q2y+oDTF3\n",
       "QmIC1uzpq+f6UmSmik+YK/cUwebgl6IcLm7iOZRrVQ8Xdm33gKD/ujDOxaP6fdkhFPsPPojwIBeQ\n",
       "7XLzbyXJKhr72w58UTAHm5noipmdP70VY8e5xIutV33VF34VjUbYaLH94qMg3rpVwUyXOfk5WZyK\n",
       "uooJI8nU5hw9MZmAfQfrj3b+rEqj9TLRTjVSvu3Xe3CR5dfded8YzQXswDa0nwrXoniQVv8Zcrlv\n",
       "HL7Esl6GpcS3i7AEUIhM68L1tBLEgmgxOW2QxPheSqJkcBO6peHrPV1y0yQ5efZEqPquKxm5bWjt\n",
       "I9l8cYI8oPdfbiMG6/DEtAS6HU5b8C4TPtvTjNFiRUP8QYfDHP1R4Ne02TNidpv1L9a+XNsIXJKT\n",
       "jwC3nrnE2wdjQzGJa4f2SNdWaqvGgX0a/9vYmDHeufXAwDleZA3EpY6ERrdBH/zJt4pWX3H5wDF5\n",
       "mmKhY4z/KQZrt2fo6QcR9qx8w0QWndgBE9OKMs8CGhTVfQtE5fO+A8CcyFzyN0BXW3SDH4mhZICu\n",
       "W0w3vAVFKz0z6S1FIm7bApFPrjLlwzKKKAIzX3xF0pLYWYOtWIwVih5v4twEq5rXKSVcYUo9YRm0\n",
       "utezs3Ki6luH0uoM+Fp/Woyr0ecMJ1/gSpbYyZY25O70hbd/S/1RtkKrepcPxgIchG5QLGIjcP8B\n",
       "Bu0WgnNR/o/K5O4CW5IKnb59EXnLSKX0ty5tWJZoy78cwo1SkJxxy9WAFbeE1IAOe8cIZGs+qSo6\n",
       "wCnCKP6AbjaTriAfKfaBluPEs03rhG2eHHit26cBSlhBevTDCGhn4Ne5lFv9a9XCAN/FEZ3DqN++\n",
       "//KF0xVMkPcss1nIaMDYT42XsiUIW1wJk3BxQOpHNvu2WDlS0m2bOMEuX19b92+1m+3g9qTw/rlg\n",
       "77D9cbOZgv5WmJlWGnS8wKMhDvPCCbxxp0S1Wky0nS7VPxEL9LwQVYLDLWBKQ2NOaJsc1fwBhxiK\n",
       "sD4L6TStXHv6WTI1mMtsk2+/so+Km4OEjHfRSX90bKGJ9gX/oWufO7sSf4poe13tM9OM81fno+i3\n",
       "Fj+0k5fpVNk4SGp5fNAWoAydBhw/GPMrP2+aXmJxF8ZMLk6sr1bMLqGYqzu9Kwy3vUPMh8W7rJ4x\n",
       "T5OyKOTKhoME85yQoVLHzvg0s0fNi924G1vpsBK2AmQsG76NnRZh2GBxGavuaQWsPcQNnU6x0dtT\n",
       "NBg1Q+hP6tWFN0EUu64GQ9LN19ic5eZjX8uHFfXaLgvJ/9/l0Gv4ocBk0tVgHG9+gVHty2yN+8pi\n",
       "xCdTwqRjCFjdKgsecSUoCX1VWwWavcACLD5re0vJ+rDypaFvE8MvOnG5LiNZksTH5ivHhvhv9hzK\n",
       "tvLQHosGOAbV3/8VjiPIwL9FJybtydqUDtE3fd2uRnC2D/lTKAoXUPCqR3M/i4AWE1yYA6/ec2yJ\n",
       "wGAUAo4+wMTuGw83L01UC8aZnOUaMvWYZPsT46h7ZibSAcUIfQYzT0xf2ygvkV/Lskz0LzA7Tfs7\n",
       "YHPP09c7NwiBn+//qKLVzO4vc/ue7iG+Ac+PfhKYYSzT7afks6ppFIlKl3Jfl/od7rQZSs3Aas2S\n",
       "skIBg7l/nGYOxC+Z6RRAvDRJPE2cCLv6U6VIfu/KlSm8mJg1vDGfpBQrB2VHWAZ7h2ToxiYM1L6+\n",
       "w9kbU2AsLrKp1axE57YUIx2w6bNPLtTH1nn4zNVSWHJg3eQOytYsfDXxfHTqTsuzagnw5H1UzMbo\n",
       "Q1mAYGjiRkHsKoZwMekN/a/k43RmZ2A28NRCYdJxNjoP1AEiLt+cC+X1OMFbNjP1Hw6+zM+UPk+o\n",
       "W4+GFs/XhM0ARVragF8EqUS+Gak5eoHo9SfmaV0aAqORrqCDF30gSEb4rjSb/R1cLdV6ON/yAADn\n",
       "dskZYxTzZnscbMWICrvyB3JfrTv1D2Iq8hI39AOLrk4fNNOC+ECAgqwpkOkmacL5wDqFUJ8aA0Dw\n",
       "4hmtytOa8KPrrHg48IDjNmmoHrLizuWJrvTE4ReHqpi73MlZftTxgUNEOjpYQphTHPKef9hf/PXY\n",
       "mrGS2WiBdsK+g2P3rD0ADYdfPK+yiDXk2/sJFae/f+pdbPzJ0G5f14MvrN6fAB8nPpi7DFa48HJ6\n",
       "Ruaw/Peps+mUWChlRulPYR0fjsAOZZecolAVDbXL3BpD7yiX26bLt8rkdDop1IMDOS8DV1K0PbZS\n",
       "7BVCIWd3LkaRGoafc3naG4dpc0VEQ8ZvPWU4w44Esxy0ggAAAwAAWQ9RN/ucEQAABx1BmiFsQT/+\n",
       "tSqBoENYA/952Jy/MMwj/z5uTSwiAajpuTZ2v7aS2+rN/sRl7mNZ1atwujAjBeSKL92Hbw2K7jyA\n",
       "sSqU/FOONPSyI6DhZ8n3aOUJbnJmq5XgUjg/ccWhIjo7MztNH60GDEteoj0mYod+DgPiJwza6vMh\n",
       "Dr01ugOQCthmax76I6Jd60o0huPacgFe+HDHooke7IGzXZlGA+64jVsrXtnQmisnWlvlwNsszMqr\n",
       "dYtsTg4IWf2GftGFfBNptyVPKEAIRb0ns6F9y5NWWBHp20O22BwvOGqFhk8IabYs4og7ZYgRmWwQ\n",
       "KKXnmXUgNyp0fSbNv7XGqrzGczUKQ/gYbfYquTsKpzpaWFYY131KJbKPlw3SSqjRaYwdUcDGZcC+\n",
       "M/Spko3N6Bj3m19mL77k4jfoL1NI5BgDq+FC/8xIUs2ll42zMwDmk/bKWTkI1bRfhTqx0Qrep4/J\n",
       "BsxLJ6uqe7/px1E97lfuFBqjGNiO9DYNUtZUHtF0XI56cF9jdn3Mj0qlHIoQbSL87XumNXJHa/iN\n",
       "aLyeWhuFKwuWerfDbdVPqUadPgfkZBP/GCozMvewEgNS9lEzSDwpq8P7Kn8MUFrpZPpJgZ9xkwZn\n",
       "YbOA4HTiPlll9fnN7gBRlFJfeHzkd0iShKiuwBE2FxP3IOn3FI+BhR3Odeo0j4OI0s6L4/w44ILV\n",
       "ukTBPjcMg80/8dHgsxPqBGjlI4yIvZPTFqiKxOnNnVuXjowR99xZngfGiPSgnzBSE1mHg+mbAJFt\n",
       "U+JbWjnmUuiPbdP8Crx4m7HIfw8OYr35pTl28xP+HHs9SqJ6NsQZC14O/NxWIwyV++fBid7JhyOF\n",
       "XzaPDZTx2Csizw+mtPM3KJEZnRvGcZd5xRX4AYtifskysnLnc51iGevDX3JXXEk6RjgP1aMlQznT\n",
       "+KHhAToxnJNAnOvA3zuwrS1T1up+jEkDg4bJPnJva+ADKdkVSnb2zvIgOBpgAYo3Xyfn1VlS2CdR\n",
       "TFgjiN7uVVssKSHov1s2VwRgSoaGOHZvU7s/2ytYKbtGVJ2JmAKpGEZ5NQeSnIm87HaqNwADL3d0\n",
       "P6Dj1xZPEd8C3TPeyLukmbYoRVYFXOFNVspQ1J5q7rLPDn/ulsdReugazWjAGx8PW23MaazQ/aBv\n",
       "BzMbsZBTB7MhrwoIThXZQmMFrJKYSHPv4fOfV4Iy0y5la5AT0lhMyilloSOEAMtmAqQNwEecsWf8\n",
       "oHpT6ZnZ/dn2E+cbFH74DzMTYyt3ek+pR8cUXTK6FZ+xGZNZ00covC9XciJw/IhJ8RPkBbU0m06J\n",
       "dPdjJgfM6qeoYZGSQX84J+27e+EMZTBpk3PkCmY7aRFzRHzzdqC8ma76yrWByDdf+UTOqbTBRUL2\n",
       "axqAjXzx09ftT8k/F7c+P9rpZeHqTk3n3OeduTA+XY2+jkWw5vThDybPY7MxP5KMF7SG3M2J41XI\n",
       "Oo0a7hlpAokcF9vdFfSRyCVDT2ffr/x2YsmaGWwXUsburKD/p2pPxV37Ay9M82vBqguAk+iar/t7\n",
       "REgs5KC2+O4Lt/Zepr+06cNa+W9pgfyLqe1krFWzJH3hNq1Un9pOiIwvYFn9r+26JeGs+K3dAzjh\n",
       "vV6yNFN/0RHRcO2d5m+n9m/PGZkPBrnrsm+5FCFKXkO5lRculKkp4nc41VQz/u3/yNit5xPHnzBb\n",
       "4B8ilvkAdEYNKqz8OpZA0odkvvUBjWCQgfBoCBBoGyFBGtm/O/7+AY2hhHYyLDwhXCEvYtJRiS9l\n",
       "Otc5elvXE+hiTOs6yrjzDwJLvJQ4cLLOhYD6raaMpH22p441NxmOEVhiAOKmNm2558o1jYm01MQW\n",
       "WvXMsOaS32xdiXZfEYrDRK2t1294y9WvjUKM6k956bOijFmls9KVov8/Q8y2OO6Zs2ktraG9/Y/v\n",
       "bPm+Mq0qdFrL6bEVH/dvB9st0RR7DA+TuxT/8shKUo10ZPOo3AMNasFsaoUtDR1onoWKp0x62wko\n",
       "Z+hHZ2QkPqRwwgbxGojwwqxlYrxUfjh48vhg/+YcL2tnMz5GCsD+51gx4MdN52z7tS06/zH5ZSa1\n",
       "mNEL1oGTxb+/fjLZgCXHqkFy0ekC7ce1RcaQJdKtYvSamYAqdle8T3VBlcHkhbApOgqYtUOuLIKR\n",
       "n66LwOM66BhsAKEAwW7plVQuPNHsPra3JVHBlXRtalo5EI9TTm98qIV7zMMbbMMXGsMFVgVQdVZj\n",
       "y+xdpRh58uLF6tXA0i6t0mSRWiND3TXB2LXsxrhcLYIL2seZmAV/Gh8bY6b41jio/+aUjmJQAs03\n",
       "J0Wgwf7exUi8+4ehjzQHpM9Q/3lULbEbvPzLFZgqIegZQMuh0f8piNX0wOaZoXM8jBud/fdlwLvR\n",
       "ZIfrfa5o1Hmb5wPPM5fMN1n3+7yJ34ecpgtxcwUJ9xUnUMvmP9+u8g5rwp82MxwAAAoDQZpFPCGT\n",
       "KYQT//61KoAUuoLcADgEtTBCWzv1uJf53GeJV3KC3yQaVP+3mXeOffxePByKvpBJM4s43zvLsMGc\n",
       "M/mYGpaMZi9Hr34fxQ1UX9FmO64/8ozc6ZgNMLxkVB7HZ5MlbUgksXQiJq8dloKaCM6JGuIgIIe5\n",
       "OI4xVwPue29JQ1NLIeqibL1UEeAvUGgmIR6x65xP2ySVoV5Lv0trSDWQJKWY7WHefUX1Jlcjgh92\n",
       "fYcmsnVUhHO8maKARdum+IyWJWCvngu71qYXIpC8Jmhh8gpksZZ7QTnxS+Vej/eublRK16nE/9kW\n",
       "xhfV8QpZPQSHKzPZPLMAGENd94aJz4IFf3IQW4s0JccwzzoF8M8yyCkzf3AEtchhEEZ6+UVmLXjr\n",
       "DjxMkMzOFErzh+7RENgIeWxuQBiEEa8tsXezn/52DKAEoDobP4KZ0+Hk/ls0jJHB/snFDi+tXMOB\n",
       "a6Z94SF28xgjwr9q3RRdR+Kg3hzQbH27gjn3ejkTnuzdhQTBne4+KsSt/q/ukcG/O0uXKYj/sIFA\n",
       "t3rZXqSNhL+3FFebzUkiQBCLaa3SJahvPsjSLYIv9iEJsQEwp8NLTrJkxoft3jGujgzZX/QonyHK\n",
       "aHWHgQDpTcKZXRLby/CUd0xdPnw8gM4nvOHTjibLhKJBGsVdUsmCoCLqKH7PfQLMnLHW218Hd9hA\n",
       "L83bnyJWZtvNGZsZK7Ftln0OUSG1GaTGwJ4tpkJON2Nh1DiONeTHZ8ECmN94Xc5WPkVzD8tDvKr5\n",
       "054NHmjF0tyDrXkn/2I4K+DuJUeBgRItKjZYhFPxeqJppFifXeTaeiwefqIz393tko7VdHH+ruVI\n",
       "h5ar0VuWZFKOFkmQRVfbcJf16xVDdV5KDarfjxG1G5Hhws9QqK6/ir1bJJWr+qzxmOKUfDLVPlTc\n",
       "NE6MBNnEf2ADE3Zlfjxw1L0buEHqsAf8Hxn5Yy08B70vfjEzHKfPWQC19y10kUXQn7o6/q+dSDb0\n",
       "ILRI334WzujzuYdc0xgcwG6Xmh5sjVPLDNLTe0w5nZgMkqtg+d+n/gGqcjpwWPAp1dHa0P0INjEY\n",
       "FO2rY8BuXJXkUKXC+SPSqFWEYhsOc0Ol20qjNJnHKZKnd0QNFgZHR5AgeTZGcJlJ02sA1EMMC2yY\n",
       "5Wgwbx5/17hB4ndoVAHcnHjTJ/Lwvy5EL84zAGaEI8Cfz9igYoXgWcgwpPC2bN/oU/pDkiY7WOLv\n",
       "KpyDC+ZoBKm0Zg6efCnn0H9QBFtQDWpQgay/rTGsIhVrFjQhVtNCVch0SMra0r77iguGAdcrXH57\n",
       "Xl9FunSwXkc4k7MegsfCToLKrlRDOvoTHcL0cszAOnHuIt+eARtzbjvpg1SDMCHx5zxIw1ZI7Muy\n",
       "WTn6W5sK9YHDuqY/j1DPaPUYXMAlperknpiV3/wZtjXmvIYr0sZq8cx0V9pVdUsLya5kGKITweBr\n",
       "LALyXqT3F4p98C31D3pPpWiWzIYCLK7sPSduCHNsOO0tKDeVxC/PWhvLUYKTHNyYxATpl4IcZ6bu\n",
       "BxRvDTE/LtvuL89uJVQBEak0COaKmdi827CXooSI2MfBfdO4w0uzbM0Zjc/7Ru/MXqqNBf9iMe0r\n",
       "VgSPNDdujFRKGuXVM/w4gWmRCCwLMugti72Ma6hRPGFaQxAUey1dfb2vVSiMCAEyveOb9iJNNwA1\n",
       "Cw9himkPUwEx72LbysLhLVCIEFx+ZOoXnTWyN9fGj3x0dWvf6gmYObLRKwn5HSJ+78AvwqhLSEkt\n",
       "hPOajwu1qoj1OA2crryg2fGpUNgXrCS1t97Np2sDa+e0onDi/+GP5JHCwFVITFcn98Sw7+ALySW0\n",
       "DTQJaWNrBFcsMkUiz+1s/Le+cDV/ggKEBAtXyI6vnI0E/sY4n6mEuMFDOYTQeA9Vah6PDIK/B70r\n",
       "Tn3bFSqT7xf9wRRYetxF2+CH9eEY7pcPy+Dqz1qZsRgmmIiJayPTVHD5eSz3NE7bVw9FByDuM5wI\n",
       "gDzEyDxLrVCdAU3YTyCB20llvPjGzbPMgNFTSc4mZYNd87tFThH8fE9mAbgLYk18jnNRclXHsO7M\n",
       "zX1BCYor3QR0aBSzHgrrmx0yGvYKQGz6nK4P9xsUXPHGr3Xliu3XO/NdjCUNpW1bfVStJbGHQg33\n",
       "sYS1RnGbi2R0f61Ihe+2nIFM3Nrua0vEfBDnYyVC90TNObCh2NGTq//9tAaGMDiL2JZFdvmkt7mk\n",
       "Zc2UwnWcGWbu/UiVv65EnTgsKpHySdKuj3kVrd6UneBcq+LWwvgxLFRpeB9yUxPD1ehObQmTH9+M\n",
       "OcqQT9HFX/6b5ID9s0YOz89+S+nBsLqar3cDxakTAelWso7EmhK2miJstF+pljIUWXspMTxyB6ZE\n",
       "cEREg4lWYp0GONA6OPKNe/OBTA9s0y5TZq+9TEkNakDe8TR3HomLZvybr26AkIVg/HJjfPYebw9j\n",
       "fMArtLLWGFdLuFZxAMvopqko18uARGriKstWVNtymdP/HhmOQHkMmd+8k5dh9DQIongKZ3sLOAr/\n",
       "n/EnoUxnYwZnp+bGsMVNwZMuyZdOpsk76hzVg0FIHTKOXAKHiWmZniazgeVdFcJzECYSG1HX1cBf\n",
       "2oRj18z28zooRjg/RK7FPv5IfbrRvDNvPMxNZq3YEbkqtVuL5+lTFau+S/ha1qjONF9s3AVGRIIZ\n",
       "6lDitBYuP0fK079dH+Q2DTM/NzQ/vhTwACmDBsvccWUfFcDpj2kSZO3lKy/BdCHXFU4cyXC3R53U\n",
       "ocvUM3fR6Jiws+/hCyfqJF+OCIYtxyrJrEkCYA7UqSW1tQs9KYdyDMzZx1+jdqjWERZj/MKs5h9n\n",
       "4SQ2ZU2ZIWKRqSYB3oKEiOpaKykRylAvHbVKDNeTdyCcFyuIYOLy1tPyQc6/76usk7zRs8AQEYsv\n",
       "jVuFT0R0KkpuKcPJjc7NURgl7el82rHjU9CXX5aWydSWQ8jqoO4EhW4e12/pkD41k2bdt/Hx2M7F\n",
       "L5bYGcpXoVob5v1BWNM+8cO1WzhS0dkhas0kx5Nh5beR8s/ojEZF9rcPREXXP8r+g0EwxnQNIvpC\n",
       "EFFooKdYx/bkiPvT86THGZk90Dhw/XakYIK+gJ5+T6Ivl4BFixzWHjFGdyChaR1aHf5u9mCPdBgu\n",
       "so+tE1nfwYaqVG0JsJBjkk88uRqJI5O0/P4z9XcdvxlYcQoc92+LadkmuVRYS4N5UtJ4ZvqPqgF1\n",
       "U0MY4LD/eX45wLg3SZZMq9MerADg76m0NWDmO9h7JukH8m0G5GPan1shkYEdeHw0zflY9LVhj1W4\n",
       "4HY881wKZlmVpfCF/OZxat5Ewf/upoKKFrbriv23AzGZNeFuezcz4JstnZefHofh0DUz70T21Pu0\n",
       "qpwPPH+2YSDLmHOB0snmN4i6RyimCrufT0O+I78vUFEZaPPlz7dftXqqEGt4+dVxiQAAAdlBnmNq\n",
       "U8EPABBVtdV2utXyK7NdwBdCRdFa4lmLo3ZargABclzyrp0p8ey6Q0FpQArsA6zE0X+HQh3mg9ee\n",
       "cWjCHtOqMfz/59iUnvHxDfoZO4VqG6ebUpWw58ByfJY2Qv7Ciw9vExkmsRBG/Z7TICO7VtbTxiT0\n",
       "OB5Jo4eJm5ANNPNQt6Hy5luimzLi/O/7mI4lAzDomEQs/ouL8Gx87Q8lXreWxgtBl+AgWnccKn/Y\n",
       "ji3iFwdg8nkKk7KimwumCUPz2PhVwqEYrNBtHrLsiiuspGeODAxMjK3hYIkKDx+suoN34D4A1y48\n",
       "e8QUq1C8vImvZFS3atUfokImQpGygU6dI9VpQ9nPOYXohChDAX25HuWJoJhMxk/yLRAXzdm3ilk6\n",
       "EoneZZjQ6Z3rixCQ5jpSeXJA1lS3EQaqkKH7AfdkMJN22mVXvwdVm3XStEwafGyXulpNkY11Go8H\n",
       "Hic8OSPlsdc8AkKtpFmFv33JXimx6iQSv0XQx3BkbKswcSvtKp3r+9ZA0SXJ4tJN7e2xNIx5R7do\n",
       "x+7AZ7yq0WU+lcbIjFPgZymJpAPK1K3R0j1DXNyS0KQSQzybH5rix4bk3xhMHOX0xqYEQYCxq4fi\n",
       "gA4ioXRTmuSoFOSh9wAAAC0BnoJ0Q/8AGRulDDBoIpfkKF+TvZloqkxshicWXu4BJAlDB35On/H4\n",
       "wHoI/UkAAAA3AZ6EakP/ACSwa3M47fVjrElceGJtkYR1sDGmB8UctHwAG8dGlg9O3nricO8QfmHF\n",
       "7XT5z7Ai4QAADIpBmohJqEFomUwIJ//+tSqAFL2j4ABU/i8/qYrxlu6hLQh/9L+lu2MnuemB6E+e\n",
       "iFdHDcYO/aTPVnF2XVjgCM6pwUcASfX/tOOWU4RnaaKZUhxa+hhwpP/+BAl7RdG/uoD9QNU6vKTB\n",
       "IuIHgru60aQNdr/A0kzaF0ZgwPkIZeOr/famfIJItOzGlltFv5iMjhdgTaOkc70RMH4NLYgbCZ5m\n",
       "gYDn2+3mwziryzzsuAf+OBFXX2O/bNSy4PWU7KD+kk/+SPG1hVo1bLqbgJqEptr2MF2SmjurkCE+\n",
       "5DAbZtAviS/VqL5pZ6gzYOxZo76SMzelY6c9qtDaHu9TB5wGs5zsnUb5ega7lGqx1engP6LSemAL\n",
       "+RHiguBLexara5FKx0uMPgdJshaBrTeSYwQZQ8gQTnFMYR3+ox9mCxuiz82vMY+KhYNXktRzu9+H\n",
       "//UHUrlTgB4YlCt726vzVCcdJlXKa/xaUOlElbjarf51WnYq4viOV21t+nXXGjWG3Wy1v1WqZTAn\n",
       "TwodMqaLP3WFuUi7bhojdrYbKmEgviedzCifoewN7byDix3fh2ouKz82u8CRNc3KX3TVTx68uKg/\n",
       "+VaKLc5jdLa9uP9G8UCcvZZbZ2BPsKsb69pmVpTNntdswhGP/gt2bxmPugBFbH1wS+Ad+iTKAoAu\n",
       "Qdu6nRgCKV5ZrF0hjrDtr3TWFe7D90XXY5JCYU9W2xeB3Hr5DGzbip4JGGAP+0hIW0l57SiotKhf\n",
       "ryAhgBQHXIXyQ7x0sI3J+lPrJmB1HeoPJQG9+5R1C0joPq4kz84FliA2SIwuj8+LAF6/m8BQEElV\n",
       "B2osEUd8zEk1Avozky9ttvp08vVo4IKLt0YrO63HtDRbGYREs/pbPd7lvSrPeS4GbIQzO+q1k4FJ\n",
       "sX3HlEtbQnkv5YHvz2JO5/HQSAApp/EAr1I9lPHd1u97IXPvxN1oZThJfLSTtj2SaPoowQbxO3V5\n",
       "l4BTfMk9GRNAAml1lSZEw42+gXs5zfFrH+VGoprz6MAoGACnAErViHUczm3CqCcMju02MyfsCqgv\n",
       "68V3txv5tKixTNBQqHcAWf53/ynqX3nn+5kbore/WK7c4qK42MbibB232Exzps6IDH19aZQ9RQzv\n",
       "mLpZbwaV2X1uc6osB3295oiE50yHDllRPdBL90jKYsLlraTxqcxso6s6eZ83nh+KtB1FZwrLAtfx\n",
       "ACAhvFWWopRYijSFUh9bG+xfAUwjDPCDy3DVT+NLB26ce4zK176yGJDPiMhB2jdzczE+fzN48Fvy\n",
       "jkLY26r4En47iQyQa75W/Yp6ov7Lx6uxFOZQBmIsqFCW2Lr6lrIox3TpW5rc5I/VJCsM4oAUbdkl\n",
       "8P5OYWNNL+hzviNH/yz/aG75aEzBE5+fyUMICIcIMVa24xt1Y+iYIZ1Mk49f4DvqUPcqjgCjExyJ\n",
       "XgSe2NS2UsSi7wnXHHK2f+EXWG1ftDaOXQEBfnA5PiVqgOd4PVGf7xkVqz5Ty/hQe3v3gUS/bfYK\n",
       "Y0/fLsd3DoM/dlv0K3Uq184Ij2vf+yJqZ78A8imnOlkf9bT8098sgGubm6vRxVDLwgbUVPoWj+af\n",
       "O8d413AmeQkrQTXASN7bmoP6iWdlWCaDTQD1vtPGW5vVuXrPXIL0Bil80h7Efbp7xB32kpL44y2e\n",
       "I3Qg1XuLU+Y/XycjIv3XBTaOtOesTAyI7/h8AGcg1/qz5BYusJIw07m8PENiMpg509IAllx6zF/u\n",
       "cJxZZEVZ2/p+VrlkgEFjFbviGmGp/x0Mip38sLvQQ4xbhBy/T71WlIMWIpaA4B+PthJc9peBGgvG\n",
       "G/p078h+0EbsrW9JgeHnHvXdkLjcAv8xyya0QlRDN1owuy9V3twTpyHZwkdMOuCXWh9FIA4vGLrN\n",
       "7gfeFlSHjXMNxIaVLRYai4ZwEWXYnx/OtY8C0toyl/H5AeSHD8BK9La9A8xklQtqbKDKYuEkJ2ir\n",
       "UTUG+9haklINDvm/BcMawipjp7TvEt3tO/aegQ2ctuyLNVAyaQks2upkjba1q2TQGuMhCvPf3RXh\n",
       "d2jV46rwxtFQ2ggOnB4/SPBBzkyTCMWt8xDzWk10Eii9ePl1v/2DGy+a78I2B05+THyRoQrjv8ni\n",
       "zuQF46n95RcawsBEVgo5+HBJa+Bbm6+j63g/ppabcWAmDz+aRj5f8k9dt56xRNxKstyufKE8BLK6\n",
       "TSHJ694fYcLUOmN/ZWzzfeKO9CY29iLDJ6vWJQbGMxntXb2lRQQkyU9c9qTWgZ4JiLm2Yhygxx7C\n",
       "cPAkLJ7mC0Z7xRojBU/4LZTng+cMGuXJ8wf4N74DMobd8o3TPio0y1JhVdnbwPs9L9NQe/OifoRe\n",
       "Oqt24LQUo3OfBSwXBx0+gNPh25S1kU4ZDuMvzTd9UIGJrHgP+iTm66SpZNW5OBZq3MGbxOjEe3CV\n",
       "zXbmwJASDdAT9IRT++bxWUqXkLG8OUIELOk2eubWYhnlst4Kf9f7ga/xncJfhCGZoxS3N8zVqtSr\n",
       "cTTb4zeXAYvmSz9TJBhIqpWsb9xkpVOxiDfZTOggOkgwBZVq26TV4BKpgoQZNy8IvcDDwjayk3db\n",
       "gHp26sCp8j5GUrPr77f/M2aIR60yRwuEp9LhissG01HjD1q0ZGHyKpTT6anYvyTlIdc5ncR/4rmN\n",
       "up5WXUdG0YBCK4AN9+Ryi62CViwfvmJjwWe0tFqteny+vVCBn1YSLq8EKgcmMxmp6Zy6ZJqGY2JE\n",
       "LOh+e3PFJbNZPeCTWQSVje8S6bpZfQtuff23MOGdL3tLt+UW9XMVtIVpkiTv6XGgsKoGb/JCpKce\n",
       "NABzFpHgCfSjrDAxwen/bOqUjqsxoQmYccq4PxY2O3YfNIAhAcmaS1Y6fc5hf2jj0Bvu09xI6Ho4\n",
       "ry9bCDxM324sXgCdjVzfEQ4o36nj9+rKT/UQZlVJb03TFDJwJR/OY8Uz+2j8yw7fVekp32AA1wiZ\n",
       "v4jZqDUj5PYTYe+fUaOfyezIH6bPkIyK0LqjyPlIc+w7KorTCZl0Zvkhcd5YWnoiE/LHuHduHxtW\n",
       "XIAxlypdjgAjoROM7J2ULE/CzdcEL7rk3fk0/SkQMBJJK46n3mTJYqv3gu6TFFLpE8EuZI24p8Pv\n",
       "QhoJJIw87xcZ/7Qi9CkE2ndWDd6JWoy1NCmXZQRGRqBtD/PaLAv9DwIYwtI22SGdNt5hi+O5MZ+y\n",
       "ELA5QqVMDH1yk8GA7/uC67myMlX8c/xKwiWGR1tkiXWkImu5fWxlqX2zYTthWNFaJSPdzWez0O1m\n",
       "IuneF15s9kIbca/UvGdXrXSMIvkykORRvMdngWm6WJZcUac1ToBXzD/sif5Ef8+TCfBeoUdIv2gU\n",
       "OjDCtnj/g74t8dufPzj+FIstWosUs93ig+mixRIWr7+g8wPDOHh4eO2EtsHKRg4aNkOZQxyXPyBt\n",
       "0sPCAd91Odt9WcKm++3ChZO4L134NgcAINfsYeBhcoCPa+yXmSHH4H4V/0ylt0jjIB2Er5T7TsZI\n",
       "NCMTI+5KARrLnr+osBGFUlVlrqKorLgXfzQG33TXjL9p0vhvjlUVekfj9YVMA6dCocd4v6m6g/Tg\n",
       "QZYPQe4u40FsvRqMV6Jdiiqjih/A0xYTqhzUevr7HZ8yEcSGf3PGEOpYYkwbmfkuACLrQBh1eC37\n",
       "aXMFeNvYkwTBXSE+GNYdFJQV2m+hIbz/AXkqbb0tlqlPlAcVSuOZ98lM9N7bHdCe1uhMUcPcqpGl\n",
       "pASFGIXtJmwWB/Lm0+VlPvT+4qggs2Ivx0TekJRO/tlBfA6qNv7yVReEw4bZpbesu86HisHqpVEf\n",
       "DL4M/zQK/DqS+6lpyqqMuIpEMGgIUEnGK/YfP+DGP3lJCNB6vRErwgkkw4KyoISqbBxkVnLxZWBH\n",
       "Vg6IUL6Cw1M9g0sf0h25+ohDlig2MjBKQoJc26cn7skL/3SNeJLZycAYy25vLfOkFriKEcfQRLCB\n",
       "XqfBqP9AWSbmZr8e5TDDlzLKCe67oH5iCM3oAF9tGglKAeZbrRFJvp5F5CD0X50Ga7hdZIAWRAG1\n",
       "qangte25YlpC35LHkIZtMwzrG5oM7dW5W4vYTYLBXWxdtVTp+HGaiRM5+FzyGiOpRokAaejDjt25\n",
       "EAixlGCxteAKvYcaV8qFAQ0687ClZBv75EHp3G9oxcvUbui2G0juAn/xT/4s1DmTzDyPNKvvU3yb\n",
       "IgrpkTtnyjUyQFXP3cM0vJ5f1D6wLcslmGZhqzzIbiPSNP8oxiy1F9xDA4vpI9KSnNHDaY/iv7yn\n",
       "l961uOGM5NtPVIO7+z0EouVU9KxZaQLOYOO9qIEAAAAnQZ6nQh//AB+8IT9Bst7n4iRL4Y6C0Hf3\n",
       "BjWgvNFLhQxhqaakqGhJAAADHAGexmkQ/wAfuvZjPQpUSCgiibpPYvIbBOMzUT7egBx7stSuCNRO\n",
       "22H2pE+eRvXl+0JrDdZDWfCfUo5fFT65agW2Y9+u0BSDnmj0EF+8q5HH3PInyB/mnW6oxjEY1//8\n",
       "rBSOzVCjVAXnBOiCUZfvIoWUaHujEJQDhjSgHZ3+X7cIvM0727yr4643nTF3gKOWi+6DP2ealEcd\n",
       "CbgyM2CKRsUyv1P78Gn6zTRRwEcKZ8VAbHdXu5Cqfr1+NlJOVp8ODlq1gW7NCL8zbXlnGUEpZXVJ\n",
       "7RM5Qpqv54q9xX/4uiVayUVUylUu1gzf8yYefqKd/MqvLTipVx5H/YCx99wFuYcqg4k7GLkBSrDe\n",
       "qeB9k14ZGNT9caDA3f8hxERDh9WOTGcpaHaCS6fnYi2fRVkuERmny3gxOts6nd2+0NyVQ6ujYElQ\n",
       "5QOCuez/f0YV6XFzRam+7VY6262PsMcAdwNc/BP+386n40BSwNitCNk8ju8BWP/pEsrS58wMd1+/\n",
       "vW+nsd2RMWoEo7LlX+IoTjs2G/r2JsldZlsaMGA4FX2PheIQ9pFL/gPXHsYEb8WUK6R+1iP4eXe0\n",
       "xg2sFlpsVyPX+ygKzWjn0tT5fbK3q6W2IrJLBWUla2kMN+v45E45GkTcYohbeKjpgRV5vmfx1JQv\n",
       "tE7xSONf6vhk7UPQpQcn6vFKA67QAgAboSxGvn14iPyYO9i/Ll0mrKwEFl4mVzXwURMylJHkQgHb\n",
       "pbdPvXEgCmOAOn5SasdoAS3ih3sBs5QOLzkO1e4s+GYHljMeBbuzC8un4wjdt2gl75qb0QG/uELq\n",
       "rhaooDxEDb0uZ9rGvWIxh6TVCudGSUjXOHOyIT9I1UNu2AnELXhl/dm+g1a2VEc+aZ7nUPoIdcBk\n",
       "1Fg6ZWeqpmcnZ4TQoVnYCMnuWVNx/HDg+9SIygvOAmGSM5HTpaCAa0RhHaBe6CNtVMIum/r4Ffs/\n",
       "CqzW7lYFUu/I33BQEfdSdVWok5hATQeH+TXXhztTjzaXKlMCvHMg6pUTJY3CSwxNgLNCg7ECkAgs\n",
       "uKMcW4tVl10hmWDlo7AgrqgAAAiNQZrMSahBbJlMCCf//rUqgFNn2WVMSsr8YAjFkQDzghiRSe/6\n",
       "6hUVvnI5yKVpLvIeONkBYQG8EfSnuMzplTeZfpve6rM81TfLHQ/vO6sH0OyOe/PNSPV9FuYB5P4V\n",
       "ttZJ/YIL8aW0T/gl50ZWFGByb8QRxQNn8umCzO6WD3eEJgyV9t+L8YlM0EGaQKNL/CgDe/mVD7YZ\n",
       "bb/xF+QYNB6YU1wJE85k7TBThtDo9siRJxpPEmBCJZ6k/VIYp9n5i3pwZP5JyjiszKXAZ9l2JJi5\n",
       "S6Uq9LpUM30V91X7lchkCxuHCxXGaXLWOpXVsFcpPAovkrAQXcP/DHpk4QTgNZoPJurpWe0h890c\n",
       "sWu3rAKwx5gCf7UhLcJqr7VmjmoyHd1YRo9/Tw8RNxMMm7jqg0jvHEUHL9/R8zzdDoxkvSrzPmwk\n",
       "cEmDBIOMYbaFLpgSeeHQxVKQOrupfvP7Cl05Shi4t/ItYylz2fmiUjXo/QnEpllCMFsQlhEC57Yp\n",
       "kCvd5WNXUBs7FgoB4wpnSNssAj6XBf5qHhwcBxe132/VnewZI0UP42hMtKlyrcAzlEzNDWQhW0ru\n",
       "mjVY2NrZLlUYlpzPk1OLPOp+HtmUKrA5XO7hBcOGpEFEqFNfqCW+oSuCUSzsLJpZdPAcBfhs2iSi\n",
       "h8c7z0POktZUK5OQqLNqLCnpKX8mqfefxCAIV3O0RldmTxLvkTO9rq+7QbmNcsBL9rL1Z8W1D9Ex\n",
       "E+rqy4zi6ZyysPNKCppQaplbqybBLSwlVglL2/n7VNEPgm/aaDotZ7mnID1pMObfumMvH27YAfo5\n",
       "Kxw1Ufar6FigVpXlcoslWXjoSqnmZBdIdLQHLVx6g6GNRLKq3XOx3XHwagDlOhVB3uuGZFspC/9S\n",
       "QKI0MgVWzaMqCxu032EVJRe4EqmygTPas3vUIXquzU71uZmEeaxXkDlKK/f2lH09Ic51nxfE8ikL\n",
       "47M2bds/hwnWbY/GzqE0ihRPnLA7jHbdGgRqFUpPwYWkIa/UgV6RoEwkXgbSqPqh77JPnjLhE2FY\n",
       "cmQ/qvlEKEBmB7SP/hiHW3JzwjhS87+2WAwOCWPFEG1eZKEWMYLfZ1yusuF2mB8JaU8k3SJIxugv\n",
       "e97L2SiPBlLPmN4ancKpI0aAt5wFWEvmQ++cOCZk8XVPHwE4ss2VMgRFHrCDGsCu845t8j0g4IYi\n",
       "BnUsFPG/mxO3TcG7UEBpaaj5sSIuSdIzXL1COeTQoF4WcJnHo7BEK51IJ0lHfVQlap0uhAzJJ8L0\n",
       "1JtQa9wFyVVr6jPGDR9pHZ1mUJJ7Hws1wpBAUoAvmIdvL+SdCzDnYtInYrmrDIfITSAN5MKd0Rvy\n",
       "y8Y9Npfr/jtxOG9tTUWQ3wATXd2ssnvgXQ8/8tI5UHaKMjboKXJzKVc454ghbsWyWxSwAHvkS9F1\n",
       "r81QTmGbJq3Pu3jK3CICIgQ1w08txDRsEznBq5D1tjkszWsD3kLknbOHQUgSkxzBwInaNpXMT+Ow\n",
       "RnkgDvIjfa3/qrnHu2OKPVjDS2qQ6R9BbXXa6+nwUsR638vrCUr5xM/Ty2ZlUpurx0yx7FGqJ7dW\n",
       "Q6k0mn3mVNuT/uDktkv/K3ESGVYdwPWXxlc/xPDFladpZsziBSUQ2Kr5xbVnGdwRDcld2x64oIdf\n",
       "ttyJ3VLQCsbWxklip6HOZDEUapcc0rPIjOGx9uJC/J6L6GMcWyCFhpQ4rmjZd8kS6hOfKRUeYfXY\n",
       "9EE3JUqBcXU2+E4TaobmKfVZMZdGS1vgh0aLLAbuGJkiOPBMYb/RoZMAH9BUR81lBg79OxJxZNI8\n",
       "ohjkLSuynOM633xphlZvI7u8kqdivVjxX84p061ao3zUBetmg8dsj0y09mkrfcaHnkIHhEEieHZB\n",
       "cRnmIrzTLSfSo1M96KwfdCaWaeHvdpCu+Y9v5k6WpuMsTiPYFl+TWbyP8y7pTip/BZ14bdEQvCdt\n",
       "ByIVwmyQVc102Q62TSzAn9GuL2abwp6QUDkLBsbjzFy/tnRRXULvkUJoinjtSmRjCjla7jLth7pn\n",
       "bHRSUJWrvjIHakzFp7Udk3htFvLnlAvttk6QI1zXGZa48Q2H7LlV5UuX+kddDoFgwLO0tTRcHk/Z\n",
       "VGamwfD20b/fgfQoBuxZ3jubGR2FflmfrFKhYxNv0I9RlC8Xdw7tfJc56ENQ2G4FkrTBYOr38ZOD\n",
       "jue4YELQnV6OnUQOmvwv8nUcus+WdCkIJ3FsFZpFwsffAAn4027U6PM144H7L4Ny3gOfPZdCkxk0\n",
       "NWnL13BVkaB87x6D0u6K1BVAlJ2+hUqoSiziEIi1aw1187Dtsd5cwLv/kBdUGw+u6DrI3eAy3IFy\n",
       "dCKNk1TbiQn7pNzwpxLUmJe6A7kyb25stdGpEaKgTo0SDdLWX5EudfNQWJXG9dEIZu/gHJe0Hx4e\n",
       "MOxtko5eg87v0Hu/6NdNXhs8rQP+DNlnCyDztFdBWckjMHeoVySi045D7fN/lWPnBRpsL5/0qfEB\n",
       "6Bp2INMQNVjNQ/M8Fp1zspUbMUT9Ds1tMUPMdoUnUZDXnVDP3dxJKZIhuQp97ECOH6cQ8xet+Uoi\n",
       "CqHJRqP18GULckQLEZ49fQeSCiuLZEIyssYc/hQAxWlmV0yZclhpaU2zPSVrHtKRF3TrtodimtAV\n",
       "4jf+U+z8Fy+912iocJwSGJnzi2zZlLciSv9spVt0XNRYtqCt6hqC43mVu117vKsm9qXL7cvSgYUM\n",
       "twNBjXt1zDr85vODudHn1dcTdQIvmNwQuLxu61VxQAwSgkPdRyNC1hb163zqNxqSewP6GqLXy7OE\n",
       "EySaeyblhIpP2roJGdVr+t8Umd+9/uOE/m4nN4bhDzGFmbb/8kXDSjSmP/GSXDlzobE2U6cJ5RAn\n",
       "rnxI2CDON1d65yTUz5wGwrtYqc2tGyzUTXU8okprP0Mi1PfMC65/7BtqwBAAAAA5QZ7qRREsEP8A\n",
       "M76F7XvDUDxuXZRLf4Xq42/eeuzc73AuJgBtif2DSgAu8vYA6B6IeZX+JqRgYVOBAAAAGQGfCXRD\n",
       "/wBvi5D3ZLHZnNo1yHdZ5rZ7NNAAAAAnAZ8LakP/AGUdtA6Rq7E96T8LdzKcjqVheQ8i1Igeween\n",
       "iDCI2SxIAAAIeUGbEEmoQWyZTAgn//61KoDAdJ63QAhxiyCsH90siLz+Gwk2cNlRlvcEE3XUL9DD\n",
       "MkYSmQQBfP0aePL/Um/931HTYlHBBd2ZzupusV246Nsl2JEfpvxi5KKtARu5kCGYW6ThczTV026N\n",
       "NY0dxgRI/vdpOHTDhZHZeTDCP3aLEZ3nw6XtuoY4RGZVovbmn1yf5mYCCJY92GJI/hXwnLURsHmY\n",
       "HUZ4DnjSnBY3y/HhnPvnyGiiaj0ANlAn9D7p+qrG4AtMosswAnzxC66/Ks8ZbspwZRO9MlNHTHQS\n",
       "s23vXf6vFZ/0s4qNeK5dLTo7m9DMk0VjE/AUu7N0FXnFBp5YINPwf+kf42vsOwXtILND6eTbQ3el\n",
       "MSod2eM9NJTdMYWXj+ZoDSvbFVADq85Adqivx/ppU6oGE3qH8xD6rYeIWdRi5z+Cb15D6coR5m8s\n",
       "uRRa8KyzTTxw+FQ2m2jjV8UopKbTuWxpeUP2g1M/FB+CEQqP0434Mo/03BQgHpqf2tFljLGopcGL\n",
       "EGHlAOnmC5TE9eNIEE4h/N7af0C5jEE2MqTbPz8FwdjOInD7vHhUwqBaCHWtMAy1HGNBRkkctrAT\n",
       "kaMkCH79Q6kDkksteF4v+Gz4c7RKW4HyG58o26cUJFdQsNfvFu7t0jdKsopyhH+EGtjIubzAm4ds\n",
       "EjlP/qE5c1gFo0pOX0BdRr945Tz8kG0FlbTb9eCncTcWa1RR/HXO8dCfptOj3NM6Pj5UI5H4/05B\n",
       "eYzjMcqevePl6xwiJeCsefYMX2qtN6zyA15MK+i5RXzutIEMUdZ9y6QHhtIvc669GaBbOO6Vg0nz\n",
       "ZM+7GHBLXSoCyQskRixMTZmbmBdaT0Y9MBzi3Lo7GtWZU8vVzbH5WKZJlNaU/Ra/wT/w+67C54Ps\n",
       "/zlUOUWRdEUj0yGimNnanbf6McAj1n+ZD5S75DQEGjbZZqEKMQs7juhumlc+ldkBV7jD1h1Kbo83\n",
       "R0k3nMrw+60yg08UDhhy00quumUF+g+retV8MTTv5eUitR+zP4iS8WOunvHES1u+g5WRFwJL10ap\n",
       "rARvhFO09Q6J+aAgXINWb+iIcazCAGRTSfCe2zzWzAO2ZJ41h9ZvrYy+3MZRyl07TxTQka7rbSsr\n",
       "q2a39vwFj+lcrtdeubpx7H/e+YvPum+nti9w8OChMXx66YXtgzTZiMpbj5cIfahefdPofDq9C8Jo\n",
       "MQ03m5sv5M2rpXDQBRx8PgsqKwocMYCcojcVtu+PXoMNiw+3DSRS1RAsvWhhSIK15AD7yiBgMTbn\n",
       "wYOgAivYBkATVNoyT1RGYZ2Y2xrdzZHoV23IKRQRpO82bzMna1Q5YF9zFJYPD8WV2GIz1GpYaBnN\n",
       "GDYYR/jVjzJkkrxj6IFR8c5f2NIEF6ey6C2ybwIFKRhMgDv4i2x1yJRiqGXItlC3aUELl17DXAYs\n",
       "hi48ZLm94A155mf+NYoCFkU0yFaJF2/+gd/8FQpwmLtUVcU7IS/l9oJKKN/zGJCOjQAF64msJi4q\n",
       "eEYK5ZpKHdMiXiyPoaK8/Rnw1aZ5/PoBTIZzNdMDu/i+mT9tCwBzOav4sT/gUkURwtifxGtqJzt2\n",
       "kb9a51RmFTBeZOUV2OeSCA0Iw5lpup/DTl+dq1j0u3XuINXFpQAsgPWauvKJuROhWts4PDhQtwnI\n",
       "JG1vgPa5PxB23+5vCvR38IE05yOzyVxWCGQT7epTb9qFRh28SfXv/wfJuvwRFunagYOCErktBhK/\n",
       "DnUcgX0W8EwEb+EOFB6LL2XEwWWcWY9ZWjLZ2DDNEKPDy/Fdht1JmmTTElT2LY0/aARiBLmyozIE\n",
       "k9Z3D7XnTdBDjvVDUH2BR4wwuMv/tj0nigrE/MvrSqAIFPXmt1dbkU0cEhTrh+TST2FY7BxdwygA\n",
       "gohlkPBwSCYJnJrLohnZkoEwvzh0DXtvu5UpsCfTMOasDz2i3wZe+a7+c9F50lEPrxOJ0GAeCabD\n",
       "VvX2jybNl1/Wpuak0yf4t4gmRnCkrYJxvpKQPjopXcH/RNL9OzygjwxTFPmlTpGi83502O4LXMQ+\n",
       "DoL74TmGW5xePRHL76cBPHOYSiytVBfTyOXWnakQ2q60fKfJ7VKSYjnoeEbSYTHZiSdBezSObwX7\n",
       "TuFvKXnp1bW/Jhd3jApTQRAARm42tGXcfjAKEH19rqH6TojSBrpZ/WFGFf36mgUISBkyMcxTrRvf\n",
       "ZpWuk9UpBOIZxbVUAP799FRQVH3ZtC0GjZ/8t47ThzUT1QwL6o2RGhaiJ2PZiSX10RsyKAMM7Y9s\n",
       "o6iB78eaL5bOYO5Ibjv5A9UcG1VOhvs99k50FrAI0OeXa5Gu50KmufBuQ7GwfowK+odZIKllAOVK\n",
       "ZXiP5CSsZfKQoGJ+Fz4ZJcBFP7xXqxCBXgM/MdJtBCVNQyYKrFH60QLLI9In++IcZw1KNGnYzyne\n",
       "gzVTsCajqx91yPmjZFxH/CIoNNqmqFmS0hfni3le/vukqizwH18mQA278X67PeMF13VBskWbtkXL\n",
       "REPYHw9rpYBS+OY7HByyR0hEi24/xZ6skC8jqJ/aMS11smWlnGUprr8ZyKuSrsW/wPNch4+r8QbL\n",
       "+C8zc3g0l40l4x6SuZCO7bQqXXwlvmZFSjL7gi9//2KCA+mgZRKrkT/AceeA1wAH3rEH6aFrK2sc\n",
       "RdjkTjFyPfFUTPR4NPZO53rRM9GWcXmE+nNBy1jUMhNTNXgxfDFtpRmIDm0aBrwHu8G1/NHA+NXL\n",
       "4yCc96wZuOCRgxGII7MlmCGEOi2C7IFuFDIdqX4JjZHsaFb1/hFrCxYQc0tmQ1ZX3IaRv9cDLO/7\n",
       "M7neQQEc/UXtbxZ23ro4EntNPfXcqgFWKTomEYwCMcTHTgq8J0u+UP8A7n45q0/fApI5SQ4FCNez\n",
       "pxcF8VlRROCsXAjpgQAAAFtBny5FFSwQ/wBIPOmTy3np/Ami4AUJ3opj8KdXlFuhRP8LrgQaKrxJ\n",
       "Zz1QprrFxZsCZ5yjP1mlNF8eLn9jk8/AAVanFI1qsATZsrk3mGtjBBNi6Uw59j1WThFxAAAALAGf\n",
       "TXRD/wCW3JMZ6FKt34oK4uZj7Edm6+eIH2OlQALJ9E66QR+srbKQfYspAAAAIgGfT2pD/wBlHbQk\n",
       "uvMfnLngqraXnBqSipoMxNCmC0E8ipgAAAw7QZtRSahBbJlMCCf//rUqgWbpR4z5uNgkADcSoj1/\n",
       "HjcAfgrFF5jnBfoFFwxYhk5hiDceye2heG0tXmIaMYYm1DjyPTXe5cfACLXs19bPhPFg8TVP06jW\n",
       "1yCyXg3Sr1+/nAKJOU9uvCQ34dkptVB+pAFSH6hc+tsOLQjkEqRmnMBzss2HLyGtNVGYNW0LSQ4J\n",
       "fou7FguMAttVLHvyoFjxPTVJosa/yxElnne+FMHSwQXc0j8vdhID5+PMbk3SYe9TlIzF3dsnjFlP\n",
       "lW7FwiHvVxMIA+aOxj4PykVY7AViX1nXt/MLSt1SzW5CS/AKZ7scALQ6fz3NECXXNajF/TzTz4cC\n",
       "sZzFkEGDyhzT9sU3i/0H5cysZhR+0ob2oIf0ePZgsusnhQJHIXMsz/dFi3V8p02sfFWgPKcqN6JH\n",
       "rZ66ZC2FwIbm+WSXDThc3qyPpbPcchnHZqOON5WU1XTmv1aPgZ8AxdSNBzFcsSwNnf6W99NGe3S2\n",
       "gfvNr4eWXltO6AEegj/mwalzz5e3QepSRxDF/R1IDwG7dbik9ei3z0F7vntQg8CUbOZ1NEEzbjcl\n",
       "CGI1z6P6glejPUqXIiok6Yjzgy+tcwmavdgQ+KbFBxUaTBDouU4ILi5FBZx3FCZmFYp95m04oobt\n",
       "uvIlvf5R2x1LEtRYj+9ie3118vvc2+3wuHWAxElH/Ld+ve7VLDBrA4/NOoADaPDCpxmrjeCghHA0\n",
       "0Kxpx1brbWMjqFZS823poKxRNNbYujXx4+D/B24t/Tc395udFzU8S/FYkMqa8iyzgrELmDogz7+X\n",
       "4SXPh7kDn0aa21ZlTfOTcdBdjRqB11HkwpyNTwK4dx0w9kLdH49gHg70YgVAz2ohYjOhu2SRte7b\n",
       "Fy4B3q7iGh3DJNkQdyC90ap/ehFjJkUHesF7Lgsbrf8UQHz9B1yHvNItZPUxsyxz8prBuDVnb6pO\n",
       "Cdg3kGKz/w7eq7YtI4upAscqqS33SkSqvUgV1uIgAi2ulclKhkq+vtgWkuS62gzYeW6Pkri3438c\n",
       "q6FmYvZCgBU8pR6n7bwJvaKO4nXIqgycmvzIZVGVC2KGIqBpak1BSwqbdtDQPJ2zjLIbzH7f5Aqs\n",
       "whZHOG1KanXfaUaRf3FgqAc5E01wobo39sxgcetdg72afLE6wGu10cl61qDRPInF3seQ0h1wcah3\n",
       "pkWWZ4nmA9BgX4iZK6d3XDPtsru84glRpjT6covSlmdP3DV6UKnRjJX73ioUm9lwCuEj5nEI4fxC\n",
       "HyTZ/0040zB7Fk3y9MUBqmQG4BKekdj0jBp+tq7UGAABlN+5fZE5TRYavKpN+QoaADJA/sjQVWL1\n",
       "se/usDta3Wq9ckxJyAE9Gb0LB/Z7W6s19WI4UEL6KJKFYL1vCiWFTxHYj/tRiQCuPTGmw3r+ev/o\n",
       "WW4skEIxQS2Cot1xB9qBy0qWydsbzAN7lvFzpYM2uKDLFFYf+4jC2oQh+9L851tqvdOXZY1tJGIN\n",
       "Zoj8F72E874bk0bAMvOrQAly/Vcj7+l/oygjoyCYahWIam1iakDikijIylOoRR4rZyqw3ROlPVEc\n",
       "z2xtH2RL+45Zd7Y9mM4nkoE7ur5GVOP+lD5g1JZ7V+7FKfUvlW1LOm0WDYV3vWxU4kwrjkHmqQyv\n",
       "ekquhzmSKsdFy+oxumytygm4u5iHxyTmDsXuajq+bj5H4RPZ4oy996GqL+8I/wiL0K+/gkOvodC7\n",
       "+HmcVIXs8dO+4xRRw9EHf0/wapHPlcuknMNHx3/gHsAPVwIqeZvp86u+WYS2sg8lq3WJuqRtPp7/\n",
       "jUOV2v2bQ5iNW/bsHAq7BQ+8bqLMeRZO1bjol4PqUrBRb9xfTnoSDXFR8b/UthEs+G7u32gLZLYn\n",
       "ycjQ/dOgyRtF4cX8mBNrBftx2434XdIDalggxCiu1TTrog2W9HCzk2nInkntfK1aaGrGqpkvZypv\n",
       "L/3r9GDlkxOpfXsSnQC5IpYydSVnjYBqeXGtH1inpMripnCKVs14M9JAQQAu7JHTkCffWjb4lVSX\n",
       "6Pwq2xj5nM/3Uc7eReEYwzYOYbsbPZcdiEB9KQHix1Ee3daZ5jMc4F9+Sy3fr3dNM6/ntZ6aoulV\n",
       "bP3gp4PKtK5nyfYH7TIYtUJeCVO/mppkx/9adlOUAHkQfkYQAy3TBKXnU4V3NPsiMihdSRldsS4a\n",
       "X/eDGf6z8hwqolJEtyUZYNcxg0K0MjKivFrNN4+Hqzy53iijbrQdebsDKxvuOBO/ppVzL6kdKEMh\n",
       "vYY6J6rNixgWluXo9FWayKQrWN0A3hEFjODSeyTR11qri33HEbkWzQEwsytM1EJrT0vuW1Ydw1Lf\n",
       "cB0Hau6S1xEgwQtL0Na3ecBvC4+r9D65ob420zkH4QCUPTMHFLLQOS5O+/aPtf6tvV36n1r7uavr\n",
       "0I+4Woa53VGL8OX8W6j49Ogz47WzCwsHVUL+WQaK4MMQM9sWPQQZe074HxMebllopESPg0Gs9/Se\n",
       "gbV4JB12wFYL+1r6jU3J5itc4ib7NpUc6TPVhFSBya+HZdwkjWYWtUQXLtSNfJNFLZrl4yySw1VU\n",
       "w7ocqrApEy4Omh4bzzyu4u7oIcbiu7FpJ0wu9eede7uXVdy2jmt2UMACLsfhC+MVYbpFbqog0XXT\n",
       "9ytJC13OmJXqD6WlcuvP7FWxzau7XCFIFioyO+6g22rb3ydDlGbhLSyXqhnfT1SUo6WDvGtD4z3O\n",
       "R2LzC0Yy+boybKFqAkbt5qrB1Fosf0IMy8fmkdTHugi/lAOr2gIGvpZGryaK36o+qP7kMoOwpJiN\n",
       "BpPDdF5Aedi9Po1I7T0yXkkB7xw9tEpUFXADILsj/+NSTCtodvO8pNgqInfcm6Z04s8/f0dWhdUM\n",
       "6SEzqi+K0O37h37f30s7nXJOmH854iLDjpLrX2xzOcxR7P48yRyQHTta7w0SMeV6KkFHTNLZVZGN\n",
       "zpvbaZzBlW9ymb+e1vDQj2ZR+QAiN1nvFxx7Ha4lggHOAFjvkDc4y56stCoScwSV/iiRaPlb8BnI\n",
       "DEhPtHOGrTrGCLjeXi+Iy2kV4VJEz52kmeZ/gQKSI2UMHHeOylWVvl8oxxpNTxZdWoh9IeV1R4Vj\n",
       "dW0keMFkW8Q4z9akY7IO+/eV4L2PJPxdaM0mVAzuBJjtAoA778MW72L+B4zG5+VYpT8szCzyfAEa\n",
       "ngDE3fEhIXjFYk4IdErv7okeT0jA2Clgn77/ZUcOUvw5cwG1wzhsSxB5k4wS2y4oDhywugwU1kvP\n",
       "VeHblJD/P+F0ta26YZYCRrFB5QaWXIWJbu8HKQVaUW1Lt0cfwnG4waEKM23o7oFBgCMndo7ITMsE\n",
       "I7N49MXWrqWs1pgu7mwiTn0J1p4EVMLXZZWAt/1HuEIxn+xkqBH6RlsYymyCM/RpjRtDcKTq6xPX\n",
       "OvyTwyxCicTPPYbe6YBu8Yvrq9/Ev3nVDp3jT7RyIDatIeGEf/H1KQ8JkSuVG0OerP9eiAav8bhH\n",
       "ciLQDNUvGNpytuLsBlOof/VrxF5T/f5K71EX6JZbkwmphZt4irrYMpgO5jT+AvNR11VYKO3GAu9C\n",
       "YRxwKsLj9qtkh8H21W+GCTSY09AMf5oPFquZRc1+ayBB8uNdtMH7gU6LtQo2811oQgovNd3yhxz4\n",
       "V8KPf+E1ClpSyrRhhfmdcBieVxA8OuKFamBwuPP6hJqiYbOwMVqsJcjdMBTS4IHvjk7aveLl6Ovu\n",
       "KJ5krnH7sIBJAN9nmtcN4NE1AXO1L/p15NrQhxU34k2UPBAo7Lacpn+uNo166GJY7VumGuGiewGB\n",
       "/WVEvS8FqQ9RE2Lf6FtN4XDsveerUvjXuRAncGQByQZf3/dYy6USo1PKI9sGYUNx+sozHBJOEm9u\n",
       "46/PDkn01D2W0W2mCvd1338zi7LeqCROrUzLkfO9QmDO7CGhK+y5Ruj4fhfiqdcWQw7RxWBZcFjJ\n",
       "9kcEv949T5Mgs/Ma6lvNmakiZbamsSN9wH94vUbq+TLg5wg7Ul1hhfI1DGUe+mvtG6JiOJ5C/kU+\n",
       "lbAIu0mY2kpLh6LFFQZEGu8H2Bt+xZSpHrRurUHPSob7+7uatBIuu4xEp6qHICd/o3qFa00je7m0\n",
       "Nkw0msQaRvNpDnm2UCwiJkdVYONSx5h2XDcTsgWNSBnrCEjN0G7E8XbYzcwtOz3QmqxMrc30eLVn\n",
       "O1ZCMmM0SwMQFy9jTJ83Clkg/jjIf8cAAAgVQZt1SeEKUmUwIJ///rUqgWbSXd3W4ub8rUnZRgYO\n",
       "LcOKMe+7nO3GQwnFmel0gbG0veej8dSeB4yEhKXzNNG6+KTchFbsN2kpsWqoXddyPetG0XnzQT70\n",
       "bYtiT8PgyLqTPUjMtRF6IUNOpEpI18yl/CBMLtEyGSTae9/Xj1IlFvIR74VrPmN5icrmT8ho/ZaQ\n",
       "CaZTqfc7i/elQULDBf0+/ol4vVPah5yjI2Bo6s3tdVp3Eu7W3zY/Fn3aryrpi7vgyJBa6jOMXDOH\n",
       "gqJjOf/WmcbuGIy/Sr3gNPjBRRiefeDNX9E0JTqWpJwc0bpDvbVbP2F1va5NmtPF3QtwgvB70qi/\n",
       "i6kulkbEfTDlIid89L1SN1cknGJjivJERrgMjMk6hss3Ev4LraBPz6rqa1LJRVoRC/NtcHb4gNb+\n",
       "hHVnYECB9vWC70tgEZTNzR9PnYnJVHciSqMZ8+jn1RbE47UmwLFwptlX261z+8uWjFJq2CpFludt\n",
       "syUKKMQ0dGX5W9Emldq9fkr9E5dh6VIWousJ92eQ9fMsGmREffn+CqS/ZICiB0AoWnuVCFJaky2p\n",
       "sdXSI/jb+wizGrnnJ3s+cfag4vxazORrJ6Mjf2xQ/D2Q9OBZ9xZZphXupxgfhwp6c8wBiuhnFg/2\n",
       "pP0kzfGVgDDs918lhreLVpNudG9vBYiX+8xsTnVJNBnudWq0IIDS+rABxOY419q1lW6ZkjqAywIj\n",
       "+pg/hPpu3UBpEHxnugr5fbfMPu8L7V3WmTTTi6Fgk6rLnYXajsLR+QAxsOUTxfZUuBZTL78P0F3I\n",
       "P7FNVlBFn5+ZBo3TGZg3wld4A7kaZvOEam/ICalGuk2RkSRzE98SoiFS/HuDmd5HFD2CsvUM0Pkh\n",
       "ZPMr8SBsMu3EP51Ix+rTRcl35Hb9PA6pqPbRk59ft5g/EaIoXxtImXOR78vK0Hs5u/+QRplAp7hb\n",
       "W0Fkb5vODv4BLG/5rZUrBLs2UstTYosmJJ6+cT/1hbDj12FcdJvodblo/sXocSMfBrpGXmPZNe3D\n",
       "dOFZh5HsVhf2obPPf/7gYhxzh3FjFTKKVIqG+2xhFLKv6Oj7a6Co1bpja0RgIJLumfQVkGal+MqB\n",
       "M3I2ebUHppaNo6wukWHFYJbRYN5Pw26Rsp3Aw5dSOP6TS1R9znAWMQ56g6T6Cs1Y6JHDwrTEVfNU\n",
       "7ihvwy4GlsYjXumrJZ1R8mLK4yEBd2sdiK+RRujn7CfNne/veGcsr8c7YsY2MrqpU4UdnT6yklt1\n",
       "2fpaSImGArHo1h1yBiY/BasLvH5bBblFA2OCZ0IhJks3cR+C5OC8K8iA3yIy1h3I/BzyjEpzLzSC\n",
       "wrjs1Gi3eFL1Oa0tF0p/CyoDSFE4Weocv19xmceVxztKD6hMHiMO5qprgS3pSNEEbMpMCI2DRwAo\n",
       "LWyQrssj6dH5yLwFRV6zx9pWB6eOLj69wztOGwubsNtlP2OX78DNb7k3sU3BMq33kWTIQkId68t2\n",
       "2OZZyw52dsnTOCYdS2ziKubOvnLRpwL+7nmjG5PXjPHZ3krNVqovfyjlkkvzaDL9gVw9bDAG8jRW\n",
       "bhVLWwxJlk58FgDK7Kk7ChCWX1Yi1g4uApiXP19mMFYN5QTmak8jOq+9MAttuiFDSzWcZTnWr9QQ\n",
       "F/utRhup4nif1FSN7yRVp7P9enCL3A1NQKQsAVqfQQhXfMmTWMucGZnTTEwkR9ZK6NU4+3Rl8xpm\n",
       "x/iTq224MPXQSG6lpbgDj+9A7T9r6kz+q0UApjpdTR8vx+emBX1+toJRahNsPT3GgyL7TbcxJhpl\n",
       "g4/Jb/Y2h7m/EKfwl5Z7rFLpnCfFDZCFa+TqS1Ju+h11U6/V/3XhZKfP6mc9InsLojF0d3fzpEON\n",
       "xgFIM+PupLlGzR6V6HbYtdu26d5sYBqbEFFj69gbz2eVoOPCMX4SVfTle4RwQAPkseGw/8gL7AOR\n",
       "489N0F0D4QC6TBn13HArsFaFucLfbmp+N4ofJameiSBGMlkIlFztZIemm/4d083uuPu+Wk2vxBdk\n",
       "305AZjDXvh+eCGxXEZp8K7cRYObzyVIic7uwbD4Sqtto95ckESeBgjLOEcIYQcqH80MW8Phhow6G\n",
       "orzr106XuQpu850+HqJ4o+i6mu+VdLkDEqsFEjmqWNM+NH1GdI8dFdGePuc88AjS1GKD9vlxpPTl\n",
       "NdzeXqCFaBGBavsbeeBpk0ILXpSsAZ/cVh8zb58VTvwkBR5poHARGlMgyMMIZG1/EAVXQcOmhIHm\n",
       "O78dYaUT3gvOgOdPDtGTDjpSULbPv8MRrmxeSc8OZlepLUSV+m7AHFxVE/v9zLR7myw3vpr+wMc9\n",
       "9DonN2O5cYclhsIfdvbsca2cLEhwM1AOGrcKFRdRocQKSkl4sJ/+D5X54XqzYWZh+9ofLGpIyepN\n",
       "opbiwXDXvfsTzGtWRiLXIs/MwBJf3RnaKYNWoGvE8SfAshxrNd2rYtiHXI1cG3Kzozm+6G0scs7a\n",
       "+q9gksGt8/OCXQCuEAdqfN4ClyCVBkuuYgD0LLHP4bmcYUvhWFxNDDuLKnSyFYsvb3bwy5ObzZKC\n",
       "yuYlpL1jlYHz+liwGSU0YKy6/eU/QGp73iOIZuQmAzW/26VKKcsa806ujojVGCWLTqWBFcVNiR1j\n",
       "gey53z6tETpcY+wGxdRyZgJYi40G9zegbmtg2Nt+3og9c7iUuzL/n0RxAe6JFfzudXWZgEdnY3q1\n",
       "qWVumNzzu5G7pWkVGhFT6/aRLFwa30gy3VK8khx7bLqI3usvkVZB0rRQPYEAAAB9QZ+TRTRMEP8A\n",
       "LkjY1J88jyW4JWyT3MSONaOHCQP7G5fAEEf3ZLsyqtQnKG/cZncBXuVWh4t//KTy8diSnqBtlzFS\n",
       "Ltk1vp/2G/+97xHwxtx/1VjZ+d+8qpEAYR+vpcSlkarOPxY89Ymnvsmdk5ZkjGDhfuS7Rf12z1l2\n",
       "iGgAAABiAZ+ydEP/AGUKVGogWAmmyjYBhe7VqGFSzrriAFh9VYBFdn8Xaa/T2osRboOs91N16ezg\n",
       "V+dtbtMX0kDFMw1cuX9LouXEWLMsR2V0aj/KboXFGh3iFHBrrfzMI2VYaYuLlkAAAAAjAZ+0akP/\n",
       "AGUds79aNfjmcsxtuew78GqgBGx0glN0z6+WQaEAAA3kQZu4SahBaJlMCCf//rUqgAsoDWYAoTIg\n",
       "Lsi+O843ixn+c2N/FZBo/mOdDa1JZtMsQ1FGfJqQFcrL8PpeyWkxmFgt8kijlgFpWLFGhgxW4Hyp\n",
       "A/WRvkiO8WwhsvaeuoxhZiAu6FfEu2X54Xfnz5GRXwTAi35pfYX1NS4JHAA4XC7lx/aAcofehk5K\n",
       "O/EaiAzkOVlMLVc+awoc6EI9bjTv2yDyxruR0QoU59DnifSk0BiPNYwCT53fQJ5Hu/N9meT09M4S\n",
       "imlMw7jI60cHg8+FU7RXftlC4E6VgX2FwpbDzGkfmqBmzanWv8bYIH03lrY369oA0ilhM3XgBDQa\n",
       "sTtEKVpKzGjkfB1SOv2Fcv8cLcpEPTuRltl4VLgvqq56ckmgdulvKFA5XIoQD8Qv0bHTb8cJXXzd\n",
       "yqdnsxdNG81AqS4XfA64honAORd9MSUePgVgm4RU4hxGL97H1TXITa3EYelFFV3NxbyPBr+CKZDF\n",
       "GUCGCmesx8yFtGW7wMjpu6mYJpUtI7JlVi67YOrTcWafpJdqdz6vUEQR6FBcGbX2WaHvrXRCR68L\n",
       "GUimXXgEh+gK2Z+gwXt0oQ2sRWlKJm48z9+EdjQU8Bn22tIp3UV4ulCDvb5roSLE1uj3rF9goYnS\n",
       "gAACnpmdA0Em3l97j9rinZbTkzu+Wnb0FhtQ8fzkrPxPhf39V/FhnBOAdgnqfPMCEMzVc/OydyEv\n",
       "JOkXEU2imUxbl3zu+v2blUHZmTB8uMty+9V6eNgb5JzFACAz0V4NVMw0kHxoKGNCDZu4yX7sr2VU\n",
       "3foLx2Q0YI8zFjvrfkXGR0gM0+/7IlGFHxy9xlurX++ViIbQknTSIheXi8gNJb6daWF3jp3tDMxS\n",
       "vcqjqPcFeH8zZjHD4ilqQGiLW0TKND4q5SEG2vw3gBOOQkvqEIKA5hfV9LEBAXxd6nrUhdKlKh2N\n",
       "HNYsuEQOU7Mp7fBSrodM1mB7Ie9xjI0HNNOUQh/MA1Xq+QbtMXddtmpvsoI3Gj4Gh9BJuIb8wQpL\n",
       "DDe+x4MXuKV/4meWLzpl16ki0duY4/tNs3Uo59w6JuvQUZ1+Oonb6iEDCWej8QsrN9pH+tQtD+aU\n",
       "zRbenZEBCsP4HwyjyUHsA4O6ezRQkKtwqYrcXl2/2cVm935sbHmEwSoDMsjYraFojeeXR5TI4iwP\n",
       "oyutn5KoUc4OcSpp3RwcRZwshTN5VzHkHVCibuWjZXAUll39l5DutNCzLbZYVY5sGRPdDIVL615f\n",
       "P2IqERiEbTW3FZsnBr6ax7RnxT/MRph4nAs+FKBzTfcrlq25WQsgxnqxlbiYW215i8RJzyvNpFlB\n",
       "/ixK6cJGg+6LOPIr0swGcSpbb6bWBPO9Y/ZYzh9sqr2Nb6cs+E219mGcgx2G7fFJCM+9Bnveicg8\n",
       "GLaAhQGzHeYiaEIb4FOtFlZCsHRzFlQch/Qwj/oR0ttyCKlp1Y2JtAErEtoPA/FJlbgg1GLu8P8X\n",
       "d7tU6IZCm2+nQTJ+KnvL+BBvRmxTWOeM87p1LL1JY38tZfHa2EhWTSAA7xH2qFM1RC442vz918kp\n",
       "MS1A6G+n0VtSmrhE0ckGFsiVI7Du9OOvPDge6f9MPXMGjuAXNkyksRtQtU1xTVjfl0vETfMxd/te\n",
       "+MjKJbBQbWUYZBNONxmAFCXhCHDI7RF1zMj50jvFqllWd9MjGKtH06sCLhZZHGs8Bt+rHHf2//xw\n",
       "kpsa+CEc81IjLYnuZY9aWSsAFyjfqkYKOkyBjvl82BkOj7u/ZjEkv3FqHpKccAx9iX7WDY7LaGKV\n",
       "Z0FX4tdID6boXD196ZlKgikkJ6dYDu/dlvk7hN06cOo69Uw4yie/USgznRA4lhiijX9qeBxOCjgR\n",
       "Gu/f/uGFeqaEVQRhQnD8f7U/AzBN3vYdxgKiOLCv1sfQ4y50uGk7c+w+vN+3eNmGRVtu/4/S7CLU\n",
       "dX4ru6m8vzM2CYo6u7jQdc5B4y7z1bxZR8adGllGukPy5NxBNK+ark4BSxfByHkNezLBl/oLk5EX\n",
       "ox2796B9ju4sNxYePjITOd0Luk/9SEh09zlWC5PtfiIK4XhkJf6xXHS/8Qh7pbuUULRGx6W2G+nd\n",
       "+AsnoodIZEGbNwqrXNqSgoSP2Q29DgLZ7VUXlCNJqBNxdSs2AhQSv4dHf6j4ZDsZ2y5KZE4tGtaK\n",
       "b9/0ZVBmDd06caFfA3SJU0LeZCdas//C1eXs57QEK5EgvYHb6l/hjRfDhbfNd+yG3TM4huFHchAx\n",
       "gfVgjmkfZ1tE9fHuZiy+DQ/1N5aFSlXdAO0hz6HpU123BiTYXgwoEe51v3dQZvM78/GcNppoubEh\n",
       "G2JqB0FgihdeAY4jmI/LqNwPZWdW0TOR5VgnPxth/m4yPax+/Sn68SMQJ9c7GMcy638RK3re2zcp\n",
       "b4mJ64uroV/BJh7EDMcwNDMV9HnjefBevRMFuTVU/4p70FKKyz0zq/VJ6i1VtFlnWtPyasCNHO7j\n",
       "GxXfzPx06+116RVArUcmXEyc2LBlTPPxr8pagSY/cZUQjRGZ6J/+zDfuzh5YVh3gbgSyA88aF84H\n",
       "JC/RdPq0n4hUMKF3QCuTaN1IUdbzMh7HRoH1JlOFUz/F5sD11FccBSLlCwbmGkwAADhRQUHgXqeX\n",
       "OQTudx05TYBx5dLJTMjJdt2raX9pCf+5EFQilZnM/ZeY2CK37XuU8qaiNExk1ISEGR8O5cbM0woF\n",
       "mNDyPfHHxjKSW7wATx1bXRMMsmcQ9GQKU5BrfCR+Mz7blWPcksSplUD9rloRKMJMU9wbDj5aBP5Z\n",
       "u+Y78CNk1MTN9XxFdPxjhyG+Y46gd/fejY8ZA5NzbV4WKbxV36OuU1NKYalHQo75rRAdKDxjzoyG\n",
       "IwIjs4WNZjYUZT/BQ3LuuMwbB6A5OdrrBm6emzUxo3YlGpUjQuXavmKec+wv8kDTFS4SjF6h0+MO\n",
       "vGJgmcJIf+CvfXbDl96qwaV2PSHfx9Wb5JJz9glXggr1Z9cOi7Rm1EzT95v/uHlVfed2c3j3EmUL\n",
       "3+jQi2jlOFcsEO9UVyfriVHwGVtB1XXW4jFKQROn65AhcI40PgY4DwolmMwRMgFQoYW8Kt5GaXvY\n",
       "LFGEluv/amIlVjrYvwSOTl1t69w8QRA34HPcdGrLDy0dFAg/fc0yezqZtCqwCQN0HSi4jhsQA2Kc\n",
       "iGajontL2edq4HoLdf8yfsMLkV1WCfpvJ7CEXPWqUSXKGDVwzMhy6v3pmBrVm2L50A91dbL5znbd\n",
       "OqJmhAb3PIfoQTjXEGxB2NWnvXOpDkrZ6rsSZTIx+dvoPfCs5Ifl/zynVN1NE76oQsE4YFm3OJ23\n",
       "ha5SJx6dztAS9BmUPFhMFjiji/OYf+c8mgHlpapl4lBvwgn3LOAWc7VNjM0o4u+GJhmPFP0O5yxu\n",
       "6/UaBoEJ0gwlbRWBcChRixpi/+4C+7XvOaV14jnhHhyQVeIgFMx5UgCThcOaGzUPiGKP0Ifr+JGb\n",
       "OShPhxuC2ORZjbReLrTAf4iUi8wVid75wpt3sFVuN7oc5IG2t43bdqZciCNnIqtQ/vyfGhm5Dwct\n",
       "48hSCKVMKKT1VwRGk4Omk3TERClDSWPnf7kP27BGCl6Y/4O7w6W9+iuqcjJYH1dRsc3rGnSqYMmo\n",
       "X4CNxfo4hWXXJ0SZJ05Bv1ombVzZPONRm9Gc4xsxkyBtlkDygz3a+gb2J8Y/3WLkpo5Qq6o3pLKm\n",
       "2EdRfJJ7iYYqLx2k6B03q3+LnPeDILWKGOxq0+5VR2p94pH0GlvmkJknCgOlNR69simPhZKUUjt5\n",
       "jAEUVgDNfE45bLCyIUtsv7DsqWTfRI4o7DJIDDB0h18jbBU/BjqOiOavoB9iUaP/ivm0feNrA7aR\n",
       "YVqmb/igB2Qbd46wjCHAK7yupjTyr114sCWg2ZcEGZv0ZXetMNqWqjuoiacQuP0mRYCdKAjMdpyL\n",
       "Bjv2ujjkMfHbRW3KkNVaAUvVbQ1os2O/TUmXkua6YCGfC7JXXWyAVkYOKZdu+HiOhysdWg5bjwiI\n",
       "ATHDZNk00+6hde+3rTM2TENpQbcuEtPb30NXTzbZyjfrT/prOfEUgPUgZHpVKwD4e55R+zjUWUvD\n",
       "jnylD6AU5PEz28pnFiV10vF5nJK7XDgfMdIH5dhY7Mss3KqcEBH6Ed4KSz/2hay2M37oZIofnWhq\n",
       "mnwB3XtohQoQyohUvvz6sorUH0seGnDQj5S+qVCpnI+Jopi8PBKy7TMDwTZeDbUqZXcPxZQ6ph7n\n",
       "4NI7RQttVcw+GeXyMuPbPlyJj/KP/uK6dF+M4sU0+b09WAf8JAviD2eam60eewob8y1Hxu1x/owA\n",
       "OtJcSSDs4Qs1lXYMULf4vdgB8+RG3J8bctvPjhYn4br7IzxsSh1jcoaQRRLhTWIAphLqozOQFY2T\n",
       "b7v0A8dhvzlPXHlKuPDUsxJzOq9TbkZkqPENiotPYs+6LYQE6wbL3REIC2FlAMv3ZeSEBXNKBzps\n",
       "HHkC56ume5zzwxlceE5Gc7FA1mKquPYaZglhVSWfEsyJlH7rCTXF38pL/v2uVobHCfCyHr8K+QhU\n",
       "Ce0q0aovEkoZ9w/hlhcEL+4caVM0IFvMMKX6VqV2488FzPFOLoimjzZFFntjwDLwc3/dFGtZKJEO\n",
       "QP9YmsMql6xdz5Txf6QZrL4OC7yXOfjyMvxBdhVtaQgVgob0hsl22946EXGPA4KBizAGGeh/0Nnw\n",
       "nN2dfKvCJUwWGIcCH4r2lQKGxwgXwEkC5Pejzqhex/42YCIs0xcq7B/h1GWfp7DTUvKJLLmduAAA\n",
       "AEFBn9dCH/8AZSbQIxM5ehE+kU+LRhEaogmFKpPkgYAtU+U0oGsFIdjqh4huoK5rIysW5dLrz8NV\n",
       "6QAPyaRj5Os3TQAAAa8Bn/ZpEP8AZQpUgkA4tIzPvxCE/7SnRfiKCQ4An3g5krgBV9LebInGA4S7\n",
       "AAFpNL7BXC32/IjgSDXAOPq9axPVME12PRhv1BI/QTUd55iZCuKK1XdUbTVbVWr5OoCWxjo+uUEM\n",
       "JtjkZwu6LCeN52Dv9tDqkWWzrq68nuzWVx6mLGiFL90TVwF6dbQHmGdVS6g3nfNTchQMtD4gefBy\n",
       "YjTzXruYjBUYT0BG4nrhy6wWfP2VGISuHRl98gwTOsLB6InC+krLYexGQ7ZBHkp5mARaF2VMh9uK\n",
       "gTcnkmHCQqNlNAzYtbszpvAllmCResrrWXutIKAre3HLkXqVHT1lvhI70nIle2VYLGVP1GVfCtu3\n",
       "N9BLVM4Qpkxkb7Je314c8+hwoRI94/BB35RFl4U9kENND1bOSaRUMq5TAIqIcmWaHyeS/8KOKxBS\n",
       "rDnlCZiJafKwj/vUl/3jDDRk+mR2MxX9Gedc9cYGHWdRcBM5j9sXSzuej740ID3vFZKm2fV+RRr7\n",
       "nkXJwLJ3yUuYris2wyHvf+tGXlR+Le+4w9RFwNJwBELh7djwtfLF+jLUHUXNgQAABlNBm/xJqEFs\n",
       "mUwIJ//+tSqAUmuuAEHyXPQSjQ/stQzGTODwlwjFrmTZaBJfGwc65MK6P6qr83NJqoEmR4WBQ/Ba\n",
       "wWwVr+eDM3LIQrrlkKhbYUndASre06eUsG+aiOcsoxjNFu4Sw1v2aqMt/9o3LM1cE3L6xSr0R+MZ\n",
       "/sVjo82J61f4uB4JHrgPqqohYI6gCTsDNABZYnfCA1FaYPZT1dTAGwon8y754xSiRbJg7iCbjfMj\n",
       "2P06RVu5KyNYAKhQQeatYkZfo04BwZUo3bgB6okP88b9VLeOIJJPBhg8/5OxUgKbNT8kwqlBc/xa\n",
       "qk2AQGIYbC8H8s1Y2G9/Fm9FM7V3QnTd9N914Yk8tMqlNW/EL+duOj479O3umKKsqNKYB4P+jK9B\n",
       "D6J5ME8jUcnjcDgFYPbTebloGTh6T4SX/OXJXxS0+4fWnumK/OS0ZtUvMn715XOrcxiFZChPwIK8\n",
       "ZUcCL22bQE67rBsIE2VtjZ+sduMupfvP/TvZzAWL9E/KdZBKy60ET6krOQBCcZJUGIXlbl9hnKcA\n",
       "lRqyUgJNvHl8vko6SUrtnh4Pn9ohZ7wUBjXKRY3InifScI063JDOehm+DBb3nwNe9enQjOLAZV7Z\n",
       "v1gzuY5xH4IciPRXXSr/aKVAlrwXlHZJ/wwHVy3UEN6xCt6ii13s7FJDHVVKuwW2mLAK/D0DCHd1\n",
       "05Bin4YJdQbPlp7qxCMDDwgQSJUFx32PXGHFqqiuJYpMh+aCJHIP/yHIvUh1ekml1V36yNhtzU3v\n",
       "nc7DN0r5S8VWuZ5ndxZnT33Xu4+CjJUWZvNvthGxJkvvrZnPV1Mq/jINqbwDvShg++aBimPd+97i\n",
       "h+N8zS3c6iKm8c0mn9Z090olX05/OHsFFanjVW1Z/pmjqp1JoiSZgUqpRAAzz11HjIFXFCT1Fvka\n",
       "Nwr9iH8SgJum3qyCOYHJEhByxmatDiR6KnLCunX3EOtLAkv0ErQ135YrHacVaTMpgFPIamnYPXiv\n",
       "D7Jx+y799TFV9givUbhNWNtauur3pgKzPdfnGuwmDOZGcoo9OB3hxtZHfWz3+yw+gyqTzRIhiNay\n",
       "dM8Kr3+bgj2gjXILQoYkAMmNdJ0wqoTEIL6UbpHiCuw8Pbp65x+E82CUXsF7/NC/Ty1FszRexdqd\n",
       "AbhI8LjUp2YTTCV/iFUzUMGHDC/6QFdQBVAx6t2wqyLyYjgaqJPPcBXRxB6zgakb3+YS1mJXHArs\n",
       "PHfQil5OgSQKSAaPfMmIfepXzSoaAdJatiSSaPfJNiUqDIHBpc4hQMLSpLlPeQxsv4jYHDLctNob\n",
       "k/m3l6xT0Sj/Ci+MkziixrkGjzSj/huKlD1aVa3FLylxd9m7VF+dfIouXCk3yntDxmi5xdcJXBot\n",
       "KlIZMmdCQavIFuW/FEuc7sAxP3Bszzum0I7eMphrRWnxKNCfjUCGbVJgWTxsoHxnFOc467CJv1s3\n",
       "OOfk7sHrUumx1IF67FUyRK6uM6Q47STzwk1D3cgj0ogB3yLFd6a6GOuSddkZMtvNekIXdKrJgZnv\n",
       "eKCHSwZ3+EZUhyRHFiZ9NubEM8Mg8JXh03yQDudbObxMUNYtDgrGyLbVMkb3rek8KqF5nROUsJUe\n",
       "It432vuU/nAK5hJpCY9MIVSTHDHBqNBsSds+vsc12JFwJeCXVNzkU4PaC80hKRapBEIpO/JIQttD\n",
       "tUXEOZnKVpsnb71OEezkdZp5e/Vgx6dLzC+PeMzeXCJJRejdUYfUGuRcG7mr44cuJ89con4u1pDs\n",
       "Gg7hhq8YE5TZt1KXDyMCmhNZewxiwRFmSVoZfuTncgOVhQpDwrgGbgCRuJ2lX4MhUghz1Tr2Ix6j\n",
       "cEImZ+Ra1TdmRlbvNXwmy6CuI//4ltWC3bmzCUxSynz7CkkZrsoYwL7nVd0gDPlOWSi6fEvQJ2ED\n",
       "L5LiVu8BEy6nXOYKbbgHopC/zhZhM8R7QueD3rW92HNSq0DtTpEo24lra/n43V81agDP+eoPWrAJ\n",
       "wtubn9YN4S366bR4x7pYGYL6veGbULPXPCh+sgthEau+mHK/HyqYk+zmyY9rZpceqGJ/f/0vZgVK\n",
       "rfu8ukUhqQCyANWDQPPWEL5cwdFJiULBvIu/ZCb1FgXf61hC55RmzqPlzsOyD/xZy2KQyL0VvI4a\n",
       "rhLGnaErkyG5cnA2WXNXuwAAADZBnhpFESwQ/wAzvoUXfhC3IGyltnjBgcT7VW5P4iS+nxoa4dYm\n",
       "Fq4CBd+/KIurQttQ2JuAB7UAAAAiAZ45dEP/AG+Ljwp4Tqy7NTbmJ+HBefMCKM+L6vJyD7IGPAAA\n",
       "ADgBnjtqQ/8AZR2zua0a0SjFbfM6Zp/hwuL6wkEFwNwARXRe4ACXMAAAs/4yggegGAC59FAOVDAR\n",
       "8QAAA75BmiBJqEFsmUwIJ//+tSqAAszl41wTwA5bgdh1wDCrmIQzuXp2xPUiileLdhFaa2Nf7xCz\n",
       "li1tR2AsceOhmJ1b5ORsyORmrXKoo+2yeAGbn5BP9US/R2zpJ+8+DnpOVtKInIuOM9Go5EOJt9We\n",
       "6OwMhMwa7hQxei08JYsxbLnFtxh7oxen1nZcyt0v+OvFlFQ+ZLQBb80X9Ott29bWXaQkjZjaJN0F\n",
       "PRoTVOFNR7LdppFWdkUfucm8GJ16t8oR7QRi4OJVEF7YeGPrl6BU9VQcBcx5O1VpL4GzXkC3I+qn\n",
       "BhGb+zW+DQdDvnqCFISOeJsgPBC4vS+DV9I/OjQyPHdbJbQzXn4G+ewOZ2KEnnnTMKStgN+nuhuS\n",
       "ejZR+9U/MNUVf5LP2O2CC5CYzewi0DBKoqyKeEEpmd3kz7/08/Byal9Xz2fJInGdWOM0P+59W3JW\n",
       "iVzFaS7JbxME6pVbBV4ztE09S1eMKlxHSQnRDsoEJkBjIVqVbeAH+2WZHtSvAnf1OUSV94sGYQph\n",
       "Vbx4c5CWA4pedOBSPKL3Euh8XvsEps+IczJfyF4+QtckTGP+c3T79gX8cnqDlce4EexywxVuHoaV\n",
       "0esI6b4uCu5AwD2idY+qww/siTzepGFPLqykjiaFFrlj0nsE0CnEYmuFqWm56+8VGI1BaxlQr78+\n",
       "T6c+w3bPlFIHnKDRBu6ceIQgqNx5nPmLJzbLSc24Waw0q+bGPdcAm2b40OfXBHNLEu/HV2zFVSqo\n",
       "fI9wZqdqs63BW+ck4KeKC/2is56s/v19tTb92N+nKSV9uj0RrX68HTtVRsPv7Beyw4w+jdu6+W5Z\n",
       "S00l8npkfyZlN9nZxpinS1TwahVFqIob2VbTni239oFoGUiyP0U2ScENbViZBoqB0e+1SzgtiEkz\n",
       "4zctFJ6881I5jtTp0WHKEnGKHzgMqSXgjYuCLWjPBpia+nwcV9t7gD3FmNXC/oRhdz4sfI9/ZMH8\n",
       "FfCopu53JDmnI5YFTlSAWBKhgJh6WVKurS3jyRgTuPcC08it0RQl+MppFMOZ7NLJ14kt66XhU2Lu\n",
       "N1rFF21WckZEqpmXiPPkljswP8eZTqiaZGU6TlYeLGzejyNZEAjw/qBcTwmf/P6iydv2DL3axEYC\n",
       "P3VbHRXD+nkI19RQ250MieeApmNp/MshExO4zBH+EaRPP77LWBg0HiIHwdr0hc7kBoBgEgacUxMI\n",
       "bIWs4iEAoILr/bxXQdrwzBuizaZKF6e5hjT1dIvY57ULIyacKcTOXEG/74MsBFLebzZhAAAAMUGe\n",
       "XkUVLBD/AC5KlMwzxOPzLO7Kpcct9gl5LTwa0o0RGZTCEla+oogKTMiwYwUCGxYAAAAgAZ59dEP/\n",
       "AGUKU/Csk0ZdS5WbkoNnZZdvBqqCFZBVfmAAAAAhAZ5/akP/AGUds8+bKM6LYQq9BNsxL63+yPod\n",
       "QknQUFSRAAAEukGaY0moQWyZTAgn//61KoAU2qlfMCWVTgATZosOMCTCXczD7605gc+sOafON3M6\n",
       "wL8LpW3CtH/kVqttaTmP08yYxhK4gRn55ZbHVq8UfLOp2IbV3OxSvkUEARI21gjHY6atX9o1mEs7\n",
       "Qb4wEtZjndMnhhoTW4C5zaLaLjLML53SrqlsQN5VljUjlh/7Nf/eBaWpP6KBW1hNTu3mECA7MSGy\n",
       "7KhUYQJNLbOodte/wax4dmhxcJNq7yeJi4wO29xULHKas9CCKmFDXZqhv1aOQgfuzc/B67z0AyYW\n",
       "MiD0F2sK6RL5Zg845nC29SD5pgU2eAXU+751qnko/0Au4OEn4PT/Z6w5DUQ0WZ6iYoVGdX0spaPO\n",
       "3AlzdXh7mRVoq+SUVDuYYCxTqI2r77Xlr7kD+LmWZYoVENncMLlUrngos0nqxDKPKFX48ILJmCUt\n",
       "P6Wr2k1Q9axP5huPCT8jz5KWcgu5ct8/mwR9oN9QtpIlsoyDM32mgJBPNYfnc1BDb7ThYeqynZO8\n",
       "HeX39C9i8pdzA6HTHUDDAa0IOqEz3de2WJR6K+LED4eMaxgvUyBCC60Cu6yL+/7fa3F/1TlDOSVW\n",
       "N9rsevVIhonG3w6uq2CJMkVE31PuRIgR+xKgjHpqwZwY7Bs/upsu7KYoJhrrUL2uIAH0XtSiwmvE\n",
       "HacCfPEMuQG4KSgmaz6z4dwa7VyOZLKn/bj01zKTT3ouSAG7q0HUA21fUpk73DReiZJbg3oHJ5Ma\n",
       "asigNmrtkmbaZX1zNI4n9toChf8/M1xZt/8a0YYkV1bQEM1mlmiaqub9T94NpcGvBkgbaz0Kkkmf\n",
       "RVWKP4jNz3+Rla7eEO0gmYRZHujTNTk68ZKv16Sbok7Wq2WH85/AU9mwcRkDMR3ELKhbZRnABAUa\n",
       "XOTdrp+t1BAbldTLS7r7W5+7xsgT/o3EUrMLZUcKADb0wUM3anjPybLKReOwM56TGcm8g3pDg20L\n",
       "8TAGja1g7clxXNuC14aatyM9/whI7xU2U6Cu1Otec8iMYDJsvjQi85XXYkdLq5dK4+vrVNMXACLl\n",
       "5kVPVeMsbvF79blZy482Z1KbIZtEo1EWRjUHaUbgiN61Xoxr2M1WLrulS+Rahr7p6AyU4xPnanQI\n",
       "+JBViVfi3OZeeQ9Be2iC/1rCbVE+0biwAoVWaY30wOIZdgQpbJYS15bKc17rlA55yxp8P+EuUT+J\n",
       "H3pWaExn77uS3hv/3WawSlZ42Tu+AMYd8jk1fk+XzYnMwYL7PHE/uWPOY6zDeolmWGR3z4Ihfenw\n",
       "0uIodFIp8JD/5jNOX8Cq+H0kQRuzfz9W53WLntPeVSu8QTKu6U16qIO+PRGbWAny9XMtgQ0T7p4F\n",
       "PUUxrbvOdhG1dCrkr0iMcIFsgnIEIkeHd/t+clJ8iy3va4U9rrw14gGSD+b2WeB2C0JDjU3AMIJw\n",
       "FK0EaJ342KRjcT8+hjqujOA+AHke/9z3/2L0i7IyUHwQ2XyMjikwQw03ru9FwO3Tcf6wcvwZhUhL\n",
       "Y2kadEIjQbBcLVLLv5gveKUqYHeqfDJKYtIoh9B4GPbs9WKBAmOg6FZYCxlKPuc42kEMZjnAmz3d\n",
       "MOR6P21NjQ/Fh5fq8IddF4xcARM4hIgAAAAnQZ6CQh//AGUm0IePaqSWAKYzBFV4AkJvGKmspwVG\n",
       "hXweSegonbgRAAAAIgGeoWkQ/wBlClVr6hXZIS/QFVai36kzv9UR5u+kowOAFtAAAA36QZqkSahB\n",
       "bJlMCCn//taMsAKFl3sYX0IOABcEROICYa3b7jf5NMPbYLVnkEN9xL/qfizRnu7IaGAy6knVEw4f\n",
       "WLzf94UfIPievRM7XlsWsi92oDHrZ5z8V0ubUVGDEuQz0NzfWQmLVe8Ne+C+mpinmfYgP1xvsp0A\n",
       "XWmuNzPg8MWz2guATv86hnwo+GexPjcWAWAETp5l861l9JoaW2SeKihSHOroaWwJFt7Q4FIVtJbN\n",
       "aMWIcVWrBGvWL0/y1MzfgSJ2Y8nCfpqViMcVheXxa2JOM5Nb/guzd8VxyOg8jA/zHQq8+42MRIyk\n",
       "G/+w7f4CwTA3qMnge4YX62ig/j0+ndzt9F3zCTEHTZO6A7XXeeXegEQaYzICSrDsB8f0J8JZ0rCf\n",
       "uDzhT8QIDXKKhxbAVYBJxh9+GMUiJjkj7SF/CiYMKmt0iucXCQX4G9JWF7fociEdbjDIRltl/L6F\n",
       "VPkDRroUMGd3Mz7iYqf7nEOM9PbVndcxL5VYZ5jUVYJhw4y5rblHDJVKzyMnxpTtnEvF4OkM1rOP\n",
       "wH07ZKf8niTkCxBCWRrZalHgsPwDJnmXTFk8jKj2ApiYWtZwmp9xFcZztKm3KJxDP4Ui1+NQhRXd\n",
       "/pxZW0uOzxRwYjoAWpm2hk79gBKHJWCPR1DSmGmBcdIxPAaIvZdzR9RKpcnsJO50nHDiNrMBzMWL\n",
       "EkQi6G/8cd5JojzbQBhOznrMBTbA7ivJyVZj3f5AI94B0pP4D9MjpGVBwnep7g2EZKLSqUY91Zyx\n",
       "29xbm4PmUfOXctMftQlFvJSURp8eAa0tCWOhkIsTz6Gf6oQjqKz2UfFDfxgBAWYnJ0gp6czLfybs\n",
       "t4NBGJaYzpkqRnylycNGKo88lenMnz7L//seHgLUOmd3i7HkTe/6JyOgPZm7sx7bFEYkOCmkLWGF\n",
       "2YxyVUiaz/7X7kRJ/RpHDlIaLDWO+/SgFVcfu+hLZHJipBxO/zCikPBxndOqjmDNajIO+j3UCiXB\n",
       "nvsZW58CcwuB+1eXsB/wuqvEL5HG87odZVQCax7SyfOissnIO6nnoZ19ENNDF98XKQJRv+n46cAQ\n",
       "B5vwPFbG7DfE4+TkCcv+QkFqRE6FZ7o8TILJxvGarjF8JUkGjWhvQYWW00thsdr8AQbTK5GoGBBT\n",
       "IL1IVt4BENP1lJD4VQvofzvpnOVTo4CK1Q27ahXX6KJfAUJwmhz5RklC+wQVBzM/y3tuTRrPD1eU\n",
       "a1UIGZwuApu3/wgpAeat3h2dA1eIgtbfKtFFPb3NuO524mgkJSTOKcZOav3J7HdDmiDDuEr52JH/\n",
       "ZQI4n5hELD2iN2S8X6PlY90NwAIwV150926eFbXqUO4IbHGvrxcq1HGflzDilJWVZVm3MB1DiRLo\n",
       "3nXq3cLUtRUcCVjn4cN7KPyVtOApYk12XGFZnxiTbWJp+CjIOqp1Dv933HfYkE9aUx/0Z+BT5edB\n",
       "OhfX1VsPR9SUSTRwgOt4nXFjPwf/bK7rqK+7XUG++IhHgUOVkw2BzPGgkAzNf8GxvtcQM7HFVJGE\n",
       "LSbFsa7qiU0r2/zUH2TUQspJGjVPjAjA6okLuYRFtAkJEmq7cr0AHDeDbAG7FO/8L0mLt9p0hcFN\n",
       "Eh0K1e9aewatMYtDHX73Ds3gl90jxMgRLCs87EVCM+jX9nBh4QibfoaMv2wzTYZlYLsY8lE1WdoY\n",
       "vhT3/Ez1fe8dHkx9itG5CDcl3EvXXdzMfpNN5ueLWubDDNaoIQn8SHVt8bSqbKuTC/BgqwcU6kq+\n",
       "YnwzNu1TaD4Z8zpT3yHsJkiecdXniCK9nTwU5Hyciyy0nZRtYid5jKNkywX/nuGzEbZ2ZqzS21xZ\n",
       "+e4jIrtJG45SnxQZphIR/e7vUB+oStS3ZuZh03ejrVBaMi0bQVbcUyvW98EHOPR1y6y58aG5a6Fj\n",
       "67qQa7Gff1QY2bed+qjgfYqQcWoq13EKzhGh+tCm5SBVMdUqhR5ddqWrjzwh6HczTfAMszZLsKDj\n",
       "OcDlCalgCm2WHBt9zMSVJgxsnuPcXaOyZdDqMBSc+EQVTi7ZvwuR86rLKkxDluky+uQyx5508Mty\n",
       "5ITDdaasuSY5CEHsAueZOzdrPg9aiA+yQZeNXXlg2y29mrMb38eLPQRDPKFplVHrJllIYcmz93Mx\n",
       "ENu4HsAP5hKPn7keASyvpkroh54FwimbjTi2Bw+0VRvte0nY34rGDzdb2iHJI4AVWzrAm4vx0DrU\n",
       "grnee3W9hldmv5w285wsu/BliHvM2KjIvZV3lo7nmlMeNFO0Zb0WVa2eDcXd3yUPYWAVhw3eNa+0\n",
       "aNS46rtNgiYqzaCEe89jmOTZE7ohUVHAzfk+ZssaiH+28qPa2QhtTIcXrtzkJQ+yeoV2Sh2hSkOl\n",
       "8DCKJk1UgHOZdMHLkFmdHhbf7wwR7vURJBHSJnsfz5lB8I7vckV5qSB4erLR83kkGdASwV5R9Jb8\n",
       "ZG357Xgoy9O8F1NmL13+liLqwBpI+4QALL143vLjBHuvieXYmPz+S/13rFOBoyA1WhNNJUYDQ/sZ\n",
       "KZ/rvUvFfah+gxvUk/iCcADhXXqG5eHANWYdhgN/pKxaU4BIbRJWOoaLRFxBk+wR4Lq3+WupnF4q\n",
       "sixJdRydidls54zu9LHLjHwb9+s+hNDEsB7qS8OqbN8plcMsvrocGrRkCd0sumXJ3k6y67wT6GYo\n",
       "XDrcqbGYlh/MuGRLR2kceyriwr6o1G/OzM6cfdx/u3hCBgXXptFfDndiCYaGhKK6NoCvpHpjX0P+\n",
       "jmxgJ8Xew+v+GdesGWRnd+5Ylbrf7roy4IDzWYJMpnzUxv7C1TJdswsoO2xAbP0H0q2zLNtmLhcy\n",
       "JzTs81J6DrQ0O6JqDzjfrKeLfUnU5IQj5uS6926/HzqRft52bCiGAhkpH2mLcIctO6qjfFOtNSz0\n",
       "7oismgiCKA9BllRAP13FfncA/HMHQGKkpM3g5z8yFVmjA8h/UDi9PgryXV0Ryi0l+MRw9IZhorI3\n",
       "5QEs0nwowgScljIqT0XfEveIUQTYgIg5X80w8n+5hPRLvjFAfXzAwDpyw/Xb7TvCzk/7tkZI7XYp\n",
       "O2qrhVsJpMDY0GcuZriBVCoiplVvsL5GAUzYr1oUqHNHzfB4eU+8nGirEm+y2H069OE/F/2O7a77\n",
       "u6oBRIzuSHkIVPZI99ocGMJTlNKiGss5DnBXwbqMBdtf0zMThk5HaPFVWh1x4MyxuF+xKUNhUN0A\n",
       "FrkVoHXqRgJH1hbWPmSGy8WHrT1s4M3s9S0AYYH6y4xMbtmkPELw28Pn089iYUD4Cdp5EVnRbhS+\n",
       "ZXlYe0I2XWiWPrYdpjqFOiJK7MSpbzol+A1yBT+MIL8G4V7VRVTGlebUg1RUScUsZmIXGPPH4IdJ\n",
       "YOqtkq16C2dEXEgOdBhbit9PpGiWKuotLbA9uDMWDM/hzEoPjHiF+c8YUOsYU26XQvx0WhKebp5+\n",
       "2G7UhgDADYfRLjXh8HPC/A2ZfEo5oB38vhehALBG034QTm6JBDuQMb6q+xMPYwOkZFMLk0eXSnII\n",
       "u2gUb5zBjHHSlOBaDNEYF0xikRy/kWsu0wELpQAma4wU0v9OL+yhkaq1jyUOMzvAhRn0hHafOKKW\n",
       "dBRj4msweyy2ZfEtx8Nc6RdF09NXupJnYZCYRaRd6ZooPIiiAv/iK5aI4GOsDyPVq6GpvTbiZwDB\n",
       "ie94+9OIdZ+BY8IMtGyBGn54+Qb/v6F2OdGtjfHsxjomw/wXis6cCozmvDQiPTbdam3U02k5uhFm\n",
       "zuIlnABelttNMcwXW7IUcmJu7+K/z5n6UDJfqMNp9IUM4oSVmxWr45Nn3XWxCk/zwuYhGViin9O5\n",
       "aJoX1qTJ1I9zLu7bpbeknVjoEKGUP/QmUQnXYmzMWPhnebcTOs7Pb2zj2NdEKBHGr2rELlwzrLEu\n",
       "RQfQp6irS3IHNmO/GsA6m7nDVMQLmakdiDLi4pATkRLhy2+OGPHUcKn2ieyIeEnZnLQnmVshO1di\n",
       "aCq0To7Dl6JA2A49/3jldtCoROZnz3fff80Lkw4qHIddaNqD6wUERYa7vcJIAN7mCz1kqP8ibvdO\n",
       "rkw/0EU1DyXDTcwfzgK2Yh1zBiCBVXthHux+R0dX5UeymwqEjsB3xouvsTDZ/b8ORKbsRYKvktii\n",
       "sVqh68j+fahHpPPIR0a6XLKOhLi9/8jvwvUcrSEa1fzhjz8GYQd14/cJ4X1GzDXwuTKb8PMUOSqa\n",
       "5ZhK5Ly7vCaK9o7pWRU7nFgds/HIXsbn9/DLKkLxyGrklsEc8T2G/8/YmFqC5K/LWNqXUmch6ics\n",
       "iJTaKGSfv+coWUitnoeFgPB8qQpy+53r4afOxxNmAnxUHMdD/drEK9U2gjk4l72qDu0r+PIQ8Lnh\n",
       "2RjKduiBEA/Yv+8apZ30aZzAoKzgewwU1gbQPxskqQgi6Jg9bJ8pjy9RC2NKiFFfgXqwDNZL2t/+\n",
       "yiUoXMFXLjyvptTdRYzbcLWYR3tawE1wPUbaQm2QaopTiOsh8LSCmcY1tkbqwuYQAOBqhfoeMYAz\n",
       "aUj/6vbxLGNPNzfx4anXBXaGwKBEkWLkJPwwtt6kKt9HmR+hdlH+pPCTcu59QY2SQYyN59U3skfA\n",
       "7qjxzI7/bZG1CLxLMNQWYxmmqNf2mvTuGT3o4ppOOTWXB3ioLfJFTknTqyhHhAJ0FbeyQfShUQ11\n",
       "y/PGj57EHZZK9wWA4SP06qT1j4qlNeUCsu5+vFLP4gOt9MtAjzM5hVKNhxksMaD426agh4oJAkqI\n",
       "m21bWVu6PJ/XIF8dSx17v0OdVyqOPEsLmCWWuNm2Pzw9AHi2bMsAAAIaQZrISeEKUmUwIJ///rUq\n",
       "gApf+lIlPtswN3dtBSgqfz7rAKDkyVJDzV6tzf9dnnmC71y6PoRE1VuvFLUSA2k8VCJwqWpVFw8e\n",
       "/c+f3FFVCWeUNhHcsHiHG0+aK7eyViyNkdFT50kX7kh2ZWZzdNuiwzxryP0dgziXd5RhcDrVHW6f\n",
       "RE5V9YhEOkj84TwOzuzJl9wRxaJOEW7WyNecn6xCmLi5OK+D6iBr80QZ89I5nEhGM8aUzwJx6NYG\n",
       "Syi/jCwv8Eck9Wb4hycMZHMPHh41CcHnABYdlhoelKoCiVH+9KXvnsk/IEVYokpoFnIeX+kLqpbQ\n",
       "RhuuaOGonf1JOZk8SzsTaL9iGUD7KOdJHZkGmXe+Beg42ovCc4WMVna2soTcF1AzsQCmNqZZMaus\n",
       "sY020jl/uH/c6uwppCLgCWLyRq0J2owpajQ1kFUm5i56G/rqdWRd9bdddEpLjftWQ0Sjgy4WhYia\n",
       "NoYgUR9tTLXp0A4H9C0DDYgOvjCq0Lgr/M+fMQAI9BWzrXyUFQmyVks9EaGSzOujUU3Ut57lg/PQ\n",
       "H0nBIOvS8U4aDpOdJ/rJ+5g0NmCnSLqqjAWh4GKFe4s90+CXlJrRIJ9bMEJ2ibbd7UGRqhTqo/qh\n",
       "9cyiVsE1lkeFjSVDZ+l0ilsPd6rtInZfrteICo6R0hDL17zurhADF6zXX444qwoyu+IWP9Gn5cZW\n",
       "xtZxH485Q54tUQAAADJBnuZFNEwQ/wAuSNjVbGQ6U6KfUpXoiw5KYrQYaAPNh8sn4vqOCso9QAQ9\n",
       "NkFMpQSggQAAAB0BnwV0Q/8AZQpT8GoDdaY+sH2OZjDdrPn/Eyr5BwAAABwBnwdqQ/8AZR20Gmyj\n",
       "BX3cLYfdBEBNrbp1N7ZwAAAELkGbDEmoQWiZTAgn//61KoAE4XaIQBDHPqsDwo1kSMwdAVY1mb+p\n",
       "KM5TUloWzAeVDQGoA4m3DQooDzHbyxEvVsngkHH89o1w4qWViV6S1e/iNf+AHL3s+OEt9uCE5EEg\n",
       "bU1BM3sk3Hn2FPD2d+pLqA4oBKrDjWHge4XgwGInVcAlukbs1wTlfP7888cxGuFM213BAJub//1m\n",
       "Dfi/qfnF7bXavFMcONGU7HwsewOds5yGoJ23WqrgWP2hbpEscdwdlyix2voUWmvnZ8YJrUIarfW0\n",
       "yOvkVe4gku5u2oF9h0SaaYeCN8f5y0i26rirdOzZyUV1yMC62/jf4JBABW1XBMgY0ts6jSp2X4UV\n",
       "696/NmzlkOi8gYNxdDHlQQKv+/zBglyCevpeB+GZKZi1ygduPMD8j+FJVCbaIWhu7x1nP34wcvkT\n",
       "WHFL45UBh4hmd4lzL5Xqx4IKD000g5CfhsFkyLV0cUE+EJUNAgok2Ht17W41mGf4ig9i7STLuXug\n",
       "MrbeXrbTCl9WG7SeqwRF3ka0LA8ECMlaV1HAfvQ4Bpl1kp7xHX+HzOP1qTs9Z6X2Pgug/cyFy3ug\n",
       "/yZPX++JH1MJMoLc1T/CRgrfoKvIy35noBdjJoM1IStsmrpIRJGDriN5H11HgQ4PJif34NrKNJZ2\n",
       "zI680vZ5jrscNdDBJyeuHrrtaiz9nxoRnkcpFFnfZyQSdPJkPYxNfSKm7h7GWpcTp2QYH6Tu0sQN\n",
       "MTEPlDykOg053P6mxbzkhjYf1WJaLo19+ktW4TRPXTp1dkdkvbjMi2kMOFQ0T/rfV83ZPQlg3OWY\n",
       "ugy1OogRbDo10+562HxFxaSnhEu4PFxJeG0KPmZynk2AVWET508s2yqPW7osPNMn0PUWjjjd+0ro\n",
       "olHYjDsww5kgU9NQpxaM7c5vpLdJHPu7arK6XwA+7VbCfxMG87AZnZN/JfiKh437Mvcj/LXPNxan\n",
       "MXTmI3siyIsg3v6WQBIZKmpRcVzWLCNYsxYrUqd/inyeaV/UJrxygGuZyhRT69ZgBot9tbgTLm9+\n",
       "75NaYjkzP0HxaNWDC+73Apke0KmlVSQmHP7r2sDvCFTqk0ST00vNytPBJxXpi728p6BTMC4m7qS+\n",
       "/JaukYRuhbHXwyseywLoeCIskERbqEui0vuEFGHVXWmx5Rrsaoa7HewwbYWcQUXJlD8/Dg1LrLwy\n",
       "+AOa3kiTFkj1cbrr1ggSy4S56zfZ3JOsoh2Z+b0LWot6ongveAdkLxDM1k28mY1YfbZE4ss1GwqF\n",
       "CqJ1CwbZb/pdExMl4FywUlrRpkvsuu5dySnqz8mGAaImQHcQrXTMbLy0CWM8cXIvdTk9bxck0VNn\n",
       "tTNDR2Sq0ch6cn5DXyH7/kypE/OJ2OKi8SQDeq/DO2YU+ALu3iEcxy4fwFOYkfdOWVp7ggx+9q/Y\n",
       "CimpSbhAAAAAg0GfKkURLBD/AC5KlM7fieXzL4rf8s5uKm1U07zgNdkN+QngYuK6dPiJ3AC090YL\n",
       "Xe0g/wgxGphXxB8FxxTbx8Cwg5DG7IFL5/OfxhshKdJiHHI5LFQZaFGsWZaN7wihikIv5OF39O+C\n",
       "KBlf1tPKK9nkle8+9+8FTBxSr8mlt0Y6pOP5AAAAHgGfSXRD/wBlClPvwgDcmpnjIw8w8KJ7NQRy\n",
       "i48q0wAAACsBn0tqQ/8AZR2z5P78gUZn2Sz0vdEaFJezWA6q4xWGtpgCZkpDmvzggIeAAAAJRUGb\n",
       "UEmoQWyZTAgn//61KoB+vCtAFAZoXCqxZfogHrgJFtH64SdbeppWTOMgWttAnVf+R4jfbR+U/DLS\n",
       "YSWskPn4JOr6v1w2borTWkPiqj6pi0/xHrmoXDyOTJ9FEctm3G/Ih4zlOTcGM2aeWAFrXeS7tKF0\n",
       "3cJ3nS/P3w/z8+3yB7Md1PdUQAUFl8iJvZR9v2slBFZUcR/8A5bECLdoxkaErGicZPlzlhcnNVEq\n",
       "roWe/H/aQP9v/3eRlPLfB9iKGkdHL/za+NZHPfjtNKJ3v6gZBcB0qpxm/1RI1c09CdV+0ivJjpan\n",
       "kZttI0t8vAOJ4x+CCZtGUzfEnYP9kTooREb7asthro9ept3S8oRRn+kD0+p5hJ0otPNGGi9TU2/B\n",
       "ksfb/q6Hvkl5nCN/id2R1SD11qrQYdG1bEWN6pQcXL+RGOGotv93C6A078fMzfM0sQcFiGqUOV/v\n",
       "rqhCwTAUe88oudoU9bNL8rzHvAjXbriZBrmPLaEWNgjHceYAKVMlxC5tK0KQfTCbD535FLzQKIVf\n",
       "8260j46cV0sVe66T3Tw+eHjPDGHFeBmXx6ki3rtIwppWeKwX6tj0Uzeq2LE64jS9b+m5CaO0TmXu\n",
       "ijdG3Txx/bvOBvt5TzjCYb+A6bET78K0TmvGzuuE2bAcNXwGgc1ialvAJOzaiCe/YMxJaZIzttbk\n",
       "42BtCKImlNxL74+itpnG9Dod5biykMrh1CSQuvUWrRU03FCxaAtXBPp733riEO5SmrAVOHGj0LBN\n",
       "pZXuiCh29DIwq6j8eoH49KJZizxeL6OhpmVofsPCXMPXuQGKErPXK9uiGpxD4wEqF6boahiZaFiX\n",
       "BZE7Rj6GT2Nns4NYZU1Pu3phSzZ9q4LYeX9UmV3qi2EQ8msMA/a8lJM9YRitPSkaPxuV/+p//7tu\n",
       "kpaMz+thLWMpxORGCmjQ6MoRk1wXTfbDh1mzxg4lwB1cidycbdoRI+grMFQNR2XWBElI+r31jgMV\n",
       "rmecuwBACpmHgX52JhcMjByGEZ+20AKACs1s41IGh6KwYhz4JxGnI7dEn2mw5RccBn5svKYBm+jT\n",
       "LBQNO2bu+JUlw40FklKRncFcnLoFA0clGeqBkITW0wJpJyn+DSCbGeYVAX4LMmXB5BAYfCWLcVPJ\n",
       "ubYlTuec6sHzI1vXf61CES+V6sFaYjyGxPwvd8Ad5kyq8DgB5AyC1B/YtBdPEBEv/4d7cy0WGN2g\n",
       "m3yMUxpas+WEvw4RfJFfZgNqs21efdEnUIeugJ1hEBVWO7fOldb6l7HZR4qad4DirXJP2QT/6MDg\n",
       "O55r3ui6lxoDwfkRaDuqHfVwjCymwVe9fTw8aYyB74pYn3tDlD9IUlhviYvBxZc6xbnmuPJIlkXz\n",
       "CrX2k1EM2B2HJdwtm3Ikdw1+3lU9KgvzItzeYGujlLCXw5u20PCeOkYfyPXdgxCdWlhoOsi6F/pR\n",
       "dAex07eEmziU+bOismgeaqdHZFGYZqIeZJQqxAeBN/HuBThQ9ENdfMS4a1vPmTAM6Iupz6nqBHO0\n",
       "lHqmHfWnW8VxdzWj3W3OiF7Xbv7kBVlf/zUGgxQbWFZpgbr8LD8OLgp/mbIyR9c8KGDpGjoUhLLZ\n",
       "d4eVhuATzNK+BS9tvZ6uaxq4M257arbKqF/HHzAJyUtr84rrvP7Z8tG/cPmgSDzNZAljx4KcvtPP\n",
       "A5gbdB1WPimVeoINU7Lwq6hih2hVX4NhIHMTrRFCJIPaOhBn2H/T+SXJPMPT8QQWPqC4qercFDPu\n",
       "hRDantWDBTyAmyn2ouQmDahRNJ2ipm94jC37lmoT9c03kQSF652kHaG/Gco0mL3PWf4LxneH7qXo\n",
       "AZLavW+2pi38ECa4QMnF5GnDX+TwitODXo/ykOBoXaaSH+csxobHjln1Uu96ZUjvLLbe9mLizM1r\n",
       "CC/v6e3hqHArc8b+urYa/Q8W08aHg6MVLkW9emMqtO5Nn/JDsNs+q7wwgjKrBPqAKUFhL1/rTu/w\n",
       "qH69UJWSGDRbdUXwPKwTfpsS5e7ttfq4Ti+UW4o0BkY/VsMKZWsHssnfws5+vT5ipxptuExzLidX\n",
       "xfB0xf+vu4qnxQ3osIYKPVhsIFlfLAxB9CHPDpof4QhQhVTRLsqUC2lxVN8egmTKUdyACNXPP0SY\n",
       "GQ7GdXgt46wyZhrEZAweyaIsOfB1CQmQvPo2nmldlmU8TEJ9BWctXU6vDwITlccbbaeIO37H8+WO\n",
       "tG/SjScLj3AplsgBualFVUMS8/D4luCLtr1Z2BwtYkkdq1esyTGQeU8c4pWGsFvZknpVnIAQVlar\n",
       "ScWkuM/a6NeLz1gvB+AA+QWV5/x9npQACmwPLhuaIbawWRGOci3L7iaVRXU3kK2JvRqtbuYzguJi\n",
       "V0HLdB5d27np7xv10xQHmOxHWxy5DnayUcjGQeFUpSbUu1zq/RRvkfcJSRCkyAvcE+IxxqKSFq5r\n",
       "0UQ/z/QYwGvALfXK0xmdofacUHxFRxLX6ZkgitPEx1gtF7CO4OPYOX1jPsfX/PyRbaEAcr9TZ/U0\n",
       "oIZpEqhLWQlkj4PB6qpLJCYrPWcXOLbv5ZJBMEf/dtxskHzfTL5mqbfRJZouvomtwUwXmhmyShJn\n",
       "KPwZRY40RyxvbjHVOSQGpRQMez1bbI8uGJ33M50oIYiToVYl+2zMazd4Jo7Ij2v2RbRIQzkc4xRO\n",
       "vqgY3x7gifBmfK+ER/KZqFGvIyz3pkXOECy60CzdjmW9q3PMRF/ZvV33TxXT23gIdPof0ZWM59Tl\n",
       "zWj/PJJmYBLBYiC7iNGp26rpaCjtwRcOVeK7PRCgX6CoNxRDqh1k72niy8+XkMf0rpoeO7pISzwO\n",
       "d6cjLbpnVXmtB7A0MRcIA7iXtWltc8Agk4vEyXYZC7LcD7co8knJBALFBUFZ9aeOQRzjgXagdgMD\n",
       "DYpBFSy0DaFzNRvSIj14f6n83kAM3Fd0vLgrebq7qcGH4J5qFeXRQGZj24Gyz6Wbls47ktH0Bhfo\n",
       "x8HdL6Ev/VddK4H6zZCRKrDTf3FfQm3fYaxq6mCtymFfic9m0HGfLrGJIsHqlWPrMf3h3x/90J/p\n",
       "j2Y11jhitwwkI2f2wYUQWdfXJ8iI2s1DwpLUI8TjFhkLgdkSxS4IgESl489LrIeb7QzismuHVJW5\n",
       "R5t2feAEo219TINPqnj5sxgPC98WTxBplYM+XrdvQWYd6QAAAMhBn25FFSwQ/wA9jmsaH9d0FfA8\n",
       "ad7YXm8DdtcAQerz0cWgemHrf0tW07TJZ6weKLtqIY8SY+0J6xOcHZrzjXkGBrAqgNOxJMwN5qpA\n",
       "+yewyzHhIh0AeSJiKujMCWyadI1sZ6JDvvJbgnoA/7cz79Hlc013D7c1Qzr7pMfc43aopxTqugCm\n",
       "xZ7QRaLSFMCCEN1EJF1u0aV+MSCiDKivfyqekqpRAHprMyPo1FXEm8L8+VB3BIgCt2LlBA8r/fVB\n",
       "5V84zumLaJ1eIQAAADcBn410Q/8AZQpUbiA3R4dWb9LL7jGcLlmh6639Jyj3xOqIAKqwgjH9w/Cy\n",
       "rpYpo5+PSnXrbsTbAAAAMgGfj2pD/wCCoNIOBYaezghXfCN4/LBVM8GEhG/pHlmBZUx8yJDhkNqE\n",
       "TEcqxhCawBbQAAAI00GbkUmoQWyZTAgn//61KoBwY9kQUITcQd7vl0Os2TDownv7N0HR+3FsfCV5\n",
       "q7TwW87fo/30Zo9RZEWb5YyFYUgidMl/uwfS/dzWXekEY/wLTkD81DBUL/kCyQGBP7irGyQB8wgk\n",
       "SD4RKrSHFuBz3ljvrjGXXAuwR2vL8nmvPyrr1CTB4TVUHqS4u0Fcihi7OXDfhClF+6kw/cmfNYfa\n",
       "pKOD//xyBlSSeds/GGfqFC3rZgHcboD76HJwZQfjBs3JrDDXHSC8d/AEmxKILEvN5wppNYU8i/n9\n",
       "o495P3j7H9Bc1N3vwyGlNnsHI/cwqnergCxsPWRivIawL6KPUrreZJfmmd+A60NvLmHGaGg17I0h\n",
       "o+F1vy623t5AsHjHzfS4o8Qbop+ZdNRljyd7JsFI+SCwNhy1w4A9r0GtsZmmfyTnp+1eX4bke5ss\n",
       "0U4kcZEGrcqZvyc+2az3g2E3gUf9sJ6OJLDuzg89SQIxDl0oICu/Kr1277FfVjQvwE1lCYzpkrqP\n",
       "B0p9ansyw6ykr30+jLY8YSQEHzOXxA2ycrvcEBy4ddfIyGlyfFxAtulCx4E5v04Nu0Iz4k/jl85d\n",
       "czIuFbOtu4eHLJ8/H4RtGcKWlbJYJEh+1Ypt6VGB8MTn4G9K3iVryZunPfQ+HrTbZPaqv1063AuS\n",
       "KWbNIq5bsdeohdGUt5g+TPnWCp8lblnv1Jb//SMwWaCUo8OTJHhOll1jo90jzuqudmo5dn5N+KW/\n",
       "dVlY8NSGSLUD7vpL7wKG63FQ8+Jq+V4w1vEVKjm4F8kKw75+NQ40IBdRKjeRxyAmzz1LY1xRwqRb\n",
       "BdND64iTfHH9mD0fMaqo0De2wB9pYx7nUKXljVD4kYbMzYyDCA7kz1MCW5G/1Fi11c8mFUt+IGVU\n",
       "G5yyoXvGonondgB+Oq6+l1sE3kityvpeGOraOwcZP2Uk+FsKcjudjI0uR9b5p5LgbzVyTcHrfCRp\n",
       "VGLwq0kBMneaVr6RC13ZzqvjQKhTCyRGjIpl+eKgT5DtatVdQfEFvsJv2w1l+CVzYAOg8ypRlzpf\n",
       "/V7vcZ8NL1Sj7qwMklqFvxojepTO/B/VPaybleqPD9OtbpwEIJxAaUiyiC4emuwd44ijqQTQcR8u\n",
       "t6iiydEBUTXQn8B+t2o1SJiPm97hJ6p5JhZWhRMruJf6YqLuA7Tffi3n1x9oa7tSwn7QP+GGM+w+\n",
       "hYQ2Xm5cIMAOKW9wTDs9SvMgRmRU/G/gk12uRywB7AatW2DyF9q+M/nTIwOA1yyX+fcckX000Tyr\n",
       "4wXuViW1x9W6asssnCEOGkHYVre8R/YZ9+86WfiWxR7N6PPRbR4rbIyXCKwR6jnDmMhZdY1xxGf6\n",
       "/0B5GKD7WCI8eH/w15Pe5pCSYLdEITwb0c47F+1f193rb8MIF3FEX+4jUMiOFDBZgGU2Mx9le0eT\n",
       "1EN5NCvW+LvyFv7WwryYME6bYWn181US3WmR92O0I6NOtiY9Mbq8KbdrVQqUvDzfJ4ctlfSpDnxo\n",
       "JMo8s/rQRLR54hu7JpioGFXCLmkseOkHrko+XLZZIcydhLg1I7zuOs0USNPCK6zAU1l+Glx5nbLs\n",
       "fetSR2ke1LnUOh1CX6igLF/YoHJJdOHah8gOqmzh6fj5I2cM8lm7BLDdWFPsPQWAJ7+c8R3mJ6Ch\n",
       "1tOkJv3PWRsjiRZ0DoAHS+ff5o8OviN8nAt2ukOOAT45yoylS6kzjmUgJH95ZhybKS7qlhxDjwBD\n",
       "mgM2iYRdoLybxFhych3vq4jFnOA0AGxxuNGDP/Sc1UEgp2EdpHQWbDZaKRT0FN4qp/r4/ewyMAsh\n",
       "d+89famYE590g+MHOVgPKH7oLQC3rUml8UBUjltTBLfJFqFr9LM+RXdngrgnHXT5kxcrLcanNKam\n",
       "W7bd0OjdKzYTTi3Ll7jfwZzR58TwtRcWN5lkW/o1vVTxEbLs6LdssbhXt+oYRXq2gA9ducGCAhjE\n",
       "+Z8m3fo+CBYlSK+HjLKkNznv7y6UGEHaZdRGlbo4q2kb5Q9ISO8eaTqOKzPb6bfvuLasM6dcnM6a\n",
       "O7cHdpWizORJJSxZDV3nA5FZc+/5vNbXZWcbDVuanj0gZdMnVIKzvQEpvawTk+Knl5uU/ik2BP6Q\n",
       "5v8a3K3PZci9ID4ZlJG3PMqpwBxOdd4dAo3WzBMnYqJj1e6xp/o/0aF/dDHqa0m7iy5XPs4SqulG\n",
       "Oh7n8RjEmvlf+zVZkdWaJpvpuL8jcTXG7eOe87qydDnAZs6AFKRqbHoirZwsrYkyVO+Hea5O3UFc\n",
       "povB7BFmWZd/8/YYNpR3I8wD9TA8502Ru9H+HcLhxyWp9rSfHdrYQUF+3phuHD6/+OSQbq+EQNj9\n",
       "tMSnWflwpkrIr9KqidaYWxeA7Tds1VqzyKw9oL/ff3BJe2KG+QRTufLzSPQ8FKiukkdaaAp7hZY2\n",
       "5aYG39XMniqzWqoM8VDsqc6oXnw85oWQ7EoqHuWzT0YCsbO6ffERuSF9a3Si6vwbQMGFVL98YMBS\n",
       "Df+R3JLda3+m6WceCaP7F5uryoIghaSHT8RMEWeVTdBj7LRr3XFv/2m2iyfbgAcMRnT/+3mzcHzC\n",
       "WTj3zv2+VFxNJQeQ97t3x9NJYdjsJVvI2Bz+15PRZlaZpOpfIcn00zPI8bjE10hXBfAsur6xyneh\n",
       "Iwxdxxoxc7EMsjTpwIuBgDkD3ZAmsxt1dJLv8WaoH9obygKbR/WWBcIaiIcjBw3gAjQWIY4mvpza\n",
       "pDG0jOL4HSRUe/JQ6noacjbuOJFi1x1zUy98q2ZSMM+7jyiv4fADJb04LT89m8QA4sn6/RE3IZ/V\n",
       "ZwuP3MGbsU52Rh+FhuXrwkWR7ujVPeUlh2chkZRcGzZfoh0h0rw2wcZo3zfQK1MZ7zsE0BUzbR0X\n",
       "tB1BK0+duK0ETItj3YOoulUK3sGTJahTgDI17IU2HwlhMlZf042HgltmXi8UtudGFJf9yngCREhx\n",
       "TAsH0akfgi8Fc5LwFyR2UAEv3RsuFTVlTir97yxHNDrPpZTcsrjplsRzS8tEnckd6QAAAwZBm7VJ\n",
       "4QpSZTAgn//+tSqAGXhTOEjRgBtL9VbfcLEMY9gZsZCzg5CUu5pVkF+8BYuAvTwyerlDtNL6qm/h\n",
       "6Dcn2UbATKOPLWH9v2x6XGgeICMGwcnja28Xkk55qvP3EXJmgPqzivIMHvn2sffuscUD5IbjKs3c\n",
       "iv4Pfh8WQ5Z0PYtDlsTx1Ntczbd87KynmUtoREW0kXv/Rwa4VPYh8icg00t0Mjf/614JDxx/QX2D\n",
       "i7Ine5yO7Ao6UtW4NIzfET1ArbbPReViIRRtCFXfTpdvZ+0TxFNRwQAvG9Gqy9MbpCGnBuKgYZDc\n",
       "mmkCA9TTnKmRXno8RdPquIvmZ6RnL98Jvhh1wTdwuOYBOY6o4lLJ32H6ET/hFbdtRV+fine5T3yr\n",
       "+g53TA58SscGuMJVbXOq31RI6t6IlFHleD7/VJNyAo0VawdqEcfegJX+BgNSIe4RIddVUCTi0VY8\n",
       "YA2EPQZABLMQqtfTlWLv+fMddC0T6VwT6X0agF9AUC2Kyi5dNcE+55lut7h+T7aNUMVWpVr9dwZ5\n",
       "WZelEt1Kh2Rb17yh3liM/IRT3xUrKSkQrm1XG94a0nJvclzEbZ34pfnrFjkzpv5PXsd8yMgsxVX8\n",
       "2ue4LO+0a5heqGEiLiOuiFkWMNADeA5QebRRB3n2ek9xshdI0LSd4kfsOp76uO8il+uIV1pxkG/D\n",
       "knwPqBVFLB/mv5DDior+oEWtfww/t4nXXRwpSISEy7uhw/LA2zQRKn2WLsMz+wMhIX7yR5PVPTLN\n",
       "usHfFyqXbZ+pkRH5mdp/yLT0V3Qc8lvqcl9cYWNYzzwq9JR2ZwSlwLnVNtVRfB5QszPXKoH2K3Ss\n",
       "JCn5TuifGWQVUxpidXNa599Vcu2H87NLpuMieMz6qgrUmFCN8lSqtRbjKDZBRhr1GK4Gl9PqB2Nv\n",
       "gHup4gdQN+EmwH0FMK+XHpNQg2AYqvATleBjvi4G5LLAnDTMEnWHJK3D6HJqiqif/LyntSotNaMd\n",
       "WeP5Imxx3zPpcktFKbtHbrgUGXVD9OhHf/8GokcAAAA4QZ/TRTRMEP8ALkjZCu7j3p81n7BjT4s2\n",
       "HHYx3w606MSoUDGMdvBFsbWa75QSLg4IRC0A36ld7qQAAAAkAZ/ydEP/AGUKVolMLeaobyw8mHXA\n",
       "2xqViXaIFFNfAmTAXgHzAAAAHAGf9GpD/wBlHbP1Uzl0HlXOGSEeoLcUmgL9f4EAAAGSQZv5SahB\n",
       "aJlMCCf//rUqgAwE01hMvqABB7xYHXfCNppk0jMkfeUBG6v51pBvU+yakgzZtfy/k47hinUUb6i1\n",
       "CMQ8IBdeDx8nRYnqmqbTDm+B9ohUTzf19Lae8gnmy0qxWJUH//g8P1jbs8aFCnqQy7Xawr/M/sEn\n",
       "3j6opyYtjrngUF70/VjlRjnC4BOr9VNc/OWNNSEBV9cGhz75m924CErM4kRSVW7kalO4WGxRDYqw\n",
       "uovdhmqC/2sYYqwmOuF1F26eRhhmFJUVcsp7Y9480t23GbzJGHcrh1UtFAgUmni8XuJbznxyMhOm\n",
       "e2VraKVdXPq0q8stOVhgenZ1770yUB/dbvO4BQhPi2L+l4nQbAN3nQRIqDYhZnfB9jhWgRa4Bvrk\n",
       "yQq2esJoWcbGg1ViPRgAhQn1miFMzSviSbrremooQCbX5vMeiXCvx9/IspXPp63ADRAP15o7R04T\n",
       "fDdPbD/MktlzYVebyAdnMalDLRWFhlE7a9gaZ0YNRAOMIciX7H/REPAqfrKWPwb8zr2t3LyAAAAA\n",
       "LEGeF0URLBD/AC5KlNeEBKecciFF0ETJBpHaxQYfbBdksdupcJ5gRPi6hFlRAAAAHQGeNnRD/wBl\n",
       "ClSO+siR/GDz6+94sL5RA3UsC2MrAAAAHAGeOGpD/wBlHbPET/ds3QELRViO6TCYF8HDzVAAAA8O\n",
       "QZo8SahBbJlMCCf//rUqgTZUf8hMYoA1kqI/CTEfCYzmxlQR8TM4eTSudMMLHC9EILOv9Qt/8JCK\n",
       "u+Yg9/yVjthR6kbfggrLvAUoE3pEnhV9ksGhXUygmuyg+mO7wSB98cCqzMK8mxJGI/cBAGDWRXU8\n",
       "hRL9umcI6gMq+NskMYsy6k3KVPZVCKE+A3g7VYDcByExk6yWBk2OH206WbAB8tLZYUNpqgjM+SMo\n",
       "xuaTT0dN6x2enh4xTLens+isYqqj4AQ1p40hFFbqW3CK7VxgUUtNjTcbM84cuPPV92m3eXkC53ZN\n",
       "Wlriq9U+rOP7IuMXe0lHqZ0yBYCvsRGpBVAD3cc1+DJLKaZx+NJXcCYqK3U+dXHaFiefcJOr0Ixo\n",
       "7xXLHCEdc+34A/0MhWFeDeTEWhfweHLGOQyVHjr562Q3aYBCfqGAS+NvBcdZ0y5NuCFFjxJ3X7es\n",
       "btEiWR07k/fM0Wlqag8mHQrbmYfTfT1ETtoajzcLI3ONwJRxgjBSWXmkbsIb2jcfi/Z2b7+3P9ZJ\n",
       "U2vede+iubg9b6CUndBKrLnCMEB9yOYJOfZ5RK7xNcWVRG51OYqbrWy0nIWToUQMaMnX2clZl3Dd\n",
       "sNN0KWMAYTEO2VvSsofaEXZP7U6MSbAzr26No96gjpvh3liyJc4PgvXIyL9LRAKweQM+ESF4MozW\n",
       "5kYoWCJP/RryHv7Fev7WBDHC+aiQiwsjA41S+lTWlNC93tA3kvkMV7Yi5sPyjoQjkjHvlBfjEKBL\n",
       "QdW8ihcjqUSePHnOvqhrNTU+FckPcxPwjV5Vrjex2uw2nZ5pgg2gh6VDBE18WT0vm1HjvK3u466o\n",
       "Y+F1Gwvy7B/OEVFBGg9YM81IOvs73tcOON+pD0In3qtkuphpiLHu7Iwb/LytKOgqpruwud76QQZH\n",
       "lGTSoSU4EqpW/ua9+1TPwQeMHMYqNSPtPOn6Fc5/h5fZeT4t3z5a5J2Np6HhYk0kxo1UywWPXT7b\n",
       "6LVZPL/TDPc+WznEkDfyDYlb21PQasAY+1wGee+g3/gGGVFjDbpT49It72xM9yObXF+G8J8AoUZ3\n",
       "AsDsqAJRYyc4a0CKkPLwtycW7refTrTMyOq8vaQGxAiYRa4YKcFvlA3lvXAVhpM4JeM6H6NMtjWR\n",
       "F5JZj3jDKs2F8AwwEYIIMlnsCULH+YhsyUrQmVNFALUJxGqopXEbnSiiR3cxkrglmHI6LsragIqQ\n",
       "5tJ7Jxx/8wtOG2h5swDM6X2M809oYWoc29G33n+8gkkMF/C7x0QaO0y6ZrpqejlzK/etUhTA7eyQ\n",
       "rXRRV+RMBavz8Rxku0m3sKidxOORs6OAXhD81jVap7UCYg10nKTVknQIDM/U7FOhGop03s/6XlJE\n",
       "cFmRsW/vHXqc89fQeLaBhwLfaL50C3svRY7Fe+jybDZ1BmSg6W4fqLpBjjLh9d9imRB67rZuI2L/\n",
       "woJBw06C14aCZUXVftEJFoZVHM9vCt9MsYYkUcN5znfZ7ANsI5zAunPf73fhAWNyCPaaUnDLbm0i\n",
       "AoQEomQxkb1gv/KNTvzKpthVxyQk0SnXXfVqhFp4bYIIlW7elJkrn4mNz+bCmzVl6VQD+GfkTLCB\n",
       "pqgqRDeIBCjwJXdMVzsnAiW85Z7l2r7XZj9MJsD5eiPNkFIbNJEGMC11wICUTiydpr/Q2XidNYe8\n",
       "KNYSWBxjOno+vtWXj6Hfead6g6X2n24eXLcG24OuhicceYcCJIKBssHRD+UDCbkgli8xBaLnp57n\n",
       "0Rj8dKhbdxC9QnaTns3kR9FOmgugN6O2dAu5eG4qhUhHOHEBL6bXBcaUjt0j8kL0mcNVrukOQ/NW\n",
       "A3kSG0H8MfzgoLDlMqhtROWNxtKhuZKVJaQxCCEvT6haWFcLvvVsQ0eo/7ZnIB7OcPffWBj9bi6V\n",
       "hEtX5SJuRWYQVhhUURduYaqcPeCLs6TAb6B8vWMzs+8fX4QGI9NTXiEM+5zxZY6NlDM7nH351xwl\n",
       "nQ+SCd+Jc22pvTTjC9Gq2vBVoxgd3nmBTuM230YSP4U8HA/or75EdrsKUMTS19hdjoWvaATb0ZlR\n",
       "dDv1HL1HOBfbeNkqdPmX+5BJqfyMqe7JZM5A8q9OUC+I1rxt4mFyjdkVNApJZf8U8Lifcl9vGTlC\n",
       "HDtAD0HS3OkN7rzaLKoqxCxamkfRNLk0cLyVWg6fTDoM33xSN0rogtRB2ZBnNa8+Z6cRtubMqNhG\n",
       "ZnH8cDJqpgSM8wRVTWNO6oHS+BkI1wK2slbS04u8Hnb2ZLWwRp5sNIWyah+8oFu+rKBBMCunVZbD\n",
       "Y7EUaPD/F7ElWnc+vtHqItS/h4n+DTNt+mANsSYu1I7jtMSH2qjYX6MZNrMguylo06bGD26arY6V\n",
       "0G8ptUJ1tCuUeecnDaYRI1ZMTU020P6FcyKTXPDl4+vdVt3uCMeZvVYWyK3W8mNv3BYHO2fZEVpC\n",
       "OVLQUS8kKI+gHqutgXttYZTP2oeyFML+sBtrLzz26oMkI9THdEK8tIIljCrRpHddgiewdvHYKIyR\n",
       "yG+D4mfJduGC6OxBmB+Q648Dff6lcFsqArMmiF94/zR15M8fB5TLEUd+5X+Yn8fBJfYqmZ3pNOds\n",
       "14bOd6x6ArAAMTJ7+TF69OlLhJuZyn9CKfv65xwy6XOjMDmqZJoEGHXndOtT4TGDOXODfv7ZIBzI\n",
       "8iBo1TicD7qSYkussBt9zxOCkEabtdvHJNpjlJRHWk0v5shfVofcX98MW77aNynvn7Fz1jkzmC/9\n",
       "vhRO9BYsvHwvm46vmWmjnZ/UpYxXkQn8C16OE71lPqK3GbaWtxQlwWHntbE4sh9mNXYvmk72tjQU\n",
       "9zd8U/Mz/8uPMhf9Ny/tZHtprM7AAQvJCJIuAMRfee+3R6L1WUdVBqvz7WEUGNS631c+QM6eoC3I\n",
       "LL8l88gDc/+9suIMkmdGlJXv1F/iTjO52yk/EOBBgbtSEnpivAISdqhJsqtOeqAxb1upoMilZeQF\n",
       "DBbKHlw041U38Qh/r5/NHCW+5OncBRzXD0HRt4zaPPSIF5GKmWj0TX4N0kS4zspXXn5a7Pw5w4DY\n",
       "KIv73Bn/nFsKmBw21sqWeEvmsrQbQPvwrBJ6rxQErD6N7oScXJN4RFax7AraSCruseZ9sWkasC67\n",
       "zRDTdYVmJ12VblGGmZ6Q77quCiKXjshFZHk7Er8iXy0+1KZNg46dpa1BLIV4hUHtSBkDc2mFfp+z\n",
       "ASEwFchYtbg6a92hQagl9JsWh3IFtSVkS8uwDdnDDwMP9rGF2m+p6aT5qVz7HDhVld6D1men1yix\n",
       "jByuvVTQSQmdKwezGhZ1NXLcujAs0w2Y6cATqFKWqU4qFBJ1q6ZWbyBy20U6T/KHKyMD9EMDQ/SH\n",
       "z8lzLTCV9x8NP5WK7dga5yFv1bEPqk+6FqQ8MY6F5tBLC/IWOF40OhsvpGtKgAYotZxBYpY2OjAA\n",
       "tCOi6C2/gcMsqqpEQADlua3PPgBdVpWLg6nUksvlUwjRTl2HFTyy6+JeXy9JMtWm7AjZqbxvbyni\n",
       "cdh3eogp0a4KYbVBdw/SlJabF4UmfTFJAeW7W7tgze6XiCOsowq9GVAS78Acc0E8/QJal4gSTuip\n",
       "w0Fg62b/LvNtQnOk8v5sMkVU5DMFfZu0Y8M8uEvUJ8c9OW7sONPu+YtdvllVgUTPyXTsKjJ7lOxO\n",
       "b25xKPOjUbjsOCGN2TyRAelrVFFcq2TXCzTn0JvF1A2psfgT6RT7c+AEuEjNbRs19uVq7e8rIuWW\n",
       "p+qj3dUJEt0elfgSGwx9P3m9/S3SKfuXqXGOqFOHBXpVbLPxOsJh292HEbjrqGh6QwV+HR3SLCuh\n",
       "YRJIYIZ6nqJQ/F8yEjLimjRWcc8k+5waSRVLalCvOU/bcwLEymKGj6VZiIXKG7IQd8sk5J70dazi\n",
       "GcMk7dgfhivU+mGLtWiPTVvCyFoT4iY0XSqTXTVo+RtqmkoNEWa7/JGW3J0gcd3y7Q6Z3ALI2bNI\n",
       "7osabK11tR88D2bb4YNXeeu0Uuq/ySNMeja4wB4wjVb/q3BRlrqch11HVRV+Y0b/fKbD37Ksq9JM\n",
       "KF2/h/+bM9sIb7V4iIA/+WnKoeRHmkEBnw0jt/B0bVe4CRKMXLAYxdOM+eFe9F+US++65DU8kilL\n",
       "S5Jwc4mpXXCOP5CH7xSZJfRFS4UINMQMvGDqtfqdY/JBwbWIZeycrwei63uIizlHLWQ+tV65Z+ML\n",
       "xLYv2AbFE2V/O5fCIkIYbJP5LB02qw9SKZitIvUMc2IP6yDMvJxnHHTa3v2EPUGGMvF9IcdTSuMS\n",
       "o9ppfHko3W7w63cC52n2gn1cm63GpYh6rThP1YsWaIMA1g2RC035twFbJHPyoMzjNGS3M8YUBGZn\n",
       "BMkr7VInLAvk4X8hYb2jZrH2aThgwcqJ0SLzv0uAwz8s3cSyMEq9K45CeZmfBtJmNcSmSF3lWbJ1\n",
       "zaA7ouckkiDZvpdcwoK2nsxkrrV4IQtoLUi8Dbc1OGBLQ/vjirRnUCK/NzubOsTOydLGbLit0D9h\n",
       "QJph5hMv3eLOCkgBYafcFyoSvmYa9+YjqjHF61CzytDMSQtOY42oo/OFTyKtEDk2gUrKqYdHdyqS\n",
       "HNrwc9rYPwyLVAaGB+U3KZu0rQ7JeCwoFHmx+2WKJqBp9ScK7eV0DW/ExoPmJqMLGHOHld1KCzWc\n",
       "mrD0Bupb9EOgj3yP7Db7DASVV18tM18+TNNRLE4mPtpf/ks7Nqqu8DmlVI6cqvVenkuH8MmXz7FZ\n",
       "Rc72earCcBK966AZtXzzgqF7JsTWalA8BqJez37JWDakpY+hILeO2Z0uHeyopDBLLqAx5MbFBX0J\n",
       "eM04PYqNJ2zECphiwSb/GhGH0XRCYCo5RBM4VNYk2+FFJ54nRVOeTOpzaQbltX8W5CU6kYOR+t6P\n",
       "yVNmCMR54PbJq3TSvah/6lmj6Jhl0bPplxRky3opN98GiAHaAyOrECFRAbSMd/jWxniKxpDuWL51\n",
       "ymiFT/jmSQiUk65L47x/kT2P612Yh3EdXSMa/KViMnFeMJEm4emGW5nmN1VkM5VKfRGy3u9zNLYU\n",
       "4rSAOA5PNRLlImWEugk/W3GVfdj8L0pN3+INNpaCAOBebEC6jffsy4WPHxwk/tpEV+n/SzRVnjzQ\n",
       "6hTJaUZx55Hk++uzwS4Lg7lTaCKsLlcXr1/Fnn96cVolsxEAAAB2QZ5bQh//ALLsZFKLXK6WSwus\n",
       "vlu9e6YvZhEALpNMfea+IrJbt2Xu4BnuyHVXdtB2Ey7Y9d+gSLXZP0M/4/gSqjs/bUG4udE8Lmt/\n",
       "Yrbcfw6/zSFNvEM8f0L7oFyn4wdVCXbyMxEQJ0mmCw8rm0RKW9mM9t/tuAAAACIBnnppEP8AZQpU\n",
       "nKY4skD6SEAyeeqBnJQqw+67FyWtluOBAAAJ10GaYEmoQWyZTAgl//61KoBzTV/yElWAhVMh+Amg\n",
       "PFE2toDyHb/kT1gd+CYhU606ClSn4RdIRGSFZeCn1J0iXiHD5T1kKdoL1bduIImUPqyem4UkpEYd\n",
       "mHYz+wZG8kOjKirSewqUaTpgjh4zMMaxwmP66WQ9c0/Y2DpXcFORlkiF6cAn4yFtS1mcIvhF5YEu\n",
       "j3CM4EOCfnZECdJhyTo0IAFfipaf0MXGY9buBAlNmGAnoNQtNeb//785sYxcFrMVarMKfFXE61Tv\n",
       "IYsamDA9LX1dGUQF8B5yQbl5flMJXWwh40Tn9t658Zo/HWXZwI5dY8i6w2axdaA1X8N+SGAL/6En\n",
       "RA+EV6V7338L6akrwRPhW8qJddDVdn63ToMj0L62Q4z93J3sIXEbBjbdI9LiKEWQqIJMikit7FSj\n",
       "354g/VUUUeiVZ0Z1fgDpyILhySAZYzAwczUJ395mKbHykTllj0jypKRnxLvkj/eb8eosF5thlsqU\n",
       "QUUQFhysJkEqjn0JCo7snvbdJPHv25HJUFYCnUCnoGnaWUCtBPhQJlchw9hnzR7ds37ZRTkwFB94\n",
       "Dku8ULFEr40s7AV+N/9kesIKZD/8WPAjpl2oQF+ZuBkGlnK+hDx+DULBlI7h3+33twlkqSg2ZX0i\n",
       "3bBanEMSAokTl/u2EsJ4mnU+9aMgJqvxilBPHVm9eNEtCnXsONhso90lAJZCC8sOSta6YXbL0MTy\n",
       "t7sT9WzKCX4XCQQloiiQerFbHGAZoGftWR74zI22sYWdtHJqXPK4zX0NRaSuACTb95GojY0M13PJ\n",
       "2mGgv+ojS/BY7w8DQmrddXGAFs0PQ/rPfLF5x1GPNTz5WYK+898HZiAphUhQXinkFjyc6pwk7/gB\n",
       "+Ebxkp0KNBSl/UET/Hc6yK6btU+lW9PuUDbuMOrL38vqaJwbiEYZfOrCG7VvCzrD/kYO3Cjo5jfy\n",
       "coPrq0XhNdI6Gyg2hdFRhJ6vl60wrAkaHo8aNtEwbKvgeYH5aB4P/zW6GJVDzMqnCqS5emi/pXGm\n",
       "1k2X5JXzTgk1t7k8qMfRLdKAFr06hvBLjPepFe6AKngHIP2Wu1DcnBn9Bg290ndj37i/HGC25/Lg\n",
       "Jx9W/tMxrmhTyR4zEmBSl/K7nn3diNrrdtNn/oqy5fH7s3M/Q1g6yBzFkRdwseH+ltdE/slpvU/X\n",
       "wWKcQPSO9P0PvHHFiiUmFkTX9q6ijMcjRcwsV4zzPP+po2KfcCiCqh++NjT2Lg4zqYRmBc/3v5Ch\n",
       "FR2fJr5USXMoP+VvcwHTZafPTf+fgY6q9CKBangxvdFcxDhcxYmcd2HsYdmge0lOtmpUN3UIdn3/\n",
       "Y9WhVXqUxen778jR9AVazMqnEf2GsZQFpq2bG61s5azm+rOjAZ/WB19j+aFi8Ltvr4Bkt2RYq4d8\n",
       "rq+Uj5VtH73mlknHESNkGfMrghyGenGQhfh9RLrCS+vlTm1P9NWgKDjiLHOivdKJC0zQGOkwrGz6\n",
       "OEEMUxNgWWDQEoSgy3KU9sfUTo0Bg97S15Xiro45+e+CdkZXuNwBnIcXtNQyBpUPexnmvITvhf9a\n",
       "egJDd2fpqnm4I6oZpic4v1RQ9GcCs8WzDCGyxSyyfq7CGr3dzWXWtaLlT3o6RXxgD7KF8mPEQ/Eq\n",
       "rUTAyQNy/ygroKgEGHrCHSGmaro19qRLTEhTToFx9P2tB9ekkFl8K8DLj3mDlvDkWOSMDqps7cE3\n",
       "vI9+Qd8oxMhTckMikjBJsdPgDYVyXf/x5jkIOohieRacNmqk3FSAGPL/twuTyFiu/fLgbHiFGZZD\n",
       "GEp0ite6nf3cLK57O/GOAzEPqaKt59BQskDyRyY0D0S2od0ttZbE/sRFvuAwTqkcMKGMBHTXPKxv\n",
       "CjukDZNEW09/B5ZGLRPpL6CM6ogPatpf6cldhx3PjF+gKPqdKkOr52xur0EJc9tExpp7VEwOaYt3\n",
       "FozqnYTbTg/Sb7rSM9FY1QLoOR5G503ZgjzeGQubBeb+1286yJHqaAKRUeNyg0FJMtG+FHLN64RO\n",
       "JEUUrGXZN7SrwilDo25UI1rh0+2I2D5s5RUJ8uZyqyNLdy9XJPu3a/umoRwWn1JspD7eTYu7f1Vf\n",
       "rPWyfswa2KItW/Sfmmi+zGi971J2nlLuRV16qhGETkBwCbz084GMwmvi3j51+fihlADwbz24ncOV\n",
       "Tm5yo1lMnNHmVFu2FcphKgzjnJPRfTDpywHbfT8KZ7tiM2g2UksQQ3wNTF3TnPrgAIqSjJKsR90U\n",
       "kcg5QNXFwECHQMg660Ojql57T33JHmZ+Z0PRnD+1WDGPGyXT58o4bKKIo1ixXpGFRZWP2JGAIIbg\n",
       "lochLV5z9rwd8RphKOz11Yl7EtTOBPJq1AjcP6MhyBHGYRjahCLnVxqePFblHe7M8MUweSiGliQg\n",
       "T2ReIjgFH2FOGzJbKX6Tmg2cE5dnMe7bqdpu/UOo49wAV7t5mk1a/V/lz+/3t1AmoMBOwzsGbkn4\n",
       "KG9iInCQVlh4akZOW9QxXQDa42GBVCUnJT956BlZZMWDbEVWFiNMXjRE7I8+9fGzGn/5WkFc+S4J\n",
       "KJsrW4hypTynqbZPM1s4RVcG5rkMYpj+QLCIOEgJJ6dNFVf399Fu+wiZdZRKMmsLAAlst4lp7j4K\n",
       "sjwZ6aC24LfvOYJ0PWzZaKpKT+eE35R/LqOfW1Hf/aquACHqb1rodY4JDmkkoDIaHmMxpewwqI2l\n",
       "mwWGHJ6eRyMDJ1XUYZtO6JAtJ102JvJZb+j88lsUN1c6GIjKO11jKsfTudvgXfBSQ7263G4Trca0\n",
       "JlWocxkYhfjk7ZK/qcJ6+Sj23q+c3bJ87xPPJ9nUBlC+ogWIJ4p+ci0abC4/QY6p9NtKBo8dfIM6\n",
       "OJ4/Q4XWbxeexAzbIZRPNL0kJEv/WojOHDnF5UybK7hEeFdiHJ85BiuJ0HEPKWVvdyKZ2eFFJXPc\n",
       "f/ATyTg7B7x/xz8gfHvbYms+pJD8jRt/PWEtZazlfgSMoCjC1MIXU1yEB7K5C/bGM7OZhSECXNba\n",
       "FPSp3sFTKsDxJJxtOFriVaxSYMgzvikeImfL6aYDGmk1hgMgSwRf1WhppTI4alUmvCeJen3Qx1dd\n",
       "T6QvEecrHv6T8tFOInT3GnUAyFqUBzjvqwZsJQcxK4icMKptQSHYAa6/+p7pm+CfnluPxFAOvxUF\n",
       "bJm0E/P1nF7RoHaO34dQs8ZQJIgwfVkCV+yfoc06X1Tx1cUOkDCi9YCrr+njtY+l1n/YDnEex2sY\n",
       "KiE4G9DjB9XSDmAMizIuux8rO++5/6z+JBmOpHuQpqtQCAywygxB1QelZLYVk4agdRv1SligT+8C\n",
       "bk3aZvEzZa4eFuINcPUVFkBOpVQb51DdoajsdXs7u31G5IjKyAfBAAAC60GenkURLBD/ADrlOzHy\n",
       "Np5Ii/PiAFehd5NwHv3kn5isETvhcWrGZ3M3laHQVcLkFYYP7AO7YaH4BWnocaf5EqJnnBfvgGFl\n",
       "ECBHPaOkNQ6315zifjL9LazrIGwzEFJZI1FDh748FR+oAvKxrjvtFhLFxzj6T/I6471ZC1WC8PxG\n",
       "uCFoZ8LFg0WWnBNNo1LnrRGZdrFJPm8Tz/rAfjEpD9A1Mr7UXP6b6MQ2YjWIjkqD9XNdxSznupot\n",
       "NemvlADy1252jq1v/Dsa5FG2wJiY8jG8RBqZha0SuVWykx527ej6wqzTObCHH/AEOXlar8Lhd3wC\n",
       "UrPP19PMyiAUwtBUDuc7CKrM8wIOo+Fp/TH4cVN4BSEgsEJIhgY1vUBs+a+my5KJRGhGBdbCplJ5\n",
       "TfrifEYHzE1mc8dHA63qzZzrv64KC8voCZ2nGc9lAHWyBre+EGOcmG2Sjf8C4SXYq8ji5gf3cg7n\n",
       "dYmkDM/gq8XvSPuJb8kHCFyFOzZxjiunZP4O+8Bpkq/ERJIdfxCwrNzr9yeXESCGyRhQLKSPSK2G\n",
       "lk/JEBBaGlR8FWK0GHKR6uYKaybhRa2YD91RhF0Bgh4L+uoRlWAAdoR+hoTIT/oLQbQWCE0x6gFy\n",
       "Oq39tyahMiyOy/YA3Yk1iNiNG2Jk9RlMCIBEajTXo5b3uuKip6UrVyrLHd6iSCrS7xNq3EfHnq05\n",
       "vCkwTPqeeY5Bgi2I1LipPs5pql+t3AsrJKMknajbv1FNu/FxN2K3yCDOJRJG0opDP1aP+bqjB2zn\n",
       "O1Ad3bVfDNyDUQ4JMh7f+6kHNcLMchIDWrsG6GrLbL7bZeZM7AZirWBK+VVQsW2j6LzF/bjCZsdZ\n",
       "mJpmriz1ce/fl9uogqtXS/wXbYZn9yjhio8R+M8wexXQ/uxkNpsrwESmFZxi2mJV3I+ZJ44DZBag\n",
       "bH4VRvvFbiWg8xvZTUkyh5Z7c3G8BEbqQethCs9F1bdQG1D0mNSKpTz07FeVKTN3vAAAAG0Bnr10\n",
       "Q/8AfP/OkydbVLp654WnYuNoqUOUuDuD9sogBmFF2Y+PT/OgzV5N/A3X0tE0pR6FXwK86Gmq2tYu\n",
       "JnZpJ3gg3HCeP/95d/XwI3ueuLEk8OwiC5t8OXzvhkOaKYY48xq9J6oIRV6YiI+AAAAAzAGev2pD\n",
       "/wBlHbUFM9gnCwLr9rCrlXGpW5JHw7vN1bFVe2Bct+g0RTZe7KMeHH/1ACsQgtyuearaEj41+xFe\n",
       "TK4TfHHI7QPwz4VYojim+6jUHEo7Gq9wp836j1LCvAnJP/C6m06rrGk/lSElJ7nywDyJ0q4k+2ld\n",
       "DnMbZ0ciyfD2xvVxHQD5LPG81LWfaUzzfoz4xrn8wWvV+iTBU13acTs2PFUSl1po0vFrcbI8MhS0\n",
       "op0YJfh5py+0EiS4+PNrsf/+lqrUEIRpzxaZ8QAAA15BmqFJqEFsmUwIJf/+tSqAWqdKABLM6rim\n",
       "7JpCm4bJCl2i2G5XcE6jizGLOaX+PcivCArLFmzmIG/AdJeulKzhGgyCveOU9Y8Kr75Q4LzOWE5J\n",
       "z9UcCwWBlobdp5xV9IE9t00ai6gZ/CNumkN//Cxv+QhS3UdyASlszfK1+xn3g3xCqNfDNU49tOrE\n",
       "FzPhb3JlEwWQYBXgDst7ivPmJHec15qDX9hPL1briiqbq5Rr6S4bj8TOTwtkY8bmAUT/Y++cKYKo\n",
       "dcB0Ht4rxp+ben1lKfeKJg3pKKRtQwe6MUch0wdzXEXdq1oXfj73nE415tCBAkREZ0kxEjVZ4cEI\n",
       "+52TVQWOV10Rt5V+WYABae/FPGd1tCxA1vWtEtSzL4qNdhwrQPO7diWXrkAqnvzDFLCSKMRfiZ+T\n",
       "QvIXS6Yyfb5n0zETw6wfuy9m6QSIc6Uo1fjZ6jeVLgWcUlvwjAu7gQmKpDhAnQ36s3VrZO0m9N8Z\n",
       "vuZxGb8tb/8qzf93yTb0eXO7pgDJvd2vX4o6QhYQeb2zGt/I2fs593ssYfrIZC0ZEf6F4ij9GeXP\n",
       "8SP1wc2lAF0f2gSEAm5sduBjx6w9zQ8ZIK8DjHtE1Vvl2TA2oUQG11LbiYGUKofn8SGelB8/e+TX\n",
       "JUQ3THODrSNwtHrcoKirJBl7K8/aBOQ9pB9Xr0/+DDg/jDBelgKi0MlOposOWmLUwkCjmnl8AIex\n",
       "yDb7Y0llpZELtrE+Si/cPLFmn3J5d/FgWjejO0BcS4SB6ieRDw/e723fMteJTSmLTbMMfCLSrnLO\n",
       "x/7hrwMUjegqxHf6y6RYM8RODswywE2baHi12z/IO+D9MJUkUOA2lyNyjp+wvdiGL+tFsj5Zt7SO\n",
       "jFpXPJli7AxPkSYadiT461mx1c/vVSGQJmpZDQSibPjKcTQKDDD3SxVbO/uDGZIYLGf0OGdLDzoi\n",
       "DL75KAjJMFnEYHsBLo9RY/jTrgy9eBMnBymtuMFA8u02yawnm5fAEBQBSCjaQTbm0Im+xRBmhzPw\n",
       "dEqKIJc0KrDc8e6C9ei32r7AWUEB2zth/RD1F9BVL1qXeIuphhV0kBmx9aWZhEUdeL1MDL7eJkXw\n",
       "TrxfXgtRtoRSvn+1R8z2x/w6GSFmtuSZAmC3ptp3MOy7u8v+TmzsAAAAeUGawknhClJlMCCf//61\n",
       "KoAK4WrtwBZRy+EI6lf79iy/hs7DqoOW525U9YcaJyDu3jeo2AZEm/9j0/yIefryMG95f3Vf6LRF\n",
       "XB4JrMKUQ7kj8MP0v+yzM25s7N76SIZz7FkgQ2Y03DV/BuvAXCGK0LR6sMkdiWwAlJEAAAyxQZrk\n",
       "SeEOiZTBTRME//61KoDDmr/kJjFACtnG2ai4nyBjA6TDCXWcm8hOmr3K2e5l6gD9J3y2dmMkc7dr\n",
       "rWb4RppZvr8/aoZSSQAtF6r9p13Eo1LFf+CmsF2MtKtafhOZlfQaJkcdjvkBpoN6qUX2/UDxjcPr\n",
       "3eb8PXWcc8YzAR53HGeU3b97E8IVML/k3q4itnwmAhQSWEWWS1GoSkvWIzAYvZHRgxLeyHKgxV43\n",
       "+br30qSJPePDSeOcpnRNOObSEWT97DYwMXgqN1hn9Mdve99MpZgdfFi9fWTe/y7ss99vRU33Pg41\n",
       "m9rOf/4RtVlZ95u1FWsApJN8//SFf9p6GnK7qfKa2yDkmXbDdDk6qtOFsnQl9uMsb+A1p3wNC/TO\n",
       "ks9TyzwlJJbR1ud5Po6ah5MCrBBGvEfsJVcuu727kbfm+2TFVBDUGBppUif8WwQ+DUZVC9yDPVoA\n",
       "agySC51tInFSNsS9NgBToBXHrqBcmVsWwoSu7Iyyoa/dkbjD+o0ntYhS5d5FCBxERvRvJ4ToMZ8m\n",
       "1Eq6tg3oB7xL199/uiOM78kSyKw2DLxfB5Cj9UDcsTgOvXh/Cn0KheAm+mD8htlm6EZMHex0Fhub\n",
       "e8ajeyN4jeh3IPGkNwQsPVyp+yY5fwp2dTrIbzIW5wiI6QI3KCxUfA7dgsboHhikcfwvIJ4+HX3+\n",
       "MbuOeZpbWdP+qQvHTgFyJ9dSJHoNIc5JWYdzWsCucgEmbgOQEL4afcgbAC9gKLbvIfsg+Y9rdAnX\n",
       "mOTSiwgDJ7646H8PdjE7D8oFmLLjQQAx6UE4tGJp1Nl0D91S68E8EYeePZUpex8GNvf5v2+auVn2\n",
       "FAMZP1dFGLW2dIqgDADFlStNwL5X5x6sYRIBJ+GRdn+Ezg8RYUYEhgD0vfPbW5zqOG2V/ttSGo13\n",
       "hHhhmebL9EE3hNohWMU0Ig+fxZHrQXGJIMk5uyrG8QggWtRonexKI/uHCXZRjkaehonkNwH541S7\n",
       "FGbttdM0tPIFFkCPuPb9DmVHp6OLpFyFA88kgPBeBuP497kACTBgPWqV3Y60xSU55+2IrocZHbMT\n",
       "gz65wTJXW57YmdWd3coami2sItrdj2miO5E/zT5RDLkkmH10PwzRnk952GoGmBxXJDEESJyqdtml\n",
       "QGNjzRTM/N1DuDsltDpxlAeCmeDSD8xsqLWi5tgU1an2PNghKRqZC7Z1EnXY90IJqfsLLRPiK8BX\n",
       "zeTiFbH/36EXBby0gwWksPPfn7a7m0Y/9QB6nWvpNdvsYL2fnqJSr8eSWmdnfF55G8kPyAt6VDnM\n",
       "yxB8E5susc0qHjBP6jQ53rwb2iXSNza8kpAYkVgLU3WI8QIlHwRxMj2T8TSqHlXheZjiQdR9OBf3\n",
       "mS7DWHvi5ElmC4M0mg7wiHt5L2oY6nTrjn/DsKXsRNqPimRRPkHlx2Rl8mm5GDKTf5CU9kHHOOVk\n",
       "XZWaoxGfOrpNW0fmkLIdRYVJPxvWefipNKViqHstektG2t2GsnA/OBgmQq4YoI24s1LFRS+BkiTD\n",
       "IolEEjt1jj915sFtJIAUOdgvKMUR+YF5F9xxmxmjIWhUidtGulwAN177xbz/ckDA8y+Dm/N8nay3\n",
       "o4nu+FcZ2tldLZ0/6XI2xUFPak7c/CKt27OHZ9plxpBJLQ1qcfMeS/jG+QMsyz6Kly7SCHRfN+yf\n",
       "eku0PT1hUumibSbR6EX537zhruhY5Ae0A08xEXHEGP4edklHi1TuS/NXVtrO3CcOC5RaNF8mo1cC\n",
       "dpC215lLDBqQKI1TwsziPAlD2E5oHW8CMpK1N1+DM6t+UsC+2orVU7aXl2hnTeGlos8u+GEvJHHA\n",
       "lM2/zAtHgOM1a0L6u12VLV4219ucNBAsIu4kU3fHfS43tWbVza/2OBgbgY6yqlGcoY9dk1PC3fNt\n",
       "iUFZe1IaA6tdfWsYdqqRcYdZqpgYKe4Ua90iVUaZkmkpxge+AVp+KYpP2XvM7HEAPuWA46mQJmM0\n",
       "3XF+AbTICu4ztqizCuwExkaJIqk4tqcyiXKFIPs+ugFtUW5wXb1mIPsnrXFAB/nIDUNMZp6ymHRI\n",
       "rFHXPIGrytZDVaWSfDmo07aoO8iCppObzN9mTKA/5cKUs+IoIOEIdu0lpB6nevOr1/Z/CC1uDzDc\n",
       "iq5QhhBgcX9YLuSSTIR4nmVJp+rT0CLz7xVciQk+0BQPb9zEbuQrzbXKisMvzktkJiSw5BCXyaYJ\n",
       "mTKemXGXw+94+DL6JWHYpwe/BXey+MC1LhxWMZUYuX086ap4gh0to27kUqBYh5eivMRZNhygagoL\n",
       "SzwXdV421R9i9R5O6aNJq5y8mpLlgeIadI4tMFVzEg3BISt8cu+1/0yLpsQJgAsapywX5JZceGSn\n",
       "sWlh/HCeAw2rpZkCPGEZEXnPKBGOHhiuVX0ewbjPJCQCebecfndciHZaE8B2OwAeGeeQKGocqK7b\n",
       "404rsjNT0K0x1SYZL6cvLYo/HoRTwFDuQQe5jko+ibUxnYtd5AAG5jW6FYfxYz9I/QVuuyPulAgf\n",
       "WdbyeJuDjpQ2vioF6nc5QmmW66AtZhXoI1AEp9YvoT6loZ3oug3aTFmqLxYMa0R855KQpDaIulBk\n",
       "sDbMYzSkMKfNwDqd8fqGuDWWZX3GXHkfS4PneZq7GbvhIXv3RVD9h2ylLGKDTLKjAGn+oKOWQ1kE\n",
       "N+V8RlPrvEvcNpOwbPn+8zQALl6mofMLbbe5QAoTUkS1RVUBsxZTfz3fDbvqoaCGQahlmvZOm6T7\n",
       "2rK+RN81qM0vwMpxbLTbBJdmbgDVYLClBs10iaq73KzwuWcrXB1PsXQ28SuxyWT2UfNS/GEZOi70\n",
       "rkgE5+MHOJG/C++uFw4nKjRJq/0L7ZDo9Q8NFehFu3cPSIzus+7Wiqa1rrr/wBW6zsQGzvRLc+Q1\n",
       "3bMmnzgDzvGRfocWqkC2e4yhxvlMkZiIxzr7+4ufk7UJjf2YvwKvB3novvA/EUsykM8H46fX+m27\n",
       "A6DdnUKVyh4KqVv3k1jU9BT3H0Cux/aHHf8J2GgICfS0wSCL0fkelPUHaO111bdKeE2GkhdkOnfj\n",
       "kn3+qQtQGpeTgVqMxGa9VfNORMO2Sysy4gP/CXPFE/g2wUYoCqmOjP8eSnZ0knqrjAyuUiTGVynH\n",
       "w5yywDMlYRMnXfdikuwrw9UT9e/K9iCBVTjUA7LraWBcMSdsTHEcmtxsNwkwb0rhu4AqCbJtw7e5\n",
       "LA7lNvJrC+TiucMhfC0/A5xF3H2qxoKiGragdbwINTZJdgctfbfRUnv7zBD7N9zHJ3LLliZax4gH\n",
       "a1TVM3yxqRZzklG/dpXw/BsxlQjEmXnv17D7Uw0NGl0z5i/cyx+Zexi32waSoftLmsCcfM8l2+Le\n",
       "32HyIu70jEeER34UmmYaPbcnXetx19pH0JIGgFCITdk9/OtmBESg52MPTgCYAbqQXHgNK5Fd2Bh7\n",
       "JIQ2v5bjb6gOPpBl7fZ1nRZ6gCZo+mRwJYeTJVSd1lUaEGToWEJU5wIG1bCa3Qx8gdyZEWXyO2EK\n",
       "02c1QR3LGlKkyuOfTpgmfalEjB0ZQ516DRZCDvpDN8ilgYtGLWtNA0IcJZC6DxI5OZ3KAch67rtB\n",
       "ylGMoXs0st1BU7v/Lo70f7UnTL2RZ6NW+hRZwss4H+ybnqO5qFkbcImmCLNi1aF31r408jeGsago\n",
       "gm/QmaDORQ4qvgkac4SXWD42SVgDXSOufwsyMPKkP/5ZYh1QzPuf960J3D4a2shibmsFnEkbsYHX\n",
       "0snZbCUjfeJc96B0/PfCa4FaXZNb6sJ6lU0RQDMHK+EIJBdWiz7WCVRMHl3OwpQMRpGFXzOe3KL5\n",
       "U5GBYlD9QDwAMhlMlhV0TCDx+oKRvV3A/ZGuXUphFWpK3Qg2N9X6Y0jpM3YtM80xGoYJxIM28uLM\n",
       "9ojHecEels+ufUttAZQQfDKXjyb2CUp/oI0/9cOOxqGiTzIXYWa41MEnZspSZCYlXeoZ7QNU4IXx\n",
       "4LpIdbKZNwgtkV77K13TrNzEQ5NGxoUYBongc+Y5nZL/sfClHIb/TQgtL88rFkSfjTk9ASX+MeAx\n",
       "szX9Pdx889L++ocDThk/8aUX21U9f7oZ5ZzcdQnSC7BOWeRrIUgSg8pzAEn3iivSHZjaFPMAmJNs\n",
       "CfybsZg92nrPJxZsQuc5aVuSi2a29Sy0EH+LLBT6UYYzXPkzU38X8R7VsDIr15XJql8FR6U2glKK\n",
       "MZlYY3th7K5iI9oCWpdyycH3VLXlUg6OFKf0pOnX1T4FWo2TeItVw3YRLv98NMApJVu1fSyJSuvd\n",
       "9y86sUcA585CTFaZgIJ8dJ+/MckFvaxls4paHS7KNl2rFcPWB1L0lq1ae/c7lA2C7bRQoiOAAAAC\n",
       "DAGfA2pD/wCW6NIrGyRAHG3u0tfo6IAG0hzJOd6qvfh/k2NNi8IUVuX6+WlOzh4V4QbyIMGgE9wf\n",
       "kNCK/1L86r1zkjeUBFsBlJFq4Mp9nLpjbgxKhLjKTGnE8onZcHx/PIXsQvh8Tb3SdfqH8DqH9znJ\n",
       "c7TVxGLEJ5f/4nM80LrVHdOoAL41UYR5yBIp91+JnivO5oJnaNwWfHRRVdgDBNmPYOUB++pSfTwu\n",
       "7O/+cLrBbWA30/nWooQYj2aK87f/B1BmwjKo+eP+sLfE29snOPjuNnZ20i71uf49b0Yh7gwSaLfa\n",
       "N6AJi40/4l1bCtYjwVP3h+FOZa1YbPU5Vb0lNGYmknalvQXon53fELJPXVUIvCSeQ7VpBJFTBzhY\n",
       "rboSJcXzXduTPpKn5f3PSOPFSxyuU5GXG8OVlroveCW1cPu5cVHC87fy2ognKrjO1dltHvE6otMq\n",
       "L2COfjG6QBJCW0PFuQS/i/1UhuN2g88RssmyjP/jB1H6apuIOvMsMn5juNNYBr4x+BF0XdO9UKWv\n",
       "qpTknc3bUQIZl11dqf1tDZMInX+YMgL8SLwloolphUp83IfeVJQkEcT/cGg26e8EvTEfDXtJlRBu\n",
       "MVVc6OQ2bR2GNmRKy/+qFzOI5DyQJvKmq/OCnVvQrpKl5tzLQQRzO6x8lnrkFe07IdoVw/WTkW1A\n",
       "duvVfunRVzWSlgFBAAAOdEGbBUnhDyZTAgp//taMsFfsa4AdLbuU+ipebIJwMxyeQ9Y42ZUVVqhk\n",
       "4b7NJv5xNap/djqLsYXadyZlbLtnlesCONVTf79CPQFrb2dqtESwHLZTaY9Y3UiH8aSF0s6zrs7H\n",
       "eUR90BHSTsaJgWE+6TJ01WQz+VP8S5k8ILADVCZZiKSUQEPVlAmx7DeXTujNv+uVRAw4ZCERnhHI\n",
       "DuCbcloZUjzMXt76BGFecwokcQEReNAgkUp4/DVSiDug4h7WJJko+Iv/A6K9hQ4K5ITN8FgqJ1JE\n",
       "ZgnAraROo0pt0gWaNAtz5rgiHdWoJWFYQWp9iKleON7AwaBH/CQuFhAzPGsWkL7EhdBoc91OiIUW\n",
       "2znRe6oxeHiNzZBzeImt6I5Ng+5+PEGW0vblqd7EXfOv3ELfYfETp7PV8YQx29tQLvAjs7fR+BAR\n",
       "ixYNX/H3lIKk9vyLaByYHc9yxGr/5gZ9D21nBDYDIfLrKDOT+2DU7FP/R4XeJHJPW736OaKzK/eG\n",
       "4nK/0w1XEaAZq3lbOy7NvdCkNaOtPqz6l9hqPxaYLXf7PenXxOp4/NPSH9F2OG2Mvd4Hl9vdLKQd\n",
       "arMkGTXVJQIgUt8zkXMhv/0s1yO20WFwtfrFEV/2M0s0NfkOS61FcDd2YTVVQG+tEvfFgm0/pOh8\n",
       "xJj7XkmCi00M1aEoqw/fnq8dNhXbdXvhfPfB3NLEMjQri693AvLT9EftQF+jAWXEWSVtYQTIZIs8\n",
       "I4MYIQTjMWgaSYCbuW42Yw7RcMHzmGblbFoCAkQnU5ZnPX1ISSULtu4qIHutXLkkM9ii9gk16jZc\n",
       "lMK5xK0J5goxtsIKmkJ0CkqWjWwB7D7rlBcv05rn4WFyL6PICdV890G2w/95vy4G6ZGSw11jCZ9w\n",
       "XQ5H31VgAp1nItDUYlyyNI1LhmN9SFOGs8RK0PwpwVzNwyKvZzSdG0WwTuoYZbxpW+xgcQmfLfSn\n",
       "rZusSIXimREHpyij0SXa0yfGOd/tb0Xi11e0k2RumPPpdTeIoHAt0AAf39WT53lz66pbvXrHJPPK\n",
       "zXyHtkhNlSL6q5S0m38YnZlgdCG9zzKrjO98sn5fIqZnL0zaYrrV14iQ/PbAWW9NGMe/eOOjY606\n",
       "gRUqasTmF/tGznSDE+csR4mwlvn7dZTspC+IZNlh05v3efMT+PxlJ4owcnIEgutteLHmBYgZqsYo\n",
       "xLnmeeVEPyWzpkmk/LeVVd9768ZETE8hJANdeyUWC3E3XAzpGwo9ddBr7DxHPLL/qIeYNDlEC9of\n",
       "TEGkw92o1LYNqSsw172iwccRE88uEfuQLMNOgUpMe65W7+cRpSEvZbrXTvX+F06zfJ0rfWCvyfrP\n",
       "9yEHNf4lONW/DGg+0A1KP4W0vUyndbpuQtisfrX8RnaZaveF0vQvZGQVMMXKH4qqF8A04d8EHWLA\n",
       "yd8zu0U0PAAPKu6N/VNWAOyxaGarm97un6YHnpOTyk80DHN6i253qXHg9GM4Zf9nUyh58GzfyUvn\n",
       "YwQMOT3NLk4vloCOC1Yqt8QLvt7isncvLPmRNi6FpzRSh+L0LHdhW7wY0LJQo1HmH8+hgnR7G/Dy\n",
       "54QBQj+sSuN0YRKc4jr64wk0CQWII5c1qVEzo9NiMZxOfPD7UrK0NdJ6961tjxOWAdnIcWKKkQi6\n",
       "bx/CBzhGcuHxSX7BjsBOfWZL32jxEZUGiIDraoZn+KXUTlFgxfRTfvk6g2NWt5Tx/omMN6cEy+iE\n",
       "uEy+OUTIr8CauwqDewU8Gm5fps807pXOaL6G5icNBsjZ701PuRxvQVLumNPaXbXPQMtaAKZp/+m7\n",
       "19VnjFOYv7aC4OAL1uU0lR0UOH3rYRMTBjQSURNVU/j+RG0EgVCYL8bm7nwSjP6lj5VfQB/Gi6nN\n",
       "9RCVC6R3oOSX5a92NXDKapOeAE1UGhYYudNlKWdl//B/HacfpDZR71E22HefYOODOubH4J7fCpFl\n",
       "1thCGpdpzzaSl4OluXLyIWDvq9aC+ZO9Gln89q1QNdWYG3VrQ0DR95sbEIng+7SGucf7leqqzUUc\n",
       "Jik6GEa1Yv2mQ7ifzSz+yzJO3bWsOVZf8eTXG1vMs0NCyyRSHgAeXLosa2MaCLi7hsLeC8DajYY5\n",
       "iKROtiGk6fRA6F70XDc9UMuOOtjYjSWRwPx/8ga9hyAy9y3Xgitn+TVfOdAqAuOIeIkYnCaPOo2A\n",
       "YaO9+n9ZjoaPqpZeoqhIMTJOgchTLci875bhjBYdUUeU64xJcLGTMC4E8ZHssaC5AMq5AJ2RNAKC\n",
       "S7rszAJfZFqe6Lejomsh46IEpfM14FVfnpANzBB6DoNLkIvo3rBuQ4MjYqE/HZMJ45ual9QQm7kW\n",
       "tBVx2Jejb715v1GSnJqAiCvfjTQyALtNmxspoZsIzsSloJVnv+xQMD+OEOOK9ySIiW644LjEo4Xm\n",
       "0TxSFTwpUtf05Vl7iHxKdhO2Dj7gUzVgOg7z/blifJI+R/2Oakc5RP9k/iIlIsjtz2Sa8H3ukq1a\n",
       "SK9TAdJNc4FS2lCLEAIij6F7+EzpN35rLw741q4Nfpv91twUEs0xXREISPKdJcUIMKDDNqiffpu6\n",
       "HmgqK7EB74Js3HKLUglPzU7Glr6/erib1QS+Oq4jUXxYx5rnAYhbA1OtxSFQgagdM2BGAaEE+qTs\n",
       "hquMpijRxkpo4sZD/Fc6FdDh7l+2tVsIENFpsPhnMwuCPoDVicwD0fhE/qMC7Px3wJMTvUaSB9C+\n",
       "cFt1AYBAO/LaFBtiB8N7zZjiC3FGJ0g6Nt6Am1EN0ACtZ6sFekX2qule9WOeElxpysTV0NrEKaEq\n",
       "yxf3Og/7DeClHB7vTrBAP075Z//UnhW9nw45RM29uYiiRIumL1AA/8ltUIS7ZNkgmGk3oOthi7bx\n",
       "E6MVjrPBcbquuYQ1LaqRvP04VpjfKt+nkmRhOwDraea/wY8Itqv/zEbFaEOuvNqR0Wk92PLWJBUd\n",
       "m14+XqqybBUKfrzFrHQYR6NSkjHKF+6zXs2cMrYcN5FSV6rUcQx6XE8SiTohA5KiWAojXJO5Rz+O\n",
       "kisSfSQUos4aZ54DdolzND0nPB440pFCgA7FfYt63Z5R9oWwqFBdR6MUR+zAZHt8IPuRSTT1v9IX\n",
       "3PqTFzHWwONN3TedC4b+4qwUGTgelxrRWLAFFKGt28cRpt1z2gKN4nfS9QGWwzyPWvnhZOCkBLk9\n",
       "hcVATH6I85w8qPee0Q6z6V9u7Q8lJjIADd3twoo1xXWa5/B98hfHigvMN4/c4k45EmQGR+kCkF/Y\n",
       "RgO5Bky4gt7MSL4h/iiI/BV238VOU91Od1AR1y8FPI7RddeHcBYka/ZI3oGxQcZhQ6qKIJhB+J1Q\n",
       "BP8AX/FzrykT2CW8uO5zIPWyMT2a++L0FA14+bPuLQNPDczISEU3AlgJ6vfZCcHsDHE+qazIRhE+\n",
       "rW4lZZqIhbHCTL+/xizxz04Ag00WEHHNBJ8gs5d+w+KdFIjuFOj9750aAqGtq180WbcB/171qu5U\n",
       "ec9Up8NUroJkuvrTqg4knLleypxf72kIy6fLBTdaV3gp6X3zVqiio21gKcwvRtxlB6adkPJtBJYJ\n",
       "7afWLfWW5cQV36qIXiNAlKAYRlEbym48vsGDQU70xLTca50KiOhKLtpln74PryUkUeX4TNm0ch82\n",
       "vt28eNzP+nAfT5rONMVn/GIawjnX2sBkyGcAhqy0+wRhKqTXuF+lcqcR7Drpl+9ArdoOWasi0vbb\n",
       "n+Eer80PRf8RB1IrPuLDAxq6i9Jj7qLPVv5+17F67SqDGZVRVoAxVWmB95vhfrkkhZ9wPANK53ES\n",
       "35aNm3khI5fjH5Ps4lr822+W8rXTBrbwVJVJdQjajNle5VBkDbLmKvAjTbD16RoNwytPDY2+f2ut\n",
       "feYRa1kTJituLeibdUb1a4+w04wBKHmV5oTAmb4k3BCcVkbhrNP4jdzYCjJHSLEVv9otgfvmEZZ2\n",
       "yyMXEYXLWeuuuP7oZMaIXoQHNHfQJyIORf1sH/VSDwi9YudtccIKr+wKlJlsHjYFvx4j0zJ3chs6\n",
       "WnNj93r1KA9So21r9K09zKsTn09RD4AHPWCF/GD8FECWTJemJL7ipSmCrsi//pvzHfqoDI1ltTuB\n",
       "31WBqPGqiEzV+QgvZ7iRVODQQkC3CnO4+xFhF6fXABUioPOk5Mqea0pQ7JeLixGqEb8o7B1bSKt+\n",
       "ep0s4Vjed58bqN8NHtSIk9WG1t2NKs13vgtFC+/dNe6mKq2uze+9EBzePe5Ep2O/FWaTdf31anbw\n",
       "/wAt6ClVqEN/xeMRDoGpgTdUYNMLfhF6kTYlPYXhf576yBSzDeN+wSs6oYE2Q2dPkWBFFnsaJ45+\n",
       "lOs4dt0dET4dqG8RpGeVAhty9ke9YNy/H3UYYiH0TlshxvAoCa+CO1OkVS2j0eIqXloxpuDOQ7O/\n",
       "GoApNyYROuHFbHOaxVl5efJybMrbyaqFnTvg1gcgxXRY57qMkHXWyR2g8wFxeN4yO5S9nbWt07a5\n",
       "/cb+aWBZYR1p+J2vLU/OACspXVpwin+nmafh7npCulG1luHknyQNMnkZoJX/KBPpzymodtR28oHm\n",
       "W7cq+SmdEEqZDujJwbrP2hBnF+/UHDYS5D4s4IKVb5l3hzPNrkOJ9eL06+TLo659yECaCnznpmu/\n",
       "go7Y01fXdpPlpoozescnBvEtx/kPjhLIdtIXfN64GT4xqRsmmfkdOnxgWSDVp8ixHcnGg5fiPkgI\n",
       "lrl8RYeE5pen2Q/rf4xP/MIeHFAgtugidw7kZ4V27tDLl2r5qJdnmprKK1fAtjyo+MNG54iEybOY\n",
       "VX6amW8pVQkmFVdXHoGYb1AlpuchO3YPxwe27rKbNWMeoLUcmGIheRkIENRf/fHqGtIJEuFrda8o\n",
       "sTBWmW1rTcxUpNyJNWwLsdJe+oL3X4+IiCIckrdGoRXWlHM77kPBO7QyxnlNkQxphnxFE56AbJST\n",
       "/YMkzXard1XXOgkAAALsQZspSeEPJlMCCn/+1oywH7YpiAGugVNRbFeBDolG9YCvu6fuj5t2QMsa\n",
       "7cEvFB5O11lftsgRu/I0/989axP/sOkpeeEcg9OAvHMnfJ94A00dY0tPPTpikqSYA02GMNxFrFUc\n",
       "hSqjYlcvJYptatw+VUULpFRdw6l4wVk/KDyKjkhjuhrvrg1Pp5TS2TZQa/pqAF89dZA7j3YfJqBJ\n",
       "G2ZB7i5vPiqdN79b9efVXOlBWGe99zUNbs1LyHYIl67qeq03vb5Ox6GDj5ItdRnBQ21ungWK0mXE\n",
       "hhwOQGsXIeGQpiR/glx8A3J9gmDowX0l6gq7jwCDJcl5YxkrUaWHTlZmGuP//samx7WyCqcQfWag\n",
       "3sr3pYXFgLb5UMHFZyU9WLfmDhOar9eWY3D1tUrbPtgxBW6HFpYg4r+dzaAnIP12TzzE4UdHQ9hw\n",
       "RIbay00sc6Q7OMUyF8tItTyvLCZ9/KLdrZVkHn046IBEDfjGhU6MUQGXB/mVDJMTEJ6wCx5K+ki3\n",
       "N+0Qi8tYf1/4zunuV53mTTar/ky+8NfHUZpg0FsLdUZGcxQglsa/guQMk23XBfJbj4XoqWEHIWWS\n",
       "/xuJWSkQgb0q0sPoyOirElsd6HQYAHZHjwY27D86SkgoJgRy4RW9Bt5Otzw19eP72hOYEp4oNJIK\n",
       "bj1THGrGNLgIMBvzTLP5gykh8lqjnG9W7UkBhUvT0ARJ+EAyXQ4EQpVBy76+G+acBDzm8cQzmfyz\n",
       "+mkutLgeBPT1yAyHDwIBqxcu8l/h2CQbOaQJ8AHm3CGodRRsIldePMNzeaF0E7r+g0PMH6VWT0YH\n",
       "Pl2/hW4qvS8iUFXtmfpZYETpXjKsikL2BQshml4pjND70jWVGU9fYCp3YHtWfFNfMoGSRPsqEtQp\n",
       "YAi149LvyvT9Iz4c27c0Jt4txjLg4MivBCqUoBNTvMpk93EM9GqFzytTV/BVri/xNIGY+tRk06J/\n",
       "t6UxlEPVI9HJ8d0kia8/WU3ncwGwsQAAADVBn0dFETwQ/wANLQ/R1hw+eBHF5t1u3gx+Gh5G3kzw\n",
       "Gi59k1yNzYa+HNl6ig8+gPCYPa+vgQAAACMBn2Z0Q/8AHPr5GJwBJAsiOZFb7qH+ahY7IBzSYu/D\n",
       "qABlQAAAAB4Bn2hqQ/8ACStGkHFPdgatpr79jHULEJFSzzOJ8oAAAAKmQZttSahBaJlMCCn//taM\n",
       "sBbwtCx8AHF1u+40jLob82McoTSlU6Z8qEwPetvHqEECsafeoIIJ/0xHkF1rHW0JiA56d9s8vMQC\n",
       "E/ek9IjVSn90f3rSdwX2u4vB38ADzqP01jmfycvG2c+pH7eJkxbHi4JYpxdA/6ibA5rowcA2ykpZ\n",
       "X3/oWz63RDk6Amlpj0t4iVyYxISXABotPAKcx58Zp0ykUhs+cQrwyqWXphaGkLSfZeTwgUyi/F/e\n",
       "YnK91St2+kc8iajCSHgwN3RHh01gpIj9KHMXrT60J1hNctTsZOeMuCyOwjmiLmKRYfNXmsaZg/Fq\n",
       "i9I1TQ4azapausdyIQsf/qsvV5yayirkciVRjfxwOa8IB0fvN9TZd7KRPFKK6Vkff6CrCHeELqCm\n",
       "clA2jYbBr0N5M3iZ4ZUL4DckqbqFfTk8kDvSl+uxH98VcHhkrdHnqe3jfHFvxXa5/l+kbWbmEno5\n",
       "R4BAVW42rEP4I7gmaZB0eRD1eaUTM1PQplurW3pEVucnlIeyoz8JL1npX+grTG5ef7iHvXgQxRf9\n",
       "lQABvr4yNnhlI1RligPSFA7g2CaGbvFYuqZvClvZioofYy/EiVSTS3JfAUAXJVH946rczRxP+qGh\n",
       "TrSaIC1rKEmhMMTNgTJKmsykUzJV+LI9m9xr/5iyAmhmmjkzqotqa+Daduox4wZUjzwQwE7O5MjL\n",
       "yIQ4rLn0phTkotOSgPgGOY0K73KUASADLZpwzjct/pD/MZNo6/ZTeqO4ilYwLbRtRcwuDV6+q19H\n",
       "NNwI1nHH7UzOxLN+KTxe877VQSeFXSO5arcNqr0LsXISklTnhyMVhmT4E+MCNZySboANIfRRNxfV\n",
       "VxEGOUpb25nlD9X9bWBiW0IaXn7qb2P4S8W3REsB06lJKGadAAAAKUGfi0URLBD/ADPF6xoe6o3A\n",
       "C03Z6GyWs4b1bXRo5od6zRZaB5NqWHpAAAAAHQGfqnRD/wBlClbHrC3JbVny31MFjTsCvBH/2HpA\n",
       "AAAAHQGfrGpD/wBvo+agJ29qMFpi0ZyqW0ITiySIz6b1AAAQM0GbsUmoQWyZTAgn//61KoAMptbY\n",
       "Azk+lyHqKZElflv3+cRibvr7CYns+GeAXrQavq7D40Z3Ic+H2/TFaOrXJ/Uopoagydzy9iKeqD0y\n",
       "pRqf0cFYOQlqu3oWxCGaR7LC5JD04D11N0xcPVFOowQqizUrp+QrxTEX/zOekhKaXq5uPm7gFQtQ\n",
       "icW0p0CHkA/iUGuEQAxdkvxJ2rKVS05hdv9kbmG0gdOCclsoH1x8nAcYf1Xf057bMefPf7gQCbaR\n",
       "IKVdooXrDocv8U7AHpXl/7scbBUPGsspLaR/rYAW1l1Tytl5jXb3ApS7fx3jRVwr+A/kDZqJFdRF\n",
       "ucTT4XcrezvQwHZE9m6hzXsgzI4aq0dmLWjtFTI5xFMVSs6qbz+t/DbI5fX2jS4WphszbzW8Onnp\n",
       "88e5fOz6DPA9uZI1Yutlz31/PkdFu0aWyUPHoiBTaWtU3wqhKjE8AeSS0is/b4HQrPNuZyqZLj2U\n",
       "L99uRPYYkILlM10IS4BmjnKpEDObDD9wJ9ZGfkYiHywxjvHraLBMNBNslPtil/rWZR7GoNop6kyU\n",
       "sZlUGL2l5C8RZHkrTUlj2eml2rptBcmzejQM9S7d0qlrwhclMdkIFxuvP+6qKp91UzSps1Eiw+UI\n",
       "xaSY7XHCM6a/M6pqTQTFVH7cZD6UFJn6DX0hkF0Q0OtqwLXDK1BRsBU1b1d9QCHAvlnUgAMsv2Dw\n",
       "fknHsuuC7g98s1zDuCyVUt1VJL+yVYkOJb7x1yK/IRy3KK2IF1WubKIFQnWhTPuFbMJRc52CABLR\n",
       "5nnW9aA9/L6Idwe7z2tuiW3LwfykmaSbKJX43uyTtlktb+EvN0J/jufkGVXtlBLBiFgKgUhkc/4T\n",
       "6LtTR5hrVoNM7wD2I1sk4b07GmRJSl4q7CTNEnSdEtvi7LFl4L9R3jI5xbeliLs5cnPMRtNDgtE2\n",
       "4GgC3H0QMjoevTJTDKyIKBj468akmf8pbhdpwcvEKl/JCAMvcItQY/win3wMWBQ6l0NriBh69KN8\n",
       "7uv4X2L6lNYhy3IpGiCRrB9ng/093wU79dep/935D0o3AbixkWId+RRj41vpQX9Qe4oyvfOiopev\n",
       "86BaeaUr2XlbxEvoNenY5HTGBM0yy5yunLaryZVaLxGORsVvOP3RQf5vNLmxaHO8tnicSqggx63w\n",
       "MKUPQAcsJzm3B6ElWFHi3Oi+l+IleAXPRVFpFrQrL6PuTbLo3L8J3wSmzvZe1UNeXta6glJwPByL\n",
       "Kk+KGNihgduwfmIRtfahGl60Outb14glCOGUr2YQHDTi6KPNPZ5BiikJ2smVzmcqfrcjD/mcscqe\n",
       "KhQETrlwT0iujl6D4qcyM1ivY2aLAFdX8U9Yb9DjfOjCKDk6hqzebYkKrdsyYtyAklDaQM2IRVol\n",
       "/e27FyJb/Bp/vWO5+tX47hKKjMDOq4VZvrQvenye0OJ50rhe4ockX6+lRyvPZcmzBwu75uwjj/JP\n",
       "jnhRXlCcg4Ocl5mRJyc//jQ94xpyssZ4fySybPZiPLu/WnLqTaVZWOJFLUMEvBuekNx/n6Gt7Y+w\n",
       "MYJ0VxerqCVUD0R48mpCb0m1IJoZ8YieHiHQPloGRjnZslgNJ9CJjyVYefha5dDGBL/OMhBvQfxD\n",
       "AQB4xlUuZ5x54bN5FcjSbiGzAAE/twd1b7TIGwKyCgKGOZ3ybUx+CmBCE/0cSRB4SirLMmHX45JK\n",
       "K/vF4JCq0plL0Fh5qqlSEBD5ebnmOgbsZL90IU3hQaY45F2GJdvAnxTeXqJqRUZYGc/wEbhclrsB\n",
       "pwMt9pnQmKOU3J6NZVALtchxIvKSg0BORlrg1SP+ynpYCfrq3zt/H5tKjpBUhYBiKP/m6TGQV7j6\n",
       "H18KEP4AgbYRgMKRsztW87WQy1BfQZLvNiGR1HJImu0o7EzRrY2bX4LpObpNSf2rSjLTe92hwQy6\n",
       "4SAi2aAtiILsgs+/4tSesnOQu73dEdKcKj6lEumgVSEPItdnLRzGbW+ormJ/8ubZ3jCCO6HF4USA\n",
       "ap8w7ce2V5mVI15c53ZB/pIpmM2R9fucjDJEsjsfweNBX0PUjjs2hpXdOkzegO8Ev2gIaP3qlQtt\n",
       "e2T6OYec0NSPDMV4CYWQtWvtL7NhuIaL1nMTqPXvTG5Geq1SuPuX2k1K++m/7P6Nj7v/1pOeLupH\n",
       "60pRFxrq3cr+DvtAzmXjByAuTFgIn6PbDY9vObC3wYFmyeK/lJUySXCjt8ZXWgDaBx+A6dvLznNO\n",
       "lUQbz5ZYaJyUGa12lCyQCojfDBHxS1yA+fGFvx/qyk3bqvrRkjEWHSJtQEoR2rJ1aNjECrXvLh+m\n",
       "QaINy1whLb5ID+NoD5fgNDf+YgNckkzM5ya/SClCNQv7dD3I797+IF5AYIAwNvMVzX0NwYgaHlR8\n",
       "clrH9VqGAN5c7w5Hgs1EK2vyzFJTSf5fbQTB+7C1vQXo8+d2EFMRvxI7tzGnuzg3YqcDlLgrTl3F\n",
       "OvrOAgCStr4Yo6nXDXnyGI5F5vlUS0QQCyh4APLBJEaXr/C8V+zvPcy/Ot/7YSTWgXwJgPcFDNOx\n",
       "V7WDHbIfJU4RhXdrMuRXo+NZEacw9UNSga4rlj6+3NrpToqye8YWxuflTmwlw4HV9b7sWSdfsaGb\n",
       "8TfECcZ8qSvHuGaG4eNOBsn1srLnz9Sg7yHAD/HOVgkWpXJqZpF6DBpNq0rTvQzOgt3OzQiYWFT2\n",
       "8wogefOFbIbYnc9XOh892cSVFPEDr0mMuKKG8zRxZNXxJRtc69T4Q55s7RYwOXJqDOgKzV2fXhtM\n",
       "0b9uWgQ61RXtpUqvRABAGBoGmLOQlV4WM91rXpw/Uf2qHSlEKfkcEWHbAFPqbroYfcpHMh3uA3gI\n",
       "dOgJC3jjYO3g1Y7r1v3Ti1lV/EaUWfYuk7ezqgfT2shk2M5vXOSwzW4iYLT1R9iipRU6nlTybt4J\n",
       "M6xCyaFsku1+QHOuE1szWcXLkJqC3Sitgd48B+k9YrXAIxnZwkpo9B5R4zTqRjrPmST7My2EgEEQ\n",
       "LVmhcRTrfH3on5D/JBsMV1LTYU+0Tm/s8BNNhUOTj19155bj7sYesKVXDQ7xlVVA2NaQcqcWOclJ\n",
       "8k372+07+qt4xlR2wqU0c8bi5tgIqGdNEXo4+jQrAHxaT+MuyAJeIG6Buo28w/fQhYGF8F/8qEta\n",
       "Rx3nUUkiwQuulzED0gXAyUnGim2x0UjR9kJ5asyMzQcJV1mjfRnMD3Fqz079NmNkOnCYIqpdwkBd\n",
       "5MdG0/jKQxEGi/1Oqjgx+p1auPjtea0jeWP20xmlivi+1y1W5JmYwm3tQKxYASAvCW4gIuH237vt\n",
       "7WeE4upS1+Kd5JVAfVHKcCCsQxgrKKCVteqHNMTQfLfchSOjXRiTtACduJ+N1V5GLy+aosKLCNTI\n",
       "opiD+PwM5Wn/y5Ejm25pNuWXXI+a/UUO5vcpO3AUIeajHkmR1Vt7kcyU5sY2LHDLIu7T5fZzatDX\n",
       "T3jBgy/5Yb4TKolDSMbDFn3Zipx6U3xtQL07ZBRbVICbwnpXnnCf0kTcG7IqDC7M5RDW+GZGm+wS\n",
       "EFaxCUQ3H5xlW+nzwRVJLbBmrUcTUcL2Jb5HalEsi76IKLS3thQtBBDthqqbCiMm9Q0Pzx9uqgXK\n",
       "HFEz6+ILdxEzA+4RU0cy5bnBnVYb4x0MCUpNNOBVeT3u2NsPYOMVSNYoGpYQaKMivzQw1CZeCNBb\n",
       "AE23rmHaZr3J/M9ozuUZR8QkHDcpsJdbmv8jTCvTWpuoedYZTaj4Kp/yeKIltrI5u0BsY+Ln1oCz\n",
       "gITGRt6ynz5pSOL30EJ0vNfZv40rmRS4+YCmR4FYaCrLQ1kOhozUugVPEuwS4PEJtr18iRgLre1Y\n",
       "3/j7oONr39OKMEiMxI1yw/aNvfPq3xFXmFjosTOZnf8B1oy0ZHLMOtIXliNuncseTwmPEE1JjTcp\n",
       "FR8u6qGtv+4/qxXbVc9F9ASy6nPDgaKYB+mU444ASCME7gwAdn6xurlCdrC85bMq62nYzcjlcZOg\n",
       "2VnwyQEMTPVzr7B4g+HxGGigEsmpTIucLeOhf0/dPfHx7HvbaPsFFdz48q6JDuNVeQcLO8i4YscF\n",
       "7e84lIRR7+Z3L8M4LocuCR2UoeU7gXpclSY8WZGJPCqkYw/cbia6B/kN1ASEeotkYREsPhexlRCf\n",
       "spHxd9dTG+55RNsBbpzZcDx196ZW5XjlvV7ZiH4ltpzLsezknpBld3kx17NscWcPmKcoatxrDS2d\n",
       "z4A9omSWx6TfPv+svI+g+QPv9WeNfrrsDlIutFRwL+5Gz0ESe/JPp793TJCQUgpfGKI/j8RwaMHE\n",
       "ayT5g6lLTh8w2vcK6CrW8P+9YmVjfVnkE/PLZmoXJ5XmB7Ml8GzbqBYvBiY3c1BfdR+HoJP3kVSs\n",
       "BIRt7FWcgK0w3ZpWHz1weYzcpMXTIj8CPRLw5xeVrDhDaldScuBQgQejhf5T22UJi/v5CGHWg/ZU\n",
       "8LyiaIwQaVjU77x05BWWqWVjCofbbo4dD0szjXN0/V4APvGJESIzDbR6H3YyHHu+rDyZvEvyDOdX\n",
       "L8yK5Ke11LogtNk8Q2/SuYAEoTFp97pIqcq/xu/TovVRI5yQJaqrvTw4/65Y2zEfH6xlcTfLR+sq\n",
       "HZJvMIjstWXrSPVgYfa32jWLoEZZIqJ4z/MfOHTVIcx8n8+8pjkRABFyP6M53VSSPf+78trvcBlY\n",
       "RY8TmKm5EzKDyDOfAQf/82PRBfC6oBc+dMcj0RL6aBJQbm7UY8STYLqHYLHX0tpIjZLdK7ChcOzz\n",
       "fvnUM71eTLNfS+6MJ080K6vgt/KszUnwytIB3fAUwJIF2ksvuv/uXjvkMGcLwQjbXJGGr6LChXI6\n",
       "U8B+gMNzCToKkPlZ9Ei63d+NyimQdsYyuNE1lwRq5cfPJjDfy/BeGXj9tOlBPptJhnn2FgdbtfK+\n",
       "1XZopsVS4ud1jefW03JrLhhLx4otdR8+5mVEyPHS2lILRhX5eKAbBONQcUdvfA5L5IFIu0QEabam\n",
       "+2h39VOhRnkaoYwaVLt6HTaR329kp3yjWtVDWT46Bp+YVOiQhBLH0kZtCPtr9p1v3QsUilK/y8K5\n",
       "FQYo1zKpte72151Y/UDgNmdBfUKknB4C2PYFzkLzdxKI7y2/rpYioFIWW31/Te8ubsufa7eloi0j\n",
       "V3bGYD9p/wyYL3wHOj6cQW5Ck672oP8l8ppT0aCjbxkIIfGBujDfVPDzZegmI/J98ZYtL2TOKiB5\n",
       "wQTJbJpYXAa0wCP5++lyTFkwGoEo36lYzxiIryz7x7JKE9Qe9Z+/bBRE6ZCM/ZWH0m62qEqngKQU\n",
       "OrXUzp25QoKycUex+zrWA9CxoUOkoFkrBMh68PGimkeXkcHy+OoFhXtz/A1OqSYstcVqpfP/vW0d\n",
       "nci8IAV7SoIDz7GD8K/nKy8rhOyuiMU9/Q8UEAxsEJMDHIZBmUJvcT/G+mmbkoS1p0+E4S9GBFO1\n",
       "j0q4NquKKYGb4amp3MMeoLz54mFvugdMMVglzui4tTPgQYoFgBiMvlMMKCcKgyLCqiyqPHMjx/j3\n",
       "5EnXrUfPC2p6XbCSlMcpXvp9NV+u1YEAAADTQZ/PRRUsEP8ALkqU198WAkIAF1wFdL8ORWp316Vz\n",
       "sofAGHRDYTpkl78GIAhZvlqm9FJLvsPkN/PkR7VnF5fUYXxv55uxFu/ch7C5mN2eijG9XjseIpw5\n",
       "HCN3Yf/3X5e9f9f/JsTNbmPUyN4V2LJobUFAvDBXrO40tYNJAgfusyucCclMrizrrJHNHqiYM8SK\n",
       "kANdEIVOG81MWs0bKvQNSlvn9VxlePO5En0or+SBgoVSoTyqUS+tcsFftuuDWtFhsxjcO+tOtId7\n",
       "LL5IkQu31hhcQQAAAB8Bn+50Q/8AZQpUciA3NrBz8mxRAK0ioSa+/mXu4kvGAAAAUAGf8GpD/wBl\n",
       "HbQvp2byLYQiuTwYwap4qmeVUsIeoSiRfw21Q/XD2pCsbaY2rBie9NBqbLmqqvjoAShgAAFn/GUE\n",
       "D0AwAXPooBxNMo2N9fX0AAADvUGb9UmoQWyZTAgn//61KoB+vCtACMWQCJcMl9f4607JYjKuo9Zx\n",
       "8zt/5CdYtae+05SJa7xVocx69wfTAqTsz/rDawW0QE0JoIFErvKVPpGx/0tL5RcoVzZXGBvAvam1\n",
       "DRIft5qliNyKLKf/qLaiOhCZwOQ7Z+NGDGBmVYKZhbjZp4gGXYRUmABa/iPd56vvfiEpOVLX8F7l\n",
       "Fcl5ElDvj8dEOl1wNlRqAaEUKqaseMN5m671mgp5ZAAE9zZYuhMjBwqJtkLFgPbzMhN6xbY3RP6u\n",
       "eBVSGz9j6xBBqsup4CtbzaS3yBWAhA1MDyHGj5hKOkNEjPiO9ZqRxvRiArHlyv8kv0w34a9vuWe4\n",
       "6W+Afv2LzN52AaWsPAohnK9cSMuq0htyAkdew7N9ewyB76S8ujgB0yALGsbntxN9LQv3Jiu0ramT\n",
       "dRPmpld2AbiLPo6G8KxXmzOCV9MDX5ToRzSCoNcY5/x47dhG6q/71Hq2T7ID3+0HpsOQ/f89/n6G\n",
       "COs1Y+1McDTsfPstrifqaxBkExdveMQMTlE3cbpH1zBH7lTAejvNrzPSxzjGEm6QO/KICZSg2F25\n",
       "WtNFahUfz1EIXhEQH7ddZmt7RuCwWCfYAMu+m4DoC08kC4umO8r5FAhb7ww/U7ldr92HgQsidwLZ\n",
       "IVV/tJRlJPuB4nHR7fkcWiihJWAfkRaWiRI0GR+g9LjWKydtUpHkzHjUvw5JLtt1sOWKuWFLz9I2\n",
       "wbkYdXpBY94zY/+d8LTHXbx0CY1yGEYZB7CQkAhZO9CqYw7bBBPof/kkLjgCpzkUIdlfUrBMcrjL\n",
       "eJT8OMvgp9GV0TYPNaFyDgVA0Cl3DSpP4J8f2YcRBXHcTz1XQsoaD8alLbWQI8KOtocgquNlzk1C\n",
       "Z1eDz/c0OD5pAM3V+gJ8/kP2t2aZ1qtrDK0Bav26GJmswLhXjeqDQ/4eRyRH5HKxdmlubuccPnM7\n",
       "R+5G/geLZjsh6M3zTotNEjP7DQXiB2gjGppr5rvi5vNKIKpVX+nqY51BPDu+nRrerqZecoLjl6US\n",
       "qd/Vwwp6BUsXqHU+Cc6/ij5/Yd01Ays/N/w0GgyNOooAj9KV40bYuCDIJo/UCCdVTL/g4f1JfRPY\n",
       "evpN02FvzVsBdxlULV3H/pm2QqDNlyAttVSw4bkZplQsXsUEQL3l1+dEcIYP0ztMXmq1PW9xgy7h\n",
       "r88/xyBTNIQCvO0/W29pII00ptI89530cB+HcgvE1Rwu6V8K4Uwta5F3CmJ0vlzr8eLvGlyGd8V9\n",
       "C8up/PCwpQAAAEJBnhNFFSwQ/wA9jmsbci0YBFqwgGpHO3BwAOJGo7zMqpISeq5jg8MqMpfEzND1\n",
       "Sz6ldVcbWo/EzlLZW1Z6fc9lPfkAAAAgAZ4ydEP/AGhKSY/0lHY8H8tk1EZWbxafRHqOxlUx/2oA\n",
       "AAApAZ40akP/AIK7W55qdRHwfORllm+QsejyW8DpAREFCE8B1Tm96w4aZFUAAAFfQZo5SahBbJlM\n",
       "CCf//rUqgFJqPgAEM1jR7DTEeuv/9vAhx0BvuIY8IfoeYPol3W9YOmcpcG5uwmzjKKTEaRJwpOSu\n",
       "hPTo0ylWHw6hOuMRzPZLSUjzPvu3VdOykGQ65yq/r3LagPQKSPtXAXrhmQzg4b6qjBJ/KXX9Qhgo\n",
       "7Xf9d5KT/6vhPJStUF6j5drgQT7RGOcvXTsQEkQJEbwQzx+16obtu0DO5MTltwtYZVPKmQ1VdU9F\n",
       "Qs5qqhaVc1Jtu9YpDi3pVJ/mAkvaaN7Oq5KSLiWVorq0YfWCbNYuAjPU+gbyezCmsD49/sui6fQT\n",
       "iYg9lcYUOxull6tuHCToAcWlj9YUxeMwM0ikYIOPGnIyu8S8JCZExrNjDV9c00CI0xImF2G4vz3l\n",
       "Y2PqWycbab5rklTanbvzTdAMdpvTXRBnhK/Iim5u/ZIDh1LZVXj6r0yPIZqSGY5H+HTCuu2hgo1Q\n",
       "AAAAO0GeV0UVLBD/AC5KlNXcge+DgZmpeX2dZ/fCEWUqe1T1WIBlJuBcE/QXlFtV3YXsDPvEQqc7\n",
       "cMP2LL9hAAAAJAGednRD/wBlClR+NDMXEnUHjITA5h4hqbQtfIoUctSAAmValwAAACEBnnhqQ/8A\n",
       "ZR2z0wnZvEl6Gn8C7G5leSJI45BkSRBcN+AAAAH6QZp9SahBbJlMCCX//rUqgBODu6T2NOogBvb8\n",
       "+4f/uQPRMbu7iDGC+3m0OLTb5yDxA5mbA8jVgfJX1/YgsLbH7Vsoy+2JWS8wFQL051+teKYiTW4k\n",
       "dgQbgu22TfXtzdAptOY7HWiouSfGyx5dupcRPxaQn2/xeV7c/+mmLfegYUhsCXd7vphpJMvEZNEB\n",
       "02m5Pa6e35ryGTRDvEbs31ZD9NV4XQ4nMFcBfWc231CYCPdaUALCaB4lBlUOC9uTYJjTQhjH+NEA\n",
       "IXpBevH7zqEKREd09XeHQWdFB+nC8cm8u+Twg+p2pJHEhomDzzINSiOdTkWs2xpIgi9+lnJ2AnfK\n",
       "zICz8oG5lBbxdNp7//kH8NoYZ/Yo319urRiUxXCgsFb98KGWwsLJ2i30y5ExAUS1cYj1D0l7D83D\n",
       "ldKjJIAYKKcSpz3yyrF+25MIwdi8xeBkIh0sNKH0wI1ajzoHc/oUHtqIlcykyspc8/dtKdnuyE5G\n",
       "XjwRdwAchBAoj/Ci/wZsQvpvj8Uurmr6QjC4tE35wP9aMsEG5+5xHagvbWPj/waIeNYjZE8V/+o9\n",
       "jOp8RYOmfilttFfGws26UbeDbjKLMbila6sTkLpN+UsnhwLux9vLRjKeKu26cNYQd5Hz8yY6Dmp7\n",
       "GWG7t/RaUTMyrifDmltFMttS4TuibkkAAAAzQZ6bRRUsEP8ALkqU5v7hvyASGPFW9ryCFp0EI5Fk\n",
       "IWGCmaSW9PVyUAOvXNTPX5S/GNtAAAAAHgGeunRD/wBlClUlAdq40RXeqJ3MCTQDDHbohSBtwQAA\n",
       "AB4BnrxqQ/8AZR20F/4NeUFKm5B9O5sdnvXV3JCpxW0AAAGOQZqhSahBbJlMCCP//rUqgILEf/oR\n",
       "IIALpPnplzg3GuIABUj6yVL7CVt3kMTlDSM6VsLcQjnIAA5X5UDq9+vCocUXkZkZD2RQ6WFPygtC\n",
       "dfF8CJlD3OZlkNtQS4TLufmP7pPOJqYUbIrP/5tnsWSU9iWZz4K7EZ4y1/iKUi5Zk20drEq9GZC9\n",
       "GWKXvpiEKka4sXxPMEyfTt83Uu9pUAoNQyPyqttq7ePTt2ipLp/RITFo+U2xJk/TJTPFAJfTIt+I\n",
       "iVWo6m8zd2vqfB+afYxXbzrrF2daHWVCyGnqWrTJQ0FfAFEGsSuq4KkoMBs/DZxjOa/CBaeliEx1\n",
       "MisJrnh3v+wjfMEsDBVcdz99Ckkk36RAPlKGcpwYZt+DkydQI1CsBZq4ihpkolG4nLSB6Jsv7/D7\n",
       "UqIRlItV4Mm3Q3/venvM9gnI4VBbOxZ4H1X3ANBmjOF0azszeKep7CEaXOL+dA2+v0Lont8HaUUh\n",
       "8/SsxoAN4SqvrpLeiJqw4/vmIrs8+hsJUevMOdtQd3d0pUAAAAAxQZ7fRRUsEP8APYU7O4eoXraE\n",
       "4V2zVDgjgh1S4Vx9oT2eACWv+CnYblYKtP0l6wXOlgAAACEBnv50Q/8AgsS5D4R6SJXTAl6jHc/7\n",
       "cjQDZwJSAmqY8XkAAAAdAZ7gakP/AGUds8OHWMC24pZbtPF9LUeOPKFZO+AAAAK6QZriSahBbJlM\n",
       "CCH//qpVALTleQAt64Tz4CyLXPreZ0vHfHePLJIc9O4s1ZxIg/tNZl6vGkH4U9YdWT5+vvwDcqtB\n",
       "W4sdwFN/F8WVSzCrfoV2oqF1FJ+NxXkQQdRevniDDEk8u+UWM7VbXxzUZXVyZtDZmAHlqZn/Bmpg\n",
       "pf87Szt2KGN4h5O2vc1bvtlqI27t/SklHbfDGH8JnOypWsQaPo9ixhu3JjjpwA+Vvd5sbgBpQFNP\n",
       "bNiw/TFNSstcoP5uWkZswLuVrq+bGFa4oglA2H3EURlyHeOZJN8dyK+Kfu9nCs0dSIGwH+hlMKq6\n",
       "hnCUVhhcpDKSXPMJZa9dFe04OQmPqasds2d9r2BaH7LvgKRK5auBORhE6oHzMIOPdJP3pwSnWyG+\n",
       "laE1z2jlinWerJJCmsoOyCxsqNK6XL+Q78MKh0HC9P/02IeORXVaY9GABBLuy8qDl02SiT2IY2iC\n",
       "iSQXWXvV3WCJW/AHn96EzAeXRfJCAaMHNrobw6Ic23XdB40lFGmqgAwNuwG89kXLm85vfEjbiBD8\n",
       "1bgLMKgVSfk8/kwkQaxev0gkRwM/DbUwDwyM8z8ZZ9zYbLTbJtYBqRRqthMsEqgI2xTLGaQcvqx6\n",
       "2UgH9SxlCN5E//rbOvofNcJfvx8X3xYh73iKxyICOd0gsbsMqvjXl8kgw5UYs/NUmoVPoW0LbIVp\n",
       "+rfowIsxIIzgV6nVHiH1K/DdIuZoOUhyfXIYDPN1jY2BSBX2kV8mfHtSAItl37boN08ZcRuK4tmo\n",
       "7FTQBpmSv/AFknFcKdKztXD4YUzBRQry1l5v75lMai0lO/zy4lYEAl8KiZnBt70PE6NNZlylENGV\n",
       "2hJXdDNJrAChASeX8X2skeus9Pdn5bcbMfVdN0ZC4QfSm0K4ESXLurfNK9sz3vZ66Lg90DjuB4vV\n",
       "U0fJBeEAAATHQZsDSeEKUmUwIf/+qZYG5buM3Xm9M3/oUSRAB/Bo9PT2ZKCLvyHzEi8JtP7kORBi\n",
       "PEtPjBINtkf5zgobYZcGv5GZLyD9XbKF7f8TUTuOcqm95rv19C9KrU9Fe0aAu7r2woOc0HT8Zm5B\n",
       "9+38x0hRQzUWMqstkHMRKk+4EpKkrUCYnkgXsCTgQ6m7pabN2s7h3vz84VZcrR7uNLLyuuV8wXWN\n",
       "TXpi018h29925vKufUzhVYEhCTyfZa9vRwVdwlTv978/7h4t7UWHj9ITJn04LldeUaguJtjazfH/\n",
       "TBvJtz6okUt+raY7hOLuF6NluvHPFgELs9SBKaVbu/hxLS115wDB5YFvmSWVKQETFlUiKATtLcI7\n",
       "UikcrS4EThJ6+hrKTSLL4ByVjYIijcvM3xi5ON3GFLdPZjNo3nhPvc+sVhJklAlkY4DwGpit7lya\n",
       "yGbmK+M5DyFkx7RbPiFUEJ13SJuAx2PlbkDpuxVyyvKNEXTsyKIu4hTrDsu6epExCh5nyjURzzvl\n",
       "mFT9QDPpmqYtS1cvMl4E8YSg3eOR45Zo08YJkaYpLlZhPBYHYIVlkmDsIGPAPpOaZc1XA8k7Y2n6\n",
       "dfETR7uaeSIG5UTFaBxutS2YZIU7XK41+R8NKyP3RnqI+SPeRUXknI7sB9s1D58oEWnG8BUslKvP\n",
       "6DFYq6/HYBWK9iWDe+BkAZ02BBB9z/xcvRrVojHrqR8tPLmOtz9zf7jpHzGAQkMHJLPekhQzaxax\n",
       "DvuSU1ipujwUnM4NG9sabJbWblMQQEyAHpczgSGOqq9qE0ACXNIfT/J6Ks/coLFzyZT3Zr38EXdY\n",
       "bWzvelCJ5KML6LLG8c9+d1F+rWVnsxPntptE4udMwo3pevrVahcYSKVnwMoQ1vicyvLjrFiPxKSH\n",
       "NXPi/YCHFBF+Men5pNu9lfAERE4YMmbIDBLm856rqcXvwxgNdRIt1SdcRlcbjxS9pQhwlv2q/kuT\n",
       "nuGq7btTMo3q6ZH97JdznWRvmzXQFJ7wnO+Gbz9n0sJEXTDUn874l1LDKydLfDtG4A2MOEvT8l/Y\n",
       "O6Foh10Nc50wRK0UzHDPW97if6ZFiAGQAAW/7mxVactVQs1ou/cREH27vN+XGycF/AD5iWaCWvm9\n",
       "G91wJQ9ofBnNRwTGzvLVm1eapawSo7WQzv2HQiCtYUBDF7tDldtqNw9nm1GzSVphca1kwLf5+uOi\n",
       "f2PPkqeHBa5iADODvLwZsDoQDCL+KuKQJCPj5A0WCyjQsf+aXiKK/3G5B2TdIHzdqT8y6LpirxWk\n",
       "ujujCDnWhHcfM5wQx7t38Euy5OEM5aha0qZfndA9gBCMxm/ACyMX4YIE+LrB5y1FXn/czlsC3hUt\n",
       "cYYMpPneAW5lc8ABKFhJrqN3giAua1m199uoL9jmQhsgo/irwo1LUFUAZP6kNKsNzzeNn5dBIcRd\n",
       "LToMKkqHsfHL94TOGOFxKgyB0fXwIyxhqNkUBWQhNx2WWh49gslymjClNQiwpT4xrkiZWstyZayB\n",
       "8UCVpvn/Sy0c3J+5ZCIbOEFSvsUXfXV/761cgid68kLKviUwFupFAwzb+H9mu5PobYhH3FO7l91p\n",
       "J9BQuje2K2vDlrA3kFqZblLgga9uq5JIA7pHP0tNbnJVVMAAAAfGbW9vdgAAAGxtdmhkAAAAAAAA\n",
       "AAAAAAAAAAAD6AAATiAAAQAAAQAAAAAAAAAAAAAAAAEAAAAAAAAAAAAAAAAAAAABAAAAAAAAAAAA\n",
       "AAAAAABAAAAAAAAAAAAAAAAAAAAAAAAAAAAAAAAAAAAAAAAAAgAABvB0cmFrAAAAXHRraGQAAAAD\n",
       "AAAAAAAAAAAAAAABAAAAAAAATiAAAAAAAAAAAAAAAAAAAAAAAAEAAAAAAAAAAAAAAAAAAAABAAAA\n",
       "AAAAAAAAAAAAAABAAAAAAbAAAAEgAAAAAAAkZWR0cwAAABxlbHN0AAAAAAAAAAEAAE4gAAAQAAAB\n",
       "AAAAAAZobWRpYQAAACBtZGhkAAAAAAAAAAAAAAAAAAAoAAADIABVxAAAAAAALWhkbHIAAAAAAAAA\n",
       "AHZpZGUAAAAAAAAAAAAAAABWaWRlb0hhbmRsZXIAAAAGE21pbmYAAAAUdm1oZAAAAAEAAAAAAAAA\n",
       "AAAAACRkaW5mAAAAHGRyZWYAAAAAAAAAAQAAAAx1cmwgAAAAAQAABdNzdGJsAAAAs3N0c2QAAAAA\n",
       "AAAAAQAAAKNhdmMxAAAAAAAAAAEAAAAAAAAAAAAAAAAAAAAAAbABIABIAAAASAAAAAAAAAABAAAA\n",
       "AAAAAAAAAAAAAAAAAAAAAAAAAAAAAAAAAAAAAAAAGP//AAAAMWF2Y0MBZAAV/+EAGGdkABWs2UGw\n",
       "loQAAAMABAAAAwAoPFi2WAEABmjr48siwAAAABx1dWlka2hA8l8kT8W6OaUbzwMj8wAAAAAAAAAY\n",
       "c3R0cwAAAAAAAAABAAAAZAAACAAAAAAUc3RzcwAAAAAAAAABAAAAAQAAAxhjdHRzAAAAAAAAAGEA\n",
       "AAACAAAQAAAAAAEAACgAAAAAAQAAEAAAAAABAAAAAAAAAAEAAAgAAAAAAQAAIAAAAAABAAAQAAAA\n",
       "AAEAAAAAAAAAAQAAKAAAAAABAAAQAAAAAAEAAAAAAAAAAQAACAAAAAABAAAoAAAAAAEAABAAAAAA\n",
       "AQAAAAAAAAABAAAIAAAAAAEAABAAAAAAAQAAKAAAAAABAAAQAAAAAAEAAAAAAAAAAQAACAAAAAAB\n",
       "AAAgAAAAAAEAABAAAAAAAQAAAAAAAAABAAAoAAAAAAEAABAAAAAAAQAAAAAAAAABAAAIAAAAAAEA\n",
       "ACgAAAAAAQAAEAAAAAABAAAAAAAAAAEAAAgAAAAAAQAAIAAAAAABAAAQAAAAAAEAAAAAAAAAAQAA\n",
       "EAAAAAABAAAoAAAAAAEAABAAAAAAAQAAAAAAAAABAAAIAAAAAAEAACgAAAAAAQAAEAAAAAABAAAA\n",
       "AAAAAAEAAAgAAAAAAQAAKAAAAAABAAAQAAAAAAEAAAAAAAAAAQAACAAAAAABAAAQAAAAAAEAACgA\n",
       "AAAAAQAAEAAAAAABAAAAAAAAAAEAAAgAAAAAAQAAKAAAAAABAAAQAAAAAAEAAAAAAAAAAQAACAAA\n",
       "AAABAAAgAAAAAAEAABAAAAAAAQAAAAAAAAABAAAoAAAAAAEAABAAAAAAAQAAAAAAAAABAAAIAAAA\n",
       "AAIAABAAAAAAAQAAGAAAAAABAAAIAAAAAAEAABAAAAAAAQAAKAAAAAABAAAQAAAAAAEAAAAAAAAA\n",
       "AQAACAAAAAABAAAoAAAAAAEAABAAAAAAAQAAAAAAAAABAAAIAAAAAAEAACgAAAAAAQAAEAAAAAAB\n",
       "AAAAAAAAAAEAAAgAAAAAAQAAKAAAAAABAAAQAAAAAAEAAAAAAAAAAQAACAAAAAABAAAoAAAAAAEA\n",
       "ABAAAAAAAQAAAAAAAAABAAAIAAAAAAEAACgAAAAAAQAAEAAAAAABAAAAAAAAAAEAAAgAAAAAAQAA\n",
       "KAAAAAABAAAQAAAAAAEAAAAAAAAAAQAACAAAAAACAAAQAAAAABxzdHNjAAAAAAAAAAEAAAABAAAA\n",
       "ZAAAAAEAAAGkc3RzegAAAAAAAAAAAAAAZAAAIhMAAAchAAAKBwAAAd0AAAAxAAAAOwAADI4AAAAr\n",
       "AAADIAAACJEAAAA9AAAAHQAAACsAAAh9AAAAXwAAADAAAAAmAAAMPwAACBkAAACBAAAAZgAAACcA\n",
       "AA3oAAAARQAAAbMAAAZXAAAAOgAAACYAAAA8AAADwgAAADUAAAAkAAAAJQAABL4AAAArAAAAJgAA\n",
       "Df4AAAIeAAAANgAAACEAAAAgAAAEMgAAAIcAAAAiAAAALwAACUkAAADMAAAAOwAAADYAAAjXAAAD\n",
       "CgAAADwAAAAoAAAAIAAAAZYAAAAwAAAAIQAAACAAAA8SAAAAegAAACYAAAnbAAAC7wAAAHEAAADQ\n",
       "AAADYgAAAH0AAAy1AAACEAAADngAAALwAAAAOQAAACcAAAAiAAACqgAAAC0AAAAhAAAAIQAAEDcA\n",
       "AADXAAAAIwAAAFQAAAPBAAAARgAAACQAAAAtAAABYwAAAD8AAAAoAAAAJQAAAf4AAAA3AAAAIgAA\n",
       "ACIAAAGSAAAANQAAACUAAAAhAAACvgAABMsAAAAUc3RjbwAAAAAAAAABAAAALAAAAGJ1ZHRhAAAA\n",
       "Wm1ldGEAAAAAAAAAIWhkbHIAAAAAAAAAAG1kaXJhcHBsAAAAAAAAAAAAAAAALWlsc3QAAAAlqXRv\n",
       "bwAAAB1kYXRhAAAAAQAAAABMYXZmNTcuNDEuMTAw\n",
       "\">\n",
       "  Your browser does not support the video tag.\n",
       "</video>"
      ],
      "text/plain": [
       "<matplotlib.animation.FuncAnimation at 0x7f73a7dcb510>"
      ]
     },
     "execution_count": 16,
     "metadata": {},
     "output_type": "execute_result"
    }
   ],
   "source": [
    "anim"
   ]
  },
  {
   "cell_type": "markdown",
   "metadata": {},
   "source": [
    "After a while, the pile looks pretty random.\n",
    "\n",
    "Here's a plot of the number of cells toppled after each `step`.  "
   ]
  },
  {
   "cell_type": "code",
   "execution_count": 17,
   "metadata": {
    "collapsed": false
   },
   "outputs": [
    {
     "data": {
      "image/png": "[encoded data removed]",
      "text/plain": [
       "<matplotlib.figure.Figure at 0x7f73a7e49d90>"
      ]
     },
     "metadata": {},
     "output_type": "display_data"
    }
   ],
   "source": [
    "thinkplot.plot(pile.toppled_seq)"
   ]
  },
  {
   "cell_type": "markdown",
   "metadata": {},
   "source": [
    "The following figure shows the progression of the pile from ordered to apparently random."
   ]
  },
  {
   "cell_type": "code",
   "execution_count": 18,
   "metadata": {
    "collapsed": false
   },
   "outputs": [
    {
     "name": "stdout",
     "output_type": "stream",
     "text": [
      "(332, 53336)\n"
     ]
    },
    {
     "data": {
      "image/png": "[encoded data removed]",
      "text/plain": [
       "<matplotlib.figure.Figure at 0x7f73a3ccf1d0>"
      ]
     },
     "metadata": {},
     "output_type": "display_data"
    }
   ],
   "source": [
    "pile = SandPile(n=20, level=10)\n",
    "print(pile.run())\n",
    "viewer = SandPileViewer(pile)\n",
    "\n",
    "thinkplot.preplot(cols=3)\n",
    "viewer.draw()\n",
    "\n",
    "thinkplot.subplot(2)\n",
    "for i in range(200):\n",
    "    viewer.step()\n",
    "viewer.draw()\n",
    "\n",
    "thinkplot.subplot(3)\n",
    "for i in range(200):\n",
    "    viewer.step()\n",
    "viewer.draw()\n",
    "\n",
    "plt.savefig('chap08-1.pdf')"
   ]
  },
  {
   "cell_type": "markdown",
   "metadata": {},
   "source": [
    "## Long tailed distributions"
   ]
  },
  {
   "cell_type": "markdown",
   "metadata": {},
   "source": [
    "If the sand pile is in a critical state, we expect quantities like the duration of an avalanche, `T`, and the number of cells affected, `S`, to have long-tailed distributions.\n",
    "\n",
    "Following Bak, Tang, and Wiesenseld, we start with a 50x50 array and plot the PMFs of `S` and `T` on a log-log scale."
   ]
  },
  {
   "cell_type": "code",
   "execution_count": 27,
   "metadata": {
    "collapsed": false,
    "scrolled": true
   },
   "outputs": [
    {
     "data": {
      "image/png": "[encoded data removed]",
      "text/plain": [
       "<matplotlib.figure.Figure at 0x7f73a2247890>"
      ]
     },
     "metadata": {},
     "output_type": "display_data"
    }
   ],
   "source": [
    "pile2 = SandPile(n=50, level=30)\n",
    "pile2.run()\n",
    "viewer = SandPileViewer(pile2)\n",
    "viewer.draw()"
   ]
  },
  {
   "cell_type": "markdown",
   "metadata": {},
   "source": [
    "Now we run the pile for many time steps and keep track of the durations and number of cells affected."
   ]
  },
  {
   "cell_type": "code",
   "execution_count": 28,
   "metadata": {
    "collapsed": false,
    "scrolled": true
   },
   "outputs": [
    {
     "name": "stdout",
     "output_type": "stream",
     "text": [
      "CPU times: user 10.3 s, sys: 4 ms, total: 10.3 s\n",
      "Wall time: 10.3 s\n"
     ]
    }
   ],
   "source": [
    "iters = 1000\n",
    "%time res = [pile2.drop_and_run() for _ in range(iters)]"
   ]
  },
  {
   "cell_type": "markdown",
   "metadata": {},
   "source": [
    "And extract the results into two NumPy arrays."
   ]
  },
  {
   "cell_type": "code",
   "execution_count": 29,
   "metadata": {
    "collapsed": false
   },
   "outputs": [],
   "source": [
    "T, S = np.transpose(res)"
   ]
  },
  {
   "cell_type": "markdown",
   "metadata": {},
   "source": [
    "A large majority of drops have duration 1 and no toppled cells, so we'll filter those out."
   ]
  },
  {
   "cell_type": "code",
   "execution_count": 30,
   "metadata": {
    "collapsed": true
   },
   "outputs": [],
   "source": [
    "T = T[T>1]\n",
    "S = S[S>0]"
   ]
  },
  {
   "cell_type": "markdown",
   "metadata": {},
   "source": [
    "The distributions of `T` and `S` have many small values and a few very large ones.\n",
    "\n",
    "Here are the histograms on linear axes, showing only small values."
   ]
  },
  {
   "cell_type": "code",
   "execution_count": 31,
   "metadata": {
    "collapsed": false
   },
   "outputs": [
    {
     "data": {
      "image/png": "[encoded data removed]",
      "text/plain": [
       "<matplotlib.figure.Figure at 0x7f73a2d05890>"
      ]
     },
     "metadata": {},
     "output_type": "display_data"
    }
   ],
   "source": [
    "thinkplot.preplot(cols=2)\n",
    "\n",
    "histT = Hist(T)\n",
    "thinkplot.Pdf(histT, label='T')\n",
    "thinkplot.config(xlabel='Avalanche duration',\n",
    "                 ylabel='Number',\n",
    "                 xlim=[1, 50], loc='upper right')\n",
    "\n",
    "thinkplot.subplot(2)\n",
    "\n",
    "histS = Hist(S)\n",
    "thinkplot.Pdf(histS, label='S')\n",
    "thinkplot.config(xlabel='Avalanche size',\n",
    "                 ylabel='Number',\n",
    "                 xlim=[1, 50])\n",
    "\n",
    "plt.savefig('chap08-2.pdf')"
   ]
  },
  {
   "cell_type": "markdown",
   "metadata": {},
   "source": [
    "To see whether these distributions follow a power law, we plot the histograms on a log-log scale."
   ]
  },
  {
   "cell_type": "code",
   "execution_count": 34,
   "metadata": {
    "collapsed": false
   },
   "outputs": [
    {
     "data": {
      "image/png": "[encoded data removed]",
      "text/plain": [
       "<matplotlib.figure.Figure at 0x7f73a24c7fd0>"
      ]
     },
     "metadata": {},
     "output_type": "display_data"
    }
   ],
   "source": [
    "thinkplot.preplot(cols=2)\n",
    "\n",
    "x = 9000\n",
    "thinkplot.plot([1, x], [x, 1], color='gray', linewidth=3)\n",
    "thinkplot.Pdf(histT, label='T', linewidth=2)\n",
    "thinkplot.config(xlabel='Avalanche duration',\n",
    "                 xlim=[1, 1000],\n",
    "                 ylabel='Number',\n",
    "                 xscale='log',\n",
    "                 yscale='log',\n",
    "                 loc='upper right')\n",
    "\n",
    "thinkplot.subplot(2)\n",
    "\n",
    "x = 5700\n",
    "thinkplot.plot([1, x], [x, 1], color='gray', linewidth=3)\n",
    "thinkplot.Pdf(histS, label='S', linewidth=1)\n",
    "thinkplot.config(xlabel='Avalanche size',\n",
    "                 xlim=[1, 5600],\n",
    "                 ylabel='Number',\n",
    "                 xscale='log',\n",
    "                 yscale='log')\n",
    "\n",
    "plt.savefig('chap08-3.pdf')"
   ]
  },
  {
   "cell_type": "markdown",
   "metadata": {},
   "source": [
    "The gray line has slope -1.  The distribution of avalanche duration is approximately straight between 1 and 100, but then drops off.  The distribution of size follows a power law more closely and over a greater range, but it also seems to drop off for values above a few hundred."
   ]
  },
  {
   "cell_type": "markdown",
   "metadata": {},
   "source": [
    "**Exercise:** Try running the model longer to see if you can get a less noisy plot of the distributions of `T` and `S`."
   ]
  },
  {
   "cell_type": "markdown",
   "metadata": {},
   "source": [
    "## Fractals\n",
    "\n",
    "If the sand pile is in a critical state, we expect to see fractal geometry.\n",
    "\n",
    "To estimate the fractal dimension, I'll start with a bigger pile and a higher initial level."
   ]
  },
  {
   "cell_type": "code",
   "execution_count": 35,
   "metadata": {
    "collapsed": false
   },
   "outputs": [
    {
     "name": "stdout",
     "output_type": "stream",
     "text": [
      "CPU times: user 1min 59s, sys: 4 ms, total: 1min 59s\n",
      "Wall time: 1min 59s\n"
     ]
    },
    {
     "data": {
      "text/plain": [
       "(28379, 211320220)"
      ]
     },
     "execution_count": 35,
     "metadata": {},
     "output_type": "execute_result"
    }
   ],
   "source": [
    "pile3 = SandPile(n=131, level=22)\n",
    "%time pile3.run()"
   ]
  },
  {
   "cell_type": "markdown",
   "metadata": {},
   "source": [
    "The initial state sure looks like a fractal."
   ]
  },
  {
   "cell_type": "code",
   "execution_count": 37,
   "metadata": {
    "collapsed": false
   },
   "outputs": [
    {
     "data": {
      "image/png": "[encoded data removed]",
      "text/plain": [
       "<matplotlib.figure.Figure at 0x7f73a249c0d0>"
      ]
     },
     "metadata": {},
     "output_type": "display_data"
    }
   ],
   "source": [
    "viewer3 = SandPileViewer(pile3)\n",
    "viewer3.draw()"
   ]
  },
  {
   "cell_type": "markdown",
   "metadata": {},
   "source": [
    "Since it contains four different levels (0, 1, 2, and 3), we can extract 4 binary patterns."
   ]
  },
  {
   "cell_type": "code",
   "execution_count": 38,
   "metadata": {
    "collapsed": false
   },
   "outputs": [],
   "source": [
    "def draw_four(viewer, vals=range(4)):\n",
    "    thinkplot.preplot(rows=2, cols=2)\n",
    "    a = viewer.viewee.array\n",
    "    \n",
    "    for i, val in enumerate(vals):\n",
    "        thinkplot.subplot(i+1)\n",
    "        viewer.draw_array(a==vals[i], vmax=1)"
   ]
  },
  {
   "cell_type": "markdown",
   "metadata": {},
   "source": [
    "Here's what they look like:"
   ]
  },
  {
   "cell_type": "code",
   "execution_count": 39,
   "metadata": {
    "collapsed": false
   },
   "outputs": [
    {
     "data": {
      "image/png": "[encoded data removed]",
      "text/plain": [
       "<matplotlib.figure.Figure at 0x7f73a261f750>"
      ]
     },
     "metadata": {},
     "output_type": "display_data"
    }
   ],
   "source": [
    "draw_four(viewer3)\n",
    "plt.savefig('chap08-4.pdf')"
   ]
  },
  {
   "cell_type": "markdown",
   "metadata": {},
   "source": [
    "Now we can apply a box-counting algorithm to each level.\n",
    "\n",
    "`count_cells` starts with a single cell in the middle, gradually increases the size of the box, and counts the number of cells in each box."
   ]
  },
  {
   "cell_type": "code",
   "execution_count": 40,
   "metadata": {
    "collapsed": true
   },
   "outputs": [],
   "source": [
    "def count_cells(a):\n",
    "    \"\"\"Counts the number of cells in boxes with increasing size.\n",
    "    \n",
    "    a: NumPy array\n",
    "    \n",
    "    returns: list of (i, i**2, cell count) tuples\n",
    "    \"\"\"\n",
    "    n, m = a.shape\n",
    "    end = min(n, m)\n",
    "    \n",
    "    res = []\n",
    "    for i in range(1, end, 2):\n",
    "        top = (n-i) // 2\n",
    "        left = (m-i) // 2\n",
    "        box = a[top:top+i, left:left+i]\n",
    "        total = np.sum(box)\n",
    "        res.append((i, i**2, total))\n",
    "        \n",
    "    return np.transpose(res)"
   ]
  },
  {
   "cell_type": "markdown",
   "metadata": {},
   "source": [
    "`box_count` takes a pile and a value, extracts the cells that have the given value, calls `count_cells`, and estimates the fractal dimension.\n",
    "\n",
    "If `plot` is `True`, it also generates a graph of cell count versus box size on a log-log scale."
   ]
  },
  {
   "cell_type": "code",
   "execution_count": 41,
   "metadata": {
    "collapsed": true
   },
   "outputs": [],
   "source": [
    "from scipy.stats import linregress\n",
    "\n",
    "def box_count(pile, val=0, plot=False):\n",
    "    \"\"\"Estimates the fractal dimension by box counting.\n",
    "    \n",
    "    pile: SandPile\n",
    "    val: which value from the pile to count\n",
    "    plot: boolean, whether to generate a plot\n",
    "    \n",
    "    returns: estimated fractal dimension\n",
    "    \"\"\"\n",
    "    res = count_cells(pile.array==val)\n",
    "    steps, steps2, cells = res\n",
    "    \n",
    "    # select the range where we have a nonzero number of cells\n",
    "    legit = np.nonzero(cells)\n",
    "    steps = steps[legit]\n",
    "    steps2 = steps2[legit]\n",
    "    cells = cells[legit]\n",
    "\n",
    "    if plot:\n",
    "        thinkplot.preplot(3)\n",
    "        thinkplot.plot(steps, steps2, linestyle='dashed')\n",
    "        thinkplot.plot(steps, cells, label='val=%d' % val)\n",
    "        thinkplot.plot(steps, steps, linestyle='dashed')\n",
    "\n",
    "        thinkplot.config(xscale='log', yscale='log',\n",
    "                         xlim=[1, 200], loc='upper left',\n",
    "                         xlabel='box size', ylabel='cell count')\n",
    "    \n",
    "    params = linregress(np.log(steps), np.log(cells))\n",
    "    return params[0]"
   ]
  },
  {
   "cell_type": "markdown",
   "metadata": {},
   "source": [
    "Finally `box_count_four` applies the box counting algorithm for each value in the sand pile."
   ]
  },
  {
   "cell_type": "code",
   "execution_count": 42,
   "metadata": {
    "collapsed": false
   },
   "outputs": [],
   "source": [
    "def box_count_four(pile, vals=range(4)):\n",
    "    \"\"\"Applies box counting to each value in the pile.\n",
    "    \n",
    "    pile: SandPile\n",
    "    vals: list of values to check\n",
    "    \"\"\"\n",
    "    thinkplot.preplot(rows=2, cols=2)\n",
    "    \n",
    "    dims = []\n",
    "    for i, val in enumerate(vals):\n",
    "        thinkplot.subplot(i+1)\n",
    "        dim = box_count(pile, val, plot=True)\n",
    "        dims.append(dim)\n",
    "        \n",
    "    return dims"
   ]
  },
  {
   "cell_type": "markdown",
   "metadata": {},
   "source": [
    "Here are the results:"
   ]
  },
  {
   "cell_type": "code",
   "execution_count": 43,
   "metadata": {
    "collapsed": false
   },
   "outputs": [
    {
     "data": {
      "image/png": "[encoded data removed]",
      "text/plain": [
       "<matplotlib.figure.Figure at 0x7f73a282d0d0>"
      ]
     },
     "metadata": {},
     "output_type": "display_data"
    }
   ],
   "source": [
    "dims = box_count_four(pile3)\n",
    "plt.savefig('chap08-5.pdf')"
   ]
  },
  {
   "cell_type": "markdown",
   "metadata": {},
   "source": [
    "The lines are reasonably straight, which indicates that we are running the algorithm over a valid range of box sizes.  Here are the estimated slopes:"
   ]
  },
  {
   "cell_type": "code",
   "execution_count": 44,
   "metadata": {
    "collapsed": false
   },
   "outputs": [
    {
     "name": "stdout",
     "output_type": "stream",
     "text": [
      "0  1.871\n",
      "1  3.502\n",
      "2  1.781\n",
      "3  2.084\n"
     ]
    }
   ],
   "source": [
    "for i, dim in enumerate(dims):\n",
    "    print('%d  %0.3f' % (i, dim))"
   ]
  },
  {
   "cell_type": "markdown",
   "metadata": {},
   "source": [
    "The fractal dimension for values 0, 1, and 2 seems to be clearly non-integer, which indicates that the image is fractal.\n",
    "\n",
    "Strictly, the fractal dimension for value 3 is indistinguishable from 2, but given the results for the other values, the apparent curvature of the line, and the appearance of the pattern, it seems likely that it is also fractal. "
   ]
  },
  {
   "cell_type": "markdown",
   "metadata": {},
   "source": [
    "**Exercise:**  Choose a different value of `n` and/or `level` and run this analysis again.  Are the estimated fractal dimensions consistent?"
   ]
  },
  {
   "cell_type": "markdown",
   "metadata": {},
   "source": [
    "## Spectral density"
   ]
  },
  {
   "cell_type": "markdown",
   "metadata": {},
   "source": [
    "Suppose the sandpile made a little click each time a cell toppled.  What would it sound like?\n",
    "\n",
    "`toppled_seq` contains the number of cells that toppled during each time step.  We can use Welch's algorithm to estimate its [power spectral density](https://en.wikipedia.org/wiki/Spectral_density)."
   ]
  },
  {
   "cell_type": "code",
   "execution_count": 45,
   "metadata": {
    "collapsed": false
   },
   "outputs": [
    {
     "data": {
      "text/plain": [
       "19876"
      ]
     },
     "execution_count": 45,
     "metadata": {},
     "output_type": "execute_result"
    }
   ],
   "source": [
    "signal = pile2.toppled_seq\n",
    "len(signal)"
   ]
  },
  {
   "cell_type": "code",
   "execution_count": 46,
   "metadata": {
    "collapsed": false
   },
   "outputs": [],
   "source": [
    "from scipy.signal import welch\n",
    "\n",
    "nperseg = 2048\n",
    "freqs, powers = welch(signal, nperseg=nperseg, fs=nperseg)"
   ]
  },
  {
   "cell_type": "markdown",
   "metadata": {},
   "source": [
    "And here's what it looks like."
   ]
  },
  {
   "cell_type": "code",
   "execution_count": 47,
   "metadata": {
    "collapsed": false
   },
   "outputs": [
    {
     "data": {
      "image/png": "[encoded data removed]",
      "text/plain": [
       "<matplotlib.figure.Figure at 0x7f73a27beb10>"
      ]
     },
     "metadata": {},
     "output_type": "display_data"
    }
   ],
   "source": [
    "x = nperseg\n",
    "ys = np.array([x**1.58, 1]) / 2.7e3\n",
    "thinkplot.plot([1, x], ys, color='gray', linewidth=1)\n",
    "\n",
    "thinkplot.plot(freqs, powers)\n",
    "thinkplot.config(xlabel='frequency', xscale='log', xlim=[1, 1200],\n",
    "                 ylabel='power', yscale='log', ylim=[1e-5, 5])\n",
    "\n",
    "plt.savefig('chap08-6.pdf')"
   ]
  },
  {
   "cell_type": "markdown",
   "metadata": {},
   "source": [
    "The slope of the line is -1.58, which indicates that this spectrum is pink noise with parameter $\\beta=1.58$."
   ]
  },
  {
   "cell_type": "markdown",
   "metadata": {},
   "source": [
    "**Exercise:**  Choose a different value of `nperseg` and run this analysis again.  What are the pros and cons of larger segment lengths?  Modify the code to run the model longer and see if you can get a less noisy estimate of the spectrum."
   ]
  },
  {
   "cell_type": "markdown",
   "metadata": {},
   "source": [
    "## Exercises"
   ]
  },
  {
   "cell_type": "markdown",
   "metadata": {},
   "source": [
    "**Exercise:** To test whether the distributions of `T` and `S` are heavy-tailed, we plotted their histograms on a log-log scale, which is what Bak, Tang and Wiesenfeld show in their paper.  But as we saw in Chapter 4, this visualization can obscure the shape of the distribution.  Using the same data, make a plot that shows the CDFs of `S` and `T`.  What can you say about the shape of these distributions?  Do they follow a power law?  Are they heavy tailed?\n",
    "\n",
    "You might find it helpful to plot the CDFs on a log-x scale and on a log-log scale."
   ]
  },
  {
   "cell_type": "code",
   "execution_count": 48,
   "metadata": {
    "collapsed": false
   },
   "outputs": [
    {
     "data": {
      "image/png": "[encoded data removed]",
      "text/plain": [
       "<matplotlib.figure.Figure at 0x7f73a1a652d0>"
      ]
     },
     "metadata": {},
     "output_type": "display_data"
    }
   ],
   "source": [
    "cdf = Cdf(S)\n",
    "thinkplot.Cdf(cdf)\n",
    "thinkplot.config(xlabel='Size',\n",
    "                 ylabel='Cdf value of S',\n",
    "                 xscale='log')\n"
   ]
  },
  {
   "cell_type": "code",
   "execution_count": 49,
   "metadata": {
    "collapsed": false
   },
   "outputs": [
    {
     "data": {
      "image/png": "[encoded data removed]",
      "text/plain": [
       "<matplotlib.figure.Figure at 0x7f73a3793f90>"
      ]
     },
     "metadata": {},
     "output_type": "display_data"
    }
   ],
   "source": [
    "thinkplot.Cdf(cdf, complement=True)\n",
    "thinkplot.config(xlabel='Avalanche size',\n",
    "                 ylabel='Cdf value of S',\n",
    "                 xscale='log',\n",
    "                 yscale='log')"
   ]
  },
  {
   "cell_type": "code",
   "execution_count": 50,
   "metadata": {
    "collapsed": false
   },
   "outputs": [
    {
     "data": {
      "image/png": "[encoded data removed]",
      "text/plain": [
       "<matplotlib.figure.Figure at 0x7f73a23e2750>"
      ]
     },
     "metadata": {},
     "output_type": "display_data"
    }
   ],
   "source": [
    "cdf = Cdf(T)\n",
    "thinkplot.Cdf(cdf)\n",
    "thinkplot.config(xlabel='Size',\n",
    "                 ylabel='Cdf value of T',\n",
    "                 xscale='log')\n"
   ]
  },
  {
   "cell_type": "code",
   "execution_count": 51,
   "metadata": {
    "collapsed": false
   },
   "outputs": [
    {
     "data": {
      "image/png": "[encoded data removed]",
      "text/plain": [
       "<matplotlib.figure.Figure at 0x7f73a24c7a10>"
      ]
     },
     "metadata": {},
     "output_type": "display_data"
    }
   ],
   "source": [
    "thinkplot.Cdf(cdf, complement=True)\n",
    "thinkplot.config(xlabel='Avalanche size',\n",
    "                 ylabel='Cdf value of T',\n",
    "                 xscale='log',\n",
    "                 yscale='log')"
   ]
  },
  {
   "cell_type": "code",
   "execution_count": 52,
   "metadata": {
    "collapsed": true
   },
   "outputs": [],
   "source": [
    "# Solution goes here"
   ]
  },
  {
   "cell_type": "markdown",
   "metadata": {},
   "source": [
    "**Exercise:** In Section 8.5 we showed that the initial configuration of the sand pile model produces fractal patterns.  But after we drop a large number of random grains, the patterns look more random.\n",
    "\n",
    "Starting with the example in Section 8.5, run the sand pile model for a while and then compute fractal dimensions for each of the 4 levels.  Is the sand pile model fractal in steady state?"
   ]
  },
  {
   "cell_type": "code",
   "execution_count": 60,
   "metadata": {
    "collapsed": false
   },
   "outputs": [
    {
     "name": "stdout",
     "output_type": "stream",
     "text": [
      "CPU times: user 1min 54s, sys: 4 ms, total: 1min 54s\n",
      "Wall time: 1min 54s\n"
     ]
    },
    {
     "data": {
      "image/png": "[encoded data removed]",
      "text/plain": [
       "<matplotlib.figure.Figure at 0x7f73a2c36990>"
      ]
     },
     "metadata": {},
     "output_type": "display_data"
    }
   ],
   "source": [
    "mypile = SandPile(n=131, level=22)\n",
    "%time mypile.run()\n",
    "viewer = SandPileViewer(mypile)\n",
    "viewer.draw()"
   ]
  },
  {
   "cell_type": "code",
   "execution_count": 61,
   "metadata": {
    "collapsed": false
   },
   "outputs": [
    {
     "data": {
      "image/png": "[encoded data removed]",
      "text/plain": [
       "<matplotlib.figure.Figure at 0x7f73a1a719d0>"
      ]
     },
     "metadata": {},
     "output_type": "display_data"
    }
   ],
   "source": [
    "draw_four(viewer)"
   ]
  },
  {
   "cell_type": "code",
   "execution_count": 62,
   "metadata": {
    "collapsed": false
   },
   "outputs": [],
   "source": [
    "# Solution goes here"
   ]
  },
  {
   "cell_type": "code",
   "execution_count": 63,
   "metadata": {
    "collapsed": false
   },
   "outputs": [],
   "source": [
    "# Solution goes here"
   ]
  },
  {
   "cell_type": "code",
   "execution_count": 57,
   "metadata": {
    "collapsed": true
   },
   "outputs": [],
   "source": [
    "# Solution goes here"
   ]
  },
  {
   "cell_type": "markdown",
   "metadata": {},
   "source": [
    "**Exercise:** Another version of the sand pile model, called the \"single source\" model, starts from a different initial condition: instead of all cells at the same level, all cells are set to 0 except the center cell, which is set to a very large value.\n",
    "\n",
    "Write a function that creates a `SandPile` object, sets up the single source initial condition, and runs until the pile reaches equilibrium.  Does the results appear to be fractal?\n",
    "\n",
    "You can read more about this version of the sand pile model at http://math.cmu.edu/~wes/sandgallery.html"
   ]
  },
  {
   "cell_type": "code",
   "execution_count": null,
   "metadata": {
    "collapsed": true
   },
   "outputs": [],
   "source": [
    "# Did not complete optional exercises"
   ]
  },
  {
   "cell_type": "code",
   "execution_count": null,
   "metadata": {
    "collapsed": false
   },
   "outputs": [],
   "source": [
    "# Solution goes here"
   ]
  },
  {
   "cell_type": "code",
   "execution_count": null,
   "metadata": {
    "collapsed": false
   },
   "outputs": [],
   "source": [
    "# Solution goes here"
   ]
  },
  {
   "cell_type": "code",
   "execution_count": null,
   "metadata": {
    "collapsed": false
   },
   "outputs": [],
   "source": [
    "# Solution goes here"
   ]
  },
  {
   "cell_type": "code",
   "execution_count": null,
   "metadata": {
    "collapsed": false
   },
   "outputs": [],
   "source": [
    "# Solution goes here"
   ]
  },
  {
   "cell_type": "code",
   "execution_count": null,
   "metadata": {
    "collapsed": false
   },
   "outputs": [],
   "source": [
    "# Solution goes here"
   ]
  },
  {
   "cell_type": "code",
   "execution_count": null,
   "metadata": {
    "collapsed": true
   },
   "outputs": [],
   "source": [
    "# Solution goes here"
   ]
  }
 ],
 "metadata": {
  "kernelspec": {
   "display_name": "Python 2",
   "language": "python",
   "name": "python2"
  },
  "language_info": {
   "codemirror_mode": {
    "name": "ipython",
    "version": 2
   },
   "file_extension": ".py",
   "mimetype": "text/x-python",
   "name": "python",
   "nbconvert_exporter": "python",
   "pygments_lexer": "ipython2",
   "version": "2.7.11"
  }
 },
 "nbformat": 4,
 "nbformat_minor": 0
}
