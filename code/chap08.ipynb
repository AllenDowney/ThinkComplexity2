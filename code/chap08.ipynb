{
 "cells": [
  {
   "cell_type": "markdown",
   "metadata": {},
   "source": [
    "# Self-organized criticality\n",
    "\n",
    "Code examples from [Think Complexity, 2nd edition](http://greenteapress.com/wp/complexity2), Chapter 8\n",
    "\n",
    "Copyright 2016 Allen Downey, [MIT License](http://opensource.org/licenses/MIT)"
   ]
  },
  {
   "cell_type": "code",
   "execution_count": 76,
   "metadata": {
    "collapsed": false
   },
   "outputs": [],
   "source": [
    "from __future__ import print_function, division\n",
    "\n",
    "%matplotlib inline\n",
    "%precision 3\n",
    "\n",
    "import warnings\n",
    "warnings.filterwarnings('ignore')\n",
    "\n",
    "import numpy as np\n",
    "import matplotlib.pyplot as plt\n",
    "\n",
    "import thinkplot\n",
    "from thinkstats2 import Hist, Cdf\n",
    "\n",
    "from matplotlib import rc\n",
    "rc('animation', html='html5')"
   ]
  },
  {
   "cell_type": "markdown",
   "metadata": {},
   "source": [
    "## Sand pile"
   ]
  },
  {
   "cell_type": "markdown",
   "metadata": {},
   "source": [
    "`Sand.py` contains an implementation of the sand pile model."
   ]
  },
  {
   "cell_type": "code",
   "execution_count": 77,
   "metadata": {
    "collapsed": false
   },
   "outputs": [],
   "source": [
    "from Sand import SandPile, SandPileViewer"
   ]
  },
  {
   "cell_type": "markdown",
   "metadata": {},
   "source": [
    "Here's a small example starting with two cells ready to topple.  `n` is the number of rows, `m` is the number of columns."
   ]
  },
  {
   "cell_type": "code",
   "execution_count": 78,
   "metadata": {
    "collapsed": false
   },
   "outputs": [
    {
     "name": "stdout",
     "output_type": "stream",
     "text": [
      "[[0 0 0 0 0]\n",
      " [0 4 0 4 0]\n",
      " [0 0 0 0 0]]\n"
     ]
    }
   ],
   "source": [
    "pile = SandPile(n=3, m=5, level=0)\n",
    "pile.array[1, 1] = 4\n",
    "pile.array[1, 3] = 4\n",
    "\n",
    "a = pile.array\n",
    "print(a)"
   ]
  },
  {
   "cell_type": "markdown",
   "metadata": {},
   "source": [
    "To execute one step, first we find cells that are above the toppling threshold, `K`."
   ]
  },
  {
   "cell_type": "code",
   "execution_count": 79,
   "metadata": {
    "collapsed": false
   },
   "outputs": [
    {
     "name": "stdout",
     "output_type": "stream",
     "text": [
      "[[0 0 0 0 0]\n",
      " [0 1 0 1 0]\n",
      " [0 0 0 0 0]]\n"
     ]
    }
   ],
   "source": [
    "K = 3\n",
    "toppling = a > K\n",
    "print(toppling.astype(int))"
   ]
  },
  {
   "cell_type": "markdown",
   "metadata": {},
   "source": [
    "Then we use `correlate2d` to make a copy of the update kernel around each toppling cell."
   ]
  },
  {
   "cell_type": "code",
   "execution_count": 80,
   "metadata": {
    "collapsed": false
   },
   "outputs": [
    {
     "name": "stdout",
     "output_type": "stream",
     "text": [
      "[[ 0  1  0  1  0]\n",
      " [ 1 -4  2 -4  1]\n",
      " [ 0  1  0  1  0]]\n"
     ]
    }
   ],
   "source": [
    "kernel = np.array([[0, 1, 0],\n",
    "                   [1,-4, 1],\n",
    "                   [0, 1, 0]], \n",
    "                  dtype=np.int32)\n",
    "\n",
    "from scipy.signal import correlate2d\n",
    "\n",
    "c = correlate2d(toppling, kernel, mode='same', boundary='fill', fillvalue=0)\n",
    "print(c)"
   ]
  },
  {
   "cell_type": "markdown",
   "metadata": {},
   "source": [
    "Finally, we add the result back into the array:"
   ]
  },
  {
   "cell_type": "code",
   "execution_count": 81,
   "metadata": {
    "collapsed": false
   },
   "outputs": [
    {
     "name": "stdout",
     "output_type": "stream",
     "text": [
      "[[0 1 0 1 0]\n",
      " [1 0 2 0 1]\n",
      " [0 1 0 1 0]]\n"
     ]
    }
   ],
   "source": [
    "a += c\n",
    "print(a)"
   ]
  },
  {
   "cell_type": "markdown",
   "metadata": {},
   "source": [
    "Any grains that topple off the edge disappear."
   ]
  },
  {
   "cell_type": "markdown",
   "metadata": {},
   "source": [
    "## Animation"
   ]
  },
  {
   "cell_type": "markdown",
   "metadata": {},
   "source": [
    "Let's look at a bigger pile, with `n=20`.  All cells are initialized to `level`, which is meant to be substantially bigger than `K`."
   ]
  },
  {
   "cell_type": "code",
   "execution_count": 82,
   "metadata": {
    "collapsed": false
   },
   "outputs": [
    {
     "name": "stdout",
     "output_type": "stream",
     "text": [
      "(332, 53336)\n"
     ]
    }
   ],
   "source": [
    "pile = SandPile(n=20, level=10)\n",
    "print(pile.run())"
   ]
  },
  {
   "cell_type": "markdown",
   "metadata": {},
   "source": [
    "The `run` function invokes `step` until no more cells topple and returns the number of time steps and the number of affected cells."
   ]
  },
  {
   "cell_type": "markdown",
   "metadata": {},
   "source": [
    "Now let's look at an animation, starting from this initialized pile."
   ]
  },
  {
   "cell_type": "code",
   "execution_count": 83,
   "metadata": {
    "collapsed": false
   },
   "outputs": [
    {
     "data": {
      "image/png": "[encoded data removed]",
      "text/plain": [
       "<matplotlib.figure.Figure at 0x7f68b6b038d0>"
      ]
     },
     "metadata": {},
     "output_type": "display_data"
    }
   ],
   "source": [
    "viewer = SandPileViewer(pile, drop_flag=True)\n",
    "anim = viewer.animate(frames=100)"
   ]
  },
  {
   "cell_type": "markdown",
   "metadata": {},
   "source": [
    "Starting with `level>K` produces all kinds of interesting patterns."
   ]
  },
  {
   "cell_type": "markdown",
   "metadata": {},
   "source": [
    "Each step of the animation drops a single grain at a random location and runs until no more cells topple."
   ]
  },
  {
   "cell_type": "markdown",
   "metadata": {},
   "source": [
    "Most avalanches are small, but some are very large."
   ]
  },
  {
   "cell_type": "code",
   "execution_count": 84,
   "metadata": {
    "collapsed": false
   },
   "outputs": [
    {
     "data": {
      "text/html": [
       "<video width=\"432.0\" height=\"288.0\" controls autoplay loop>\n",
       "  <source type=\"video/mp4\" src=\"data:video/mp4;base64,AAAAHGZ0eXBNNFYgAAACAGlzb21pc28yYXZjMQAAAAhmcmVlAAE2Lm1kYXQAAAKtBgX//6ncRem9\n",
       "5tlIt5Ys2CDZI+7veDI2NCAtIGNvcmUgMTQ4IHIyNjQzIDVjNjU3MDQgLSBILjI2NC9NUEVHLTQg\n",
       "QVZDIGNvZGVjIC0gQ29weWxlZnQgMjAwMy0yMDE1IC0gaHR0cDovL3d3dy52aWRlb2xhbi5vcmcv\n",
       "eDI2NC5odG1sIC0gb3B0aW9uczogY2FiYWM9MSByZWY9MyBkZWJsb2NrPTE6MDowIGFuYWx5c2U9\n",
       "MHgzOjB4MTEzIG1lPWhleCBzdWJtZT03IHBzeT0xIHBzeV9yZD0xLjAwOjAuMDAgbWl4ZWRfcmVm\n",
       "PTEgbWVfcmFuZ2U9MTYgY2hyb21hX21lPTEgdHJlbGxpcz0xIDh4OGRjdD0xIGNxbT0wIGRlYWR6\n",
       "b25lPTIxLDExIGZhc3RfcHNraXA9MSBjaHJvbWFfcXBfb2Zmc2V0PS0yIHRocmVhZHM9NiBsb29r\n",
       "YWhlYWRfdGhyZWFkcz0xIHNsaWNlZF90aHJlYWRzPTAgbnI9MCBkZWNpbWF0ZT0xIGludGVybGFj\n",
       "ZWQ9MCBibHVyYXlfY29tcGF0PTAgY29uc3RyYWluZWRfaW50cmE9MCBiZnJhbWVzPTMgYl9weXJh\n",
       "bWlkPTIgYl9hZGFwdD0xIGJfYmlhcz0wIGRpcmVjdD0xIHdlaWdodGI9MSBvcGVuX2dvcD0wIHdl\n",
       "aWdodHA9MiBrZXlpbnQ9MjUwIGtleWludF9taW49NSBzY2VuZWN1dD00MCBpbnRyYV9yZWZyZXNo\n",
       "PTAgcmNfbG9va2FoZWFkPTQwIHJjPWNyZiBtYnRyZWU9MSBjcmY9MjMuMCBxY29tcD0wLjYwIHFw\n",
       "bWluPTAgcXBtYXg9NjkgcXBzdGVwPTQgaXBfcmF0aW89MS40MCBhcT0xOjEuMDAAgAAAIc1liIQA\n",
       "E//+97GPgU3IAA2XOop6H+EVsfSQUXqx2aBk6gAAAwAAiYGOFkETf+CdkID9MGNoDGXiRp3vaZ7c\n",
       "0f9L4uV5AsZPK5BdxLBXs4AICzu3shjtOMAuNX4FRJ+mofarojrKAo8B+ppmVI/AnenAbky9K/9z\n",
       "uIWlKWTN9yqiCB6SgSMU71BtKzSdE5zK3KpX9eaF7tG60mfd4nN+xp7gK5jeN+Wo4JiEYWdXYRI+\n",
       "Mt54UrnfgvY4HVH78G5EYyMXiB3s4MAdUqUWeBSu9cRcYzIWzO8zkdc0btH3v+axeKuIcuL6UG5y\n",
       "xfT4oyjnMjIuw0l9m+f+cWa/s77MPtlXpaw3pyMDbF4OfVtNd3dCZZzSOEusU080qjh9TL9r3Jku\n",
       "ONzeydQBUcjz/W7bkIWU9vb8cmzoxHWWHmEu8fuuiuZ5yS66d/DeE7Fm6nZSjbDpgC+IEwmlDDws\n",
       "YXCesrPck0NUSpkSiBL8JyCmoXQru5O+T6aezWGmqtforZMa0TnbZZ6hap8GPx6V7AronEwfxqgi\n",
       "mzKz7sP8D5EK0Mok7aiXfRILQvhorxrrhrYVBggPJhrOH0B5WJF7M0AEqQ7wpQNF1BsYumZRLJW0\n",
       "Dp89/1ZQ5zh3jn1Hta4lc+gmP31Kwz60DSYoUPCeFAcnFfHoByfG/O2yCxdY2azxNq/xvtFh/U9Z\n",
       "Xc3yWqP718ivdSJnX8FX9Q5D70E488UQx0bBHlHd5fJfS80aiyTGbmukW052STPjhwJMYcFO3v30\n",
       "aO8SybAJDKf6HK0qdnCjPx0H2yNihAMpQq7FvMPbjoi692xuM/NIBVIw1xbYk5yY8TZj6nAxp5ef\n",
       "WWaxVubKW4LienS6hK8nfBhx8sXqu7+nULR/CB0ifXluhDyFqWYtEbOUC5OBsiRe2cUSFFKUq8kj\n",
       "Yojw2ViYVhMv6wVxjsAq8M8vKtPGi7K57tI1Lapk/rfonMLce+olUPUh4LhLibHcjjkZ3RMQ3XvA\n",
       "kHkOfWsPSbk0AhMUQg4HDSOvuDbqf2brDO+Yr082ogIKbxYeNyWTRQuJQ2ng3O/8o/GenLprcZ+k\n",
       "9+w9fwUj98oiaVVNZBhug6qopF7XQG+DLe7cosgoXebnXtxsFqzrMIQt7MXSOwqyxQjPVGbVmn/4\n",
       "xn+wt7lG9w1lz8lXvhuisiVap81ms6XKSPyq4lVUWfXYRWZ6oicluCAMf1KST+XV9hfElGGXWu9R\n",
       "aY1s22vl9TIzqeUWmV7VMl224leeQc6Y1gPC08LvN/cahcRXtWlyKWuzFEMtD8ZJQ+dGf+O3QMfR\n",
       "MaWPL7XByamldjQOX465TmUETtva3n+CA/SFJ4i142i0wdJqC41V8HYkdmCh3TN/+I0r/bzgrXQu\n",
       "TKn4FogAs0nss8PuNCXa69tIU2pgkF2vfGz96u4c+95oxItE1QqFREjXhZoG1AO6kokYIp2zlcNb\n",
       "VS50clfCkYs6P0CEHaCMaNQ/FeyNxGI5UzidsgDW0bBJDsDoMcafjl7sV6Mx4Kjk336G8KipzRRY\n",
       "SnIDSDRTrBfL2kht/AV3dvOHJxx9LEfd36yQWzIgeIaiI6FUCI87Yld+6eKCreDaAMEDxejBQ0gA\n",
       "OZ8Ytwj1ZtpSVgzqmBzw7/+yXKtRrRVHnmdrXSRiOR3IxIk7lUhRy3abGkSq0U2pdWigxaLhxnpn\n",
       "F72JZtHqaZxWgiIGR9bTwWI17LGGc++bMdlKe7nAMBGrIc+iR5TJ2kj+PBLD4vs3Jji6VbbxaCq8\n",
       "lSJf79/onG6NdMmqGkZJFB4m15itT7/06FvFvM4VasA+Ge1jV3P8pKdylcQa1RJTp4myZ9/gQlOI\n",
       "MmWCmMhV147QEZI61jRmk1Aijs6ysM3AYcJ5pDXuTxxNXY4pfoFoiLTep3oQTaiT3+dYycCy6h1+\n",
       "Qy5oPSlqY8HeKDDALmxRtZ/8tJwIGayh8nNyFkbdgSGcBYAlBW7xBSsHqdXJY33LLF6URCUp2G/x\n",
       "MZWeh4os0p/jbel60+OAMmtx/Z1kHlCuDkeJA9gHY2gKm90GaR9aOTom399oJaF8ALX/g+4KdzXl\n",
       "ncofB0BPJINMijgtCI8p7gW11zGQyDUX/axKGniMHVcMUZYw0augB1/gGPNGPBygAACjP5t9eL9R\n",
       "wmKv3O80Y4k4iH4tt6GthyeCuEJfsBe0/JJN8KUTG2zgC0wzF6HGwte1pfqFC8gnz1ZGtjnAiYiV\n",
       "GqTrLcRYpFkaSf6Wk04ZaE+ZPyadh6UVTKv96fK6R+XYZYsQ//xqwYIjyhnfpuivkoNglL2iG0Ou\n",
       "mSme6nA76xBBWjRqRN2kEP9Iqln7Beka1s0jkVyZW/9cOBuIjttxvOtnx7mAZHHNzh2Lwtvm/MY3\n",
       "0rrN2R2xHPqJ7LMtUSVeddAedbROo27H5oj/PiwZg94aBUyrDSVjg179omkH4yIIzaq6WAhbLiRj\n",
       "oTjcgWxGQ5G6RQwLDNso9J5dLn7CNDT+fJm3tppncowBWGJJP7gi4ljGMjekEU5mG6z/ncEZBmjc\n",
       "vIV5FA/uKEfMOb+tP2KKE8lKyBZ7R5WDs4Xs88KRUTYABT29QNVhJ9LaNueTlGXLhJtZgbwzyo+N\n",
       "LJV/QomGHhz43ClBvdtCx56XWjmw7EdZG1CCpDOaHbKpf/3Sto+w/VzOjilyMYcOsb7NoVNkpk8H\n",
       "y7YeR8R+QcXRxuHQIgHPXyIXuZcU0kknISVdp12jS3ur8P+HdZAPfFWFCpP6f78vsPdoZJV4qeJl\n",
       "62aYG98zG4+2JGRGnSGsUERDkcXayKRSC8Lmsc55AERkEuU5tADZxLoYw/l5K3p8amGMgNsOowvh\n",
       "7OKCUa+TwTze7Jjem3hm0YJBLCwmR8HoU3BoKxa9eP/tyWXzcjonUpYWJhBEvc3Vg2ErXHCi8xXH\n",
       "1155OQu8KoS6G9rA0gNKjjs/nLWD/24b69+gY0ITZTx9JhU6P5SN8K3XBqaFU9cdomFqjAAANq4j\n",
       "6GUkWxCizgJl9eipuWaw4DCqtVfIqgf9lwawWEbbzJpdiodHNkYsERGhHTaG41D6uR83YOwVwN8A\n",
       "1K/iM+pfpmsf3v3qnQPxDzU0LKYS0+V/pyi/d/tD/8IEVzWB8UG1lLzeYUnghzlMM/F3UwFOVbE0\n",
       "Ka2y4UX13CoAcQu+WQ5cjIaVkzbqMhUy+5OyeF+1CDuqaC4jV1MZCToxpFAgRMMlmvwWnEb7vmS7\n",
       "4zrSgzTRdxb18m3oMsQ4iu1FvSk0yi5ttkwBgHEgzT2fd34lbpp1tzFfEqzHinbuJMeU1MCksVU8\n",
       "DFpjNVu5AMegAyYiom6ZkClxxJeCLpnVNyTzIx3m/co3uPZzw9KQ4fgEvl0CG12POQ5/l+mgXlA/\n",
       "Dn5wvXwog6eVVhkcw6UYsJMQ2fxEwlWNwL0KGhn0x0GVWkmpuvPNsdx7PWdln4NkcT5FQe2EICQy\n",
       "8gLokbpwa6tNfZMey/4IVfUZLPYxDeQws5rxPYptjuncDN3dEOUK/uDVWnONI5nzuaeKf7VGE6l9\n",
       "PEe+GGNPosb+Qg4d8cgLLXai/ucKkYbbpCM9DEOSBPIPy3D4TatCnqbWSeuiUcXUJoflB/r+2u3z\n",
       "UvGEiQcvTtUbwSx6zn9WFRuuqwEkoHBQmj7qCNNa/cGERtAKBwVo8eTaYo0kZG6eKEe0fnkKQJe9\n",
       "rvPU93p5V8oy4N2U80Tnagj+x8BRbucCzCKFNmNwOAPeRan6ekb1yQzvHjB+TOPXeL5O+dcoF3Lx\n",
       "wlmtZbeSUyK2hBFDC6Yc2w6dVEXdwv9+9N/BMyArFvvKxkfTj4FWCj+yjdlkM0E2JuOC3STR5lyI\n",
       "QECDZj4FVlJVdxinL8TTM46lnVFc2Kp4LHP4d5yIoWEcXNUZRBcfri31tsmbKbbcqF1PDHpH4X9z\n",
       "ALDeJBIrKLg54ftPKUsmknF6Yk4HIkdSmEX+s+n1bi78r7ZeXNyZZI5Rnc5UrSl2sDN8k+UUJO1j\n",
       "CaHHbSVWHqayv3NeaN5JtZc1+D9pTzSo5+PBk4QoM8qeOpdfa1mmnWOG2U8aCQmdYyglWiCHKh9V\n",
       "wByQzL8T83qF/e0o7T85iBPxSigado0KHaOPZjzVLbqEv4ZmleiBT/RHpZ4m4mQKeB4xHJHRi5Vm\n",
       "gJHyzF2dvUHaZGvGMA42xhJrnDv7iQ8ZGIZEUvxzSkZEf45dbyTpizA1fsYwqkHajXXlX2lqfal/\n",
       "tPovMcYZpa+GFRciuxGzBLtD9wFx5RuAWWlZ0CEdiNqu+wuCDBO1VUzql8puSNggjoz8sIQwGK5p\n",
       "Pfp+kaMVGlOupDvGk7r0o8CzN3HUXTcKAcHOIzpcMiDncu00n39+2C4pNBN0Yrzg19furC2QvRTf\n",
       "wActhW/J4TmmSLeTjEXfEqo6ecjd2IOUYaL8ZsXd7XMtK+j+JamZjmsMmmT1eZLYipNtXL2ZdD7b\n",
       "xYJaoLfZj2FqFHx8uvEPfjxyDlLcW/XImyQgttW9kpyseOw4F5DkQnlTVjspdpeRI62i5gD4GZev\n",
       "PohCFySH1pDYdGOk6BAhCNDeoD5SvfQvchpz3yHy4nNrx+9PYycTQcwqrChapsa8hXnnHskkLTuj\n",
       "776wZlCh2rkMfjWR2azLN4QthTx43kosx+T6On0NAtJxERmBaVszzRnH8cGn3NEcn84d8QAv/OqP\n",
       "vXzDj2202rkFfZEn8Ek+4sm8pFtUd++bZ1Zrz1Pjf2D8Ii/n2HKNeXUFjqBLmqSAkatTFVtXLin9\n",
       "1RiapCl/Img/2wIYe1nJCz3B+lLemfLA6AQlkAqULknQbqwGkiyNwXXBxCO5jQmTiKRNVw3YYG67\n",
       "MW7nury2m7ku5NI2/qL2MlPR2vHE2zt64rB+J/Sq0CXKBJFyxR9VSSEHT8OHpqpda7GYUbt6FF77\n",
       "vfDdS+/a5ub2ftL4Aj98fD6PGjpYaPVd/jjZguDI1YU1HjAJflkGqNReKHFCvSJyDF8IC2W/Ilxs\n",
       "G36Ea9nJwjp8Cji6ncR5elzhbMVlL5yT3MadEjT8MOBWkXd9KSH9/VPvHtGBsqlARnaGQJVuG52k\n",
       "EkXRUxxrXs+BJKtvB6DKMTK0+R9fDYQgKduIgl2p+f0XYuLQ8lot+EdsOM6/pLP0YuJCG6a6iM8F\n",
       "CDQ1/5qcwd63lkdmwKFqJ06js3mrfsKCziGKs6i2YY3CWPCio/SYZtoUEYCDZgsN9CesLisYy46F\n",
       "pXwIY5LEAb/6oZbdgDnNWuKP6fs64bo0pQBov/1gFtoGk1MnmJFcwdwCOFcpgsQbNwC/z0CeX8/k\n",
       "DCkUWN3A1NcqqrECOar8/MunetUVdLauQR8mjiwFgkiSVBMF/+pNX0gJPmwX3Pd1uzXx+HWw06zk\n",
       "7XHiArS2S+8NP/K036YwN+zB2ohK7hp41MZ3bkhceyCNh4rA/MQ01kedYetIN4UoSYCBTCFjCv8E\n",
       "s/4Kv6qfXIxrQ39nAYbH/aDFpM02Wmp8Zvdt1eBmHR83UwlkYd+1hyMdm38owjXJOJTGMBjIV2cK\n",
       "krcpPaft0UKIIPUWFegoI42P6+QlYMxuzgmZsly9uVgiJp2Akxg4zCQdDYV79qTTdS1h1Mz0NmCz\n",
       "cR6t0Tolu2ha9W/etbCQHbaG5SN6mLUg8kLc2GLDbgCn7YmqXxy5LSCTm4/JjCfBQiWnTuL3OFxK\n",
       "ZqWGNFDEtq2X8+K5UKNDzgxYrGiysa9kV4VppYVUJACjaJws6UV1Ra7R6yEowByRdtWl60ZjK8f4\n",
       "ybiccGRmetkeJxdnO02GdPWTrovPRW6CfRlekE1Q2YCzto1aqlUnDFedhq9M7KT6yQp461TFzwvI\n",
       "h3tNAqy4RsuTLF+IjEPof5w6Lj4+OHmLLSXSUZ+pqIunHAZBqfBczCeNqAWn7spIBqjz9rjTiYzn\n",
       "umeAfI9O46dTeYLm9say+vWypK1LwVVjcOuTwZ6SS8LpEBN6CKcEOSej4qIg2cF0mRQBi2LT+WIv\n",
       "SNemPimUMVNbfJfD/eA4a7rXourPlwHL4jiKK6dqnGm7HyrQSzTrCB8ihuvsipuxzb3a+NKoHsof\n",
       "k+n5Eg+/Pe5do32nOKDFaiYozJZZ6fhX3xToVah/aSXSjL6AsWIKLQAn07tb5meymR2xiu5yhGxn\n",
       "zi8k3tidPogzpN8fYrhZv0YAk/a6YTS3M3IsiQJTa0h8QcWPCAVZODGYXtweqUaEaQ+pik+k9dCd\n",
       "0lOnYNMqXE7LtcZDIEWCRz/COdrdsstvBtZf6kxe9i32WrSjO1Wwcy5DOKvugdDkPZiS6j8pQ4LA\n",
       "XoUm4GQ2Lv52l/nIm1ix3z8lWyyKEaG6C6XtHsgu2WzMdPLXNuZJlXsNjHmUkPLgvBBOXB6groLA\n",
       "eqEK8uBol0acevIJR1gHZUGsttiTPaCon+6lckX4tmmHDCmYQ3JOvUr+NxINeT59tJ8eeNOdbw/7\n",
       "QXYxhbvgIwVHLGBsXrIzsCq0HhNnij0QrJ3ZgZ1xxE5zbr/7T/gLsqQd5KBvb9LNC/ateK674U6k\n",
       "eKH6d6I4ttHguXXptTn9+FPcSGj0TKbQbaElCmsfDIsHJ7/YuTO2op3D4RWEA/7Q34kwJ5LJJEDC\n",
       "tpBZ8Kyv7i2PWHdg7QmYnWgCnQ58fov7fVCPG9JEgCL9FiVwPxTvrYd7nJtbht1Jdz2MNndbeJex\n",
       "wyCeas4ISyuVjXThlaDvEaRkM5XBeaU2V57U5vS5mxmV4QzmS+5m3Sh0uzb5+Wxu0jHtB4s+i0cD\n",
       "40/WGQ3p7aCij/0JC6pb7p1LLRgSkBqDAYec/5Qhod5KsVeUXVlvIOw47+IQ5TBZ+kXk38W8Ob9n\n",
       "AwE9OtElR+ZRWQX/7L47yu5vx4rdXbdHlxZlc7hQ3ZLVMjtr7SmbARbDehvQiW4KdlH5NLTbd6D5\n",
       "bks6G/GzITmVRmoOiQUIL/nSBJ9V5rB+p2bdXLi+IhyfBvxxSwaptURMYTMTh4F4Cib4zx67jqlc\n",
       "AgHm9t/JZkTQPPbJhfqBm8JWDYqm8O29sUwz2aHLIuw16Qz5Al4a+ogoO1PNipdbqfWlEHyrukS/\n",
       "t34UPQ73Qrdfi6dVZRoXLkuXx8MPoXHlw4iqmJXLmC2wKPtCkUGm/0diPbDGmmCISGmbOH3dB/jO\n",
       "Z58uV3O5pl/3HfZEu3ByWX9ZjfqxViV4/LQx4itTnAGk9wxIXMBcPysX20ogQyJGB8onU/xa0WMP\n",
       "HS5ZwbwAVmq3DAv4qlHifE2PyBmYXHt5mQ+Qlz0WYx0tDKayvfXZXHcJKsqYsTb0lBu062HIahWQ\n",
       "7Sz1Qg0U5fYBP+F/ntJYTqUdC9ClHuBaQbClx3V6wnkgE00WiqSOzghyBZovBifLtPzpgD86IYzE\n",
       "WnOGfw1/ngZmA4UNFX9241sdIsi7jIaj94j+IgeZ96ixxTTJG2iUPd3mm1kvOXGPNFVHfdHcvY1P\n",
       "sMRPPbwjVkYTPiANN6j/sKRE+Tk2evyQyPR+AeLP4f8+vRqD6myxmFvpZXFI5vyLguJ/BsdEIycR\n",
       "WNuyR4nw6D74h4HwjrGgGo7eK+EVuhe/4B64k6TjSMUajGZ97kDHVPL9dS8VJ21zy9sG6fsDB8f/\n",
       "Y7rprY9cEkAXlokLo+l4Ey/FgqOLXODqI6Eo4tfkGXbuD0+lHt3cw4lcjipEb2IVtCMz7KQkvyd2\n",
       "5QTjwsN+1K32pEIDD3QUMdwU9FDLV17r/GMaBp5RATzpAHlX/ASVGiv+KS2pXLTFNzPeJ7xymyTj\n",
       "bfzuHUnJ1+N987FzQNWi1jNhOEw1FDubZcmznf3r1Q6p9232jkUXKqlVJRVAEfSCzOxZFPasKj28\n",
       "co4dU/pG7l6vKLW09p7B5VDqBZ1YBKulbWQtfqYnaySbsa6R12TahNAmZ0SEedMfGegSCB5FNJcb\n",
       "8qrjcXNzY64dRnZbX/Gfxw83gIC8UnzE204QzfY/GNiI+BbS/M1b9xQ4DUnPjl7KRMHSAuptm33U\n",
       "RbNawClUt1F0jFLGCP1r3fQI6ijNrZZWbDimhxBsOOb9/jLQ4HNOjIQk/NZtb1LMXsdwqq2njkxO\n",
       "55+BJ4tB8v1+wPeeQzu8jb3j48gO3ukPLvQ7J29g8t+1b6WDUJRVcXja0FtMrZyBD7JKZqik22Wy\n",
       "b2gQgUAfuD4qsNKc8bCFDTajVwi3oMhgS/O1IrjICBzMrDPsoY1c+802HYAM3k5r/2ZABL0SPAoB\n",
       "IEmmY7zuB/rZ+2yKYSuVX13PukoWobNrc15BahXYWtUFU0zrr1Yjgit/gd7EbnTz+4DmovkZoN5t\n",
       "9DOzCBIfCgpZo5f4O8i4odrk4mxF1DB0xnmrTNcO4URaZ6Z0EQJig2jthYw/xYsvDZSBoxZm9z3O\n",
       "zM7pbCERZ75yvtIE8WziwWWtD3RnzEcJUGZVnvlmgXZIwLLbNWctvx9Gnz0g9jvFeOV+dxvduAj2\n",
       "y5W8QE0mPVvliYEuxRD+XL77j+18/GLvk5sW8nhT9dFciBHXmENqKtM3wBVw8ks6KgWrJbLKLqoZ\n",
       "jNwhQzZ4ynV7hbsDEUp0ngwMWm1nbw8JJ/bzTvZdqvUncLoRFNRG7LE2Ho0yDt1GVXtt8aS2JMPM\n",
       "lxcowq0VtcHxmQOZmCE7S76TyUvv27SF+nWn3Pq2wwwzb02c2YAzQSUEuIyQOBCzhDX85Xr78QGM\n",
       "x9Mvt6xqaR+SoDTgQMCSQ8RqRXkJPP0VUahRB420XHC9dR0LNoofDtpAPFoZ/U+jMikZkJGDqMg5\n",
       "Yrl/NY9VMxsTPFG/uiHKVCbSKW49+Pox0LywUzTc0TYpc0jPHDb+sOoZ84LEt8GZU8g022zMsI07\n",
       "VNSjHlsinhfLASOw50YDH5ozcq5XDNrLWYF9MkM0yBHC3z2JzKImX4/um4IWmMcJOXInFjVUqZyn\n",
       "D+h9wLRDqL4SKncRjB40pcFE4fgfi3HTxIHLSTnXuPqn3yMaRADXchZD92vV7RTwrUw48isZSdM/\n",
       "gO1cgFfNOJ+IGC6TkQzhwg4cjhjBQGQubKIhojSRZDTHSz9gFz+n2Y9hIgQROeVCkAD75IorH6jF\n",
       "EeSbOqGGI6APrDSQ9L+1A1WQbHLh2msYV/E28zBO7GNQZKsE7UBXp2u67UwfMBiCGi2vRT6kjv8u\n",
       "l6v/+rOxrPbMCH5PGhDtgY/svHSwotA/GRSviwNt16+U2o8KFRXT17WiseoFP/n3rlCHyKFMQjej\n",
       "SHHhNj1Tji43zPoRtTkYVewLspD7/M05xzOLWa/WYnV9BEp+tvZn4PVPrykJqCQcUVNrNlLqTYA0\n",
       "KubLfSSuIUY0iuxpKVvgsRthYieu4FjFC9YIU8vm+foaiprhHusNqGI/OteWdPeqGmQR2B9i5jUl\n",
       "gxs6EwFlMlw16KQ0TrMxbmA3M0K9XBxn/qN1Z3Qs5WiFQZCRQMVX1tkiUQhzocKGZbKGBH9BFzpb\n",
       "p+Z/4miWq0G3sb9jftr3KNXLk/63EEEI1+XkuDH27K+dbkfxBCspmmVi1aIX1qnR/kQDmueFahBA\n",
       "HaQhwVj6QMorD/llW/VMTMumQze9tVFbCxtM4zVLx1nUB+/OswrooScfW12RmDP4Itfl0rfKufkM\n",
       "PXl0bZhizXEY1QuHXCHnWCGczs5j5EnetPllLIsurWaTE0MI64gptDOnaI4TTJMyXU9j5OBP08Dy\n",
       "CGcvUpeokplsjx1oNq4IkWKibj16LyrzW4ou0W3GT8Vug5mqxaQUO4HPc3RpbwJrZFbTVQU3cQLT\n",
       "dvTT3IangQNLPz9mD0ywMN7l+LQyMj3iMSXlY8qpfqn5tp8VPuPbN77oC3qJDJobcAmw42J35nNn\n",
       "AH9YLwwPI4IBiIBRJIUNLR3IqKzNySUkht4K53VK4pT9V6kXoZrgciNYkOdZp66aH71/3DEjUOee\n",
       "BIEV8gS3u+bf8nxowlEMeCacsFuKgp4ZDGnTpSUAcOTcvm575KDkVNPvmqKfbGjI781T6ZwcDLCf\n",
       "hUh8O6PlEnvHpQqFOUxnd4ViCwvdzBpbYNM8JN+d/Qns/mJqxUq8kp4/qx0qGYeM1U04vMgGbQA4\n",
       "gm5Lzb3EjheoTIo+LYYfks0enM3GxE8V6i9G+8OkCKmnXYxMOnjH8iGTg0OKtO4X9bDPCHqPcubO\n",
       "csZvJsCa5RZ95XNh8jt+p48pMPFn4U3NpBFxt05FL12T16pkcG7FRWvAvOQlQhY+A1m/Ehg5I6t7\n",
       "aX+qYikt7yirBiTDnucaq+Mv4wJicvYL72couRhvejo12CbmmYB3iV8N7DnnPTtSF3KxrmaMpBMC\n",
       "I3jQ6mGZBtGbrb/dfqsUFJiA/T7me0GwqdwOVkhgVh+0Y8NDRtbLJ51H7D5qMt9UWdr8whDglqxu\n",
       "l4fse6g54B7X3RoLObfd7awiO8W4L877EPo0XJ5rd4gw9syLoikSuQP/mXnTdiUEb29AIjhWY7dH\n",
       "iMjs4Cj4U96ByuIahcrxOxwLS166ANqKtaLIb3i2fGKPh5ojglLVd1NPFbzB/4HNbAMzfz7JdodZ\n",
       "dRhpc6xQZ+v/99by9zpip29Gtiep4mw61jitL5KBF2qDcMlVM9zd5YDBTTStdhRwMdCjvXYBkmkg\n",
       "tjbRCrrhrFlWY2RB/24pbKjHYlb+CGXpEU6EDJFx9ZBpqf3FI3Ljqr7tTLBqqXuwKakd6ImDIL8c\n",
       "VgL0HShsuEOJPvIlJ207zzYJEnOaadrta961Q4GxEvSihrE8Ou0WDVr39fy675WOj4iJxgUkBCAx\n",
       "1k4II29za1VvtDNTjc9pSOnPi+kVSEAchG3CaNpRttcVjWMUeqK9BJd/YwjxpB2TRiKnkxlAOBFa\n",
       "CP3xu7kjTNLcJYHRfvxYiNBVAXd5zFiOcx6ci58LgSo3thqHPOe8iTwuruHm1vswKhwEqh7txKBW\n",
       "DKIJ0NFnF0UHsEvvtp/37zwtKXlmKKWw0YmmNLQKuB5+dFzxyDj123ppOVQIqlN0BIsoEQsfgSfX\n",
       "tALV1frfocGu4WCEtsE/hly/oHnJytGCv1W82l6S0xlj4kmMAteNSaX9xeup7GFOilrnANk5MK0H\n",
       "+6mMYils8hmZS5a+8lN/HmK9jYNVAFSFFUnJrgNCekJp5dVTtxa2ilxN2mfByCKD4T4PMkv8T9LS\n",
       "HNpwaQ9cTU9SqIcfz6Jo0knFFOuVjmdlcdmZf9a/1tGKI/I+2xGlsNmaoH5Om9AKvq4imwAdhRn/\n",
       "Vy4gY6rJ2KsXL1x8d0PInnV9UOorI9e76wEHzs+9mQJpoRHgr7aVFuuWm6qWFzaLI0Myq2OO7S3S\n",
       "Iq4ycAEef8IADfqErnx3l5hicHD4EjFW5jl2GcJediVohtfMuCG3OlP142xNkE339OmuX1GVJ7QS\n",
       "VxwRnGN4EtpM1+fHw0Wa/vCDi8v2ChAwTAHouwwe4/bqn1/UZRUE43SmqaHDBeKOmBfL9zC/ylmd\n",
       "hO1HLHwiBxiQquoDkav5lLBdLqsfi6LpCJRvKbtN/dTMg3mhbVK8Ng4H+MM8r4ApXMSXP3hSq4s1\n",
       "Ghdj27OOO2N8Xi+COPpNNH/Av3GdDqghlYN+NqQ4JzBiTjwE9K41apfunDRLKKyvZKJZmE498FHG\n",
       "458XKDnbW+MbUr3MDWpNxNZiI559kLXygcJmAQIlvpleApLEDE+OM8VdAAAGO0GaIWxBP/61KoGg\n",
       "Q1gD/3nYnL8wzCP/Pm5NLCICNdlSPbeqnfvkBBStCJH1d3KTO4kbTTLcxvz1YXrWwhPm4JK4RRU6\n",
       "KnJM12v8wwvoHCXpqMrYCwf47bYLzbXwtFCspdZFwP5tj6mwDHapV2JK9/ystvMtPlVYPutaDhnr\n",
       "1bY2sn3IcGU+3pyA4MMIPwsT/COcMR6+mxJBRdXVV5Fp2XenVrrlsXfePAKqkc4lzxFHs17gWGso\n",
       "X5HCIfqdv0hurP85He6TqOYaJhP/7bnOPspDlwJ8ydQqdb/OyDQI8SPwAqkZlJH0IHJsTcz2AJkh\n",
       "P5ERCoGv9sogPg7PFkx+dLCwIfmeBIvGUPOrhbcSvC84eHOM5o6zct7e8SjYnDhs71aswZqQvLBI\n",
       "ZHLRJlXzrvcTMzAsFQgBbEgftAY5L2GEOch1RSym49e73HAyKmg2RKjUovZnRMsOXlpPl8VrNshT\n",
       "knrNtMSGlI9k+v6XSitAi1QWyOsZjLpM/g2movF4KU4a0GQRxJPYMuNB0NjafQoPuAD922UYskQ+\n",
       "7vRwSeZhRdAjqKZSE8kBJMoKwzT7e21IdY09SjvNSN1uJCC0GAbkKhynQSvbs8yj4GAwi5IJxML8\n",
       "cNdEQqQQy7AGwnaqcBuMWpfzJwfnVGO1HmL7+QpMGxbYd5CKWW+LkUsE3ZUfBc/aaqZzq2j+ehwL\n",
       "Zdyn73e7jpnFLNH6cl3tGah98FUaKvwZ0YJTlKhzU4nQFliCd8U16IfuEA6UQMbcpSpVJrTNiP0p\n",
       "/GNT5eimUqOAHd2I39/eUv+HwwcP4Jfdebv/JqyS7ZZhfSqYTM9/4/Ol4SFVi1Y9RKD/fNMbZ6od\n",
       "qldHlC81sSQZYNqqfqjZXuRUJsmgkckTyCddTPUIHXSZb999A/w1AxQC/DAgPOZgVhUmIQlI+9Pk\n",
       "9KxOyLk9Knxb/ff2q6F6IV7s1FLtKbjnd1Kzj99jbd/TXElAImj4ZpwOT+FEcXCBMN6Uymri7DNb\n",
       "Y3wgcbG0D9wiFiI8X6GJxnpJC7BNYtNphqd5Yo9e5IahHTVIumEqNX7FU/KIVktVmOVvyeh3h1ht\n",
       "ViEVefI6jy8K0hWMI3pwb/BWYLcQ8moGvUHTpBoPy+O5jF2M5ULn1yCjc6VvEOMC2eTvh2NgPjsW\n",
       "+Us0r8hH1bMavxEh6VeuFNVrBg2Nh0KQ4kBrmJ1YQomRR2kQM6cq/6DrF0aqUBimzRqb6nb+nSf8\n",
       "aFIQWLPSJIt5Z2GREhvvSsEuG0uw/HMQCq+I+e89wNp15V7N2s+KcqZ+qgPSB/VeN584/Fxm8qoP\n",
       "ZpR0mTTlbLfT/wIOKeay99K5ONIKMawsh+qv/m9bJ4+DvYKfKaE0ylJiK1+e4szzFBPTrWPRbkkt\n",
       "dVD5AfD4Bhct8QHObbhp02+N1EqGmg5hwPWeJMQexLyqND3PAMBcUAlDOxcCoypxnNrl8x/hF1mD\n",
       "gLM2dxClvQxw2e8jGuQp4xD1GrNb3kBtNRzezOWW+WgqBq71np9zG0jvpkk96yiWYTInt0B60VHE\n",
       "CH78Ddv+9n4C4A6Pgl1I3aZbWqmR7hTl1AJipGpfxaKvzhOuwYS3HLU+zJj3unVDjO4QDff9ogVN\n",
       "U8AEayXANiFsCEcm5ebFIQwCBzsuZk+V9Yfmqq8MYd7PoQRvEGYUiSViiWmb6/P479ZnxZF6FIt3\n",
       "wQbhN4KkgfieyBelWpJ9hg4ovQgdSH49+qqAUDVdYsheDPM9iNkgO0Wg47iO78O6sk1lK0xkUIw8\n",
       "lRyKqKPum2PCOjlDg1JabSvWWVBq1vESInFIK+lDQVSbWOiUQDOvMHAQQ4V5XJMOYDZ0b9ZwQxJe\n",
       "MWJM+5euzjHG0dxlRwdvvJ0uNzgueKDZ3CfBeMdiZQMUadrGZjzr2WgvWJCrFl084eM1Hl8NyZqI\n",
       "WqSBvggWRwxfZ9RD4naiOCdqLtimRwzGT6iQzI4aFZHEE47kcNNMjhpDkcNnp9RAn0kB92dqK9z6\n",
       "jDMjhgp8kCBvI4dGkgQryQKTysjh9c7UbVJAi7O1EKvJAjnO1HfnakFZHDEXyOIryQJKZHEdpIEK\n",
       "Zh2TwPfWJznU5jvdXrjqnR34ZcdWCO959cdXYoJISKGyb+07xxRhwf2q4o/oAAALVkGaRTwhkymE\n",
       "E//+tSqBZujUShlLwwB0qa50HkMzssFHlWUPaqYtQ7sQGghJZxjXIx0g1r7wG+VfQb7eVa3575Ws\n",
       "+qOYy6kqz6DsYw7HfsFvUPcCE5d6WUSlmFA64S3aqWyphDvOJ7v/69f0iV3fW3zmtOuyWWA6VqQ3\n",
       "v0WvCWopi1RqWLUiLZIdenZgz6G1RUwCVbeY5UbDrSrtsRtwycLHKIxDexHQHNzIcYnWVa5sb6jo\n",
       "H+kYCwbqHQq6QJ7+tU7rCGvxeuTQoRmMVQdCIiEjfYA527DsR2nXWbyuifBHvgAIqroVzHv1Qu47\n",
       "7C2d7qyvTvQepry8MKPfvE6xL9zXwhprbmKlBsj/gQVRgsd91kyXf+HEqXXc5spiGzUkXV7Kfg5n\n",
       "HZJvdVFyJp18Y87WwHKeqZTpEDhmfYct3z0mj6+ar31ylYkZk5GtoyGd/2KhKjqusmpzF/l3Dilu\n",
       "not7c5MYNilzU4eCdElRkKkV7XYuf1fXbpV1F4BXkp0+KnGA2bvANhkDTcBtzizjr+TVyEGjrouv\n",
       "6rOlMt039Wfjhd7lxBkxnWtHSa9/sHuD+g7U7gryVqaq2gfpLCYiXXeBIOiCXe/qRUerRROFLpq3\n",
       "9/Em14rpCH/O4BVr/4eXvuFhQD+kLTCRIAWVMWbqJC+QQ/INSlHjcVZGUgbWNfh+nwun44fDzsv2\n",
       "zx94GceQBY2f9GOIGhYfvzLsxmDnr3jN/w3JwbnUTNOFppKXV/3Rb9qPUsBozpKb06FFX0FOe6PO\n",
       "hzP/cXuobtUwgdTUBmjnMubekcdR0BBLvBSSFE260wXaySezed/FSIi1oXjvs4r7fPqErEW87nHb\n",
       "oDl10b3k82ec9AKMNWrfV9YdiJJjdSJKE6Fj6SdyzTFkJf3IBJL7UxHKQ4X7nZTjww/vx7cx5t9s\n",
       "2/l4qjR6BD4YbKF0IZxdN1+SAJP0tZm2Fs7PL3GwAw7NbnvC0XXIZJ/lEvbaXODmkrFYvCvFVn4A\n",
       "mh7cspcn0aeJg07H9/ZdYMbYCtRlrodfcq51Xn8m2Ryi7FbjeJ041WvlkkHPEYxK2pqZMu4tgxdL\n",
       "ickLOUwjoZ2hoWUJmubv+A/Gc49CHk+I/ifOIp6J8hnB4z3DovqsCHZ9zR+d3vxjim5QskWahoyI\n",
       "FHxj78vFl655ZGDEcuf7EVfCWeAaGyU6Rmx8rzgc12oI8QPyRNePubJPtrIk7ca8kTVS3pegJC5Z\n",
       "9E77YV3I5QCF3B9gf/hzdt0RqBKMhfQP7rnKC+6HRaDdt8xv1Mr0Vy6J6ddznXBS3XzYh65d342y\n",
       "GOZxbiJvZhxnfuo/y4RoYRZnf0OtwGYbiVvnX2XGerKp16L2w6XmjkoJXZg/vLu9MUGZ/n7j5m/w\n",
       "/O8GcXJ3UB4CJmJWpPYxIPj8z4EnbMmg0y5Kn3TT7gOck7jvEdQZkM9l4E7Yr0Nt8TZrdjviidpL\n",
       "8ceyVJLTZ+O8LhTKeL+CieEL8nBGas6ogqP6Rrt6iONXThLMNIeEULisEHIy4K2r0uhksxUw80PC\n",
       "8qQz3cvTPuTb+h13Fo/yECJRXZFrHbt8Atx/VwM5FOqNtpp02V2/FHR1AixwQ/OzFhzxXcn2T+Rg\n",
       "WrMpUAi5DNwHk88+Ov6aX8BZXnTxmVlnk9y2W02XIYgKjyjvAkrKl1Pc7ELxgU2m00iBNCl9wWkw\n",
       "Ha55O9biWLEr5RhclyJ6nZ26CKMYGLeMCbDnJO3+0bDZW5TerjLC5sc+Er9tLu12chHx+l+BUeN5\n",
       "0jeXNz6jh3et91MP+17lAjOaoZ45lM4bBqdGNdAvRCzmqk36VIfvys/TqbYfnia2LRF5JToHHbn0\n",
       "OzjNsUpBvelPW4CkmcORAY6HmENhtQ6TbZwV/FcA5SaL1taJkOEfrJABIrr6QU/NWK1TfuY4UyHk\n",
       "dmSINiopwyHAOX0+xcTrPLllhXGUq1dhr41a1uXkshMT9BPO9zRkVG1JWsQPX1fQlMO/D/igk0pZ\n",
       "g6s+2hvdPhltoHn4mOmYq3hz3bwxkSvRh1wsTMMlF0xPv5XTmWXmIALwb0ceGyqEqPuZrXreyfRq\n",
       "BAVBVyY1vt2sSqn5nK89mtjOm6KgqfmEdPR0pirgFlELalGihbdoW74iyJ1KZR9GTmzvu3dRdVIs\n",
       "WYUz7ZaOpLNlsyBUmBL4tfEGL26noum/VgjaBaLoooLn4AwKt2aZvpuIuG+vrmHwIowKca9/B7D7\n",
       "3hFGDCwoNF5UEYmEIHNTkUKvZrKZ81vEWCKQNNbD1QRBxg4iUv+6GPmQdl9enKOsfvQO1xcidd2G\n",
       "j+DjXfiV1vOYzN/WrrD7FSE7oeWSTTT6b7MALXwYpmamtFyFMJV9nncy2itaCgL6m1Ghww8pukxX\n",
       "a9jLkJSGBdptV6jlf4oB3sujqkYK06fLe8F44vYGjnMWTMWdm5IjQCzx9qBBfJseDTEylCLcri1c\n",
       "XU9MxUQejZ0jwLDWL7SS4JwdkOyFKQUcACv2/ssziUw1nKOpC7U1zYv7ot5Q8yLTwINDBe/XDKdr\n",
       "Tsv4ike72sbfGeL+APzyH3FeIXSW+hVS32WBbmZe8muDi7165cun0TXUfTHG5+Rqu2dytIPo9jyF\n",
       "VwJ90t+IrslTdeJaNDz7G0gha7HDlOmoFTaAxWQ17q5tsNhUGyp3HoEn7TOYq1wa2Hc2oVeoFJYp\n",
       "rQ8m/BIftN+Mu5498chA7QNfrvprW9pb7H9WudS9HUaFub7ykHvzvHpHcQcTYeEFCQq8H/dbqIBB\n",
       "1FYK3dge+olTX79ortC45Oja8IVpCdTIWFrpSldasb/SKjqNqjBMJ10BuGTh11VWg54If/kqEKV/\n",
       "xNGrutjQEurzluW0xvEO2Gi74/DDK8giJQgqNtkkXuK2pqBHAcmR2vT3Ljl0/2zdzMeTSgasGPz4\n",
       "gv9qRaSqkjS6d0cCK+9/LayobwkVjuAP/eDH/2TRUym/H+T9wNo07KNSgZfEYgb4klOYg1tDuWDE\n",
       "xobJIveb7stWZMpExfLu0zO6Dm8+ZscUNgg26a8CX3YDmsZQEsoG4AkFUFBIfmVzx9VbeaWNQyTJ\n",
       "g3S5QlHumIa0ASyE8+Royy8HtRi1uh64UQu9UwFGla3jBj8B2zaE1g5Kh81V4Kojg4FO04BhVfV/\n",
       "rHuaTD7QduNCEk2+e6/MdwljCbg0t9WszXlrGi234byTcUUISbzQEAZVv5QhSH4HbW9SoFzeLBxR\n",
       "/8lM6gX6077S5NsAPlaPWFAd1X0cWFI0wuTy1Lu1KVC5cCRoRDw3k4p1aOow/myoQvB5s5eYfYeA\n",
       "u51UMQ7Lh2YOZJbnx7hXkCl3MeYn/QM1hefz/+2M4WK1Z4lPpSrBGEjXuPgkEaoMpJweWAu8KLtm\n",
       "h/W1lYrcFpZBQHg3f7OqmPdLYYx5OeEkBL4DbrNiM8aPI9LI0dExo+WrRK8p/9dEFzQttIPVoffG\n",
       "Hj3emBQZPsWSX2c4tsuLH+FUCVy89KHv5y9xohPnGVOvLmexN8PNyBXHKvib51uySERLxWzZBAqS\n",
       "WS2Qnu6bbDGWLJnujnL6jNOusiVTNClJLZRE9Cc+/ns9qiHf6R2jgwJFvYALqNi/tQlZJ+2dxVrS\n",
       "PB/uZr+C6Kcw8u/8MrOsVf5B+1+huJ3ks3Hc+yWUdPUmJqkOs3fnyCrV1+5pJjEl7CGclQLMqQHe\n",
       "e6jR+xYTXi8xyIUMObGa/s9Z2lVtFHLKwmBtQjOdPwdJ8v9+aMvUySBKVquESA49BJkHCOayvxDV\n",
       "mFEb5gpqKX2zarJo92e9kyekgYKolf22EuQMsc/KIXaYj1r9b6pfKI5DOBYgeyUwMmA4WS4eKa1S\n",
       "u4UtE2vpOQG08lkXhMFwZmy13lzhHFSgdOvDl3Jm3JW2dAJpaof+w1pyS1UAAADyQZ5jalPBDwBc\n",
       "XNY0QBTJaLwoDPosyaZD2NKum3+d9F9C8oBQQFurNmHKKzptUfHQCYYHd7SZNb/roQNnu3jiN7Zt\n",
       "Gwsn0OyxPLLNTyD6JarBxd95I5Sdedy9USo2O8yDj9VJtPKrXB/MIjNk55Sz+9P1/b973/4tkZmZ\n",
       "S20bxTfPaHGJFBUsQ4iOSnq9AUekXnqF45d8tocW5v6rhzf9KdB3ldxNdby1BLt8rUYVEtIMcvZI\n",
       "cp+LAzuhOVib7JXwntuGeeQWuobhE/VRdMeHU0RGIAuALkaf6rivaLPKUYPW/iPZ03DNXDkJqQDH\n",
       "NWRqrzYAAAAgAZ6CdEP/ABkbpQDEf50siop0XpSASpFqEN7mHfBnBf0AAAAvAZ6EakP/AL1CE/RD\n",
       "zQDFPGwyjwSRYaVxAhV4Pr6AVUBbJzUbHQ2/cUYzE+zJk9EAAAI+QZqJSahBaJlMCCX//rUqgBpE\n",
       "6UAA49EhMb89OifKhCXV5q57uhFImfDaevT0xCdPi3OsIM8v11Cmc9JHON6qCZESXOk3aCfZujOf\n",
       "yGenrjJQmuq7RMX3SNS9KQsfkuVq+wttPE82i/bDSv7x1zqg3uvcUetK0L04P1CEhkJEngLpC7Pm\n",
       "n8xNTfb6J9vEnLCNlN3TT5FCsP7zOiGhDoKwbpHwqdT2/PrRneMqb8CB/dqPgxmGz+bJB9NjtSh3\n",
       "pNd6QfgjIkFtBv5p3QsCKmX3b5niajQ1g0kLR6CKq/jM1fSYhTsL5yKj88me9YBb041KLO51SSaJ\n",
       "0oLgeNMq/62uf4JtaIXzE7H5izj6WG876ZH0usX99AGdAdgTTVNGruBBTy+TgAtC5PA+hYs325Oe\n",
       "IViuwON6ILbPBnVO6aezDmaXm5jHBQVdHB6UFJSqfelgFflft6otoKs8vYhKkkLchE+MbxL+gRuW\n",
       "Zg2y8kiOm0TX6ILBo2g77+BoLIJFa2i30qIG2ZdlHnR3SBf+idKxGBor+7HbD4ViqScKk5X76s/1\n",
       "moDGdZjjYo0GvH8fHtKqr/ZYfH54/smUPRLhlABSOTcvOjfjfy3kAxTJhcbodtuv08xX/LarPV/d\n",
       "zMMBEFFF9dw9+/yFQdXwRqi9L86mugkKZ2DcMbVMcfFkRIinqUvECSlX2oEKgLfWFS+NKrgVjwWI\n",
       "VfEnXmVjuqvTj1xImwvScVmB2OEKbjeKL7lbLzd0jHJXJlKhVvyU7Bjj4QAAADFBnqdFESwQ/wAL\n",
       "WWmlKy4nIF0VvpM3VumIHgAo+/kKnkjhzrpl28oBklvWA5lbTnEXAAAAHQGexnRD/wAZG6VT5jF/\n",
       "gjfn85lIUhzogG3kCV6QAAAAHwGeyGpD/wAZHx4H2XvyGZfBgO2+PrsbZZOBCqjvty8AAABZQZrK\n",
       "SahBbJlMCCf//rUqgACylR8AA2xbSiCbvFN8pbXepWJJh8U4+Niy+r+IPJLwPJqNEQT1FCrcZCpm\n",
       "G6Lr6DLFwMdQU1050wpmWdhb3erTD1ml+0/aiTEAAAsOQZrtSeEKUmUwIJf//rUqgWUWRWANV+mH\n",
       "uAYzc8Fb/2DflMWYpi5szUu+RYxrY3hUvaKf+LHOKlBQ2Rp7HASfuCmmdZ/UpdRhFlEIdIaPBz/+\n",
       "a8h3Gomkaci5PHiacPamNP26GTI8Cpj0NXPcmNXFplSm/crsD79JnAf4DquC+3tqt2V/V0mhp+/8\n",
       "Dhqqt6Js79IyutecBd9nX5IStq/NpUEqyjbtQG9lvvMtHk97JQfQ25KX0poGz1Cg3E+fxx5s4jzl\n",
       "bOYTJcpV82JfONikAa1yrzHA3ncJQ52/t9VNuDt285Z+jDz6MmANxmSTMOL+cnGfI2eCHTI9ZaWU\n",
       "ky2X810JbT6QqS6UkfffKQxloxF5CNuSB98QC8FvkQkgc3P/3jv3cAcBr6KJbQd0EbImqhqQUfAV\n",
       "ak5TqYrRk4cKtf2u3vk5Esdfl8qGfzlF7/KAp/1/YFDc7/UK9tMUIxXu1BINdC/WGqQ+poM/ujDp\n",
       "iga/mt9XJp21NfIbeufNwOG6IwRO0KgWlaTod4RCzxfNKxKGv+XQjWdaM3Pi4Rq8y5eD0IXU3gaN\n",
       "tsVtOhpSF7cQZzk5OpFs+TX8NCyeQmybBMODNEdSMUqJ8YEgDr350Qx3OMRalIqnz4sRrWNXRpKC\n",
       "YfQiG5S59yP0ay7qU7Ck/79klFPxLBZz00AhwWf9lGBxzFHg9mLivXcVQCqvZnaA4OWwGCAfdmoV\n",
       "W/2Ak9kAdipJpfHwS3lSNwhUivBZOS3uwL9xNfaUP/LR+dSCxG5CxOfcW7e5+oBXXxJZK9SVwMRW\n",
       "1BRm1DsML769FFXYR14BXSQOVux7/Fh0CdAZ5gDMpjiszAYcAwD/s5VTNAgVeX/+F0R+W0af3zOQ\n",
       "+m4yolHUlMJwPgkorxIgWLlxWf8p/HnicorqX7aSnZW2eMF+64D1olF93vgaf3VdMKfYNflG/XPi\n",
       "zIKbSfcKhpYlIRJMsFZSFnIoXRCWL53tRS/cW9Poft7MawN8Xbu9WZvuy0eRh8gr//JfmVUV61Mi\n",
       "fZ22pTlJeF37gM9ptF0ARNnRCoD/nFPCv4FqmKISGwYsIqgbHsFHSYnPNoS50k3y904RnnXhcLVO\n",
       "WZkov4g+zYn47C5jB+Jj6x6JoWhYVzeXR310T+OnLcH9S29szlQFItKmOZUg1VJc2useU6nQAYHa\n",
       "vlEKVgLovy7UQC/42YAdrUkrvi5rW5Jma8/SpsgU5YzSnkTyRFkmm+6xB+xvE5VQ6wfyU4tSxLkQ\n",
       "s0wXO6zrfQ0tkbEB49vT1rcv5bd5+DoMQ60N25xW73pepj3P+WDCQUSP4WKiUNcv8NX5yNkfwWxE\n",
       "gI7b0yreOn/+/qGharLxqtigFH4aNsbfiux5fZ8TBw4yfMTp5W9G2lm3omtaHYVcc6+IXP2gVdiD\n",
       "gPajvHuizzm5k7izhpsel8Og4jJk51tKmgJa/09nKS+p/eyigj9lRXZ4yl424cgpxFRgTa3I4dTk\n",
       "CbSwH6MY4msBJ+QCL6gGvxW6makH4lz6gTct6Plj3q20G6JYESFN5sEbvKZ40LqWKfkaWLovKmVh\n",
       "r2cw2I9OQ6SLyUMG9iNlV1e4AtCCwzj0xN2FfCMt5h5E7q0L1asjZapXoCCj3uLfqNG5qwvrupDY\n",
       "2P08/0aCa4LnO8pp5nfnsZblOu3uxuzkBTtL7zAJrfQO/Sx3HXgt68H0IRmGWQUNjTduDSsaIlOg\n",
       "/ZMmOLX+q8Tj0sPhB8NotKONJmvDEk3uj45iNHtlvF+4jpJSu0UMJ4l8D3LAaIhcVjn2e3FHLbNX\n",
       "Dk6YQb7ySNcWPlfWd/I9iUl/SJBwV/A7eawE7ubH3lRsYG1LY8N3A41OmfWErlhpPC8uLYh5fsKe\n",
       "dkBJpxbVniTDgDXC3uVF0LiYmvu9Y2LQQA9KewS2r2LYQHSFdiS5KRnKUVk1AiM8VB5aZ9RP0235\n",
       "MexZyncEk+koBW10Hd3NnUHX3hLVLwZzPWbg7B0haYsQqUPnXSfEoynNwHJHJqPJk0FrRnrw5QVp\n",
       "emSCXagwjoyX35ZSs/k1qHvKxnWXcVcn23Zc8PaOJq5eO0iRWxJlSlrYUAjG/9ZMhtN+E/VoMbev\n",
       "SseopKJFcweqsEaAMUK3eg8bgMT+dDm33mlNsZwzLHu2kOyOkiyuBGbGdTx6FmsSIDbYffJp6iMT\n",
       "a0ouL1MbhDfyu/2bIPlnV7+CyERhc/sWjL/nXudiT9Cq5euaOls+IyI4kjDPC9sEQmay/dE8cb1e\n",
       "9QG7t+J7+iACUh7RbtWJHAxFP19zWkIUA6RbhLMQrlBbD9zalzn+2yPeGyNmodEyZjujQPK7/Ecx\n",
       "yvmhK67uUGKXb/VB353Q3BD2g+1qh5cQdF7mGy12duwXaffeivOo6f3WKYQ/gTCRrSwvxlG0wkee\n",
       "W3WYtGqTrtoEGewoqlAhQGNI6FzOQdqKlwAbWalKZhGQmWqKJ2NWhpdY0oVCzbnshoJ2OEPP3+OU\n",
       "QD0HgGSsN6LtBrI1C/W0dIa1oUTFqv1tkYof6A2hE9WpagJQZXHIhRM9aONAEq/SVC1EuDdb8rdQ\n",
       "6OKKI3zHdLwTGB+gZ36T+bZzI+4wCXujUpJ1CdpC+F3gH/0VD1TB3Z99027ElKu8kCXoyLc9ypj+\n",
       "Wc3E7lHIZXfOWyCC7CbkhC4s+Mf1Nh4Xrmfnkm9oNHQoFe572qvJPUL8NluCU0EBkESV7Y6/kBYh\n",
       "P1MWILur4ya9UHpZsNEQeT5BgQmNzLMU7LOY4pmLGSe1Vr71dUurqcCav05wlDboA6b2oRrXRlKF\n",
       "ieTDYNp4EKyenEaRMB/csURAFn4TqfgLXnueHe7YaesgrNTz5B/9RFcqf8DXu6AeuJzh3FUtYMWg\n",
       "jfNLunfvnEuCZja+Plj9o02JPQxOWGsdUKXm1JcmSsXDoC4IkNM7P2khqjbs4+O847781EyoFPVi\n",
       "rq8HRpbBXfIvSK+/at5XEvRZLhG308t3KHtlZD/LBVx937YJGc+Q6uVhfl5JUTc+lXM8QYE4DJhS\n",
       "2afTDJCEfSYcNZNJZq9W0mBBoGfxTRO5fjEMy0wTziWIahA/Djavud88hsNBphqtD+osjhLPnGKf\n",
       "SXUa2Mp07St7z2DSPsGd/wPkG5ewT5jPegyo6glioQgXW3wuNF4Lx9tRorujjEIj2wuOEIumQVOR\n",
       "i0we1BSwQQuUcTCW1kO6Acl3RM+78h5433vtx9pWDDQKTaCS6UI/LPhlfDmzYlJTp9XAqviJHbg/\n",
       "n/nvZd9f/dgz6r4yM/l46MfaDogRLEbrnMNL2fr2LSPOSxRnCv5iGpXgG9F/djcBU3tfYCNyp4D8\n",
       "JZkq47Ilm4TmeR22+1COPUS+hHwQ/McC/gn+5Ma8/Qbcfwh0mRGG2lc0rifzaCQQP14jDNCiCh8B\n",
       "UWxmyq3YJL0fjhurNYDoQSIvd671uZUXWYANsQ8KZetReB9R9jIAE+RR0ESuYRvt+XhOGOt44goo\n",
       "pF+rqiyUo7F1WtFf7aLELQDNuNIALxtcrGQ3koqZMYfYQUJN078DKM9nwVEVMHim+hE5ZDeRPOYi\n",
       "ADFjb8JzKxm1UJfT5636GKvIDcb082iSgiiSrRNZcIOIoZGlXfwdmd8qaFwqSPmA0jzkfQbUIktk\n",
       "X25YX4q5k+isTNYH69hFQfHALu4OI1hCxXO6rptQ1qwwewG4coiNJCGhrYeea6HWfI1uISX4Gde8\n",
       "B8CndRteTjjr+MRgc1DzKiivBWzPc+mDXa+qq6CAjqKH2Oaf0Q6190LhFa8rBAN0lAqcRlGj2k7p\n",
       "QAcwVlBjtA/M9BqLgAAAADxBnwxCH/8AvWxkUotcsfyFvs5MOp6T0oqsja2cMLAseADXFHXbevgA\n",
       "syOr3tpyIcO3g1DD7xsp5fUGzpgAAAFwAZ8raRD/ABkbpQCHkcUuSQ+wBE1tLwWhJ7uCsY3nGR48\n",
       "sWKo6iEdYKNiB2AGVTgGeBAiVaNRj8MrblzAg4TLFzpLJIY3numWzhnev1NHkw789z4LOEkd0Hzc\n",
       "HmmojciDoiq7RA4WdwtfJ6iOoIx/g3GUQX3ZZbw76h+2RizdPhZeicsGim3cbKsSOXcYmRZQNFCi\n",
       "2AKIYJRRjmFpP0Fw+seFh5utXIYjFxwDhPyV1IxAQI/Q8Q1st9dfpeRMXCpdi/MzhcyeLooJUB1D\n",
       "6p679cLtKK/NY3EYwrqoKEJdkXQDYZfOydlxzd6MGjKDsVy+gdO1PlT4rZR5DGQsb8tm92TmAIki\n",
       "Ay44ieaa3Ara27eBbIJYUUbBdy22/aF8yM7zagWghOzbKGDNo9RPplunUOCMY6gcltdEliRtCrCC\n",
       "6iOsj/Fj1i2Rj8ZOnnQd0RkxyA+MRYkFrwycPfHpl/SFCFuiE7JPKVVj2lHkbnL603kAAAO/QZsu\n",
       "SahBaJlMCCf//rUqgMBzzv/ZAomAF1bVNVqNqiCBR8eHDiQvhGJ8NQfGN1SQPDpzE+PrS6/vAIpH\n",
       "qnz/g/JpJrFt0XJ81MuhQXMkrJtcMrMTEjByGx6PqXhpfNTA8BS5J9okWwaOBI8H97qKRKVo/4/j\n",
       "L24z6Gf4NN/OiC3QLHRzrQQkxgOhkaUHuBAA4Njrsn0LX3GNquXw9ne2ivDe33b5qhxDj+TXLUer\n",
       "Xr/YupjobtO4hX0HhKDrfsfh8Z1nmQ8X71QmdhLsNOfjoLJzZa/64xuFFdbpa+ZMiNmJ8Gq/i9Rx\n",
       "3hW58mYlPYn8S3k/upftKaMufX0xXb5yPzFvkk7z8HUncOrgXs4wwHjc+3wvvKZwkhA7hSENB776\n",
       "Jh5n4LWOHU/Qpa78Ev3Q7mpFBB0xsRLgNwSkg3kdLFto9zSY3QPfI6/dth+IZjGOqdb2hLcShUgb\n",
       "UJ7FDSOqkfMdeeqvTr2VJmPmKFvMrQA470fW1H2XlL+UWj1pSPDqD5MHT2VK/nTutOXST2sFHmue\n",
       "svqw0tuQacJc2f6YPOvLfzkfJWA9ib9n/UHCYagKSiMVFyNgfn37L9koaBBRXMPH2u5ErFz9Y81l\n",
       "BNlgQqYfEJbVvUQ73kx91ebNHVWqTrvOZVpKq5jb1c+5dPfHaySrdzangmh7assfpaTQn3h8U7c+\n",
       "S+AN0TZ8y6MKrenz78ElBbbh1FaX3649i/4rYrmEc5G+LKn6c85LvEhR+TdWqw4Kcro2BJb0P3u7\n",
       "x2yuC9cQWzUwWH8YffKT2FYdBfoFC6cBCABVD1W4GOrv34TEeUPVGb2y4Pm0N0bbws0KlfsFVJK+\n",
       "NCFPMBwYRHRQSbcR8SyvILHprcVJLuBqVLnGDAK+ndmCZfG+9eSOKB/PZPcDNidb8qgEwv7NMEte\n",
       "COD+NqAJ1kcTDTlfPK5BJI5M+P1gAccRo4OyXE9buH1R5wc6JETmrR6iu7p0mlXBua/nHfPFrjHy\n",
       "5yshbmwfa+6WOeppQgwS7MlXL+xtsibBlDBjByM86fjFwmcOnkpv4tcTmCRE030upju9m7tTBkSX\n",
       "XBUyVdtV8bMjdwORX5EYjLT4gB+OLdx+RTNMSEfDHjOiOj0qAcrgTKvM4j5MaeIWdP1s+tv0mjvp\n",
       "KQIcvenH/TkcxiRc1Vj3GOAOyxJ2ovt2agKF159p0CmjlYmjbf/d5FCZqZ/D32Gx1X+PkuHKhZXw\n",
       "kjXvuBtbzg2F95UBPCmsrEfkfCQ1eiabeQ3RtU3KH2xs5EXAi0jQVcvO9ZkAAAa3QZtSSeEKUmUw\n",
       "IJf//rUqgS/7irvPCAFh1rh09ULAGP9eOnh614ysanp9yt2a8kS+NR215ug5gjqxibhSz3Ne5QIn\n",
       "WMQVuN0f9AFJwf/v+nyFrnWmUuorhO7opHGM8bXdRHUfF2+Z6WXDGAN36IlYI0ySMotT4B5+TD62\n",
       "MJkg1C15mRA9duMluA8wS3liFkw/y4EY8S7OL4XFc21b0Ttbkp6t1Ld1pzf9S+YXqfSX9NprQEtc\n",
       "kpBYDqcV8RHwe+O/zwh65hA6fW+2guSBTlMx9nFFxxm6sqc+xxNCruljG8RbfWD8Ux7jq7qXM4Mo\n",
       "8ez5MDcKKSuyKGv5mtiE7py4EI/U6AjLm/Z9TcjLVoXMTiGXmSUIaAauhrFWb0IfRMhwjmKzSzMy\n",
       "vGRwku1incI4lMT/UmnV9utG6xSVu4ePymXGWGo9ouaPifwkAW8bj6dfEuhmedf4N19FF/VyOLAH\n",
       "71nX9lCQnUp4rQbJvvqNSbeDqEUCYkm26GGsuzzI5ulLYEx2Yyw6ZFVVnZjwuUYXnQRX5gN3gHSH\n",
       "VaKCCsgYOzB7R3C3/HtmhkgDK9NM0NCgWb5EB1dvPY0KhkKMVBlnIB1DImLRvLIbOFsIqogkRgre\n",
       "jdraa09fN3/IMw8m9NWi48bLNlwk97nv2zh5R2HqicLoi9cIVrwwBSsXs4SdbGfzJ3Xhto2GAo2+\n",
       "W4e8mjxpYcPAMUyQxJRE90LwLGIMCA51D85S6re3hgiV2PkuLfSvSvNBSxFowLjMpYYkAmni0tJl\n",
       "wWzmfia7KL/PVC5vx4VHnczpuPIyvFjTTNhbba4jvFoXAY8dZRrzUca57iIHyf2hXBeEVExDrPKg\n",
       "4krG5f0BMs6EYqXSLnGwy2gRSifWHb9C+jVXlNhoxKS+Qj6sbzz4/F1P19duMGTTWpIaXnqLzrhp\n",
       "/4YLLeuKLrbI201881UZMyCmJxh63roMK2FgxW+V1z+qfRwsNMg27VfprpawLKmN7mrj1vXGTQbM\n",
       "2ZRBrgV2wZWjMBi6JUGa5BDxTjW7M+l2NFzlrvRCuGnrEQzwMPIixJs0M53xYNnaqpOeOv0vf/Uh\n",
       "3juGm29BeF34rWWS8Xoy1Ls+QViZBv7A19CSXhGTTMFjmBMzY1N4voSDo0oEuDDYNSXXUwJBIpZM\n",
       "j0pM6O3PiwP2lqVYsLF2r7oUbMN+nHG+22vvlGoDCuNP6zg/6eYn75ZcSbzx0eSjI/T5lH6HF6r8\n",
       "yx9mHzi6X8iEKg6JAni+LpwTH3RNjfKZIp1eDFzRHtSnvX7YewYgt/hkm47vjp39VEK6BgiH+R1H\n",
       "MS5m9urvDHzN26J1P16LfWZpjM8g2rTpYRMl0C9YNGBGr6NvhMkUDWitB5Tk+/iag7AIPx/l8JcI\n",
       "RZg9P1ZxU6GfgPIFVxzasKnyFjlC3unREt36IzhvOEOQv1cfch/CXUMJ1edpbH8BqcEklNdo+TUI\n",
       "qq6FMP/6BdwwAbHjbHEGjGQrZw/ShOQ9c5GjT7XEUFSmfCKgnO6w3DyXQ4ddUpksmcNfylDut9nt\n",
       "9RnvEL0zGxQ2HeR0wcQDfRxttCgF9Ajlo0F12s8sGhZFQjqk1tmJ30IWvd/o4WxD+KOWrB54gAHn\n",
       "WkjK0BjrBttq86pZSxO8rwWxYKZHlSRzfFLAY9I/4C4EnNiRiRXjzL06vVxz7SLPBPw6EeGqy8ot\n",
       "nyGeQoc+hSttmAoxtY1JW5vz31LoZCDfrP0MjbLaS++70KjCBIMvnkhWYoyBkfLhFbTB4NTaY2kc\n",
       "1bEHXkLEj7/C2cJEJAoGu8RRsm/NMZ7ZtAu6BWrE2xj/AE2JNeanUytj9+c1br2B5CmgMaRRAjv7\n",
       "PtJCY+O5a95WcBMxEn+7Dq/or4LmOiAA7cLrf29n5XB4WOeK2L7mPnttikMH0osGtXsBmRV9cJn+\n",
       "C2T9ZVcbiTaYC3wdeXYBFXiEQzAxwTpRINA8YE9UZun4qbtfU/X4pfq0pVGIAHJI23kWYipazFj9\n",
       "rblqDRs4Wg4vVh+o8ErbJ7nJKI5A5I8uj4w09XAJ3MIWg/+fySvx1QsD82VmaweP0awe7v7nOChz\n",
       "r+OzQiey6YE0lNuFWmkdtpBeOZZMRM4xOAQPdxg5T+9rOU/II+UxM3xk05lJq5McCfEV9Ivq+R2J\n",
       "3qRM1Cixra+soLkvgdvJ3nsyOma8Z0hLr2tIoB3AT30e7d5rFAT1O24Jefv1zOd7xJO8crBSBeI7\n",
       "75nbL0kC84gIIzkl0XsrP18RUce01cS5BZMQtLyKj0Ps/ncoYLaYzrcYZwKbnGKcqOVy9QJfe4eB\n",
       "AAABGUGfcEU0TBD/AFaKkQOkpBi0xi5yY0Pv5on8jzLxiGQLsSyAGgyXes93FKw4+6YAqwI3Wxfr\n",
       "MFf4o4nBS767YoxSIFfmDVXE+1/8YU5Mg41+ApUsy3KOjDjwCDkYFEZyL8d1qCYvm1rEECCUbcSe\n",
       "qAUe2N/kRiowDZ7FOD9zTB/9nwxcHf9bR8JMZlQmgdVd7lXI79E7Cu96zOfKu9QcEYj4uU9nq7Vy\n",
       "zjxo2Fpshc1IeRBw/1uDb0xFQaLajmKTpKT/H6fTEnhS2Q/WfaeOo+bBY7LVUwnkHFWo/3VhxtgI\n",
       "PFZRYPD4+Lladd7fRKNsA5saengq+AEiMiW+6x+csGiXzt+h0WnJLWiWd8rToPTTTJulS/s+4oUp\n",
       "AAAAMQGfj3RD/wCy/P2w2ZbfxO+bC4PrlHcWwnsaJDEdY6+t13QXRgr5pCKlI26S6C5ZytAAAAAn\n",
       "AZ+RakP/ABkfHj0RSuznmL1+lOPafk2VqU1TS8d/zh8Xzlei1UXxAAAAckGbk0moQWiZTAgn//61\n",
       "KoAVZ/EaAPgDxAZ/8bvMOETsAb3lq3TWb/rK1Jzre02BaS+HHHytVUZyBEi5FYGPCR8qhkiX+nXf\n",
       "QxA72nCpeCHSac8dPtHWxQcWcXsz9ZP+e6HRM7j6kzf6eZAXgGhcJ1ULzAAAEWpBm7RJ4QpSZTAg\n",
       "p//+1oywV+jfeAAiji34ET/TD+SCMttKojh98dnb9qSoUR++ItPbjIH7nYyW4n8m4vzidwxJEyKo\n",
       "Zjfu6+NTS+m/hBoh/AZJWSqE9V79DT0C97uGqLRhdpnuc6CgEBaMHLTov7RlGUhzuxLAwU0nYzl4\n",
       "lOFqE6LWmuQjE4GpWnN4aBJe8K5nKjoeqPN1IJFTF36yA+MK4pVskWlNbM95C+cRf6hv4B2M5HC2\n",
       "kytMJQh3ey5ixqzCuSV8d9/kHjP8H75sfjHnXTXS0cPTsY0U9eHIHMAoNv27lS5cYJ0VBVQpgz92\n",
       "JvJD8BY7Tbr4qu6waEvpVcJuNQ7dRO0uSGuElZagkorrrETruefJA4xppa6WyAuS6SS96O1F47Oa\n",
       "BNa6unYD4zVwqd8LZ1O/ghgq9l6k9NpWWu9JB//gyUIpkZOCZJDJl37iq7C9m2nHDuv92WGK+Svm\n",
       "qupELt6WgL60/FptAnFrAgYG5HnDKMjrBa3iAAtZ9qBtfQlx4j0xdVgglJ7Ww2JR0s1AUjc2nzCc\n",
       "snksX2nqKW4bKkn9MbggavVnerbGQRigABhSQs3ek/dfuAB46avxxUdjiAUp4h0n1ocDluhTZagW\n",
       "+WdTF4uQwmJv4oeYOnipR7MEiYhaCBtliQqYiF4ZXLeUzzUd6MgOx3JotG54NqzCRSaFb4maGMc9\n",
       "IBrra98kwDaF5lKgiO4caVFSuspQbCEkHXbqkouGXw7y0CNj2xqTz79gmOYNxJnQFeRe+9AWUhzT\n",
       "rdVHjXX62FKgAD8hFdBp3VMmq/B3TpsuCWEA0gS9WmlmIcfZUc38voI38SENfydwJwgC7Sb+Ox/u\n",
       "xfllBkZrzOCWG++kXkIh/x1PDc8Q80ytMRTcri5SA0vzlzG+Uqx63f1czW6NTgSJXcFZUgLZf1j9\n",
       "atkPoM+cHGw76Y5Yd9J6L/Ev2uPt0a4af56x+UrdL7OXJg8ZuH5o+yjkjOp4EOeX2hJIJ4msbbwN\n",
       "/nXbjBL/GlUC2b9UGibMivOP5Wfb6YSSDXQY/NLozZodTY07ojfvsUZkwVUcfcQVPiupdvCpd/VI\n",
       "QyPj59h5px9VODXlbk02hyT9fW3Y63cvMAORDGW7F/0cGg+SSkdTtSeJ1RfpbUNkv24X/e2Yyx5k\n",
       "My30sMy1s4WPiMTAe0I9q1pZdXxurhjx3LNWaQDnCGORSWJBYdAyjnIQwI3UjwuI6SoozFkO274v\n",
       "Bi/y8eiBt4zoUzVjM2eAlFkq3z8HebsA1mVcTBYBcp5AyW53zernc/71+96WBpuRqBN7H4CQUCHU\n",
       "FU2Hr2TeuadqW2c8J9vI4z0oA0uB278l2kOCQMEritQ/NlXpO1dLTj9mY32u4C/3EzK4xntPaOPS\n",
       "hRSmRn2q5jb6xZcgit0ghpdxklkhXfLCysK1N9gn5o2RwQP8udgzNvohgPMhk8SKVrR5r4z6R9WA\n",
       "D73huk1Q+7k+dlddiqUlCk8tBEhChqlVLlQ+Itt3qyj6vFqiFomv+ie3SLJ4LWHIKuDJzEJB+6eC\n",
       "EIPZyRPouvqi6xrOkmjmIrH0asFamGFHDDhOwyTEYOA4lqsmWJh8zCJ56mNYXmZces04hUY9wz/T\n",
       "DtY3ee0nxTGq8xt1wUzOWmBwhJhRUXdFpj6/IqEeNgw0SRJ9zRRarl3pynjX8pDUYVtSgrazHHvm\n",
       "ELHGydwxz8G33LTO3G5q4/iNBtqlxgbxnrUpS7tJMJgCIjII7sFsIrkZkYwD8NUnsrryGJkUyDk0\n",
       "4KExnzZJemDu9b/mqGX5JbEj4Og6XpNg6H0zLembM22uI9epG8N0ETcPBUbo4UgaPYYRIALwQuhm\n",
       "XTOcHDwZ/ESh0y/14mpceVPKySLU7yY30HVFVvtcdsA2k9x2RD021EE+44cfQTl67/qOcrbPCxg5\n",
       "ua3mNxHLN/GBOzGqd7Zzfv5+WFb9wzKG3h2xMAFX3seaHRMW+KEWYpnMBWh/XBywBZ3KZDY6tgAX\n",
       "sdQw94mDdJo10Q/Mabqrl3PRuW0Nc+NlTXPRNFf04HuKQsFXuVKpXl25ij4PZkr0bqlc6LcyXl/x\n",
       "UcNUqsk1LpkED5ddvvV3ZPW9Xxvw5nFUX5T+/h/JIVOaQOYS06ZGVgKGhQep5/Ho5g5t3VCDymV6\n",
       "7BQ2qVBWiGr5bgY3RsQOWRq6d8W8C9B06LdPJjasBDCr/8+8c/m223d0p3I1qDwsMys2VQ06fZMp\n",
       "f0bsGPVF7Kd7I6saoOuv+JT4+l+ugOgUfll+yZ+WAAq6EbmxDgpcrt6p9u/iSAffEMyOxEoLxRHS\n",
       "u9q9908H78/50RSfCzRNET4zdt8lVDoHkxGjOkV7Y5IDIx3ycdZHCX4D0kEkEGQBXd/sWx0GXCON\n",
       "r8NP+I0r5qu8/7Pzek1r8kLZauXBpDFjHBm4CaOLmC7KLPJ/stP371fAPmFYgrY14fGi9ScHKOCm\n",
       "StpfVssJ5yc78fliueMV7ewQUT2zC/jGu74KUBerpmuJvx3gueVbCWZSAFzWuNAom36WFDkioSl9\n",
       "wRDpHja4ng6Rl5dta77Vv82/x4eaIm5Xh3wcRAUFf7DqjlEj47R31ndsmaotqzYeF6JWf8Y72zWj\n",
       "XdR5AH5JSblWjyLwrMnpy5rA6KslZzOIiqjSUDFybEKAB2+qXzjy+c3R7RVPfIJkHatUnsn7WbuV\n",
       "PSU/Y8iF7tQGdGPCIer7lLrBgxflaZ64JGCu+kvvUUseJD8HsTR0BXpiUuGOSJSeRu4oM65BojIc\n",
       "IEQsgMoBjY3MKxawwmHd0vI6xJbbvcvd9EBw5utlNn1sgIIfLc81XqGW/J1onAtxOU4zCcEsXejI\n",
       "/0Vnc+t02FTAKJs6TdKt8gVOWTFDEYDSE3kP5ZBfBEkOMwbzL69WfySXx3lfQ+39o9i4i4hTRryf\n",
       "RDfsUJPijeEWE/U0+uhgRjPje4JL38/EolZ3cn25RRSYIcnhKDkxkE+gQCOn/Buwsio7OdVPItw5\n",
       "5i78Vqm1D+yghiOGgH5TRdfGyDsfIfc/TjJJpP8MtB73leetCJUFEIAMmISAMHgtXvlLSET5MchP\n",
       "rKITI/WPeIS312piF2ApSUAfKw9ZgT5a8yNHuEzzkPtYiaKztc1FOEYHWMoet4IAzO16iKM4d5MS\n",
       "fa7evB/TB1yD6jLhVDcNtNeMwcgYwR0VQkD6PBAlWxn2wi93nTMNxtqTpWVtTeq9tehAE8RULqiq\n",
       "VUL6OfjOBme1hMOgHkNU6khL4ngLsQbjAaaUjucjTev71aP/ESIXF785RJvL1KV5VQLddrrqMJjC\n",
       "nuj2VH036OF/WDVQGnok6a3rGAAGbb1znj56dzIxBj64dBhcK5q9Jw4KVoeXlP9bzqnRRARlN+49\n",
       "bxE/61NOmtYO+YJKVtQcz+FJ1kEN5lOD0Z19F5h2H8/+2P7OSER9wjvnHqX2G+2xD8JuzecpGeZB\n",
       "zVBzTnRwLHIJNMiWjjt+YkHqbW/3TcyHqGDRfAujng1Ift6+LoDlnyCQeSr2DkzrLLYeo2P0NbjL\n",
       "RQerAQzdW0fG8ZRH3ENmDDlOIHj0RFpsh6UOE43ThxgS+B8Vb7Et+snlZh4FeqrbbKRtWBV+quMW\n",
       "5PJHHHJ6j9ZJR/6Cuo9S1vyE0u5k85P+13NzTgzrxJixPeZb0lQTALCFPr2CXwhQkfS4okUBBZsv\n",
       "n3/9Bcnjpyl20AM8HfINRJLB37SeU+MG1d4MjYwnz+Tyn9Q5MtZaj344UgfCl9RA5dcihqGeHOVk\n",
       "44IBLRbpIdJtEFkycsgh1DOOCqIH2UY+fNF8MlB3DU4HYJifPs/zJpXtnLDY3+++sz1foSTwFwWR\n",
       "1ADEgYLRJZMbxHwqk1LAtD2dfkhlfIGsoo6xHZnve17FKwG+NTxQZanEL2PaE9i2A9/meoACk7GN\n",
       "7xq0nDHC6aSpXgOKfzxd19IsHIJZSxBW+hxxtbq1bN9BKaQinoY1cJaWUekU8f9u6Q/WA+njt5FD\n",
       "rh76DFpWvGllW4eCtAuz55bJa3+Pl/msnRsB8RpBieYunnM0gkGy3a+rMkPn4P94jcoEEM/MMhXw\n",
       "h4afUjcmbz0taqGZhW6vXuF22m/9aOV1J71YkHVjpA31YmgVMl3l08XnHEFKJFLJc/76uqtzWjDC\n",
       "XWtlbL5MqI7FE+wPr5GMuN+IAY/EOOI7+stAcYN+yUG7IfYZFHdC959JNkz236iFyTftge83CPnJ\n",
       "qfT28dYKBsAtCeWAhce8XbH5Odjz6pz8/Kx3nmaIOw46T1gs+LrvAOcO9E42jzTkDitoNtu9641I\n",
       "Zu+hBnJt4syJRSHyUrqCWsKHcCkv5YOyk+pSNec/mtHY9ALI1u55xEzutjQKZEuCZADSnWvhn48T\n",
       "xa4YBTYIVLua2bDm+IC1fGSTiYaI6wBAqUOU1aTtRMg2rA81LeX4j9an4exfPAtoTRwN58O0ND3e\n",
       "0rL0K8cs93Yg67YlIuIImdMDjITu4sKOKrQLL1clXzlwFfFnmdNo6tmWTYj57hoTnQ1k1/SbywB6\n",
       "H9qTie4Go0tcBOI/odPaJQwBiYmXd/n4ZLIuzaSw6P2KRd0CQGelWHe7KRMPFlMBnomMxnx3+/cH\n",
       "xt+oglxOvOz/pHVRwpAhcpRNOA8KsgIWzLuOdRqaZzI/m6PpbDZI95nCbw2BreZNPENE0iQGX33S\n",
       "rp1jLQ4jLNPxR4ao9OD3LsJYplxCTtjN2rxRWM3Vw6HkaIgkOw4BUENX0StdzOKKBFo+MSC00GsD\n",
       "5YSgvFSg4MUraclz15l/mfKUuS7TdlH8KwOMXIOWXBLxeraBkpk8iYnxmUiqUJiD0acsLyU3hhHF\n",
       "fh85kb6Kb4UjLEBKHWRAHJGHSrAhVtiAjl7kHDQFrm8reoYe3oWuzTVeW1vIIlUl2IdzY4TDAa2m\n",
       "Q6nzQfVfO6EGRoguIqTlgYKWUq3mrISuovXaZMuiIk8ngv5xaIWey1FZZcnCQr/Lgs/WwnVvt6z9\n",
       "e8UC8IS4QId80VIdLh86JMQoERtKaUkkSaIVbxbNXR3EGEOUVtz/WF+iOL5OQoEhB2FVULTuDTEG\n",
       "3XiMtSVnZvy/geSbjUuwH/HF/2a/47LVcW8p19CADzbUgyvjPoEKhCHjoBLccUC0Q6t6D3tz8qJg\n",
       "/DVsmoXiQXYvJtKkHsMLw+v829g2iooVlYVTijsXmrpYRJzU6uCIOAKRZ1KTAr48YPVAjMQM8fgh\n",
       "HGHShafPCSKtI6r2RbowBUrFbLzZ7hgJLMwY1cemFRParqKTBqXfj6R8nE9LEcVZvfyhso6ULlgO\n",
       "6vrUeU1HDNRzEDNyWUruzBVmh+Bu5bcrvJIb296JB9DqqU7oQ/9H5rIkEOnF1GxFm/O/pnk97K/c\n",
       "tKAIREQA6zIu7/EYOr1rk2jidAO3c8zDNPxyug1Fz49E60HJeEBvidT3VwzVWYYo3Y0UlQ4v3jn4\n",
       "ph3tbB4EGwdCJoUxxWUlBgYfdJFKgE6g8WJDWZv1JCluTbfwatJkBcwot7vfxTrKI/dDwejVfmNH\n",
       "QAkHY2aSLsNijqq1YR+ObLE0TkNNTut9w3x2bfrIr/hjrnGKIIVjK4318V1e1c4IhniGepktNoms\n",
       "DhADX6F7CpboX3z2w/bAbkbgNAFltJuTPTr5Q3S43H21qy5+HZ+svCL67i5xjgn7FiXxodPr7xiX\n",
       "hgQS56y3fNTdLkPeqGarNUbjAJ90dHZy4Sv3Ej4+Wn8XVTA+ZqMooXKbgYMeQUx36OZfpcM2ozGX\n",
       "uHfvVNuK3l6HTAXJt42tJj3/KD1CpU/EacetYHmfkSI9ydpZprvIl6wzbTJ2onZhgamtZuIZA5Ts\n",
       "5mIIVr35/16jf2ayhD8PnniWPqMux2syEloStDhbiU5V0kyaK+3mSicIqHoRFvbSXCqKequdTrzD\n",
       "m0M0I5Ns3ZVz+XyAEPvKwuQkThAYsZop1ny7elE3dhRYti1VucTdTWIH/0HYHO6k2HAG5IYRdiEi\n",
       "+hAAAAFhQZvYSeEOiZTAgp/+1oywByAdfAA4mNMD1fHVGcNuW18Q3oTM7+7TWL7x8UQv/m0UMhZl\n",
       "vqNo577P2toKnAf9MD0Ar59PBn6OWcYHGpPNCJvZ3XzsuuSG0KEgK4/+0qzp2aZHdzchgoUpABYj\n",
       "AbwUnnJStpKBf7w+SWGWMuC22oIeQOVM1byB25jPBVhfwwDsg6qjneV2+cFYJEaDLSTutu0ikwE7\n",
       "xRWB3k5OC3m4hY1t9576oWmzgg8LGLmR3XC4pPtOwb7cNcERmK4mlW/Gzb3vWM5svHaufw0Av3jf\n",
       "zykiBow4k2nNMNgmQ8jH4ubuf+fWi2dY58vZJfIsRjIIa6fGJvX/GNoMoihSsxVkO9uo/TodRF9s\n",
       "AEkkSrcVdcaQube/7sZBI2B/yl0ueuCvhJYnQe/yckwE//fcK9yjIJr9xeSXcBYwnVitClfQC07V\n",
       "B5jJ32dlvWO1VjP8WHnqq70AAAA0QZ/2RRE8EP8AHunuE4cjCTij5ETG2ZhaJ4usnQLDEob4eqAB\n",
       "b2jVwgRnjVyqxpVthq9fLAAAACMBnhV0Q/8ARNckyACqQNC4ItRPSVJroWSlOWQjho8j3ZmhXwAA\n",
       "AB0BnhdqQ/8AGR8eHnRrgXyJcPzFiMK8Eg56QH3hgQAACTpBmhxJqEFomUwIKf/+1oywBha9wfRk\n",
       "lhAGyKD/6bmApO5ua6e1BuSYWzZP/ZtZFLLnuxzX7cCHq09/eWA3qO4bUjU7ajwDyuD7u0f4UpzR\n",
       "p75u4vdn+O150luBCTdjCLemEEQyxwHgSBeibMbZcgO+NzDmhNe0ManvD0az/YvtDMqvo+KCU1xV\n",
       "MqhhbtsDUVS9JwrTMvvOi//lLx0or1hy6lB5LpBYpybwZFg04tT++tNVHcMopH9AK9R7z8kXs7Bt\n",
       "M07iK/aCKyjwGd8yMIvnL0w30le3fiARwneJ/cPlcS1pB3Xrqo3bsopujEWH+o9vajspyozqX5pa\n",
       "bKhx2H9rGlC4cBXPyCKbBQ6O5Ar2XRBXA4iHY2/Xmhj+hRNehZVep51shS7Ck+liGiIySg1UmKGY\n",
       "j54xzRMtkiNLeNKk+HISyDOHmIh6PMaFuvLokBXGdROPEHOLKQQW1x2wAM1kLDgp55Fka5mnIwNS\n",
       "goRKyWjUst3HM7u3n1UFmcu9vVCGji0e4P7VACZr6+P/mxshi+thbf4nrrr0qtQyk+daYEUMWPkl\n",
       "iCddxSIze7ewWVBpxL/trEPonM+Leh7sGMbmS0uMQ1MDqLRxMWlMOutALdf2SkmmZpe07HxXJDSH\n",
       "6NoejdFyDfwsARZ/w29X2O4eokngxkNsQHuwGF6rJ6d6josKawSHHeX5TSw4YVmTiZZTgWgXbilm\n",
       "AxFl1wmJD+zmgXn/wKHG/I14Mb5KwSpOHd/gH2w6THS28BDcRBzXhu/phfO/5Xc/W7/xQZqmCUR5\n",
       "ULmZfODgq+5REYfoDHeWsB/YFuM6B+rNT739hTI23Fx6GH0kjvqFfv0PFxql6x7susewGV51VVXe\n",
       "huehH4Nsi2moi7CIngVryXMK2xnjscHfvkImTTr/VaomSCE73gGbFT8qRDtlEkMgqzvVBjiU8yhD\n",
       "4T8zFifkrTYH3BJyHr1A2ovlkXjOYNT41j/aiNk8rCKk4aBIqZPzH+dkfhb6jy4esrd3IfMiGE55\n",
       "YAJ8psQ3eqpC8ttjjyNmrbF50WRlf3ogvYKZQl7vOE2sCcSBe/HyqUFn87NPQBNrM5zl/JHstY9J\n",
       "ob7Ycg2BCjjBuyClPh9Qej2SeNqwtRbmdbckO7L4Dlb0JGaqAdyC2BDoQgJyzhmbR9q2idV8pe7v\n",
       "YI9rTrbTIZJ+c5pJSF2NdYYeebnUPADuT822YzT/S9649nPahm1iKCHYfyW3EewiK//T4PydtJJ5\n",
       "Ednh8ZNXrbPIP9UyCJNq7OuyVYbK/u7HiD8hfE2WmOVoOx1PZ9XOVojW/P3ECQU23H54oDG4Cryh\n",
       "deh5zFohVQZS2JPBKOigEXAukAzB8ffnTK7J3rHSqAQ5OJqHXtCAVyGqpAMmbAX2Xo9BPZ01tX+t\n",
       "9G3xCkR4LvIBZPO65Ltn7phv778JNvrpq5g4niSRmym+ayOSU8B0XTbQrwLTY9RZA3aMi3mSX49D\n",
       "QdoJoaIUw5FN/bm2HwP6SyHLvJ6OJrH7sUDfDtThf/tZB4qv9WBgAM0E9WwMJVEPSmz5Km+5WXL4\n",
       "JPw+5OAryo0znfOOW2lR4ojrfm0yDbOlRCKF5gSSfavQNuKeEX2ENaj4S8GQduJv5vvNXiNBNpLn\n",
       "HxAZR2GTFcF9dC9XiG5XPEtrIbEfOZnxwPU3+KvPq0joAHzMUYIE48eAJh7x2VVM3MBnp3BJGjXD\n",
       "KxQJpA0AbUS4a+0kk41qRMl6XxzrXfkK+BLDtI99CrJPBIEnT7JFvK37J/HCGuhnxYpJxOdWThlW\n",
       "1ec9kayR7/4O+43EmK17ZeGRp72bKmkjqiEMmU2pZTqWTc36auUDPOTTsvOELQSdHOrgUYZUQbrb\n",
       "m4oEFPl53BD6DfabM9ckyWIUShyRgL9zsAS1LWybsUu645YZUqrYFCMoHWaTpu1fzXrtRyRahxXq\n",
       "+/b0WxksfchXm6Fz72mOjNFYbn3L6wc6qSOCqt9P5Dyb8O7tIgBdZ167YiyuI1jU7bkDbP3qG+L7\n",
       "lcWzOcjVfZHyzmkOgtpJAyj8DriRkDnjr4yj+y0y4llFOPkj38/IHZPYG6F7sNEh3waQApfoDTeN\n",
       "kimLCSvnM/TmTojc17PM7ipPftNoJTMP3YdTatk/n8KvWpgd4Dpyj4oVvxwz+1JgcroPrf06yqrg\n",
       "D1Dy12CcVgM89ENpRUaHBfyCw9uS+UcuCO0K3xHSI7A5QFyvbYKLnA5+BgwxaKIEbjaFO2eB/xG3\n",
       "WNG0xOi885JPsDxl8c4+ELfOl4A7gsZlCkdsu7cHoALTOALcsS+6co/R7Yow6mnxD2SkL6KmXirb\n",
       "jfMdqWllFS/mJ8S0XMnfBFwUzk8QXogSq8xiYnCASuU+kwImAcBWElsucXJoHfBd3Xg/3Yv95kE+\n",
       "guH4DezIYCIHJYDGDL6wqFZwvQuYM+/pl950IFdeeb0FZpNOSwlG5qittEt3kZeB5bEbP8XD1m+Z\n",
       "kqnAqtGxDeG5T5Q5bzSV4zNGdd0+PUQ6XfopzYikHcsSnImK23ltv8OIU+BvXeyDwERWxgHUaTv0\n",
       "DNqSKskSNfQbXE36ezNQbPxIf2A/5SO+3zalHq3GCle12OZOUFbR395I+nmphy62YgwpOHRIUPOW\n",
       "zUjduj5d74tyo0CiSEdxZjIo/4RmdLvUUKJ16AYzjOdR3YnbdOVJUyDCu5cvowt2g6DznOcmtjGf\n",
       "eMxicZ1HHf9IT2pRSBACOK6g4bkMlG1jAutX07CYgTFDZn8BMfsRLtcmzJtQMAeoRPtKyt5tUz+a\n",
       "zYPX3XBnxTPtwhI1X1NRZ+/OxMVLeogR9vrDfVHuCqtYgfDZ61aQV5dCmmAiqoGrm9X8FYW4bhvY\n",
       "sgIzHBAf2l7rSVykwSFGHSLLRdHHHZqQlihskkHG4/4BWu2EdruDv7GGTcZ0FSE/25EK4RKIbjKi\n",
       "infNKADsrVFOfk4GuC1DeLUV1DGQgcd652CIjQj8ZJg8s8+GqV5vso7MFbKyi50FHQSWjRiq0LzP\n",
       "vhSQVgSsRQqL73EXZs9XzbOGmp47NoGxbMQEeKSXlzqykKxVChvwc+uMPsNBJnh/U7l+4aiU1Q6F\n",
       "7FjKAKCH5rPOc2WT0FIrCSQ3r1HhYX5M+861ef4QSXfA++UsuaDJlv6UU4Ov3viiemA7IUW39jjq\n",
       "q+GWAAAAa0GeOkURLBD/AAw9/WND/VbjxmbYCzB8yT93LGeNfCAuGXgOaRR5QKACHaLOFClIsJdi\n",
       "6lXH9TgG1/mz8HwIKLEW26C5D+4anwzn3+iH0mjTIldFDbEkcpLqaWK/6kn0zG8D/WjmH8nqwKnh\n",
       "AAAALwGeWXRD/wAZG6UbKAJBBkmrGwiyhxoHRjiwnqAFO/z3yYVPRV/ngDXU0eDtIznlAAAALwGe\n",
       "W2pD/wAa/xzUBO3xZxBzaDU2+8kzeUuFMyF4CAD3/KLsSikAeyERUWsN/pEdAAAGRkGaQEmoQWyZ\n",
       "TAgp//7WjLAgQdtIKQAJ3FeP3iPjEzuSb9xRMzQNW9Mq2wD6bc8Lc9tDGkc9r8/Ro20bE6nf/82M\n",
       "/OvyUvjjGRzxK+Gl0vNrRa6D9mAcMFLIGnFvq2hPJriHJfFf4Jm5bdQ7UjrZ2QhWcJK1eQvu3wva\n",
       "rhodrtVJn2L280uD2bLWPOmQUJJhFgS5Q5WpyPn1Y5Hbs7DHpHt0/E23fbvxCbGWloLeO6f4Bgt1\n",
       "kgYktuxPcQkWkrPqNhCTiq6tR0Djnl/47BCfN4gNtrpr0agi9foSBVJlT2oqWiWS5cl2tmwRYZAg\n",
       "jY06GCq4CJvmXCzXDZhiUufX5CHPFyEeSFpFqtIeBRI9Xx8I46XbXxR76b9M+na3P6LbWke8heY6\n",
       "ICm3UuT2lyu1veQnVlXKdsHKX2Fz5bPhcFKfi/YESzXGzJPoSEeYXJ1nsO1QsCHxK0LKxfso1cDb\n",
       "3pRh9hUGIE59Y8bY7wWwhsrGrX7elo0ro0JVHo1YFH0jaaaszb72kx9C0OVruEhaAblXn/fnfut3\n",
       "SW7s18VwOrRcqP4sRxHaBD0Q4er4Oj5HDjgzuCSab7tZdKoDybmCyfxJlfu2m9opt9mN1TItKwkp\n",
       "Cc/20mZ5JkIUmWxnWUX2QjZLRSqma8ZnCs5rRlOzLXiU+MbXUE0iPoZ7g1pSzklYUjyxjVPmCJ1a\n",
       "pe8XwoLzdu1thYN0VL6+FndA/QkS4+FesU+8K0a0qrgPKxXMk70WTzJ/FJ2wxryyYyUlksUy2i1Y\n",
       "sfQyLrCUSKsBYlHCmW/cr85TIOKgW5+OSOrqHnAIter1ucXlCsAZC0VLwas+re2x2GBKVf7n+kWm\n",
       "K4eIyTLNUlg1CpDr8OFCeiekutFIHFQn5ExzU1i00J2sG5PYKTVh+bPVmKt6Z5OeOpvTY0kzDWLY\n",
       "5cKeWASRDhym377h8j2LvKUPEBP4orIbY20y+wUfm60Fytj7cPqBMEzga7UXZSxfiR0WCuwLkrHM\n",
       "mE6e9Ha2kwLf5bll1go9m9M9GVwnE1WNtg80X3z2SBefsGQ8gzUsR5iWcqZk4iQ0u4JHERWPM0+x\n",
       "nxDwDuT632aZ4oArL1/9Xc+Dfc1Cxk7gROU4cSinizK5D8Y6f0FPSYV2e+4nKvmWkMZNdYG1sROl\n",
       "hhPAkCMyoyr5mJk0rwemZ3gxld4BhPZrfehaJDifog3sfNEZJK0W650SBLlWW7LxBYnjCJb1UZC/\n",
       "fJ8LRshIz9RR8SWwOILqStf0CHUjaKgCCjrGSPlWiUQmkVf7vSjCJzxuStgE6h0GJaKZPX+FWzd7\n",
       "ABw6rogo1bJ5dx7WQPSsX/etg6aAC0jNFARV41P04SI/HEm8XhkG3JEXdqafhpYer7XyLwBfYGHF\n",
       "uAxBWiOawyC+moWvharsVQBQyt2yfrQKXfvSEx2RpoNgCCmbT6LudX7IcMPSA37dmOYOzhArz0cC\n",
       "sS7LVGO0+lCgRApswQQnVVNUxBRgZSC/aFYJQzlehSXYkAONWW54oiCAJc1xOJZXvYng9C0W/hOh\n",
       "MvMEauB+EMfQ+xcumC6Mpk7LYx6sIvBA8mF+0aVsGO+uExz2H9lHRf0m7KR9uxlGjOiD0an8PdIX\n",
       "1aXdbS3aFpp68iSTFUGCfJGUOZvbrQFmPII2Z4eEXt4j4ktLmzRVZcviSxu9LMWaVdPlT3ldrPLN\n",
       "BRgCkozwt59QQs6ikobJjZoKQv4e6kwVVFsd0dyEOoi6dDUloE6obM/xrERvECDhUkRT4CCx9gie\n",
       "Ze12kzSJ+6ANOYkM+7AVkCzcVZaLxAVXJG3fFjWk1ICcXzDqreh51sPVJqO0cdFWvGJIaRgndSKX\n",
       "1/Wa8CBtwqObyvOnKRyiXSZ5HOP9pytaEzqyCc//OS24+Va+COn8Hwkcafju8AKfmuKnHYG8YSVv\n",
       "4sS1rHDWYSQtMYcINrMH1/PhnHiw0Pdvap8vrx6wGO332nTNHhZQozOoDH8fsFD8mKyL+pq7W+il\n",
       "8xREYVDeMx+NUf5INjXF0EptAK1Ky6vuErkjCLZRpcwKKE9MlG4/zHIBVsNTSX/a2fmYB76QpdwK\n",
       "p8NeStw7W5f89ftREzYcwECp0avk/nlfzp6IQOY3gFgB60Q+qV/Ojj97eC6LYx9Lp1lsHI2xIA7f\n",
       "A4EAAAA0QZ5+RRUsEP8AOuU7OQDtxE6eoRyEwLsUpi5D/ouck4fEy6F+0mW7+8qE3/Foh2CReL00\n",
       "MAAAAB8Bnp10Q/8AfP/Ol5gytH5YuUl5GWsVku9dYWT4pyGsAAAAJwGen2pD/wBG4NbnA6JkuOw/\n",
       "YagdMsDeVf8iEo8vSF+ZoRGMOnUr3QAABP9BmoRJqEFsmUwIJ//+tSqAG01HwACHSr79Q721rXmG\n",
       "sZ90BhsAFS9GSH7GETtnkUla7bLCxzOzvOE4Sq23o+hQTMe4PHJmMD7U19xK97MqnWIW5cXRfSz2\n",
       "FMlRCpUkanxzx9EjMlMCSFgrlFdBQibAiN/e3fal3srTbWzZY19ziV5SmOGhxQy+eMd2bF6RCRi6\n",
       "c0rWPXHxsdXsdaw13Be21el4Hjoy0f9YUiHgNHLnnXqPObZ4kK+thvBM9pQuYak2KaIoeoYcAHNy\n",
       "nTR/6HrSwTOUfv1evzEhwhuEdyag2eO6WMYp2lq/qi1jG6OfgjdHTtxO4u6XVYEqlLm+L9GOlZ7i\n",
       "3W/xJrqjfkyFeZreVjw0l1nnbrDuZxKVU/jgQK9DfMW7hUsNvF4cuUJhQ3giRCSkJdtsP3lgOwHM\n",
       "d9XE4y7fJx5coX4JalxEvruGYfJLddxpNt5Kl8Ns0Scp6V0XZYBj5uoNOqeZOcPjSjSQY+F5Ln7j\n",
       "wSUZzlS7AYJKDdBKJuDLi1qOnbYCLZTy/ua1EoKzsIjODn7JYZoEEPF7p8o2ydVnilLCSbcIkC1y\n",
       "4IVhG9G+r+eIdQ9NYC1L1oyOKL4kKEMms/nz5X6uO6Ean+H8AgTEWJ56h+NNetRkh+FfxBNGaEJf\n",
       "StwdizlbFYc4pqAsHivtxru/9tqExPdZpg+e+zH+yNCSwyg1nUIBdwB4+msdn5ycTql/Zz6vfdlv\n",
       "Dh/b/Wcd6CqeVfo/jnfXxHjxhrvvXLZhqQ5QauMjgkbOM7ZtfXrsRL13ZPrWmLpZKCHB5xfkl9WO\n",
       "NKAgWITpdv3F60Uaxfa5wOy+Vrm7w1DZwjBKPH/Q0dYtF/arQ1Ia/M54ZhguiA1HicEROmJluGw+\n",
       "I/QSm3UYrAdyLJpv9ci5mcURB+jex9WakJTYbEmZltmah9nFJpbnWC26PlMjaAxkeP9Rd7RuG63C\n",
       "yMjOz1BKqH2jT9TV/LVPWmUlRd5QHvOB3CHwoFp8Jnz1ORNlw82I8hbtlmow7qXue+ZorAe96Siu\n",
       "uH+CGA4M/YEhK1/RahSAassNRZYh0VfsJchiAA86A02wu/l25DWIV98hgG/SfYK+GM17E+FXVrrL\n",
       "26cbK1UeQePgiwhxlinSfC2EPmbnUYldt/6Fn0KzOyiTO1vV3ZPYww2wYLmPTTLjAHZcfsuO61Du\n",
       "1G7PcCGrrYu254TLxsR9TONTcJLO6rTNo8py5zC5/vXAfiwSI1VGDyVtHfyF/EJt3dVRzcSwJg6V\n",
       "z+ig9wxryVsKBv9Jsw1Sdlo4YQND0LIdscWA1dpvx7hzbKv+uKmdprhcmGY1wWoBmgdrhQ5nKGw7\n",
       "A07nY/cHSLIOnx4a/Tqo9kKh+tTMzauQialPu3hQv6slSrP1FiIkFigaLxnmB4VxlSe275opNCMv\n",
       "ADburF42m88QVsjUROjvLI1LbTu/iDb9iFPCD9+sli1g4coxL7eiqP3y1mjMgarPQthe9rasV6xY\n",
       "gGybuApwy/CrRg3REdM+1yQE4DVFWe4W5bv4cuRNc70NXAYJVk6UeI4AuCsOKbBcwQCfMy0A/Qgj\n",
       "hIsHQhv0VD/Z6c/ZzHi7P6OgWzi/7tw62gPC81tWHLLdhIiKhs73kmvjYQTpoQiKzTnriAE8VWz0\n",
       "cYStH7xDh+BozjgxAEGWHYjecGajL178bKe8Wf0DmKaNvvidbhcfZFI92rc6V+DETFNKAAAATUGe\n",
       "okUVLBD/AAtZabFHTz+ZgOmLVJWADeu89xQggwx0IxCQPMTMuAHFRuAY19FACH43eD2qK7S3flYI\n",
       "mt5v6nQFfFF8ziQWAW9HKeJxAAAAHQGewXRD/wAZG6UbKAIECx9li0BCdtPOxVWVXkaAAAAAJgGe\n",
       "w2pD/wAZHx5qE7UPmLRTWZglcesHsrkeM/iAMckEeYqgbQoJAAAI+UGayEmoQWyZTAgn//61KoCC\n",
       "xP/yEYiAKAzc0PFxPjGAk59gslvLdmukOUz1Yd+0oyHTCIZNb8KmFkvrRV3sCbl1Q9tSblPycNHe\n",
       "l+tncjrnq9B7ndnpdXye35yNS8/5qBBIO6QirkCcI11l05gMaWNkO+pmv+XJcGRNaqCj40alXd3E\n",
       "TujBGHM/ntGwoqew/DM9YlGSjTLf3jLUkiZAnB3CEGlFF7hTSTHxWcIlFmdPxeiFxXTBEnk6LMik\n",
       "RpCS2ClTt5uNi+TazDlj0qYeInKfKcqYgvfZI6b4AwowpP7wgKn3nOJ8GKvBKzAwu8zFJg/Q6dW0\n",
       "AV2PDgKAE8ArEshjY/HlJ8UGeZCvsJUhsV8lxYrzGSI45O7LGQ2Oa+NG3+jz1wq+Glc9yQfhCPRs\n",
       "MjAgH0GD5i+N93bo0ZaE7/wQ+FFfoekfb4VTc6G2D7GnPXNfoR0xTwlG0/jbJL0/QBd6lnTF07o6\n",
       "nRKneicgHe3yOMS7wE+gSxUZR0/RqYuUu2KnALSA/lbsMs7rceBvRymY5iZ4RTVPUcis/Eaxr0WC\n",
       "XzQVoT4uP/ToTiKMtrR1lHPtWUNz/S5KNU8epdym8f9VW7ZO28RMjBqGmVA5GCuDzAoO2/nzCH3a\n",
       "6D262pIIeBDve3b4nvyk5NEyAOymFZhvKIMdJkQ9WMYl5j/FAXophyj7MeK3Db2r8kI3XZu443Iw\n",
       "xIObsA27B2I0mjVhax0h49TZWqWmpgc3EaiIelbu8PJtlMf9TN/4DY+w5FqyOyTqDEzMlBPKTwIN\n",
       "cj3luo5IZRHcpFRX0Bu1CZR3mA3ciMvzqFEFf60Y0px/zq+KMHeggriDyrGTB0rePw5HmjYZCiEs\n",
       "9qGsxBO9RGx4DuoBGZeBaq3bnj0DVq9THge5VWMMfk1oNZuGmJEBSDqn01Da27Z6K8jNcHrTQYu/\n",
       "8omgl7QaR6wznTfWoEL8+err0g0csVuU7+LwQHkOptwP4BgX2jSKz5wufcUx4ZLkeymkHayC+/gg\n",
       "y/CnJ6Oh1YuDAW3JpBCAbNqcN23bQyQa4nbhjv49W+/AURdluFASLvnW6XbCQy4A8Jxoof5CjmBp\n",
       "j7Sgh930wbGLZJP83Tu3AlkQKvyQLoYNi9UcXE9XQqR+opvcKGzuDSlqHh45fczYX42js+/fQ6ef\n",
       "PzF0XuzEoG5Yn1XKbJcq2btjJZj2MjXhoywZXZGJwmWa3q/E39QZ2z9MkltT5gmCMtvOaWNMRc8g\n",
       "UPqK/ldVuUQbGMJVRW0uegGlFsYxkYhweyXwKGQOaqZWwoSA3ybjfEG31BKT5cX5uYoMO+1jzrSQ\n",
       "+mkOEkSgnswZjcRTOtlX5mvC7NBHMOmXxOvplGM+LXo58DSgHAB6rx0fD2vo+wiO+IThkIVpVZOU\n",
       "hYYMvTe0p4tpU7iW+dBc3jSTGNJMzRuhbNe/1XgJy2b4rhUn07x1drH9GzWweiGmSl7hUOChDMhj\n",
       "1GGqwqY+/Z88cvFaY0OXnDglYZm9BZweCsQcYlyj3dxPCA4omSdwVZjFOB3QM8N9eeZxKdNlS5la\n",
       "hBMPqZWtHHs4N6EON//yxKxrLnoWoEdeg1Vhwm/oF9HvICLGzpxtF9SxgA2xSaIDpgZq5BEMosqv\n",
       "ULJ7jcXH6WXmPHGZefeXc4s3xJIMShezsPvVp83xEM6VifEbXKXILnQ98LKlheo5EQRgrbCySD5R\n",
       "1z3N49bK9Lltkgh+9GCk96dNdL01J/ReMi35VU1z9s/rgEL2cR0LTRDxr2cLonprA1QKww2M24tO\n",
       "yGoqWulb/4YIhdskoJNfP8EcDWtFry5KaOiEF/ifZZaYIQ7e7VOoAijC/VTYTQNB+Snm8jM/7M/V\n",
       "xZoXdNttWl0qDCL4OqofLVT/9DZSaFWgiAyogQchgnv+oaBn3px7W6vh19NtysxPVRH7ooTGBSVE\n",
       "/tlc7WMJ88HlFYJfl+k5sXr6IHsVJzS9C31KR93M9TqxBVSlyi+3o33MoGfNX8cbP3GbB5e3KV0f\n",
       "vLFKGHlz+PeAEj86S2auHaWF9cWH+xLnqnZL9ouZMIp6kqH510/w7p0c22vR9mmd6jHNa0Bw7N/j\n",
       "pG4czHZ1XJWHZG0ReQiclr0lIrpABV6rIHsRXabplD7Efe7lAC9pynsmkAefbCPX7ViFn8Q808Bx\n",
       "P8PMQZoly2Y09G49Bvogz+7SD/wA8AAFb0qaYQXaij9kgFoGgUwx+ROlWwZuv2/Qyv8RFnUJaXsc\n",
       "uXy856dS1T1MX/oPpmGoQNWliQkAH9vge0tkB/AJfrE5M42UubaxuYdsYqQBqb55YnWX5c6AF9sU\n",
       "mlG9h468RgOO7iSwGq8AQ4BS6bypnZEf3PttKiL+7aRN3rQ8TK+e9nmnN4FKf8beOkV1vcuDUdd/\n",
       "tw0HtlbTaqkaHX4NoTQAQpnQ6Zk6yrmqKIqkcz+5FiX5Xw0IwK9InZQxahPbtk4yNJ4WeYLCvz5z\n",
       "czh6KSHi3hLrrAhmwYB55QyKWZNZ4VowFsD4XTjIu6E/A5yJQmPWkHBxQEFSZksKAQXxbIBEiTqt\n",
       "a2PAA4r7DjYwzqRG90ZSrPbmRp9LoT80egS5SygCXQ3xVzZqTG+ddXtTS9DLmVtb5keoFvTa6KrV\n",
       "Ph6abR6dyNfgxRFoQgEDaTNhDc7HWDtEiOUv+HOrhjVWrNW3Ic2Y3rlF1pvd/sljyYq0bBTErPPx\n",
       "vHFLuMmXiPCrXysjr7k2Qj+u6XT21JvCGzMRTHH7LtvkF+YL77/FqReZUJ6uT4gDocN7nCcZK3iC\n",
       "D4+ReKbD7Ge+JEuX7Ca7JVYeL1t8mCAwN2mKlF3Z9g3QWVZCQQnWvDTrZrTZUvrvbjSQZPHrKMl5\n",
       "JfPYuk6bttNaGQAZGBY2Ki6tcK9v2v22nULsHdmBhLLobv+HO1NUFHibA55JBwDKpHEIXBiT+bhB\n",
       "lf/0MaoG6Xi6fEePVg+vG4H2RpDi5JZgnG0NTbboLT7ffWURy/FbYFlSN2TTr/q0Ts3W/ctedLQQ\n",
       "9+h3SYmVshk/DVu9OFhyL3JfI1rONpHAWgO1P/w4p73LO/2PgOxEtEk9SmWCydcZjr52iw0L0YrB\n",
       "AAAAVUGe5kUVLBD/ADruyGYAIfZdsWLU0e39TME23ROIzcaEIhf9xP3t/3jbfZ3ZaN6eXBA3c7pC\n",
       "zu/jyvmFjdA/uOKIdF6SiwC88a6HsL52crEaMzH+9UkAAAAjAZ8FdEP/AILE33NXrw5/T7HDuLaI\n",
       "Vx5aio6oXeTwWBMFERcAAAHZAZ8HakP/AIKg0g4FhpQVyBu1Q/SxdckFfokbcqYAWu389LhFzHHh\n",
       "gA23qKCF793Q1TEa4eTYDo6GwaJv7Xme9bTOu/Mc95hvllZTqvSJ5vJqW2WfjZijvvaQ3+ZaYHTO\n",
       "fQD6IPjHy5wZbxE9N7bXDaf0WGg1Rk/jWfqwDgF8yH0vTjO0q27LXb+KquoXitNxTF2nSWHlg4iZ\n",
       "JfvwbzYvxQ18lsx8wVRxIDvQ4ggmrrZOr0w3L3cB9UL1Xx6yZ2pJz1Z8JlF/ixJDAtlr4H5l3Ujh\n",
       "P36cm287gT5bx8AqUckgAcDUXIgjBR6+sGV0VS7C1HVqg4Fq5b5waIG8r43+7TpTG15Wf/ss8EHf\n",
       "+EJHet4kGcEteLl/ygcD9ffAqqpE4EviQMz8j6X1yePgeVLG9igfg3pXLutXPa5Xedz2P36yvUyK\n",
       "ThGHdLs8rKDcl2g2OPXGor+Kaz5Mo1w6RCCTXygu+ksK/kefzMiG9lowGWrzv5yqFW63i4UK7Inx\n",
       "TuR+aOJaMos7ku7DQ7S3mt0ljpXrwBlFWwMVZohvYwWb6m1MOaIL9Cu9KAFg38ZxmsL2qFgLhgSP\n",
       "KNQFWGJgCdLblhhAGMrfZva3+n9JntXRJCpI/EbECkCWE5AAAATKQZsMSahBbJlMCCf//rUqgTbe\n",
       "d3loO6OABdj7Rhl1/i/hEXJk9Af1P00/NmrEPgWUK+IWjhZqF4eARW/k5yA3uafMAtx6eBOlLeJU\n",
       "XQpIJBBNZWM/N0jveN5QpGtcOSH531barkLNMvcE1DLrMXRr8Db+Qt0spksaKcjdIeaG6Cvj9K1R\n",
       "cuHaL3rzqSsap9TRewLOWmmfar5HTi0VZYa/I3qOf3ft6XAfPo6v+fp1kpt5AKD9oE9sq/gcdWyy\n",
       "Re7MmuRBMt4mjLpuIHOegITHUT68AsrK5woaJHnJxB4xlzcdKhdaRxkRW7AwKgTz969iHIXKigWx\n",
       "T/BLR/giLRhFe0hcvz9OQ3W3ge2w33xalan0hBqacVtMbe9z1yBhLiXpeKItZZ7hbbFHYuloqaFg\n",
       "t45lZHErBRfu/9+MGwLzFAwmNkyn+EmDJTwPsjeXo3ws1byOAf8+K+OeJHmMrNCYylK7WboTZG9C\n",
       "gD7HYvBGPlZJX6nmGIHdBLkxETJfSIDaR7pSsbQXIkInp3ePFNc8oF+wrtWUYr+bOR7MfFPYA1++\n",
       "khr2FWIg7Kug6b7Atdwh/4KLQiCfac/UlPQ5DgH6WzLcM09zVe4zZ8zavp+vsuqRNWmL5l7DOPJT\n",
       "CWhN3pw5XAi4F+wkbIQPrnJbYMmyhHQT8x1kHFT7o2EJL4R0MhynWrO6J/tladpAAwaw58gphivz\n",
       "FtrHW5exdWFEpvYtNQDSJMfIHFQL9akT3CkVI5kAcGMAVoE171n8XsSH7EIyl/M2G0xr2YDeqrjv\n",
       "yV7N1G4B0tFciKfFXD4eMDmpcPfH7jvNOaCCi625HWKxonhMcdPpolMb/DeqbiudQBYX6lzLH3sT\n",
       "CKsjwkwnU6V/j0zcequ0w6vx7rk7SkGjSMdmyp30cFRlawGrDQTv7rxE8ooO6tlGKLufIK7OcuDe\n",
       "XXtP2TnLkWAXGgGP6uKFo5+ID3psbhkffCb8/4+blRg8YlvviSKzRmAG8O7HoUudMpaod6YkdLQ4\n",
       "caevmAb49rvhmTb/m70VxS/L0J0+rSf6NQhWzcI3jn9hc+qan/9rpkGPGoOzUNrOw+ZWvOHLlbpf\n",
       "vbxY+NWRd06WuWeG7mr0awt5ZsBStH9RIaojy6yKAxuV88TCSfaKXtC3XUCG3LAL79Tp3oJICieQ\n",
       "wxdVSaeNulhNpHfukVJhpiJgG0lIpUpFCTeWWQurmdSpSf44u8PwtOWKyX14UYNvzl3cVxYUdFSj\n",
       "Nzl1+3VcUIzykeLWwHPyyTQrm+jppXY78qbWW9nkv4S+uYlj7Yf8+fX9ITzVE3hivpNx6E7VZayv\n",
       "maPaAf1lxCGJyDP5xW74eUz5kM0oMn6z56/27/8xi4u8WoY6Jt9ddlqBukB3FJo1g0u4QQJLkKJv\n",
       "uF8jQNtzpkYKortx2DCiuv+f5pWeuUSFT2EC7nladwqkCKA1i7Vwqj+gxqqJksEE+k9rS/CEmNwa\n",
       "9ACwWmHn+i1JjQuC9Ep8UJnUqrbzfX3C1rAtqi11TygPFJpakWooGnLOBUZ6ILWzW96eWUdTx1yz\n",
       "CYtJFi1FNAcXQCX0P6XSjxmB6k8N8qr/CTxxPctFmLxsGyDbfqwejefqqEyqVr0GNJjwPppVfXmw\n",
       "s8JdEmNDuEYzFWAAAABDQZ8qRRUsEP8AVop2IEAIwg46VcDWfwbi6h+0P0DQNthXyPt/96s9nXLI\n",
       "GQFmJl6BRINyq4tTjbd8soXDzguLLxsvkQAAAC8Bn0l0Q/8Asq9mQwCb0AE7XR6Jjxhgi8fE48SF\n",
       "2YebbePZhshoR/kAUgBKtXKwnAAAAC8Bn0tqQ/8AZRCAcH8HaShhzYMd9wU6CltUWw42zmRbU8tE\n",
       "j5jWkkwRIykquNB90AAAFKBBm01JqEFsmUwIKf/+1oywfsjXAKTt3KnOS9beTqfh78y5NyqFsPGP\n",
       "01SgOx+cn/+mJHNPqJ97Sq9kyuXrKtRmn/fzVte6mTKLp4X/IlaAuzx2vSjS/SGLORQnkRMkGsNj\n",
       "cpVWS4JBxQpV8rwPcjQXovDl/tQbWNpXef3qBfdWaoxQ828b42dWsORDrxR/NkEaOTh1HIMR4yHY\n",
       "fCSC9A902ExQqapD708z1/6+dhAS0/Z/8DfNUHJ9g6+9k5geedODXlralsqMp2YrwCIzWqLzl9td\n",
       "deby0M9mHAAapWD6s0PgVTnpbMFpjg5EubVZKaA6QWQHhC25/mdNqzmHWMaUn9wAiUq2nEpseXjM\n",
       "lYPf1vbJVfSz1wW8Uw0ihGwXA+OXuWh5B/oRLa8ebMx5JFxQm+TN3zT/A4TUznk54t7oDd/RTsCG\n",
       "C2OG86fN2Ke91EkzqsXto0y/StS79zlmsmrmqAaYeRE6TVSs/DGstikjjqFo66UolnKhTb2bpIsa\n",
       "iPcNOFYR/gU+dyzsn07dd5cpd9kMgYKkJXXofD6O5uNHYB06ZOuv/u22RjSr5XkZWTnhlDVZDtVV\n",
       "Pz/ipqfVw6w1Fxc1L7sTP9daB0uCbxnowpxaDjea+6zzgz0i8nUXXYmKOeFQr6p99sm0CG35thCN\n",
       "mQPvBHXH6a0zPR64gIr/ikXyn+WEddcFGoC3P85S6z70Mji4ggoW2pmvG3m86vosA/dU6uZna4Ov\n",
       "wdC9RIpBglE/Sg+wGPz4I3iYlYXuFYvlf9eQDGJzyowQdZQil2RLxaH9A1xEbPj8xUX58oJnuPzY\n",
       "7RzKVWNUureaB1lJXyb9A3W6YEbwaENe593tSmiKIqP1oWp+p0/Avhcjf3gq39oI9DfIURgzfBPB\n",
       "WnR+ZnYdMUayP4spieoaGWd68q6LrSoM/n3LwnsNB++QtNCDvEjKHPogjFqUAK/Z6k4oUesJ8YJe\n",
       "TcvkSv4XFsSuyN6fBlpdAhNY2d+b/XxXVDZxsVg+VCCWyklKN+RFf3nueRihZ3IQ2Q11ehLFIPh2\n",
       "Qz9URPdMeKOrHp5KxobRtZbIQgOn8kxgLLbyD3pC6fUSSWUy8fvM5JPV+3ebCgNeXqsfNFhj0msU\n",
       "mO651sDrP5hCQMx4ANQR86C+d0w0uMBQOV8SxrARgbwkiYJ3wKx/gavXab6rPQgaVzF1wY1tef0C\n",
       "8fQGUhI6HtPyXTjFW+T9szFNeMjgAzPPmkFcW7BhKN15gOQRS0Y4pYzycIsQaJTZ4O3G00y17Jp8\n",
       "EOk8cL5cNLdYqCGUZ4GOGbmVRn+BJ1HH/eRDtf1kKZtkDW+C0u1cFQvbVyfUYU2La7uXups/zMgi\n",
       "L0JpRSnWOHfiOqGzEMvPKXxGCUXmWnfwvpJQbvi4Q9mjykUhfi+1FftshweX72fliInira/yVgT/\n",
       "yy7p/4Of17IcMAFXUm9uGTrfyxD55DVIG7y10gcXd0MhrndhPy0pTcrKeRw8PQuKzNqcRzSf7cFI\n",
       "dHr/T/kkfoSQ6epbJWQU3hAg9kdXlt8adV5aWTZMil9Y0vnL7NlZCxyjdWiUIgGpeYtCRbV4rhqG\n",
       "kSRRPT4Ac/R9AxmDuOuqx02qduxNJRGqcXMnC1LZMxvPJIXTUOdmVINpR6gFkh6jUChwFDhB0Naq\n",
       "wJt1HdhMjdLujtEOgyUtuz3NuKangCDFGh4naLVmkMz5FbmDYzFWKnkSW+Hejp568Kfrxu9kBXWb\n",
       "Aw1wJsU7zKdjQ8uqzzwCyWOYrXzrMbF7C4QSiCVVzRAx5f3B+5nOShB1YeWdKev0ET+6X47DCa0j\n",
       "MhcI6+XYMN6OoqQKetW4iNQvcFhuiKTO+Q6wFRuFTBf0KnKSNs9nwZ6nhPwLgJbetRnq70CrUp6x\n",
       "EBTxhaMzyl3vpST80dYrH5d021UdBJvSleGAEr47DOwUOFhPQOsTxvKcT17AkWR3sn4bO5GF69qL\n",
       "T2OWM6jc86hN7+tn2nbpzkSB1LecBC8VAhQvdbZR0Arz10y8oQbek/pcc7gSHubvpPwR/Un1P+Ld\n",
       "WrGqjUKgANIpUqYG9LyzIuJ00lDBKtd5Xt3aQDAUQzr86tUJBHnFLuvnjm8IFpSt1EfIpM24hRZ9\n",
       "kUcc11AhUqCcJmva/gNrYXS9bzTtARuXDDbRw1lZOgxfeuzsg0EDpCQUv2P1cwEBe6AgqbrPIJ/X\n",
       "AN3j2ELFvbFLsCH+xApgnlOHTNFKr0M3EW1psGVtl5HCSGS5wOL3bE2QaxxS/O7qvgZO3zaFPVd9\n",
       "JhIRSnNVVhPdtnRNoSOcTjmE+u2nKVKEVQ6ea8rG5AsUix6i4C3zoKelrYptpvtdr0Hfi8ggC0NZ\n",
       "IooGAePxKqBheyHjtoyGTZPdEVR08Dx5X9aEiJEtJvMznJLg0y3YAZ1qLrJrB3GbzEC6tgyDEoOf\n",
       "zKo48u9Um1VFV73y4nrmDkMgHDktIND4tqJ5gY5mVE2b0xZgoxFXWL87qRoTfSnMcRQJrDTwWnB0\n",
       "lvCli5mxA/yctu+35ad56ggrJm3jXQh1NubhJM9Ymlezwxd1I32oDJRSp7fwbDME6tSJb5BsIQyz\n",
       "U3YfC7U9ksjXsRm30hlMipYAqdCMa8v25hn2L8ITX+O9Djj4DqEXa7uRxuzHn0cQONnCRpAzrfQu\n",
       "R0hScVNDWphmU3aS2BoIqI0DwjN7EDvFv+vCPpvdYAuJ5XClaj+4jASljGoJYjA3OLXg70UzmPr3\n",
       "51f3FpJEv93qP8jRc9ON2Aormh+i38aWcTyj8FoKPLYdJHXJlaTjXydo630djTGFbmrOtnVsJDhi\n",
       "NVHlqMG3nJfjHMGQuHacmFpWB+588j+riYo7Mjzc9xIQwAUsrJ60a5LsfbNBtOylYKi//hoFU3vz\n",
       "0Nz5GF8k1yVFiFBfc8/tNLr+aA0MakqxesdC3Tf9aIw2CHrkQa/dObmqPCsDUobpTRWLSuzxWQBu\n",
       "OcZFQWNLZiNRKdCq6fDlPbZYr86VtZzTsR05JjsxF0/acWXwJTUDKEWcK/jowA3GHWAxRcFUDY1s\n",
       "q7bHpblwHVkP+DDj4bMhDN+nyliAYixP9OQDcD74CVk4yV1TiaaK8CvxBnUn3HtVl33N4XftibDg\n",
       "yNdO/KiBbgYSoFfUY5CryOgIeij91c8bvv86Hkg1m2cnYJbKqbXUmKHNAd911OQqrqErbQlu2JKt\n",
       "oM4hLqpRjBPhHI6TxfzDXtrmgWB/gAuo1peJyhInAgsM/OL1OqWf9Y8Dm56jwyb0HI7f7EDzjQuz\n",
       "oNXir8+HvVwTmqJp37GAPZlwCCGUHaZrigtooFgES2JGZTt/jjiY6ZLmXeqpH6k6TGMnv/tESntz\n",
       "mQJixDBZEw9Y9o7N7kOHz61KKIWLluhvFDuqXWF+alO22aHMItmPBvBDT6Ue9FCqb9RP01vdIhvz\n",
       "VMti6rCQebuogVmUxYirMXMfF23JUsE+Wh+dXn3DB6coh6MulJp9zOta5zr/Uq64LW+36dFw9qRa\n",
       "Ao2vvvLByqiHSEidUv0Ob4IPX9Wj5e6ViaRhq7WYklFvrafsD7V9f8rtSSB+EibPY7kknJ7K6f5N\n",
       "6dGI+fhjaqEC1Azki0q7f3Kk1DZD7lK/74ipcFrBbcMCet4PHmwspkBKQpYI2Ot30DYDDHkE27xK\n",
       "mXMs0n7tvorNTDvamOKJNp3L7Z6wHnPoY3x2E2K8LI1/Z8JtHWHWyyLyYDdIDYwoq5ug/+DfTWHr\n",
       "2Um2EOWqNVhSuiBVVH+r9enb6hYIZOdHh2Ir7GGaRznTauCur+L/a3U1vLs3PNvCmmTVgjIi80uO\n",
       "khYLscpeB4Z3TBH9riHUwTBHt1V2UDbKKI5okm65cbWBrXqST19IHmTINcoKoIGPND/SlDY3H/Pz\n",
       "hKTFiDOpzkpE0CV6a4o5zgdeBURynem4RhmOAr9UDR0qeN82R0SOmkQgQbeLfEEWjl3/ssLO0lwh\n",
       "dEEcDkucIN0UgpTZjK+Wyh26hgYYp4K4xgHfTj49jkMkJL9mQ9iIoXA0D2AMpqQ6cX3lCmM3XKy7\n",
       "nZyt490Ss67NA5H6Jnl6VXT0dOVItHxdIAaqPyXUzEXu0Of3V8gy2ogWTNW5OGfINmaizAUZMg6Y\n",
       "0/sOdSsBLm1qHeuCNQn5ya++NEx7At85EXlSzSknowlWa/GNiwyZKNku6XWRFUSCUxCOzTY9Uq83\n",
       "66uBKRLz/acMC5KSEFDQaApitdsgLuAE+QR3HT0JN7hKe95nY1P0b+sQRpN8wa/GY8oCkuSE7Hrj\n",
       "MDW14ttV8/nZxDbXQ4PQE9nnx6+a738jDFE/BjyDwz2zmtqHQnM8r7pbT6l7uthHv+gzjbsWHMD8\n",
       "AWAZ5W2JIDm1MysPKPYfFR4zPPh2dqet2xiXdQe+VCn9eaTJvnCIYzDqWL0NMcaEpp3eA3zCDO6z\n",
       "Ic6qXe3dW/0qctILLyDuTsh7a+pTKjOBxMyMcBD5FesVlIJWdBOasIqyY8mh4kLW0aU5ON6SKzhi\n",
       "gZ6i5eOdbVljbVVADZhT41EdnP/yM44+XNPb6uWaTSqL4Sv8t1KJ1/9kJbNYVGmAM2WK6iWZgFDC\n",
       "KSzS0t+g33fyo0L39ODqDfDBF2k6Fqv2YyoYVV8Hnwl5vBuePRf4NCR/z2K5gwVce6dt/Ff1jOSh\n",
       "GWF4ciAGYe0IaDcPJQy3UkdfTWV+nvgWVYMiANk2kBnfmOd7TgZC84X3Bnotn0qSRCv/DUgrhUN8\n",
       "IoUZLukPtXuvHll76hr/z/goAxtemL9Jmjt7EhA+FSlyKeyn2XE2vP5Anbv8/spQcEydDj6Hass+\n",
       "j+CsqkrDuF0ABiJWOIa7jxtxFVomRd9bxKLcmcvqMOc14XPtRBj1wsdR0PyqkvA1ZqIbdONPTwHM\n",
       "Eke4OohkXB8EiykwOO6lfNakBKSfWfarnnznqjjFGm8YXmsI6JEilfbXTF/E22jvA/hxPNsROi5f\n",
       "VJrV2mc8fn1uvDvHnubW/xb9FMBgFOMGvntv00TW/DTRp9dFV0cwFwhpIvG1jbQUg7Ye23eD8Ntc\n",
       "pLsJ3HYaX0IonULRHZNZuCsq8NmNKhrCD0rnoYr0V4aVqFS8HONocj3b6wn1hWLea7Lpj5DL3fLh\n",
       "ePp9SBGOcipN2X3OMBUuPFeeaSOpIWcTxVpg0lBV5i628U3JasKJ8P40Ew9jcm57aJJS77xQ49b7\n",
       "e0z+ob60utCTunTSUtgUtrjL3fWiFYdN9aGQE+LcixT52Jl8y05RS1+Se7z99ZsGBSW0Zj/zGWv8\n",
       "iUudXZew+j1g+N4INDhZFWQ8ajJCgYVCifotN/OXJVZtTVMoTsPzcqAW73fFXcsYSSsEzSzW402C\n",
       "Ky5NVfj8+nFM9Zs/yAhS7nNSu36zNg+0WxdgULkbVB7wBHtv1nf9m4xgMx7KeDxGy+2maNpxFwte\n",
       "P3kXgVH5w4JwQXyX8JPk5I6BfXaUjiZI/PP1B/zzH2M/3U0QmhpiFy9OqmnxDffO4cRGpSpQLXh4\n",
       "yvRa5RPN/A1Ehra9Vd4XHwEnopnQ+VKRIzQMFgnG0jp6Ix1jE7SG2daw+ZcjvmqiNgCtA6C4pjBD\n",
       "05uzd7INxQfEe3ecVN24zuLB1X1KPFzUDKZ1wzV3DwNuoBzFxVhpoRhgDspt8/mL4/ShRxLwjLwo\n",
       "oHGz0Sx/apTaWr1Wl4vKjkLMnuYuo1zoKyIFKSY2iTjWOprZGXdX/f/FXTKbS/9ucmk59xkb/FK/\n",
       "0NAodKAoaO0rIKgnDI8lU2+28PMDt5T0+cxbZ9Elxu7pHkPqEu7ehas+yaeK9Qetml3MaLFhimCQ\n",
       "+W5dH223LCrY/rICCk/+cI9m1ScImcLgJvqF+Ykr1/b9P1JPPJNCP17A4S6y027kJYFaEvPVRXT0\n",
       "/+KiyHrKLlwYmXxbkLw/2TJ7duM9ScWQbHuqaaqhqBbUhmWmOMNmp1RGmWHFVnAXiMZpBoz/dRs/\n",
       "FRmqTz+17Pcn2t9/jHJ/DFZ1ipVlpKfd11yjAx11JHK91xmONe9UkDdsq2mKWOvGnIzaDxY7y6WE\n",
       "afUYGGju3bA0SVAJxc5f0OGiLc9Aa6+xWwUMxcS/pMFJ/3kxDz9bYq4EW0QzFwNqZIQyn8b3E/v/\n",
       "BJXwlO4Zrk4EEkJ1jt0AWOUFT9H4puS5kqp99ZAxda1ElBDnhiNaxP1IiENyqqQfVECN+0DZbWyS\n",
       "ctbzgP8S7eNqES/Xjd0Nyy/7b+Wr95e/YtrYLcY3NrKBI4n0BeUJx6IsvSCoW81BQuwJhKk+Cpny\n",
       "4CmkvOmyTLwEiA5TpZdnSaYLNIV83Noucfk2jmuQq91pmhiEyPDvLFfXuYB4fGnbZKHPEs1lfzF9\n",
       "XgoFmekGQcRLzI55JaZ31xxjHvzKGmd282Lsx+ADbjn4N/q9jBYzd41eRSKJVTuUG7o2ygc1jJR5\n",
       "YNR16PaFB5JXHjpYqwkmXlQrm+A4+Lsbw85UjdvD96hpoSM4PMTflnXXsttmmHnYs26xEfnT19lS\n",
       "CCDTpylxzgB2E+4c7YAvirKGZq71VdoncYcHEZ958kYurM5bkmGi3cSbc9ePHEz4pH/KLTmG6J5m\n",
       "jOKpXxlUoFi4ZyfshFI+tmUaJcHbTBpJ7YIsinisROnpaCukyvJTBMOllFYOAiWOdEGLxBJy1RJ7\n",
       "G/EJJpHe4ukYkJGK/oy5V9yvX8MFECDUrYzMGVUXFMQl57GbbyCvz3DQAsC38/EKruhAmTa+HLls\n",
       "xHi00Zm5RJSfe7TtOpTWQ0azLP7UPsmEBrnhV1J8LE/TtcV2gXRLcnMh1i/75LTlIjVBp2p82HKs\n",
       "uvuDT/4DtlL/E2Ve3+zXdVc3fXHC30jKn+BMuvFICkWN36vN4I8UpXn3pYTzpGwTm2tGbnW7eOAL\n",
       "FJ3NkEaN3CEeCRpgewKPWxGazLkwnD9dtNdRb4YWYNwmsF3GyD0fSM7vSnIiVhYEwo+m9/TC5xkm\n",
       "7JTELEexnfBOXfv4X6gpaSv9w+ooFz6A2y3qjUSPy/ArJIthot7ICyO4TSKo1H7w3ZNTYxGc7U7Q\n",
       "5aHNJG6KR3j9sMGed7r/5EqGIQ9JgfvtPKEp1uT2eSQseUCl4yWkn4skZJY0RPa2PlyXI2EAAAdL\n",
       "QZtxSeEKUmUwIJ///rUqgGW/NgPsAHLQHwUrKo8V8o/Imc992EJLQ9/2sDppLq3DIN7DXwsNOOw7\n",
       "Y93kqJ4UbRgFrr1BeP2tFfY3T3IEwlvdVJ5cgPtQ+YDkSfmtstn1qOcVjfMo3FGavfutI6+Y+4gd\n",
       "VFE7jLcUh2ojuAXMB11b5suLkqc3N+QaC1nXMqjI+9N+oLZPGEhaVt6kAhxL4O0eYYL6VKVg7HGS\n",
       "QxV7pFUGdF/xak3tT8PFh1UFbTNL/I1pwR1GYo8rjp6ellGmG0KBQ914MC+sWpPN13sieSOjdZXd\n",
       "5MZ8G7jKOlwa3dtMIV9uLRW7myebJdgxaY1mhM9IVoXy4OMFK0Ec/GONUtPGbINTEQHNlJtHj8ZZ\n",
       "xTPjcvWWljEiYOqtXp+sFJ/Fmo6bimtD4uQxogRerTCL28nuJvm9rwXDsgjnmKpObcnmDBCpmv8G\n",
       "W7xOSF5fBOqxvsjH95u8wnJx5nNyiTNf6wYgAe4tbGwffWQ/yk4tBZmvIM4hFQ025YXLLfId4OIH\n",
       "DylSJ+4Obv5XiFGnAtszz/Xk4N1EYDgEI7q6/i4lxnHGRs9jA4AwV144yF86BaxOkQBVovG00jof\n",
       "Y5wblR+2orFjWE6XzoSV4KPHhgPEZEIFv+hPLKsljgqHeWNb5F4E6hLKnGPOZQbU10WuE7PjNoQS\n",
       "8MfS16IoDWe6nM8flCMmyRsmr2MKQMvFUBRAum1VwyAs+Me0DRs405H/1W7LmRLz+Nc8cr50Wljs\n",
       "V9Hypg0rZ9muwf8fjlHiJEqBXQlAjcx1s+cHcGtVGUaIYhv9g6DrCdbh+wh+cbPWq846Ppu3t1Nm\n",
       "GAwKbqW8mncHKCkD5hh/93uMuy/O98/Y/PhaYTwQUiYPbqvM/iOOzmLHLg7fNVAggKY6Zb/LZfGl\n",
       "2T1UyPR0vfRp8FaWQdi1SG/suk2khDWQf2k6Ky7GdW3AareivbsWL4Aq1UbKSOPgnKyFXYpzbUy8\n",
       "NFWZNk25UhS4Ot8eFcr1nZcASSLm/cvPpOXiCXPpGrWKuMcr11wB++ObdSwrcwlkAv1FMepv/7Y/\n",
       "RMIM0KfTiW/m1BuzTdxNGuO4LE9y3jcIgW4ONFJVyyiaob3kkTNfrGMbQDmGmWYEYSUy4AruEIj4\n",
       "FOfkNF2zz5wEYs2dbkjmkWKYvvEr7rleB1IuKLiDPFwr+WRxtQeElH3kpKb1+IAun3lrUB+JW6ow\n",
       "zFTCsA3LHDT1/FayRFp+KA1yPI05GX50BuNMw0Qoa+8VNJ9WF8dNoIAQqscyFLerUbIJeyjJpQsZ\n",
       "i5lI4dZ1x7KP7G7WadlCu8yRSoctwPv72ZtBvbZyXuWEkmGKll/rUYLwB5YynLiQ0V1zqjHTXKHO\n",
       "mSKBqRZeIqdMb4LE4nIF1x3IuoHxpWvD7Bwg9g1pWFKhwQxbeam8DwMxnr7/ai9mylWzolx5lYN/\n",
       "IJPTXdW9EQWBrMq+LerbAc3Wo7kKWsJZIwoAreXs2jfCDabLoVM1xjsDgz8xFsW5Ydqgsz6DhK8W\n",
       "oitlF6319q9yOasvVkdPt4jlLW52df+73i0t4+QBUt3hIMDZll0R9++4qk9tUU1IMJPucRgxxA66\n",
       "hJT44SxfAgiAS+bzIe6b4XZV7oveqo8fSbeNn5Bay5CSB6WWfGGsfTaU29S6S0mV68JwgmrNzHy5\n",
       "8OiwGryCYnmgnaytU0WmA5u5Ks7KzyslyfsQIDq87xmmhX9+zLZ8ebzlAuGCA8EmoJdbnZUcAjcr\n",
       "xriGFk1kYeh3MlonFl7oJjKC8YwCRnKIPAYgT/pykiA6rTQyeFTk18dvxZk9iOYQsAI4nZNtvadn\n",
       "tS2NGfKgaAxg+Bm2fiR+670P9wHkWeMaKlCBVfQfivDq0Rt6fHFS46dqXOk892NXGO4elYxK21ep\n",
       "Ix8objmtZm6tEtgUMCcXizJdBSI/594/kJmoxsweewDlcmgxkj/R7VZHiAX4nsIo5tARXJ3jscdc\n",
       "f6O+k0zDqTccdL6FqSDi99ixH36KVy3/F2iJDLxDWdGNPeF23mebzdHvoq5dj0n7pH0x5BPp09Xc\n",
       "jQxC6buZBAQkPtXyEYbxytXaMMaZadQWeklT0MAtXUIuOlwH+WmZ0CtvRwNqo9zMtklj0JqHeC4e\n",
       "W3OH4FskCYJ9sELfvC3f23MdGmhLDZWPm/lBFItIe/2FcKKRzHddAXmiwi6WFpSa4s2tOQFDPW4o\n",
       "zOo2lD3Q8VQv/wT/PWUmTYevXiZC5XX0B/NOH4tfIyJ3+XEAgObjQlSDsxDwkD3ZBmdTTKx5sDph\n",
       "luOY7jyGXi4FpyZtAZWrObIY94l9LURND4dI4OVdVzNvL0iwvv8K1xnHtGTzUjkObDsW7mBmFC29\n",
       "BBIMGayxkqid+YcdalPhE7MTL6Km4OnCuA/KuXqs9viRs+dx5ExlHgLlYxaIEfAegUzgOUVJkc2U\n",
       "6ANA8zitJ6pnLiN8TK1Tmj4eoneYrONY2RtrteEtT7hYCIXt8Q+sZQxzwQAAAFlBn49FNEwQ/wA4\n",
       "T+saH9d0hb0ndlRwVCja/BDypw4/zMdiwzwd4aR2A98QAtAyKfUOhjJBWPI7dZJMLpdnjAAuxLRW\n",
       "pGJFgXACUBYQwTS6xhxQdSubGGjFEwAAACABn650Q/8AMzdLBjCak3bAqm8LvcgnHNlneg66jV6/\n",
       "wAAAAC8Bn7BqQ/8AeCZy7wLS9UeWzlaAD9Kiln2Ls0iQmbjgB+k+j1fzVh9WSkoHIxrJcAAACV9B\n",
       "m7VJqEFomUwIJ//+tSqARI8IY5QbInuQ8AC6OIh1/nZb6l9+GBjHL04sI94pFi+bfHE2LLGQVQ7F\n",
       "KctDgAn9SvniDjFiO9/DuQmdcqOwHLRNpiNe1STstohSDYRZVK59JlN1BFymPPMMGcxJ3l5WGeHt\n",
       "UShLw60E784C29EWuTKBhHqTlDR4eBp8E+fDAOLrflN1qGaZPgyvGZcmbemn83DndL6CkMIZ20v4\n",
       "kOMIicV19B+hiPUdyFID+99dqiAf9Bf0wO18lymMAn8JcCoqijsAIHEGYoOYFAMHwnk2II5nmlkF\n",
       "HYwGnDcX+2Oi2zX8KfnskOy2k2RyMDWYZDRLzRv/wKv28z9GVCA3GHwjSA85VWEpdv3wFC3KOwyY\n",
       "3X3wqsq06LXQJoyS+EfX/n4DssKPXeZ1v3aEjX/kHYtWzDOBocze/Ulqlnz/jUGaiPoFT5INWTS0\n",
       "dJ966X4B0nBYg4t/FuYsqKzKzcToUWFO+wFf5hgOBo67SWwnbbV077+eXDFtWrBxely7NSQ45lkQ\n",
       "6kkgviMHgnTswUFLijCyTml4pZe65/Z0VojTZhBqbMP0yRmQlCXTsKlzYGEczpDzSCpaNMAFzzza\n",
       "ETA3eAmUo4tsIpVYyGm1qiluxbYy/Xch+393kWBRsedusl4uhky5XIqEmwKRh0LsY6rv4rGxGn9A\n",
       "qaPmeF7AEoAQR1aC4qHgrtF45Sc/j6z9JPSj7wRRKic+K9m7Nckv5YTSfnpch8QAFyPOAK62TXZy\n",
       "2pNg5Y9fad9ItFId4wyJcHdnXKhzfQIG1aIelKPG4BCvoacFuayNWoltjUI4ATuXWTYHA6dhV4jg\n",
       "EsQ62Obrwdf219IH727R8i1Cfs+95rVu8oBBf/TXitkZrIkxWIVCCqaI9nhcn6CX0dJygln79Cwm\n",
       "da+Ef88KeIkP3AXTtDsgqzi7Ks0FS/ZbtQdCUeA+T10AJqzPAEyCtA+p5XPkRwVOEziAAIRhurSm\n",
       "a+4ETZjaW0g+YRJfG8GUhygFWts81eNag4hbk61RZH/8VwVi8berkhCycWftX2J5HtzShTfqTgjZ\n",
       "vUGMGxgR7mwrx+GAxarZBA5X6EWKZPU6drBbVgwZA+rLKsEiVPevRMLNDkfih5KblNJlvmw2sGcv\n",
       "dI6bo+g4O8HROakeg8Gc/lRSjeD9iFXgO1782pSUblXfAPjjUVWi7tLYXKzTDKcQ046jmhzPYEMT\n",
       "dXlhujd8PXHt1+mDX4P95kLWU3wW6WgHUZSDoUR9C4BE9dANkE4cK9pH0lsACk4mPOyBbe9whY2L\n",
       "T1RUJaGD4a2XD5fgP3k+z2lbgVc1r4YzwDt/h0fm3EhH+Y+BZKIX8pLH++DfK4K9NV2eigpf/wiB\n",
       "/AoLH4z0FFfjmsFxQkig/M/OD5Ztp4TVzOYCekhlwAecLxOprrXcOH70RRN7fpuIYPjNoUjWgrVn\n",
       "3Hy009xAM0wUdaw9lZKs3fH0IHkmjUlGULrNboK/WdhTLY7DTT39FYMX6D/wDCiUEpip2n5h+0C7\n",
       "SIYw1utazygmr7n7gIFbKcdi/CQwq8jI9jiBEVGCBEhaML8BPLFOV+5QlJ7VrOtib+dhyEU7wlHu\n",
       "iO3tQTB2Dla7rLjBNXMtGgMfQX03DaE2MbB3McQlneWfdo/MqV7PdlUVpkeZiw5i++Y6JYyWGvNz\n",
       "CMyj2xAzRYnawfki+ZV2LT7SHZVRg0zZckSemxIHQnyXUihsnXlCnEa+VzcIJJf9AjXfdr6Cl4T9\n",
       "k6a5Zr2tfgDdL1foOO/BHQRciUdlMebTFNbBu8iBxcsuFluP2Q3J+g3eE+/Czd540QTIMKHcgl/F\n",
       "s75aAB0uiTF3h9CJJ2+znBf6sLPo7hSXdaDNmZKkPoATr6hmbwyTGHLdjCiW0mUoproVfCZKNf/2\n",
       "LAfMqE4x2vUNjQxspM4/A78Y+VrXPaRLDXla0eoSyKMIZStqlpL75zgCCAlq3Xz+watZXWyHELzF\n",
       "4pCEQzH//+DAWQRnvHpLXINLEmcpKc01l8Pzyij2kQaADcLDjQZilAjVh27Wdlg/WTMJ7IOQyIPx\n",
       "vdngbUnPLf+FI+t4kbzS3KEE097Z56tiE4u6XRnqK/hGolLrGZTlBRaYWZiTt6xSv3MSBXgXMrLV\n",
       "Li/7/HU+hZwH6MPcIGMsEIyZIDVGCxdoREUjUgBHJfhdUE3PyGWormpGzMLjijxqObTh+KE6iDcr\n",
       "Ax8jidmdqfiMJeuzpq86FSzR3bnx9nJCi2TmkGhHmOAMuawEpkPdJmrqXkydEOq1l891smEf9wY+\n",
       "iPzTLPzqlaUngJ+CbLD/7n0m5Ms66arPwUk/u2SdUa5JAGIsaRbm9I7kqPDkR/kwmrDQ2z25t4ud\n",
       "DXCosnF1dbz3I/qQUl5E+fxUKjGRl14fidzeyRIv5+QQNoWrqkpgTPxIgI8ynBG0GeDMX1SaHUlu\n",
       "jP9EHcr15Mo0nxeU5ZYtxg/q2wEvUfdfzrxfduEal/dQQIBXrkDm1+TxOrRfBhjw1UxQ86ELWlKz\n",
       "wZUo2e5wNmnJ9DIImvCw2bNY5OVTEa8wf/E8PlBo4ILGaESQWBN53ei0q6wHhYNGqBjERQcxEipj\n",
       "jj0neuW2X1jNlrjgboe1GcscPWRztBLxK3pTb0ban5OgslSorH8f5oD3sSG2rOu9sJ4D5iYvxbZ6\n",
       "uYsLMObc3N/d5ojkadNVc0xLsYN/zF5j+W7X1vjjYCwx37e0zs6Qr5HV2XZWE/Bl7BvevIPP3Cpf\n",
       "ekPq0pnsoYHNwV7NiK61vD+tEZDGDHry0lCwXm3pK207QhWyc/6u7sMOfV6Re/5PgAP0HOWpVOsd\n",
       "1q/k5VGvYM22zYpsvtB+oKVCyn7S8xNS0CkNBMSsEkoENDp5y+sYlSk5/st1JoLViHHB2RQor/ED\n",
       "q4/AA1LJQOMt+lbph7EHM0GoN/F6naa7GHOKhTy/RqwTCAFprV6jxtJHvQP+FAugiUfDqS6iau6o\n",
       "1SoTUS9HufwVcttsi7w8AdceGNS/oe9l83rS4zP4BmBuZPhBimqRQiZrX3mqScLBl3VnkCWAfCtK\n",
       "HuAhjI+9a2a5sm1tvsj6sUPI+6FEb9td+wCV6jRj9rfnr1Vfzgo+OjSje9ZQelNXggzYRtt5v9rS\n",
       "pBVuZx0FC1y1Ji15vnKY72mOxl4vHJ+2z0ZyJ8/mbFagooGSxzMaUx1UQGl9MFbSW/iSeoHZl1JP\n",
       "qy4h4QAAAJdBn9NFESwQ/wAv8PaY8Jy7yc/qEfkZxDN9KTmMu7zLskGbFsA2havB5LMLo9HQBzI+\n",
       "7vYNmVOEg53oATjAGtPbczoKYKXVluX/xe5tpgI/yE5GStkHrN9ap8OrP8DQjH4Ra2Po9TVMLqT2\n",
       "9d40m9Sy+anjmx9s1FVEHVSO/ntic2n4AfZQeSjkIiAJ8QwGXZ0T0MKyqfDAAAABAgGf8nRD/wBo\n",
       "SlR2IGwBn/kJ0ygDrrpgWYxKfOqe4kbPyfkHhoGsAKfQC7JO70pspbRhJYWGd/zBXFR8b7HZh1jb\n",
       "b/9ZfpqhE0AymLzgP35sIohQK9AchNT9TtDKhjKIcUUcDpL4mHWCl/fvJ+7EbObaEq3hzpn6kl7h\n",
       "Hp8TYzlJWPVdYIWJ+RP7YUOMVhWeTW4eK4TuuYHGmhO0awHwoHDVmE1bYBgfxViyP2Rh60cPRLNc\n",
       "+ec0c2cVzKKBBb+AYXPSysPhw5KyknuBPrSyiydug2D1wVf6X4CAz/dIuv7MpUKvjppBIxoU4xyX\n",
       "Cv6+CJ13VHU5ihROj8nRNwJYlUySgAAAACEBn/RqQ/8AIq0aRag6CfGuetjWNqEPFZYvD+qKOG5P\n",
       "F7MAAA2ZQZv4SahBbJlMCCf//rUqgSy3mgKTgId9sAdCHokoDAgiObv9p946B1Hqv/5CYwzHcKkz\n",
       "irNuCq6fLAgB7AvOtBk6ABIWYEPLmKL+pvE/rNmhsNizJ8UrxEJx7Lx9ibRMJWqqYCkhc6kdLC46\n",
       "ZQ+JuYG8FTLURXMaychrrma2pgWv6cHi03r8AFz8WoFqNfWw9qdasbxEGGOzW1dIRIsznhV2DCrI\n",
       "+jUS5YnQQkIvbsYk4x6MOcioiOM3pSlWnpsR7sJvVWMvl4V1nVX/1UpVsW2szN5kuNzRGUsf2Lnz\n",
       "CRXkAc3ICmE9HObGK1/AVWXseRc4XHUi2uETJxN9iDPKVDdDfYVjQTuKmK2tf/INKAWDPjXhvG70\n",
       "St5je+ZNEUTGniDCWRvfdqcq/eANfHsfsSIpQI/K2NJwyFAKHzic78PYdoCYNEiIZizaWHRkXkTO\n",
       "1u0fuOExVq/kyMjrdPGHA8+braVihXxcSpld6D1d9ioLPX1uwJd39otbWI054/qnMFutIGHntRpG\n",
       "rUC56+ydFbZanB0BuywGB3dipH8M5kBued18BBBk2eXbhvEa9T0A7yBZkfIf/Lh6iK526seCIecA\n",
       "6TDcfwbcaX1/FeMd2t1T5J7LfmgES7xUZ/1xNla4humvnT4dCpXCGriVqFcYKnIFgxSA4TPOzCOh\n",
       "n/kRgeMThS7VmuUKmBilm9a67Qt0lX208gLa8Z76J0BoQ1mU8kcl3wrNDAhk92DKnswiOKeHLNxg\n",
       "T+aw6aWoEmDOa4m2v+2CGxGme1ttsGV30TOGPfgsyniSF0SO+WcTKvQswZKam6oG7BUg+QHSJTp9\n",
       "v+wZku3FhVCxU8Oke3MsUGtZLG2z0DdZGOAejdqHYeYS7iI3s7jq0L5WTUYSngpbI+G739GmExd1\n",
       "aIQVl2piX7IPDLYfwkqtHNgtcE9W+JI5yBHXg/qwVr0mKP7itv5QOrH96giYHL9mV2e71g5nivKs\n",
       "Nz7Cc+MfOzLdF/ncvISzz/YSCAMOysPSFX7fes4jwUSQNV2dbtZoZfdfyZ2mv90H82WUk0crnZCU\n",
       "/8WIlvQItcgcjEmk+pZnUM9ywXtXNLmZZs+Cw2/0fLKGbvP1mJ2Wd681ZB4SnSCVzexipDdo2ujw\n",
       "dMkX2twXKJHv5fMsa3n/ONlvPZ4gluyutglB+8rCC0praZlWjKrkMosR/YH27J1R5UaJG1VjUg7k\n",
       "g8PZItlWinw3bOte3154WAY+0AEJLr1X10fHmOrpntpdV80f84kvCpsFM5pjxVCw1DOHzd+NDN+u\n",
       "Mf1vu8gCsZ9IHEmlGTsHAralE1zzGs1xAvB0fMAGDJKV8MJF+8eyv4kIYKxK3XJydjt+AcwJcTD9\n",
       "jqPoSKy1twSWX5QafGQOlvsHfTfWVH4sh2Nh9pSfo2u133ADi7iBBmapnatS2ZPTMGV/DrzKYmFA\n",
       "oSB9sc1Imyu7e+CUJU80eIs6VLVTHNm8uIoHWP+tlwRnqciJ9WYZBaz8S/hWuW+AKjeayPiAfAXW\n",
       "MtGpyw9Tuan29mgiR6YQgAbX3w1aEGOuUa419gfV2+zUDhF5hjBBpDDtfkeZePUIdOajJZ5R/loa\n",
       "8wi1igtysQD/ko9YDlU8R1BpFaGHVxJwreyC+5uWFVpQJIH9NKYXFGIbhGlSJ9PfMoyoOYsgr5VH\n",
       "H0F0zxKSd1ktWovyFtyKYpC75OyheNzwd2UmkxKxfvUn4XPxLnivbV4kWfBeHEtZYOo+Kr2vQ4Mb\n",
       "oGUHb1mzI8VEpjWWYQIR2GETip7v4eaEv7Hx9pkNNUJLaX/GaTMya6GT5UNc+9CPIxSTKAMPNOg3\n",
       "8nYQyMewAG66lRSrjwi5TVebHWeYSTIjqBDDTZa15RnFah9LaufErZnUYIUIY0X5lKEOnP9vJsO9\n",
       "ngou7OC8fr/KUNbsMXJiJnNW05mN//67hkFgHI9y9hKYQyxB9/DV84DNxoOgz4F31Lvch5WSjRVS\n",
       "br5CL1stAH499LyKNgs03cYyrSvWkCDLDOOvqwS+NW6YSSUySG0+hv6CenhOahR79rrPvS7GHF7J\n",
       "W8/WtMdUl3JhiSY1chrDIeyQIxwHYmlZ+cbbkSUemncG6E9REax9HC6rvXE+2hPQ3EmzSZUeSwgz\n",
       "SPSj9Q7kFS+JU3zgQGU0Emn7ANKI9+v4Xyg3a747fDXhNSr/0Cee5C5XyBPy0Sz+i5Zabj+VDaaG\n",
       "tT7JgPucVEmciYvesoLrMMQ2tlI3iu7Ce08Yorl1CxDEjBzjylqCZ85YuFGRCuvnyQFN0e4YYVZN\n",
       "TDPwBPBvCM0WRgmmB9w9mNS/sbI3hD7epJUMIXInUeVLySg3uEjXZuoZ1mrH8Ikp5P05GTr38/qF\n",
       "3YYzhoxpLH1/d8RaIl6nZyJoDlMZxpdzujVB9JcRHPBl3Vu7sJnnfHzb5rZHQQ0O1EaMXt02+qk7\n",
       "cY+mAR9WGS30hudWhpXIJFbydYnIHbiUuXsYS3zLXDdRkbE9nuqZtGmmdC37myl6sfZmzjE6GI68\n",
       "hombwfkggsbb5YBwizMug3f2AbhRwT/WoYQ8ddT5ayaUirYEc+ZXEfS802IK+4xHyfild7DIzEC1\n",
       "rHyircknrCo4Zzo48mJumsVl2MA/tTktw9qUbo5TUSBxDjVa4GeYCxhhBUg19LauKorRjYwX2t3h\n",
       "63LUs73ar7WB08FoKhTpkRISXd65yRGYuALMyElqCxtChQRCJkDKG1uRNLQSiek5Qfm6Wi7JlovS\n",
       "yPuCQso7X284C3D1INhh8P+8A9EUyW5VbRtuynOxyPJgpPnYz2lD0pEzt0GPGGnGE5DK/LURtUVJ\n",
       "7654Xaczcz+3eulCMGgtMOjY5CX/FwnPkepkVakvvJH6wPmXoN0/JgwUJQNSiPuZUmfMh1LkiNIg\n",
       "Vj7uNz1ufgG72kcAgQv4EajtwEuiztSJnWHNorwB18T34cqlijodQgHXYXFkcm2BvCApCIlIkebc\n",
       "ySPHekpAzE/SxBhvr3nOlu5NZ6NsgUzxOhgszclng3FR+6cYvZb/wHNhnZCdYXejjrf3nRZ7cEcl\n",
       "hJBRaiPjrK0tuGZeBYpi50eNmgPwAgVMca2P6iVyKwVZ+ubqxnDrbWIdMFjE45RgP63bbXbE+dr8\n",
       "TxsD8Wc9BcKG0dAlDWyfjYJ0G2+nnD1+fE7GrQxQLEUBL+eM636w7JoSVIWUjlFr1ZK0V3xhrlp+\n",
       "yNe2lw+HMqM3WzuH+i9G95zHU4LiGvbB3cfys8yYM11mZZSyg1wlCMwN3URS5zAtrC7Czjcs09Fs\n",
       "YlwWYVDLBttw9GELgersKmxyvMVPMqQrteA4IgyFBgEus5ioKZxql7fER2Gzt9NaQvjH4axCTSP8\n",
       "7g26VCXYUdz+AGm9hs5z70hDFD4brrRwtF0lc6C+f2HVbHTVwp9h7KLGO6Bs7niltjZGkIBBhmuA\n",
       "ufpDhdlT9XnnBpiffwdzMJtfync4pQzBxmR4InuaVwabMknUILOPflTHgNobtK1CPFrvKKXWCraE\n",
       "EAT9SEduyaQ0U5v/0K+vBlqlfPKoNlNHTakNA2kDf0O1snPgq+t78OIZXYvBOC2UtWW84XbH6xBC\n",
       "BaV4Zbw2i9w2saPqZuVOpfXWXK8kQ+8DwPyvkGDexJ+v3ZJzIqqL+UyjXSwJfVuAOxSZ2X23p35n\n",
       "grgn+B8Au5WvTEdb4o5mK4jPk9nC56I+ePlpAGumkWnZVwsHiceziYbwHJE6U+XL1cdZqZRuJV2O\n",
       "7gIXYjnk9/0NHiFBkLU7PeHTlSYLZ7LufWSd5mh8xO2yUOjcvCP8TitLxoYrU6JHA8vmj28kmQML\n",
       "s13BXUaRmy5fadMER8+wclbbuJRBFN7sagv4bxO+rI53lEewFlohEdIn7jYvykiqcSSlsBC16DhQ\n",
       "HviRIZ45WtYauj9RhP2jAb5ErFbYcqhRDr57U3RfwtvhF4ec5LzAqKfjon4wIhPpDzTQej3Q6tlG\n",
       "TNiWql9aiBdB8lgPJZIx9kXZ3e9l2/+sgWMfhiDfYju3151/UT0/GLFDS4qZT0MKmnbHgQWGV83z\n",
       "8meXspcH8HrSeQqBIWTnyUGSXQvG7Z61jtVT22maRJNET1YToo3Ls8IWgyZ98+dy+jRbjP8yULig\n",
       "wYV54sR7kausxKjWc4lm8FUX3ZjVq12aTV2NV7abp53rT8OeyyE4DKe3h6TpWtzN/mdvExSqkYRd\n",
       "C+JMzOZGMWE24zaTnVJPsZ4q8tqG+zevZ7BG3PvY1Q/Llr2tH/Sr/VllSYmKQmurmHGZS/E7hsW1\n",
       "vpBOP5Uw5pFa00+ornymYimNCfcbJUxI8FMZMvXbem69BdOvnNhcJLjD3GCH87xzZh4VQawAndfB\n",
       "WkLjiYDZxiHVF61O2xSyIPFhWuzKkgU8Yl+3zsguki7k6CLOnkGvJ2zDd7oO2PnZsZ2lCUmTAUEJ\n",
       "iFtci0GOfrEg8DY7bp3uByzaRDSUHldG6MFl8NcLpvA9qiIUOKXKcWoUHy1k3MFERFGPrK0rAi8h\n",
       "I9+iwh2Hs4QZeDAtOEypBJRqwUkjxdqZHYzAgsALN4rdVatTclhVgGTTGGRG3PXbG/qRxwcgfa5Z\n",
       "bzx70t+vUX2xGPbDAKGzrKTP3umFJ4LmMDuhl1k7754xbgBO8IBPQXE8JcHE1Tgyt+dVm5CTVm0M\n",
       "ygFOU9ZBei9I4wAAActBnhdCH/8AsuxkUotcrpZK77Z3IABqWWsT3d9+mbxYK3Xr6S0MGgXlACNN\n",
       "b8FSRVJnl4eQFg+JiQ3V6yjv/TRuAwB+vWBqzXtKBl2Az8v/N1Fsx4qz6vvr6Q+xWJLEnCSh7AuC\n",
       "3vcEjaHt9IGJmi90enbmO2BQiNsxb7SsIm+bUFgFkOQIjzVSHT0KtjZqWs2sMWHRU03kH2jYY/04\n",
       "utF4TpXYzwIALB3PkGIUZ5i/FdHZgqLZYbyhRJFxDZdxQ7kL9tF+wBjojIquvMLdSR2v/13s6F8G\n",
       "JEHwHIZpPkI5Tgfzlquu+QLcA0YIdfPwScXYHTlejarBq16Hfp0xlK1ubBVyiVPuRx1jJtAAvLoC\n",
       "47fv0kpPg2P2C13ExUve2kBBoRLFHZPgR0JFFJtqoZRzqkqLuQzcxDFk7YpJvwVPPAwm+Eu5Lcqr\n",
       "F+4QGac7gXeyjsMc3A1/E3aMDS/d1CiUGzmL2QrKtCAR9SgV7X3oq3fFT4bzCORFnffbpGMTeJWw\n",
       "bwNZ0gmKWiIo1+5ptcUQVruCCeAd4gNHRki4ifTft1XvK4xhCy0xturhAQBmZ/70OSf5ZbF8+XMz\n",
       "H1yK2G5kajYfaGKEOcTbjakAAABhAZ42aRD/AEK9LWqpH4RiFRJ6ygfaAMRIgCrecGi/yIqqMIxI\n",
       "3oqSYEgHU1f5LUuRt9CqBBModtSlo+QmXPIQMKnRO/u+h6czcHA9xXchWY1AErCrbWX08cN+XXeu\n",
       "biYPdQAACkFBmjxJqEFsmUwIJ//+tSqA2wHoxSKABB8ly2OQqpiFXiLZovvazD3cwyz7L1DBpA01\n",
       "W/VAMFGP3SayKYB686oj5URf+otHmyFd6yU0q6KuBQ8JoksnMXhR/e+gFJrfxJLFO9/+BQDgswHq\n",
       "R8CxzdmkWJxTG/OAbQ/gGXVx2SokLzRVW9iZWm+pyYIshF9brPjj9M6ibwJJy6QFYJX6923pqQ7n\n",
       "XNafLCxAGgAKXIZ9595ohsjGOMAq7N3/89ulKKmtNAD0eJgVA7Xg02J2E0Ahynk75iefElRU0X16\n",
       "cDj5iAkDFZ7ubJvSXsSwoJGJr0eWOmDiK/QUyaBf6Vbz4Cw4VZaILi+7G5n7AsVkKrT628VqbNZi\n",
       "UGZH1KqxfmSyqR3Y1GXV6orTXL9D6mpPuxFTQfnEpaLTLyyQl/tBeITHq7DpIsmta+IHRxDGcfz6\n",
       "u4iC6T0MuvcQsk9ofmRcdMeGBoKQ/obqq0Ir/yNpNcxh6QKNlWiNjEZlLU5pJGC+ED5yEGLHfM7h\n",
       "4xZW55BuI3U+BTsp4fL7LnIqKdLB83Z17AXcSXDShCGncHPfwoUdqg0GMRVCcuVAKB+uq6KZOBO5\n",
       "BfNy87zCaMWMBoFDnJp3OI8dwHIn/VYlr7Ik78isHVX7ILO86Bmaz+pqC0cKos5mN2kkLFzyZjNq\n",
       "TQ5c5qu1zPiGHhmsxVKMhQHPjE1a85O0d88/vGTR+Y1R4ZCjbyOB+LlJMKWpFfooUQRkJpnW2nrx\n",
       "KJ5Ur789dfE3zfV6V+v6gaeqgzobPwm5A0FtDcnLzN/6+zuOBXPxYEwa/+g/UoonLhLTfFyRxX7j\n",
       "L5mJ7WfzjeWiRjk34/wCtp229LEVPA3CDZoIQDZsXpn+BCHjoGiLf9GmzPhXMSxDjqvKAZXGEoOQ\n",
       "Cn37fqlh3px4wyBtv3nzvvXlnxEkMhOexaNxP2ou+iFunhSlZdMF37CtDUXi983Wl5kjFFABC1NP\n",
       "PD7rJ8RZUESg97zMcdLc00whOMEvxcMEN0a4D2YVTD0CNqI8eNK4bldhbhRYKv2OlUxDwv/Nw8cK\n",
       "zh9XpWTY8aVfjjOO0qI1OEqMr8ZuJdv5Z+bGPbBZ6xPUlpKdJ1xfZCI+/rojPdkzmxOKm/tQMm1w\n",
       "l9IUBQ5/g3ysnWTUNTUvXDADTEotLbq4SQCxyR39dg450tMdBVk8/id++fdpjg5gKLuYkmYdRiHw\n",
       "d1uBeI2WrCFCktEZ2CDbl6t44C/zGpGnk9nAtGI4ubC1d/o+fD8ADZVXQVe0wGs1SQL1J0NuzmoP\n",
       "4BRWt6KqwNaapCblWJCrWgxuC9IP86RfLLD3aPiaFTPzvVAvTCE74Jx/ECxuExTnM4vh19Vjo+Uc\n",
       "qDvfht2KHzvxodyOP72LSOqCCxbsRls0yJcT8GmneGpnPC7nqan8bTlVLFb6e4V8ZdWgKX60/yHO\n",
       "HMKB7l7wj2VIx8SVBWTj6/6JEYhu9IcIFywAAmNl8MIw1OaBcaPJOWpbErUEXdPBsxZ/kNNuG7Ri\n",
       "FizgiXCuqiPkgChtJMBZQiamrIyZU2Gx0+7cFUSVknmdIqUYTY6lRBpAy93iYNasIkXpLVBJ8Pzg\n",
       "WGQjpj1TXzmz0KqAa9iD3dZOae7MjW9mXbrOgiETAUw1oUbMIb0MJEAf95qPhy6RMtH/Pfi7RV+1\n",
       "5FG9GH8EYUpypwZoHmGDtO8Fosnqb8/XKa4UuZHgANaiYqhNwBdCtzaTUnbDfaNGtxxtlzcAQbyc\n",
       "3FY9KVDg1/PX726Sl1HZpR4Y1bieVscvMTq2lGjTp9CpGlKAFEbB/uSHxFCSbmoIobIsXlpwD87y\n",
       "sXpjCiPst2GNMTGSty+PfgS7PBGaOe+DCvRFadQAJg6w+sgU3Rhx8yNBnKiD7jxNfqUpTJ9KWJgc\n",
       "68/5bqmPI6SJogt1obvviv6A5MAwVEdHcqTKfGsFvRVdwqRITYBcteoy26SmEJs7Tib+njaXr3H2\n",
       "EmHl+G2NEH7bNo4AVX1dZtO5nbuNfscufM9Sw1QjeC+R/atCx61HIZVgLNSQ3tDas0dezpUuvtXQ\n",
       "QvksWBtJVLM9Q6k0ZmsshF6eYn66euuY+fRd7Ipt7CrrLi1HqGM2DVemG/uq5li1RLf8BSrw97W7\n",
       "THP8/PDpOSkDihh7uEt3+arNhWJkwI3d0vdhcQnNsZ5PpYEWYicFIa443Cdv53QEhBPY1wV8omxa\n",
       "f9Tjw6yYQhGxya/eKcMak84EH3+Iavbj+VhiQyDQ1wWwp75UJuhKIZOQi8r2PQFuk5nD4AfUFjiK\n",
       "ZKlV9MVcjXcF0zuTMxR7J/UizGBIHK9ptSTAHU0RrKn3I0+7db7iVLrLm7w9Gx35vel56j/Yw0qj\n",
       "YGZm5Oe1MuuiRiIVqIRodOyF8qsLCt7Wf75ViJm2jWGmGalrZwU/PfW7QvQNWR9/S12MjT5V3QeF\n",
       "cCaHBvXDcLB9pGpKV/zVfEyj9g+2E5Mxo0yBkuYDbeiShaQF26fsmuDSE5zB2whhF1USJ+vLF1Gm\n",
       "AXqWJ40MDsTe5oRHjUhEC+q85uhT06iyXpvz6BEIn9drOO9d32qosbcEfWFF+lOojRExGY4bGBnJ\n",
       "Ey2mkMabjgf71PEKYHNg3/oLuB/dz6N+0mJY1TrqpGqzjxsRw8fcvZZituQk49WYWb8zq1KSR+NW\n",
       "h7c8LCz8k3zG3cShdSNxvGUSAYJNrl14ZJFqQhEbnWppzs9PB0vYRPSzCHv1LrVq1okTBdHe+Eb4\n",
       "cp/uj36Nqyq39CQdRs5fOOHqR8tt6XgJK3LNqG36zCKa3DmddnhnaIq0nLsNRhz/91XFoE5BXGYj\n",
       "nVTuDbG1QnUlp0Hx2X7GWufzs3wf+ivp4kPN2ay9EoXvzMdOJpEq/Q4P7tUs6dNSkdvISvJwxe6O\n",
       "fnMw0NOrzGRyA+JnV/DAcxnY388eAJplSf7N9Gs6P/mImuhq5lHVvfgvmmOIPN8vJXFkLTzqdaXa\n",
       "qu4WQvm81BeLObv/D7HOTjc8f7IfN9M0u4nCVAqokh46ar4RLNqRgx7y65It5VbqzM3APTQroshR\n",
       "9W9oxyi2JspK1JphsmGgJ8/qUs+5SqJ4XrFnGb8dxd3xDX2bAEAMefBl/eBjt5gfNqYeqzC34iS+\n",
       "OwPP5XZKy8g8uApjc/DbKGXVAT0CReqFbMXwsnO+C86VOuUrR5I1vs6An3OCbLjDxsieDTPTiYZU\n",
       "JFHlb+MndhEgnJQqz3m8od3mSuOytoFaHw7V2YpyzNsBMLjSOG4j0srZydWhVQwGjIh8qgWGuGyk\n",
       "kuqlBLopUAdrZlkwF2mytShC8FDN95nsKE2CyqJ6n5DstIYLUzOxnn4T9ZeeXhfB8Kug8iAGZXAo\n",
       "Kq7z77gKgULQvfqMeXzdPlrmqUJ6ypIraoPtd9M841WXp5sRdPDJiNRl+bCG3cqPHiRNYOboZLRy\n",
       "PxpoICTZKI4GrqniDjyjbvj7/Nl48FaaDJ1n/xOPCYI3XnMooLqvNEEA32NaEndLq555sDN5b1Nj\n",
       "Itak7RdMA9YyysAAAABIQZ5aRREsEP8ATDzpk9SSQ8IwnA3rTzhd7cAose3watXBSNmSRrvYaSID\n",
       "xStMALuccfgGoJCgdkVY0LRhSkRb2hZ9HV5LMuGFAAAALQGeeXRD/wCff50mVqEOQLPwHUUDT2oA\n",
       "DYzoE5+VwB0vH/JFbgXpPb3kOqmJoAAAACkBnntqQ/8AA4nYyKUWuWSDOt0zpSz8ZdyehAMIU2s2\n",
       "A3jRi3HxaKREwQAADE9BmmBJqEFsmUwIJ//+tSqBX6a6AQgxU4DMzL6IVu4fb9ug+h6RazNS8BW/\n",
       "kJH+Ae5DXwTmf38JozlzxUZKQj+BJvFFLFoRROryCe5eRn26btCphu1DAoqif4uX4MszxfBC3Xc2\n",
       "bQ3T5AVMbzC+bZab8Dc7D4rdrCbWrMz3GUBVdsIDi3JRLG5mz3PhIbYOBTnp7bjNO0ixQShnznUr\n",
       "oQT4HKqWAe5Ij8tIPUHlCmw1BhCn+j9WdfzoIWLnB5b14dzOCKHrl2Y8IqIkIghtT/DgBdUMtXf0\n",
       "Op01zRtl9zhJhNlRCAoUX7+vbsEKxzKvIhFgd3gr0y7vTn0eeQMwBMHfjryMJ4uffR83JTOkXxop\n",
       "+Ava+byde2SLYndpVJagPzIXNbjufjQi6nXBtKjINenzyen4cxh8IE2+HFXodoqxzb5/G2w9CCKe\n",
       "rHDX38LRM1agsovk8Qw6gW3SOzV48Wj8IQbpid7c4FhuheZpRFDKPRRY6Qcdxeo1VFkOGdCmOSJJ\n",
       "M8mGwsgP8pjrnZGSnjzSLLqYe+4ErBG+fY0bHq/KH1GRraZi3DmfS7lG5UpTw2nCtuIoI9BZ8RpR\n",
       "3UsaNcTYXkEJf52ADTdErFg749BSeUWeDh/Y4zZP4wlWmYcy3NEYa36zfGE1s1gACMaSq5ECJj1p\n",
       "wW0tFuEPy8+VP0t/7U4J3J01Kazso8fAIvOHuCbAq1vcXQ32IYiH0lqTA32uHX+mjBSpI/V7ScVl\n",
       "HzXBEHiQCJCuITtZXMzOVa5WaxvbEOPw5u++f7EiyqRmipeiLQaWi9nNhNhezmUlM93mShhN/fQk\n",
       "u3Q2eA3EDZ/S6cJq1YDb/7+aEsfsJ8843p1QLrbv9qRzrnoOHey5edocsDtpj6F+kzIEs7KDPwNo\n",
       "yqAZzbh+qhAqDLHbJuUFf+Cg5znCV3rWAT8TDCBL7y2qt/JSKVKLUNHci2dtKuvL/hBNTrvzwLkM\n",
       "BenGIj0gI/deGl1YS4GcZyrMFSYopwfVkl7Hie7xaEYPtTyXYQScAxaRdi8RiR1kOYUx6Q1N0CZU\n",
       "qPnldQcPhtkiu3ZuRIWRmSZeYYVRAZGSaIhpD5aedSfjVX59wW/E43L2UX/aApH9ncTYl8l82362\n",
       "0vhz74wa/0VbJCMwhap+/8SPMcMmPYXGIKkhd97Qon+3IJwURw7Wy+/pub+21ayd4YC+S+P7vzsY\n",
       "pV3A7DXqlOwSc7lrND5WX9PhQJnq+7znpc4QbvuL6Is9JXaD5mYZT2QWu9ID1dkUPeU4NOHptrWq\n",
       "Br3IqWh5+DXwGJxhwIjJ2Jc30dUNmWnyPkYZQq7o3MUXxYxVLRErW1Kn4EFTvu3NmA0mJoAqQIW8\n",
       "25j3tKYM5dz4c8aINWRk/nB9BAMuj7Yzwy/pDLDCswgouaxH53hpuaeaJUQyCgCRKd92BxEpq6tT\n",
       "dpTBidF6GfrnIdXqPsFb6qAUs0dYoQhJcWq8Gn5PuxTtT5Z3pimwWTXOkJz00po3at/nYQwfeeiL\n",
       "KjZXa4+Rdpog2OWaAnl3anr6B7OAk57njAuC3ZaX7+WpkPIJPg3p8QemM/hBEcoMe4+BYbppOmkT\n",
       "SjKvlPOGu/XrrYCSf0oWE+5CCe0iCE4TNY0a+DwV1zAJuSNenRV64lPXMNQO9HSmvG8owQsDj6KF\n",
       "H/L7STKF/gZMqFwezBdQ2FX4uDDRjKMGmM31ml7mAbmlk9lMaY/1EMs2C1GJLV4kXEbFX9mEMDcm\n",
       "NmoI6wZpaDIH/wA+7zF1VLWi4jbzGOTEBKRRw/iC2V+cuhKBD2mscBMYuTU85BcYz003Q8sUi7ya\n",
       "aP75SnGMOjExOo8zqvn/wp1ns+x8wZNwnUucWDzjIYiJwMAgpwr5R9DCquw+LJ+vqsf59S/ULN8Y\n",
       "i9y3I2uxuwcIWl350DZBugq+sWlGeBhNQ2kK0sTUObFLscDyEaEGSz/rFT+a1tq7YjM8EjIg/h/I\n",
       "ZGiiLdYz/wPCs5h6z+ilb0r2KxXb/ccm3HspH9TcyCVusut6EmLGe9EXcX1cHFfFVKjNP3A0j6Ol\n",
       "gWdsVDDsi2CuRzFOqtGlfbgdoCFhrWpIEAsuF6dY/c8ezKcbmUGvrAzdgZTfSes0z0tQuiYOWPPW\n",
       "VfZuGDblIAkUrBdH81VUEee87zeZVGk6hC3qERI//3TCFoaMfYXyDYHyTzPcLm76X4pxia2bM7dx\n",
       "PLoswtctYG/yN2tGulrWI++PslwLxhkijtf1fxRoKX5KzyPkS9CivaNXlFLG4N3XkaobA2aq5KZh\n",
       "ghyuav6VliZZZ0IUGTEwCTanmPu1kEQxGwGGFDIaa5XlNUsh//GnpemMIZEwGAG29tikOX6rpf1n\n",
       "hpXKrUqvjBo6rber0EChG2P/Ck9WQXchC+psUwxZEQIhA3ymUMDOsk0cGQYa4FptrNVY9Gr7/dfJ\n",
       "GCwdka1dqRHwdkT+eLl+n6qDFqOCYSL8oiiL8msye+0PnK3yeoZFx4sUe4iwWf6CLmsqriAzTQhM\n",
       "5eQJUK+x1OJAHZNHDOjj0xbe4DJ1oILkf0vnlbL8c02jWYqiVx7gAXpiDD8Io/8C2pNWtN1Mlbs2\n",
       "JMtV7zcAItps6z79HfbE5pS46vdLq/ZVi2xrlnMJ2C45yAsVOKTxfLPIQw0XBF8xpQS+AhHfV+NN\n",
       "hniL5KlXpjpXH/c4MubMYiZ2fehKYPluYPadf77Xr0XsluFYBI9QoVVScLCkcIvZzno92shCVGuv\n",
       "yeTv19IPgGtc4plBWtSVFTmgbeXjSsUHvUfi0+uxwvvBqeWTq8IAWUaYPxZ+ariduh7ZnudwzfnA\n",
       "dIrmsbsPy1sQpe1rSZwn/c+2AGIpixLd4d9Rchkw2XoW1fYIUyN5verNE1ejXO2cNuNzUZdTsQBf\n",
       "ft/zsEmmf/jbjJ7nYeVgsPkhkxSLe43vCSsrQgLi9HtotZlyEe4acDicaBlej/Oa1SRqNWygB+tr\n",
       "BkFjHBJULb2JTkPjx56qEA2n+HdFB5NyqI3kCaCUTJcTHAdk3pFGHRmomINOMqpSTfc8Vfb3wccE\n",
       "k2tO9fN0af8Yj1YxhvY3yLqKKhXCvYvvM3psUlHwgBgv5cSG5h4X5Q46nYCrT+BMMRbsRRGo6UVk\n",
       "7OfdWJIuhl9lhDvSEf1HsWDakOj7Y1+L2JGwGmCw9Kha/RtZ5MFG6Nq5BUpuVuEzNDu5EvUETrTr\n",
       "jKBhwbMPVByOzjg32Eo997oRrxIPV9DNh7NDGcQs2TZWyUhrV8AN/wL3n9+2cg3Tt/zj1XnSxXls\n",
       "Ng1q2z/WK3oHUQHlbhOq1JqWyUjVsHaaCYddfwetRj8TWmN4uEFsO2vfSi5VSbfIub18bHGVpDWM\n",
       "JnFR0yEprb7sHdp24D6coG7h1UkW7rcocAbT+n51gDE6Fb1RycswTjym9evJr4M12wcQR6sTCBL2\n",
       "kyWZ9m/s8CdhN+fZ0KM8456BlwamQDP+fqiAKeuosBQpbxSgGt1Xz0zCPHp+sDn7QDtoqNdeMNpv\n",
       "wckEmRihkeTGfQxNkGmHDGFCYCyqYInN37HBfLIoDXIrXuoNI3ilNQiZewC1+tty/AuKDjTv/27i\n",
       "hPXwHbuOdFwP13Cjy5OOyq7bpLrB+2TIsiG7WZM+xQ5COj39/uVbfaXQ7OIxN9R5iWyfWQdJhfxa\n",
       "bRPgGez+1ufcl/LD6iRKvoKDIaU02dw31WxBKOuDjvGa5jjTuhKwOPM9o0aLGK5VQoJNmNXH4Fbv\n",
       "oEbf0pIFzdCjlOm7x2oXmdVQT9yhuOkUX8xRXC7FUmFS5lL5roewlcXFq2rVFZLoJXCbyEfejjuK\n",
       "UxeWhXl3pAsXIyubAa0obsLwX330Q1+wUPM9PBgkoEGYtKZYp9dk48LAbmioJUg1bFHpAJ3OlkJr\n",
       "J8eTkCCZf6oHQ3Ey6fRSjSkIRWDzBbz5uCf3oduD1WptmKwAU4diBn5xrYV9Y3og4SNaWi6gGlh2\n",
       "7SgjyBKFjRdQkiN/uoijFHqL0lLvSA1cb6tHQL3fUr6r2HrD2Nj+uOomq6gkv8SriinnZtLH9bu8\n",
       "8pxQ1rqZBzSLD0EXoFyWqyEF9DDN6ryEzl50z2WOrjaHvQjywOOtbVlHTttDYdgfBAhln494H/FD\n",
       "GSPljPfV/JMWYyMRZg8Js5L7rCITQ8oKXaC4nMDs6cdhb56KdzZMvxeLpbVeA6L2ULRczapGQUeM\n",
       "uHOVUQXMLarOwFI+QHnMhJo7MoKaurIPgXzagjivAAAAV0GenkUVLBD/AFxKdnA7XRof7/PHQtR7\n",
       "FMzQ0xx2i4O5OUlUWMAGsWzkHDI3HBeEhZEoH5O1u98JtTeA8LmPvxUqO+bTH1tg+44cgkb47BHz\n",
       "r9yCtaFPgAAAACABnr10Q/8AvS9mQARuarDUmx3Zh+54DrXrjEUTiCnBKwAAADABnr9qQ/8AH77G\n",
       "RSj4oJlArd0EmXSJaxvoFURWgYnaGUsjGUAKPZnu5OclWlBOfcEAAAc3QZqhSahBbJlMCCf//rUq\n",
       "gSyvdIBLmyZJ/GevMdUDnLbp6o8NdPk5JvEffeWx8iEpVfrm3LRTZaTnmaNRB07iRDI11vJIh9wq\n",
       "YxzqU50wfBNL+7nfnKSeiaB8tuzLGy7vS3ghBD7oVyTe71o+OKUK0feH/BRjv3x+XK32pumelVLm\n",
       "BXAoRP/JXTIyss0VyqiAMGWh2InVSLcM5vpaa8qBhz0CItJsNPSTixoIR+TK7zjikeGliHWpI05o\n",
       "u8hrIxnpO+1bYB6yMPbLjJYmLaRS+LxztCnlp4ev8bE+dkeeTIg3cKBe2SqV4yAEYnoDp83GHQ+A\n",
       "KnexDymTLIsgzDeT3iIUe3kzTy0RReqt2uvZVgQbxuhk/uh3CS+AGKPaG2Oiuwe70JtkPZJ5k7ra\n",
       "TvPw2LGWAh5lq8QGvbAvkGlx1dEamvb7V39soJO9nr+7K4+bFf+jmkgkd0n7JFUjcWT/fcwifChn\n",
       "KjDvUmLeMOfZulz6RrnB3nDYxNjM90Tz4joA/uZbRmX+lB5UL3psybcMwGjaYwL35fgtw3pyXDwq\n",
       "VVY+mxqvTsj27OgXiQM+grF79Ptl17RiUaJtVL5FKN9GMQvZ3ZdSeDvtDiDKRUgytlco7xGSzBMc\n",
       "0r0G+qJuCrB1Gx5yGHbfmqzSQCywTqcmS1sigDxlw33aB7wuIRMJwJtTzviTK4pivf+d/OuxwWnR\n",
       "AWIibnqQbZWuCGb8Q3XrPiGI+un8iEgSUlPa/FagftmK6me8jPSvwmITYLfYaKZywJgICczambNE\n",
       "jl8j4PgpA/aDSoA/dcdsGLw7cYgrqb7vNPH0oSfze3Mmzsdog8xaLZe9jVj/KRqBVSqEVvZKA427\n",
       "hA5Pd0Kgbo9kkdIlSldq/DX7u9TLgPM6KbsYwamH2KAOqKp1UhF8o06sslVdM/y49Jzb3Kqy3e1N\n",
       "7aLCZ7DfDnSc60Mk4thK3rU4GY3qy4B01txCoH1iA7LsiYkR0/ziHHBvehvl+SM8vbz/FQnm/CQn\n",
       "Pjqf+sGJ9WIhJyZ/GmO0dUCA4lfb9fvH5t/jI6XzYa4Ooa0zimss5a7KfFgsZWVrVERBC+gqmN8F\n",
       "ybn2n85FG/sEfMdVUsFXdZVdipLN0JYgmh42NehffHdyf6q+pg+w75txJwsiDf0JfSUTRPZQdAdp\n",
       "52U2rGrUAwChfV6RaX9/0RsM/fpzJBTy3foOT6aSwHfLeBrxeKnDz1Ex9SJpH/GqnwuT8c7AUdQS\n",
       "UztkzBw+bPiCAMfGhqfIwh59q0iAzQdqUJObB3marCTYvZGBu30RvBTpu7UtQGR2WhVC9Gxhgnbf\n",
       "WKV9ul0ca8/j3yGW3PlNkBLN+3OqkdqaYdQP6MrtrGtEFKuxLxProVickxxmnJoyA045amGpOvX+\n",
       "OSOdmVOurTiaY8rq3XPfmA/mzdrele8vbCpkzSK4dLqAyzZ4HXKVvsG51UyUMBhQmEezDMNorX0P\n",
       "0i7mQfRwXmNWUkPwoL/HS9JjHonw4GhBxOGgbZMTX/1rErGug4AomP5aYEzv9VmC8L5bwgTlOv5N\n",
       "PfQrr1jWgjj1RAguyzWpZCHCmJqBUtDod3K2EtQ7bzIlXB6b0/Rur7iwM/vssUzkoEvLxUwMiwq9\n",
       "ywFVyL1BWXtTWoUqwyMUfLPJ08Rm7hbXfYQA70K6YQtw/U1cVjkqn+uLZnuONHkrWI+kWWBk3Dht\n",
       "a348NOnZdnBCjuH8CwooBl6gAACNBMtSACBOuGCbiN64RG3YbjGAkAbbyLCi+cf9BRy0Bv6YMoxc\n",
       "oYYkudW3Fn6LtdTUGpuIxhj+tfOBFjtOFOYn3UrHdGAuscTavmPp3L6fKIsF4i9f0CSn61JCetMr\n",
       "yDab+cb9DQWHzgG8jL85b03kinPYodP7R0SYNn/Ec6OLS0/Q0x82HG5LZyEWmZWy4pH6hIAOiMt/\n",
       "EwTTG+bj39c23DICS6OD+QCOHhVS1gXUd/n0jUvsMBp5eBZW0ODyIqq2cD0WFyy1JLwQMGFZBMVA\n",
       "0FbJGZu91HwcGrB0HzdH5XmLpiZMfYVUa7UxxTA83U7dc+1A/5dblYUAtUaHQymPncdZY3lAKPsw\n",
       "ZBFRrxCOimtrcUJEms4ZgTMtotrTBPsU+29VaJ2umWWdulWGFvSrFlLHXzZORYYaB0xQTxmyqIhi\n",
       "312/hsIKLDmOkQ0Y5yAxW8gMgXwuMoFCK4CDZcTZ++k33yjj58BuzixT+e9IwbjqYPq1GDBi2N1q\n",
       "vSFQhXoefyB33+0ACtUXBAN2dPTufLYC6Doha8yAt2G/6Bn1Tk2rFpIklerUicH/kMroCqXCol6A\n",
       "6vyA2GkOyeNxXqiaPxWuGgLxM+hpvg6+V4vLvQgQzTnB1gDOnIKDNfszPJt8TX3Q0sb2br/kdFPF\n",
       "LIeP/mWMXeQE8/OTR0cgcZlpTOpvbYTIte3qb+CUfEm3/ni2UEDstnqjv1vQFwnchGmityAFpj/J\n",
       "UN4be2wc/bgAAAYBQZrFSeEKUmUwIJ///rUqgByAOP1AK8Ay4Hnnc9kuVelRGpBCesuAAq2Kaw6x\n",
       "mtkOe/w/Cn6iT///up4iWiIzZ5Wl2SlF3vjKKyZC0kshc15AizzIJhHNO0G9/0WUD+G6R8fQJ/vu\n",
       "V/vGevN9nAeP39BXlE+cMXfEclg7wzrwPVEXUTyHS+rK4VCMJOMYXLnznGUaDAM8RemxHdFZsXOR\n",
       "/dL6qzy03JKtIyu9rYK/cGIH3tq5noaQYvrrxrGbHHKB9TFJGlJKb9hN4W2pN6+x6K06Z/SxqTZ+\n",
       "F35t9r/1+6rgm2BRGSw0YzMV7+Ps+wedohmhKnLlQ3auJ4S3LzKZ1dtfk+NSO3m0xmUeQkKjYIfx\n",
       "q3EYT5Ed3HZjnbltZB9tjftk3t0a8PJ7TjwSdPyotgMfJLP6WUQ5zKeTSbU3g48WG3z+dBR0Jfdp\n",
       "Uli7iGubud8e9H/t94m3WsIdgf/46yU+Qa262JhwyevFlqh91MB7wHQdihGEBOKd+aLsAlh98VVL\n",
       "scPOsT3E4x0FM2+W5aWaI3Ehywv1/hHEDuSXggaeZQzsKbNJeWJVEOTAKKuyG+R9TBGGZjRGp79b\n",
       "uohMkmZJZ5H4hO97EC4y02dP3HvvLtkhvHnJCtK6DaWop3k+zj6mcES3IWkrzWcK1FfgyPQy7j8u\n",
       "+yr8q4O7AdYRfxj5o2zNv/PZu45gl0t8KIj4yRKc1UPaRHbFlZYWY1HuYfi42mLnKJoikI79ARg6\n",
       "LuBobZqT/E7OdyyUnJn7eoyPUfgSBaBJcFszjb4zR+1Ro4mJfxo2939YoqMmFsVzcvLRk6VvNWnh\n",
       "4PK4vPzxsgqIsi8Wt1Pz/ZSEmQTUpk/ZyOYocFMb7Ordwoh9CwHaDYDYatygeY5sU5PuCu5PAvr6\n",
       "rjl/hqzs3FenLuwmANHUQsC+RQUNHvT/XLwQjLBQI2oQljpXrtoXTf7VzOu4s2i4fPO4uiftDaWl\n",
       "sDQBQQwYv1DWIOCgwq1U4dOcsLPVxoFn4Iyh3aeSDDX3oDRbb7gM+lacAqJt5A/Vku1j2OqA8zpj\n",
       "Wjt3o7dX3ZM8z3nLs0zIIitZ+nCq+iykZNf0FtmE5o1S5bygbCAgMevUUhs6iCZG59ziF+Eci+i9\n",
       "vLJ1M+cT9QCqiQl+kVefjFfoaFKNBRy2ubFfWnhhMqnwIoOGZTB4A5YsYp1WZ0SXVIkFLGgvr/zf\n",
       "Nznzd/JdZkB0+4JxbGZJKzlZ6/uKyTRkMePvc6n/gkpkTrLQoFBM3Nrni5i67IbXJcFvb6pm+L6B\n",
       "04udNAERQhFSHUZV0M6ACIqAaAoqgRActdR5nG6JGKG09x/EefqTcms0b2h4FBTmRoWYPIuruVKd\n",
       "YgXAi1iS2hn+i9LgvHy0ap0GknX5jFu48UxNqkuwCUYOFL436XfQ/q6dsEDwIM2P3rRDP5FyuBN+\n",
       "DWYbKWnXAk3xai9QRHWVdumqVHo1roedPrRuhZ+qXN0glJhF8azm+eYnytU21dMLjS4g5gGlLg4B\n",
       "xRsarpEJ3FxrGSR9ab/DXvQv6d9TKBqnc5300LGyy5Sdfco+PtXhXhm2VCvqrjTEDYU75Z2bddk3\n",
       "GsR3UsYSzTzBzzFkQKi1aTdeT/CVZIhIvIbMrfjwsmCvwP+4dkonvMse801EskyGjraodt0BWCZt\n",
       "DxSqFWW74g7qZfP+ORBaBVDFUZLFsL6MuXWULmfq+/pjysWPJJL48LdIDZieAg/ch21aGkV2C9n3\n",
       "cSONdJ7Gf9T3xTFoYX+vGuHnbBmqxP0RN9pwhFwbb+sZuxWLd2YQsJLs6LV4T2Eym1nUfc9hx7/V\n",
       "qqH+UujNEsXSSmkOgZYu6ah60lcfzR4I7y8J1lDcb7crMuRMbmKcvQlOGH0h4cXCffHY6gJae/9x\n",
       "Qh6bHlEOSUH4ZiVxF7UyBK1r+KphqPAAnPrznd7N7ZAMcIQFVQF7IDqZ7UNDNtb6o64d3WJNnf7j\n",
       "/l60pSip7X2WPbkL+qV8HW9RVH+eu9BZewm0cE48AXtg7EkpeEBVDHqhD8GcgX6LLD+WZoNhl0Ul\n",
       "uTPmuyHtRiV3gQAAAE1BnuNFNEwQ/wAMPQ6ZPUPuC9Q5kTijFYq+Oi/uDx4WfyfVkr+bz+lUnth4\n",
       "2lsE+ciy1iSAR5y9PAIxHb39w2gBWKLCSNbKXR0yqeQ0EAAAADABnwJ0Q/8AGvujB8KTQcBVCV8t\n",
       "P653/sc5pKCk7x2hy8R29+ZCQAk/OAoNXAtcQpMAAAA3AZ8EakP/AAZHx482g1uvhIJG3FM1GTxa\n",
       "gZb9wLuQizNKSn7R40ZG3vzJSADzKobXNYFkxKsR3QAAA51BmwhJqEFomUwIJ//+tSqAASH7UOUe\n",
       "6TfMNhppp6ADjp8/jfKBb3ulGHW3TMT/t5QbVB8b/X7AhaPIVfm3hMj5kzdHNgphYkYzVzj5FvOB\n",
       "J7O8nbv9x8M4RfY2r8f4h4ayndO4rzYgLF3vKKKNvfy1O9eUxDLjkqerrA+LnTN3ocM0/zYrrzvn\n",
       "QFwH+b6cI1C7ivT6+emQejiF1e1NjpISqtmI61onyp1fBsuTvy49aMVHpwC/fbG02b1bF6M8JMCt\n",
       "6b2TMfII9n8Kxr+hXEJJBkUpqSWXTc8BUW9NrtMSyDKPeUmpWFEedMXV2uzyKXyCIqHVaySdtbzs\n",
       "qZfvN1yENw0r6TPQhhRTojsGIez+B7Y6Ov4BpbSvCVBb1IWEucsSHfIankv/4NZUwW9COwPTpctQ\n",
       "8HYuCh96hDhXwUHHo3qGPtYUHzsM9El4DSygA2dtpNuY5EUQnOlmQRpArF3l/7FLFiVgR/elc9+7\n",
       "bv2S7CYBOSKlSP+xr2UF8wzhz4YfvAuOCfDHaLLnj4226JTjDSc1apbfWDbMlwcNtxXd6/Gkn5PI\n",
       "j/CqTaNpA2BKLSeSdbgi/5nHfd/YpkVx5ak7eemQ9S6SQiJyQvmQfpyQXAb1dg6CLv0KTDsFMTRA\n",
       "r4zlUGv6qsmi1JhZ2DOrKHpjplEw33tsjnwyyavyjeX372SqGbBRMvYfNP/9YPMMb1bpLejAvhbc\n",
       "sk1L3ZnVyU5VmOCj2jXysnGF4QZa4IdT90zZR1fiXuA5Uvrrdi4EqJSDWTFWwZaUtr8jRL4nd0ab\n",
       "CJv8N1sdHrWjaIcsFvLUsL6+j5uX0STy/nQWF/7GBsxJceW2s4TR5HJifXw+tQ8YOyYDtZYS9QgK\n",
       "+72+wS40R4Iry0wtLrasOjTwGKJSCFaNlIc43ck3dX2FVr1grc26r7sS/npZrVdfzSGu++vLqF2t\n",
       "kTIJZGGFWJaAAP1DzgiueAGke3dOdsHh2pB71rp0XP9Y5zcTDvroWiExZj4TssTzVOMmV4DHCRCL\n",
       "7Lcn43nvt4gbrVzh7WHldkMnvWxyPI/vyYUWH9QnG6xyx6RySsAFaZFK3xKGWwkTfQwAA5auVQi5\n",
       "mogNb4HGhZ9l/FhBIKjL/SxQFdcbNQolyM7YF+Vw6EJNgEpL3NigXxr98xc1qt7kvKAeLPgfXH2G\n",
       "VEO+4jaBC8OHfYB7IH/n6JocJo+weNC7Jhkfgc6G/wrLxS895fvMZcdfoYoEjDhNAAAAQ0GfJ0If\n",
       "/wAGSDLTfsz6pR3i9LKnr7dWwaFL57IY/rZgnTAUnwmJ0We3bAEdC8gBNKBz8sPT7/CZz431QX6p\n",
       "FnYQoTkAAAAmAZ9GaRD/AAZG6TmGQffPN7EsiNlu14uwVfEoftCi6VLZQP4FuI8AAA1nQZtLSahB\n",
       "bJlMCCX//rUqgL7sm9pAJ/xGamxn/0+yIw8aZo6eSvG5u4+t9/i5Udee3HNgHcm3haPLpnT6U9Ed\n",
       "qD9OBATooAHiFB7SjKLmfn1400m+dulJU7UxvprHMUiLRx3bOGKV5XgmAXuL7xs2yp7s9hDxvx1X\n",
       "lNQKYaM6lmh0CoXLLsS+GS+nfCCRn/PPXKuJftdDsEoW8UgzBpSpK/kwyuohwnCfE+N1eQn+lprw\n",
       "nmjkHRq4L9RWwb3KViIRrXJhkWtxOJaz46QVsWeCWdDK7bwRu+nWqemk0gOt6BELTPLa7NszRer5\n",
       "V8XX5Oo6n9X5KkxP7A3KWI/GgKBr8PRutExRxdLaFUNxOKDkCpGgZLj//OQXiDe9uLa9wiSRhO0a\n",
       "VvB24pjYpkmaq3n2aTGEU9STeWUmMH21oMlFzkXHpulWnI/Cj7IC0efjWPx5carZvVTP50vMXA8e\n",
       "6ckfHC4PTyTU2JarA6LNeAZEKfxQLzSoOxkAozptlAziFxcXbxCrNnc72oxbUfLehVcU4wGPrgs8\n",
       "JEafr5ohbSYtRTMzKysw9Ax2iVs/KnkIJ+PsKBnD7li0VTVM+u5a/4joBwSC0LK3D69Y6gkieAC1\n",
       "7SwKjnW606cdGEznSaDCgBv+DJYVoWsVgURsFVqLD1rGYFO3U5UqeQPF/SbHF6QFqTpgOjuAUeXz\n",
       "c8tk7BTXcGevDwREbmY6caao7YUZHV3SoQs8/Whlw8rvesB6O6IAMMe13+cLscHRyPUpIhhk5Pt2\n",
       "xrVjfKLj1URcgBzqiHa5jW9tlsoIFEQuDKhDMqfYgY/JKp3DXbCusAB6XAeMRYR45F9w1E9WRd8D\n",
       "XHT8jwxpEvEanmnxAOLgdCpjJkRVeMzN+9EemHzjlZZ7G7U1XQH0rmwuq7Nph1FU2icJbqTf51jf\n",
       "YgncwtoCfNQMHFTkpDNc7/xZigBNzVx6eLKiHZ5n1+dL13e4jffn/gIZ9jsCcHScocHqeBOU8GK3\n",
       "gWdF1oZKgCZtx1UAfyudAgX3Cjt7kfx/ClzMShf0m/MWi8imTLCHJF9KPmEHnDO7Dc8nLIFqrPCF\n",
       "1X02u0XbIX0JxLAoULgN6J88A3v2PN7ngPswQ4MlXja8x45G+TODqwjKEIjJICJBH4MI4IAMJ6OA\n",
       "M6S8nrDRPpEeur4lLCC02AmoFIySv42J4TXyj8FfgKAa0o77fmF3QP/B9PzcC/FoaQeK2C30MghA\n",
       "F6otG1YShbRgwI3cuW8BaZ0Lrhf178BeG7gqvsnYb6b7t9WGVZDdWRQuK94j4UdkyA+vgaD5rqmK\n",
       "7MN8wWC2RenMxhG5mMpXP54YuyieUF6idVh4ESOukdsLWnhfUMggSKxvkOi9d1wJLuvKGwEMiAZF\n",
       "8hkC9n43TR5vM1QwfT+SOyYaoMpFZwDs54sOFEHtyQFaebAoalZUmlwzQvs+Ad4KXsk26tg8NsEK\n",
       "H1QrgmYkQMUM1GnICiNflgUzT3pbsamTJajzG/9hmDDh0Zld7AHW5pPd5f7hWOVoFJZTzd5Ch4ai\n",
       "UdsjkrhiDmgZ1e8IHjxQ10xD2or5NSSFiOzt+BLQa8NAA8MKZuky0CRto2azOajPI69OJ7n++fts\n",
       "EhCCdvOgbMJ8FbTUAcym98Wv5jDipCFSd5iw14lRSAHzB3o0w3WLckyADL9CKFvBLo03p7ozTLTk\n",
       "YFzTUCf77exjxSdPHnTt/qIbbKBAZkRShcVnZlYPjRFgGXXolw7Nwf2GXrmhYKLKy9TydrySmHet\n",
       "Q2GZ0/jRNc2UdipiJUrdBc5SG6CqYg5NqSkNQjjfuwfkHpcirVKhFXsPCinrTG99KZkyiwTk5IK5\n",
       "2tZQRAcUblBmg3lGlo2sORNZ0507Nkl5ggU//eRVUfWUwJ8bt7pgY1ixPPCel9w73vfFR8zNxlFz\n",
       "khJ60XDTH/1NXoCBGf411B8S8eQUX3p0NGTD/NO/SxvqZl7x9pMQKC3MUN5K8bX7/xK1zsVXH0QE\n",
       "amHxRVu28zbFT8+1E3hdZBYIR1fsCleOiWKDizLiakMlO+T8zonoJ9bpp5hAdoeVz9iy73XZhMzX\n",
       "aQ4M4TCpNgmU/3FiwbtdGYBR6oPpyX27Na6due7xpm9Jd9fT+K8Lrjltmv7VkCXabNUfXR8bl8SG\n",
       "+rjHbocsAQp0krslS19AoKc/rRY2sfaU9AP/50zt+QJeGGFCQKqif6ZuE/gl0WCNeoYs/kkTI2ok\n",
       "ZZsN9S3CIhrS235IkoGEVFQ9iLfCCIibwy2jsqk9eBv0zBGryjkGo1Py07dCKfdase1PXY+kk7Bq\n",
       "Gb/Kv/auxPFh5LMsyq+B62KXxSO3XXPGAAEOaubVXA14k1uZ10jdaOmXHWj2LdiVqS4D1Uk5LeDY\n",
       "Y5rNisWRrHGizK1yloh0NC5rtXa6RBQ8kKXnRHP9Tl1SXn88EaNhwtYmw+F7uzZBwzu+Vpw4Br0A\n",
       "mVs+k1UKeA2arob22Kyz4ZJP2VLw9Mm7alBQxL+vIHWJEp1veb+ODsfZZrG1aHcxcnKtLPEdAMc0\n",
       "ClkPtkrYftnBBz5iAF4STQdzDYnYjQfuHDWUNccVXuo/yboUgd1YF4hlrmgOUaJq91pKgM8NnLLY\n",
       "GPrihh8pFsyIaLPjdws8I0/igBasiQDkE31NOVKbXouLOT/L9XEzFNPUr09O3B1VIqv2HeqKKgfh\n",
       "EZYpcbSH2k5IyTXaZ9BWFEBoJ4yM4yX2jKSSmmYSYv9C8rQCJJjf2rSq+/DfY9i0qx4gU5/nC+zZ\n",
       "SNqLEkpo47RPMPUBzmzKfuEQ1cC7CsTNh4iqfdcLNptBIQBrTPJMxU83fx/3wRvCJFBMqiTm1rFa\n",
       "eLfYnyyz97S5MTZmV7gYIXwPbk7cOH4mddQZ+wRC1CzxwwUz6VUfFXMgZp8VD3s/vvh4cQZ6el0V\n",
       "oPlS51OEgO1odFmNwoQi4r4E1r7SFhjypvkFPPnApaD3At4aI8P5h4SWuV1IqG+veKKGwZetZp41\n",
       "Hqc8AVvH082bwj/bY4BMoZZc0I/wtTCDXCYGy1Uc+yI/X2HMbP7gzBoZh5TUfSA44KKVinX0Nv9l\n",
       "6IN+AuuY3LxTLbIlcWyNDTRV59LKKw/GBxbKxMMu1NeuIFsBssgjdwO1TjSeHNFpyOO8XeO4Kdvm\n",
       "TUKCvRV37UrsaK20x7S2xtUTELhOBbGM+rTCVYQn98v99NvagFDCFidkdWo49k7vw8dKB1ds9ARV\n",
       "NU9qj/bAZkv47PFbP8bXjPP/Q456dWBciyysv+y8jqmHOS/dP2BR/kHPLxIxZ13eidsC9UDN395/\n",
       "wWXTG7K2EsW2oHAD2JZiHYGXxj7YKs8egCWK1WHUw529C7z+JSSp+sNwjTqv8XBycMgvsQvCT9Rd\n",
       "T7ChrUXB4XDUiRQ9U/9+tpn9KEKOy7ZVYu3c4/paS5XUKgRRit+8TggxjjHBGzfvDKrMILR8g01A\n",
       "Uif/4rjGYMnp+EeccSPzo/rBo9gtX5xxc1L37nxgWD5TFQYoQ1q3LzsCuBc126wOPw+6gm1hY8Nm\n",
       "DuluKeY0YTyVkKrs6TFu7nPzxQXaFvSOdX/T1ZXPXLa2iLaujIpyCAIAJXesyHNDk9gsLUb5nmMQ\n",
       "kHFQRmq5c4Hv9YtRYR4DvyY7gnxkphMa2zIaUgn7ISWiX5O3oMy6Bzx6NvlAtBxlKxfT7y9v4nKf\n",
       "jgjFgKAKO94eouATnKuVMCYjOYmQ45jHg6OrS/uHQeWX3IHeOSVXYRUBum9rHblNB+04euv7JR6a\n",
       "ByFbd4u6J0Wu++KHe5d9KCVYHWXAAC/FU6JLM8RI+QMBWl+caF4OuB+BoJmnHEcd7JdloXo3SzzD\n",
       "CjJN+gEbH5f4wOV8YSQN77ZvtJaaRM1wUS18pm0uBoiYVmagYvu6HqidLuNvsTn0SVe4JE8sMkSu\n",
       "6Kk5U6xCA2DqRNE2Zy0XWWbay68+Ao3QDVWH3VGOvBIKd7Oq/zcFYzw8/6HctFnUWPcz5DzMVLNr\n",
       "MgH/BL/Tr9N3OzpA0xm2olcuN+tLkJV9Hk54Sx7lZTJgmIkIwE0KDcBiWR7hxNwafGm8EOOKdv06\n",
       "O3CFdseOGsL9VFBZL0Q0yjnNKBUo7ETMJ5S/o/qe+HlIg/LqRrbzGF3b5C1AOBurP7Ko2+8L2bd+\n",
       "bUkjM0oQaqs7RAKf5DsNsk+uH66pzR+gxIv+maY8Wxeus9fEWdf8T0dwzKxveTYtJTz6vl+CpyiI\n",
       "XZ451sccDvC6h9t7xDl0zCLVkjjxYlJjetBVfONQ8BAp31jpuGtewRs4AxtdQPmVcw29yboah0LJ\n",
       "Wf6ouG9BRL/+liXBQLgUTTj/qccMwrY9JpuaRq6uiSWUDFpwFL76doORQWevVaMf6Kz8PLIjXPxN\n",
       "P5PB7lmf4+oCVaOQiBSaTZiBFHltysWu3K/ctzC7cVtJHXniPIGLCfg0xBH+DY96OjahnnttdIih\n",
       "pS/9r6zzh4e1fhIINoDyBuXaBX7eznOgEg7M91WNXsQwlahaVxNDFd+CLcYto3fTlTTld4TCOdRF\n",
       "gW/7UWhQC2RVKO+A5nDvN3qAcZu+mo2yfmprFlFrh113N+Ij+qNMqAZRmKJdId7pG7j4bO5hUTxK\n",
       "NCUOnF0AAABwQZ9qQh//AJbo0g4Fhp0Hd3O7gOJd6JQAuNTY4E1wW5Nb8js+zK2JslwzVumEJQjB\n",
       "OoefGWThnvReRvxp+pJgONt8OMaBdfwmMBRSjp9IzR/tp7WjN/EQN0VvAaahK+/I/9NmegFAvS08\n",
       "s1sNZG380QAAAYIBn4lpEP8AltyTGehSojhe94DBJ0D7oAJJK3QdaFpK+1YjTlXDP2Ad3dodYAON\n",
       "h+KQEdqRks1MvbTe1edw24eapeDhaTShqQLD169RRigAWY/5WZZarbdkmI2Wpl2VewBliU4rOa57\n",
       "yK5toPx+QqOayrQkFZjlfsXpUn+zENN07P4mQNePJ4ZenwalOjmjKFcxOzdkJbFcvNcQsQJE2w2M\n",
       "Pd9JlhEerDCXpQR8ZhObah/tefU6Gw0DcO0bZHUndJ+NNNZqtJlfTg5jub3iPI06WaphlOSTjPAG\n",
       "n54W5HaJo9mdaqAZ0vozAKKZ4C6WcNj01JT6KqiAPw79HQf734LGDrHA2N2nTeDAmTJHfv7Sr+hr\n",
       "WYfqi+miv9sN/zwOWkeeAovdk1wdfCOAysSPi6y9Ki5pA9zIH/nLWps+q96yqWmPU78NRw28SlPw\n",
       "h3xKrboBoMAilMFm13v/5okJR4uA1DLN4YE8ydOqYpqyJFG3JqW+pmnA+GGxHhnfuMdTlENFrAAA\n",
       "CDJBm4xJqEFsmUwIJ//+tSqAwGj+UAWYmc65EtjN16WVhnXAov19wHWdjyEDoy9tVAEovMfOUFZg\n",
       "0mVAC7kHQG39Q5JZM/DbrQQKfhmAKc/9qjlHXUIFAtU93ZEgcmi5R6xQO0v1Cx/QGiMTAq3wUlA8\n",
       "rgPpxiGhB8QC0A78jrl8GEpSJroGAS66vh1rz8Hg+MNGnu7GJTgGWUDxOFxiNOQGXtalGMbRVn6J\n",
       "3w80eNdv1WfhgaO5DsOvtsK0xspX+6xCBJvl1lgco4ukOvYzMNkpYaMm4gWB0795K5fauFoGVuzX\n",
       "r4Ikp6fDgjAEHXiUaykgVcKnhtvn90vdkTNVY+9QGc40xzXVqRVXmjPc9019YhnhpqQM11vJ7b1E\n",
       "jT/LXd0gBx6kTb4NcgRnApdFLMaUQ85t3Pv7SrTshNFem/rtcMucH52p9th6zg7mveWGUQpgETC/\n",
       "6Y3GAcbBptMNo4LelTkG8ec70lJITK3/sidkRAcawfUBrueyv089d1zCXyKcT3qvInzIfXEngcob\n",
       "epeoMcOsMCU9iR6vTFXyszBMPc2heqq0BQEDTo6D5bX3jfZD9ecxsr9s4+VyYTGxzMjKTfzH/7Ks\n",
       "flrhv3k+ina/xamojktFHvgXKphGXYOW+mtBHGzu1IWnB6Y0DZhdqVOigWvSCmAE3xIYNQTf+Ab6\n",
       "EBvEPx+dQC/qO9gmJdCONcqH89aQaylvFh2x7w16Hu/Wlsxuonhl8rhN9zvCw8gQxsT1NZXQYz6n\n",
       "LBRubbupiRanKY7gBFDxxY+U5K9THH6dlCQrRYfU9ByfGbsdPXrU8e7Fx1L/k4YdOq7Y/eZfPJET\n",
       "vxNGEAReXT2+W9LAEX6FhycsuSMnYyWUhR0JF/sYT55Dq7n/JL9qF9idtB4/he9Z2Qzu0vysQJZN\n",
       "Md0mZo/Nn0mhevwuPDkws+qblT0SCGgOyb+oaG8bQL6sGVp27sCNcjW7anC2FnXOkZ7FhLe9YV5s\n",
       "hBQvVKJaFEcg2jkYEj8PqsjzVOv63P7i9EevJMVAvooxR4QAFgYRNc7njacfby/cJw7YnCm6fgbT\n",
       "ftrbmqFwCB2ihocgdjWiIR1Hw9LJQlSZlffRZ1XDObd0dY7E9JeYeeldLcLhSYU3LPAKK55xMBuz\n",
       "+V9zBLBAZGK4Vbhn4xAU+eKPkZkP0PZ8XJ2z0XxESf38HjZUnuDtWEY1Zmg5YjIrJNAB8vh4xtIQ\n",
       "g0GfAo7Ptla5nj3+ZMLj8MJq9nPR/DMz2ohWWDAOpNxTIBGDL1T4L0uHG9DMG0uxA12thvmy8CQA\n",
       "LJFERsA4RAaFDG05kHEXKl2HmoGsX/mlTBPIVJjvckMgsSmQjyX07vKlbyht1EZiw42Ycaijmml3\n",
       "Xab09bY0Ah7ugyKUS/BtIyqlRz8aOmymBNz2n5UOyvLGY2S0bPTDQU3v9M+IPZ5+63LvlifCMWw+\n",
       "sQ76CUVsVWihI5CfA0cs8wMiQukBDasGfAp0ZaVG1D5j3bIC0BzmZ7SGRHW6U7U6qMYWLpQvYdFl\n",
       "cUoZeynyI2epohq0U6yYK1ckjZCwZBtxoyaAkmVIpGKTJbrwHAd2wxQpfzBClqDsrv5hKf3Fqnh9\n",
       "13AxvSUX9DO7jkUoQ1ZgzfDF/JJ2NAzRvAsl4T5NrZ+GZnQn0b4ZpnDprkrSfZWPcr0pD3O/bZ9o\n",
       "CSDqLStg1nWgz4Npv2GVx0lfeD4dErc8pf/HZklSR7CrEPEsbo+Tfrxyyw34zr1auZux4GBHC2Mx\n",
       "LtBesiE87nUCQMkwnZqVGy3BzkGEkUkFi+IUDO/2d2gxQnKApYAJ1rx2QRa7Ya9MpEZ+o1eM0C/C\n",
       "7rXD6goU6paLoH2gNe/tGMHzB3E2ZJDgyEoM73LHbwPBVpry2Q+cB5mc/vdIzhXCOMKr0OID7Rmc\n",
       "F7GpcoMeO7fzI1pls2Z5XB+EGvX95oZXusQPtKwVwB4WvZVB6M5ZrS19qqjxNWt9zl/HpaGAK/hu\n",
       "rRY1cCDtuUnQHCuZZx4YF8HViZMAyYqLe5Ezv7Bu6yTRUK+iO0weaFB78tOxoMsn6a5oKC7eVaNW\n",
       "Z6TFfL7vA3ljxAW6kUhUXSczA4vPhapEO+OriNrY0q2DiG6a5deZxZInmlyUCKQuJqCb6iDC1WB+\n",
       "ef6TghBQa9wVcSwbSZb2KrcGXlqm2fZg1pV1WSfuna97WriCCF+UPQBdjzua15NfLf/beLqCHw4N\n",
       "AOvfphumOMZLb2fYHHo5dW+AlEvHbIQS8BA9aeqwkbJo863ltaAxA1oWW19ib085dQ20nD+DBSGS\n",
       "XKn0SYAKrHL5HqO9Cs7WG9RC3O5FOu/kQn3PBe34Q/APdg4G16E+5b+MDnrZkP6hXSANSCKpP/zW\n",
       "vPlc2h1QzXEwSvqr+AIKbmjUzGWFwplpDAHUDUObr+yhCaqgEZRM59VdUUN0O0J4cvco7AOOF+iI\n",
       "08CSHaRBnlb0AX2k6okqelqCVSCRgajg4WbQ+A7F0X80rNiOotbU3mcpq/BJaybydg1uhCj5bOMJ\n",
       "I8c8og4J4NwMo+CYdah5L75LXfMouSicMql4RHu551zvynseNufdNVEhX73eFCYZZSfiAiPJqTiA\n",
       "7H1eIn5YHJwmd1caqxduF6iKidDeauxdB+aN3fNv/S0vFiH1lUEDNiyUTKvS2CiDQkYi/K5f69CN\n",
       "DXZxg9Q2usLO8nHu69wQUEQRtWt0nU+OuyDMYdxGpGZUe0KsOie/03HRsUBO5JjuPF6ZCI2uFXxS\n",
       "F0TS6ah6mQMx7FN+JO8vkA23/AyJJoxsocAHE8CoUWQubCeFY55GFKM7VXIlwTSNAAAL+UGbr0nh\n",
       "ClJlMCCX//61KoC8yZiASJdgyJTf/muDvb3vyH/9b+HmuwjyYPJXoqmCtk5DkdutopMr6lILY+aA\n",
       "8oOKIdyB3cl1eIBFa8wsB989oMliODVmTzfupLE2ye+cHguPiVNsN3pM3QXiK7uDyZHL5bt4kNY3\n",
       "58B7E/aaNqNTYG2QuFYwoxuD5o54uHC/VM0WVp4PiHeIw9LeIvkPOsoFnvLru40fF9dhSfV4+qLx\n",
       "8y2X3rm9f7Ilw3Z5iRarkfjlYU19AdSPZHcIDPSodmgF6rsTND69Y/p3bPa0frPANP72W1GBgEpp\n",
       "vs2l84xq7ljze7rkd3O6b4CYa8yJjj+VV0PfG/uoQ3fdRkAMiBhK0coB3aFtwMNbPHaX65pKsmwc\n",
       "sFdbE5jUeZFFbXrqR1Pdv4gDXYdYe57NsLIxIpNo1JQB+ja2hpVbsxqSfhQXCfpBaulhGjuj8MzR\n",
       "ItFW5QhXV0EPxZf+xlhkZMM3z4gymeUfpUdo2kfxPOGgdByQQYYYMT13J8WWf2BdYCp++h6UUCs3\n",
       "rLklC5kl/y4FO5AEPb6t4xOq5S884qPaIdCQchQVLcJ0Hs1HYT2JoGDymyiZ/BnVRC57mIb8qjyf\n",
       "r14waYtWx+eJBC0tdhPiHaUpNLGwGStoKm/BjAF5QgdJDLOHA0qLA0LQ66OL5AFFGVHhj1yCKk8S\n",
       "/SZNk3FWb0l2EyHaXnssNJK6LvWoH8KVUvm/H5L9il+T0k5eea3kpqTX1bKNsDJ9V2hFzP//ZwW8\n",
       "bZDELDwwZTFam73+zU1infvrPtKL2ioy7rJ7Zg2Rdb6mg/H227S3jv81TBURQD/BY3x6yiPSVs7X\n",
       "dJ3YfkllNcl05TerldIZQz8qlFI16OeSSB72mG3K1O5EIK0XsT67nK3JtKesIVfuulUPbCFg30Qm\n",
       "9NhCafoqkInSiSNgZSy7yr6Yi5hJeWl41ekaqUXmFCzG/LBZKmct2UxNysUr/E0C/7jk5mQoSNHC\n",
       "1d5MaYc3NLlOZ9TMmsLVf9udZfDJo5ad2T0vcSWgdXSVMuNTgw2DlYLmqgYse9Dp2RoV0qJ2XocV\n",
       "2TFpemnNT9/uB+SlppDiM1gPWQXOpXiAAVQqdFgCLBMcoW6J1IvE+KkQh4HHSLknGXfE++tDYTz8\n",
       "6v78Mz6GCyeUsc+ph5ZAtC/iIOEli+p8Q+4Vq/CIENK9qKPWNrd7QukxPEP+aZ2sIthTst/CtzzQ\n",
       "UzMhehHPquH2RufWt/NMcq5kdNt1QorEDvI6GCedBV2RDpxWB2rZQ9y4NLpbYroO3YCtgOnUYUYZ\n",
       "oZz1FWUn2CgaKfFIxfL/bDSHITTfJlChb/9/1t3Mv3K93R4nkPHoB8IF/9DIXGdwE7Qp0JICf+Gh\n",
       "hpLzI8t1daqTGh1R9QYE21/8uz4MjdO1TypiVdUj5bovCDSaGF23gZ61WP3jLerJ9q/Vf1ATj8pc\n",
       "cbSJUqvKTlXkKbYBtR1WUQZdz0GSRRPSYOfvRsB9xes1S44BFwumCygHeIEMDAgO3Ir28bInQziQ\n",
       "xyptLve0p0SSwuHk3TMZRNBKxVgB65f3d800vHRvF3xF8L1zi4s8hMrmu6/D9Zs5RNxlMhj3qiiW\n",
       "+52ogDskQojE9ZGGIySTf9+WtKkzplUK1Cw7LteML8OoKb5mgc+8mUcx0ajX8SvADl5QaPvjr/+3\n",
       "7tLTQQ6bZxU1em/fKWhr6vB+8ODRAnB5TBrajv2A5zAJSqutklno85M+OI6vFZAiJya2h67ytI1b\n",
       "z3FGRggU4wSR9vdjnCo2k2yEzkotEzCzzJ6u/yH2VN/KqmVVCkjWItKIVrTyd2BJQ4db2uPm6Dj5\n",
       "GjGqJ9YUcmVLUFwnzIDWhdaaIDgSx160Rs8yFBOoT+MGXmXxFrjXvQHwfaoNq/fiKNSRiJoSrt9+\n",
       "RN6Bo2f01cWRDVqe3djD/VR3z7M8NHjr1XgqL/DDbWz4ud4tE+dY7vyPcZYQXs7TEVOHHB3m/H8P\n",
       "TCvy7jApMmMgdS/gxqbQzoPukas+MZQa57f11xqpE5A4p1d1nrIZpUU8jYd/CC+NQrYnuvGKRGP3\n",
       "W1wrtMosu41/qUUlV2tfiYadrvjWbIEh5TQ1LayA7s4JaKLpc+JcJVmze2NdITlyCB2ZPlRjuPWL\n",
       "ypKQjoLYbQfqN/rjXrmeene1I5JXnu/y7nBf6mkPYtNke0BQbJk6vWz/HjrDjIz0V2OEwIGADF2G\n",
       "+F/sDckvHAXOgY75f0B1Sz71ggTGykXk2N2Ycf3W5Vt2HaTcsUs+E6VgTPNtQzWGIIkYGTi9MBYb\n",
       "SK81WYwBW2zTYG3nbPOGBkFRvGC6UA+fsJ8DkZmx1zrIHV4ifXQGok/08AsANV6ak2tNLjrJwLrM\n",
       "ZNaDbZ8+8FjG+dWZs/mQL/zKmbslKdWzN7Ax/ulSnvFAqja9bFhX5FhTgyoPphu/J199F7Ehqxgx\n",
       "exHVbKp0AzTZ49mULfl9JAlMLVucQCgPCHniXnrw0AOv93e0UdS+aoovhTRYPNyFCsGd4DVIRzWg\n",
       "vh4cuTOly0PXzvHD+zsZqX441V0EY0ABLdmghQJFUYKfSFX5pUKwRHMmHAlDQz7rZf/Y28IWCpLk\n",
       "rz9dc8sTFakAvOTF87YIXS7LQFLP4FCq/cYfciGoxPSivw98NgD4Q4SEOMwpI9FRtoIQfDN1K3SU\n",
       "faFgZhx6G1/vWquiRRqMkoc1XTX8lMwmUR2QudHToPgZ2BZV62Y0NXO8IN6jgbkCbJET2Csrm509\n",
       "Y35dC5xPzRDdvUTwq4W8fx4UzPl8MIRoypMi9Ug/D5sTOoCMMcgy8XwK3mc3egfMZqddJa1p0ZdK\n",
       "c6WTmYRLCojCPgCgF1LtML0joTnIYA4v2nS+08VKKqirdEz9vbiD6JvAMmKfuRqrrxUgB8Yo6AVX\n",
       "7ZMX6RKkxjeuXIgIOH2o0ivfQGxZbL3QNP/v8+x2KTGupI0BjvcZ5g9ofWQfh4Ez3B/6psve22Fj\n",
       "haEADL3aw2dQMCmkqbDBgzqwSK54qALE5Xd0+mR+vECCuvItWgWYdaayL1bBRFZiFYyCK0QtiSL7\n",
       "tZjqxI3pa/kEQt8k9xHR+T3K6az78Ao0vqOC0hsbYnq6aaQOkxmkI2dh8E3jGfX4SxHN+rphH1OW\n",
       "2BxiAblweNQYlQk5wWpQjXy4g/di19cv+5q+rMB/Kf4SUm/8lR9RlC0qKd9SW25j34qSIYB28hV9\n",
       "IlKG4/GD28/gXmhOyBZExJVn8EUmQuQzFMkuuQd/PsW6Ruhw5BteNPnwBdxPLZNBDuvNrWYsSTbH\n",
       "pKCS8aSOiABWOkYbKQ1u78bvibj3USqimiZ/pruw3HxE89VfNJhA26sya2vROWWuJdRMEH5p+fP7\n",
       "kjBoLFVNwTkQfQzQFK46hc9wF3TA9wN6wvIUtepJ9fq2WVSXN3RvRKx98gttwi+q0UwmklwLqwGX\n",
       "aH6kzG6EQvMX/CAbhvMA2Q9LkVw0Hb8ca0eiy/mqcwKt8xQHzhl0mpmyLooMIHZzO2Ja09LY6GUG\n",
       "I0CNK5Wa1tOGEO2tow+5cw7CoRfSwLAoYSnNqynj2WubpMddR2Zd3dCNkSgy7ZsfFlVzztbk7T+h\n",
       "Od0qsTOZLF9Eg+LipfuBCoUw6gv2MLKV9/1oNykR+JcN734LUWx8T8R0+H4VoZuUeUqnUYFC0Fr3\n",
       "DfQw2tzhOJFHwbxjCtkfzVMjfEY9QgqPO7dk5j7JsGfvgi3huf+0wOGldhTFtTQKjT1Whq774+Kq\n",
       "ywTwMkGKJLe/5uUh4HQCk9z7bjvDT64e/Fy+HFIakxL1sU6JEUf/m29RaLR+dRk9WbFTkovSTTgi\n",
       "UAOmfBcriJfLAwIkWVEmhbCvW8beABQLJJXIVtk0FYa9fDDDEIj3GIRfP+USJG1HQqUPkiPB8dr+\n",
       "a1NyNBfDrLbjjtA7WBDshyHQTtl6vEFWHnzrVctzMjtr8fn29t9koNPWqHPTf985cUDstwGWJLcG\n",
       "paEHUAGWtoGKELux/gziGY4+VZQ5nrWnlOmdDHQNEWDZ9dc1E8S8jq3b28c45EyZhFrFZbJW/8aL\n",
       "FmCxql5TJkJ3GfmyEXuIrEwSIO2YtWO4Eiq/K182+qOLjuWsZ6JbAAAAWEGfzkIf/wA/PYyKUbxD\n",
       "yQVldrUHVXyfqp53yJEYu2CqNTNupyykvolx7GAZxeacgAWKhapQacLtDhcPFSjjLphJq5nGoYCI\n",
       "4AwC1pU9CnZQr+ev3ug/k5sAAAAwAZ/taRD/AAZG6UKV694S0yiLLG41tQ7b8qGEyqIAbB4nRA98\n",
       "z3cpFh7icOQ7VtoZAAADv0Gb8EmoQWiZTAgl//61KoC8yZiASFZkJ3QMAYA/0bSH/0WQMCTShpEO\n",
       "kEmc3Eo4o3aayhAOZniZ3XvzQR/6bcMbJ4zLPIaL9VVP3CEmJgQZ2+/4tdEt5vgUzyvkq20Q+hfx\n",
       "8Be801OdaP/RThar15FdB2TmQfpMf2qUqsZL44ixmBMkYmay2RSfCAdoWMPxDB1Cs849dmWltiYh\n",
       "6rOIyN+5Dl4/+l3cV3UGNWnIOReEf6os42WqRnlbXopLujtBeQ429FMsemppy/b38MbsnD7L8lof\n",
       "z+dcuZzdvAhNfiaJtHas3phtWIuotsiLiC1orbXMy8SCvIK03cNYoGtXYUtWf+kck3ry2rjgBWzA\n",
       "ZX359ySzTXrr1Rvr9qYpuJxag00FS3J6Gn+HuAQijTEmIq2YJuMMRL/XTw77Mmz+6W1R7elXntO/\n",
       "4tYo9p051A90ZIpDKFH9QVczqLJX4XpHazVWAZ5ud+9mmnRMbYuy4Qfs9MIzmlUziELE0GTukFHY\n",
       "ES1iby++6fxW2ccQWYU2tGKxYGW5qDABpvEBt9MQBlbBQFaLrLyhPA4RXleAvy/Yn7+VxmTyDRdR\n",
       "3IHKT3eUR1UGxRGbVoVvLBJAe5iF6BNmvY0722FfXHJIJY7MuxwxPJVhbMYrTzXUo+Lt3VXdkSM0\n",
       "5ZVJio2UPYG0TargmFsLtExzSRGKBMepu/kMb2m7BxlyfBBnVkbBM7eWXmDcVaru5NDreWwGqTKF\n",
       "yY5vHqRosmFcsStxnb883VBD/93hWnfft9lfv3ASTQcV9Ottv5wfEzp0MNiWO77yg1VEwukdh7kZ\n",
       "z/HL6ojiHEnve4X6cSiAfus4AvcGF+1pjRvxiLf4aFe1nA2FzpyEoUGpPVYlDIYKgldg7uO1lnCH\n",
       "0ZFHGZnDIBV6dyp2XjjQ5IxiXQ1EIImdkJdZ0/dc0aptDAom/olUTh8u70t38FteMDdI2Yq5Mlwv\n",
       "34oay/tegXJlxNxgAhYaPOFq3XH8NeM0Fi7rzFvQhN09KZHzWn7iRlC6rr6yLeYUsQxI3jpwzZUZ\n",
       "DB3c9JvmXPUezoGWStl/m4VEYXhcAoH1kuqjCc4ibk2GByfjeFDSwptw5M1X6O3F00tle3J3mdai\n",
       "RyiVwOyWYPWqODVVafOKub2MWtdp6kmawzloBOfk+wQS29717A5B44nHvzo91RqrP9ZMYQ/Bplpv\n",
       "GslyUjvb/3bcLuw8/swY+eOusgTOTnB4bOEWEjok0pItDwDVN4ar2NHkejq5CDKHINFNX/0HbMfo\n",
       "eyXcNoDUAAAHGUGaEUnhClJlMCCf//61KoCCxP/yEYiAFhMVOUa6fHeldpZHOln3sOkK+34ny+sN\n",
       "wqbyfv5q3ysBOg1Pe83/DjvF2Gs7JZyTv0Q16qHu/By+V58fzwyDZPNEySxT33IogAdQ7P3OY3mk\n",
       "bWeiu0lzNqjCF5zJ9DVZD5ec+GYPS3I8jiJStp0GpmjxfHNFAKusWXAyJAa9clLpsa38uD/wVlor\n",
       "ujhSCsDM8RYeEkhfWV7cigKgU85L6M/8RFk9mnjDT7A+Ntz++lN949Avjfe5PphSLZcZ5vlU2EZ/\n",
       "aE5tntjCOUPpNTyFdgnp+8AuL2y+0FQpbuzUbQRR6W2SclLIXFp4UNiPxSMaWd+8l8f3W5qjnigs\n",
       "XLAHQvW2RHhUyAVATl3CLeAVTWBhkbymYhMANY8PVl00eznDRaiIXE1Kihg+aEcN8a5maY+/10DP\n",
       "B0+SKBorGH5/Nl77cs5nOwshg0+SQcNMi4Fl1VxHRosdhxfLyb0gYNVjWwN9uUaBwG5FvWZFkzU8\n",
       "4RZhHqaluImMJ5aqpbIDnhMwqvkayK/JAAwHVsXaPq/FY9Wz/50NV26q5f+ENl+6GJ8wh/6xbi5r\n",
       "tvhXg1XbSWK8a1Iq5ZMbe5VGtvnXgQkJzPdJlZm4y3ubwvNmHwzHZjG7c32B98I/WGlwtq1unjxc\n",
       "gczdmqNNulDlH9Lpywccty9rpHyIvQEAOTzw6tqOMbylsqQxeknFEi7SrC9zZU2/vEKjv2UgXukc\n",
       "5TJTaM8w5z5GeqWUE4bTQkTTY0uHA+r83tMzlcSkYUIvGEA1EEjwoR5nGAr5fg4gHGLtenw5LK9J\n",
       "m+wlykIS9UGu3D8d/l3ibt31bdNclZzwJaWwvghmLzrJ0EUE5eNDVboHRBrGjKANrCy29OVThKg0\n",
       "0uuRuD59diPlaMNe3UOmKHYCOkU0Z0ixGwuQXxRIdcSH0TbvqU4VbdzhpM+wlEdKgsDQMBevWXw8\n",
       "pu0DJFze76FXlL/EgqBYJ6f6Fv6rF9h+IwrtkH/B/oNMFUTjLPI9HSOETausm+7+FuIX5WBAVeDr\n",
       "63eNpASkKK8Hc9rfXuDaASvMnvkjJ2Z+fSNJ2EeZyOFwG9UPzptQwgqH6nh08MhxrdCzG46YODxq\n",
       "xXzcopA+WCt/BhVHT3DmSZ4BQb+ZRpj3tLOKR7g/iixEu0B4ZgGkwMob34CrnHBUa0hcVFSTd0kt\n",
       "qizr5gn8HNeMUwVkmfwfDk/CPitjpPck3CJ8BshRWRBbfnlslx3j+ibPdusg7hfqCN6Ipfr1Qodg\n",
       "QXiolIkQrSuWip/tqB5wwDrb8s28zRZ6CVvXggNWdumGWzoDEcxEATnPKegzR2IVyOl1LTHccfud\n",
       "yF3xThiQHhfY4c7P6h6GPZNwW2w8nFDpBzacuDTrKjTa2RZMexSixiOSUWVld2+Kp4trh8NmJB9y\n",
       "kDcybmhHbrfckJfHm/6cGrKYsVcOwF4TmOyZSNJ/eDrbwnANRRtdvxcNJscqWgw9D4nUpJIHhbOT\n",
       "OkHJrqGwNZcWRzZaVE34jjfJsRDsnx6DEvxg/qQmKYNKr12V69iv25MenbH7OQUdjShSIKbSFDZ6\n",
       "Fb63k08Cvoj1/g+XPXTLDMx47C9EP4qr03FsQ+TPewZVdn19UHAI2KOGN4shskDqMDO24DZE4NKc\n",
       "NyFCMYs7f6giQRaHwmSoBGxeJa5v22KGVmfQd6eJVNo2m/rRtCsZfRppnUYYFve2pLttCMBTCHXI\n",
       "M6p69IfVml7ZhZhuFoZDOAC/EaFqcgNqqQ71b7q7WCOcGpeEnPzrrgynXp0d1vqUwuO6Rg30G58H\n",
       "Om6YCwWIEHQQ90sU1mUKsovQWdvZsF0ekzZomMagqrCAMTGNOwUpBzBJYj+HlkOxn4pH8zWhjRXe\n",
       "RF/K1Il6iAv3j1DT9u+jDIzw7G7mM+R7bPrnXQ0Age6NsWXTC90kt5WJDgN/qXDHcggQmVdgx097\n",
       "Z6Bv+Rr0/YqP1l+GHGcFdTfbCPwqVBmJLsnh5sfKkFmuxf8lXnMdKNnvPEjrYLczOeD4RK9rrSva\n",
       "Nz+8gsBFTu1KlaTALr82zN7DnLLPM3Hzi9wfM2xIwhkmgiGOQSLaCTZVpJIUfgQkYP4YqJODOPzJ\n",
       "Q9z6R4Vob7c4ajN7HVB5V3cXvU4mgXFO3yLBxxWWKNuB5m1DbhctuVi6k0DEKpYdxptl6IffTU4h\n",
       "LYuIrLdbjMcB+4qGOSGewAjOOSPvw7vHYgn7kfxbv8pzupCSTGbKyaG2vt2p25HSRS7C2LHBf4WF\n",
       "Nkapc4U5YlnWOWRr8JFKd3F8cGLGd+z+ud2Ymq5zho/BitXgMzpUs/74AY9XgccQQnd/6zs50aUx\n",
       "LEn8r6Q/RIZ+h5rZkZZTX/mUNOeHcE7oKayTMbRUCeQdLdUuadKnw214N/Yuyn13sBSPq4ovhQlZ\n",
       "a+QUAAADiEGaMknhDomUwIJ//rUqgBbEWHiyTgAGbXqnvDMiGPLLNqp0Gj78k0vgjTLO+uBehwYu\n",
       "ztmzvklciw3rbGj6pu0FuxeMFnYDv/AmegciurNtYgWlWxXP2iSL4Ccp2XING4IqDDDNc905EOxi\n",
       "07XkihjD8GrKTuvv3zqNvyHSeWNkVgcmt3R3wpSGWCD5l/Ppgi/f9QTniSIjRpEDdPSzqs5LsQIC\n",
       "KcO5PNqfIzi19blM7/r2ZtvNvEG1JqYA/OA6uq/8A5iQxTil/RmlQGWAPrqzvso5xWPXU9GRri/y\n",
       "62wOUa8O5qUQAL3UmrnkJ1HHAMetZfxwjyZjpUA7Es8LyHExIl/J77YSqVc8tASlq+wAfiOdtL/V\n",
       "jQ5TPFDH4A92EVymSXDfnZlREx5cur5DWFnF0BguxdbiceTzeTj4Jo5dcX/2VjKM8Nt+SxfgJXUN\n",
       "+f65JE5x5gXVZ14MDnZ4fYHSno+9ECH7K57fsEtTHDSbCZxPbezOHRoAYqLAuxRmpQrDyLi7kop8\n",
       "QGdj+fkD3iO7gVxSoaGW3I0sG+7nJwenXCLySX75ImMhEiB03cnp8dRNlyJj7wSIzX8rUZR55w07\n",
       "46/R1DR+iTPvBQ3kjr2mYaWGFmDCbrCVJ/fX1Pxuc+F3PMwfkSaNM8A1I90XbMawslsqWQOsqmJS\n",
       "TsApot52KGK5efKHaP6LXqoaP2+6q+JWeb6kn2uMova1RJymUAe3SK/I4YIEzi7CGgPOfOvZEkUE\n",
       "o1YCNW2WvpHlyZT+y+M1MFOBtO5VbN35Ey1xWxpcKeHcdob5nA7/d8E7tjfFyyAACYWu808oJv3X\n",
       "v7SKTaLb78FtcvBPpuVu4N0VoGjbgJQR8pZyaAw203e+c78Stzr03BbdPT9ma5uxb8CwNjLw4rqw\n",
       "ZpLE0ID51+1bltkWVLEtYt52roCPVqCkRSSvNV5pLjc2y3nKgtI9BNxPstfuHnQisbw7MXxfap3/\n",
       "2GnJDutww4iTgi5WskZNQnOTSeTLSmOZ6ISS/fGo23McEhr3LcNN5wJxrDy8KYk1kyvEI9wYY1A2\n",
       "JnmNMaqFg3AOixkZDw/n0q/HW8OpV2KInBwwyJrCjn92pC8MQ5aMwnXrwMfxj3msU75KVGynW+4Y\n",
       "lw+d/IhArNYKlhgAiqLU72Dv5XXHkqjvQz1HeRcTmV7fLZrq7UrEy5GMVVhHJbcLy57ScXu9CgkA\n",
       "AAxDQZpWSeEPJlMCCf/+tSqAFL2j4ABxePJ4w+hHcEwkSczoZy6tYkPrQZhC+SxVo7Azmpm0IYJi\n",
       "RRG4EOdghnWz9l8I/b9LuT2fe+aGbI9fLM9jol22uEl1vdAHcBnv5oUIoQuShCUQ3//FjDa1OZFZ\n",
       "eG+mB//mtz6BXAB5CvVlrC9oVgqE91vPHafKrPd/fyH8AYn//WfxD2mA07bMUy/FxvYpWrbKoAIl\n",
       "faaXOADPQ3c63k5D6ni1trvmnl8UfUBmb27Ik9na5KJoeFKbdZeFBWp1yp9ztPUkiKTmLr2V8AIw\n",
       "/NFOZ97TCY8y90ZMw6TUXQKBzjxOxSMf0jvBUkpmKAJUrUmQCYZuF9R8GmW0+qp05PZ8Sl+E9T7g\n",
       "3X9Icuze2+68Zq3fAOJS491eqfCtPBOeLUH5GLXGRzv6lyIEvhACO7b7SiDpm+GeePe7WoeJMb1Q\n",
       "GFmsCAwZvsgZU6V2v6GS4K1uroxcs358QLstCknoQpJgp1IFxlKL2d2TElCdxIaOh/zbweboEGWc\n",
       "CsnXmrvLzK7WaigI41hMZRHy5it1qGKd7jyxAZg4yA5mdj6x0tyaHAPVVylSdfmljEFhJ0id8jN6\n",
       "pQB194nr6VisbjDQ79HoukZWEypAo9k06BBd/qeoFe5b9VVN7nrrDzDweigfIV8bmKHE7dTi9cbO\n",
       "uv9Mo1vPcXbNkQ78Oj2SQJ5J3s4nQjgMJZkvlNTMPyVuEhpZAgUnLTohiGu9wPHcVVBhh5FviZVK\n",
       "BZv+sEuhMMH3DL0h2RHSUgHLV5t9cyIiSF2Hjb6YE01G1TMtr40gLOFnu3JVJx8cJHybvYK+H6aU\n",
       "893J7SwZP/cKKP2pxCno0PsD8n8IC+azX3s8SYhg5bWfFN95B/j49k3KRHCt1uLofmhJ+yWs1+xt\n",
       "tuJYE6bx/xD89Wi6uX6DhiJw+XO5trFDgLFsN198KO5hTnqCy+LGToSAWqDMFrDw8FyePTws1F5j\n",
       "4G2vmdveLiHQDvNDoyDeatGMGK9EHIfan/DL4pnh0g3MmgnPqcNi6Wr45XSa+4EYw1Q/LXtVtAYF\n",
       "jmhmB/5vzii450kQJZHTHZPoGyztFnru5BVfgxcCebxjkqFIpa3plAqCa52Z9pv5XErG+qrQflfl\n",
       "lKmnPqEQe3SKTENT1RZKmJR6IFRZOe1yy8Q8CJRv+2OGSmbWskAuh9IW4yKPEdJIf/34Tc40Rpch\n",
       "bOg7CoA1RBxFT3gvU7RkzJcpCaJyyTALsGcp9otoV4scNHCHOp3kIRDdNEVXUr63mfEi0BaVuNxU\n",
       "Fyz4Vonb5AWeKs/L8AZwNoyOT4Xr6u2tdby5vTpR0enef88S7UBbsOvdfh9ArPRCfjWaXmP49kOU\n",
       "Cskgmhe4PoSZXSG8bioX2eVTUikUlk5uM0ME/O0Odi3sK/S3nnbyZteISynHDdkBB2DUjyrpq7lf\n",
       "drkjW2cSbzL1Yd4brpbVNZ2SflLXdoppevoO30xfMB/IXtfE3veo9skLFwDOTriprUUzORxoOOtC\n",
       "sI6th8Mlri/SIqgAwJgjiDayx1QwY6GsZ0OAGzM/fOEJ8sqXjfp5KwGkI3U9O2DD2fEQYdDre0VP\n",
       "O4oqGouv1A7HPn+Y0Y/aAjx2VCtas2HSMXcQ5ex7UVJ9v8dgYbb6LYps4EnSOao2FV1ZP/Cxt43+\n",
       "+1ZrGhWS8mQ+aKlkdQHEClaWDUvI0AKu/3CB4nQ3dq2RdketIRDt8RrZS+aNKYBkuFWk7qJjM0ET\n",
       "dId2ceNmp6dqmnIItKutSz9iJdLmajUqKxgt88uKCD0DWxH3vOT8DYlZfljO4VXGEwT2wMTuKgdJ\n",
       "/zh/1JbDm8P6fmXMiU3nhgr3fEiC8uEeHkIj62wTbRbolcNkqLECx4DSS86RloTqRus0glVEXvSg\n",
       "hOjc7V1OjS3A0X6pqJ+f3/GXnC/VUp5FM31Vfq4ILXGQ8ap0C3d+Hju8+zBCXKp2Z6KPnixMD5L+\n",
       "C6/Ze3vwfBPXsT7bs68b3ek7A4cV0Iv/rnjYJQUak4mYCFY89dFLFszObd8HvO6sFNCL6jwqisIW\n",
       "53dzQ3UXOseMeQMDTHYw9Zukuh005o6YSz3UBX87R4YnfpQqSQMjwOkakIm98tLmx5EhMa5nYGbR\n",
       "xaturJPyvx35WzRZYlmgFusJWKzfF3EzKQHHl72DKcoVoU9xx3FfDizYmHX2mycJBfdkMiOgl9CE\n",
       "TqOmJabMbB6Fwdgh5xnstGOuR82bpNLttjVISdcZpym+qYnhLI0owq/PDeVLCtpaCfo/5P7JXzU8\n",
       "CBiol7GdEbMrdiQYgOxYbWA3l2HTTsXNgMhHz0bknuABqj9XZe0CEZhzN12mfy5Knh3RGouSunCS\n",
       "ruoW4e1XkS2iFjvQgnshyYypuJNGo9U+ECybgRw49voUIZIxU6uJThU1YXC6ANyTnvxelqhHk3SJ\n",
       "6SMBSwC0oqFDnhIOKdC3DJea1b9bFyXob0rg08x1MQsp8t5if5a02+JpVkV4A0Lzunw5WHD+zXqm\n",
       "BVWn7pxuBRtWiqUwPTuQkpBohbfVI41El1TzEQV7/YEA75RciWv4CY2lZUhcJA+cCYAXB31X6QNE\n",
       "cP2gOg07NRGkrlvpVrNucgHB7lQY8NI/4vp4nHsNSPM80+hyx8075t9xcC3B5qEBia0f8SheZ0yd\n",
       "goU/IEsm2el4/GXX6j5J/B7j87WYz/DZQ1mMQ/BltYpzLxQbcbB0rST6WWnYz8zCmJtrl9ShsFfN\n",
       "t0irT0+22G4giiGxuLi64kmCCYMxEVd6tqY2fiERIC4yfvWzP4vu3E/oVtNptbFH9QpCryxlkMHq\n",
       "jUUCx3N7fs/D/Lyf6J0Ms038kNrBgoFy+eqJI3zlCykYNl+x7oCQYD1jRZpZM3sffxt8yenbL/RA\n",
       "8pQWrVG6UIrded42WhRKkOGMssCG1M1dUvx1l0MS6UXcXNoO9jExFL0fHTdcx5aSKp3TV5TQT5xS\n",
       "meKYbWlZyQAb0/7FsJwPCk7F7zTChVukpMddorb44bYAw0o2l34agFhNO8ps17J24i9MXuiVbHBM\n",
       "XR7G8aLrYLkSAEzIzy9uJj98Mw1/DfegeJ6HZ0gnNA8sucta7zSgfINWxZcneTaFaCcQjY2InQP5\n",
       "tCTx4RRknz8HM4L09F+YQc6uh5SQZrEU+fEcfDK0G2QY+gCTv7XTeV3VnDGKMu821BrlOL8WIIaO\n",
       "ci62m8OVKr3XA8FUG6gtRLzCV1ppDuMRGpRsuCLZ+8LCjreYcSVgaJ6BgWMh+mBj3UPXNgykqVvz\n",
       "Fg28o9VwFDalSa505987FICW8H8tAtNc2a6OYHw26ufKbZtx0Uu5z3gu/AhlzUeNL/aqhNtKslJ+\n",
       "SPgr6oAhgpnj/jtEEPu7Bc/HYK8jp8VrFXz0cuALH9PCrKH5ZyReur+Gq+ydifsRsz1BfrOXQt4d\n",
       "1HS9Epp7gCpBxbKvzMTm72EdP3QPOgW6mpQQo6391N8bVPVkEadKN+eD+BZxOPT/bTyWl1J6M5UH\n",
       "wHPx4hpG8QQkyl2f4vjQ5A5y+Njp48soxkXO/LxxGKA1kt7WHrRh4TblDx0rHY7BVIQGZD5jjLLj\n",
       "jUg46pzQcUeoeAGO0SEbtkmLvylO3+hgds+dDvwbxMcPgvPVOtgn0+L+zegBWWnOorMaww4x4GhN\n",
       "PvWd4B20hxqypJw1H5prt7yYLNeZivkBDMe4zHWQgOfQRuwfIq3sjhMRh3faumbCwQhheLl/WMUT\n",
       "XW2vtRVETQnuBOpRWvcVtC/3FyXrVq0yLgPXP0RQdbMW7jJaNTi8yXhX2rvNHdn6fS2ierxhaFWJ\n",
       "DOFDOjL/ALQm7pMbLNZURhNfkS4IMljra3Jk3Iss8jGl0VmPV32jkrBLmpYPWBl7CsgbYX5CtEvx\n",
       "uPOfNvlwiey0Xez+vfO6uTEsI2QrJjPAUJ/561YTcyMToXDahPy7CIb/Igv+E5PcB3yFSiPkT8zO\n",
       "BHWlovKw+NlqUkGokBUcEZSqcmy2gnpjYB90Yk2R8AmcaeVBrqozGz7GrOPmao420WMk//0/YoyP\n",
       "vAfwix7JIfb0w3hO45gM6Uorb3CSQfdfWd4JdSGaD/nJYfseGN0ktxjbzTq7pF2fGWs17dZWQz2K\n",
       "XM5nX95Q555yJTaMMoQe8RkRkrbaUOcHpBJtBTryMwVSfUcnSWseCTSsyUCnUYbPGj58GId6cjlf\n",
       "+TRXPWwaQAAAAGxBnnRFETwQ/wANLQ6ZPUPuC9Q6n18Wxqag18EyPrzp+UJMClkqW4Apj7EentdB\n",
       "7NKPvr5UI+/YAK6rwLRbf1VRJEAPRbupUBxfxunOmYvVrpJUtdWRTxVxbmSmwctkcb8ydMv6Hjzm\n",
       "XSxfDaAAAABSAZ6TdEP/ABz69mM9bsIAqhLKm6y9pVAhQguII+fCmo9y4qKaZCWtajhM6vAAW0n/\n",
       "86b9H8S5C0CQ1TlmLvwmmJiRZ0dXxopq7BmeoM5HyD9NzwAAACUBnpVqQ/8ABkfHhBD1ix2peLqA\n",
       "D35sRjQ0UYda9fkAKUIP0JBAAAACUEGamkmoQWiZTAgn//61KoALNgRyBogBxi+Ku3QtSYDTSHLS\n",
       "YcIb9WADcsTwqhE4bm0rKq8UiOJHMErMuBHcxlAMs386svAipimK0D7tm/+DeylLZUJ6KN/gl/Lh\n",
       "9sqq/jhyue1/SBL5ttxBqbUb2DhJ8fmUP8wdgl+lyswxnAXEAM+Tbr948eYOiit11AttbSUbQGX5\n",
       "RV/v6oftP3Te1qfffimuk+VJrXFhfYYx8I2ip222Kjq4JaN7ljYxV//2Uo8oi1LpR1m/8yEIE2br\n",
       "uMKvVBaVpIcrEIaIpqDi+O0madSJgadt2ahlzdGFOJqIj7TTa2fyktsX/soM6jr5+9jhdXbLsHvx\n",
       "r7MjHzH4ou89SU2HtLBIemZNYfP0jlp48t5lPRJ+tiKPg1lZKQnqaWZ9lGwKyxK/gGkxgBl3lV36\n",
       "69zKmCpDFQ0Ivsa5Oy/OV2425rQ/QOSTotATlGpCMyVZlfIpUhzOR6q3n4453P7cQy9+fwah93/d\n",
       "Da8NLpyjZ8/EZ8ftQCJWW2E2CBBWoact0rdweUJuRfP1fODS6hgk9ljrsGphcGlDI0tEdnqrguyn\n",
       "rFziYe3tAjXpshrJUR4QzqOwBeUog3IehCuTgjB35vRBTZIW9l6l8Z+W2X/6Zg3TSyAP9qnsX03h\n",
       "9uSToM5YaWFcz3J5v9L1apHO9UKICalfBGwCDaP2QJjUA4Ggwfe1DVKibKnPT7MOsM1HdnCzPjvP\n",
       "ISXJW352Y5YyMR9z0Waeg4vaE0kI9ImAGOUUe1M0bT+3tjxv0lHRarPYOxkAAAAwQZ64RREsEP8A\n",
       "Dc39Y1wiZWyfn91umTccGHG5aAnQmhgOS3GbBszewBQI3cKC+axLAAAAGgGe13RD/wAGRulTMm80\n",
       "BSOSe1LrpvsIlDSgAAAAHwGe2WpD/wAeXsZFjQ4ZzD2qCG5GMzKEzzdchf40ASsAAAD4QZreSahB\n",
       "bJlMCCX//rUqgBbnO9osXIAEzcAtz2vVNOp90PeI36WKy6UvIZCmkSWJP0LX3Ky2ImuilyCOhK5t\n",
       "mQRU7UhSjRP0dRlZiv5wEJ9FHQIZ0jzEZ2jQdQWsdgiLGmdT2fSp08ZdC3fwQ9sE+fYmxhRrVNt0\n",
       "Hl1rCWfyAOnZC+5rJgIJUA4gYZ/9ddZPLyRUkIfWZ+JhykrEgIgypWzpNRTT8HR5lO+GktfYsF2Q\n",
       "gEPU8Mll57+OjofWDZtzm2uTefwj6ll+/OZt1M9D7BUlUf6ysdytudPT0fnKYMFpasP9ukbG9jJ2\n",
       "39VVVDlgVehQqcsF3UAAAAAwQZ78RRUsEP8AG3oTlAFyvzNQwe7gmKIwFXnC04XU/+VDpikwBtYa\n",
       "9fAT5bbZhOV1AAAAHQGfG3RD/wA8dfHUg7ZprvONcbR9CwQQ4wZsZ+KBAAAAGwGfHWpD/wANfmjo\n",
       "epf132roqqoz5X9bo2YycAAAAWdBmwJJqEFsmUwIIf/+qlUAyYiI9c2oMp2hFF9T9YN+GhaiEd0g\n",
       "kgBtx4GrX8EQmvtSNqNhqs33nXycl6fbqFLgvKmg66J/npFGP/2tyFrTjMalSD9DD3kMCoT13vun\n",
       "RgMEtCHYyz8gLQxJitLi0tLpn3ymUIJhZTT13sRrwdV2Hb5tqDs/30NFdJ0M6olBcSwoygLbhCp/\n",
       "QmxK1O9jL6VldajrsEECFQldSSKJoPEb98EGwKrvvlyVW0JjpOrhv65tqT7JSDj7DvUk7jK+8tT1\n",
       "JQgrC8KGHFvBJmwbEuu4/+U2z1r54oRHhn/P4m4GSfSbXiN8bfkICyf/fSS/FtCHiDqEKuRdKOG6\n",
       "k6yMZ4ZaVyaJBLr2T7671+uvI7DBPutuzsvg5QSgcIY+eNZlJcp8+utwazsgnQQrtNOO7ii17qqL\n",
       "nTgIAJczB2aStjBROlkQdZm+kfiIAn6TtBnKiqvmG+RglKI/+AAAADRBnyBFFSwQ/wA4R7hN3a9h\n",
       "PpcqnB7v672xqag17vQhIiM/ut3+xCJUiwW1Voi8wtTgrH0xAAAAGgGfX3RD/wB4HRhBydSrGY7M\n",
       "6zYsPS9lyLKAAAAAHwGfQWpD/wAO12Miv6bZcLWKzDWEnITLYGI2FbjtBbsAAAAyQZtDSahBbJlM\n",
       "CH///qmWCW13FogBKG5ia1ZxvKN6t3EcJ3hRmu3/trDxZTIXHH8AN+AAAAe+bW9vdgAAAGxtdmhk\n",
       "AAAAAAAAAAAAAAAAAAAD6AAATiAAAQAAAQAAAAAAAAAAAAAAAAEAAAAAAAAAAAAAAAAAAAABAAAA\n",
       "AAAAAAAAAAAAAABAAAAAAAAAAAAAAAAAAAAAAAAAAAAAAAAAAAAAAAAAAgAABuh0cmFrAAAAXHRr\n",
       "aGQAAAADAAAAAAAAAAAAAAABAAAAAAAATiAAAAAAAAAAAAAAAAAAAAAAAAEAAAAAAAAAAAAAAAAA\n",
       "AAABAAAAAAAAAAAAAAAAAABAAAAAAbAAAAEgAAAAAAAkZWR0cwAAABxlbHN0AAAAAAAAAAEAAE4g\n",
       "AAAQAAABAAAAAAZgbWRpYQAAACBtZGhkAAAAAAAAAAAAAAAAAAAoAAADIABVxAAAAAAALWhkbHIA\n",
       "AAAAAAAAAHZpZGUAAAAAAAAAAAAAAABWaWRlb0hhbmRsZXIAAAAGC21pbmYAAAAUdm1oZAAAAAEA\n",
       "AAAAAAAAAAAAACRkaW5mAAAAHGRyZWYAAAAAAAAAAQAAAAx1cmwgAAAAAQAABctzdGJsAAAAs3N0\n",
       "c2QAAAAAAAAAAQAAAKNhdmMxAAAAAAAAAAEAAAAAAAAAAAAAAAAAAAAAAbABIABIAAAASAAAAAAA\n",
       "AAABAAAAAAAAAAAAAAAAAAAAAAAAAAAAAAAAAAAAAAAAAAAAGP//AAAAMWF2Y0MBZAAV/+EAGGdk\n",
       "ABWs2UGwloQAAAMABAAAAwAoPFi2WAEABmjr48siwAAAABx1dWlka2hA8l8kT8W6OaUbzwMj8wAA\n",
       "AAAAAAAYc3R0cwAAAAAAAAABAAAAZAAACAAAAAAUc3RzcwAAAAAAAAABAAAAAQAAAxBjdHRzAAAA\n",
       "AAAAAGAAAAACAAAQAAAAAAEAACgAAAAAAQAAEAAAAAABAAAAAAAAAAEAAAgAAAAAAQAAKAAAAAAB\n",
       "AAAQAAAAAAEAAAAAAAAAAQAACAAAAAABAAAQAAAAAAEAACAAAAAAAQAAEAAAAAABAAAAAAAAAAEA\n",
       "ABAAAAAAAQAAKAAAAAABAAAQAAAAAAEAAAAAAAAAAQAACAAAAAACAAAQAAAAAAEAACgAAAAAAQAA\n",
       "EAAAAAABAAAAAAAAAAEAAAgAAAAAAQAAKAAAAAABAAAQAAAAAAEAAAAAAAAAAQAACAAAAAABAAAo\n",
       "AAAAAAEAABAAAAAAAQAAAAAAAAABAAAIAAAAAAEAACgAAAAAAQAAEAAAAAABAAAAAAAAAAEAAAgA\n",
       "AAAAAQAAKAAAAAABAAAQAAAAAAEAAAAAAAAAAQAACAAAAAABAAAoAAAAAAEAABAAAAAAAQAAAAAA\n",
       "AAABAAAIAAAAAAEAABAAAAAAAQAAKAAAAAABAAAQAAAAAAEAAAAAAAAAAQAACAAAAAABAAAoAAAA\n",
       "AAEAABAAAAAAAQAAAAAAAAABAAAIAAAAAAEAACAAAAAAAQAAEAAAAAABAAAAAAAAAAEAACgAAAAA\n",
       "AQAAEAAAAAABAAAAAAAAAAEAAAgAAAAAAQAAKAAAAAABAAAQAAAAAAEAAAAAAAAAAQAACAAAAAAB\n",
       "AAAQAAAAAAEAACgAAAAAAQAAEAAAAAABAAAAAAAAAAEAAAgAAAAAAQAAIAAAAAABAAAQAAAAAAEA\n",
       "AAAAAAAAAQAAIAAAAAABAAAQAAAAAAEAAAAAAAAAAQAAEAAAAAABAAAgAAAAAAEAABAAAAAAAQAA\n",
       "AAAAAAADAAAQAAAAAAEAACgAAAAAAQAAEAAAAAABAAAAAAAAAAEAAAgAAAAAAQAAKAAAAAABAAAQ\n",
       "AAAAAAEAAAAAAAAAAQAACAAAAAABAAAoAAAAAAEAABAAAAAAAQAAAAAAAAABAAAIAAAAAAEAACgA\n",
       "AAAAAQAAEAAAAAABAAAAAAAAAAEAAAgAAAAAAQAAEAAAAAAcc3RzYwAAAAAAAAABAAAAAQAAAGQA\n",
       "AAABAAABpHN0c3oAAAAAAAAAAAAAAGQAACSCAAAGPwAAC1oAAAD2AAAAJAAAADMAAAJCAAAANQAA\n",
       "ACEAAAAjAAAAXQAACxIAAABAAAABdAAAA8MAAAa7AAABHQAAADUAAAArAAAAdgAAEW4AAAFlAAAA\n",
       "OAAAACcAAAAhAAAJPgAAAG8AAAAzAAAAMwAABkoAAAA4AAAAIwAAACsAAAUDAAAAUQAAACEAAAAq\n",
       "AAAI/QAAAFkAAAAnAAAB3QAABM4AAABHAAAAMwAAADMAABSkAAAHTwAAAF0AAAAkAAAAMwAACWMA\n",
       "AACbAAABBgAAACUAAA2dAAABzwAAAGUAAApFAAAATAAAADEAAAAtAAAMUwAAAFsAAAAkAAAANAAA\n",
       "BzsAAAYFAAAAUQAAADQAAAA7AAADoQAAAEcAAAAqAAANawAAAHQAAAGGAAAINgAAC/0AAABcAAAA\n",
       "NAAAA8MAAAcdAAADjAAADEcAAABwAAAAVgAAACkAAAJUAAAANAAAAB4AAAAjAAAA/AAAADQAAAAh\n",
       "AAAAHwAAAWsAAAA4AAAAHgAAACMAAAA2AAAAFHN0Y28AAAAAAAAAAQAAACwAAABidWR0YQAAAFpt\n",
       "ZXRhAAAAAAAAACFoZGxyAAAAAAAAAABtZGlyYXBwbAAAAAAAAAAAAAAAAC1pbHN0AAAAJal0b28A\n",
       "AAAdZGF0YQAAAAEAAAAATGF2ZjU3LjQxLjEwMA==\n",
       "\">\n",
       "  Your browser does not support the video tag.\n",
       "</video>"
      ],
      "text/plain": [
       "<matplotlib.animation.FuncAnimation at 0x7f68b7bec710>"
      ]
     },
     "execution_count": 84,
     "metadata": {},
     "output_type": "execute_result"
    }
   ],
   "source": [
    "anim"
   ]
  },
  {
   "cell_type": "markdown",
   "metadata": {},
   "source": [
    "After a while, the pile looks pretty random.\n",
    "\n",
    "Here's a plot of the number of cells toppled after each `step`.  "
   ]
  },
  {
   "cell_type": "code",
   "execution_count": 85,
   "metadata": {
    "collapsed": false
   },
   "outputs": [
    {
     "data": {
      "image/png": "[encoded data removed]",
      "text/plain": [
       "<matplotlib.figure.Figure at 0x7f68b6b03a10>"
      ]
     },
     "metadata": {},
     "output_type": "display_data"
    }
   ],
   "source": [
    "thinkplot.plot(pile.toppled_seq)"
   ]
  },
  {
   "cell_type": "markdown",
   "metadata": {},
   "source": [
    "The following figure shows the progression of the pile from ordered to apparently random."
   ]
  },
  {
   "cell_type": "code",
   "execution_count": 86,
   "metadata": {
    "collapsed": false
   },
   "outputs": [
    {
     "name": "stdout",
     "output_type": "stream",
     "text": [
      "(332, 53336)\n"
     ]
    },
    {
     "data": {
      "image/png": "[encoded data removed]",
      "text/plain": [
       "<matplotlib.figure.Figure at 0x7f68b69b9110>"
      ]
     },
     "metadata": {},
     "output_type": "display_data"
    }
   ],
   "source": [
    "pile = SandPile(n=20, level=10)\n",
    "print(pile.run())\n",
    "viewer = SandPileViewer(pile)\n",
    "\n",
    "thinkplot.preplot(cols=3)\n",
    "viewer.draw()\n",
    "\n",
    "thinkplot.subplot(2)\n",
    "for i in range(200):\n",
    "    viewer.step()\n",
    "viewer.draw()\n",
    "\n",
    "thinkplot.subplot(3)\n",
    "for i in range(200):\n",
    "    viewer.step()\n",
    "viewer.draw()\n",
    "\n",
    "plt.savefig('chap08-1.pdf')"
   ]
  },
  {
   "cell_type": "markdown",
   "metadata": {},
   "source": [
    "## Long tailed distributions"
   ]
  },
  {
   "cell_type": "markdown",
   "metadata": {},
   "source": [
    "If the sand pile is in a critical state, we expect quantities like the duration of an avalanche, `T`, and the number of cells affected, `S`, to have long-tailed distributions.\n",
    "\n",
    "Following Bak, Tang, and Wiesenseld, we start with a 50x50 array and plot the PMFs of `S` and `T` on a log-log scale."
   ]
  },
  {
   "cell_type": "code",
   "execution_count": 87,
   "metadata": {
    "collapsed": false,
    "scrolled": true
   },
   "outputs": [
    {
     "data": {
      "image/png": "[encoded data removed]",
      "text/plain": [
       "<matplotlib.figure.Figure at 0x7f68b6b03c90>"
      ]
     },
     "metadata": {},
     "output_type": "display_data"
    }
   ],
   "source": [
    "pile2 = SandPile(n=50, level=30)\n",
    "pile2.run()\n",
    "viewer = SandPileViewer(pile2)\n",
    "viewer.draw()"
   ]
  },
  {
   "cell_type": "markdown",
   "metadata": {},
   "source": [
    "Now we run the pile for many time steps and keep track of the durations and number of cells affected."
   ]
  },
  {
   "cell_type": "code",
   "execution_count": 88,
   "metadata": {
    "collapsed": false,
    "scrolled": true
   },
   "outputs": [
    {
     "name": "stdout",
     "output_type": "stream",
     "text": [
      "CPU times: user 2min 47s, sys: 48 ms, total: 2min 47s\n",
      "Wall time: 2min 47s\n"
     ]
    }
   ],
   "source": [
    "iters = 100000\n",
    "%time res = [pile2.drop_and_run() for _ in range(iters)]"
   ]
  },
  {
   "cell_type": "markdown",
   "metadata": {},
   "source": [
    "And extract the results into two NumPy arrays."
   ]
  },
  {
   "cell_type": "code",
   "execution_count": 89,
   "metadata": {
    "collapsed": false
   },
   "outputs": [],
   "source": [
    "T, S = np.transpose(res)"
   ]
  },
  {
   "cell_type": "markdown",
   "metadata": {},
   "source": [
    "A large majority of drops have duration 1 and no toppled cells, so we'll filter those out."
   ]
  },
  {
   "cell_type": "code",
   "execution_count": 90,
   "metadata": {
    "collapsed": true
   },
   "outputs": [],
   "source": [
    "T = T[T>1]\n",
    "S = S[S>0]"
   ]
  },
  {
   "cell_type": "markdown",
   "metadata": {},
   "source": [
    "The distributions of `T` and `S` have many small values and a few very large ones.\n",
    "\n",
    "Here are the histograms on linear axes, showing only small values."
   ]
  },
  {
   "cell_type": "code",
   "execution_count": 91,
   "metadata": {
    "collapsed": false
   },
   "outputs": [
    {
     "data": {
      "image/png": "[encoded data removed]",
      "text/plain": [
       "<matplotlib.figure.Figure at 0x7f68c0463510>"
      ]
     },
     "metadata": {},
     "output_type": "display_data"
    }
   ],
   "source": [
    "thinkplot.preplot(cols=2)\n",
    "\n",
    "histT = Hist(T)\n",
    "thinkplot.Pdf(histT, label='T')\n",
    "thinkplot.config(xlabel='Avalanche duration',\n",
    "                 ylabel='Number',\n",
    "                 xlim=[1, 50], loc='upper right')\n",
    "\n",
    "thinkplot.subplot(2)\n",
    "\n",
    "histS = Hist(S)\n",
    "thinkplot.Pdf(histS, label='S')\n",
    "thinkplot.config(xlabel='Avalanche size',\n",
    "                 ylabel='Number',\n",
    "                 xlim=[1, 50])\n",
    "\n",
    "plt.savefig('chap08-2.pdf')"
   ]
  },
  {
   "cell_type": "markdown",
   "metadata": {},
   "source": [
    "To see whether these distributions follow a power law, we plot the histograms on a log-log scale."
   ]
  },
  {
   "cell_type": "code",
   "execution_count": 92,
   "metadata": {
    "collapsed": false
   },
   "outputs": [
    {
     "data": {
      "image/png": "[encoded data removed]",
      "text/plain": [
       "<matplotlib.figure.Figure at 0x7f68be1e09d0>"
      ]
     },
     "metadata": {},
     "output_type": "display_data"
    }
   ],
   "source": [
    "thinkplot.preplot(cols=2)\n",
    "\n",
    "x = 9000\n",
    "thinkplot.plot([1, x], [x, 1], color='gray', linewidth=3)\n",
    "thinkplot.Pdf(histT, label='T', linewidth=2)\n",
    "thinkplot.config(xlabel='Avalanche duration',\n",
    "                 xlim=[1, 1000],\n",
    "                 ylabel='Number',\n",
    "                 xscale='log',\n",
    "                 yscale='log',\n",
    "                 loc='upper right')\n",
    "\n",
    "thinkplot.subplot(2)\n",
    "\n",
    "x = 5700\n",
    "thinkplot.plot([1, x], [x, 1], color='gray', linewidth=3)\n",
    "thinkplot.Pdf(histS, label='S', linewidth=1)\n",
    "thinkplot.config(xlabel='Avalanche size',\n",
    "                 xlim=[1, 5600],\n",
    "                 ylabel='Number',\n",
    "                 xscale='log',\n",
    "                 yscale='log')\n",
    "\n",
    "plt.savefig('chap08-3.pdf')"
   ]
  },
  {
   "cell_type": "markdown",
   "metadata": {},
   "source": [
    "The gray line has slope -1.  The distribution of avalanche duration is approximately straight between 1 and 100, but then drops off.  The distribution of size follows a power law more closely and over a greater range, but it also seems to drop off for values above a few hundred."
   ]
  },
  {
   "cell_type": "markdown",
   "metadata": {},
   "source": [
    "**Exercise:** Try running the model longer to see if you can get a less noisy plot of the distributions of `T` and `S`."
   ]
  },
  {
   "cell_type": "markdown",
   "metadata": {},
   "source": [
    "## Fractals\n",
    "\n",
    "If the sand pile is in a critical state, we expect to see fractal geometry.\n",
    "\n",
    "To estimate the fractal dimension, I'll start with a bigger pile and a higher initial level."
   ]
  },
  {
   "cell_type": "code",
   "execution_count": 93,
   "metadata": {
    "collapsed": false
   },
   "outputs": [
    {
     "name": "stdout",
     "output_type": "stream",
     "text": [
      "CPU times: user 18.9 s, sys: 0 ns, total: 18.9 s\n",
      "Wall time: 18.9 s\n"
     ]
    },
    {
     "data": {
      "text/plain": [
       "(28379, 211320220)"
      ]
     },
     "execution_count": 93,
     "metadata": {},
     "output_type": "execute_result"
    }
   ],
   "source": [
    "pile3 = SandPile(n=131, level=22)\n",
    "%time pile3.run()"
   ]
  },
  {
   "cell_type": "markdown",
   "metadata": {},
   "source": [
    "The initial state sure looks like a fractal."
   ]
  },
  {
   "cell_type": "code",
   "execution_count": 94,
   "metadata": {
    "collapsed": false
   },
   "outputs": [
    {
     "data": {
      "image/png": "[encoded data removed]",
      "text/plain": [
       "<matplotlib.figure.Figure at 0x7f68b79ecc90>"
      ]
     },
     "metadata": {},
     "output_type": "display_data"
    }
   ],
   "source": [
    "viewer3 = SandPileViewer(pile3)\n",
    "viewer3.draw()"
   ]
  },
  {
   "cell_type": "markdown",
   "metadata": {},
   "source": [
    "Since it contains four different levels (0, 1, 2, and 3), we can extract 4 binary patterns."
   ]
  },
  {
   "cell_type": "code",
   "execution_count": 112,
   "metadata": {
    "collapsed": false
   },
   "outputs": [],
   "source": [
    "def draw_four(viewer, vals=range(4)):\n",
    "    thinkplot.preplot(rows=2, cols=2)\n",
    "    a = viewer.viewee.array\n",
    "    \n",
    "    for i, val in enumerate(vals):\n",
    "        thinkplot.subplot(i+1)\n",
    "        viewer.draw_array(a==vals[i], vmax=1)"
   ]
  },
  {
   "cell_type": "markdown",
   "metadata": {},
   "source": [
    "Here's what they look like:"
   ]
  },
  {
   "cell_type": "code",
   "execution_count": 113,
   "metadata": {
    "collapsed": false
   },
   "outputs": [
    {
     "data": {
      "image/png": "[encoded data removed]",
      "text/plain": [
       "<matplotlib.figure.Figure at 0x7f68b5e70a50>"
      ]
     },
     "metadata": {},
     "output_type": "display_data"
    }
   ],
   "source": [
    "draw_four(viewer3)\n",
    "plt.savefig('chap08-4.pdf')"
   ]
  },
  {
   "cell_type": "markdown",
   "metadata": {},
   "source": [
    "Now we can apply a box-counting algorithm to each level.\n",
    "\n",
    "`count_cells` starts with a single cell in the middle, gradually increases the size of the box, and counts the number of cells in each box."
   ]
  },
  {
   "cell_type": "code",
   "execution_count": 97,
   "metadata": {
    "collapsed": true
   },
   "outputs": [],
   "source": [
    "def count_cells(a):\n",
    "    \"\"\"Counts the number of cells in boxes with increasing size.\n",
    "    \n",
    "    a: NumPy array\n",
    "    \n",
    "    returns: list of (i, i**2, cell count) tuples\n",
    "    \"\"\"\n",
    "    n, m = a.shape\n",
    "    end = min(n, m)\n",
    "    \n",
    "    res = []\n",
    "    for i in range(1, end, 2):\n",
    "        top = (n-i) // 2\n",
    "        left = (m-i) // 2\n",
    "        box = a[top:top+i, left:left+i]\n",
    "        total = np.sum(box)\n",
    "        res.append((i, i**2, total))\n",
    "        \n",
    "    return np.transpose(res)"
   ]
  },
  {
   "cell_type": "markdown",
   "metadata": {},
   "source": [
    "`box_count` takes a pile and a value, extracts the cells that have the given value, calls `count_cells`, and estimates the fractal dimension.\n",
    "\n",
    "If `plot` is `True`, it also generates a graph of cell count versus box size on a log-log scale."
   ]
  },
  {
   "cell_type": "code",
   "execution_count": 98,
   "metadata": {
    "collapsed": true
   },
   "outputs": [],
   "source": [
    "from scipy.stats import linregress\n",
    "\n",
    "def box_count(pile, val=0, plot=False):\n",
    "    \"\"\"Estimates the fractal dimension by box counting.\n",
    "    \n",
    "    pile: SandPile\n",
    "    val: which value from the pile to count\n",
    "    plot: boolean, whether to generate a plot\n",
    "    \n",
    "    returns: estimated fractal dimension\n",
    "    \"\"\"\n",
    "    res = count_cells(pile.array==val)\n",
    "    steps, steps2, cells = res\n",
    "    \n",
    "    # select the range where we have a nonzero number of cells\n",
    "    legit = np.nonzero(cells)\n",
    "    steps = steps[legit]\n",
    "    steps2 = steps2[legit]\n",
    "    cells = cells[legit]\n",
    "\n",
    "    if plot:\n",
    "        thinkplot.preplot(3)\n",
    "        thinkplot.plot(steps, steps2, linestyle='dashed')\n",
    "        thinkplot.plot(steps, cells, label='val=%d' % val)\n",
    "        thinkplot.plot(steps, steps, linestyle='dashed')\n",
    "\n",
    "        thinkplot.config(xscale='log', yscale='log',\n",
    "                         xlim=[1, 200], loc='upper left',\n",
    "                         xlabel='box size', ylabel='cell count')\n",
    "    \n",
    "    params = linregress(np.log(steps), np.log(cells))\n",
    "    return params[0]"
   ]
  },
  {
   "cell_type": "markdown",
   "metadata": {},
   "source": [
    "Finally `box_count_four` applies the box counting algorithm for each value in the sand pile."
   ]
  },
  {
   "cell_type": "code",
   "execution_count": 99,
   "metadata": {
    "collapsed": false
   },
   "outputs": [],
   "source": [
    "def box_count_four(pile, vals=range(4)):\n",
    "    \"\"\"Applies box counting to each value in the pile.\n",
    "    \n",
    "    pile: SandPile\n",
    "    vals: list of values to check\n",
    "    \"\"\"\n",
    "    thinkplot.preplot(rows=2, cols=2)\n",
    "    \n",
    "    dims = []\n",
    "    for i, val in enumerate(vals):\n",
    "        thinkplot.subplot(i+1)\n",
    "        dim = box_count(pile, val, plot=True)\n",
    "        dims.append(dim)\n",
    "        \n",
    "    return dims"
   ]
  },
  {
   "cell_type": "markdown",
   "metadata": {},
   "source": [
    "Here are the results:"
   ]
  },
  {
   "cell_type": "code",
   "execution_count": 100,
   "metadata": {
    "collapsed": false
   },
   "outputs": [
    {
     "data": {
      "image/png": "[encoded data removed]",
      "text/plain": [
       "<matplotlib.figure.Figure at 0x7f68b6b06dd0>"
      ]
     },
     "metadata": {},
     "output_type": "display_data"
    }
   ],
   "source": [
    "dims = box_count_four(pile3)\n",
    "plt.savefig('chap08-5.pdf')"
   ]
  },
  {
   "cell_type": "markdown",
   "metadata": {},
   "source": [
    "The lines are reasonably straight, which indicates that we are running the algorithm over a valid range of box sizes.  Here are the estimated slopes:"
   ]
  },
  {
   "cell_type": "code",
   "execution_count": 101,
   "metadata": {
    "collapsed": false
   },
   "outputs": [
    {
     "name": "stdout",
     "output_type": "stream",
     "text": [
      "0  1.871\n",
      "1  3.502\n",
      "2  1.781\n",
      "3  2.084\n"
     ]
    }
   ],
   "source": [
    "for i, dim in enumerate(dims):\n",
    "    print('%d  %0.3f' % (i, dim))"
   ]
  },
  {
   "cell_type": "markdown",
   "metadata": {},
   "source": [
    "The fractal dimension for values 0, 1, and 2 seems to be clearly non-integer, which indicates that the image is fractal.\n",
    "\n",
    "Strictly, the fractal dimension for value 3 is indistinguishable from 2, but given the results for the other values, the apparent curvature of the line, and the appearance of the pattern, it seems likely that it is also fractal. "
   ]
  },
  {
   "cell_type": "markdown",
   "metadata": {},
   "source": [
    "**Exercise:**  Choose a different value of `n` and/or `level` and run this analysis again.  Are the estimated fractal dimensions consistent?"
   ]
  },
  {
   "cell_type": "markdown",
   "metadata": {},
   "source": [
    "## Spectral density"
   ]
  },
  {
   "cell_type": "markdown",
   "metadata": {},
   "source": [
    "Suppose the sandpile made a little click each time a cell toppled.  What would it sound like?\n",
    "\n",
    "`toppled_seq` contains the number of cells that toppled during each time step.  We can use Welch's algorithm to estimate its [power spectral density](https://en.wikipedia.org/wiki/Spectral_density)."
   ]
  },
  {
   "cell_type": "code",
   "execution_count": 102,
   "metadata": {
    "collapsed": false
   },
   "outputs": [
    {
     "data": {
      "text/plain": [
       "1446923"
      ]
     },
     "execution_count": 102,
     "metadata": {},
     "output_type": "execute_result"
    }
   ],
   "source": [
    "signal = pile2.toppled_seq\n",
    "len(signal)"
   ]
  },
  {
   "cell_type": "code",
   "execution_count": 103,
   "metadata": {
    "collapsed": false
   },
   "outputs": [],
   "source": [
    "from scipy.signal import welch\n",
    "\n",
    "nperseg = 2048\n",
    "freqs, powers = welch(signal, nperseg=nperseg, fs=nperseg)"
   ]
  },
  {
   "cell_type": "markdown",
   "metadata": {},
   "source": [
    "And here's what it looks like."
   ]
  },
  {
   "cell_type": "code",
   "execution_count": 104,
   "metadata": {
    "collapsed": false
   },
   "outputs": [
    {
     "data": {
      "image/png": "[encoded data removed]",
      "text/plain": [
       "<matplotlib.figure.Figure at 0x7f68bcab01d0>"
      ]
     },
     "metadata": {},
     "output_type": "display_data"
    }
   ],
   "source": [
    "x = nperseg\n",
    "ys = np.array([x**1.58, 1]) / 2.7e3\n",
    "thinkplot.plot([1, x], ys, color='gray', linewidth=1)\n",
    "\n",
    "thinkplot.plot(freqs, powers)\n",
    "thinkplot.config(xlabel='frequency', xscale='log', xlim=[1, 1200],\n",
    "                 ylabel='power', yscale='log', ylim=[1e-5, 5])\n",
    "\n",
    "plt.savefig('chap08-6.pdf')"
   ]
  },
  {
   "cell_type": "markdown",
   "metadata": {},
   "source": [
    "The slope of the line is -1.58, which indicates that this spectrum is pink noise with parameter $\\beta=1.58$."
   ]
  },
  {
   "cell_type": "markdown",
   "metadata": {},
   "source": [
    "**Exercise:**  Choose a different value of `nperseg` and run this analysis again.  What are the pros and cons of larger segment lengths?  Modify the code to run the model longer and see if you can get a less noisy estimate of the spectrum."
   ]
  },
  {
   "cell_type": "markdown",
   "metadata": {},
   "source": [
    "## Exercises"
   ]
  },
  {
   "cell_type": "markdown",
   "metadata": {},
   "source": [
    "**Exercise:** To test whether the distributions of `T` and `S` are heavy-tailed, we plotted their histograms on a log-log scale, which is what Bak, Tang and Wiesenfeld show in their paper.  But as we saw in Chapter 4, this visualization can obscure the shape of the distribution.  Using the same data, make a plot that shows the CDFs of `S` and `T`.  What can you say about the shape of these distributions?  Do they follow a power law?  Are they heavy tailed?\n",
    "\n",
    "You might find it helpful to plot the CDFs on a log-x scale and on a log-log scale."
   ]
  },
  {
   "cell_type": "code",
   "execution_count": 105,
   "metadata": {
    "collapsed": false
   },
   "outputs": [
    {
     "data": {
      "image/png": "[encoded data removed]",
      "text/plain": [
       "<matplotlib.figure.Figure at 0x7f68b7ba4b50>"
      ]
     },
     "metadata": {},
     "output_type": "display_data"
    }
   ],
   "source": [
    "T_CDF = Cdf(T)\n",
    "S_CDF = Cdf(S)\n",
    "thinkplot.Cdf(T_CDF, label='Time')\n",
    "thinkplot.Cdf(S_CDF, label='Sand')\n",
    "thinkplot.config(xlabel='Avalanche Size', xscale='log',\n",
    "                 ylabel='CCDF', yscale='log')\n",
    "\n",
    "plt.savefig('chap08-CDF.pdf')\n",
    "\n",
    "#neither T nor F follow a straight line when plotting the CDF on a loglog scale, \n",
    "#suggesting that neither follow a power law\n"
   ]
  },
  {
   "cell_type": "code",
   "execution_count": 106,
   "metadata": {
    "collapsed": false
   },
   "outputs": [],
   "source": [
    "# Solution goes here"
   ]
  },
  {
   "cell_type": "code",
   "execution_count": 107,
   "metadata": {
    "collapsed": true
   },
   "outputs": [],
   "source": [
    "# Solution goes here"
   ]
  },
  {
   "cell_type": "markdown",
   "metadata": {},
   "source": [
    "**Exercise:** In Section 8.5 we showed that the initial configuration of the sand pile model produces fractal patterns.  But after we drop a large number of random grains, the patterns look more random.\n",
    "\n",
    "Starting with the example in Section 8.5, run the sand pile model for a while and then compute fractal dimensions for each of the 4 levels.  Is the sand pile model fractal in steady state?"
   ]
  },
  {
   "cell_type": "code",
   "execution_count": 122,
   "metadata": {
    "collapsed": false
   },
   "outputs": [
    {
     "name": "stdout",
     "output_type": "stream",
     "text": [
      "level, fractal dimension\n",
      "0 2.01721873625\n",
      "1 2.23793068517\n",
      "2 1.94722295715\n",
      "3 1.91227530219\n"
     ]
    }
   ],
   "source": [
    "# from copy import deepcopy \n",
    "\n",
    "# test_copy = deepcopy(pile3)\n",
    "\n",
    "# for i in range(10000):\n",
    "#     test_copy.drop_and_run()\n",
    "    \n",
    "    \n",
    "# viewer_test = SandPileViewer(test_copy)\n",
    "# viewer_test.draw()    \n",
    "\n",
    "# draw_four(viewer_test)\n",
    "\n",
    "\n",
    "# dims = box_count_four(test_copy)\n",
    "\n",
    "\n",
    "print('level,', 'fractal dimension')\n",
    "for i, dim in enumerate(dims):\n",
    "    print(i, dim)\n"
   ]
  },
  {
   "cell_type": "code",
   "execution_count": null,
   "metadata": {
    "collapsed": false
   },
   "outputs": [],
   "source": [
    "#the fractal dimensions for all the layers appears to be 2D\n",
    "#this suggests that except for when the sand pile reaches its initial steady state, it never again reaches a fractal\n",
    "#state"
   ]
  },
  {
   "cell_type": "code",
   "execution_count": null,
   "metadata": {
    "collapsed": false
   },
   "outputs": [],
   "source": [
    "# Solution goes here"
   ]
  },
  {
   "cell_type": "code",
   "execution_count": null,
   "metadata": {
    "collapsed": false
   },
   "outputs": [],
   "source": [
    "# Solution goes here"
   ]
  },
  {
   "cell_type": "code",
   "execution_count": null,
   "metadata": {
    "collapsed": true
   },
   "outputs": [],
   "source": [
    "# Solution goes here"
   ]
  },
  {
   "cell_type": "markdown",
   "metadata": {},
   "source": [
    "**Exercise:** Another version of the sand pile model, called the \"single source\" model, starts from a different initial condition: instead of all cells at the same level, all cells are set to 0 except the center cell, which is set to a very large value.\n",
    "\n",
    "Write a function that creates a `SandPile` object, sets up the single source initial condition, and runs until the pile reaches equilibrium.  Does the results appear to be fractal?\n",
    "\n",
    "You can read more about this version of the sand pile model at http://math.cmu.edu/~wes/sandgallery.html"
   ]
  },
  {
   "cell_type": "code",
   "execution_count": null,
   "metadata": {
    "collapsed": true
   },
   "outputs": [],
   "source": [
    "\n",
    "    "
   ]
  },
  {
   "cell_type": "code",
   "execution_count": null,
   "metadata": {
    "collapsed": false
   },
   "outputs": [],
   "source": [
    "# Solution goes here"
   ]
  },
  {
   "cell_type": "code",
   "execution_count": null,
   "metadata": {
    "collapsed": false
   },
   "outputs": [],
   "source": [
    "# Solution goes here"
   ]
  },
  {
   "cell_type": "code",
   "execution_count": null,
   "metadata": {
    "collapsed": false
   },
   "outputs": [],
   "source": [
    "# Solution goes here"
   ]
  },
  {
   "cell_type": "code",
   "execution_count": null,
   "metadata": {
    "collapsed": false
   },
   "outputs": [],
   "source": [
    "# Solution goes here"
   ]
  },
  {
   "cell_type": "code",
   "execution_count": null,
   "metadata": {
    "collapsed": false
   },
   "outputs": [],
   "source": [
    "# Solution goes here"
   ]
  },
  {
   "cell_type": "code",
   "execution_count": null,
   "metadata": {
    "collapsed": true
   },
   "outputs": [],
   "source": [
    "# Solution goes here"
   ]
  }
 ],
 "metadata": {
  "kernelspec": {
   "display_name": "Python [Root]",
   "language": "python",
   "name": "Python [Root]"
  },
  "language_info": {
   "codemirror_mode": {
    "name": "ipython",
    "version": 2
   },
   "file_extension": ".py",
   "mimetype": "text/x-python",
   "name": "python",
   "nbconvert_exporter": "python",
   "pygments_lexer": "ipython2",
   "version": "2.7.12"
  }
 },
 "nbformat": 4,
 "nbformat_minor": 0
}
